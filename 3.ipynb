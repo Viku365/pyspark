{
 "cells": [
  {
   "cell_type": "code",
   "execution_count": 0,
   "metadata": {
    "application/vnd.databricks.v1+cell": {
     "cellMetadata": {
      "byteLimit": 2048000,
      "rowLimit": 10000
     },
     "inputWidgets": {},
     "nuid": "c6c667d4-0bb8-4570-9fc3-c94c3efcd6e5",
     "showTitle": false,
     "tableResultSettingsMap": {},
     "title": ""
    }
   },
   "outputs": [
    {
     "output_type": "stream",
     "name": "stdout",
     "output_type": "stream",
     "text": [
      "root\n |-- ProductID: integer (nullable = true)\n |-- Date: date (nullable = true)\n |-- Zip: string (nullable = true)\n |-- Units: integer (nullable = true)\n |-- Revenue: double (nullable = true)\n |-- Country: string (nullable = true)\n\n"
     ]
    }
   ],
   "source": [
    "from pyspark.sql import SparkSession\n",
    "\n",
    "spark = SparkSession.builder.appName(\"s8a-dataframes-api\").getOrCreate()\n",
    "# Lectura de CSV con el ; como separador de columnas y con encabezado\n",
    "df = spark.read.option(\"sep\",\";\").option(\"header\", \"true\").option(\"inferSchema\", \"true\").csv(\"/FileStore/Notebook3/pdi_sales_small.csv\")\n",
    "df.printSchema()"
   ]
  },
  {
   "cell_type": "markdown",
   "metadata": {
    "application/vnd.databricks.v1+cell": {
     "cellMetadata": {},
     "inputWidgets": {},
     "nuid": "0b7299f8-8832-49be-8da9-d11faf731be9",
     "showTitle": false,
     "tableResultSettingsMap": {},
     "title": ""
    }
   },
   "source": [
    "# Agregaciones"
   ]
  },
  {
   "cell_type": "markdown",
   "metadata": {
    "application/vnd.databricks.v1+cell": {
     "cellMetadata": {},
     "inputWidgets": {},
     "nuid": "92d037bf-259b-4874-86c3-5169170650ea",
     "showTitle": false,
     "tableResultSettingsMap": {},
     "title": ""
    }
   },
   "source": [
    "Una vez tenemos un DataFrame, podemos realizar analítica de datos sobre el dataset entero, o sobre una o más columnas y aplicar una función de agregación que permita sumar, contar o calcular la media de cualquier grupo, entre otras opciones. Para ello, PySpark ofrece un amplio [conjunto de funciones](https://spark.apache.org/docs/latest/api/python/reference/pyspark.sql.html#functions). En nuestro caso, vamos a realizar algunos ejemplos para practicar con las funciones más empleadas."
   ]
  },
  {
   "cell_type": "markdown",
   "metadata": {
    "application/vnd.databricks.v1+cell": {
     "cellMetadata": {},
     "inputWidgets": {},
     "nuid": "c9abc2b4-d03b-4842-8549-0363f681233e",
     "showTitle": false,
     "tableResultSettingsMap": {},
     "title": ""
    }
   },
   "source": [
    "## Contando"
   ]
  },
  {
   "cell_type": "markdown",
   "metadata": {
    "application/vnd.databricks.v1+cell": {
     "cellMetadata": {},
     "inputWidgets": {},
     "nuid": "856f4bb2-e560-4b9c-a919-f37b34126292",
     "showTitle": false,
     "tableResultSettingsMap": {},
     "title": ""
    }
   },
   "source": [
    "**[count](https://spark.apache.org/docs/latest/api/python/reference/pyspark.sql/api/pyspark.sql.functions.count.html)** : Devuelve la cantidad de elementos no nulos."
   ]
  },
  {
   "cell_type": "code",
   "execution_count": 0,
   "metadata": {
    "application/vnd.databricks.v1+cell": {
     "cellMetadata": {
      "byteLimit": 2048000,
      "rowLimit": 10000
     },
     "inputWidgets": {},
     "nuid": "b3cd21a6-29a7-4e90-affb-51981932c21d",
     "showTitle": false,
     "tableResultSettingsMap": {},
     "title": ""
    }
   },
   "outputs": [
    {
     "output_type": "stream",
     "name": "stdout",
     "output_type": "stream",
     "text": [
      "+--------------+\n|count(Country)|\n+--------------+\n|        120239|\n+--------------+\n\n"
     ]
    }
   ],
   "source": [
    "from pyspark.sql.functions import count\n",
    "df.select(count(\"Country\")).show()"
   ]
  },
  {
   "cell_type": "markdown",
   "metadata": {
    "application/vnd.databricks.v1+cell": {
     "cellMetadata": {},
     "inputWidgets": {},
     "nuid": "f4fab414-7f7c-46e2-8944-c9df6dba2851",
     "showTitle": false,
     "tableResultSettingsMap": {},
     "title": ""
    }
   },
   "source": [
    "**[count_distinct/countDistinct](https://spark.apache.org/docs/latest/api/python/reference/pyspark.sql/api/pyspark.sql.functions.count_distinct.html):** Devuelve la cantidad de elementos no nulos diferentes:  "
   ]
  },
  {
   "cell_type": "code",
   "execution_count": 0,
   "metadata": {
    "application/vnd.databricks.v1+cell": {
     "cellMetadata": {
      "byteLimit": 2048000,
      "rowLimit": 10000
     },
     "inputWidgets": {},
     "nuid": "bc77c874-38e4-4db2-a524-94c9789acdbd",
     "showTitle": false,
     "tableResultSettingsMap": {},
     "title": ""
    }
   },
   "outputs": [
    {
     "output_type": "stream",
     "name": "stdout",
     "output_type": "stream",
     "text": [
      "+-----------------------+-------------------+\n|count(DISTINCT Country)|count(DISTINCT Zip)|\n+-----------------------+-------------------+\n|                      5|               2585|\n+-----------------------+-------------------+\n\n"
     ]
    }
   ],
   "source": [
    "from pyspark.sql.functions import count_distinct\n",
    "df.select(count_distinct(\"Country\"), count_distinct(\"Zip\")).show()"
   ]
  },
  {
   "cell_type": "markdown",
   "metadata": {
    "application/vnd.databricks.v1+cell": {
     "cellMetadata": {},
     "inputWidgets": {},
     "nuid": "092067d6-c0ac-4d9f-9709-9328cd49e456",
     "showTitle": false,
     "tableResultSettingsMap": {},
     "title": ""
    }
   },
   "source": [
    "**[approx_count_distinct / approxCountDistinct:](https://spark.apache.org/docs/latest/api/python/reference/pyspark.sql/api/pyspark.sql.functions.approx_count_distinct.html)** Devuelve aproximadamente la cantidad de elementos no nulos diferentes (puede recibir un segundo parámetro la máximo desviación estándar admitida). Este método es mucho más rápido que contar exactamente el número de resultado, y para datasets muy grandes, en ocasiones puede ser útil:"
   ]
  },
  {
   "cell_type": "code",
   "execution_count": 0,
   "metadata": {
    "application/vnd.databricks.v1+cell": {
     "cellMetadata": {
      "byteLimit": 2048000,
      "rowLimit": 10000
     },
     "inputWidgets": {},
     "nuid": "f883572b-802d-4688-a92b-11ae088eaafa",
     "showTitle": false,
     "tableResultSettingsMap": {},
     "title": ""
    }
   },
   "outputs": [
    {
     "output_type": "stream",
     "name": "stdout",
     "output_type": "stream",
     "text": [
      "+------------------------------+--------------------------+\n|approx_count_distinct(Country)|approx_count_distinct(Zip)|\n+------------------------------+--------------------------+\n|                             5|                      2737|\n+------------------------------+--------------------------+\n\n"
     ]
    }
   ],
   "source": [
    "from pyspark.sql.functions import approx_count_distinct\n",
    "df.select(approx_count_distinct(\"Country\"), approx_count_distinct(\"Zip\")).show()"
   ]
  },
  {
   "cell_type": "markdown",
   "metadata": {
    "application/vnd.databricks.v1+cell": {
     "cellMetadata": {},
     "inputWidgets": {},
     "nuid": "f40283de-50a9-4521-8637-c0f54bad6bcf",
     "showTitle": false,
     "tableResultSettingsMap": {},
     "title": ""
    }
   },
   "source": [
    "## Calculando"
   ]
  },
  {
   "cell_type": "markdown",
   "metadata": {
    "application/vnd.databricks.v1+cell": {
     "cellMetadata": {},
     "inputWidgets": {},
     "nuid": "d09b2b8a-57e8-42c4-9ec0-b5e2e22db093",
     "showTitle": false,
     "tableResultSettingsMap": {},
     "title": ""
    }
   },
   "source": [
    "**[min](https://spark.apache.org/docs/latest/api/python/reference/pyspark.sql/api/pyspark.sql.functions.min.html) y [max](https://spark.apache.org/docs/latest/api/python/reference/pyspark.sql/api/pyspark.sql.functions.max.html)**: permiten obtener el menor y el mayor valor respectivamente:"
   ]
  },
  {
   "cell_type": "code",
   "execution_count": 0,
   "metadata": {
    "application/vnd.databricks.v1+cell": {
     "cellMetadata": {
      "byteLimit": 2048000,
      "rowLimit": 10000
     },
     "inputWidgets": {},
     "nuid": "7bd9f5e7-55cf-4300-83d2-73ab2960f450",
     "showTitle": false,
     "tableResultSettingsMap": {},
     "title": ""
    }
   },
   "outputs": [
    {
     "output_type": "stream",
     "name": "stdout",
     "output_type": "stream",
     "text": [
      "+----------+----------+\n|min(Units)|max(Units)|\n+----------+----------+\n|         1|        77|\n+----------+----------+\n\n"
     ]
    }
   ],
   "source": [
    "from pyspark.sql.functions import min, max\n",
    "df.select(min(\"Units\"), max(\"Units\")).show()"
   ]
  },
  {
   "cell_type": "markdown",
   "metadata": {
    "application/vnd.databricks.v1+cell": {
     "cellMetadata": {},
     "inputWidgets": {},
     "nuid": "354779ee-7ab4-4257-9044-1b111a20db9f",
     "showTitle": false,
     "tableResultSettingsMap": {},
     "title": ""
    }
   },
   "source": [
    "[sum](https://spark.apache.org/docs/latest/api/python/reference/pyspark.sql/api/pyspark.sql.functions.sum.html) permite sumar todos los valores de una columna:"
   ]
  },
  {
   "cell_type": "code",
   "execution_count": 0,
   "metadata": {
    "application/vnd.databricks.v1+cell": {
     "cellMetadata": {
      "byteLimit": 2048000,
      "rowLimit": 10000
     },
     "inputWidgets": {},
     "nuid": "135293ca-4f80-4e18-b4c4-faa7bd3ccb0c",
     "showTitle": false,
     "tableResultSettingsMap": {},
     "title": ""
    }
   },
   "outputs": [
    {
     "output_type": "stream",
     "name": "stdout",
     "output_type": "stream",
     "text": [
      "+----------+-------------------+\n|sum(Units)|       sum(Revenue)|\n+----------+-------------------+\n|    125728|5.010727499998837E7|\n+----------+-------------------+\n\n"
     ]
    }
   ],
   "source": [
    "from pyspark.sql.functions import sum\n",
    "df.select(sum(\"Units\"), sum(\"Revenue\")).show()"
   ]
  },
  {
   "cell_type": "markdown",
   "metadata": {
    "application/vnd.databricks.v1+cell": {
     "cellMetadata": {},
     "inputWidgets": {},
     "nuid": "c9dc0a8d-b62d-4f10-9104-67cc313f8b86",
     "showTitle": false,
     "tableResultSettingsMap": {},
     "title": ""
    }
   },
   "source": [
    "**[sum_distinct / sumDistinct](https://spark.apache.org/docs/latest/api/python/reference/pyspark.sql/api/pyspark.sql.functions.sum_distinct.html)**: suma los valores diferentes de una columna:"
   ]
  },
  {
   "cell_type": "code",
   "execution_count": 0,
   "metadata": {
    "application/vnd.databricks.v1+cell": {
     "cellMetadata": {
      "byteLimit": 2048000,
      "rowLimit": 10000
     },
     "inputWidgets": {},
     "nuid": "ab6f8547-78b9-442d-9ce5-2a225dbf8f09",
     "showTitle": false,
     "tableResultSettingsMap": {},
     "title": ""
    }
   },
   "outputs": [
    {
     "output_type": "stream",
     "name": "stdout",
     "output_type": "stream",
     "text": [
      "+-------------------+---------------------+\n|sum(DISTINCT Units)|sum(DISTINCT Revenue)|\n+-------------------+---------------------+\n|                308|    1189127.099999999|\n+-------------------+---------------------+\n\n"
     ]
    }
   ],
   "source": [
    "from pyspark.sql.functions import sum_distinct\n",
    "df.select(sum_distinct(\"Units\"), sum_distinct(\"Revenue\")).show()"
   ]
  },
  {
   "cell_type": "markdown",
   "metadata": {
    "application/vnd.databricks.v1+cell": {
     "cellMetadata": {},
     "inputWidgets": {},
     "nuid": "23c81129-19f4-4d4b-936a-40467f789297",
     "showTitle": false,
     "tableResultSettingsMap": {},
     "title": ""
    }
   },
   "source": [
    "**Asimetría, varianza y desviación estándar**: Si nos interesa obtener información estadística sobre los datos, también disponemos de las funciones `skewness`, `kurtosis`, `variance`, `var_pop`, `stddev` y `stddev_pop`."
   ]
  },
  {
   "cell_type": "markdown",
   "metadata": {
    "application/vnd.databricks.v1+cell": {
     "cellMetadata": {},
     "inputWidgets": {},
     "nuid": "ecacf2e2-b1df-446b-8d81-0df105959a45",
     "showTitle": false,
     "tableResultSettingsMap": {},
     "title": ""
    }
   },
   "source": [
    "> Actividad: Desarrolla ejemplos simples de como calcular con Pyspark las funciones `skewness`, `kurtosis`, `variance`, `var_pop`, `stddev` y `stddev_pop`. Explicar como se interpretan cada una de ellas."
   ]
  },
  {
   "cell_type": "markdown",
   "metadata": {
    "application/vnd.databricks.v1+cell": {
     "cellMetadata": {},
     "inputWidgets": {},
     "nuid": "c5ea98c4-1501-44a2-9a04-a7a22827a539",
     "showTitle": false,
     "tableResultSettingsMap": {},
     "title": ""
    }
   },
   "source": [
    "## Agrupando  \n",
    "\n",
    "Si agrupamos varias columnas de tipo categóricas (con una cardinalidad baja), podemos realizar cálculos sobre el resto de columnas.  \n",
    "\n",
    "Sobre un DataFrame, podemos agrupar los datos por la columna que queramos utilizando el método[ groupBy](https://spark.apache.org/docs/latest/api/python/reference/pyspark.sql/api/pyspark.sql.DataFrame.groupBy.html), el cual nos devuelve un [GroupedData](https://spark.apache.org/docs/latest/api/python/reference/pyspark.sql/api/pyspark.sql.GroupedData.html#pyspark.sql.GroupedData), sobre el que posteriormente realizar operaciones como `avg(cols)`, `count()`, `mean(cols)`, `min(cols)`, `max(cols)` o `sum(cols)`:"
   ]
  },
  {
   "cell_type": "markdown",
   "metadata": {
    "application/vnd.databricks.v1+cell": {
     "cellMetadata": {},
     "inputWidgets": {},
     "nuid": "dd074476-fd84-4a95-9132-1449f8b15d55",
     "showTitle": false,
     "tableResultSettingsMap": {},
     "title": ""
    }
   },
   "source": [
    "**count**: "
   ]
  },
  {
   "cell_type": "code",
   "execution_count": 0,
   "metadata": {
    "application/vnd.databricks.v1+cell": {
     "cellMetadata": {
      "byteLimit": 2048000,
      "rowLimit": 10000
     },
     "inputWidgets": {},
     "nuid": "217e67a5-f857-489b-88aa-59a02fefddc2",
     "showTitle": false,
     "tableResultSettingsMap": {},
     "title": ""
    }
   },
   "outputs": [
    {
     "output_type": "stream",
     "name": "stdout",
     "output_type": "stream",
     "text": [
      "+-------+-----+\n|Country|count|\n+-------+-----+\n|Germany|30059|\n|France |30059|\n|Canada |30060|\n|Mexico |30060|\n| France|    1|\n+-------+-----+\n\n"
     ]
    }
   ],
   "source": [
    "from pyspark.sql.functions import sum\n",
    "df.groupBy(\"Country\").count().show()"
   ]
  },
  {
   "cell_type": "markdown",
   "metadata": {
    "application/vnd.databricks.v1+cell": {
     "cellMetadata": {},
     "inputWidgets": {},
     "nuid": "f81da1b1-f5f2-4238-a741-4463ad6ef947",
     "showTitle": false,
     "tableResultSettingsMap": {},
     "title": ""
    }
   },
   "source": [
    "**sum**"
   ]
  },
  {
   "cell_type": "code",
   "execution_count": 0,
   "metadata": {
    "application/vnd.databricks.v1+cell": {
     "cellMetadata": {
      "byteLimit": 2048000,
      "rowLimit": 10000
     },
     "inputWidgets": {},
     "nuid": "2cfea4ca-4c39-4fb3-b230-5b3c87e4a4b8",
     "showTitle": false,
     "tableResultSettingsMap": {},
     "title": ""
    }
   },
   "outputs": [
    {
     "output_type": "stream",
     "name": "stdout",
     "output_type": "stream",
     "text": [
      "+-------+--------------------+\n|Country|        sum(Revenue)|\n+-------+--------------------+\n|Germany|  1.49821199999994E7|\n|France |1.2086961900000686E7|\n|Canada |1.1642614200001836E7|\n|Mexico |1.1394598700001087E7|\n| France|               980.2|\n+-------+--------------------+\n\n"
     ]
    }
   ],
   "source": [
    "df.groupBy(\"Country\").sum(\"Revenue\").show()"
   ]
  },
  {
   "cell_type": "markdown",
   "metadata": {
    "application/vnd.databricks.v1+cell": {
     "cellMetadata": {},
     "inputWidgets": {},
     "nuid": "a96b2c33-ebdb-488b-bc95-b57563c3a336",
     "showTitle": false,
     "tableResultSettingsMap": {},
     "title": ""
    }
   },
   "source": [
    "Si necesitamos realizar más de un agregación sobre el mismo grupo, mediante [agg](https://spark.apache.org/docs/latest/api/python/reference/pyspark.sql/api/pyspark.sql.GroupedData.agg.html) podemos indicar una o más expresiones de columnas:"
   ]
  },
  {
   "cell_type": "code",
   "execution_count": 0,
   "metadata": {
    "application/vnd.databricks.v1+cell": {
     "cellMetadata": {
      "byteLimit": 2048000,
      "rowLimit": 10000
     },
     "inputWidgets": {},
     "nuid": "cd6ba3e9-f0f2-402a-bb4c-b2c328e1c9f3",
     "showTitle": false,
     "tableResultSettingsMap": {},
     "title": ""
    }
   },
   "outputs": [
    {
     "output_type": "stream",
     "name": "stdout",
     "output_type": "stream",
     "text": [
      "+-------+--------------------+--------------+\n|Country|        sum(Revenue)|count(Revenue)|\n+-------+--------------------+--------------+\n|Germany|  1.49821199999994E7|         30059|\n|France |1.2086961900000686E7|         30059|\n|Canada |1.1642614200001836E7|         30060|\n|Mexico |1.1394598700001087E7|         30060|\n| France|               980.2|             1|\n+-------+--------------------+--------------+\n\n"
     ]
    }
   ],
   "source": [
    "from pyspark.sql.functions import sum, count\n",
    "df.groupBy(\"Country\").agg(sum(\"Revenue\"), count(\"Revenue\")).show()"
   ]
  },
  {
   "cell_type": "markdown",
   "metadata": {
    "application/vnd.databricks.v1+cell": {
     "cellMetadata": {},
     "inputWidgets": {},
     "nuid": "e9d2a844-b170-4eb7-a855-dcb063cedd5e",
     "showTitle": false,
     "tableResultSettingsMap": {},
     "title": ""
    }
   },
   "source": [
    "También podemos indicar los elementos a calcular mediante un diccionario donde las claves son los campos y los valores la función a calcular:"
   ]
  },
  {
   "cell_type": "code",
   "execution_count": 0,
   "metadata": {
    "application/vnd.databricks.v1+cell": {
     "cellMetadata": {
      "byteLimit": 2048000,
      "rowLimit": 10000
     },
     "inputWidgets": {},
     "nuid": "227c38d9-a10e-4c3c-9030-ad2a5b79cdcd",
     "showTitle": false,
     "tableResultSettingsMap": {},
     "title": ""
    }
   },
   "outputs": [
    {
     "output_type": "stream",
     "name": "stdout",
     "output_type": "stream",
     "text": [
      "+-------+----------+------------------+\n|Country|count(Zip)|      avg(Revenue)|\n+-------+----------+------------------+\n|Germany|     30059| 498.4237665923484|\n|France |     30059| 402.1079177617581|\n|Canada |     30060|387.31251497012096|\n|Mexico |     30060| 379.0618330007015|\n| France|         1|             980.2|\n+-------+----------+------------------+\n\n"
     ]
    }
   ],
   "source": [
    "df.groupBy(\"Country\").agg({\"Zip\":\"count\", \"Revenue\":\"avg\"}).show()"
   ]
  },
  {
   "cell_type": "markdown",
   "metadata": {
    "application/vnd.databricks.v1+cell": {
     "cellMetadata": {},
     "inputWidgets": {},
     "nuid": "4574afbf-6a5a-48a7-920a-f02d82e51d40",
     "showTitle": false,
     "tableResultSettingsMap": {},
     "title": ""
    }
   },
   "source": [
    "## Agrupando colecciones"
   ]
  },
  {
   "cell_type": "markdown",
   "metadata": {
    "application/vnd.databricks.v1+cell": {
     "cellMetadata": {},
     "inputWidgets": {},
     "nuid": "38d42086-103a-4186-8f0e-5c90c2016266",
     "showTitle": false,
     "tableResultSettingsMap": {},
     "title": ""
    }
   },
   "source": [
    "En ocasiones necesitamos agrupar en una colección todos los valores para un grupo en particular. Para ello, podemos usar [collect_list](https://spark.apache.org/docs/latest/api/python/reference/pyspark.sql/api/pyspark.sql.functions.collect_list.html) (con repetidos) o [collect_set](https://spark.apache.org/docs/latest/api/python/reference/pyspark.sql/api/pyspark.sql.functions.collect_set.html) (sin repeticiones):  \n",
    "\n",
    "Por ejemplo, para cada país, vamos a recuperar un listado con los códigos postales de aquellos pedidos que hayan superado las 5 unidades:"
   ]
  },
  {
   "cell_type": "code",
   "execution_count": 0,
   "metadata": {
    "application/vnd.databricks.v1+cell": {
     "cellMetadata": {
      "byteLimit": 2048000,
      "rowLimit": 10000
     },
     "inputWidgets": {},
     "nuid": "683459dd-5c7c-46dc-bb76-25fa24f0210b",
     "showTitle": false,
     "tableResultSettingsMap": {},
     "title": ""
    }
   },
   "outputs": [
    {
     "output_type": "stream",
     "name": "stdout",
     "output_type": "stream",
     "text": [
      "+-------+--------------------+--------------------+\n|Country|   collect_list(Zip)|    collect_set(Zip)|\n+-------+--------------------+--------------------+\n|Germany|[22397          ,...|[22111          ,...|\n|France |[75213 CEDEX 16 ,...|[75391 CEDEX 08 ,...|\n|Mexico |[7100           ,...|[10300          ,...|\n|Canada |[T2X            ,...|[T6V            ,...|\n+-------+--------------------+--------------------+\n\n"
     ]
    }
   ],
   "source": [
    "from pyspark.sql.functions import collect_list, collect_set\n",
    "df.where(\"Units > 5\").groupBy(\"Country\").agg(collect_list(\"Zip\"), collect_set(\"Zip\")).show()"
   ]
  },
  {
   "cell_type": "markdown",
   "metadata": {
    "application/vnd.databricks.v1+cell": {
     "cellMetadata": {},
     "inputWidgets": {},
     "nuid": "2c184ad2-84c1-4546-9342-7acf0a9b4ef3",
     "showTitle": false,
     "tableResultSettingsMap": {},
     "title": ""
    }
   },
   "source": [
    "## Tablas pivote  \n",
    "Las tablas pivote permiten obtener un resumen de los datos a partir de columnas categóricas sobre la que realizar cálculos, tal como se hace en las hojas de cálculo con las tablas dinámicas.  \n",
    "\n",
    "Por ejemplo, vamos a obtener la cantidad recaudada por las ventas de cada año por cada país:"
   ]
  },
  {
   "cell_type": "code",
   "execution_count": 0,
   "metadata": {
    "application/vnd.databricks.v1+cell": {
     "cellMetadata": {
      "byteLimit": 2048000,
      "rowLimit": 10000
     },
     "inputWidgets": {},
     "nuid": "7d553ed1-d207-46b0-8b3d-8e3e7405c1e9",
     "showTitle": false,
     "tableResultSettingsMap": {},
     "title": ""
    }
   },
   "outputs": [
    {
     "output_type": "stream",
     "name": "stdout",
     "output_type": "stream",
     "text": [
      "+----+------------------+------+------------------+-----------------+------------------+\n|Year|           Canada |France|           France |          Germany|           Mexico |\n+----+------------------+------+------------------+-----------------+------------------+\n|2003| 2360085.999999949|  null|1105230.9000000039|1407119.999999999|1049457.4999999995|\n|2004| 1539140.499999946|  null|              null|             null|              null|\n|2001| 2193437.799999908|  null|              null|             null|233419.20000000004|\n|2000|1806678.3999999042|  null|1108846.8999999764|4510606.799999929| 4240448.399999948|\n|1999|1382756.6999999755|  null| 7594921.200000447|5928459.100000297|3419368.2000001906|\n|2002|2360514.7999998718| 980.2| 2277962.899999955|3135934.099999969| 2451905.399999923|\n+----+------------------+------+------------------+-----------------+------------------+\n\n"
     ]
    }
   ],
   "source": [
    "from pyspark.sql.functions import year\n",
    "\n",
    "df.groupBy(year(\"Date\").alias(\"Year\")).pivot(\"Country\").sum(\"Revenue\").show()\n"
   ]
  },
  {
   "cell_type": "markdown",
   "metadata": {
    "application/vnd.databricks.v1+cell": {
     "cellMetadata": {},
     "inputWidgets": {},
     "nuid": "db2139ca-0a92-4139-a41d-de7eddc3293a",
     "showTitle": false,
     "tableResultSettingsMap": {},
     "title": ""
    }
   },
   "source": [
    "También podemos hacer más de un cálculo sobre la tabla pivote:  \n"
   ]
  },
  {
   "cell_type": "code",
   "execution_count": 0,
   "metadata": {
    "application/vnd.databricks.v1+cell": {
     "cellMetadata": {
      "byteLimit": 2048000,
      "rowLimit": 10000
     },
     "inputWidgets": {},
     "nuid": "5f52a612-4f22-4e23-bc38-c310397a0569",
     "showTitle": false,
     "tableResultSettingsMap": {},
     "title": ""
    }
   },
   "outputs": [
    {
     "output_type": "stream",
     "name": "stdout",
     "output_type": "stream",
     "text": [
      "+----------+------------------+----------------+------------+---------------+------------------+----------------+-----------------+----------------+------------------+----------------+\n|year(Date)|     Canada _total|Canada _cantidad|France_total|France_cantidad|     France _total|France _cantidad|    Germany_total|Germany_cantidad|     Mexico _total|Mexico _cantidad|\n+----------+------------------+----------------+------------+---------------+------------------+----------------+-----------------+----------------+------------------+----------------+\n|      2003| 2360085.999999949|            6375|        null|           null|1105230.9000000039|            2794|1407119.999999999|            3099|1049457.4999999995|            2510|\n|      2004| 1539140.499999946|            3636|        null|           null|              null|            null|             null|            null|              null|            null|\n|      2001| 2193437.799999908|            5976|        null|           null|              null|            null|             null|            null|233419.20000000004|             583|\n|      2000|1806678.3999999042|            5049|        null|           null|1108846.8999999764|            2456|4510606.799999929|            9738| 4240448.399999948|           11935|\n|      1999|1382756.6999999755|            3964|        null|           null| 7594921.200000447|           20432|5928459.100000297|           12266|3419368.2000001906|            9895|\n|      2002|2360514.7999998718|            6148|       980.2|              1| 2277962.899999955|            6056|3135934.099999969|            6643| 2451905.399999923|            6172|\n+----------+------------------+----------------+------------+---------------+------------------+----------------+-----------------+----------------+------------------+----------------+\n\n"
     ]
    }
   ],
   "source": [
    "df.groupBy(year(\"Date\")).pivot(\"Country\").agg(sum(\"Revenue\").alias(\"total\"), sum(\"Units\").alias(\"cantidad\")).show()"
   ]
  },
  {
   "cell_type": "markdown",
   "metadata": {
    "application/vnd.databricks.v1+cell": {
     "cellMetadata": {},
     "inputWidgets": {},
     "nuid": "b4e7ff58-0282-43ba-9d93-532ad18138f9",
     "showTitle": false,
     "tableResultSettingsMap": {},
     "title": ""
    }
   },
   "source": [
    "## Joins"
   ]
  },
  {
   "cell_type": "markdown",
   "metadata": {
    "application/vnd.databricks.v1+cell": {
     "cellMetadata": {},
     "inputWidgets": {},
     "nuid": "fa881906-a5ba-4b98-addf-167ba7dc029a",
     "showTitle": false,
     "tableResultSettingsMap": {},
     "title": ""
    }
   },
   "source": [
    "Hasta ahora todo la analítica la hemos realizado sobre un único DataFrame. Aunque si seguimos un proceso ELT es probable que tengamos todos los datos en un único lugar, en ocasiones necesitamos cruzar la información de dos datasets.\n",
    "\n",
    "Si nos basamos en el planteamiento de una base de datos relacional, para unir dos DataFrames necesitamos unir la clave ajena de uno con la clave primaria del otro.\n",
    "\n",
    "Para estos ejemplos, vamos a cambiar de datasets y utilizar datos de vuelos de avión que han tenido algún tipo de retraso ([departure_delays.csv](https://tajamar365.sharepoint.com/:x:/s/3405-MasterIA2024-2025/EVXFsnm7tWdIv7hohU6UsRgBIdV_ghMxvtUxSyduUcxYow?e=n85sNv)) y otro con los códigos de los aeropuertos ([airport-codes-na.tsv](https://tajamar365.sharepoint.com/:u:/s/3405-MasterIA2024-2025/EePe905sgTZOnSMvFE9DpV4BLHICLNcb9VTIYEU7svCOcw?e=AxFwQE))."
   ]
  },
  {
   "cell_type": "markdown",
   "metadata": {
    "application/vnd.databricks.v1+cell": {
     "cellMetadata": {},
     "inputWidgets": {},
     "nuid": "722c95c3-335e-431c-abfb-b6c8d3b5821b",
     "showTitle": false,
     "tableResultSettingsMap": {},
     "title": ""
    }
   },
   "source": [
    "**Vuelos con retraso**  \n",
    "Fichero CSV con la coma como separador de campos.   \n",
    "```<csv> \n",
    "date,delay,distance,origin,destination\n",
    "01011245,6,602,ABE,ATL\n",
    "01020600,-8,369,ABE,DTW\n",
    "01021245,-2,602,ABE,ATL\n",
    "01020605,-4,602,ABE,ATL\n",
    "```"
   ]
  },
  {
   "cell_type": "markdown",
   "metadata": {
    "application/vnd.databricks.v1+cell": {
     "cellMetadata": {},
     "inputWidgets": {},
     "nuid": "0b1f8d10-c9cc-4f4e-8a85-c7e83663012d",
     "showTitle": false,
     "tableResultSettingsMap": {},
     "title": ""
    }
   },
   "source": [
    "**Códigos de aeropuertos**  \n",
    "\n",
    "Fichero TSV con el tabulador como separador campos, donde el campo `IATA` es la clave de cada aeropuerto.  \n",
    "```<tsv>\n",
    "City State Country IATA\n",
    "Abbotsford BC Canada YXX\n",
    "Aberdeen SD USA ABR\n",
    "Abilene TX USA ABI\n",
    "Akron OH USA CAK\n",
    "Alamosa CO USA ALS\n",
    "Albany GA USA ABY\n",
    "```"
   ]
  },
  {
   "cell_type": "markdown",
   "metadata": {
    "application/vnd.databricks.v1+cell": {
     "cellMetadata": {},
     "inputWidgets": {},
     "nuid": "cf2acbae-2358-4a91-bb48-bbd397ec9185",
     "showTitle": false,
     "tableResultSettingsMap": {},
     "title": ""
    }
   },
   "source": [
    "Así pues, lo primero que vamos a hacer es cargar ambos DataFrames:"
   ]
  },
  {
   "cell_type": "code",
   "execution_count": 0,
   "metadata": {
    "application/vnd.databricks.v1+cell": {
     "cellMetadata": {
      "byteLimit": 2048000,
      "rowLimit": 10000
     },
     "inputWidgets": {},
     "nuid": "40da77b3-6cfa-473b-93ca-cd91e38b2edf",
     "showTitle": false,
     "tableResultSettingsMap": {},
     "title": ""
    }
   },
   "outputs": [],
   "source": [
    "from pyspark.sql import SparkSession\n",
    "\n",
    "spark = SparkSession.builder.appName(\"s8a-dataframes-joins\").getOrCreate()\n",
    "\n",
    "df_vuelos = spark.read.option(\"sep\",\",\").option(\"header\", \"true\").option(\"inferSchema\", \"true\").csv(\"/FileStore/Notebook3/departure_delays.csv\")\n",
    "# df_vuelos.printSchema()\n",
    "# df_vuelos.count()   # 1391578\n",
    "df_aeropuertos = spark.read.option(\"sep\",\"\\t\").option(\"header\", \"true\").option(\"inferSchema\", \"true\").csv(\"/FileStore/Notebook3/airport_codes_na.tsv\")\n",
    "# df_aeropuertos.printSchema()"
   ]
  },
  {
   "cell_type": "markdown",
   "metadata": {
    "application/vnd.databricks.v1+cell": {
     "cellMetadata": {},
     "inputWidgets": {},
     "nuid": "85b2003e-3f93-40ff-99bd-959c522989be",
     "showTitle": false,
     "tableResultSettingsMap": {},
     "title": ""
    }
   },
   "source": [
    "### Mediante SQL  \n",
    "Si queremos hacer un join mediante SQL, sólo tenemos que emplear la misma sintaxis que con cualquier sistema relacional, de manera que primero crearemos las vistas temporales:"
   ]
  },
  {
   "cell_type": "code",
   "execution_count": 0,
   "metadata": {
    "application/vnd.databricks.v1+cell": {
     "cellMetadata": {
      "byteLimit": 2048000,
      "rowLimit": 10000
     },
     "inputWidgets": {},
     "nuid": "630fd065-9772-4cd9-94cb-2aa732dc42c1",
     "showTitle": false,
     "tableResultSettingsMap": {},
     "title": ""
    }
   },
   "outputs": [],
   "source": [
    "df_vuelos.createOrReplaceTempView(\"vuelos\")\n",
    "df_aeropuertos.createOrReplaceTempView(\"aeropuertos\")\n"
   ]
  },
  {
   "cell_type": "markdown",
   "metadata": {
    "application/vnd.databricks.v1+cell": {
     "cellMetadata": {},
     "inputWidgets": {},
     "nuid": "9597f85a-3d7f-49e6-881e-89f3a59232a1",
     "showTitle": false,
     "tableResultSettingsMap": {},
     "title": ""
    }
   },
   "source": [
    "Y a continuación realizamos la consulta:"
   ]
  },
  {
   "cell_type": "code",
   "execution_count": 0,
   "metadata": {
    "application/vnd.databricks.v1+cell": {
     "cellMetadata": {
      "byteLimit": 2048000,
      "rowLimit": 10000
     },
     "inputWidgets": {},
     "nuid": "0564911e-2da6-4bd9-9ff6-ba2bcc6e0752",
     "showTitle": false,
     "tableResultSettingsMap": {},
     "title": ""
    }
   },
   "outputs": [
    {
     "output_type": "stream",
     "name": "stdout",
     "output_type": "stream",
     "text": [
      "+------+---------+\n|origin|     city|\n+------+---------+\n|   ABE|Allentown|\n|   ABE|Allentown|\n|   ABE|Allentown|\n+------+---------+\nonly showing top 3 rows\n\n"
     ]
    }
   ],
   "source": [
    "df_join = spark.sql(\"select v.origin, a.city from vuelos v join aeropuertos a on v.origin == a.IATA\")\n",
    "df_join.show(3)"
   ]
  },
  {
   "cell_type": "markdown",
   "metadata": {
    "application/vnd.databricks.v1+cell": {
     "cellMetadata": {},
     "inputWidgets": {},
     "nuid": "f8411f54-c0de-42ef-a84e-1e8a44af435d",
     "showTitle": false,
     "tableResultSettingsMap": {},
     "title": ""
    }
   },
   "source": [
    "Si quisiéramos obtener el nombre de los dos aeropuertos, necesitamos realizar dos veces el join:"
   ]
  },
  {
   "cell_type": "code",
   "execution_count": 0,
   "metadata": {
    "application/vnd.databricks.v1+cell": {
     "cellMetadata": {
      "byteLimit": 2048000,
      "rowLimit": 10000
     },
     "inputWidgets": {},
     "nuid": "7fdc502a-2301-473d-a6d8-280310f95936",
     "showTitle": false,
     "tableResultSettingsMap": {},
     "title": ""
    }
   },
   "outputs": [
    {
     "output_type": "stream",
     "name": "stdout",
     "output_type": "stream",
     "text": [
      "+-------+-----+--------+------+-----------+----------+---------------+\n|   date|delay|distance|origin|destination|originCity|destinationCity|\n+-------+-----+--------+------+-----------+----------+---------------+\n|1011245|    6|     602|   ABE|        ATL| Allentown|        Atlanta|\n|1020600|   -8|     369|   ABE|        DTW| Allentown|        Detroit|\n|1021245|   -2|     602|   ABE|        ATL| Allentown|        Atlanta|\n+-------+-----+--------+------+-----------+----------+---------------+\nonly showing top 3 rows\n\n"
     ]
    }
   ],
   "source": [
    "df_join = spark.sql(\"select v.*, a.City as originCity, b.City as destinationCity from vuelos v JOIN aeropuertos a on v.origin == a.IATA join aeropuertos b on v.destination = b.IATA\")\n",
    "df_join.show(3)\n",
    "\n",
    "# +-------+-----+--------+------+-----------+----------+---------------+\n",
    "# |   date|delay|distance|origin|destination|originCity|destinationCity|\n",
    "# +-------+-----+--------+------+-----------+----------+---------------+\n",
    "# |1011245|    6|     602|   ABE|        ATL| Allentown|        Atlanta|\n",
    "# |1020600|   -8|     369|   ABE|        DTW| Allentown|        Detroit|\n",
    "# |1021245|   -2|     602|   ABE|        ATL| Allentown|        Atlanta|\n",
    "# +-------+-----+--------+------+-----------+----------+---------------+\n",
    "# only showing top 3 rows"
   ]
  },
  {
   "cell_type": "markdown",
   "metadata": {
    "application/vnd.databricks.v1+cell": {
     "cellMetadata": {},
     "inputWidgets": {},
     "nuid": "8c47df65-8a29-4f7d-9972-0d972aed6e31",
     "showTitle": false,
     "tableResultSettingsMap": {},
     "title": ""
    }
   },
   "source": [
    "Si existiera algún vuelo cuyos códigos de aeropuerto no tuviéramos disponible en el dataset de los códigos de aeropuertos, no nos aparecería. Por tanto, sería más conveniente realizar un left join:"
   ]
  },
  {
   "cell_type": "code",
   "execution_count": 0,
   "metadata": {
    "application/vnd.databricks.v1+cell": {
     "cellMetadata": {
      "byteLimit": 2048000,
      "rowLimit": 10000
     },
     "inputWidgets": {},
     "nuid": "fdbe6e4c-6ebe-442a-89c1-afed37d1cc5f",
     "showTitle": false,
     "tableResultSettingsMap": {},
     "title": ""
    }
   },
   "outputs": [
    {
     "output_type": "stream",
     "name": "stdout",
     "output_type": "stream",
     "text": [
      "+-------+-----+--------+------+-----------+----------+---------------+\n|   date|delay|distance|origin|destination|originCity|destinationCity|\n+-------+-----+--------+------+-----------+----------+---------------+\n|1011245|    6|     602|   ABE|        ATL| Allentown|        Atlanta|\n|1020600|   -8|     369|   ABE|        DTW| Allentown|        Detroit|\n|1021245|   -2|     602|   ABE|        ATL| Allentown|        Atlanta|\n+-------+-----+--------+------+-----------+----------+---------------+\nonly showing top 3 rows\n\n"
     ]
    }
   ],
   "source": [
    "df_left_join = spark.sql(\"select v.*, a.City as originCity, b.City as destinationCity from vuelos v LEFT JOIN aeropuertos a on v.origin == a.IATA LEFT JOIN aeropuertos b on v.destination = b.IATA\")\n",
    "df_left_join.show(3)\n"
   ]
  },
  {
   "cell_type": "code",
   "execution_count": 0,
   "metadata": {
    "application/vnd.databricks.v1+cell": {
     "cellMetadata": {
      "byteLimit": 2048000,
      "rowLimit": 10000
     },
     "inputWidgets": {},
     "nuid": "9c155ca9-aeca-499d-b5dd-7cc6d8529d1d",
     "showTitle": false,
     "tableResultSettingsMap": {},
     "title": ""
    }
   },
   "outputs": [
    {
     "output_type": "stream",
     "name": "stdout",
     "output_type": "stream",
     "text": [
      "Out[23]: 1391578"
     ]
    }
   ],
   "source": [
    "df_left_join.count()    # 1391578"
   ]
  },
  {
   "cell_type": "markdown",
   "metadata": {
    "application/vnd.databricks.v1+cell": {
     "cellMetadata": {},
     "inputWidgets": {},
     "nuid": "1c3e04d0-936c-4e37-8db1-4fce17d723c5",
     "showTitle": false,
     "tableResultSettingsMap": {},
     "title": ""
    }
   },
   "source": [
    "> **Todo tipo de joins**  \n",
    " Además de los casos vistos, podemos realizar otros tipos de joins como `cross`, `semi`, `full`, `outer`, etc... Más información en la [documentación oficial](https://spark.apache.org/docs/latest/sql-ref-syntax-qry-select-join.html)"
   ]
  },
  {
   "cell_type": "markdown",
   "metadata": {
    "application/vnd.databricks.v1+cell": {
     "cellMetadata": {},
     "inputWidgets": {},
     "nuid": "ea7920aa-67e1-44f6-8437-747a5aca722f",
     "showTitle": false,
     "tableResultSettingsMap": {},
     "title": ""
    }
   },
   "source": [
    "Un caso particular que conviene conocer es el left anti join. Este tipo de join permite obtener aquellos registros de la izquierda que no aparecen en la parte derecha, de manera que si seguimos con el ejemplo, podemos recuperar aquellos vuelos cuyos aeropuertos no tenemos en el dataset con los códigos:"
   ]
  },
  {
   "cell_type": "code",
   "execution_count": 0,
   "metadata": {
    "application/vnd.databricks.v1+cell": {
     "cellMetadata": {
      "byteLimit": 2048000,
      "rowLimit": 10000
     },
     "inputWidgets": {},
     "nuid": "92b5eaa3-5971-445a-84cd-4065ea331859",
     "showTitle": false,
     "tableResultSettingsMap": {},
     "title": ""
    }
   },
   "outputs": [
    {
     "output_type": "stream",
     "name": "stdout",
     "output_type": "stream",
     "text": [
      "Out[24]: 14416"
     ]
    }
   ],
   "source": [
    "df_left_anti_join = spark.sql(\"select * from vuelos v LEFT ANTI JOIN aeropuertos a ON v.origin == a.IATA \")\n",
    "df_left_anti_join.count()   # 14416"
   ]
  },
  {
   "cell_type": "markdown",
   "metadata": {
    "application/vnd.databricks.v1+cell": {
     "cellMetadata": {},
     "inputWidgets": {},
     "nuid": "b04fe7e3-24f2-40ce-82ba-ab99816b66f4",
     "showTitle": false,
     "tableResultSettingsMap": {},
     "title": ""
    }
   },
   "source": [
    "### Mediante Python  \n",
    "\n",
    "Si no queremos utilizar SQL o ya tenemos fragmentos de código que interactúan con el DataFrame API, podemos utilizar el método `join`. Este método une dos DataFrames, indicando la expresión de unión y opcionalmente el tipo:"
   ]
  },
  {
   "cell_type": "code",
   "execution_count": 0,
   "metadata": {
    "application/vnd.databricks.v1+cell": {
     "cellMetadata": {
      "byteLimit": 2048000,
      "rowLimit": 10000
     },
     "inputWidgets": {},
     "nuid": "a2ffde4f-6555-4e54-a9e4-f611c7c1d776",
     "showTitle": false,
     "tableResultSettingsMap": {},
     "title": ""
    }
   },
   "outputs": [],
   "source": [
    "exprJoin1 = df_vuelos.origin == df_aeropuertos.IATA\n",
    "df_joinp1 = df_vuelos.join(df_aeropuertos, exprJoin1, \"inner\")\n"
   ]
  },
  {
   "cell_type": "code",
   "execution_count": 0,
   "metadata": {
    "application/vnd.databricks.v1+cell": {
     "cellMetadata": {
      "byteLimit": 2048000,
      "rowLimit": 10000
     },
     "inputWidgets": {},
     "nuid": "2f03600d-bffd-4358-96f2-4ca42f852127",
     "showTitle": false,
     "tableResultSettingsMap": {},
     "title": ""
    }
   },
   "outputs": [
    {
     "output_type": "stream",
     "name": "stdout",
     "output_type": "stream",
     "text": [
      "Out[26]: 1377162"
     ]
    }
   ],
   "source": [
    "df_joinp1.count()    # 1377162"
   ]
  },
  {
   "cell_type": "markdown",
   "metadata": {
    "application/vnd.databricks.v1+cell": {
     "cellMetadata": {},
     "inputWidgets": {},
     "nuid": "4f49b075-3e00-4cd6-ac53-d0f95392ba21",
     "showTitle": false,
     "tableResultSettingsMap": {},
     "title": ""
    }
   },
   "source": [
    "> **Forma corta**. Si las columnas que unen los DataFrames tienen el mismo nombre, podemos simplificar el código indicando únicamente su nombre:  \n",
    "`df1.join(df2, \"user_id\")`  \n",
    "Además, si queremos hacer un inner join, podemos no indicarlo ya que es el tipo por defecto."
   ]
  },
  {
   "cell_type": "markdown",
   "metadata": {
    "application/vnd.databricks.v1+cell": {
     "cellMetadata": {},
     "inputWidgets": {},
     "nuid": "f24dbcf2-e14d-4100-9f78-876983b2db61",
     "showTitle": false,
     "tableResultSettingsMap": {},
     "title": ""
    }
   },
   "source": [
    "En vez de pasarle `inner`, le podemos indicar el tipo de join: `left`, `right`, `cross`, `left_anti`, etc..."
   ]
  },
  {
   "cell_type": "code",
   "execution_count": 0,
   "metadata": {
    "application/vnd.databricks.v1+cell": {
     "cellMetadata": {
      "byteLimit": 2048000,
      "rowLimit": 10000
     },
     "inputWidgets": {},
     "nuid": "1d1a45b1-8c51-4e09-bc9d-2f232bc7f3e9",
     "showTitle": false,
     "tableResultSettingsMap": {},
     "title": ""
    }
   },
   "outputs": [
    {
     "output_type": "stream",
     "name": "stdout",
     "output_type": "stream",
     "text": [
      "Out[27]: 14416"
     ]
    }
   ],
   "source": [
    "expr_join1 = df_vuelos.origin == df_aeropuertos.IATA\n",
    "df_left_anti_join = df_vuelos.join(df_aeropuertos, expr_join1, \"left_anti\")\n",
    "df_left_anti_join.count()   # 14416"
   ]
  },
  {
   "cell_type": "markdown",
   "metadata": {
    "application/vnd.databricks.v1+cell": {
     "cellMetadata": {},
     "inputWidgets": {},
     "nuid": "d2d02e1f-4829-4df2-8c89-8cac5a13939e",
     "showTitle": false,
     "tableResultSettingsMap": {},
     "title": ""
    }
   },
   "source": [
    "Finalmente, como en nuestro caso teníamos dos joins, tanto para los vuelos de origen como los de destino, necesitamos volver a unir:"
   ]
  },
  {
   "cell_type": "code",
   "execution_count": 0,
   "metadata": {
    "application/vnd.databricks.v1+cell": {
     "cellMetadata": {
      "byteLimit": 2048000,
      "rowLimit": 10000
     },
     "inputWidgets": {},
     "nuid": "b3d698db-38ca-4847-9f9e-6fe55b0b5ebc",
     "showTitle": false,
     "tableResultSettingsMap": {},
     "title": ""
    }
   },
   "outputs": [
    {
     "output_type": "stream",
     "name": "stdout",
     "output_type": "stream",
     "text": [
      "Out[28]: 1361141"
     ]
    }
   ],
   "source": [
    "from pyspark.sql.functions import col\n",
    "# le indicamos alias a los campos para eliminar ambigüedades\n",
    "expr_join2 = col(\"a.destination\") == col(\"b.IATA\")\n",
    "df_joinp2 = (df_joinp1.alias(\"a\")).join((df_aeropuertos.alias(\"b\")), expr_join2, \"inner\")\n",
    "df_joinp2.count()    # 1361141"
   ]
  },
  {
   "cell_type": "markdown",
   "metadata": {
    "application/vnd.databricks.v1+cell": {
     "cellMetadata": {},
     "inputWidgets": {},
     "nuid": "48346e6f-4ec8-472f-8ded-477082dd2df4",
     "showTitle": false,
     "tableResultSettingsMap": {},
     "title": ""
    }
   },
   "source": [
    "## Funciones  \n",
    "Para dominar realmente Spark, hay que tener destreza en todas las funciones existentes para el tratamiento de fechas, cadenas, operaciones matemáticas, para trabajar con colecciones, etc...\n",
    "\n",
    "Además, siempre podemos crear nuestras propias funciones de usuario para ampliar el lenguaje.\n",
    "\n",
    "Aunque ya hemos utilizado algunas a lo largo de los apuntes, a continuación vamos a repasar las funciones más empleadas."
   ]
  },
  {
   "cell_type": "markdown",
   "metadata": {
    "application/vnd.databricks.v1+cell": {
     "cellMetadata": {},
     "inputWidgets": {},
     "nuid": "8f85a1dd-028b-4581-bdb5-eaa68357f622",
     "showTitle": false,
     "tableResultSettingsMap": {},
     "title": ""
    }
   },
   "source": [
    "### Fechas  \n",
    "- Si necesitamos convertir de texto a fecha: [to_date](https://spark.apache.org/docs/latest/api/python/reference/pyspark.sql/api/pyspark.sql.functions.to_date.html), [to_timestamp](https://spark.apache.org/docs/latest/api/python/reference/pyspark.sql/api/pyspark.sql.functions.to_timestamp.html), [unix_timestamp](https://spark.apache.org/docs/latest/api/python/reference/pyspark.sql/api/pyspark.sql.functions.unix_timestamp.html)  \n",
    "- Para formatear las fechas: [date_format](https://spark.apache.org/docs/latest/api/python/reference/pyspark.sql/api/pyspark.sql.functions.date_format.html), [from_unixtime](https://spark.apache.org/docs/latest/api/python/reference/pyspark.sql/api/pyspark.sql.functions.from_unixtime.html) ([patrones de fechas](https://spark.apache.org/docs/latest/sql-ref-datetime-pattern.html))  \n",
    "- Para realizar cálculos sobre fechas: `datediff`, `months_between`, `last_day`, `date_add`, `date_sub`, `next_day`.  \n",
    "- Extraer un valor de una fecha:[ year](https://spark.apache.org/docs/latest/api/python/reference/pyspark.sql/api/pyspark.sql.functions.year.html), [month](https://spark.apache.org/docs/latest/api/python/reference/pyspark.sql/api/pyspark.sql.functions.month.html), [weekofyear](https://spark.apache.org/docs/latest/api/python/reference/pyspark.sql/api/pyspark.sql.functions.weekofyear.html), [dayofmonth](https://spark.apache.org/docs/latest/api/python/reference/pyspark.sql/api/pyspark.sql.functions.dayofmonth.html), [dayofyear](https://spark.apache.org/docs/latest/api/python/reference/pyspark.sql/api/pyspark.sql.functions.dayofyear.html), [hour](https://spark.apache.org/docs/latest/api/python/reference/pyspark.sql/api/pyspark.sql.functions.hour.html),[ minute](https://spark.apache.org/docs/latest/api/python/reference/pyspark.sql/api/pyspark.sql.functions.minute.html), [second](https://spark.apache.org/docs/latest/api/python/reference/pyspark.sql/api/pyspark.sql.functions.second.html).    \n",
    "\n",
    "Más información en la [documentación oficial](https://spark.apache.org/docs/latest/sql-ref-functions-builtin.html#date-and-timestamp-functions)\n"
   ]
  },
  {
   "cell_type": "code",
   "execution_count": 0,
   "metadata": {
    "application/vnd.databricks.v1+cell": {
     "cellMetadata": {
      "byteLimit": 2048000,
      "rowLimit": 10000
     },
     "inputWidgets": {},
     "nuid": "106a31fe-3006-4959-af79-d421cc2f4f56",
     "showTitle": false,
     "tableResultSettingsMap": {},
     "title": ""
    }
   },
   "outputs": [],
   "source": [
    "from pyspark.sql import SparkSession\n",
    "from pyspark.sql.functions import to_date\n",
    "\n",
    "spark = SparkSession.builder.appName(\"s8a-dataframes-sql\").getOrCreate()\n",
    "\n",
    "df = spark.read.option(\"sep\",\";\").option(\"header\", \"true\").option(\"inferSchema\", \"true\").csv(\"/FileStore/Notebook3/pdi_sales_small.csv\")\n",
    "# Cambiamos el tipo de dato a fecha\n",
    "df = df.withColumn(\"Date\", to_date(df.Date, \"M/d/yyy\"))"
   ]
  },
  {
   "cell_type": "code",
   "execution_count": 0,
   "metadata": {
    "application/vnd.databricks.v1+cell": {
     "cellMetadata": {
      "byteLimit": 2048000,
      "rowLimit": 10000
     },
     "inputWidgets": {},
     "nuid": "e71a4d32-4517-43a2-a6fe-07e018865e88",
     "showTitle": false,
     "tableResultSettingsMap": {},
     "title": ""
    }
   },
   "outputs": [
    {
     "output_type": "stream",
     "name": "stdout",
     "output_type": "stream",
     "text": [
      "+----------+--------------+-----------+-----------------+------------+-----------+-----+----+\n|      Date|Formatted_Date|Next_Sunday|Last_Day_of_Month|Day_of_Month|Day_of_Year|Month|Year|\n+----------+--------------+-----------+-----------------+------------+-----------+-----+----+\n|1999-01-15|    15-01-1999| 1999-01-17|       1999-01-31|          15|         15|    1|1999|\n|2002-06-06|    06-06-2002| 2002-06-09|       2002-06-30|           6|        157|    6|2002|\n+----------+--------------+-----------+-----------------+------------+-----------+-----+----+\nonly showing top 2 rows\n\n"
     ]
    }
   ],
   "source": [
    "from pyspark.sql.functions import date_format, next_day, last_day, dayofmonth, dayofyear, month, year\n",
    "\n",
    "df.select(\n",
    "    \"Date\",\n",
    "    date_format(\"Date\", \"dd-MM-yyyy\").alias(\"Formatted_Date\"),\n",
    "    next_day(\"Date\", \"Sun\").alias(\"Next_Sunday\"),\n",
    "    last_day(\"Date\").alias(\"Last_Day_of_Month\"),\n",
    "    dayofmonth(\"Date\").alias(\"Day_of_Month\"),\n",
    "    dayofyear(\"Date\").alias(\"Day_of_Year\"),\n",
    "    month(\"Date\").alias(\"Month\"),\n",
    "    year(\"Date\").alias(\"Year\")\n",
    ").show(2)\n"
   ]
  },
  {
   "cell_type": "markdown",
   "metadata": {
    "application/vnd.databricks.v1+cell": {
     "cellMetadata": {},
     "inputWidgets": {},
     "nuid": "4221c74a-6337-43fd-a973-4dcab87ea779",
     "showTitle": false,
     "tableResultSettingsMap": {},
     "title": ""
    }
   },
   "source": [
    "### Cadenas  \n",
    "Por ejemplo, tenemos las funciones para quitar espacios ([`ltrim`](https://spark.apache.org/docs/latest/api/python/reference/pyspark.sql/api/pyspark.sql.functions.ltrim.html), [`rtrim`](https://spark.apache.org/docs/latest/api/python/reference/pyspark.sql/api/pyspark.sql.functions.rtrim.html), [`trim`](https://spark.apache.org/docs/latest/api/python/reference/pyspark.sql/api/pyspark.sql.functions.trim.html)) y pasar a mayúsculas/minúsculas ([`lower`](https://spark.apache.org/docs/latest/api/python/reference/pyspark.sql/api/pyspark.sql.functions.lower.html), [`upper`](https://spark.apache.org/docs/latest/api/python/reference/pyspark.sql/api/pyspark.sql.functions.upper.html)):"
   ]
  },
  {
   "cell_type": "code",
   "execution_count": 0,
   "metadata": {
    "application/vnd.databricks.v1+cell": {
     "cellMetadata": {
      "byteLimit": 2048000,
      "rowLimit": 10000
     },
     "inputWidgets": {},
     "nuid": "52432f44-ce61-45a2-90e4-aeb88ff6ff42",
     "showTitle": false,
     "tableResultSettingsMap": {},
     "title": ""
    }
   },
   "outputs": [
    {
     "output_type": "stream",
     "name": "stdout",
     "output_type": "stream",
     "text": [
      "+---------------+---------------+---+---------------+---------------+\n|            Zip|              l|  r|     lower(Zip)|     upper(Zip)|\n+---------------+---------------+---+---------------+---------------+\n|H1B            |H1B            |H1B|h1b            |H1B            |\n|H1B            |H1B            |H1B|h1b            |H1B            |\n|H1B            |H1B            |H1B|h1b            |H1B            |\n+---------------+---------------+---+---------------+---------------+\nonly showing top 3 rows\n\n"
     ]
    }
   ],
   "source": [
    "from pyspark.sql.functions import ltrim, rtrim, trim, lower, upper\n",
    "\n",
    "df.select(\n",
    "    \"Zip\",\n",
    "    ltrim(\"Zip\").alias(\"l\"),  # Elimina espacios en blanco a la izquierda\n",
    "    rtrim(\"Zip\").alias(\"r\"),  # Elimina espacios en blanco a la derecha\n",
    "    lower(\"Zip\").alias(\"lower(Zip)\"),  # Convierte a minúsculas\n",
    "    upper(\"Zip\").alias(\"upper(Zip)\")   # Convierte a mayúsculas\n",
    ").where(\n",
    "    trim(df.Country) == \"Canada\"  # Elimina espacios en blanco de ambos lados antes de comparar\n",
    ").show(3)\n"
   ]
  },
  {
   "cell_type": "markdown",
   "metadata": {
    "application/vnd.databricks.v1+cell": {
     "cellMetadata": {},
     "inputWidgets": {},
     "nuid": "a7bd8fca-195f-4cf1-9057-35874ca83e8c",
     "showTitle": false,
     "tableResultSettingsMap": {},
     "title": ""
    }
   },
   "source": [
    "O funciones para poner la inicial en mayúsculas ([initcap](https://spark.apache.org/docs/latest/api/python/reference/pyspark.sql/api/pyspark.sql.functions.initcap.html)), darle la vuelta ([reverse](https://spark.apache.org/docs/latest/api/python/reference/pyspark.sql/api/pyspark.sql.functions.reverse.html)), obtener su tamaño ([length](https://spark.apache.org/docs/latest/api/python/reference/pyspark.sql/api/pyspark.sql.functions.length.html)) o reemplazar caracteres ([translate](https://spark.apache.org/docs/latest/api/python/reference/pyspark.sql/api/pyspark.sql.functions.translate.html)):"
   ]
  },
  {
   "cell_type": "code",
   "execution_count": 0,
   "metadata": {
    "application/vnd.databricks.v1+cell": {
     "cellMetadata": {
      "byteLimit": 2048000,
      "rowLimit": 10000
     },
     "inputWidgets": {},
     "nuid": "4c5ca543-308b-4a46-8a04-870313ef1986",
     "showTitle": false,
     "tableResultSettingsMap": {},
     "title": ""
    }
   },
   "outputs": [
    {
     "output_type": "stream",
     "name": "stdout",
     "output_type": "stream",
     "text": [
      "+-------+----------------+----------------+---------------+------------------+\n|Country|Initcap(Country)|Reverse(Country)|Length(Country)|Translate(Country)|\n+-------+----------------+----------------+---------------+------------------+\n|Canada |         Canada |          adanaC|              7|           Cepede |\n+-------+----------------+----------------+---------------+------------------+\nonly showing top 1 row\n\n"
     ]
    }
   ],
   "source": [
    "from pyspark.sql.functions import initcap, reverse, length, translate, trim\n",
    "\n",
    "df.select(\n",
    "    \"Country\",\n",
    "    initcap(\"Country\").alias(\"Initcap(Country)\"),  # Convierte a formato título (primera letra en mayúscula)\n",
    "    reverse(\"Country\").alias(\"Reverse(Country)\"),  # Invierte la cadena\n",
    "    length(\"Country\").alias(\"Length(Country)\"),    # Longitud de la cadena\n",
    "    translate(\"Country\", \"na\", \"pe\").alias(\"Translate(Country)\")  # Reemplaza 'n' con 'p' y 'a' con 'e'\n",
    ").where(\n",
    "    trim(df.Country) == \"Canada\"  # Elimina espacios en blanco antes de comparar\n",
    ").show(1)\n"
   ]
  },
  {
   "cell_type": "markdown",
   "metadata": {
    "application/vnd.databricks.v1+cell": {
     "cellMetadata": {},
     "inputWidgets": {},
     "nuid": "aecd1462-5c28-4f6f-bc88-b6c8f7b9d190",
     "showTitle": false,
     "tableResultSettingsMap": {},
     "title": ""
    }
   },
   "source": [
    "También podemos trabajar con subcadenas ([substring](https://spark.apache.org/docs/latest/api/python/reference/pyspark.sql/api/pyspark.sql.functions.substring.html)), encontrar ocurrencias ([locate](https://spark.apache.org/docs/latest/api/python/reference/pyspark.sql/api/pyspark.sql.functions.locate.html)) o partir una cadena en trozos ([split](https://spark.apache.org/docs/latest/api/python/reference/pyspark.sql/api/pyspark.sql.functions.split.html)):"
   ]
  },
  {
   "cell_type": "code",
   "execution_count": 0,
   "metadata": {
    "application/vnd.databricks.v1+cell": {
     "cellMetadata": {
      "byteLimit": 2048000,
      "rowLimit": 10000
     },
     "inputWidgets": {},
     "nuid": "cafb62ad-0740-4c9f-86b9-76ef578c0c33",
     "showTitle": false,
     "tableResultSettingsMap": {},
     "title": ""
    }
   },
   "outputs": [
    {
     "output_type": "stream",
     "name": "stdout",
     "output_type": "stream",
     "text": [
      "+-------+-------------------+--------------------+------------------------+\n|Country|Split(Country, 'a')|Locate('a', Country)|Substring(Country, 3, 2)|\n+-------+-------------------+--------------------+------------------------+\n|Canada |       [C, n, d,  ]|                   2|                      na|\n+-------+-------------------+--------------------+------------------------+\nonly showing top 1 row\n\n"
     ]
    }
   ],
   "source": [
    "from pyspark.sql.functions import split, locate, substring, trim\n",
    "\n",
    "df.select(\n",
    "    \"Country\",\n",
    "    split(\"Country\", \"a\").alias(\"Split(Country, 'a')\"),  # Divide la cadena por el carácter 'a'\n",
    "    locate(\"a\", \"Country\").alias(\"Locate('a', Country)\"),  # Encuentra la posición de la primera aparición de 'a'\n",
    "    substring(\"Country\", 3, 2).alias(\"Substring(Country, 3, 2)\")  # Extrae dos caracteres a partir de la posición 3\n",
    ").where(\n",
    "    trim(df.Country) == \"Canada\"  # Elimina espacios en blanco antes de comparar\n",
    ").show(1)\n"
   ]
  },
  {
   "cell_type": "markdown",
   "metadata": {
    "application/vnd.databricks.v1+cell": {
     "cellMetadata": {},
     "inputWidgets": {},
     "nuid": "f24d5a2f-058e-414a-8802-594796501544",
     "showTitle": false,
     "tableResultSettingsMap": {},
     "title": ""
    }
   },
   "source": [
    "Otras funciones que se suelen utilizar son [concat](https://spark.apache.org/docs/latest/api/python/reference/pyspark.sql/api/pyspark.sql.functions.concat.html) y [concat_ws](https://spark.apache.org/docs/latest/api/python/reference/pyspark.sql/api/pyspark.sql.functions.concat.html) para unir cadenas, [levenshtein](https://spark.apache.org/docs/latest/api/python/reference/pyspark.sql/api/pyspark.sql.functions.levenshtein.html) para calcular la distancia entre dos cadenas, [lpad](https://spark.apache.org/docs/latest/api/python/reference/pyspark.sql/api/pyspark.sql.functions.lpad.html) y [rpad](https://spark.apache.org/docs/latest/api/python/reference/pyspark.sql/api/pyspark.sql.functions.rpad.html) para completar con espacios, etc... Si necesitas trabajar con expresiones regulares puedes utilizar [regexp_extract](https://spark.apache.org/docs/latest/api/python/reference/pyspark.sql/api/pyspark.sql.functions.regexp_extract.html) para extraer parte de una cadena como [regexp_replace](https://spark.apache.org/docs/latest/api/python/reference/pyspark.sql/api/pyspark.sql.functions.regexp_replace.html) para sustituir."
   ]
  },
  {
   "cell_type": "markdown",
   "metadata": {
    "application/vnd.databricks.v1+cell": {
     "cellMetadata": {},
     "inputWidgets": {},
     "nuid": "042eb13c-35f8-4718-8b8e-cb9992ae2e35",
     "showTitle": false,
     "tableResultSettingsMap": {},
     "title": ""
    }
   },
   "source": [
    "### Colecciones  \n",
    "Para probar las funciones que trabajan con colecciones, vamos a cambiar de dataset y trabajar con uno compartido por [Kaggle](https://www.kaggle.com/datasets/yelp-dataset/yelp-dataset) con datos de negocios de Yelp que tenemos almacenados en una versión reducida en [yelp_academic_dataset_business.json](https://tajamar365.sharepoint.com/:u:/s/3405-MasterIA2024-2025/ERoGHfFcPLhNn_YpkErPJ1oB0k9319KZG7ds-_yuklBJAg?e=ToWz1U). Los negocios tienen una propiedad denominada `categories` que contiene un array con las categorías de los mismos:"
   ]
  },
  {
   "cell_type": "markdown",
   "metadata": {
    "application/vnd.databricks.v1+cell": {
     "cellMetadata": {},
     "inputWidgets": {},
     "nuid": "a566146e-e1da-4e2e-9b53-1b483e311cbf",
     "showTitle": false,
     "tableResultSettingsMap": {},
     "title": ""
    }
   },
   "source": [
    "```<JSON>\n",
    "{\n",
    "   \"business_id\":\"O_X3PGhk3Y5JWVi866qlJg\",\n",
    "   \"full_address\":\"1501 W Bell Rd\\nPhoenix, AZ 85023\",\n",
    "   \"hours\":{\n",
    "      \"Monday\":{\n",
    "         \"close\":\"18:00\",\n",
    "         \"open\":\"11:00\"\n",
    "      },\n",
    "      \"Tuesday\":{\n",
    "         \"close\":\"18:00\",\n",
    "         \"open\":\"11:00\"\n",
    "      },\n",
    "        ...\n",
    "   },\n",
    "   \"open\":true,\n",
    "   \"categories\":[\n",
    "      \"Active Life\",\n",
    "      \"Arts & Entertainment\",\n",
    "      \"Stadiums & Arenas\",\n",
    "      \"Horse Racing\"\n",
    "   ],\n",
    "   \"city\":\"Phoenix\",\n",
    "   ...\n",
    "}\n",
    "```"
   ]
  },
  {
   "cell_type": "markdown",
   "metadata": {
    "application/vnd.databricks.v1+cell": {
     "cellMetadata": {},
     "inputWidgets": {},
     "nuid": "6221d79b-7031-4f21-b534-7adfd42ae997",
     "showTitle": false,
     "tableResultSettingsMap": {},
     "title": ""
    }
   },
   "source": [
    "El primer paso es cargar el documento y ver el esquema inferido por Spark:"
   ]
  },
  {
   "cell_type": "code",
   "execution_count": 0,
   "metadata": {
    "application/vnd.databricks.v1+cell": {
     "cellMetadata": {
      "byteLimit": 2048000,
      "rowLimit": 10000
     },
     "inputWidgets": {},
     "nuid": "6eb5890b-69c7-4b5f-b55b-af2f04fe600f",
     "showTitle": false,
     "tableResultSettingsMap": {},
     "title": ""
    }
   },
   "outputs": [
    {
     "output_type": "stream",
     "name": "stdout",
     "output_type": "stream",
     "text": [
      "root\n |-- attributes: struct (nullable = true)\n |    |-- Accepts Credit Cards: boolean (nullable = true)\n |    |-- Alcohol: string (nullable = true)\n |    |-- Ambience: struct (nullable = true)\n |    |    |-- casual: boolean (nullable = true)\n |    |    |-- classy: boolean (nullable = true)\n |    |    |-- divey: boolean (nullable = true)\n |    |    |-- hipster: boolean (nullable = true)\n |    |    |-- intimate: boolean (nullable = true)\n |    |    |-- romantic: boolean (nullable = true)\n |    |    |-- touristy: boolean (nullable = true)\n |    |    |-- trendy: boolean (nullable = true)\n |    |    |-- upscale: boolean (nullable = true)\n |    |-- Attire: string (nullable = true)\n |    |-- Delivery: boolean (nullable = true)\n |    |-- Good For: struct (nullable = true)\n |    |    |-- breakfast: boolean (nullable = true)\n |    |    |-- brunch: boolean (nullable = true)\n |    |    |-- dessert: boolean (nullable = true)\n |    |    |-- dinner: boolean (nullable = true)\n |    |    |-- latenight: boolean (nullable = true)\n |    |    |-- lunch: boolean (nullable = true)\n |    |-- Good For Groups: boolean (nullable = true)\n |    |-- Good for Kids: boolean (nullable = true)\n |    |-- Has TV: boolean (nullable = true)\n |    |-- Noise Level: string (nullable = true)\n |    |-- Outdoor Seating: boolean (nullable = true)\n |    |-- Parking: struct (nullable = true)\n |    |    |-- garage: boolean (nullable = true)\n |    |    |-- lot: boolean (nullable = true)\n |    |    |-- street: boolean (nullable = true)\n |    |    |-- valet: boolean (nullable = true)\n |    |    |-- validated: boolean (nullable = true)\n |    |-- Price Range: long (nullable = true)\n |    |-- Take-out: boolean (nullable = true)\n |    |-- Takes Reservations: boolean (nullable = true)\n |    |-- Waiter Service: boolean (nullable = true)\n |    |-- Wheelchair Accessible: boolean (nullable = true)\n |    |-- Wi-Fi: string (nullable = true)\n |-- business_id: string (nullable = true)\n |-- categories: array (nullable = true)\n |    |-- element: string (containsNull = true)\n |-- city: string (nullable = true)\n |-- full_address: string (nullable = true)\n |-- hours: struct (nullable = true)\n |    |-- Friday: struct (nullable = true)\n |    |    |-- close: string (nullable = true)\n |    |    |-- open: string (nullable = true)\n |    |-- Monday: struct (nullable = true)\n |    |    |-- close: string (nullable = true)\n |    |    |-- open: string (nullable = true)\n |    |-- Saturday: struct (nullable = true)\n |    |    |-- close: string (nullable = true)\n |    |    |-- open: string (nullable = true)\n |    |-- Sunday: struct (nullable = true)\n |    |    |-- close: string (nullable = true)\n |    |    |-- open: string (nullable = true)\n |    |-- Thursday: struct (nullable = true)\n |    |    |-- close: string (nullable = true)\n |    |    |-- open: string (nullable = true)\n |    |-- Tuesday: struct (nullable = true)\n |    |    |-- close: string (nullable = true)\n |    |    |-- open: string (nullable = true)\n |    |-- Wednesday: struct (nullable = true)\n |    |    |-- close: string (nullable = true)\n |    |    |-- open: string (nullable = true)\n |-- latitude: double (nullable = true)\n |-- longitude: double (nullable = true)\n |-- name: string (nullable = true)\n |-- neighborhoods: array (nullable = true)\n |    |-- element: string (containsNull = true)\n |-- open: boolean (nullable = true)\n |-- review_count: long (nullable = true)\n |-- stars: double (nullable = true)\n |-- state: string (nullable = true)\n |-- type: string (nullable = true)\n\n"
     ]
    }
   ],
   "source": [
    "from pyspark.sql import SparkSession\n",
    "\n",
    "spark = SparkSession.builder.appName(\"s8a-dataframes-arrays\").getOrCreate()\n",
    "\n",
    "df = spark.read.option(\"inferSchema\", \"true\").option(\"multiline\",True).json(\"/FileStore/Notebook3/yelp_academic_dataset_business.json\")\n",
    "\n",
    "df.printSchema()"
   ]
  },
  {
   "cell_type": "markdown",
   "metadata": {
    "application/vnd.databricks.v1+cell": {
     "cellMetadata": {},
     "inputWidgets": {},
     "nuid": "e24d3c42-c2e8-4e7f-b15a-46cd131639f0",
     "showTitle": false,
     "tableResultSettingsMap": {},
     "title": ""
    }
   },
   "source": [
    "Como se puede observar, sigue una estructura de elementos anidados."
   ]
  },
  {
   "cell_type": "markdown",
   "metadata": {
    "application/vnd.databricks.v1+cell": {
     "cellMetadata": {},
     "inputWidgets": {},
     "nuid": "a2187ed3-47c8-4fc0-8c1a-ed181104293b",
     "showTitle": false,
     "tableResultSettingsMap": {},
     "title": ""
    }
   },
   "source": [
    "Por ejemplo, vamos a ver mediante un ejemplo las siguientes funciones:  \n",
    "- `size`: devuelve el tamaño de la colección  \n",
    "- `sort_array`: ordena la colección  \n",
    "- `array_contains`: comprueba si hay un elemento en la colección"
   ]
  },
  {
   "cell_type": "code",
   "execution_count": 0,
   "metadata": {
    "application/vnd.databricks.v1+cell": {
     "cellMetadata": {
      "byteLimit": 2048000,
      "rowLimit": 10000
     },
     "inputWidgets": {},
     "nuid": "efd02dad-5495-4214-957e-9dab90cffe9b",
     "showTitle": false,
     "tableResultSettingsMap": {},
     "title": ""
    }
   },
   "outputs": [
    {
     "output_type": "stream",
     "name": "stdout",
     "output_type": "stream",
     "text": [
      "+----------------------------------------------------------------------------------------------------------------+\n|hours                                                                                                           |\n+----------------------------------------------------------------------------------------------------------------+\n|{{18:00, 11:00}, {18:00, 11:00}, {18:00, 11:00}, {18:00, 11:00}, {18:00, 11:00}, {18:00, 11:00}, {18:00, 11:00}}|\n+----------------------------------------------------------------------------------------------------------------+\n\n"
     ]
    }
   ],
   "source": [
    "df.select(\"hours\").show(truncate=False)\n"
   ]
  },
  {
   "cell_type": "code",
   "execution_count": 0,
   "metadata": {
    "application/vnd.databricks.v1+cell": {
     "cellMetadata": {
      "byteLimit": 2048000,
      "rowLimit": 10000
     },
     "inputWidgets": {},
     "nuid": "f0c76c32-b8d7-4d02-8a3f-53883039ab7e",
     "showTitle": false,
     "tableResultSettingsMap": {},
     "title": ""
    }
   },
   "outputs": [],
   "source": [
    "df = df.filter(df[\"hours\"].isNotNull())\n"
   ]
  },
  {
   "cell_type": "code",
   "execution_count": 0,
   "metadata": {
    "application/vnd.databricks.v1+cell": {
     "cellMetadata": {
      "byteLimit": 2048000,
      "rowLimit": 10000
     },
     "inputWidgets": {},
     "nuid": "14d8a55c-1226-46ea-b64d-d3ea131c809c",
     "showTitle": false,
     "tableResultSettingsMap": {},
     "title": ""
    }
   },
   "outputs": [
    {
     "output_type": "stream",
     "name": "stdout",
     "output_type": "stream",
     "text": [
      "+-------------------------+--------------+---------------+--------------------------------------------------------------------+------------+\n|name                     |Sunday        |totalCategories|sortedCategories                                                    |isRestaurant|\n+-------------------------+--------------+---------------+--------------------------------------------------------------------+------------+\n|Turf Paradise Race Course|{18:00, 11:00}|4              |[Active Life, Arts & Entertainment, Horse Racing, Stadiums & Arenas]|false       |\n+-------------------------+--------------+---------------+--------------------------------------------------------------------+------------+\n\n"
     ]
    }
   ],
   "source": [
    "from pyspark.sql.functions import size, sort_array, array_contains\n",
    "\n",
    "df.select(\n",
    "    \"name\",\n",
    "    \"hours.Sunday\",\n",
    "    size(\"categories\").alias(\"totalCategories\"),  # Cuenta el número de elementos en la lista 'categories'\n",
    "    sort_array(\"categories\").alias(\"sortedCategories\"),  # Ordena los elementos de 'categories'\n",
    "    array_contains(\"categories\", \"Restaurants\").alias(\"isRestaurant\")  # Verifica si 'categories' contiene \"Restaurants\"\n",
    ").show(10, truncate=False)\n"
   ]
  },
  {
   "cell_type": "markdown",
   "metadata": {
    "application/vnd.databricks.v1+cell": {
     "cellMetadata": {},
     "inputWidgets": {},
     "nuid": "eae13f9f-a95f-4ad6-b374-a08fdbb1a469",
     "showTitle": false,
     "tableResultSettingsMap": {},
     "title": ""
    }
   },
   "source": [
    "Así pues, además del nombre, hemos obtenido el horario de los domingos utilizando la notación `.` para acceder a los campos anidados, la cantidad de categorías de cada comercio, un listado ordenado con sus categorías y finalmente si es un restaurante."
   ]
  },
  {
   "cell_type": "markdown",
   "metadata": {
    "application/vnd.databricks.v1+cell": {
     "cellMetadata": {},
     "inputWidgets": {},
     "nuid": "0de59636-5ebf-41b2-a691-332e1592124f",
     "showTitle": false,
     "tableResultSettingsMap": {},
     "title": ""
    }
   },
   "source": [
    "> **Tip**  \n",
    "> Recuerda que en el apartado `Agrupando colecciones` vimos como podemos crear colecciones al realizar una agrupación."
   ]
  },
  {
   "cell_type": "markdown",
   "metadata": {
    "application/vnd.databricks.v1+cell": {
     "cellMetadata": {},
     "inputWidgets": {},
     "nuid": "ee612170-0d7f-437f-bdc4-8309a5fee7a5",
     "showTitle": false,
     "tableResultSettingsMap": {},
     "title": ""
    }
   },
   "source": [
    "Otro tipo de operación que podemos realizar es desenrollar una colección mediante la función `explode` y generar una fila nueva por cada elemento de la colección:"
   ]
  },
  {
   "cell_type": "code",
   "execution_count": 0,
   "metadata": {
    "application/vnd.databricks.v1+cell": {
     "cellMetadata": {
      "byteLimit": 2048000,
      "rowLimit": 10000
     },
     "inputWidgets": {},
     "nuid": "8e31fc80-ae8e-4fd7-8436-f8a5914b5dc2",
     "showTitle": false,
     "tableResultSettingsMap": {},
     "title": ""
    }
   },
   "outputs": [
    {
     "output_type": "stream",
     "name": "stdout",
     "output_type": "stream",
     "text": [
      "+-------------------------+--------------------+\n|name                     |col                 |\n+-------------------------+--------------------+\n|Turf Paradise Race Course|Active Life         |\n|Turf Paradise Race Course|Arts & Entertainment|\n|Turf Paradise Race Course|Stadiums & Arenas   |\n|Turf Paradise Race Course|Horse Racing        |\n+-------------------------+--------------------+\n\n"
     ]
    }
   ],
   "source": [
    "from pyspark.sql.functions import explode\n",
    "\n",
    "df.select(\"name\", explode(\"categories\")).show(10, truncate=False)\n",
    "# +-------------------------+--------------------+\n",
    "# |name                     |col                 |\n",
    "# +-------------------------+--------------------+\n",
    "# |Turf Paradise Race Course|Active Life         |\n",
    "# |Turf Paradise Race Course|Arts & Entertainment|\n",
    "# |Turf Paradise Race Course|Stadiums & Arenas   |\n",
    "# |Turf Paradise Race Course|Horse Racing        |\n",
    "# |Sam's Club Members Only  |Tires               |\n",
    "# |Sam's Club Members Only  |Automotive          |\n",
    "# |Sam's Club Members Only  |Fashion             |\n",
    "# |Sam's Club Members Only  |Shopping            |\n",
    "# |Sam's Club Members Only  |Department Stores   |\n",
    "# |Forever 21               |Women's Clothing    |\n",
    "# +-------------------------+--------------------+\n",
    "# only showing top 10 rows"
   ]
  },
  {
   "cell_type": "markdown",
   "metadata": {
    "application/vnd.databricks.v1+cell": {
     "cellMetadata": {},
     "inputWidgets": {},
     "nuid": "1e6bc028-97ca-46a4-b6ff-343f4b36c482",
     "showTitle": false,
     "tableResultSettingsMap": {},
     "title": ""
    }
   },
   "source": [
    "### JSON  \n",
    "\n",
    "Es común que se de el caso de que los datos que leemos desde un sistema externo estén en formato JSON pero que el proceso de ingesta lo haya realizado como si fuera una cadena de texto.\n",
    "\n",
    "Supongamos que tenemos la siguiente cadena y generados un DataFrame a partir de un RDD:"
   ]
  },
  {
   "cell_type": "code",
   "execution_count": 0,
   "metadata": {
    "application/vnd.databricks.v1+cell": {
     "cellMetadata": {
      "byteLimit": 2048000,
      "rowLimit": 10000
     },
     "inputWidgets": {},
     "nuid": "e1f4da7a-acbc-4154-b1a1-7098945366ac",
     "showTitle": false,
     "tableResultSettingsMap": {},
     "title": ""
    }
   },
   "outputs": [],
   "source": [
    "tareas = [\"\"\"{\"dia\": \"Lunes\", \"tareas\": [\"Corregir ejercicios\", \"Ir a nadar\", \"Comprar pan\"]}\"\"\"]\n",
    "# ['{\"dia\": \"Lunes\", \"tareas\": [\"Corregir ejercicios\", \"Ir a nadar\", \"Comprar pan\"]}']\n",
    "tareasRDD = spark.sparkContext.parallelize(tareas)\n",
    "tareasStrDF = tareasRDD.toDF(\"string\")\n",
    "# tareasStrDF es un DF con una columna con nombre value de tipo string\n",
    "\n"
   ]
  },
  {
   "cell_type": "code",
   "execution_count": 0,
   "metadata": {
    "application/vnd.databricks.v1+cell": {
     "cellMetadata": {
      "byteLimit": 2048000,
      "rowLimit": 10000
     },
     "inputWidgets": {},
     "nuid": "f3ece677-2f5b-46c7-a403-8bd2871ee9aa",
     "showTitle": false,
     "tableResultSettingsMap": {},
     "title": ""
    }
   },
   "outputs": [
    {
     "output_type": "stream",
     "name": "stdout",
     "output_type": "stream",
     "text": [
      "root\n |-- value: string (nullable = true)\n\n"
     ]
    }
   ],
   "source": [
    "tareasStrDF.printSchema()\n",
    "# root\n",
    "#  |-- value: string (nullable = true)"
   ]
  },
  {
   "cell_type": "code",
   "execution_count": 0,
   "metadata": {
    "application/vnd.databricks.v1+cell": {
     "cellMetadata": {
      "byteLimit": 2048000,
      "rowLimit": 10000
     },
     "inputWidgets": {},
     "nuid": "c3d9d45c-37e4-4d76-aeb5-2f455ac071f8",
     "showTitle": false,
     "tableResultSettingsMap": {},
     "title": ""
    }
   },
   "outputs": [
    {
     "output_type": "stream",
     "name": "stdout",
     "output_type": "stream",
     "text": [
      "+--------------------+\n|               value|\n+--------------------+\n|{\"dia\": \"Lunes\", ...|\n+--------------------+\n\n"
     ]
    }
   ],
   "source": [
    "tareasStrDF.show()\n",
    "# +--------------------+\n",
    "# |               value|\n",
    "# +--------------------+\n",
    "# |{\"dia\": \"Lunes\", ...|\n",
    "# +--------------------+"
   ]
  },
  {
   "cell_type": "markdown",
   "metadata": {
    "application/vnd.databricks.v1+cell": {
     "cellMetadata": {},
     "inputWidgets": {},
     "nuid": "4a6296fd-5d5f-43b0-ac24-dabf17527128",
     "showTitle": false,
     "tableResultSettingsMap": {},
     "title": ""
    }
   },
   "source": [
    "Para pasarlo a JSON, necesitamos definir un esquema con la estructura del documento JSON:  "
   ]
  },
  {
   "cell_type": "code",
   "execution_count": 0,
   "metadata": {
    "application/vnd.databricks.v1+cell": {
     "cellMetadata": {
      "byteLimit": 2048000,
      "rowLimit": 10000
     },
     "inputWidgets": {},
     "nuid": "671d4a10-5cde-470b-9629-670029dc7aa9",
     "showTitle": false,
     "tableResultSettingsMap": {},
     "title": ""
    }
   },
   "outputs": [],
   "source": [
    "from pyspark.sql.types import StructType, StructField, StringType, ArrayType\n",
    "\n",
    "esquemaTareas = StructType([\n",
    "    StructField(\"dia\", StringType(), False),\n",
    "    StructField(\"tareas\", ArrayType(StringType(), False), False)\n",
    "])"
   ]
  },
  {
   "cell_type": "markdown",
   "metadata": {
    "application/vnd.databricks.v1+cell": {
     "cellMetadata": {},
     "inputWidgets": {},
     "nuid": "c8504840-859d-45f4-96b2-fb7dec7c0050",
     "showTitle": false,
     "tableResultSettingsMap": {},
     "title": ""
    }
   },
   "source": [
    "Y a continuación ya podemos transformar el formato mediante la función [`from_json`](https://spark.apache.org/docs/latest/api/python/reference/pyspark.sql/api/pyspark.sql.functions.from_json.html):"
   ]
  },
  {
   "cell_type": "code",
   "execution_count": 0,
   "metadata": {
    "application/vnd.databricks.v1+cell": {
     "cellMetadata": {
      "byteLimit": 2048000,
      "rowLimit": 10000
     },
     "inputWidgets": {},
     "nuid": "2805dc21-cd07-4307-941c-366fd9a1ddd6",
     "showTitle": false,
     "tableResultSettingsMap": {},
     "title": ""
    }
   },
   "outputs": [
    {
     "output_type": "stream",
     "name": "stdout",
     "output_type": "stream",
     "text": [
      "root\n |-- datos: struct (nullable = true)\n |    |-- dia: string (nullable = true)\n |    |-- tareas: array (nullable = true)\n |    |    |-- element: string (containsNull = true)\n\n"
     ]
    }
   ],
   "source": [
    "from pyspark.sql.functions import from_json\n",
    "\n",
    "todosDF = tareasStrDF.select(from_json(\"value\", esquemaTareas).alias(\"datos\"))\n",
    "todosDF.printSchema()\n",
    "# root\n",
    "#  |-- datos: struct (nullable = true)\n",
    "#  |    |-- dia: string (nullable = true)\n",
    "#  |    |-- tareas: array (nullable = true)\n",
    "#  |    |    |-- element: string (containsNull = true)"
   ]
  },
  {
   "cell_type": "markdown",
   "metadata": {
    "application/vnd.databricks.v1+cell": {
     "cellMetadata": {},
     "inputWidgets": {},
     "nuid": "9b4934b1-5259-42a7-8168-391b73207489",
     "showTitle": false,
     "tableResultSettingsMap": {},
     "title": ""
    }
   },
   "source": [
    "Y ahora ya podemos acceder a los datos (en el siguiente ejemplo empleamos la función `getItem` para acceder a un elemento de una columna, así como la notación punto mediante una expresión y los corchetes para recuperar un determinado elemento):"
   ]
  },
  {
   "cell_type": "code",
   "execution_count": 0,
   "metadata": {
    "application/vnd.databricks.v1+cell": {
     "cellMetadata": {
      "byteLimit": 2048000,
      "rowLimit": 10000
     },
     "inputWidgets": {},
     "nuid": "90d1b509-1645-426e-a629-ba8c725d6a91",
     "showTitle": false,
     "tableResultSettingsMap": {},
     "title": ""
    }
   },
   "outputs": [
    {
     "output_type": "stream",
     "name": "stdout",
     "output_type": "stream",
     "text": [
      "+---------+----------------------------------------------+-------------------+\n|datos.dia|tareas                                        |tarea1             |\n+---------+----------------------------------------------+-------------------+\n|Lunes    |[Corregir ejercicios, Ir a nadar, Comprar pan]|Corregir ejercicios|\n+---------+----------------------------------------------+-------------------+\n\n"
     ]
    }
   ],
   "source": [
    "todosDF.select(\n",
    "    col(\"datos\").getItem(\"dia\").alias(\"datos.dia\"),  # Extrae el campo 'dia'\n",
    "    col(\"datos\").getItem(\"tareas\").alias(\"tareas\"),  # Extrae el campo 'tareas' completo\n",
    "    col(\"datos\").getItem(\"tareas\")[0].alias(\"tarea1\")  # Accede al primer elemento de 'tareas'\n",
    ").show(truncate=False)\n"
   ]
  },
  {
   "cell_type": "markdown",
   "metadata": {
    "application/vnd.databricks.v1+cell": {
     "cellMetadata": {},
     "inputWidgets": {},
     "nuid": "492b546a-b734-4944-937d-60e6f1b021b6",
     "showTitle": false,
     "tableResultSettingsMap": {},
     "title": ""
    }
   },
   "source": [
    "Para terminar, si necesitamos la operación inversa, y lo que queremos es crear una representación JSON de una columna, podemos utilizar la función [to_json](https://spark.apache.org/docs/latest/api/python/reference/pyspark.sql/api/pyspark.sql.functions.to_json.html):"
   ]
  },
  {
   "cell_type": "code",
   "execution_count": 0,
   "metadata": {
    "application/vnd.databricks.v1+cell": {
     "cellMetadata": {
      "byteLimit": 2048000,
      "rowLimit": 10000
     },
     "inputWidgets": {},
     "nuid": "b5f3be16-a70f-42a5-9791-b3fde799b3a8",
     "showTitle": false,
     "tableResultSettingsMap": {},
     "title": ""
    }
   },
   "outputs": [
    {
     "output_type": "stream",
     "name": "stdout",
     "output_type": "stream",
     "text": [
      "+---------------------------------------------------------------------------+\n|to_json(datos)                                                             |\n+---------------------------------------------------------------------------+\n|{\"dia\":\"Lunes\",\"tareas\":[\"Corregir ejercicios\",\"Ir a nadar\",\"Comprar pan\"]}|\n+---------------------------------------------------------------------------+\n\n"
     ]
    }
   ],
   "source": [
    "from pyspark.sql.functions import to_json\n",
    "\n",
    "todosDF.select(to_json(\"datos\")).show(truncate=False)\n",
    "# +---------------------------------------------------------------------------+\n",
    "# |to_json(datos)                                                             |\n",
    "# +---------------------------------------------------------------------------+\n",
    "# |{\"dia\":\"Lunes\",\"tareas\":[\"Corregir ejercicios\",\"Ir a nadar\",\"Comprar pan\"]}|\n",
    "# +---------------------------------------------------------------------------+"
   ]
  },
  {
   "cell_type": "markdown",
   "metadata": {
    "application/vnd.databricks.v1+cell": {
     "cellMetadata": {},
     "inputWidgets": {},
     "nuid": "1d9833fd-bb5f-4bea-b436-f4c9e4df530d",
     "showTitle": false,
     "tableResultSettingsMap": {},
     "title": ""
    }
   },
   "source": [
    "### UDF  \n",
    "Además de las funciones que ofrece Spark, en cualquier momento podemos crear nuestras funciones de usuario (User-Defined Functions) para ampliar la expresividad de Spark. Antes de utilizarlas, las hemos de definir y registrar.\n",
    "\n",
    "Si volvemos al dataset de ventas, teníamos la siguiente información:"
   ]
  },
  {
   "cell_type": "code",
   "execution_count": 0,
   "metadata": {
    "application/vnd.databricks.v1+cell": {
     "cellMetadata": {
      "byteLimit": 2048000,
      "rowLimit": 10000
     },
     "inputWidgets": {},
     "nuid": "d21595e5-ea3c-4fee-8a95-2624335e6413",
     "showTitle": false,
     "tableResultSettingsMap": {},
     "title": ""
    }
   },
   "outputs": [
    {
     "output_type": "stream",
     "name": "stdout",
     "output_type": "stream",
     "text": [
      "root\n |-- ProductID: integer (nullable = true)\n |-- Date: date (nullable = true)\n |-- Zip: string (nullable = true)\n |-- Units: integer (nullable = true)\n |-- Revenue: double (nullable = true)\n |-- Country: string (nullable = true)\n\n"
     ]
    }
   ],
   "source": [
    "from pyspark.sql import SparkSession\n",
    "\n",
    "spark = SparkSession.builder.appName(\"s8a-dataframes-api\").getOrCreate()\n",
    "# Lectura de CSV con el ; como separador de columnas y con encabezado\n",
    "df = spark.read.option(\"sep\",\";\").option(\"header\", \"true\").option(\"inferSchema\", \"true\").csv(\"/FileStore/Notebook3/pdi_sales_small.csv\")\n",
    "df.printSchema()"
   ]
  },
  {
   "cell_type": "code",
   "execution_count": 0,
   "metadata": {
    "application/vnd.databricks.v1+cell": {
     "cellMetadata": {
      "byteLimit": 2048000,
      "rowLimit": 10000
     },
     "inputWidgets": {},
     "nuid": "679373a2-b2e4-4b1e-9041-3387758ada69",
     "showTitle": false,
     "tableResultSettingsMap": {},
     "title": ""
    }
   },
   "outputs": [
    {
     "output_type": "stream",
     "name": "stdout",
     "output_type": "stream",
     "text": [
      "+---------+-------+-----+\n|ProductID|Revenue|Units|\n+---------+-------+-----+\n|      495|43194.1|   77|\n|     2091| 6347.7|   41|\n|     2091| 6240.1|   41|\n|     2091| 3652.7|   24|\n|     2091| 3560.9|   23|\n+---------+-------+-----+\nonly showing top 5 rows\n\n"
     ]
    }
   ],
   "source": [
    "df.select(\"ProductID\", \"Revenue\", \"Units\").sort(\"Units\", ascending=False).show(5)\n",
    "# +---------+-------+-----+\n",
    "# |ProductID|Revenue|Units|\n",
    "# +---------+-------+-----+\n",
    "# |      495|43194.1|   77|\n",
    "# |     2091| 6347.7|   41|\n",
    "# |     2091| 6240.1|   41|\n",
    "# |     2091| 3652.7|   24|\n",
    "# |     2091| 3560.9|   23|\n",
    "# +---------+-------+-----+\n",
    "# only showing top 5 rows"
   ]
  },
  {
   "cell_type": "markdown",
   "metadata": {
    "application/vnd.databricks.v1+cell": {
     "cellMetadata": {},
     "inputWidgets": {},
     "nuid": "e472f724-028b-4e2b-b2bc-7550c55744bd",
     "showTitle": false,
     "tableResultSettingsMap": {},
     "title": ""
    }
   },
   "source": [
    "Vamos a crear una función para que, si vende más de una unidad, se le asigne a cada producto un bonus de un 1%. Para ello, primero definiremos la función mediante Python, y posteriormente, la registraremos mediante la función [udf](https://spark.apache.org/docs/latest/api/python/reference/pyspark.sql/api/pyspark.sql.functions.udf.html):"
   ]
  },
  {
   "cell_type": "code",
   "execution_count": 0,
   "metadata": {
    "application/vnd.databricks.v1+cell": {
     "cellMetadata": {
      "byteLimit": 2048000,
      "rowLimit": 10000
     },
     "inputWidgets": {},
     "nuid": "a3057eb4-b914-4b2c-95be-ed6451976853",
     "showTitle": false,
     "tableResultSettingsMap": {},
     "title": ""
    }
   },
   "outputs": [],
   "source": [
    "from pyspark.sql.functions import udf\n",
    "from pyspark.sql.types import DoubleType\n",
    "\n",
    "def bonus(unidades, ventas):\n",
    "    if unidades == 1 :\n",
    "        return 0.0\n",
    "    else:\n",
    "        return unidades * ventas / 100\n",
    "\n",
    "udfBonus = udf(bonus, DoubleType())"
   ]
  },
  {
   "cell_type": "markdown",
   "metadata": {
    "application/vnd.databricks.v1+cell": {
     "cellMetadata": {},
     "inputWidgets": {},
     "nuid": "4264c4df-328c-4a90-8f76-0bd6c35ca787",
     "showTitle": false,
     "tableResultSettingsMap": {},
     "title": ""
    }
   },
   "source": [
    "Así pues, si realizamos una consulta, ya podemos utilizar la función recién creada como si fuera una propia de Spark:"
   ]
  },
  {
   "cell_type": "code",
   "execution_count": 0,
   "metadata": {
    "application/vnd.databricks.v1+cell": {
     "cellMetadata": {
      "byteLimit": 2048000,
      "rowLimit": 10000
     },
     "inputWidgets": {},
     "nuid": "1081aa53-0b4b-4e1a-9e3d-cd19617cfa32",
     "showTitle": false,
     "tableResultSettingsMap": {},
     "title": ""
    }
   },
   "outputs": [
    {
     "output_type": "stream",
     "name": "stdout",
     "output_type": "stream",
     "text": [
      "+---------+-------+-----+---------------------+\n|ProductID|Revenue|Units|bonus(Units, Revenue)|\n+---------+-------+-----+---------------------+\n|      495|43194.1|   77|   33259.456999999995|\n|     2091| 6347.7|   41|             2602.557|\n|     2091| 6240.1|   41|   2558.4410000000003|\n|     2091| 3652.7|   24|    876.6479999999999|\n|     2091| 3560.9|   23|              819.007|\n+---------+-------+-----+---------------------+\nonly showing top 5 rows\n\n"
     ]
    }
   ],
   "source": [
    "df.select(\"ProductID\", \"Revenue\", \"Units\", udfBonus(df.Units, df.Revenue)).sort(\"Units\", ascending=False).show(5)\n",
    "# +---------+-------+-----+---------------------+\n",
    "# |ProductID|Revenue|Units|bonus(Units, Revenue)|\n",
    "# +---------+-------+-----+---------------------+\n",
    "# |      495|43194.1|   77|   33259.456999999995|\n",
    "# |     2091| 6347.7|   41|             2602.557|\n",
    "# |     2091| 6240.1|   41|   2558.4410000000003|\n",
    "# |     2091| 3652.7|   24|    876.6479999999999|\n",
    "# |     2091| 3560.9|   23|              819.007|\n",
    "# +---------+-------+-----+---------------------+\n",
    "# only showing top 5 rows"
   ]
  },
  {
   "cell_type": "markdown",
   "metadata": {
    "application/vnd.databricks.v1+cell": {
     "cellMetadata": {},
     "inputWidgets": {},
     "nuid": "6cd45341-3854-4f73-be5b-051b95df6ccc",
     "showTitle": false,
     "tableResultSettingsMap": {},
     "title": ""
    }
   },
   "source": [
    "Si queremos definir la función para poder utilizarla dentro de Spark SQL y obtener el mismo resultado, hemos de registrar la función mediante *spark.udf.register*, la cual recibe el nombre que le asignaremos a la función, el nombre de la función Python a invocar, y el tipo de dato que devuelve:"
   ]
  },
  {
   "cell_type": "code",
   "execution_count": 0,
   "metadata": {
    "application/vnd.databricks.v1+cell": {
     "cellMetadata": {
      "byteLimit": 2048000,
      "rowLimit": 10000
     },
     "inputWidgets": {},
     "nuid": "13faa06e-50bc-486e-a9df-3e69e56bdd63",
     "showTitle": false,
     "tableResultSettingsMap": {},
     "title": ""
    }
   },
   "outputs": [
    {
     "output_type": "stream",
     "name": "stdout",
     "output_type": "stream",
     "text": [
      "+---------+-------+-----+------------------+\n|ProductID|Revenue|Units|             Bonus|\n+---------+-------+-----+------------------+\n|      495|43194.1|   77|33259.456999999995|\n|     2091| 6347.7|   41|          2602.557|\n|     2091| 6240.1|   41|2558.4410000000003|\n|     2091| 3652.7|   24| 876.6479999999999|\n|     2091| 3560.9|   23|           819.007|\n+---------+-------+-----+------------------+\nonly showing top 5 rows\n\n"
     ]
    }
   ],
   "source": [
    "# Registra la función UDF\n",
    "spark.udf.register(\"udfBonus\", bonus, DoubleType())\n",
    "\n",
    "# Registra el DataFrame como una vista temporal\n",
    "df.createOrReplaceTempView(\"ventas\")\n",
    "\n",
    "# Ejecuta la consulta SQL\n",
    "spark.sql(\n",
    "    \"\"\"\n",
    "    SELECT ProductID, Revenue, Units, \n",
    "           udfBonus(Units, Revenue) AS Bonus\n",
    "    FROM ventas\n",
    "    ORDER BY Units DESC\n",
    "    \"\"\"\n",
    ").show(5)\n"
   ]
  },
  {
   "cell_type": "markdown",
   "metadata": {
    "application/vnd.databricks.v1+cell": {
     "cellMetadata": {},
     "inputWidgets": {},
     "nuid": "21528961-e64a-401f-a9e2-083fb960c09f",
     "showTitle": false,
     "tableResultSettingsMap": {},
     "title": ""
    }
   },
   "source": [
    "> **UDF y Python**  \n",
    "> En un principio, se desaconseja la creación de UDF mediante Python, ya que su uso penaliza de forma significativa el rendimiento. Los ejecutores son procesos en máquinas virtuales de Java que están escritos en Java, y por ello, ejecutan código Java o Scala de forma nativa. En cambio, para Python tiene que ejecutar un proceso separado para ejecutar la UDF, lo que implica un coste extra para serializar y volver a deserializar los datos para cada fila del dataset.  "
   ]
  },
  {
   "cell_type": "markdown",
   "metadata": {
    "application/vnd.databricks.v1+cell": {
     "cellMetadata": {},
     "inputWidgets": {},
     "nuid": "5de904c2-d10d-4eda-84a5-8cb7ad38a5a5",
     "showTitle": false,
     "tableResultSettingsMap": {},
     "title": ""
    }
   },
   "source": [
    "### Cacheando  \n",
    "\n",
    "Un DataFrame se puede persistir/cachear en memoria conforme necesitemos (también lo podemos hacer con los RDD). Su principal propósito es cuando vamos a acceder a un DataFrame una y otra vez y no necesitamos que se vuelvan a evaluar todas las operaciones (como pueden ser los algoritmos iterativos utilizados en Machine Learning)."
   ]
  },
  {
   "cell_type": "markdown",
   "metadata": {
    "application/vnd.databricks.v1+cell": {
     "cellMetadata": {},
     "inputWidgets": {},
     "nuid": "93dc4064-61b5-47dc-901f-0ebdc940da03",
     "showTitle": false,
     "tableResultSettingsMap": {},
     "title": ""
    }
   },
   "source": [
    "> Si estás interesado en optimizar el uso de memoria al trabajar con DataFrames, [Brayan Buitrago](https://brabuitrago.medium.com/) tiene una serie de artículos sobre [Spark Performace: Cache() & Persist()](https://medium.com/iwannabedatadriven/spark-performace-cache-persist-i-c39e0c142fe5) muy interesantes."
   ]
  },
  {
   "cell_type": "markdown",
   "metadata": {
    "application/vnd.databricks.v1+cell": {
     "cellMetadata": {},
     "inputWidgets": {},
     "nuid": "733909c4-0f3d-492c-bd39-f876dd76ae78",
     "showTitle": false,
     "tableResultSettingsMap": {},
     "title": ""
    }
   },
   "source": [
    "Cuando persistimos un dataset, cada nodo almacena sus datos particionados en memoria y/o disco y los reutiliza en otras operaciones sobre dicho dataset.  \n",
    "Para ello, se emplean los métodos [cache](https://spark.apache.org/docs/latest/api/python/reference/pyspark.sql/api/pyspark.sql.DataFrame.cache.html) / [persist](https://spark.apache.org/docs/latest/api/python/reference/pyspark.sql/api/pyspark.sql.DataFrame.persist.html) y [unpersist](https://spark.apache.org/docs/latest/api/python/reference/pyspark.sql/api/pyspark.sql.DataFrame.unpersist.html) para cachear y liberar los datos."
   ]
  },
  {
   "cell_type": "code",
   "execution_count": 0,
   "metadata": {
    "application/vnd.databricks.v1+cell": {
     "cellMetadata": {
      "byteLimit": 2048000,
      "rowLimit": 10000
     },
     "inputWidgets": {},
     "nuid": "b9291fc8-4839-4be8-a5b0-16430ca1beb2",
     "showTitle": false,
     "tableResultSettingsMap": {},
     "title": ""
    }
   },
   "outputs": [
    {
     "output_type": "stream",
     "name": "stdout",
     "output_type": "stream",
     "text": [
      "Out[56]: 120239"
     ]
    }
   ],
   "source": [
    "df.persist()\n",
    "df.count()  # forzamos la evaluación perezosa"
   ]
  },
  {
   "cell_type": "code",
   "execution_count": 0,
   "metadata": {
    "application/vnd.databricks.v1+cell": {
     "cellMetadata": {
      "byteLimit": 2048000,
      "rowLimit": 10000
     },
     "inputWidgets": {},
     "nuid": "51ae40e1-7664-477a-9693-2d3f89e04ffb",
     "showTitle": false,
     "tableResultSettingsMap": {},
     "title": ""
    }
   },
   "outputs": [],
   "source": [
    "# Filtrar para ventas en Canadá\n",
    "ventasCanada = df.filter(df[\"Country\"] == \"Canada\")\n"
   ]
  },
  {
   "cell_type": "markdown",
   "metadata": {
    "application/vnd.databricks.v1+cell": {
     "cellMetadata": {},
     "inputWidgets": {},
     "nuid": "995791f6-20c0-4cfb-aeaa-c6ad1ccbd3d4",
     "showTitle": false,
     "tableResultSettingsMap": {},
     "title": ""
    }
   },
   "source": [
    "\n",
    "añadimos la linea \n",
    "\n",
    "Registrar el DataFrame como una vista temporal\n",
    "\n",
    "``ventasCanada.createOrReplaceTempView(\"ventasCanada\")``\n",
    "\n",
    "para que funcione correctamente y reconozca ventasCanada\n"
   ]
  },
  {
   "cell_type": "code",
   "execution_count": 0,
   "metadata": {
    "application/vnd.databricks.v1+cell": {
     "cellMetadata": {
      "byteLimit": 2048000,
      "rowLimit": 10000
     },
     "inputWidgets": {},
     "nuid": "df826b8b-97ee-4370-a314-b730c8c25c8e",
     "showTitle": false,
     "tableResultSettingsMap": {},
     "title": ""
    }
   },
   "outputs": [],
   "source": [
    "# Registrar el DataFrame como una vista temporal\n",
    "ventasCanada.createOrReplaceTempView(\"ventasCanada\")\n",
    "\n",
    "# Ahora puedes usar cacheTable\n",
    "spark.catalog.cacheTable(\"ventasCanada\")\n",
    "\n"
   ]
  },
  {
   "cell_type": "code",
   "execution_count": 0,
   "metadata": {
    "application/vnd.databricks.v1+cell": {
     "cellMetadata": {
      "byteLimit": 2048000,
      "rowLimit": 10000
     },
     "inputWidgets": {},
     "nuid": "d6938e93-cdf3-481e-aff2-62fdb7406f8c",
     "showTitle": false,
     "tableResultSettingsMap": {},
     "title": ""
    }
   },
   "outputs": [
    {
     "output_type": "stream",
     "name": "stdout",
     "output_type": "stream",
     "text": [
      "+---------+----+---+-----+-------+-------+\n|ProductID|Date|Zip|Units|Revenue|Country|\n+---------+----+---+-----+-------+-------+\n+---------+----+---+-----+-------+-------+\n\n"
     ]
    }
   ],
   "source": [
    "spark.sql(\"SELECT * FROM ventasCanada\").show()\n"
   ]
  },
  {
   "cell_type": "markdown",
   "metadata": {
    "application/vnd.databricks.v1+cell": {
     "cellMetadata": {},
     "inputWidgets": {},
     "nuid": "0ca419fe-4251-44b2-8f86-c3c30595a2f7",
     "showTitle": false,
     "tableResultSettingsMap": {},
     "title": ""
    }
   },
   "source": [
    "Una vez persistidos los datos, si accedemos a http://localhost:4040 (si se usa Docker + Jupyter Lab) veremos en la pestaña Storage que se ha creado la tabla, su tipo de almacenamiento y particiones cacheadas. **Si estás en Databricks** has click en `Compute`, luego en `Spark UI` y despues click en `Storage`, deberias ver esto:"
   ]
  },
  {
   "cell_type": "markdown",
   "metadata": {
    "application/vnd.databricks.v1+cell": {
     "cellMetadata": {},
     "inputWidgets": {},
     "nuid": "f90caeca-c99b-45b3-b78e-0a84d1ae1398",
     "showTitle": false,
     "tableResultSettingsMap": {},
     "title": ""
    }
   },
   "source": [
    "![](https://community.cloud.databricks.com/files/Notebook_3/1.png)"
   ]
  },
  {
   "cell_type": "markdown",
   "metadata": {
    "application/vnd.databricks.v1+cell": {
     "cellMetadata": {},
     "inputWidgets": {},
     "nuid": "dfe56e33-a738-48ea-8642-db16b2b32119",
     "showTitle": false,
     "tableResultSettingsMap": {},
     "title": ""
    }
   },
   "source": [
    "Una diferencia fundamental a la hora de persistir un DataFrame en comparación con un RDD, es que como Spark SQL conoce el esquema de los datos en el DataFrame, puede organizarlos de forma columnar y aplicar compresión sobre éstos para minimizar el espacio necesario."
   ]
  },
  {
   "cell_type": "markdown",
   "metadata": {
    "application/vnd.databricks.v1+cell": {
     "cellMetadata": {},
     "inputWidgets": {},
     "nuid": "ea349fef-a888-4019-8001-bdaeba4e5a1b",
     "showTitle": false,
     "tableResultSettingsMap": {},
     "title": ""
    }
   },
   "source": [
    "## DataFrames y Pandas"
   ]
  },
  {
   "cell_type": "markdown",
   "metadata": {
    "application/vnd.databricks.v1+cell": {
     "cellMetadata": {},
     "inputWidgets": {},
     "nuid": "d5dd4b4e-28c5-448b-801a-a7cfe99b4a6d",
     "showTitle": false,
     "tableResultSettingsMap": {},
     "title": ""
    }
   },
   "source": [
    "En cualquier momento podemos pasar los datos de un DataFrame de PySpark a uno de Pandas para poder aprovechar su API.\n",
    "\n",
    "Si seguimos con el dataset de Yelp, vamos a preparar una consulta de nos devuelva la cantidad de votos recibidos y puntuación media de cada ciudad:"
   ]
  },
  {
   "cell_type": "code",
   "execution_count": 0,
   "metadata": {
    "application/vnd.databricks.v1+cell": {
     "cellMetadata": {
      "byteLimit": 2048000,
      "rowLimit": 10000
     },
     "inputWidgets": {},
     "nuid": "7663e35b-16d9-44ee-9f26-4a660dd8d727",
     "showTitle": false,
     "tableResultSettingsMap": {},
     "title": ""
    }
   },
   "outputs": [
    {
     "output_type": "stream",
     "name": "stdout",
     "output_type": "stream",
     "text": [
      "root\n |-- attributes: struct (nullable = true)\n |    |-- Accepts Credit Cards: boolean (nullable = true)\n |    |-- Alcohol: string (nullable = true)\n |    |-- Ambience: struct (nullable = true)\n |    |    |-- casual: boolean (nullable = true)\n |    |    |-- classy: boolean (nullable = true)\n |    |    |-- divey: boolean (nullable = true)\n |    |    |-- hipster: boolean (nullable = true)\n |    |    |-- intimate: boolean (nullable = true)\n |    |    |-- romantic: boolean (nullable = true)\n |    |    |-- touristy: boolean (nullable = true)\n |    |    |-- trendy: boolean (nullable = true)\n |    |    |-- upscale: boolean (nullable = true)\n |    |-- Attire: string (nullable = true)\n |    |-- Delivery: boolean (nullable = true)\n |    |-- Good For: struct (nullable = true)\n |    |    |-- breakfast: boolean (nullable = true)\n |    |    |-- brunch: boolean (nullable = true)\n |    |    |-- dessert: boolean (nullable = true)\n |    |    |-- dinner: boolean (nullable = true)\n |    |    |-- latenight: boolean (nullable = true)\n |    |    |-- lunch: boolean (nullable = true)\n |    |-- Good For Groups: boolean (nullable = true)\n |    |-- Good for Kids: boolean (nullable = true)\n |    |-- Has TV: boolean (nullable = true)\n |    |-- Noise Level: string (nullable = true)\n |    |-- Outdoor Seating: boolean (nullable = true)\n |    |-- Parking: struct (nullable = true)\n |    |    |-- garage: boolean (nullable = true)\n |    |    |-- lot: boolean (nullable = true)\n |    |    |-- street: boolean (nullable = true)\n |    |    |-- valet: boolean (nullable = true)\n |    |    |-- validated: boolean (nullable = true)\n |    |-- Price Range: long (nullable = true)\n |    |-- Take-out: boolean (nullable = true)\n |    |-- Takes Reservations: boolean (nullable = true)\n |    |-- Waiter Service: boolean (nullable = true)\n |    |-- Wheelchair Accessible: boolean (nullable = true)\n |    |-- Wi-Fi: string (nullable = true)\n |-- business_id: string (nullable = true)\n |-- categories: array (nullable = true)\n |    |-- element: string (containsNull = true)\n |-- city: string (nullable = true)\n |-- full_address: string (nullable = true)\n |-- hours: struct (nullable = true)\n |    |-- Friday: struct (nullable = true)\n |    |    |-- close: string (nullable = true)\n |    |    |-- open: string (nullable = true)\n |    |-- Monday: struct (nullable = true)\n |    |    |-- close: string (nullable = true)\n |    |    |-- open: string (nullable = true)\n |    |-- Saturday: struct (nullable = true)\n |    |    |-- close: string (nullable = true)\n |    |    |-- open: string (nullable = true)\n |    |-- Sunday: struct (nullable = true)\n |    |    |-- close: string (nullable = true)\n |    |    |-- open: string (nullable = true)\n |    |-- Thursday: struct (nullable = true)\n |    |    |-- close: string (nullable = true)\n |    |    |-- open: string (nullable = true)\n |    |-- Tuesday: struct (nullable = true)\n |    |    |-- close: string (nullable = true)\n |    |    |-- open: string (nullable = true)\n |    |-- Wednesday: struct (nullable = true)\n |    |    |-- close: string (nullable = true)\n |    |    |-- open: string (nullable = true)\n |-- latitude: double (nullable = true)\n |-- longitude: double (nullable = true)\n |-- name: string (nullable = true)\n |-- neighborhoods: array (nullable = true)\n |    |-- element: string (containsNull = true)\n |-- open: boolean (nullable = true)\n |-- review_count: long (nullable = true)\n |-- stars: double (nullable = true)\n |-- state: string (nullable = true)\n |-- type: string (nullable = true)\n\n"
     ]
    }
   ],
   "source": [
    "from pyspark.sql import SparkSession\n",
    "\n",
    "spark = SparkSession.builder.appName(\"s8a-dataframes-arrays\").getOrCreate()\n",
    "\n",
    "df = spark.read.option(\"inferSchema\", \"true\").option(\"multiline\",True).json(\"/FileStore/Notebook3/yelp_academic_dataset_business.json\")\n",
    "\n",
    "df.printSchema()"
   ]
  },
  {
   "cell_type": "code",
   "execution_count": 0,
   "metadata": {
    "application/vnd.databricks.v1+cell": {
     "cellMetadata": {
      "byteLimit": 2048000,
      "rowLimit": 10000
     },
     "inputWidgets": {},
     "nuid": "d23471a7-bcda-4005-81ee-2991e29b61c5",
     "showTitle": false,
     "tableResultSettingsMap": {},
     "title": ""
    }
   },
   "outputs": [
    {
     "output_type": "stream",
     "name": "stdout",
     "output_type": "stream",
     "text": [
      "+-------+\n|   city|\n+-------+\n|Phoenix|\n+-------+\n\n"
     ]
    }
   ],
   "source": [
    "df.select(\"city\").distinct().show()\n"
   ]
  },
  {
   "cell_type": "code",
   "execution_count": 0,
   "metadata": {
    "application/vnd.databricks.v1+cell": {
     "cellMetadata": {
      "byteLimit": 2048000,
      "rowLimit": 10000
     },
     "inputWidgets": {},
     "nuid": "21ac00d8-ccf4-48cf-9330-613003294185",
     "showTitle": false,
     "tableResultSettingsMap": {},
     "title": ""
    }
   },
   "outputs": [
    {
     "output_type": "stream",
     "name": "stdout",
     "output_type": "stream",
     "text": [
      "+-------+-----+-----+\n|   city|votos|media|\n+-------+-----+-----+\n|Phoenix|    1|  4.0|\n+-------+-----+-----+\n\n"
     ]
    }
   ],
   "source": [
    "from pyspark.sql.functions import count, avg, round\n",
    "dfVotosCiudades = df.groupBy(\"city\").agg(count(\"city\").alias(\"votos\"), round(avg(\"stars\"), 3).alias(\"media\")).orderBy(\"votos\", ascending=False).limit(10)\n",
    "dfVotosCiudades.show()\n",
    "# +----------+-----+-----+\n",
    "# |      city|votos|media|\n",
    "# +----------+-----+-----+\n",
    "# |   Phoenix| 5492|3.658|\n",
    "# |Scottsdale| 2617|3.809|\n",
    "# |     Tempe| 1444| 3.64|\n",
    "# |      Mesa| 1348|3.644|\n",
    "# |  Chandler| 1178|3.677|\n",
    "# |  Glendale|  821|3.588|\n",
    "# |   Gilbert|  630|3.755|\n",
    "# |    Peoria|  385|3.614|\n",
    "# |  Surprise|  241|3.598|\n",
    "# |  Goodyear|  214|3.498|\n",
    "# +----------+-----+-----+\n",
    "# Esta salida se corresponde a la dataset completa de Kaggle en vez de nuestra muestra"
   ]
  },
  {
   "cell_type": "markdown",
   "metadata": {
    "application/vnd.databricks.v1+cell": {
     "cellMetadata": {},
     "inputWidgets": {},
     "nuid": "d107cce3-8574-40f2-9077-d3d62c0b9c36",
     "showTitle": false,
     "tableResultSettingsMap": {},
     "title": ""
    }
   },
   "source": [
    "Nos traemos esos datos a Pandas mediante el método .`toPandas()`.:"
   ]
  },
  {
   "cell_type": "code",
   "execution_count": 0,
   "metadata": {
    "application/vnd.databricks.v1+cell": {
     "cellMetadata": {
      "byteLimit": 2048000,
      "rowLimit": 10000
     },
     "inputWidgets": {},
     "nuid": "6fd36b24-afa4-4d7e-a4ec-0608255e19c8",
     "showTitle": false,
     "tableResultSettingsMap": {},
     "title": ""
    }
   },
   "outputs": [],
   "source": [
    "pdVC = dfVotosCiudades.toPandas()"
   ]
  },
  {
   "cell_type": "markdown",
   "metadata": {
    "application/vnd.databricks.v1+cell": {
     "cellMetadata": {},
     "inputWidgets": {},
     "nuid": "da8d4250-9e17-4dd8-812e-a856a0e5f162",
     "showTitle": false,
     "tableResultSettingsMap": {},
     "title": ""
    }
   },
   "source": [
    "A partir de este momento pdVC es un DataFrame de Pandas:"
   ]
  },
  {
   "cell_type": "code",
   "execution_count": 0,
   "metadata": {
    "application/vnd.databricks.v1+cell": {
     "cellMetadata": {
      "byteLimit": 2048000,
      "rowLimit": 10000
     },
     "inputWidgets": {},
     "nuid": "22172bb0-73a6-4c92-be7f-27e306050ce2",
     "showTitle": false,
     "tableResultSettingsMap": {},
     "title": ""
    }
   },
   "outputs": [
    {
     "output_type": "display_data",
     "data": {
      "text/html": [
       "<div>\n",
       "<style scoped>\n",
       "    .dataframe tbody tr th:only-of-type {\n",
       "        vertical-align: middle;\n",
       "    }\n",
       "\n",
       "    .dataframe tbody tr th {\n",
       "        vertical-align: top;\n",
       "    }\n",
       "\n",
       "    .dataframe thead th {\n",
       "        text-align: right;\n",
       "    }\n",
       "</style>\n",
       "<table border=\"1\" class=\"dataframe\">\n",
       "  <thead>\n",
       "    <tr style=\"text-align: right;\">\n",
       "      <th></th>\n",
       "      <th>city</th>\n",
       "      <th>votos</th>\n",
       "      <th>media</th>\n",
       "    </tr>\n",
       "  </thead>\n",
       "  <tbody>\n",
       "    <tr>\n",
       "      <th>0</th>\n",
       "      <td>Phoenix</td>\n",
       "      <td>1</td>\n",
       "      <td>4.0</td>\n",
       "    </tr>\n",
       "  </tbody>\n",
       "</table>\n",
       "</div>"
      ]
     },
     "metadata": {
      "application/vnd.databricks.v1+output": {
       "addedWidgets": {},
       "arguments": {},
       "data": "<div>\n<style scoped>\n    .dataframe tbody tr th:only-of-type {\n        vertical-align: middle;\n    }\n\n    .dataframe tbody tr th {\n        vertical-align: top;\n    }\n\n    .dataframe thead th {\n        text-align: right;\n    }\n</style>\n<table border=\"1\" class=\"dataframe\">\n  <thead>\n    <tr style=\"text-align: right;\">\n      <th></th>\n      <th>city</th>\n      <th>votos</th>\n      <th>media</th>\n    </tr>\n  </thead>\n  <tbody>\n    <tr>\n      <th>0</th>\n      <td>Phoenix</td>\n      <td>1</td>\n      <td>4.0</td>\n    </tr>\n  </tbody>\n</table>\n</div>",
       "datasetInfos": [],
       "metadata": {},
       "removedWidgets": [],
       "textData": null,
       "type": "htmlSandbox"
      }
     },
     "output_type": "display_data"
    }
   ],
   "source": [
    "pdVC"
   ]
  },
  {
   "cell_type": "markdown",
   "metadata": {
    "application/vnd.databricks.v1+cell": {
     "cellMetadata": {},
     "inputWidgets": {},
     "nuid": "c0152bcf-3c61-4f05-840e-4b93ac61beda",
     "showTitle": false,
     "tableResultSettingsMap": {},
     "title": ""
    }
   },
   "source": [
    "Y con el DataFrame de Pandas, ya podemos generar gráficos:"
   ]
  },
  {
   "cell_type": "code",
   "execution_count": 0,
   "metadata": {
    "application/vnd.databricks.v1+cell": {
     "cellMetadata": {
      "byteLimit": 2048000,
      "rowLimit": 10000
     },
     "inputWidgets": {},
     "nuid": "0a8ece8b-20a4-4419-9284-a6bd5b56a733",
     "showTitle": false,
     "tableResultSettingsMap": {},
     "title": ""
    }
   },
   "outputs": [
    {
     "output_type": "display_data",
     "data": {
      "application/vnd.databricks.v1+bamboolib_hint": "{\"pd.DataFrames\": [\"pdVC\"], \"version\": \"0.0.1\"}",
      "text/plain": []
     },
     "metadata": {},
     "output_type": "display_data"
    },
    {
     "output_type": "display_data",
     "data": {
      "image/png": "[encoded data removed]"
     },
     "metadata": {
      "application/vnd.databricks.v1+output": {
       "addedWidgets": {},
       "arguments": {},
       "data": "data:image/png;base64,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\n",
       "datasetInfos": [],
       "metadata": {},
       "removedWidgets": [],
       "type": "image"
      }
     },
     "output_type": "display_data"
    }
   ],
   "source": [
    "import pandas as pd\n",
    "import matplotlib.pyplot as plt\n",
    "import seaborn as sns\n",
    "\n",
    "plt.figure(figsize=(10,6))\n",
    "plt.ticklabel_format(useOffset=False, style=\"plain\")\n",
    "sns.set_theme(style=\"whitegrid\")\n",
    "sns.barplot(x=\"votos\", y=\"city\", data=pdVC).set_title(\"Votos por Ciudad\")\n",
    "plt.xlabel(\"Votos emitidos\")\n",
    "plt.ylabel(\"Ciudades\")\n",
    "\n",
    "plt.show()"
   ]
  },
  {
   "cell_type": "markdown",
   "metadata": {
    "application/vnd.databricks.v1+cell": {
     "cellMetadata": {},
     "inputWidgets": {},
     "nuid": "f9c07fbc-59dd-4fc9-91a3-aaec04c2c146",
     "showTitle": false,
     "tableResultSettingsMap": {},
     "title": ""
    }
   },
   "source": [
    "Mas exactamente la salida para la dataset completa sería:  \n",
    "![](https://community.cloud.databricks.com/files/Notebook_3/5.png)"
   ]
  },
  {
   "cell_type": "markdown",
   "metadata": {
    "application/vnd.databricks.v1+cell": {
     "cellMetadata": {},
     "inputWidgets": {},
     "nuid": "f7e683c1-3caa-4c6d-b66a-845baa967203",
     "showTitle": false,
     "tableResultSettingsMap": {},
     "title": ""
    }
   },
   "source": [
    "O por ejemplo, si queremos unir dos gráficos:"
   ]
  },
  {
   "cell_type": "code",
   "execution_count": 0,
   "metadata": {
    "application/vnd.databricks.v1+cell": {
     "cellMetadata": {
      "byteLimit": 2048000,
      "rowLimit": 10000
     },
     "inputWidgets": {},
     "nuid": "b59431c8-20e2-4dae-b70d-7851714b8ca1",
     "showTitle": false,
     "tableResultSettingsMap": {},
     "title": ""
    }
   },
   "outputs": [
    {
     "output_type": "display_data",
     "data": {
      "image/png": "[encoded data removed]"
     },
     "metadata": {
      "application/vnd.databricks.v1+output": {
       "addedWidgets": {},
       "arguments": {},
       "data": "data:image/png;base64,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\n",
       "datasetInfos": [],
       "metadata": {},
       "removedWidgets": [],
       "type": "image"
      }
     },
     "output_type": "display_data"
    }
   ],
   "source": [
    "plt.figure(figsize=(10,6))\n",
    "sns.set_theme(style=\"white\")\n",
    "ax = sns.barplot(data = pdVC, y=\"votos\", x=\"city\")\n",
    "\n",
    "ax2 = ax.twinx()\n",
    "sns.lineplot(data = pdVC['media'], marker='o', color='crimson', ax=ax2)\n",
    "plt.show()"
   ]
  },
  {
   "cell_type": "markdown",
   "metadata": {
    "application/vnd.databricks.v1+cell": {
     "cellMetadata": {},
     "inputWidgets": {},
     "nuid": "513628db-1b01-44df-86ac-8eb0b1d51d2c",
     "showTitle": false,
     "tableResultSettingsMap": {},
     "title": ""
    }
   },
   "source": [
    "Mas exactamente la salida para la dataset completa sería:  \n",
    "![](https://community.cloud.databricks.com/files/Notebook_3/6.png)"
   ]
  },
  {
   "cell_type": "markdown",
   "metadata": {
    "application/vnd.databricks.v1+cell": {
     "cellMetadata": {},
     "inputWidgets": {},
     "nuid": "fa4a1bc1-d78c-4c29-b066-f8f027731416",
     "showTitle": false,
     "tableResultSettingsMap": {},
     "title": ""
    }
   },
   "source": [
    "> **Out of Memory**  \n",
    "> Mucho cuidado al utilizar Pandas, ya que al convertir el DataFrame nos vamos a traer todos los datos al driver, perdiendo la distribución de los datos y pudiendo provocar un error de falta de memoria."
   ]
  },
  {
   "cell_type": "markdown",
   "metadata": {
    "application/vnd.databricks.v1+cell": {
     "cellMetadata": {},
     "inputWidgets": {},
     "nuid": "8348636d-93ae-49bf-89c0-6c354b1d2d10",
     "showTitle": false,
     "tableResultSettingsMap": {},
     "title": ""
    }
   },
   "source": [
    "Así pues, hay que evitar a toda costa utilizar Pandas para tratar los datos, ya que perdemos toda la potencia de trabajo en clúster (Pandas sólo puede utilizar los recursos del nodo principal). Únicamente lo utilizaremos cuando vayamos a visualizar los datos mediante Matplotlib / Seaborn como requisito de estas librerías."
   ]
  },
  {
   "cell_type": "markdown",
   "metadata": {
    "application/vnd.databricks.v1+cell": {
     "cellMetadata": {},
     "inputWidgets": {},
     "nuid": "3a8a51b3-9a43-40f9-a54a-14a76007804a",
     "showTitle": false,
     "tableResultSettingsMap": {},
     "title": ""
    }
   },
   "source": [
    "> **Pandas y Koalas**  \n",
    "> Desde la versión 3.2 de Spark, la librería de [Koalas](https://koalas.readthedocs.io/en/latest/) se ha integrado en Spark, dando lugar a poder utilizar el API de Pandas directamente desde Spark, lo que facilita el aprendizaje de Spark para aquellos desarrolladores que ya dominan Pandas. Para ello, únicamente hemos de importar la librería:  \n",
    "`import pyspark.pandas as ps`  \n",
    "Y acceder a `ps` de la misma manera que usamos `pd` al trabajar con Pandas.  \n",
    "Un artículo muy interesante es [Run Pandas as Fast as Spark.](https://towardsdatascience.com/run-pandas-as-fast-as-spark-f5eefe780c45)"
   ]
  },
  {
   "cell_type": "markdown",
   "metadata": {
    "application/vnd.databricks.v1+cell": {
     "cellMetadata": {},
     "inputWidgets": {},
     "nuid": "25687518-b30c-4d96-bd4e-95203f986539",
     "showTitle": false,
     "tableResultSettingsMap": {},
     "title": ""
    }
   },
   "source": [
    "# Actividades"
   ]
  },
  {
   "cell_type": "markdown",
   "metadata": {
    "application/vnd.databricks.v1+cell": {
     "cellMetadata": {},
     "inputWidgets": {},
     "nuid": "696e4235-c336-46e9-a353-6453454b8199",
     "showTitle": false,
     "tableResultSettingsMap": {},
     "title": ""
    }
   },
   "source": [
    "En las siguientes actividades vamos a realizar agregaciones mediante el uso del API de DataFrames de Spark."
   ]
  },
  {
   "cell_type": "code",
   "execution_count": 0,
   "metadata": {
    "application/vnd.databricks.v1+cell": {
     "cellMetadata": {
      "byteLimit": 2048000,
      "rowLimit": 10000
     },
     "inputWidgets": {},
     "nuid": "27d9fbc3-9dd7-435a-bff5-af5294e9e6bc",
     "showTitle": false,
     "tableResultSettingsMap": {},
     "title": ""
    }
   },
   "outputs": [],
   "source": [
    "from pyspark.sql import SparkSession\n",
    "from pyspark.sql.types import StructType, StructField, StringType, IntegerType\n",
    "\n",
    "# Crear una sesión de Spark\n",
    "spark = SparkSession.builder.getOrCreate()\n",
    "\n",
    "# Definir el esquema para el archivo movies.tsv\n",
    "esquema = StructType([\n",
    "    StructField(\"interprete\", StringType(), True),\n",
    "    StructField(\"pelicula\", StringType(), True),\n",
    "    StructField(\"anyo\", IntegerType(), True)\n",
    "])\n",
    "\n",
    "# Cargar los datos en un DataFrame\n",
    "df = spark.read.option(\"header\", False).option(\"sep\", \"\\t\").schema(esquema).csv(\"dbfs:/FileStore/Notebook2/movies.tsv\")"
   ]
  },
  {
   "cell_type": "markdown",
   "metadata": {
    "application/vnd.databricks.v1+cell": {
     "cellMetadata": {},
     "inputWidgets": {},
     "nuid": "c7168264-0d67-4d22-8082-765e3c414bbe",
     "showTitle": false,
     "tableResultSettingsMap": {},
     "title": ""
    }
   },
   "source": [
    "1. Sobre las películas de la sesión anterior:  \n",
    "  a. ¿Cuantas películas diferentes hay?\n",
    "\n"
   ]
  },
  {
   "cell_type": "code",
   "execution_count": 0,
   "metadata": {
    "application/vnd.databricks.v1+cell": {
     "cellMetadata": {
      "byteLimit": 2048000,
      "rowLimit": 10000
     },
     "inputWidgets": {},
     "nuid": "cb393e81-d14c-4bec-93ae-5bef2740d1f0",
     "showTitle": false,
     "tableResultSettingsMap": {},
     "title": ""
    }
   },
   "outputs": [
    {
     "output_type": "stream",
     "name": "stdout",
     "output_type": "stream",
     "text": [
      "Cantidad de películas diferentes: 1409\n"
     ]
    }
   ],
   "source": [
    "num_peliculas = df.select(\"pelicula\").distinct().count()\n",
    "print(f\"Cantidad de películas diferentes: {num_peliculas}\")\n",
    "\n"
   ]
  },
  {
   "cell_type": "markdown",
   "metadata": {
    "application/vnd.databricks.v1+cell": {
     "cellMetadata": {},
     "inputWidgets": {},
     "nuid": "513e8217-17f6-4921-8842-6010da2ce78e",
     "showTitle": false,
     "tableResultSettingsMap": {},
     "title": ""
    }
   },
   "source": [
    "  b. ¿En cuantas películas ha trabajado Murphy, Eddie (I)?  \n",
    " "
   ]
  },
  {
   "cell_type": "code",
   "execution_count": 0,
   "metadata": {
    "application/vnd.databricks.v1+cell": {
     "cellMetadata": {
      "byteLimit": 2048000,
      "rowLimit": 10000
     },
     "inputWidgets": {},
     "nuid": "61ac32d3-2586-454e-b858-0ed29af928f1",
     "showTitle": false,
     "tableResultSettingsMap": {},
     "title": ""
    }
   },
   "outputs": [
    {
     "output_type": "stream",
     "name": "stdout",
     "output_type": "stream",
     "text": [
      "Películas de Eddie Murphy: 21\n"
     ]
    }
   ],
   "source": [
    "peliculas_eddie = df.filter(df['interprete'] == 'Murphy, Eddie (I)').select(\"pelicula\").distinct().count()\n",
    "print(f\"Películas de Eddie Murphy: {peliculas_eddie}\")\n"
   ]
  },
  {
   "cell_type": "markdown",
   "metadata": {
    "application/vnd.databricks.v1+cell": {
     "cellMetadata": {},
     "inputWidgets": {},
     "nuid": "d2da25f7-3634-4a50-b457-7eec93d3391b",
     "showTitle": false,
     "tableResultSettingsMap": {},
     "title": ""
    }
   },
   "source": [
    " c. ¿Cuáles son los actores que han aparecido en más de 30 películas?"
   ]
  },
  {
   "cell_type": "code",
   "execution_count": 0,
   "metadata": {
    "application/vnd.databricks.v1+cell": {
     "cellMetadata": {
      "byteLimit": 2048000,
      "rowLimit": 10000
     },
     "inputWidgets": {},
     "nuid": "8bf79d45-8b72-4538-8c36-37177a46d3f9",
     "showTitle": false,
     "tableResultSettingsMap": {},
     "title": ""
    }
   },
   "outputs": [
    {
     "output_type": "stream",
     "name": "stdout",
     "output_type": "stream",
     "text": [
      "+------------------+-----+\n|        interprete|count|\n+------------------+-----+\n|     Harnell, Jess|   31|\n|  Tatasciore, Fred|   38|\n|Jackson, Samuel L.|   32|\n|     Welker, Frank|   38|\n+------------------+-----+\n\n"
     ]
    }
   ],
   "source": [
    "from pyspark.sql.functions import col\n",
    "\n",
    "actores_mas_30 = df.groupBy(\"interprete\").count().filter(col(\"count\") > 30)\n",
    "actores_mas_30.show()\n"
   ]
  },
  {
   "cell_type": "markdown",
   "metadata": {
    "application/vnd.databricks.v1+cell": {
     "cellMetadata": {},
     "inputWidgets": {},
     "nuid": "cc9f613c-fb30-4954-b077-319beac39c06",
     "showTitle": false,
     "tableResultSettingsMap": {},
     "title": ""
    }
   },
   "source": [
    "d. ¿En que película anterior a 1980 aparecen al menos 25 intérpretes?  "
   ]
  },
  {
   "cell_type": "code",
   "execution_count": 0,
   "metadata": {
    "application/vnd.databricks.v1+cell": {
     "cellMetadata": {
      "byteLimit": 2048000,
      "rowLimit": 10000
     },
     "inputWidgets": {},
     "nuid": "c10aaae4-77d8-475f-8121-664096f0fd8d",
     "showTitle": false,
     "tableResultSettingsMap": {},
     "title": ""
    }
   },
   "outputs": [
    {
     "output_type": "stream",
     "name": "stdout",
     "output_type": "stream",
     "text": [
      "+---------+-----+\n| pelicula|count|\n+---------+-----+\n|Star Wars|   25|\n+---------+-----+\n\n"
     ]
    }
   ],
   "source": [
    "peliculas_1980 = df.filter(df['anyo'] < 1980).groupBy(\"pelicula\").count().filter(col(\"count\") >= 25)\n",
    "peliculas_1980.show(1)\n"
   ]
  },
  {
   "cell_type": "markdown",
   "metadata": {
    "application/vnd.databricks.v1+cell": {
     "cellMetadata": {},
     "inputWidgets": {},
     "nuid": "ca6f753a-9c21-455b-91c4-59731f4e0ef3",
     "showTitle": false,
     "tableResultSettingsMap": {},
     "title": ""
    }
   },
   "source": [
    "e. Muestra la cantidad de películas producidas cada año (solo debe mostrar el año y la cantidad), ordenando el listado por la cantidad de forma descendente.  "
   ]
  },
  {
   "cell_type": "code",
   "execution_count": 0,
   "metadata": {
    "application/vnd.databricks.v1+cell": {
     "cellMetadata": {
      "byteLimit": 2048000,
      "rowLimit": 10000
     },
     "inputWidgets": {},
     "nuid": "c4c1af4b-0747-4153-8fcf-8f98c94ab64d",
     "showTitle": false,
     "tableResultSettingsMap": {},
     "title": ""
    }
   },
   "outputs": [
    {
     "output_type": "stream",
     "name": "stdout",
     "output_type": "stream",
     "text": [
      "+----+-----+\n|anyo|count|\n+----+-----+\n|2006| 2078|\n|2004| 2005|\n|2007| 1986|\n|2005| 1960|\n|2011| 1926|\n|2008| 1892|\n|2009| 1890|\n|2010| 1843|\n|2002| 1834|\n|2001| 1687|\n|2003| 1652|\n|2000| 1639|\n|1997| 1584|\n|1999| 1401|\n|1998| 1372|\n|1996|  916|\n|2012|  601|\n|1995|  498|\n|1994|  358|\n|1992|  304|\n+----+-----+\nonly showing top 20 rows\n\n"
     ]
    }
   ],
   "source": [
    "peliculas_por_ano = df.groupBy(\"anyo\").count().orderBy(col(\"count\").desc())\n",
    "peliculas_por_ano.show()\n"
   ]
  },
  {
   "cell_type": "markdown",
   "metadata": {
    "application/vnd.databricks.v1+cell": {
     "cellMetadata": {},
     "inputWidgets": {},
     "nuid": "21223f0b-ce03-4254-8ef8-9b8f12460b69",
     "showTitle": false,
     "tableResultSettingsMap": {},
     "title": ""
    }
   },
   "source": [
    "2.  Nos han enviado un nuevo archivo llamado [movie-ratings.tsv](https://tajamar365.sharepoint.com/:u:/s/3405-MasterIA2024-2025/ESyjlCu2YQdGpqcMWiFTCp0BNJZaVLAXMurp-xVf_aUwsA?e=MxM7Bb) que contiene las calificaciones de las películas.  \n",
    "  a. Crea un DataFrame que contenga los datos de ambos datasets.  \n",
    "  "
   ]
  },
  {
   "cell_type": "code",
   "execution_count": 0,
   "metadata": {
    "application/vnd.databricks.v1+cell": {
     "cellMetadata": {
      "byteLimit": 2048000,
      "rowLimit": 10000
     },
     "inputWidgets": {},
     "nuid": "b9cba5b2-8a0a-4f1e-9aea-03e97026f4df",
     "showTitle": false,
     "tableResultSettingsMap": {},
     "title": ""
    }
   },
   "outputs": [
    {
     "output_type": "stream",
     "name": "stdout",
     "output_type": "stream",
     "text": [
      "DataFrame combinado:\n+--------------------+-----------------+----+------+\n|            pelicula|       interprete|anyo|rating|\n+--------------------+-----------------+----+------+\n|       Freaky Friday|McClure, Marc (I)|2003|0.3847|\n|        Coach Carter|McClure, Marc (I)|2005|0.9858|\n|         Superman II|McClure, Marc (I)|1980|0.8739|\n|           Apollo 13|McClure, Marc (I)|1995|1.0267|\n|            Superman|McClure, Marc (I)|1978|1.1982|\n|  Back to the Future|McClure, Marc (I)|1985|0.1904|\n|Back to the Futur...|McClure, Marc (I)|1990| 1.678|\n|  Me, Myself & Irene|Cooper, Chris (I)|2000|0.5611|\n|         October Sky|Cooper, Chris (I)|1999| 1.603|\n|              Capote|Cooper, Chris (I)|2005|1.9389|\n+--------------------+-----------------+----+------+\nonly showing top 10 rows\n\n"
     ]
    }
   ],
   "source": [
    "from pyspark.sql import SparkSession\n",
    "from pyspark.sql.types import StructType, StructField, StringType, IntegerType, DoubleType\n",
    "from pyspark.sql.functions import col, lower, trim, regexp_replace, isnull\n",
    "\n",
    "# Crear una sesión de Spark\n",
    "spark = SparkSession.builder.getOrCreate()\n",
    "\n",
    "# Definir el esquema para el archivo movies.tsv\n",
    "esquema_peliculas = StructType([\n",
    "    StructField(\"interprete\", StringType(), True),\n",
    "    StructField(\"pelicula\", StringType(), True),\n",
    "    StructField(\"anyo\", IntegerType(), True)\n",
    "])\n",
    "\n",
    "# Cargar los datos de películas en un DataFrame\n",
    "df_peliculas = spark.read.option(\"header\", False).option(\"sep\", \"\\t\").schema(esquema_peliculas).csv(\"dbfs:/FileStore/Notebook2/movies.tsv\")\n",
    "\n",
    "# Definir el esquema para el archivo movie_ratings.tsv\n",
    "esquema_calificaciones = StructType([\n",
    "    StructField(\"rating\", DoubleType(), True),\n",
    "    StructField(\"pelicula\", StringType(), True),\n",
    "])\n",
    "\n",
    "\n",
    "# Cargar los datos de calificaciones en un DataFrame\n",
    "df_calificaciones = spark.read.option(\"header\", False).option(\"sep\", \"\\t\").schema(esquema_calificaciones).csv(\"dbfs:/FileStore/Notebook3/movie_ratings.tsv\")\n",
    "\n",
    "\n",
    "# Realizar una unión izquierda para asegurarnos de ver también las películas sin calificación\n",
    "df_combinado = df_peliculas.join(df_calificaciones, on=\"pelicula\", how=\"left\")\n",
    "\n",
    "\n",
    "# Mostrar algunos registros del DataFrame combinado para asegurarnos de que los valores estén correctos\n",
    "\n",
    "\n",
    "print(\"DataFrame combinado:\")\n",
    "df_combinado.show(10)\n",
    "\n"
   ]
  },
  {
   "cell_type": "code",
   "execution_count": 0,
   "metadata": {
    "application/vnd.databricks.v1+cell": {
     "cellMetadata": {},
     "inputWidgets": {},
     "nuid": "342400cf-50e8-42aa-ba9f-6600f9ee59a2",
     "showTitle": false,
     "tableResultSettingsMap": {},
     "title": ""
    }
   },
   "outputs": [
    {
     "output_type": "stream",
     "name": "stdout",
     "output_type": "stream",
     "text": [
      "Películas en el DataFrame 'df_peliculas':\n+------------------------------------------+\n|pelicula                                  |\n+------------------------------------------+\n|blade: trinity                            |\n|apollo 13                                 |\n|avpr: aliens vs predator - requiem        |\n|superman                                  |\n|lara croft: tomb raider                   |\n|syriana                                   |\n|sky captain and the world of tomorrow     |\n|mr. & mrs. smith                          |\n|gone in sixty seconds                     |\n|jarhead                                   |\n|paul blart: mall cop                      |\n|coach carter                              |\n|the patriot                               |\n|changeling                                |\n|kung fu panda 2                           |\n|the town                                  |\n|where the wild things are                 |\n|back to the future part iii               |\n|the bone collector                        |\n|shark tale                                |\n|battleship                                |\n|october sky                               |\n|back to the future                        |\n|salt                                      |\n|a time to kill                            |\n|kicking & screaming                       |\n|as good as it gets                        |\n|divine secrets of the ya-ya sisterhood    |\n|romeo must die                            |\n|the bourne supremacy                      |\n|lara croft tomb raider: the cradle of life|\n|collateral damage                         |\n|miss congeniality 2: armed and fabulous   |\n|beowulf                                   |\n|seabiscuit                                |\n|john q                                    |\n|the horse whisperer                       |\n|freaky friday                             |\n|fast five                                 |\n|capote                                    |\n|my sister's keeper                        |\n|alexander                                 |\n|the muppets                               |\n|kung fu panda                             |\n|the tourist                               |\n|the good shepherd                         |\n|the bourne identity                       |\n|superman ii                               |\n|me, myself & irene                        |\n|american beauty                           |\n+------------------------------------------+\nonly showing top 50 rows\n\nPelículas en el DataFrame 'df_calificaciones':\n+--------+\n|pelicula|\n+--------+\n|1.3585  |\n|6.5232  |\n|6.5918  |\n|2.2237  |\n|0.59    |\n|1.3744  |\n|0.3243  |\n|1.0344  |\n|4.4292  |\n|0.2991  |\n|2.3677  |\n|2.8224  |\n|7.6177  |\n|1.4889  |\n|10.4757 |\n|4.1799  |\n|1.0491  |\n|7.4061  |\n|0.5218  |\n|4.7621  |\n|8.4034  |\n|3.9838  |\n|12.8205 |\n|13.3455 |\n|8.443   |\n|11.0971 |\n|0.1918  |\n|0.5352  |\n|6.4674  |\n|2.4763  |\n|0.5407  |\n|4.0606  |\n|2.2118  |\n|7.4894  |\n|7.7775  |\n|1.6339  |\n|3.7266  |\n|8.2466  |\n|3.9265  |\n|1.9327  |\n|2.5639  |\n|1.2864  |\n|1.0392  |\n|0.3808  |\n|1.957   |\n|0.3376  |\n|11.1111 |\n|0.4     |\n|0.6829  |\n|5.2274  |\n+--------+\nonly showing top 50 rows\n\n"
     ]
    }
   ],
   "source": [
    "print(\"Películas en el DataFrame 'df_peliculas':\")\n",
    "df_peliculas.select(\"pelicula\").distinct().show(50, truncate=False)\n",
    "\n",
    "print(\"Películas en el DataFrame 'df_calificaciones':\")\n",
    "df_calificaciones.select(\"pelicula\").distinct().show(50, truncate=False)"
   ]
  },
  {
   "cell_type": "markdown",
   "metadata": {
    "application/vnd.databricks.v1+cell": {
     "cellMetadata": {},
     "inputWidgets": {},
     "nuid": "854d002a-b1ad-4914-8f04-0c4a18db8fdc",
     "showTitle": false,
     "tableResultSettingsMap": {},
     "title": ""
    }
   },
   "source": [
    "b. Muestra para cada año, la película con mayor puntuación (año, título de la película, puntuación)  \n",
    "  "
   ]
  },
  {
   "cell_type": "code",
   "execution_count": 0,
   "metadata": {
    "application/vnd.databricks.v1+cell": {
     "cellMetadata": {
      "byteLimit": 2048000,
      "rowLimit": 10000
     },
     "inputWidgets": {},
     "nuid": "1a47ed06-4281-4ce5-96f6-3c96c33a6081",
     "showTitle": false,
     "tableResultSettingsMap": {},
     "title": ""
    }
   },
   "outputs": [
    {
     "output_type": "stream",
     "name": "stdout",
     "output_type": "stream",
     "text": [
      "+----+--------------------+-------+\n|anyo|            pelicula| rating|\n+----+--------------------+-------+\n|1961|One Hundred and O...| 0.6726|\n|1967|     The Jungle Book|10.6763|\n|1972|       The Godfather| 0.5099|\n|1973|        The Exorcist| 0.6581|\n|1975|                Jaws|  0.701|\n|1977|Saturday Night Fever| 1.2184|\n|1978|              Jaws 2| 1.9793|\n|1979|      Apocalypse Now| 1.9906|\n|1980|         Superman II| 0.8739|\n|1981|   Absence of Malice| 2.1052|\n|1982|         First Blood| 1.2501|\n|1983|               Yentl| 1.4011|\n|1984|      The Terminator|  2.061|\n|1985|Kiss of the Spide...|    2.1|\n|1986|    An American Tail|14.2122|\n|1987|             RoboCop|   10.0|\n|1988|        Child's Play| 1.7632|\n|1989|     Lethal Weapon 2| 1.7087|\n|1990|   Presumed Innocent| 2.0055|\n|1991|                 JFK| 2.0171|\n+----+--------------------+-------+\nonly showing top 20 rows\n\n"
     ]
    }
   ],
   "source": [
    "# Usar una ventana para obtener la película con la mayor puntuación por cada año\n",
    "window_spec = Window.partitionBy(\"anyo\").orderBy(col(\"rating\").desc())\n",
    "\n",
    "# Añadir un número de fila (rank) para seleccionar la mejor película por año\n",
    "combined_df_with_rank = df_combinado.withColumn(\"rank\", row_number().over(window_spec))\n",
    "\n",
    "# Filtrar las películas que tienen el rank 1 (la mayor puntuación por año)\n",
    "pelicula_mayor_rating_por_ano = combined_df_with_rank.filter(col(\"rank\") == 1).select(\"anyo\", \"pelicula\", \"rating\")\n",
    "\n",
    "# Mostrar el resultado\n",
    "pelicula_mayor_rating_por_ano.show()\n",
    "\n"
   ]
  },
  {
   "cell_type": "markdown",
   "metadata": {
    "application/vnd.databricks.v1+cell": {
     "cellMetadata": {},
     "inputWidgets": {},
     "nuid": "5976ade4-5723-4e5e-93bc-1f0e8b31b27c",
     "showTitle": false,
     "tableResultSettingsMap": {},
     "title": ""
    }
   },
   "source": [
    "c. Sobre los datos anteriores, obtén también una lista con los nombres de los intérpretes.  \n",
    "  "
   ]
  },
  {
   "cell_type": "code",
   "execution_count": 0,
   "metadata": {
    "application/vnd.databricks.v1+cell": {
     "cellMetadata": {
      "byteLimit": 2048000,
      "rowLimit": 10000
     },
     "inputWidgets": {},
     "nuid": "2199ce6f-2040-4dd9-a0f6-f615feda8260",
     "showTitle": false,
     "tableResultSettingsMap": {},
     "title": ""
    }
   },
   "outputs": [
    {
     "output_type": "stream",
     "name": "stdout",
     "output_type": "stream",
     "text": [
      "+----+--------------------+-------+-------------------+\n|anyo|            pelicula| rating|         interprete|\n+----+--------------------+-------+-------------------+\n|1961|One Hundred and O...| 0.6726|    Wright, Ben (I)|\n|1961|One Hundred and O...| 0.6726|       Wickes, Mary|\n|1967|     The Jungle Book|10.6763|    Wright, Ben (I)|\n|1967|     The Jungle Book|10.6763|      Howard, Clint|\n|1972|       The Godfather| 0.5099|  Russo, Gianni (I)|\n|1972|       The Godfather| 0.5099|         Pacino, Al|\n|1972|       The Godfather| 0.5099|     Duvall, Robert|\n|1972|       The Godfather| 0.5099|        Rocco, Alex|\n|1972|       The Godfather| 0.5099|     Coppola, Roman|\n|1972|       The Godfather| 0.5099|   Jurgensen, Randy|\n|1972|       The Godfather| 0.5099|    Caan, James (I)|\n|1972|       The Godfather| 0.5099|  Sivero, Frank (I)|\n|1972|       The Godfather| 0.5099|       Shire, Talia|\n|1972|       The Godfather| 0.5099|      Richards, Sal|\n|1972|       The Godfather| 0.5099|      Keaton, Diane|\n|1972|       The Godfather| 0.5099|     Brando, Marlon|\n|1973|        The Exorcist| 0.6581|    Symonds, Robert|\n|1973|        The Exorcist| 0.6581| von Sydow, Max (I)|\n|1973|        The Exorcist| 0.6581|    Mahon, John (I)|\n|1973|        The Exorcist| 0.6581|Mitchell, Donna (I)|\n+----+--------------------+-------+-------------------+\nonly showing top 20 rows\n\n"
     ]
    }
   ],
   "source": [
    "# Unir el DataFrame de las mejores películas con el DataFrame original de películas para obtener los intérpretes\n",
    "df_mejor_pelicula_con_interpretes = pelicula_mayor_rating_por_ano.join(\n",
    "    df_peliculas,\n",
    "    on=[\"pelicula\", \"anyo\"],\n",
    "    how=\"inner\"\n",
    ").select(\"anyo\", \"pelicula\", \"rating\", \"interprete\")\n",
    "\n",
    "# Mostrar el resultado\n",
    "df_mejor_pelicula_con_interpretes.orderBy(\"anyo\").show()\n",
    "\n"
   ]
  },
  {
   "cell_type": "markdown",
   "metadata": {
    "application/vnd.databricks.v1+cell": {
     "cellMetadata": {},
     "inputWidgets": {},
     "nuid": "0a552945-f3f6-4fc2-a6ff-20a719aaa9da",
     "showTitle": false,
     "tableResultSettingsMap": {},
     "title": ""
    }
   },
   "source": [
    "d. Averigua las tres parejas de intérpretes han trabajado juntos en más ocasiones. La salida debe tener tres columnas: `interprete1`, `interprete2` y `cantidad`. (necesitas utilizar un *self-join*)"
   ]
  },
  {
   "cell_type": "code",
   "execution_count": 0,
   "metadata": {
    "application/vnd.databricks.v1+cell": {
     "cellMetadata": {
      "byteLimit": 2048000,
      "rowLimit": 10000
     },
     "inputWidgets": {},
     "nuid": "131491cd-8ee6-4576-8f61-939c866ac38c",
     "showTitle": false,
     "tableResultSettingsMap": {},
     "title": ""
    }
   },
   "outputs": [
    {
     "output_type": "stream",
     "name": "stdout",
     "output_type": "stream",
     "text": [
      "+----------------+----------------+-----+\n|     interprete1|     interprete2|count|\n+----------------+----------------+-----+\n|Lynn, Sherry (I)| McGowan, Mickie|   23|\n| Bergen, Bob (I)| McGowan, Mickie|   19|\n| Bergen, Bob (I)|Lynn, Sherry (I)|   19|\n+----------------+----------------+-----+\n\n"
     ]
    }
   ],
   "source": [
    "from pyspark.sql.functions import col\n",
    "\n",
    "# Auto-unir el DataFrame de películas para obtener combinaciones de intérpretes que hayan trabajado juntos\n",
    "parejas_df = df_peliculas.alias(\"a\").join(\n",
    "    df_peliculas.alias(\"b\"),\n",
    "    (col(\"a.pelicula\") == col(\"b.pelicula\")) & (col(\"a.interprete\") < col(\"b.interprete\"))\n",
    ").select(\n",
    "    col(\"a.interprete\").alias(\"interprete1\"),\n",
    "    col(\"b.interprete\").alias(\"interprete2\"),\n",
    "    col(\"a.pelicula\")\n",
    ")\n",
    "\n",
    "# Contar cuántas veces han trabajado juntos cada pareja\n",
    "parejas_contadas = parejas_df.groupBy(\"interprete1\", \"interprete2\").count()\n",
    "\n",
    "# Ordenar en orden descendente para obtener las tres parejas que más han trabajado juntas\n",
    "parejas_top3 = parejas_contadas.orderBy(col(\"count\").desc()).limit(3)\n",
    "\n",
    "# Mostrar el resultado\n",
    "parejas_top3.show()\n"
   ]
  },
  {
   "cell_type": "markdown",
   "metadata": {
    "application/vnd.databricks.v1+cell": {
     "cellMetadata": {},
     "inputWidgets": {},
     "nuid": "69714e66-e682-4ae8-aa6b-2342ee99752b",
     "showTitle": false,
     "tableResultSettingsMap": {},
     "title": ""
    }
   },
   "source": [
    "Las siguientes dos actividades se plantean como un proyecto a realizar en clase:  \n",
    "3. Hemos recibido un dataset con las ventas de 2019 de una tienda americana de productos de tecnología, mediante un conjunto de ficheros en formato CSV comprimidos en [salesdata.zip](https://tajamar365.sharepoint.com/:u:/s/3405-MasterIA2024-2025/EVv159rps6hJqglAU4Afs4MB-xJI0Vkp-d86wBfBod1JGg?e=0R9Qj4).   \n",
    "  a. Una vez descomprimidos los datos, crea un DataFrame con todos los datos, infiriendo el esquema.  \n",
    "  \n",
    "\n"
   ]
  },
  {
   "cell_type": "code",
   "execution_count": 0,
   "metadata": {
    "application/vnd.databricks.v1+cell": {
     "cellMetadata": {
      "byteLimit": 2048000,
      "rowLimit": 10000
     },
     "inputWidgets": {},
     "nuid": "3f58fa39-42d5-4db3-a1c6-5e9377018300",
     "showTitle": false,
     "tableResultSettingsMap": {},
     "title": ""
    }
   },
   "outputs": [
    {
     "output_type": "stream",
     "name": "stdout",
     "output_type": "stream",
     "text": [
      "+--------+--------------------+----------------+----------+--------------+--------------------+\n|Order ID|             Product|Quantity Ordered|Price Each|    Order Date|    Purchase Address|\n+--------+--------------------+----------------+----------+--------------+--------------------+\n|  141234|              iPhone|               1|     700.0|01/22/19 21:25|944 Walnut St, Bo...|\n|  141235|Lightning Chargin...|               1|     14.95|01/28/19 14:15|185 Maple St, Por...|\n|  141236|    Wired Headphones|               2|     11.99|01/17/19 13:33|538 Adams St, San...|\n|  141237|    27in FHD Monitor|               1|    149.99|01/05/19 20:33|738 10th St, Los ...|\n|  141238|    Wired Headphones|               1|     11.99|01/25/19 11:59|387 10th St, Aust...|\n|  141239|AAA Batteries (4-...|               1|      2.99|01/29/19 20:22|775 Willow St, Sa...|\n|  141240|27in 4K Gaming Mo...|               1|    389.99|01/26/19 12:16|979 Park St, Los ...|\n|  141241|USB-C Charging Cable|               1|     11.95|01/05/19 12:04|181 6th St, San F...|\n|  141242|Bose SoundSport H...|               1|     99.99|01/01/19 10:30|867 Willow St, Lo...|\n|  141243|Apple Airpods Hea...|               1|     150.0|01/22/19 21:20|657 Johnson St, S...|\n+--------+--------------------+----------------+----------+--------------+--------------------+\nonly showing top 10 rows\n\n"
     ]
    }
   ],
   "source": [
    "from pyspark.sql import SparkSession\n",
    "\n",
    "# Crear una sesión de Spark\n",
    "spark = SparkSession.builder.getOrCreate()\n",
    "\n",
    "# Definir la ruta base de los archivos de ventas\n",
    "ruta_base = \"dbfs:/FileStore/sales/\"\n",
    "\n",
    "# Definir una lista de archivos CSV correspondientes a cada mes del 2019\n",
    "archivos_ventas = [\n",
    "    \"Sales_January_2019.csv\", \"Sales_February_2019.csv\", \"Sales_March_2019.csv\",\n",
    "    \"Sales_April_2019.csv\", \"Sales_May_2019.csv\", \"Sales_June_2019.csv\",\n",
    "    \"Sales_July_2019.csv\", \"Sales_August_2019.csv\", \"Sales_September_2019.csv\",\n",
    "    \"Sales_October_2019.csv\", \"Sales_November_2019.csv\", \"Sales_December_2019.csv\"\n",
    "]\n",
    "\n",
    "# Crear un DataFrame combinando todos los archivos de ventas\n",
    "df_ventas = None\n",
    "for archivo in archivos_ventas:\n",
    "    ruta_archivo = ruta_base + archivo\n",
    "    if df_ventas is None:\n",
    "        # Leer el primer archivo para iniciar el DataFrame\n",
    "        df_ventas = spark.read.option(\"header\", True).option(\"inferSchema\", True).csv(ruta_archivo)\n",
    "    else:\n",
    "        # Leer el archivo y combinarlo con el DataFrame existente\n",
    "        df_mes = spark.read.option(\"header\", True).option(\"inferSchema\", True).csv(ruta_archivo)\n",
    "        df_ventas = df_ventas.union(df_mes)\n",
    "\n",
    "# Mostrar los primeros registros del DataFrame combinado\n",
    "df_ventas.show(10)\n"
   ]
  },
  {
   "cell_type": "markdown",
   "metadata": {
    "application/vnd.databricks.v1+cell": {
     "cellMetadata": {},
     "inputWidgets": {},
     "nuid": "86848f30-acbb-4585-a171-2525e13eba43",
     "showTitle": false,
     "tableResultSettingsMap": {},
     "title": ""
    }
   },
   "source": [
    "b. Vuelve a realizar la lectura de los datos pero con el siguiente esquema:  \n",
    "  ```<python>\n",
    "  from pyspark.sql.types import StructType, StructField, StringType, IntegerType, DoubleType\n",
    "esquema = StructType([\n",
    "    StructField(\"Order ID\", IntegerType(), False),\n",
    "    StructField(\"Product\", StringType(), False),\n",
    "    StructField(\"Quantity Ordered\", IntegerType(), True),\n",
    "    StructField(\"Price Each\", DoubleType(), False),\n",
    "    StructField(\"Order Date\", StringType(), False),\n",
    "    StructField(\"Purchase Address\", StringType(), False)\n",
    "])\n",
    "  ```\n"
   ]
  },
  {
   "cell_type": "markdown",
   "metadata": {
    "application/vnd.databricks.v1+cell": {
     "cellMetadata": {},
     "inputWidgets": {},
     "nuid": "eca37c90-85ef-44e6-a3df-b30d44be3c2b",
     "showTitle": false,
     "tableResultSettingsMap": {},
     "title": ""
    }
   },
   "source": [
    "Vuelve a realizar la lectura de los datos pero con el siguiente esquema:  \n",
    "  ```<python>\n",
    "  from pyspark.sql.types import StructType, StructField, StringType, IntegerType, DoubleType\n",
    "esquema = StructType([\n",
    "    StructField(\"Order ID\", IntegerType(), False),\n",
    "    StructField(\"Product\", StringType(), False),\n",
    "    StructField(\"Quantity Ordered\", IntegerType(), True),\n",
    "    StructField(\"Price Each\", DoubleType(), False),\n",
    "    StructField(\"Order Date\", StringType(), False),\n",
    "    StructField(\"Purchase Address\", StringType(), False)\n",
    "])\n",
    "  ```\n"
   ]
  },
  {
   "cell_type": "code",
   "execution_count": 0,
   "metadata": {
    "application/vnd.databricks.v1+cell": {
     "cellMetadata": {
      "byteLimit": 2048000,
      "rowLimit": 10000
     },
     "inputWidgets": {},
     "nuid": "728c149b-1a87-4684-8fb2-79f63b79dd75",
     "showTitle": false,
     "tableResultSettingsMap": {},
     "title": ""
    }
   },
   "outputs": [
    {
     "output_type": "stream",
     "name": "stdout",
     "output_type": "stream",
     "text": [
      "+--------+--------------------+----------------+----------+--------------+--------------------+\n|Order ID|             Product|Quantity Ordered|Price Each|    Order Date|    Purchase Address|\n+--------+--------------------+----------------+----------+--------------+--------------------+\n|  141234|              iPhone|               1|     700.0|01/22/19 21:25|944 Walnut St, Bo...|\n|  141235|Lightning Chargin...|               1|     14.95|01/28/19 14:15|185 Maple St, Por...|\n|  141236|    Wired Headphones|               2|     11.99|01/17/19 13:33|538 Adams St, San...|\n|  141237|    27in FHD Monitor|               1|    149.99|01/05/19 20:33|738 10th St, Los ...|\n|  141238|    Wired Headphones|               1|     11.99|01/25/19 11:59|387 10th St, Aust...|\n|  141239|AAA Batteries (4-...|               1|      2.99|01/29/19 20:22|775 Willow St, Sa...|\n|  141240|27in 4K Gaming Mo...|               1|    389.99|01/26/19 12:16|979 Park St, Los ...|\n|  141241|USB-C Charging Cable|               1|     11.95|01/05/19 12:04|181 6th St, San F...|\n|  141242|Bose SoundSport H...|               1|     99.99|01/01/19 10:30|867 Willow St, Lo...|\n|  141243|Apple Airpods Hea...|               1|     150.0|01/22/19 21:20|657 Johnson St, S...|\n+--------+--------------------+----------------+----------+--------------+--------------------+\nonly showing top 10 rows\n\n"
     ]
    }
   ],
   "source": [
    "from pyspark.sql import SparkSession\n",
    "from pyspark.sql.types import StructType, StructField, StringType, IntegerType, DoubleType\n",
    "\n",
    "# Crear una sesión de Spark\n",
    "spark = SparkSession.builder.getOrCreate()\n",
    "\n",
    "# Definir la ruta base de los archivos de ventas\n",
    "ruta_base = \"dbfs:/FileStore/sales/\"\n",
    "\n",
    "# Definir una lista de archivos CSV correspondientes a cada mes del 2019\n",
    "archivos_ventas = [\n",
    "    \"Sales_January_2019.csv\", \"Sales_February_2019.csv\", \"Sales_March_2019.csv\",\n",
    "    \"Sales_April_2019.csv\", \"Sales_May_2019.csv\", \"Sales_June_2019.csv\",\n",
    "    \"Sales_July_2019.csv\", \"Sales_August_2019.csv\", \"Sales_September_2019.csv\",\n",
    "    \"Sales_October_2019.csv\", \"Sales_November_2019.csv\", \"Sales_December_2019.csv\"\n",
    "]\n",
    "\n",
    "# Definir el esquema para el archivo de ventas\n",
    "esquema_ventas = StructType([\n",
    "    StructField(\"Order ID\", IntegerType(), False),\n",
    "    StructField(\"Product\", StringType(), False),\n",
    "    StructField(\"Quantity Ordered\", IntegerType(), True),\n",
    "    StructField(\"Price Each\", DoubleType(), False),\n",
    "    StructField(\"Order Date\", StringType(), False),\n",
    "    StructField(\"Purchase Address\", StringType(), False)\n",
    "])\n",
    "\n",
    "# Crear un DataFrame combinando todos los archivos de ventas usando el esquema definido\n",
    "df_ventas_con_esquema = None\n",
    "for archivo in archivos_ventas:\n",
    "    ruta_archivo = ruta_base + archivo\n",
    "    if df_ventas_con_esquema is None:\n",
    "        # Leer el primer archivo con el esquema definido para iniciar el DataFrame\n",
    "        df_ventas_con_esquema = spark.read.option(\"header\", True).schema(esquema_ventas).csv(ruta_archivo)\n",
    "    else:\n",
    "        # Leer el archivo con el esquema definido y combinarlo con el DataFrame existente\n",
    "        df_mes = spark.read.option(\"header\", True).schema(esquema_ventas).csv(ruta_archivo)\n",
    "        df_ventas_con_esquema = df_ventas_con_esquema.union(df_mes)\n",
    "\n",
    "# Mostrar los primeros registros del DataFrame combinado con el esquema definido\n",
    "df_ventas_con_esquema.show(10)\n"
   ]
  },
  {
   "cell_type": "markdown",
   "metadata": {
    "application/vnd.databricks.v1+cell": {
     "cellMetadata": {},
     "inputWidgets": {},
     "nuid": "2eb744d7-445b-46e8-9b5f-f649b9742f58",
     "showTitle": false,
     "tableResultSettingsMap": {},
     "title": ""
    }
   },
   "source": [
    "c. Tras la lectura, vamos a realizar la limpieza de datos. El primer paso será renombrar la columnas para eliminar los espacios en blanco.  \n",
    "  "
   ]
  },
  {
   "cell_type": "code",
   "execution_count": 0,
   "metadata": {
    "application/vnd.databricks.v1+cell": {
     "cellMetadata": {
      "byteLimit": 2048000,
      "rowLimit": 10000
     },
     "inputWidgets": {},
     "nuid": "3291a4a3-1966-4d2e-ac94-3088e71e0034",
     "showTitle": false,
     "tableResultSettingsMap": {},
     "title": ""
    }
   },
   "outputs": [
    {
     "output_type": "stream",
     "name": "stdout",
     "output_type": "stream",
     "text": [
      "+--------+--------------------+----------------+----------+--------------+--------------------+\n|Order_ID|             Product|Quantity_Ordered|Price_Each|    Order_Date|    Purchase_Address|\n+--------+--------------------+----------------+----------+--------------+--------------------+\n|  141234|              iPhone|               1|     700.0|01/22/19 21:25|944 Walnut St, Bo...|\n|  141235|Lightning Chargin...|               1|     14.95|01/28/19 14:15|185 Maple St, Por...|\n|  141236|    Wired Headphones|               2|     11.99|01/17/19 13:33|538 Adams St, San...|\n|  141237|    27in FHD Monitor|               1|    149.99|01/05/19 20:33|738 10th St, Los ...|\n|  141238|    Wired Headphones|               1|     11.99|01/25/19 11:59|387 10th St, Aust...|\n|  141239|AAA Batteries (4-...|               1|      2.99|01/29/19 20:22|775 Willow St, Sa...|\n|  141240|27in 4K Gaming Mo...|               1|    389.99|01/26/19 12:16|979 Park St, Los ...|\n|  141241|USB-C Charging Cable|               1|     11.95|01/05/19 12:04|181 6th St, San F...|\n|  141242|Bose SoundSport H...|               1|     99.99|01/01/19 10:30|867 Willow St, Lo...|\n|  141243|Apple Airpods Hea...|               1|     150.0|01/22/19 21:20|657 Johnson St, S...|\n+--------+--------------------+----------------+----------+--------------+--------------------+\nonly showing top 10 rows\n\n"
     ]
    }
   ],
   "source": [
    "from pyspark.sql.functions import col\n",
    "\n",
    "# Crear un diccionario para renombrar las columnas eliminando los espacios en blanco\n",
    "columnas_originales = df_ventas_con_esquema.columns\n",
    "columnas_renombradas = [columna.replace(\" \", \"_\") for columna in columnas_originales]\n",
    "\n",
    "# Renombrar las columnas del DataFrame utilizando un bucle\n",
    "for original, nuevo in zip(columnas_originales, columnas_renombradas):\n",
    "    df_ventas_con_esquema = df_ventas_con_esquema.withColumnRenamed(original, nuevo)\n",
    "\n",
    "# Mostrar las columnas renombradas y los primeros registros del DataFrame\n",
    "df_ventas_con_esquema.show(10)\n"
   ]
  },
  {
   "cell_type": "markdown",
   "metadata": {
    "application/vnd.databricks.v1+cell": {
     "cellMetadata": {},
     "inputWidgets": {},
     "nuid": "c6fc62ef-a02b-4b54-9a67-130775f15031",
     "showTitle": false,
     "tableResultSettingsMap": {},
     "title": ""
    }
   },
   "source": [
    "d. Elimina las filas que contengan algún campo nulo.  \n",
    "  "
   ]
  },
  {
   "cell_type": "code",
   "execution_count": 0,
   "metadata": {
    "application/vnd.databricks.v1+cell": {
     "cellMetadata": {
      "byteLimit": 2048000,
      "rowLimit": 10000
     },
     "inputWidgets": {},
     "nuid": "1e405120-b3d7-4098-aac0-6b948e7d34e7",
     "showTitle": false,
     "tableResultSettingsMap": {},
     "title": ""
    }
   },
   "outputs": [
    {
     "output_type": "stream",
     "name": "stdout",
     "output_type": "stream",
     "text": [
      "+--------+--------------------+----------------+----------+--------------+--------------------+\n|Order_ID|             Product|Quantity_Ordered|Price_Each|    Order_Date|    Purchase_Address|\n+--------+--------------------+----------------+----------+--------------+--------------------+\n|  141234|              iPhone|               1|     700.0|01/22/19 21:25|944 Walnut St, Bo...|\n|  141235|Lightning Chargin...|               1|     14.95|01/28/19 14:15|185 Maple St, Por...|\n|  141236|    Wired Headphones|               2|     11.99|01/17/19 13:33|538 Adams St, San...|\n|  141237|    27in FHD Monitor|               1|    149.99|01/05/19 20:33|738 10th St, Los ...|\n|  141238|    Wired Headphones|               1|     11.99|01/25/19 11:59|387 10th St, Aust...|\n|  141239|AAA Batteries (4-...|               1|      2.99|01/29/19 20:22|775 Willow St, Sa...|\n|  141240|27in 4K Gaming Mo...|               1|    389.99|01/26/19 12:16|979 Park St, Los ...|\n|  141241|USB-C Charging Cable|               1|     11.95|01/05/19 12:04|181 6th St, San F...|\n|  141242|Bose SoundSport H...|               1|     99.99|01/01/19 10:30|867 Willow St, Lo...|\n|  141243|Apple Airpods Hea...|               1|     150.0|01/22/19 21:20|657 Johnson St, S...|\n+--------+--------------------+----------------+----------+--------------+--------------------+\nonly showing top 10 rows\n\n"
     ]
    }
   ],
   "source": [
    "# Eliminar las filas que contengan algún campo nulo en cualquier columna\n",
    "df_ventas_limpio = df_ventas_con_esquema.dropna()\n",
    "\n",
    "# Mostrar el esquema y los primeros registros del DataFrame después de eliminar los valores nulos\n",
    "df_ventas_limpio.show(10)\n"
   ]
  },
  {
   "cell_type": "markdown",
   "metadata": {
    "application/vnd.databricks.v1+cell": {
     "cellMetadata": {},
     "inputWidgets": {},
     "nuid": "6baf26bf-c013-47d0-b648-c32b5c7e8be7",
     "showTitle": false,
     "tableResultSettingsMap": {},
     "title": ""
    }
   },
   "source": [
    "e. Comprueba si las cabeceras de los archivos aparecen como datos del dataset (por ejemplo, un producto cuyo nombre sea Product). Si fuera el caso, elimina dichas filas.  \n",
    "  "
   ]
  },
  {
   "cell_type": "code",
   "execution_count": 0,
   "metadata": {
    "application/vnd.databricks.v1+cell": {
     "cellMetadata": {
      "byteLimit": 2048000,
      "rowLimit": 10000
     },
     "inputWidgets": {},
     "nuid": "d9e57936-37f9-4463-85fb-5ef7757b65ca",
     "showTitle": false,
     "tableResultSettingsMap": {},
     "title": ""
    }
   },
   "outputs": [
    {
     "output_type": "stream",
     "name": "stdout",
     "output_type": "stream",
     "text": [
      "+--------+-------+----------------+----------+----------+----------------+\n|Order_ID|Product|Quantity_Ordered|Price_Each|Order_Date|Purchase_Address|\n+--------+-------+----------------+----------+----------+----------------+\n+--------+-------+----------------+----------+----------+----------------+\n\n"
     ]
    }
   ],
   "source": [
    "from pyspark.sql.functions import col\n",
    "\n",
    "# Obtener los nombres de las columnas actuales\n",
    "columnas = df_ventas_limpio.columns\n",
    "\n",
    "# Filtrar filas en las que cualquier columna tenga el valor de su encabezado\n",
    "filtro_encabezados = None\n",
    "for columna in columnas:\n",
    "    if filtro_encabezados is None:\n",
    "        filtro_encabezados = (col(columna) != columna)\n",
    "    else:\n",
    "        filtro_encabezados = filtro_encabezados & (col(columna) != columna)\n",
    "\n",
    "# Aplicar el filtro para eliminar las filas que contienen encabezados como datos\n",
    "df_ventas_sin_encabezado = df_ventas_limpio.filter(filtro_encabezados)\n",
    "\n",
    "# Mostrar los primeros registros del DataFrame después de eliminar las filas incorrectas\n",
    "df_ventas_sin_encabezado.show(10)\n",
    "\n"
   ]
  },
  {
   "cell_type": "markdown",
   "metadata": {
    "application/vnd.databricks.v1+cell": {
     "cellMetadata": {},
     "inputWidgets": {},
     "nuid": "d18519f6-1cee-42cc-b47e-c178c079d3fa",
     "showTitle": false,
     "tableResultSettingsMap": {},
     "title": ""
    }
   },
   "source": [
    "f. A partir del campo dirección, crea dos nuevas columnas para almacenar la ciudad (`City`) y el estado (`State`). Por ejemplo, para la dirección `136 Church St, New York City, NY 10001`, la ciudad es `New York City` y el estado es `NY`.  \n",
    "  "
   ]
  },
  {
   "cell_type": "code",
   "execution_count": 0,
   "metadata": {
    "application/vnd.databricks.v1+cell": {
     "cellMetadata": {
      "byteLimit": 2048000,
      "rowLimit": 10000
     },
     "inputWidgets": {},
     "nuid": "626df9de-47a2-48a1-98eb-18d742497297",
     "showTitle": false,
     "tableResultSettingsMap": {},
     "title": ""
    }
   },
   "outputs": [
    {
     "output_type": "stream",
     "name": "stdout",
     "output_type": "stream",
     "text": [
      "+--------+--------------------------+----------------+----------+--------------+---------------------------------------+-------------+-----+\n|Order_ID|Product                   |Quantity_Ordered|Price_Each|Order_Date    |Purchase_Address                       |City         |State|\n+--------+--------------------------+----------------+----------+--------------+---------------------------------------+-------------+-----+\n|141234  |iPhone                    |1               |700.0     |01/22/19 21:25|944 Walnut St, Boston, MA 02215        |Boston       |MA   |\n|141235  |Lightning Charging Cable  |1               |14.95     |01/28/19 14:15|185 Maple St, Portland, OR 97035       |Portland     |OR   |\n|141236  |Wired Headphones          |2               |11.99     |01/17/19 13:33|538 Adams St, San Francisco, CA 94016  |San Francisco|CA   |\n|141237  |27in FHD Monitor          |1               |149.99    |01/05/19 20:33|738 10th St, Los Angeles, CA 90001     |Los Angeles  |CA   |\n|141238  |Wired Headphones          |1               |11.99     |01/25/19 11:59|387 10th St, Austin, TX 73301          |Austin       |TX   |\n|141239  |AAA Batteries (4-pack)    |1               |2.99      |01/29/19 20:22|775 Willow St, San Francisco, CA 94016 |San Francisco|CA   |\n|141240  |27in 4K Gaming Monitor    |1               |389.99    |01/26/19 12:16|979 Park St, Los Angeles, CA 90001     |Los Angeles  |CA   |\n|141241  |USB-C Charging Cable      |1               |11.95     |01/05/19 12:04|181 6th St, San Francisco, CA 94016    |San Francisco|CA   |\n|141242  |Bose SoundSport Headphones|1               |99.99     |01/01/19 10:30|867 Willow St, Los Angeles, CA 90001   |Los Angeles  |CA   |\n|141243  |Apple Airpods Headphones  |1               |150.0     |01/22/19 21:20|657 Johnson St, San Francisco, CA 94016|San Francisco|CA   |\n+--------+--------------------------+----------------+----------+--------------+---------------------------------------+-------------+-----+\nonly showing top 10 rows\n\n"
     ]
    }
   ],
   "source": [
    "from pyspark.sql.functions import regexp_extract\n",
    "\n",
    "# Definir el patrón para extraer la ciudad (el texto entre la primera y segunda coma)\n",
    "patron_ciudad = r',\\s([^,]+),'\n",
    "\n",
    "# Definir el patrón para extraer el estado (dos letras después de la última coma)\n",
    "patron_estado = r',\\s([A-Z]{2})\\s\\d{5}'\n",
    "\n",
    "# Crear nuevas columnas 'City' y 'State' a partir de 'Purchase Address' en df_ventas_con_esquema\n",
    "df_ventas_con_ciudad_estado = df_ventas_con_esquema.withColumn(\n",
    "    \"City\", regexp_extract(col(\"Purchase_Address\"), patron_ciudad, 1)\n",
    ").withColumn(\n",
    "    \"State\", regexp_extract(col(\"Purchase_Address\"), patron_estado, 1)\n",
    ")\n",
    "\n",
    "# Mostrar los primeros registros del DataFrame con las nuevas columnas\n",
    "df_ventas_con_ciudad_estado.show(10, truncate=False)\n",
    "\n",
    "\n"
   ]
  },
  {
   "cell_type": "markdown",
   "metadata": {
    "application/vnd.databricks.v1+cell": {
     "cellMetadata": {},
     "inputWidgets": {},
     "nuid": "fd35005d-e0b5-434d-a476-027a2c0bda4f",
     "showTitle": false,
     "tableResultSettingsMap": {},
     "title": ""
    }
   },
   "source": [
    "g. Modifica el campo con la fecha del pedido para que su formato sea *timestamp*.  \n",
    "  "
   ]
  },
  {
   "cell_type": "code",
   "execution_count": 0,
   "metadata": {
    "application/vnd.databricks.v1+cell": {
     "cellMetadata": {
      "byteLimit": 2048000,
      "rowLimit": 10000
     },
     "inputWidgets": {},
     "nuid": "d92e4317-fd4d-42ff-a0bf-a1b6ba33fa5f",
     "showTitle": false,
     "tableResultSettingsMap": {},
     "title": ""
    }
   },
   "outputs": [
    {
     "output_type": "stream",
     "name": "stdout",
     "output_type": "stream",
     "text": [
      "+--------+--------------------------+----------------+----------+-------------------+---------------------------------------+\n|Order_ID|Product                   |Quantity_Ordered|Price_Each|Order_Date         |Purchase_Address                       |\n+--------+--------------------------+----------------+----------+-------------------+---------------------------------------+\n|141234  |iPhone                    |1               |700.0     |2019-01-22 21:25:00|944 Walnut St, Boston, MA 02215        |\n|141235  |Lightning Charging Cable  |1               |14.95     |2019-01-28 14:15:00|185 Maple St, Portland, OR 97035       |\n|141236  |Wired Headphones          |2               |11.99     |2019-01-17 13:33:00|538 Adams St, San Francisco, CA 94016  |\n|141237  |27in FHD Monitor          |1               |149.99    |2019-01-05 20:33:00|738 10th St, Los Angeles, CA 90001     |\n|141238  |Wired Headphones          |1               |11.99     |2019-01-25 11:59:00|387 10th St, Austin, TX 73301          |\n|141239  |AAA Batteries (4-pack)    |1               |2.99      |2019-01-29 20:22:00|775 Willow St, San Francisco, CA 94016 |\n|141240  |27in 4K Gaming Monitor    |1               |389.99    |2019-01-26 12:16:00|979 Park St, Los Angeles, CA 90001     |\n|141241  |USB-C Charging Cable      |1               |11.95     |2019-01-05 12:04:00|181 6th St, San Francisco, CA 94016    |\n|141242  |Bose SoundSport Headphones|1               |99.99     |2019-01-01 10:30:00|867 Willow St, Los Angeles, CA 90001   |\n|141243  |Apple Airpods Headphones  |1               |150.0     |2019-01-22 21:20:00|657 Johnson St, San Francisco, CA 94016|\n+--------+--------------------------+----------------+----------+-------------------+---------------------------------------+\nonly showing top 10 rows\n\n"
     ]
    }
   ],
   "source": [
    "from pyspark.sql.functions import to_timestamp\n",
    "\n",
    "# Modificar el campo \"Order Date\" para que sea de tipo timestamp, con el formato adecuado\n",
    "df_ventas_con_fecha_modificada = df_ventas_con_esquema.withColumn(\n",
    "    \"Order_Date\",\n",
    "    to_timestamp(col(\"Order_Date\"), \"MM/dd/yy HH:mm\")\n",
    ")\n",
    "\n",
    "# Mostrar los primeros registros del DataFrame después de modificar la fecha\n",
    "df_ventas_con_fecha_modificada.show(10, truncate=False)"
   ]
  },
  {
   "cell_type": "markdown",
   "metadata": {
    "application/vnd.databricks.v1+cell": {
     "cellMetadata": {},
     "inputWidgets": {},
     "nuid": "ece3b56c-808c-425f-b310-f2bff09664c6",
     "showTitle": false,
     "tableResultSettingsMap": {},
     "title": ""
    }
   },
   "source": [
    "h. Sobre el campo anterior, crea dos nuevas columnas, con el mes (`Month`) y el año (`Year`) del pedido."
   ]
  },
  {
   "cell_type": "code",
   "execution_count": 0,
   "metadata": {
    "application/vnd.databricks.v1+cell": {
     "cellMetadata": {
      "byteLimit": 2048000,
      "rowLimit": 10000
     },
     "inputWidgets": {},
     "nuid": "c25d7b37-ebf7-45a5-bbde-1e4e56e801a0",
     "showTitle": false,
     "tableResultSettingsMap": {},
     "title": ""
    }
   },
   "outputs": [
    {
     "output_type": "stream",
     "name": "stdout",
     "output_type": "stream",
     "text": [
      "+--------+--------------------------+----------------+----------+-------------------+---------------------------------------+-----+----+\n|Order_ID|Product                   |Quantity_Ordered|Price_Each|Order_Date         |Purchase_Address                       |Month|Year|\n+--------+--------------------------+----------------+----------+-------------------+---------------------------------------+-----+----+\n|141234  |iPhone                    |1               |700.0     |2019-01-22 21:25:00|944 Walnut St, Boston, MA 02215        |1    |2019|\n|141235  |Lightning Charging Cable  |1               |14.95     |2019-01-28 14:15:00|185 Maple St, Portland, OR 97035       |1    |2019|\n|141236  |Wired Headphones          |2               |11.99     |2019-01-17 13:33:00|538 Adams St, San Francisco, CA 94016  |1    |2019|\n|141237  |27in FHD Monitor          |1               |149.99    |2019-01-05 20:33:00|738 10th St, Los Angeles, CA 90001     |1    |2019|\n|141238  |Wired Headphones          |1               |11.99     |2019-01-25 11:59:00|387 10th St, Austin, TX 73301          |1    |2019|\n|141239  |AAA Batteries (4-pack)    |1               |2.99      |2019-01-29 20:22:00|775 Willow St, San Francisco, CA 94016 |1    |2019|\n|141240  |27in 4K Gaming Monitor    |1               |389.99    |2019-01-26 12:16:00|979 Park St, Los Angeles, CA 90001     |1    |2019|\n|141241  |USB-C Charging Cable      |1               |11.95     |2019-01-05 12:04:00|181 6th St, San Francisco, CA 94016    |1    |2019|\n|141242  |Bose SoundSport Headphones|1               |99.99     |2019-01-01 10:30:00|867 Willow St, Los Angeles, CA 90001   |1    |2019|\n|141243  |Apple Airpods Headphones  |1               |150.0     |2019-01-22 21:20:00|657 Johnson St, San Francisco, CA 94016|1    |2019|\n+--------+--------------------------+----------------+----------+-------------------+---------------------------------------+-----+----+\nonly showing top 10 rows\n\n"
     ]
    }
   ],
   "source": [
    "from pyspark.sql.functions import month, year\n",
    "\n",
    "# Crear dos nuevas columnas \"Month\" y \"Year\" a partir del campo \"Order Date\" convertido a timestamp\n",
    "df_ventas_con_mes_anio = df_ventas_con_fecha_modificada.withColumn(\n",
    "    \"Month\", month(col(\"Order_Date\"))\n",
    ").withColumn(\n",
    "    \"Year\", year(col(\"Order_Date\"))\n",
    ")\n",
    "\n",
    "# Mostrar los primeros registros del DataFrame después de añadir las columnas \"Month\" y \"Year\"\n",
    "df_ventas_con_mes_anio.show(10, truncate=False)\n"
   ]
  },
  {
   "cell_type": "markdown",
   "metadata": {
    "application/vnd.databricks.v1+cell": {
     "cellMetadata": {},
     "inputWidgets": {},
     "nuid": "e814647a-7513-499f-8e84-137bca7852dc",
     "showTitle": false,
     "tableResultSettingsMap": {},
     "title": ""
    }
   },
   "source": [
    "4. Una vez realizada la transformación de los datos, vamos a realizar su carga y extraer información, utilizando Spark SQL siempre que sea posible:  \n",
    "  a. Almacena los datos en formato *Parquet* en la carpeta `salesoutput` particionando los datos por año y mes. Tras ejecutar esta operación, comprueba en disco la estructura de archivos creada.  \n",
    "  "
   ]
  },
  {
   "cell_type": "code",
   "execution_count": 0,
   "metadata": {
    "application/vnd.databricks.v1+cell": {
     "cellMetadata": {
      "byteLimit": 2048000,
      "rowLimit": 10000
     },
     "inputWidgets": {},
     "nuid": "afee6e77-5197-4356-9bc6-0214ffa72cb1",
     "showTitle": false,
     "tableResultSettingsMap": {},
     "title": ""
    }
   },
   "outputs": [
    {
     "output_type": "display_data",
     "data": {
      "text/html": [
       "<style scoped>\n",
       "  .table-result-container {\n",
       "    max-height: 300px;\n",
       "    overflow: auto;\n",
       "  }\n",
       "  table, th, td {\n",
       "    border: 1px solid black;\n",
       "    border-collapse: collapse;\n",
       "  }\n",
       "  th, td {\n",
       "    padding: 5px;\n",
       "  }\n",
       "  th {\n",
       "    text-align: left;\n",
       "  }\n",
       "</style><div class='table-result-container'><table class='table-result'><thead style='background-color: white'><tr><th>path</th><th>name</th><th>size</th><th>modificationTime</th></tr></thead><tbody><tr><td>dbfs:/FileStore/salesoutput/Year=2019/</td><td>Year=2019/</td><td>0</td><td>0</td></tr><tr><td>dbfs:/FileStore/salesoutput/Year=2020/</td><td>Year=2020/</td><td>0</td><td>0</td></tr><tr><td>dbfs:/FileStore/salesoutput/Year=__HIVE_DEFAULT_PARTITION__/</td><td>Year=__HIVE_DEFAULT_PARTITION__/</td><td>0</td><td>0</td></tr><tr><td>dbfs:/FileStore/salesoutput/_SUCCESS</td><td>_SUCCESS</td><td>0</td><td>1732613319000</td></tr></tbody></table></div>"
      ]
     },
     "metadata": {
      "application/vnd.databricks.v1+output": {
       "addedWidgets": {},
       "aggData": [],
       "aggError": "",
       "aggOverflow": false,
       "aggSchema": [],
       "aggSeriesLimitReached": false,
       "aggType": "",
       "arguments": {},
       "columnCustomDisplayInfos": {},
       "data": [
        [
         "dbfs:/FileStore/salesoutput/Year=2019/",
         "Year=2019/",
         0,
         0
        ],
        [
         "dbfs:/FileStore/salesoutput/Year=2020/",
         "Year=2020/",
         0,
         0
        ],
        [
         "dbfs:/FileStore/salesoutput/Year=__HIVE_DEFAULT_PARTITION__/",
         "Year=__HIVE_DEFAULT_PARTITION__/",
         0,
         0
        ],
        [
         "dbfs:/FileStore/salesoutput/_SUCCESS",
         "_SUCCESS",
         0,
         1732613319000
        ]
       ],
       "datasetInfos": [],
       "dbfsResultPath": null,
       "isJsonSchema": true,
       "metadata": {},
       "overflow": false,
       "plotOptions": {
        "customPlotOptions": {},
        "displayType": "table",
        "pivotAggregation": null,
        "pivotColumns": null,
        "xColumns": null,
        "yColumns": null
       },
       "removedWidgets": [],
       "schema": [
        {
         "metadata": "{}",
         "name": "path",
         "type": "\"string\""
        },
        {
         "metadata": "{}",
         "name": "name",
         "type": "\"string\""
        },
        {
         "metadata": "{}",
         "name": "size",
         "type": "\"long\""
        },
        {
         "metadata": "{}",
         "name": "modificationTime",
         "type": "\"long\""
        }
       ],
       "type": "table"
      }
     },
     "output_type": "display_data"
    }
   ],
   "source": [
    "# Guardar el DataFrame en formato Parquet particionado por \"Year\" y \"Month\"\n",
    "output_path = \"dbfs:/FileStore/salesoutput\"\n",
    "\n",
    "# Escribir los datos en formato Parquet, particionando por \"Year\" y \"Month\"\n",
    "df_ventas_con_mes_anio.write.partitionBy(\"Year\", \"Month\").mode(\"overwrite\").parquet(output_path)\n",
    "\n",
    "# Mostrar la estructura de archivos creada en la carpeta de salida para confirmar la partición\n",
    "display(dbutils.fs.ls(output_path))\n"
   ]
  },
  {
   "cell_type": "markdown",
   "metadata": {
    "application/vnd.databricks.v1+cell": {
     "cellMetadata": {},
     "inputWidgets": {},
     "nuid": "67bcb943-45e8-4b9f-9013-e1a4340b0ed0",
     "showTitle": false,
     "tableResultSettingsMap": {},
     "title": ""
    }
   },
   "source": [
    "b. Sobre los datos almacenados, realiza una nueva lectura pero solo leyendo los datos de 2019 los cuales deberían estar almacenados en `./salesdataoutput/Year=2019`  \n",
    "  "
   ]
  },
  {
   "cell_type": "code",
   "execution_count": 0,
   "metadata": {
    "application/vnd.databricks.v1+cell": {
     "cellMetadata": {
      "byteLimit": 2048000,
      "rowLimit": 10000
     },
     "inputWidgets": {},
     "nuid": "2995a645-afe4-4346-9946-a67e5f01bf5c",
     "showTitle": false,
     "tableResultSettingsMap": {},
     "title": ""
    }
   },
   "outputs": [
    {
     "output_type": "stream",
     "name": "stdout",
     "output_type": "stream",
     "text": [
      "+--------+--------------------------+----------------+----------+-------------------+-----------------------------------------+-----+\n|Order_ID|Product                   |Quantity_Ordered|Price_Each|Order_Date         |Purchase_Address                         |Month|\n+--------+--------------------------+----------------+----------+-------------------+-----------------------------------------+-----+\n|295665  |Macbook Pro Laptop        |1               |1700.0    |2019-12-30 00:01:00|136 Church St, New York City, NY 10001   |12   |\n|295666  |LG Washing Machine        |1               |600.0     |2019-12-29 07:03:00|562 2nd St, New York City, NY 10001      |12   |\n|295667  |USB-C Charging Cable      |1               |11.95     |2019-12-12 18:21:00|277 Main St, New York City, NY 10001     |12   |\n|295668  |27in FHD Monitor          |1               |149.99    |2019-12-22 15:13:00|410 6th St, San Francisco, CA 94016      |12   |\n|295669  |USB-C Charging Cable      |1               |11.95     |2019-12-18 12:38:00|43 Hill St, Atlanta, GA 30301            |12   |\n|295670  |AA Batteries (4-pack)     |1               |3.84      |2019-12-31 22:58:00|200 Jefferson St, New York City, NY 10001|12   |\n|295671  |USB-C Charging Cable      |1               |11.95     |2019-12-16 15:10:00|928 12th St, Portland, OR 97035          |12   |\n|295672  |USB-C Charging Cable      |2               |11.95     |2019-12-13 09:29:00|813 Hickory St, Dallas, TX 75001         |12   |\n|295673  |Bose SoundSport Headphones|1               |99.99     |2019-12-15 23:26:00|718 Wilson St, Dallas, TX 75001          |12   |\n|295674  |AAA Batteries (4-pack)    |4               |2.99      |2019-12-28 11:51:00|77 7th St, Dallas, TX 75001              |12   |\n+--------+--------------------------+----------------+----------+-------------------+-----------------------------------------+-----+\nonly showing top 10 rows\n\n"
     ]
    }
   ],
   "source": [
    "# Definir la ruta de la partición específica para el año 2019\n",
    "ruta_2019 = \"dbfs:/FileStore/salesoutput/Year=2019\"\n",
    "\n",
    "# Leer los datos desde la partición Year=2019\n",
    "df_ventas_2019 = spark.read.parquet(ruta_2019)\n",
    "\n",
    "# Mostrar los primeros registros del DataFrame que contiene solo los datos de 2019\n",
    "df_ventas_2019.show(10, truncate=False)\n"
   ]
  },
  {
   "cell_type": "markdown",
   "metadata": {
    "application/vnd.databricks.v1+cell": {
     "cellMetadata": {},
     "inputWidgets": {},
     "nuid": "d7ad523b-78bb-4f11-ab4d-e184e3234188",
     "showTitle": false,
     "tableResultSettingsMap": {},
     "title": ""
    }
   },
   "source": [
    "c. Averigua cual ha sido el mes que ha recaudado más. Para ello, deberás multiplicar el precio por la cantidad de unidades, y posteriormente, realizar alguna agregación. Sobre el resultado, crea un gráfico (usando matplotlib y seaborn) similar al siguiente:  \n",
    "   "
   ]
  },
  {
   "cell_type": "code",
   "execution_count": 0,
   "metadata": {
    "application/vnd.databricks.v1+cell": {
     "cellMetadata": {
      "byteLimit": 2048000,
      "rowLimit": 10000
     },
     "inputWidgets": {},
     "nuid": "639ea7ea-ab5e-4c39-bfd3-5099a459318b",
     "showTitle": false,
     "tableResultSettingsMap": {},
     "title": ""
    }
   },
   "outputs": [
    {
     "output_type": "display_data",
     "data": {
      "application/vnd.databricks.v1+bamboolib_hint": "{\"pd.DataFrames\": [], \"version\": \"0.0.1\"}",
      "text/plain": []
     },
     "metadata": {},
     "output_type": "display_data"
    },
    {
     "output_type": "display_data",
     "data": {
      "image/png": "[encoded data removed]"
     },
     "metadata": {
      "application/vnd.databricks.v1+output": {
       "addedWidgets": {},
       "arguments": {},
       "data": "data:image/png;base64,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\n",
       "datasetInfos": [],
       "metadata": {},
       "removedWidgets": [],
       "type": "image"
      }
     },
     "output_type": "display_data"
    }
   ],
   "source": [
    "# Importar las librerías necesarias\n",
    "import matplotlib.pyplot as plt\n",
    "import pandas as pd\n",
    "import seaborn as sns\n",
    "from pyspark.sql import functions as F\n",
    "\n",
    "# Calcular la recaudación total por mes\n",
    "df_recaudacion_por_mes = df_ventas_2019.withColumn(\n",
    "    \"Total_Revenue\", F.col(\"Price_Each\") * F.col(\"Quantity_Ordered\")\n",
    ").groupBy(\"Month\").agg(\n",
    "    F.sum(\"Total_Revenue\").alias(\"Total_Revenue\")\n",
    ").orderBy(\"Month\")\n",
    "\n",
    "# Convertir el DataFrame de Spark a Pandas para la visualización\n",
    "df_recaudacion_por_mes_pandas = df_recaudacion_por_mes.toPandas()\n",
    "\n",
    "# Crear un gráfico de barras con Matplotlib y Seaborn\n",
    "plt.figure(figsize=(10, 6))\n",
    "sns.barplot(x=\"Month\", y=\"Total_Revenue\", data=df_recaudacion_por_mes_pandas, palette=\"Blues\")\n",
    "\n",
    "# Personalizar el gráfico\n",
    "plt.title(\"Recaudación Total por Mes en 2019\")\n",
    "plt.xlabel(\"Mes\")\n",
    "plt.ylabel(\"Recaudación Total (USD)\")\n",
    "plt.xticks(range(0, 12), [\"Enero\", \"Febrero\", \"Marzo\", \"Abril\", \"Mayo\", \"Junio\", \"Julio\", \"Agosto\", \"Septiembre\", \"Octubre\", \"Noviembre\", \"Diciembre\"])\n",
    "\n",
    "# Mostrar el gráfico\n",
    "plt.show()\n"
   ]
  },
  {
   "cell_type": "markdown",
   "metadata": {
    "application/vnd.databricks.v1+cell": {
     "cellMetadata": {},
     "inputWidgets": {},
     "nuid": "dd2deca6-869e-4a9c-9756-f1ca7d5864b6",
     "showTitle": false,
     "tableResultSettingsMap": {},
     "title": ""
    }
   },
   "source": [
    "  ![](https://community.cloud.databricks.com/files/Notebook3/2.png)  "
   ]
  },
  {
   "cell_type": "markdown",
   "metadata": {
    "application/vnd.databricks.v1+cell": {
     "cellMetadata": {},
     "inputWidgets": {},
     "nuid": "b05a7cc3-7efc-42f0-b8a9-006c3f63e641",
     "showTitle": false,
     "tableResultSettingsMap": {},
     "title": ""
    }
   },
   "source": [
    "  d. Obtén un gráfico con las 10 ciudades que más unidades han vendido.  \n",
    "  ![](https://community.cloud.databricks.com/files/Notebook_3/3.png) "
   ]
  },
  {
   "cell_type": "code",
   "execution_count": 0,
   "metadata": {
    "application/vnd.databricks.v1+cell": {
     "cellMetadata": {
      "byteLimit": 2048000,
      "rowLimit": 10000
     },
     "inputWidgets": {},
     "nuid": "6e09db02-5418-4c0b-b7ed-7b4441ee4ec8",
     "showTitle": false,
     "tableResultSettingsMap": {},
     "title": ""
    }
   },
   "outputs": [
    {
     "output_type": "display_data",
     "data": {
      "image/png": "[encoded data removed]"
     },
     "metadata": {
      "application/vnd.databricks.v1+output": {
       "addedWidgets": {},
       "arguments": {},
       "data": "data:image/png;base64,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\n",
       "datasetInfos": [],
       "metadata": {},
       "removedWidgets": [],
       "type": "image"
      }
     },
     "output_type": "display_data"
    }
   ],
   "source": [
    "# Importar las funciones necesarias\n",
    "from pyspark.sql import functions as F\n",
    "import matplotlib.pyplot as plt\n",
    "import seaborn as sns\n",
    "\n",
    "# Calcular la cantidad total de unidades vendidas por ciudad\n",
    "df_unidades_por_ciudad = df_ventas_con_ciudad_estado.groupBy(\"City\").agg(\n",
    "    F.sum(\"Quantity_Ordered\").alias(\"Total_Units_Sold\")\n",
    ").orderBy(F.desc(\"Total_Units_Sold\")).limit(10)\n",
    "\n",
    "# Convertir el DataFrame de Spark a Pandas para la visualización\n",
    "df_unidades_por_ciudad_pandas = df_unidades_por_ciudad.toPandas()\n",
    "\n",
    "# Crear un gráfico de barras con Matplotlib y Seaborn\n",
    "plt.figure(figsize=(12, 6))\n",
    "sns.barplot(x=\"Total_Units_Sold\", y=\"City\", data=df_unidades_por_ciudad_pandas, palette=\"viridis\")\n",
    "\n",
    "# Personalizar el gráfico\n",
    "plt.title(\"Top 10 Ciudades con Más Unidades Vendidas en 2019\")\n",
    "plt.xlabel(\"Total de Unidades Vendidas\")\n",
    "plt.ylabel(\"Ciudad\")\n",
    "\n",
    "# Mostrar el gráfico\n",
    "plt.show()\n"
   ]
  },
  {
   "cell_type": "markdown",
   "metadata": {
    "application/vnd.databricks.v1+cell": {
     "cellMetadata": {},
     "inputWidgets": {},
     "nuid": "d66a5f56-9c48-48ef-8e26-08a1d3af1d7f",
     "showTitle": false,
     "tableResultSettingsMap": {},
     "title": ""
    }
   },
   "source": [
    "e. Cantidad de pedidos por Horas en las que se ha realizado un pedido que contenía al menos dos productos:  \n",
    "![](https://community.cloud.databricks.com/files/Notebook_3/4.png) \n"
   ]
  },
  {
   "cell_type": "code",
   "execution_count": 0,
   "metadata": {
    "application/vnd.databricks.v1+cell": {
     "cellMetadata": {
      "byteLimit": 2048000,
      "rowLimit": 10000
     },
     "inputWidgets": {},
     "nuid": "c9071c1b-d4d5-4846-af06-c39849b06e79",
     "showTitle": false,
     "tableResultSettingsMap": {},
     "title": ""
    }
   },
   "outputs": [
    {
     "output_type": "display_data",
     "data": {
      "image/png": "[encoded data removed]"
     },
     "metadata": {
      "application/vnd.databricks.v1+output": {
       "addedWidgets": {},
       "arguments": {},
       "data": "data:image/png;base64,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\n",
       "datasetInfos": [],
       "metadata": {},
       "removedWidgets": [],
       "type": "image"
      }
     },
     "output_type": "display_data"
    }
   ],
   "source": [
    "from pyspark.sql.functions import to_timestamp, hour\n",
    "\n",
    "# Convertir \"Order_Date\" a timestamp (en caso de que aún sea un String)\n",
    "df_pedidos_con_dos_productos = df_pedidos_con_dos_productos.withColumn(\n",
    "    \"Order_Date\", to_timestamp(\"Order_Date\", \"MM/dd/yy HH:mm\")\n",
    ")\n",
    "\n",
    "# Extraer la hora del campo \"Order Date\"\n",
    "df_pedidos_con_hora = df_pedidos_con_dos_productos.withColumn(\"Hour\", hour(\"Order_Date\"))\n",
    "\n",
    "# Agrupar por hora y contar la cantidad de pedidos\n",
    "df_pedidos_por_hora = df_pedidos_con_hora.groupBy(\"Hour\").agg(\n",
    "    F.count(\"Order_ID\").alias(\"Total_Orders\")\n",
    ").orderBy(\"Hour\")\n",
    "\n",
    "# Convertir el DataFrame de Spark a Pandas para la visualización\n",
    "df_pedidos_por_hora_pandas = df_pedidos_por_hora.toPandas()\n",
    "\n",
    "# Verificar si hay datos para graficar\n",
    "if not df_pedidos_por_hora_pandas.empty:\n",
    "    # Crear un gráfico de barras para visualizar la cantidad de pedidos por hora\n",
    "    plt.figure(figsize=(12, 6))\n",
    "    sns.barplot(x=\"Hour\", y=\"Total_Orders\", data=df_pedidos_por_hora_pandas, palette=\"viridis\")\n",
    "\n",
    "    # Personalizar el gráfico\n",
    "    plt.title(\"Cantidad de Pedidos por Hora (con al menos 2 productos)\")\n",
    "    plt.xlabel(\"Hora del Día\")\n",
    "    plt.ylabel(\"Cantidad de Pedidos\")\n",
    "    plt.xticks(range(0, 24))\n",
    "\n",
    "    # Mostrar el gráfico\n",
    "    plt.show()\n",
    "else:\n",
    "    print(\"No se encontraron datos para los pedidos que contienen al menos dos productos.\")\n",
    "\n"
   ]
  },
  {
   "cell_type": "markdown",
   "metadata": {
    "application/vnd.databricks.v1+cell": {
     "cellMetadata": {},
     "inputWidgets": {},
     "nuid": "e4e315b8-41cc-4b5c-a22f-963696f33a2e",
     "showTitle": false,
     "tableResultSettingsMap": {},
     "title": ""
    }
   },
   "source": [
    "f. Listado con los productos del estado de NY que se han comprado a la vez, obteniendo un resultado similar a: \n",
    "``` \n",
    "+------------------------------------------------------------+-----+\n",
    "|Productos                                                   |count|\n",
    "+------------------------------------------------------------+-----+\n",
    "|[iPhone, Lightning Charging Cable]                          |126  |\n",
    "|[Google Phone, USB-C Charging Cable]                        |124  |\n",
    "|[Google Phone, Wired Headphones]                            |52   |\n",
    "...\n",
    "```"
   ]
  },
  {
   "cell_type": "code",
   "execution_count": 0,
   "metadata": {
    "application/vnd.databricks.v1+cell": {
     "cellMetadata": {
      "byteLimit": 2048000,
      "rowLimit": 10000
     },
     "inputWidgets": {},
     "nuid": "8b938016-0b49-455a-98b6-82b078088471",
     "showTitle": false,
     "tableResultSettingsMap": {},
     "title": ""
    }
   },
   "outputs": [
    {
     "output_type": "stream",
     "name": "stdout",
     "output_type": "stream",
     "text": [
      "+------------------------------------+-----+\n|Productos                           |count|\n+------------------------------------+-----+\n|[USB-C Charging Cable]              |2685 |\n|[AAA Batteries (4-pack)]            |2660 |\n|[Lightning Charging Cable]          |2614 |\n|[AA Batteries (4-pack)]             |2576 |\n|[Wired Headphones]                  |2256 |\n|[Apple Airpods Headphones]          |1938 |\n|[Bose SoundSport Headphones]        |1676 |\n|[27in FHD Monitor]                  |1027 |\n|[34in Ultrawide Monitor]            |830  |\n|[27in 4K Gaming Monitor]            |810  |\n|[Macbook Pro Laptop]                |631  |\n|[iPhone]                            |623  |\n|[Flatscreen TV]                     |604  |\n|[ThinkPad Laptop]                   |540  |\n|[20in Monitor]                      |527  |\n|[Google Phone]                      |519  |\n|[Vareebadd Phone]                   |192  |\n|[iPhone, Lightning Charging Cable]  |127  |\n|[Google Phone, USB-C Charging Cable]|124  |\n|[LG Washing Machine]                |82   |\n+------------------------------------+-----+\nonly showing top 20 rows\n\n"
     ]
    }
   ],
   "source": [
    "from pyspark.sql import functions as F\n",
    "from pyspark.sql.functions import collect_list, col\n",
    "\n",
    "# Filtrar los pedidos del estado de Nueva York\n",
    "df_ny_orders = df_ventas_con_ciudad_estado.filter(F.col(\"State\") == \"NY\")\n",
    "\n",
    "# Agrupar los productos por cada \"Order_ID\" para obtener los productos comprados juntos\n",
    "df_productos_por_pedido = df_ny_orders.groupBy(\"Order_ID\").agg(\n",
    "    F.collect_list(\"Product\").alias(\"Productos\")\n",
    ")\n",
    "\n",
    "# Contar cuántas veces se ha comprado cada conjunto de productos\n",
    "df_conteo_productos = df_productos_por_pedido.groupBy(\"Productos\").agg(\n",
    "    F.count(\"*\").alias(\"count\")\n",
    ").orderBy(F.desc(\"count\"))\n",
    "\n",
    "# Mostrar el resultado\n",
    "df_conteo_productos.show(truncate=False)\n"
   ]
  }
 ],
 "metadata": {
  "application/vnd.databricks.v1+notebook": {
   "dashboards": [],
   "environmentMetadata": null,
   "language": "python",
   "notebookMetadata": {
    "pythonIndentUnit": 2
   },
   "notebookName": "3",
   "widgets": {}
  }
 },
 "nbformat": 4,
 "nbformat_minor": 0
}
