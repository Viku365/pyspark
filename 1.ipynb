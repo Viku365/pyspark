{
 "cells": [
  {
   "cell_type": "markdown",
   "metadata": {
    "application/vnd.databricks.v1+cell": {
     "cellMetadata": {},
     "inputWidgets": {},
     "nuid": "c564fafc-f48b-4e67-b48b-b6caa00a9fe6",
     "showTitle": false,
     "tableResultSettingsMap": {},
     "title": ""
    }
   },
   "source": [
    "# Primeros pasos con Spark"
   ]
  },
  {
   "cell_type": "markdown",
   "metadata": {
    "application/vnd.databricks.v1+cell": {
     "cellMetadata": {},
     "inputWidgets": {},
     "nuid": "c5f44474-9ced-4569-b4a3-30177d11cd03",
     "showTitle": false,
     "tableResultSettingsMap": {},
     "title": ""
    }
   },
   "source": [
    "## SparkContext vs SparkSession"
   ]
  },
  {
   "cell_type": "markdown",
   "metadata": {
    "application/vnd.databricks.v1+cell": {
     "cellMetadata": {},
     "inputWidgets": {},
     "nuid": "512d8d83-63f7-4d08-a8ae-783d536851c8",
     "showTitle": false,
     "tableResultSettingsMap": {},
     "title": ""
    }
   },
   "source": [
    "SparkContext es el punto de entrada a Spark desde las versiones 1.x y se utiliza para crear de forma programativa RDD, acumuladores y variables broadcast en el clúster. Desde Spark 2.0, la mayoría de funcionalidades (métodos) disponibles en SparkContext también los están en SparkSession. Su objeto sc está disponible en el spark-shell y se puede crear de forma programativa mediante la clase SparkContext."
   ]
  },
  {
   "cell_type": "code",
   "execution_count": 0,
   "metadata": {
    "application/vnd.databricks.v1+cell": {
     "cellMetadata": {
      "byteLimit": 2048000,
      "rowLimit": 10000
     },
     "inputWidgets": {},
     "nuid": "ea7c7fef-1f2b-4b1f-bb40-35c62ff8e309",
     "showTitle": false,
     "tableResultSettingsMap": {},
     "title": ""
    }
   },
   "outputs": [],
   "source": [
    "from pyspark import SparkContext\n",
    "sc = SparkContext.getOrCreate()"
   ]
  },
  {
   "cell_type": "markdown",
   "metadata": {
    "application/vnd.databricks.v1+cell": {
     "cellMetadata": {},
     "inputWidgets": {},
     "nuid": "31b10f71-63bc-4e5e-8a3a-bce66d452f35",
     "showTitle": false,
     "tableResultSettingsMap": {},
     "title": ""
    }
   },
   "source": [
    "SparkSession se introdujo en la versión 2.0 y es el punto de entrada para crear RDD, DataFrames y DataSets. El objeto spark se encuentra disponible por defecto en el spark-shell y se puede crear de forma programativa mediante el patrón builder de SparkSession."
   ]
  },
  {
   "cell_type": "code",
   "execution_count": 0,
   "metadata": {
    "application/vnd.databricks.v1+cell": {
     "cellMetadata": {
      "byteLimit": 2048000,
      "rowLimit": 10000
     },
     "inputWidgets": {},
     "nuid": "58ddebbe-eaa6-4ed9-87b7-b0a161804d63",
     "showTitle": false,
     "tableResultSettingsMap": {},
     "title": ""
    }
   },
   "outputs": [],
   "source": [
    "from pyspark.sql import SparkSession\n",
    "spark = SparkSession.builder.getOrCreate() "
   ]
  },
  {
   "cell_type": "markdown",
   "metadata": {
    "application/vnd.databricks.v1+cell": {
     "cellMetadata": {},
     "inputWidgets": {},
     "nuid": "02491a35-9dad-4f91-87dd-04382ffda8f8",
     "showTitle": false,
     "tableResultSettingsMap": {},
     "title": ""
    }
   },
   "source": [
    "Además, desde una sesión de Spark podemos obtener un contexto a través de la propiedad sparkContext:"
   ]
  },
  {
   "cell_type": "code",
   "execution_count": 0,
   "metadata": {
    "application/vnd.databricks.v1+cell": {
     "cellMetadata": {
      "byteLimit": 2048000,
      "rowLimit": 10000
     },
     "inputWidgets": {},
     "nuid": "07d63877-8295-49e0-ad10-b9a364630b04",
     "showTitle": false,
     "tableResultSettingsMap": {},
     "title": ""
    }
   },
   "outputs": [],
   "source": [
    "from pyspark.sql import SparkSession\n",
    "spark = SparkSession.builder.getOrCreate()\n",
    "sc = spark.sparkContext"
   ]
  },
  {
   "cell_type": "markdown",
   "metadata": {
    "application/vnd.databricks.v1+cell": {
     "cellMetadata": {},
     "inputWidgets": {},
     "nuid": "20d6b204-c169-4163-aab7-7d5c03bde703",
     "showTitle": false,
     "tableResultSettingsMap": {},
     "title": ""
    }
   },
   "source": [
    "### Hola Spark"
   ]
  },
  {
   "cell_type": "markdown",
   "metadata": {
    "application/vnd.databricks.v1+cell": {
     "cellMetadata": {},
     "inputWidgets": {},
     "nuid": "90a7e5c4-4092-41d3-9361-c5da47b51fbf",
     "showTitle": false,
     "tableResultSettingsMap": {},
     "title": ""
    }
   },
   "source": [
    "Lo primero que debemos hacer siempre es conectarnos a la sesión de Spark, el cual le indica a Spark como acceder al clúster. Si utilizamos la imagen de Docker, debemos obtener siempre la sesión a partir de la clase SparkSession:"
   ]
  },
  {
   "cell_type": "code",
   "execution_count": 0,
   "metadata": {
    "application/vnd.databricks.v1+cell": {
     "cellMetadata": {
      "byteLimit": 2048000,
      "rowLimit": 10000
     },
     "inputWidgets": {},
     "nuid": "1e6c0d0e-2dc3-4e6a-b558-dc8416408969",
     "showTitle": false,
     "tableResultSettingsMap": {},
     "title": ""
    }
   },
   "outputs": [
    {
     "output_type": "display_data",
     "data": {
      "text/html": [
       "\n",
       "            <div>\n",
       "                <p><b>SparkSession - hive</b></p>\n",
       "                \n",
       "        <div>\n",
       "            <p><b>SparkContext</b></p>\n",
       "\n",
       "            <p><a href=\"/?o=2246041135319360#setting/sparkui/1120-080954-tzc9p0xa/driver-5014640435225117562\">Spark UI</a></p>\n",
       "\n",
       "            <dl>\n",
       "              <dt>Version</dt>\n",
       "                <dd><code>v3.3.2</code></dd>\n",
       "              <dt>Master</dt>\n",
       "                <dd><code>local[8]</code></dd>\n",
       "              <dt>AppName</dt>\n",
       "                <dd><code>Databricks Shell</code></dd>\n",
       "            </dl>\n",
       "        </div>\n",
       "        \n",
       "            </div>\n",
       "        "
      ]
     },
     "metadata": {
      "application/vnd.databricks.v1+output": {
       "addedWidgets": {},
       "arguments": {},
       "data": "\n            <div>\n                <p><b>SparkSession - hive</b></p>\n                \n        <div>\n            <p><b>SparkContext</b></p>\n\n            <p><a href=\"/?o=2246041135319360#setting/sparkui/1120-080954-tzc9p0xa/driver-5014640435225117562\">Spark UI</a></p>\n\n            <dl>\n              <dt>Version</dt>\n                <dd><code>v3.3.2</code></dd>\n              <dt>Master</dt>\n                <dd><code>local[8]</code></dd>\n              <dt>AppName</dt>\n                <dd><code>Databricks Shell</code></dd>\n            </dl>\n        </div>\n        \n            </div>\n        ",
       "datasetInfos": [],
       "metadata": {},
       "removedWidgets": [],
       "textData": null,
       "type": "htmlSandbox"
      }
     },
     "output_type": "display_data"
    }
   ],
   "source": [
    "from pyspark.sql import SparkSession\n",
    "\n",
    "spark = SparkSession.builder.getOrCreate() # SparkSession de forma programativa\n",
    "spark"
   ]
  },
  {
   "cell_type": "code",
   "execution_count": 0,
   "metadata": {
    "application/vnd.databricks.v1+cell": {
     "cellMetadata": {
      "byteLimit": 2048000,
      "rowLimit": 10000
     },
     "inputWidgets": {},
     "nuid": "9c1bf511-ecc2-4447-80b1-850ef8340ec7",
     "showTitle": false,
     "tableResultSettingsMap": {},
     "title": ""
    }
   },
   "outputs": [],
   "source": [
    "sc = spark.sparkContext                    # SparkContext a partir de la sesión"
   ]
  },
  {
   "cell_type": "code",
   "execution_count": 0,
   "metadata": {
    "application/vnd.databricks.v1+cell": {
     "cellMetadata": {
      "byteLimit": 2048000,
      "rowLimit": 10000
     },
     "inputWidgets": {},
     "nuid": "4370d1c2-9c99-4ac5-8580-65826374aee2",
     "showTitle": false,
     "tableResultSettingsMap": {},
     "title": ""
    }
   },
   "outputs": [
    {
     "output_type": "stream",
     "name": "stdout",
     "output_type": "stream",
     "text": [
      "Out[6]: 5050"
     ]
    }
   ],
   "source": [
    "# Suma de los 100 primeros números\n",
    "rdd = sc.parallelize(range(100 + 1))\n",
    "rdd.sum()"
   ]
  },
  {
   "cell_type": "markdown",
   "metadata": {
    "application/vnd.databricks.v1+cell": {
     "cellMetadata": {},
     "inputWidgets": {},
     "nuid": "fd3a5523-3b8d-4cae-82a2-3f1a40823d82",
     "showTitle": false,
     "tableResultSettingsMap": {},
     "title": ""
    }
   },
   "source": [
    "En cambio, si utilizamos la instalación de PySpark (o la solución de Databricks) que tenemos en la máquina virtual, directamente podemos acceder a la instancia de SparkSession a través del objeto global spark:"
   ]
  },
  {
   "cell_type": "code",
   "execution_count": 0,
   "metadata": {
    "application/vnd.databricks.v1+cell": {
     "cellMetadata": {
      "byteLimit": 2048000,
      "rowLimit": 10000
     },
     "inputWidgets": {},
     "nuid": "f0e26de4-d5a2-481f-8b47-3d46c9be8deb",
     "showTitle": false,
     "tableResultSettingsMap": {},
     "title": ""
    }
   },
   "outputs": [],
   "source": [
    "sc = spark.sparkContext     # spark es una instancia de la clase SparkSession"
   ]
  },
  {
   "cell_type": "code",
   "execution_count": 0,
   "metadata": {
    "application/vnd.databricks.v1+cell": {
     "cellMetadata": {
      "byteLimit": 2048000,
      "rowLimit": 10000
     },
     "inputWidgets": {},
     "nuid": "03b45349-9fb2-4b37-9be4-46989307e38e",
     "showTitle": false,
     "tableResultSettingsMap": {},
     "title": ""
    }
   },
   "outputs": [
    {
     "output_type": "stream",
     "name": "stdout",
     "output_type": "stream",
     "text": [
      "Out[8]: 5050"
     ]
    }
   ],
   "source": [
    "rdd = sc.parallelize(range(100 + 1))\n",
    "rdd.sum()"
   ]
  },
  {
   "cell_type": "markdown",
   "metadata": {
    "application/vnd.databricks.v1+cell": {
     "cellMetadata": {},
     "inputWidgets": {},
     "nuid": "b68fef6c-2119-4afa-8950-1ede3d056d74",
     "showTitle": false,
     "tableResultSettingsMap": {},
     "title": ""
    }
   },
   "source": [
    "## Arquitectura"
   ]
  },
  {
   "cell_type": "markdown",
   "metadata": {
    "application/vnd.databricks.v1+cell": {
     "cellMetadata": {},
     "inputWidgets": {},
     "nuid": "a697276c-0d81-428d-bdd4-1577624cdac0",
     "showTitle": false,
     "tableResultSettingsMap": {},
     "title": ""
    }
   },
   "source": [
    "Ya hemos comentado que Spark es un sistema distribuido diseñado para procesar grandes volúmenes de datos de forma rápida y eficiente. Este sistema normalmente se despliega en un conjunto de máquinas que se conocen como un clúster Spark, pudiendo estar compuesta de unas pocas máquinas o miles de ellas. Según el FAQ de Spark, el clúster más grande de Spark contiene más de 8000 nodos."
   ]
  },
  {
   "cell_type": "markdown",
   "metadata": {
    "application/vnd.databricks.v1+cell": {
     "cellMetadata": {},
     "inputWidgets": {},
     "nuid": "13167ca0-05bd-4495-8ec1-d7e6d848cce9",
     "showTitle": false,
     "tableResultSettingsMap": {},
     "title": ""
    }
   },
   "source": [
    "A la hora del despliegue, se utiliza un sistema de gestión de recursos como el gestor propio de Spark (conocido como Spark Standalone), Apache Mesos, Kubernetes o YARN para gestionar de forma inteligente y eficiente el clúster."
   ]
  },
  {
   "cell_type": "markdown",
   "metadata": {
    "application/vnd.databricks.v1+cell": {
     "cellMetadata": {},
     "inputWidgets": {},
     "nuid": "85ec73fb-f20d-4deb-b777-da7605ba4a05",
     "showTitle": false,
     "tableResultSettingsMap": {},
     "title": ""
    }
   },
   "source": [
    "Los dos componentes principales del clúster son:"
   ]
  },
  {
   "cell_type": "markdown",
   "metadata": {
    "application/vnd.databricks.v1+cell": {
     "cellMetadata": {},
     "inputWidgets": {},
     "nuid": "cfedc4c8-2050-4ae7-be71-d2852fdbc34f",
     "showTitle": false,
     "tableResultSettingsMap": {},
     "title": ""
    }
   },
   "source": [
    "- el gestor del clúster: nodo maestro que sabe donde se localizan los trabajadores, cuanta memoria disponen y el número de cores CPU de cada nodo. Su mayor responsabilidad es orquestar el trabajo asignándolo a los diferentes nodos."
   ]
  },
  {
   "cell_type": "markdown",
   "metadata": {
    "application/vnd.databricks.v1+cell": {
     "cellMetadata": {},
     "inputWidgets": {},
     "nuid": "5752e325-99fb-4f88-a7f4-3be7ee076213",
     "showTitle": false,
     "tableResultSettingsMap": {},
     "title": ""
    }
   },
   "source": [
    "- los nodos trabajadores (workers): cada nodo ofrece recursos (memoria, CPU, etc...) al gestor del clúster y realiza las tareas que se le asignen."
   ]
  },
  {
   "cell_type": "markdown",
   "metadata": {
    "application/vnd.databricks.v1+cell": {
     "cellMetadata": {},
     "inputWidgets": {},
     "nuid": "567ec93e-49ad-4448-a742-cf7ce73e232d",
     "showTitle": false,
     "tableResultSettingsMap": {},
     "title": ""
    }
   },
   "source": [
    "### Aplicaciones Spark"
   ]
  },
  {
   "cell_type": "markdown",
   "metadata": {
    "application/vnd.databricks.v1+cell": {
     "cellMetadata": {},
     "inputWidgets": {},
     "nuid": "36d0afc7-94f2-4ead-ba01-1762fcf9b3b8",
     "showTitle": false,
     "tableResultSettingsMap": {},
     "title": ""
    }
   },
   "source": [
    "Una aplicación Spark se compone de dos partes:"
   ]
  },
  {
   "cell_type": "markdown",
   "metadata": {
    "application/vnd.databricks.v1+cell": {
     "cellMetadata": {},
     "inputWidgets": {},
     "nuid": "b3e3c8ac-0d6a-49f1-8c9f-f80f9614131c",
     "showTitle": false,
     "tableResultSettingsMap": {},
     "title": ""
    }
   },
   "source": [
    "1. La lógica de procesamiento de los datos, la cual realizamos mediante alguna de las API que ofrece Spark (Java, Scala, Python, etc...), desde algo sencillo que realice una ETL sobre los datos a problemas más complejos que requieran múltiples iteraciones y tarden varias horas como entrenar un modelo de machine learning."
   ]
  },
  {
   "cell_type": "markdown",
   "metadata": {
    "application/vnd.databricks.v1+cell": {
     "cellMetadata": {},
     "inputWidgets": {},
     "nuid": "1a102be0-0872-4840-bf31-b3dc873b178b",
     "showTitle": false,
     "tableResultSettingsMap": {},
     "title": ""
    }
   },
   "source": [
    "2. Driver: es el coordinador central encargado de interactuar con el clúster Spark y averiguar qué máquinas deben ejecutar la lógica de procesamiento. Para cada una de esas máquinas, el driver realiza una petición al clúster para lanzar un proceso conocido como ejecutor (executor). Además, el driver Spark es responsable de gestionar y distribuir las tareas a cada ejecutor, y si es necesario, recoger y fusionar los datos resultantes para presentarlos al usuario. Estas tareas se realizan a través de la SparkSession."
   ]
  },
  {
   "cell_type": "markdown",
   "metadata": {
    "application/vnd.databricks.v1+cell": {
     "cellMetadata": {},
     "inputWidgets": {},
     "nuid": "bed31fd8-0b64-42f0-b30e-262b28bf3996",
     "showTitle": false,
     "tableResultSettingsMap": {},
     "title": ""
    }
   },
   "source": [
    "Cada ejecutor es un proceso JVM (Java Virtual Machine) dedicado para una aplicación Spark específica. Un ejecutor vivirá tanto como dure la aplicación Spark, lo cual puede ser segundos, minutos o días, dependiendo de la complejidad de la aplicación. Conviene destacar que los ejecutores son elementos aislados que no se comparten entre aplicaciones Spark, por lo que la única manera de compartir información entre diferente ejecutores es mediante un sistema de almacenamiento externo como HDFS o S3."
   ]
  },
  {
   "cell_type": "markdown",
   "metadata": {
    "application/vnd.databricks.v1+cell": {
     "cellMetadata": {},
     "inputWidgets": {},
     "nuid": "d25fd1af-b6e0-4997-9ec3-39a0556963b8",
     "showTitle": false,
     "tableResultSettingsMap": {},
     "title": ""
    }
   },
   "source": [
    "![](https://community.cloud.databricks.com/files/shared_uploads/notebook_1/1.jpg)"
   ]
  },
  {
   "cell_type": "markdown",
   "metadata": {
    "application/vnd.databricks.v1+cell": {
     "cellMetadata": {},
     "inputWidgets": {},
     "nuid": "cef046c5-2fe0-4b06-acec-9da8305f376e",
     "showTitle": false,
     "tableResultSettingsMap": {},
     "title": ""
    }
   },
   "source": [
    "Así pues, Spark utiliza una arquitectura maestro/esclavo, donde el driver es el maestro, y los ejecutores los esclavos. Cada uno de estos componentes se ejecutan como un proceso independiente en el clúster Spark. Por lo tanto, una aplicación Spark se compone de un driver y múltiples ejecutores. Cada ejecutor realiza lo que se le pide en forma de tareas, ejecutando cada una de ellas en un núcleo CPU separado. Así es como el procesamiento paralelo acelera el tratamiento de los datos. Además, cada ejecutor, bajo petición de la lógica de la aplicación, se responsabiliza de cachear un fragmento de los datos en memoria y/o disco."
   ]
  },
  {
   "cell_type": "markdown",
   "metadata": {
    "application/vnd.databricks.v1+cell": {
     "cellMetadata": {},
     "inputWidgets": {},
     "nuid": "40374408-e8df-4885-9493-a2edaa13ab7e",
     "showTitle": false,
     "tableResultSettingsMap": {},
     "title": ""
    }
   },
   "source": [
    "Al lanzar una aplicación Spark, podemos indicar el número de ejecutores que necesita la aplicación, así como la cantidad de memoria y número de núcleos que debería tener cada ejecutor."
   ]
  },
  {
   "cell_type": "markdown",
   "metadata": {
    "application/vnd.databricks.v1+cell": {
     "cellMetadata": {},
     "inputWidgets": {},
     "nuid": "5ef9e538-e61b-4a8d-b8af-a737d2dd5c6f",
     "showTitle": false,
     "tableResultSettingsMap": {},
     "title": ""
    }
   },
   "source": [
    "![2](https://community.cloud.databricks.com/files/Notebook/2.png)\n"
   ]
  },
  {
   "cell_type": "markdown",
   "metadata": {
    "application/vnd.databricks.v1+cell": {
     "cellMetadata": {},
     "inputWidgets": {},
     "nuid": "c3501fea-4bc9-4cc9-9a34-d89152715124",
     "showTitle": false,
     "tableResultSettingsMap": {},
     "title": ""
    }
   },
   "source": [
    "### Job, Stage y Task"
   ]
  },
  {
   "cell_type": "markdown",
   "metadata": {
    "application/vnd.databricks.v1+cell": {
     "cellMetadata": {},
     "inputWidgets": {},
     "nuid": "976790dc-d2dc-4814-94c3-03cc89b3961d",
     "showTitle": false,
     "tableResultSettingsMap": {},
     "title": ""
    }
   },
   "source": [
    "Cuando creamos una aplicación Spark, por debajo, se distinguen los siguientes elementos:"
   ]
  },
  {
   "cell_type": "markdown",
   "metadata": {
    "application/vnd.databricks.v1+cell": {
     "cellMetadata": {},
     "inputWidgets": {},
     "nuid": "bdf05b0b-95e2-4d73-9f25-ef8bf13795e4",
     "showTitle": false,
     "tableResultSettingsMap": {},
     "title": ""
    }
   },
   "source": [
    "- Job (trabajo): computación paralela compuesta de múltiples tareas que se crean tras una acción de Spark (save, collect, etc...). Al codificar nuestro código mediante PySpark, el driver convierte la aplicación Spark en uno o más jobs, y a continuación, estos jobs los transforma en un DAG (grafo). Este grafo, en esencia, es el plan de ejecución, donde cada elemento dentro del DAG puede implicar una o varias stages (escenas)."
   ]
  },
  {
   "cell_type": "markdown",
   "metadata": {
    "application/vnd.databricks.v1+cell": {
     "cellMetadata": {},
     "inputWidgets": {},
     "nuid": "c12082ed-ef81-4c24-9bc3-7cfde32a3275",
     "showTitle": false,
     "tableResultSettingsMap": {},
     "title": ""
    }
   },
   "source": [
    "- Stage (escena): cada job se divide en pequeños conjuntos de tareas que forman un escenario. Como parte del grafo, las stages se crean a partir de si las operaciones se pueden realizar de forma paralela o de forma secuencial. Como no todas las operaciones pueden realizarse en una única stage, en ocasiones se dividen en varias, normalmente debido a los límites computacionales de los diferentes ejecutores."
   ]
  },
  {
   "cell_type": "markdown",
   "metadata": {
    "application/vnd.databricks.v1+cell": {
     "cellMetadata": {},
     "inputWidgets": {},
     "nuid": "20b72a9d-2516-4c2b-8e67-e484510e65ff",
     "showTitle": false,
     "tableResultSettingsMap": {},
     "title": ""
    }
   },
   "source": [
    "- Task (tarea): unidad de trabajo más pequeña que se envía a los ejecutores Spark. Cada escenario se compone de varias tareas. Cada una de las tareas se asigna a un único núcleo y trabaja con una única partición de los datos. Por ello, un ejecutor con 16 núcleos puede tener 16 o más tareas trabajando en 16 o más particiones en paralelo."
   ]
  },
  {
   "cell_type": "markdown",
   "metadata": {
    "application/vnd.databricks.v1+cell": {
     "cellMetadata": {
      "byteLimit": 2048000,
      "rowLimit": 10000
     },
     "inputWidgets": {},
     "nuid": "29c268de-36ab-4a44-91be-0d4a573bc4e4",
     "showTitle": false,
     "tableResultSettingsMap": {},
     "title": ""
    }
   },
   "source": [
    "![3](https://community.cloud.databricks.com/files/Notebook/3.png)\n"
   ]
  },
  {
   "cell_type": "markdown",
   "metadata": {
    "application/vnd.databricks.v1+cell": {
     "cellMetadata": {},
     "inputWidgets": {},
     "nuid": "12a02ea1-5c4b-4b88-b153-8454296a5266",
     "showTitle": false,
     "tableResultSettingsMap": {},
     "title": ""
    }
   },
   "source": [
    "### DataFrame"
   ]
  },
  {
   "cell_type": "markdown",
   "metadata": {
    "application/vnd.databricks.v1+cell": {
     "cellMetadata": {},
     "inputWidgets": {},
     "nuid": "442541f2-5052-43a7-8554-6d13596c93e7",
     "showTitle": false,
     "tableResultSettingsMap": {},
     "title": ""
    }
   },
   "source": [
    "La principal abstracción de los datos en Spark es el Dataset. Se pueden crear desde las fuentes de entrada de Hadoop (como ficheros que provienen de HDFS o S3) o mediante transformaciones de otros Datasets. Dado el cariz de Python, no necesitamos que los Dataset estén fuertemente tipados, por eso, todos los Dataset que usemos serán Dataset[Row] (si trabajásemos mediante Java o Scala sí deberíamos indicar el tipo de sus datos), y por consistencia con el concepto de Pandas y R, los llamaremos DataFrame."
   ]
  },
  {
   "cell_type": "markdown",
   "metadata": {
    "application/vnd.databricks.v1+cell": {
     "cellMetadata": {},
     "inputWidgets": {},
     "nuid": "1e4c17c6-60a0-4235-bad9-4c0eee74ab92",
     "showTitle": false,
     "tableResultSettingsMap": {},
     "title": ""
    }
   },
   "source": [
    "Por ejemplo, veamos cómo podemos crear un DataFrame a partir de un fichero de texto:"
   ]
  },
  {
   "cell_type": "code",
   "execution_count": 0,
   "metadata": {
    "application/vnd.databricks.v1+cell": {
     "cellMetadata": {
      "byteLimit": 2048000,
      "rowLimit": 10000
     },
     "inputWidgets": {},
     "nuid": "2ff5a76b-dc4d-463c-8ae6-1e79585c63b3",
     "showTitle": false,
     "tableResultSettingsMap": {},
     "title": ""
    }
   },
   "outputs": [
    {
     "output_type": "stream",
     "name": "stdout",
     "output_type": "stream",
     "text": [
      "Out[9]: 2186"
     ]
    }
   ],
   "source": [
    "from pyspark.sql import SparkSession\n",
    "\n",
    "spark = SparkSession.builder.getOrCreate() \n",
    "\n",
    "quijoteTxt = spark.read.text(\"dbfs:/FileStore/Notebook/el_quijote.txt\")\n",
    "quijoteTxt.count()  # número de filas del DataFrame - 2186\n"
   ]
  },
  {
   "cell_type": "markdown",
   "metadata": {
    "application/vnd.databricks.v1+cell": {
     "cellMetadata": {},
     "inputWidgets": {},
     "nuid": "0f65b708-e91c-46f8-9121-72819ee103dc",
     "showTitle": false,
     "tableResultSettingsMap": {},
     "title": ""
    }
   },
   "source": [
    "#### Explicar linea a linea el codigo de arriba"
   ]
  },
  {
   "cell_type": "code",
   "execution_count": 0,
   "metadata": {
    "application/vnd.databricks.v1+cell": {
     "cellMetadata": {
      "byteLimit": 2048000,
      "rowLimit": 10000
     },
     "inputWidgets": {},
     "nuid": "32102037-2734-48be-afc4-4b53894ddf47",
     "showTitle": false,
     "tableResultSettingsMap": {},
     "title": ""
    }
   },
   "outputs": [
    {
     "output_type": "stream",
     "name": "stdout",
     "output_type": "stream",
     "text": [
      "Out[10]: Row(value='DON QUIJOTE DE LA MANCHA')"
     ]
    }
   ],
   "source": [
    "quijoteTxt.first()  # primera fila - Row(value='DON QUIJOTE DE LA MANCHA')"
   ]
  },
  {
   "cell_type": "code",
   "execution_count": 0,
   "metadata": {
    "application/vnd.databricks.v1+cell": {
     "cellMetadata": {
      "byteLimit": 2048000,
      "rowLimit": 10000
     },
     "inputWidgets": {},
     "nuid": "fe003ec7-df15-4c06-be6d-0754cdf2eaa1",
     "showTitle": false,
     "tableResultSettingsMap": {},
     "title": ""
    }
   },
   "outputs": [
    {
     "output_type": "stream",
     "name": "stdout",
     "output_type": "stream",
     "text": [
      "Out[11]: 584"
     ]
    }
   ],
   "source": [
    "# Transformamos un DataFrame en otro nuevo\n",
    "lineasConQuijote = quijoteTxt.filter(quijoteTxt.value.contains(\"Quijote\"))  # DataFrame con las líneas que contiene la palabra Quijote\n",
    "lineasConQuijote.count()  # cantidad de líneas con la palabra Quijote - 584"
   ]
  },
  {
   "cell_type": "code",
   "execution_count": 0,
   "metadata": {
    "application/vnd.databricks.v1+cell": {
     "cellMetadata": {
      "byteLimit": 2048000,
      "rowLimit": 10000
     },
     "inputWidgets": {},
     "nuid": "a2f0a580-e3f6-4f2c-b512-b165e90f2d0a",
     "showTitle": false,
     "tableResultSettingsMap": {},
     "title": ""
    }
   },
   "outputs": [
    {
     "output_type": "stream",
     "name": "stdout",
     "output_type": "stream",
     "text": [
      "Out[12]: 584"
     ]
    }
   ],
   "source": [
    "# Las transformaciones se pueden encadenar\n",
    "quijoteTxt.filter(quijoteTxt.value.contains(\"Quijote\")).count()     # idem - 584"
   ]
  },
  {
   "cell_type": "markdown",
   "metadata": {
    "application/vnd.databricks.v1+cell": {
     "cellMetadata": {},
     "inputWidgets": {},
     "nuid": "797c53b9-d7f7-4eaa-9877-bf2df4ffe08c",
     "showTitle": false,
     "tableResultSettingsMap": {},
     "title": ""
    }
   },
   "source": [
    "Estudiaremos los DataFrame en profundidad en las próximas clases"
   ]
  },
  {
   "cell_type": "markdown",
   "metadata": {
    "application/vnd.databricks.v1+cell": {
     "cellMetadata": {},
     "inputWidgets": {},
     "nuid": "2c9c1805-0553-4b4d-8b12-5db9ebc4aa90",
     "showTitle": false,
     "tableResultSettingsMap": {},
     "title": ""
    }
   },
   "source": [
    "### Spark UI (Jupyter Lab)"
   ]
  },
  {
   "cell_type": "markdown",
   "metadata": {
    "application/vnd.databricks.v1+cell": {
     "cellMetadata": {},
     "inputWidgets": {},
     "nuid": "c7fd21f3-3246-4694-9993-7cdb91d0d2a2",
     "showTitle": false,
     "tableResultSettingsMap": {},
     "title": ""
    }
   },
   "source": [
    "Si accedemos a la dirección 'http://127.0.0.1:4040/', veremos un interfaz gráfico donde podemos monitorizar y analizar el código Spark ejecutado. La barra superior muestra un menú con las opciones para visualizar los jobs, stages, el almacenamiento, el entorno y sus variables de configuración, y finalmente los ejecutores:"
   ]
  },
  {
   "cell_type": "markdown",
   "metadata": {
    "application/vnd.databricks.v1+cell": {
     "cellMetadata": {},
     "inputWidgets": {},
     "nuid": "1642662f-372e-4b6b-bda2-836d2339414d",
     "showTitle": false,
     "tableResultSettingsMap": {},
     "title": ""
    }
   },
   "source": [
    "![4](https://community.cloud.databricks.com/files/Notebook/4.png)"
   ]
  },
  {
   "cell_type": "markdown",
   "metadata": {
    "application/vnd.databricks.v1+cell": {
     "cellMetadata": {},
     "inputWidgets": {},
     "nuid": "5ef151ae-9b24-4796-8f50-a18adc63619b",
     "showTitle": false,
     "tableResultSettingsMap": {},
     "title": ""
    }
   },
   "source": [
    "![5](https://community.cloud.databricks.com/files/Notebook/5.png)"
   ]
  },
  {
   "cell_type": "markdown",
   "metadata": {
    "application/vnd.databricks.v1+cell": {
     "cellMetadata": {},
     "inputWidgets": {},
     "nuid": "9c9dce1b-c10e-40b0-8d15-7c1d27a05723",
     "showTitle": false,
     "tableResultSettingsMap": {},
     "title": ""
    }
   },
   "source": [
    "### Spark UI en Databricks"
   ]
  },
  {
   "cell_type": "markdown",
   "metadata": {
    "application/vnd.databricks.v1+cell": {
     "cellMetadata": {},
     "inputWidgets": {},
     "nuid": "b79dfc40-fbd4-4881-85ab-1111290dd017",
     "showTitle": false,
     "tableResultSettingsMap": {},
     "title": ""
    }
   },
   "source": [
    "Para acceder a la herramienta de monitorización en Databricks, una vez creado un clúster, en la opción Compute/Calcular podremos seleccionar el clúster creado y en la pestaña IU de Spark acceder al mismo interfaz gráfico:"
   ]
  },
  {
   "cell_type": "markdown",
   "metadata": {
    "application/vnd.databricks.v1+cell": {
     "cellMetadata": {},
     "inputWidgets": {},
     "nuid": "e94f91e6-007d-474a-b17f-2d994d1b9f3d",
     "showTitle": false,
     "tableResultSettingsMap": {},
     "title": ""
    }
   },
   "source": [
    "![](https://community.cloud.databricks.com/files/shared_uploads/notebook_1/6.png)"
   ]
  },
  {
   "cell_type": "markdown",
   "metadata": {
    "application/vnd.databricks.v1+cell": {
     "cellMetadata": {},
     "inputWidgets": {},
     "nuid": "1758f248-0d50-4655-b8ef-e8fb214274b1",
     "showTitle": false,
     "tableResultSettingsMap": {},
     "title": ""
    }
   },
   "source": [
    "# Actividad"
   ]
  },
  {
   "cell_type": "markdown",
   "metadata": {
    "application/vnd.databricks.v1+cell": {
     "cellMetadata": {},
     "inputWidgets": {},
     "nuid": "3ae1271c-6f2d-4483-a795-049c02ae23a8",
     "showTitle": false,
     "tableResultSettingsMap": {},
     "title": ""
    }
   },
   "source": [
    "En otro notebook hacer los ejemplos de código anteriores utilizando Scala"
   ]
  },
  {
   "cell_type": "code",
   "execution_count": 0,
   "metadata": {
    "application/vnd.databricks.v1+cell": {
     "cellMetadata": {
      "byteLimit": 2048000,
      "rowLimit": 10000
     },
     "inputWidgets": {},
     "nuid": "5e3a6a98-8292-4bea-9b7f-8f214ea5d888",
     "showTitle": false,
     "tableResultSettingsMap": {},
     "title": ""
    }
   },
   "outputs": [
    {
     "output_type": "display_data",
     "data": {
      "text/html": [
       "<style scoped>\n",
       "  .ansiout {\n",
       "    display: block;\n",
       "    unicode-bidi: embed;\n",
       "    white-space: pre-wrap;\n",
       "    word-wrap: break-word;\n",
       "    word-break: break-all;\n",
       "    font-family: \"Menlo\", \"Monaco\", \"Consolas\", \"Ubuntu Mono\", \"Source Code Pro\", monospace;\n",
       "    font-size: 13px;\n",
       "    color: #555;\n",
       "    margin-left: 4px;\n",
       "    line-height: 19px;\n",
       "  }\n",
       "</style>\n",
       "<div class=\"ansiout\">Número de filas: 2186\n",
       "import org.apache.spark.sql.SparkSession\n",
       "spark: org.apache.spark.sql.SparkSession = org.apache.spark.sql.SparkSession@a115020\n",
       "quijoteTxt: org.apache.spark.sql.DataFrame = [value: string]\n",
       "rowCount: Long = 2186\n",
       "</div>"
      ]
     },
     "metadata": {
      "application/vnd.databricks.v1+output": {
       "addedWidgets": {},
       "arguments": {},
       "data": "<div class=\"ansiout\">Número de filas: 2186\nimport org.apache.spark.sql.SparkSession\nspark: org.apache.spark.sql.SparkSession = org.apache.spark.sql.SparkSession@a115020\nquijoteTxt: org.apache.spark.sql.DataFrame = [value: string]\nrowCount: Long = 2186\n</div>",
       "datasetInfos": [
        {
         "name": "quijoteTxt",
         "schema": {
          "fields": [
           {
            "metadata": {},
            "name": "value",
            "nullable": true,
            "type": "string"
           }
          ],
          "type": "struct"
         },
         "tableIdentifier": null,
         "typeStr": "org.apache.spark.sql.DataFrame"
        }
       ],
       "metadata": {
        "isDbfsCommandResult": false
       },
       "removedWidgets": [],
       "type": "html"
      }
     },
     "output_type": "display_data"
    }
   ],
   "source": [
    "%scala\n",
    "import org.apache.spark.sql.SparkSession\n",
    "\n",
    "val spark = SparkSession.builder.getOrCreate()\n",
    "\n",
    "val quijoteTxt = spark.read.text(\"dbfs:/FileStore/Notebook/el_quijote.txt\")\n",
    "val rowCount = quijoteTxt.count()  // número de filas del DataFrame - 2186\n",
    "\n",
    "println(s\"Número de filas: $rowCount\")\n"
   ]
  },
  {
   "cell_type": "code",
   "execution_count": 0,
   "metadata": {
    "application/vnd.databricks.v1+cell": {
     "cellMetadata": {
      "byteLimit": 2048000,
      "rowLimit": 10000
     },
     "inputWidgets": {},
     "nuid": "19cb6cd6-6746-4288-b3e4-20dcfe592528",
     "showTitle": false,
     "tableResultSettingsMap": {},
     "title": ""
    }
   },
   "outputs": [
    {
     "output_type": "display_data",
     "data": {
      "text/html": [
       "<style scoped>\n",
       "  .ansiout {\n",
       "    display: block;\n",
       "    unicode-bidi: embed;\n",
       "    white-space: pre-wrap;\n",
       "    word-wrap: break-word;\n",
       "    word-break: break-all;\n",
       "    font-family: \"Menlo\", \"Monaco\", \"Consolas\", \"Ubuntu Mono\", \"Source Code Pro\", monospace;\n",
       "    font-size: 13px;\n",
       "    color: #555;\n",
       "    margin-left: 4px;\n",
       "    line-height: 19px;\n",
       "  }\n",
       "</style>\n",
       "<div class=\"ansiout\">Primera fila: [DON QUIJOTE DE LA MANCHA]\n",
       "import org.apache.spark.sql.SparkSession\n",
       "spark: org.apache.spark.sql.SparkSession = org.apache.spark.sql.SparkSession@a115020\n",
       "quijoteTxt: org.apache.spark.sql.DataFrame = [value: string]\n",
       "firstRow: org.apache.spark.sql.Row = [DON QUIJOTE DE LA MANCHA]\n",
       "</div>"
      ]
     },
     "metadata": {
      "application/vnd.databricks.v1+output": {
       "addedWidgets": {},
       "arguments": {},
       "data": "<div class=\"ansiout\">Primera fila: [DON QUIJOTE DE LA MANCHA]\nimport org.apache.spark.sql.SparkSession\nspark: org.apache.spark.sql.SparkSession = org.apache.spark.sql.SparkSession@a115020\nquijoteTxt: org.apache.spark.sql.DataFrame = [value: string]\nfirstRow: org.apache.spark.sql.Row = [DON QUIJOTE DE LA MANCHA]\n</div>",
       "datasetInfos": [
        {
         "name": "quijoteTxt",
         "schema": {
          "fields": [
           {
            "metadata": {},
            "name": "value",
            "nullable": true,
            "type": "string"
           }
          ],
          "type": "struct"
         },
         "tableIdentifier": null,
         "typeStr": "org.apache.spark.sql.DataFrame"
        }
       ],
       "metadata": {
        "isDbfsCommandResult": false
       },
       "removedWidgets": [],
       "type": "html"
      }
     },
     "output_type": "display_data"
    }
   ],
   "source": [
    "%scala\n",
    "import org.apache.spark.sql.SparkSession\n",
    "\n",
    "val spark = SparkSession.builder.getOrCreate()\n",
    "\n",
    "val quijoteTxt = spark.read.text(\"dbfs:/FileStore/Notebook/el_quijote.txt\")\n",
    "val firstRow = quijoteTxt.first()  // primera fila - Row(value='DON QUIJOTE DE LA MANCHA')\n",
    "\n",
    "println(s\"Primera fila: $firstRow\")"
   ]
  },
  {
   "cell_type": "code",
   "execution_count": 0,
   "metadata": {
    "application/vnd.databricks.v1+cell": {
     "cellMetadata": {
      "byteLimit": 2048000,
      "rowLimit": 10000
     },
     "inputWidgets": {},
     "nuid": "7d649b0b-bb77-44dc-ae73-5f61a1f1ab84",
     "showTitle": false,
     "tableResultSettingsMap": {},
     "title": ""
    }
   },
   "outputs": [
    {
     "output_type": "display_data",
     "data": {
      "text/html": [
       "<style scoped>\n",
       "  .ansiout {\n",
       "    display: block;\n",
       "    unicode-bidi: embed;\n",
       "    white-space: pre-wrap;\n",
       "    word-wrap: break-word;\n",
       "    word-break: break-all;\n",
       "    font-family: \"Menlo\", \"Monaco\", \"Consolas\", \"Ubuntu Mono\", \"Source Code Pro\", monospace;\n",
       "    font-size: 13px;\n",
       "    color: #555;\n",
       "    margin-left: 4px;\n",
       "    line-height: 19px;\n",
       "  }\n",
       "</style>\n",
       "<div class=\"ansiout\">Cantidad de líneas con la palabra 'Quijote': 584\n",
       "import org.apache.spark.sql.SparkSession\n",
       "spark: org.apache.spark.sql.SparkSession = org.apache.spark.sql.SparkSession@a115020\n",
       "quijoteTxt: org.apache.spark.sql.DataFrame = [value: string]\n",
       "lineasConQuijote: org.apache.spark.sql.Dataset[org.apache.spark.sql.Row] = [value: string]\n",
       "countLineasConQuijote: Long = 584\n",
       "</div>"
      ]
     },
     "metadata": {
      "application/vnd.databricks.v1+output": {
       "addedWidgets": {},
       "arguments": {},
       "data": "<div class=\"ansiout\">Cantidad de líneas con la palabra 'Quijote': 584\nimport org.apache.spark.sql.SparkSession\nspark: org.apache.spark.sql.SparkSession = org.apache.spark.sql.SparkSession@a115020\nquijoteTxt: org.apache.spark.sql.DataFrame = [value: string]\nlineasConQuijote: org.apache.spark.sql.Dataset[org.apache.spark.sql.Row] = [value: string]\ncountLineasConQuijote: Long = 584\n</div>",
       "datasetInfos": [
        {
         "name": "quijoteTxt",
         "schema": {
          "fields": [
           {
            "metadata": {},
            "name": "value",
            "nullable": true,
            "type": "string"
           }
          ],
          "type": "struct"
         },
         "tableIdentifier": null,
         "typeStr": "org.apache.spark.sql.DataFrame"
        },
        {
         "name": "lineasConQuijote",
         "schema": {
          "fields": [
           {
            "metadata": {},
            "name": "value",
            "nullable": true,
            "type": "string"
           }
          ],
          "type": "struct"
         },
         "tableIdentifier": null,
         "typeStr": "org.apache.spark.sql.Dataset[org.apache.spark.sql.Row]"
        }
       ],
       "metadata": {
        "isDbfsCommandResult": false
       },
       "removedWidgets": [],
       "type": "html"
      }
     },
     "output_type": "display_data"
    }
   ],
   "source": [
    "%scala\n",
    "import org.apache.spark.sql.SparkSession\n",
    "\n",
    "val spark = SparkSession.builder.getOrCreate()\n",
    "\n",
    "val quijoteTxt = spark.read.text(\"dbfs:/FileStore/Notebook/el_quijote.txt\")\n",
    "val lineasConQuijote = quijoteTxt.filter(quijoteTxt(\"value\").contains(\"Quijote\"))  // DataFrame con las líneas que contiene la palabra \"Quijote\"\n",
    "val countLineasConQuijote = lineasConQuijote.count()  // cantidad de líneas con la palabra Quijote - 584\n",
    "\n",
    "println(s\"Cantidad de líneas con la palabra 'Quijote': $countLineasConQuijote\")\n"
   ]
  },
  {
   "cell_type": "code",
   "execution_count": 0,
   "metadata": {
    "application/vnd.databricks.v1+cell": {
     "cellMetadata": {
      "byteLimit": 2048000,
      "implicitDf": true,
      "rowLimit": 10000
     },
     "inputWidgets": {},
     "nuid": "9a1caa53-6b75-42b2-8076-dffd8a6c32af",
     "showTitle": false,
     "tableResultSettingsMap": {},
     "title": ""
    }
   },
   "outputs": [
    {
     "output_type": "display_data",
     "data": {
      "text/html": [
       "<style scoped>\n",
       "  .ansiout {\n",
       "    display: block;\n",
       "    unicode-bidi: embed;\n",
       "    white-space: pre-wrap;\n",
       "    word-wrap: break-word;\n",
       "    word-break: break-all;\n",
       "    font-family: \"Menlo\", \"Monaco\", \"Consolas\", \"Ubuntu Mono\", \"Source Code Pro\", monospace;\n",
       "    font-size: 13px;\n",
       "    color: #555;\n",
       "    margin-left: 4px;\n",
       "    line-height: 19px;\n",
       "  }\n",
       "</style>\n",
       "<div class=\"ansiout\">Cantidad de líneas con la palabra 'Quijote': 584\n",
       "import org.apache.spark.sql.SparkSession\n",
       "spark: org.apache.spark.sql.SparkSession = org.apache.spark.sql.SparkSession@a115020\n",
       "quijoteTxt: org.apache.spark.sql.DataFrame = [value: string]\n",
       "countLineasConQuijote: Long = 584\n",
       "</div>"
      ]
     },
     "metadata": {
      "application/vnd.databricks.v1+output": {
       "addedWidgets": {},
       "arguments": {},
       "data": "<div class=\"ansiout\">Cantidad de líneas con la palabra 'Quijote': 584\nimport org.apache.spark.sql.SparkSession\nspark: org.apache.spark.sql.SparkSession = org.apache.spark.sql.SparkSession@a115020\nquijoteTxt: org.apache.spark.sql.DataFrame = [value: string]\ncountLineasConQuijote: Long = 584\n</div>",
       "datasetInfos": [
        {
         "name": "quijoteTxt",
         "schema": {
          "fields": [
           {
            "metadata": {},
            "name": "value",
            "nullable": true,
            "type": "string"
           }
          ],
          "type": "struct"
         },
         "tableIdentifier": null,
         "typeStr": "org.apache.spark.sql.DataFrame"
        }
       ],
       "metadata": {
        "isDbfsCommandResult": false
       },
       "removedWidgets": [],
       "type": "html"
      }
     },
     "output_type": "display_data"
    }
   ],
   "source": [
    "%scala\n",
    "import org.apache.spark.sql.SparkSession\n",
    "\n",
    "val spark = SparkSession.builder.getOrCreate()\n",
    "\n",
    "val quijoteTxt = spark.read.text(\"dbfs:/FileStore/Notebook/el_quijote.txt\")\n",
    "val countLineasConQuijote = quijoteTxt.filter(quijoteTxt(\"value\").contains(\"Quijote\")).count()  // cantidad de líneas con la palabra Quijote - 584\n",
    "\n",
    "println(s\"Cantidad de líneas con la palabra 'Quijote': $countLineasConQuijote\")\n"
   ]
  },
  {
   "cell_type": "code",
   "execution_count": 0,
   "metadata": {
    "application/vnd.databricks.v1+cell": {
     "cellMetadata": {},
     "inputWidgets": {},
     "nuid": "7b340dc5-b47d-461a-b2d7-be97bb039b97",
     "showTitle": false,
     "tableResultSettingsMap": {},
     "title": ""
    }
   },
   "outputs": [],
   "source": []
  },
  {
   "cell_type": "markdown",
   "metadata": {
    "application/vnd.databricks.v1+cell": {
     "cellMetadata": {},
     "inputWidgets": {},
     "nuid": "7ff9ba74-9777-4f54-a8f3-0c7eed13500e",
     "showTitle": false,
     "tableResultSettingsMap": {},
     "title": ""
    }
   },
   "source": [
    "# RDD"
   ]
  },
  {
   "cell_type": "markdown",
   "metadata": {
    "application/vnd.databricks.v1+cell": {
     "cellMetadata": {},
     "inputWidgets": {},
     "nuid": "d3615ac3-f0fc-4470-94ec-557165e26f37",
     "showTitle": false,
     "tableResultSettingsMap": {},
     "title": ""
    }
   },
   "source": [
    "Un RDD (Resilient Distributed Datasets) es una estructura de datos que abstrae los datos para su procesamiento en paralelo."
   ]
  },
  {
   "cell_type": "markdown",
   "metadata": {
    "application/vnd.databricks.v1+cell": {
     "cellMetadata": {},
     "inputWidgets": {},
     "nuid": "fa71ca6c-8e9a-42d6-9843-6406e663966d",
     "showTitle": false,
     "tableResultSettingsMap": {},
     "title": ""
    }
   },
   "source": [
    "Antes de Spark 2.0, los RDD eran el interfaz principal para interactuar con los datos."
   ]
  },
  {
   "cell_type": "markdown",
   "metadata": {
    "application/vnd.databricks.v1+cell": {
     "cellMetadata": {},
     "inputWidgets": {},
     "nuid": "f54489dd-9435-4362-8507-27502c8088cc",
     "showTitle": false,
     "tableResultSettingsMap": {},
     "title": ""
    }
   },
   "source": [
    "Se trata de una colección de elementos tolerantes a fallos que son immutables (una vez creados, no se pueden modificar) y diseñados para su procesamiento distribuido. Cada conjunto de datos en los RDD se divide en particiones lógicas, que se pueden calcular en diferentes nodos del clúster."
   ]
  },
  {
   "cell_type": "markdown",
   "metadata": {
    "application/vnd.databricks.v1+cell": {
     "cellMetadata": {},
     "inputWidgets": {},
     "nuid": "60694c84-b157-483f-bade-5437cf039d6a",
     "showTitle": false,
     "tableResultSettingsMap": {},
     "title": ""
    }
   },
   "source": [
    "Hay dos formas de crear un RDD:"
   ]
  },
  {
   "cell_type": "markdown",
   "metadata": {
    "application/vnd.databricks.v1+cell": {
     "cellMetadata": {},
     "inputWidgets": {},
     "nuid": "85f5c085-5615-457e-8fe6-9ca4b0f09cca",
     "showTitle": false,
     "tableResultSettingsMap": {},
     "title": ""
    }
   },
   "source": [
    "- Paralelizando una colección ya existente en nuestra aplicación Spark."
   ]
  },
  {
   "cell_type": "markdown",
   "metadata": {
    "application/vnd.databricks.v1+cell": {
     "cellMetadata": {},
     "inputWidgets": {},
     "nuid": "1e311aa5-3ea7-4b2e-9d61-22cd8297e341",
     "showTitle": false,
     "tableResultSettingsMap": {},
     "title": ""
    }
   },
   "source": [
    "- Referenciando un dataset de un sistema externo como HDFS, HBase, etc..."
   ]
  },
  {
   "cell_type": "markdown",
   "metadata": {
    "application/vnd.databricks.v1+cell": {
     "cellMetadata": {},
     "inputWidgets": {},
     "nuid": "411e1263-001e-498b-ace4-5a61a718e305",
     "showTitle": false,
     "tableResultSettingsMap": {},
     "title": ""
    }
   },
   "source": [
    "Sobre los RDD se pueden realizar dos tipos de operaciones:"
   ]
  },
  {
   "cell_type": "markdown",
   "metadata": {
    "application/vnd.databricks.v1+cell": {
     "cellMetadata": {},
     "inputWidgets": {},
     "nuid": "ce1a298e-2b1b-48b2-b9e1-3eb39d5de8b7",
     "showTitle": false,
     "tableResultSettingsMap": {},
     "title": ""
    }
   },
   "source": [
    "- Acción: devuelven un valor tras ejecutar una computación sobre el conjunto de datos."
   ]
  },
  {
   "cell_type": "markdown",
   "metadata": {
    "application/vnd.databricks.v1+cell": {
     "cellMetadata": {},
     "inputWidgets": {},
     "nuid": "cb72acf4-6bb2-4084-8fe7-c184755de7fc",
     "showTitle": false,
     "tableResultSettingsMap": {},
     "title": ""
    }
   },
   "source": [
    "- Transformación: es una operación perezosa (lazy) que crea un nuevo conjunto de datos a partir de otro RDD/Dataset, tras realizar un filtrado, join, etc..."
   ]
  },
  {
   "cell_type": "markdown",
   "metadata": {
    "application/vnd.databricks.v1+cell": {
     "cellMetadata": {},
     "inputWidgets": {},
     "nuid": "105f70b7-cc3d-40cc-aea5-4e1364099092",
     "showTitle": false,
     "tableResultSettingsMap": {},
     "title": ""
    }
   },
   "source": [
    "> **¿ Esta obsoleto RDD?**\n",
    "> \n",
    "> Antes de la versión 2.0, el principal interfaz para programar en Spark eran los RDD. Tras la versión 2.0, fueron sustituidos por los Dataset, que son RDD fuertemente tipados que además están optimizados a bajo nivel. Aunque el interfaz RDD todavía tiene soporte, sin embargo, se recomienda el uso de los Dataset por su mejor rendimiento.\n",
    "> Contexto y evolución\n",
    "RDD (Resilient Distributed Dataset): Es la abstracción fundamental que Apache Spark introdujo inicialmente. Los RDDs son colecciones distribuidas de objetos que pueden ser procesadas en paralelo. Proporcionan una API de bajo nivel y permiten un control detallado sobre las transformaciones y acciones en el procesamiento de datos distribuidos.\n",
    "\n",
    "> DataFrame API: Introducida en Spark 1.3, la API de DataFrame se basa en el concepto de tablas de bases de datos. Ofrece una capa de abstracción más alta que los RDDs y permite realizar operaciones de manera declarativa. Los DataFrames también ofrecen optimizaciones automáticas gracias al Catalyst Optimizer y el uso de Tungsten para la gestión de memoria, lo que hace que el procesamiento sea más eficiente.\n",
    "\n",
    ">Dataset API: Introducida en Spark 1.6 y diseñada para el uso en Scala y Java, combina las ventajas de los RDDs (tipos de datos específicos y seguridad de tipo) con las optimizaciones de los DataFrames. La API de Dataset es más fuerte en cuanto a tipo, lo que mejora la seguridad de tipo y reduce errores en tiempo de compilación.\n",
    ">¿Por qué se prefieren DataFrames y Datasets sobre RDDs?\n",
    ">Optimización: Las APIs de DataFrame y Dataset son optimizadas automáticamente por el Catalyst Optimizer, lo que permite ejecutar código de forma mucho más eficiente.\n",
    "\n",
    "> Facilidad de uso: DataFrames y Datasets proporcionan una API de más alto nivel, que es más intuitiva y se asemeja al lenguaje SQL, haciéndolas más accesibles para usuarios no especializados en programación funcional.\n",
    "\n",
    "> Mejor manejo de memoria: La gestión de memoria en DataFrames y Datasets está mejorada por el proyecto Tungsten, que reduce el consumo de memoria y mejora el rendimiento general de Spark.\n",
    "\n",
    "> Compatibilidad con SQL: Los DataFrames y Datasets están diseñados para trabajar de manera fluida con SQL, lo cual facilita el análisis y manipulación de datos estructurados."
   ]
  },
  {
   "cell_type": "markdown",
   "metadata": {
    "application/vnd.databricks.v1+cell": {
     "cellMetadata": {},
     "inputWidgets": {},
     "nuid": "afa5f78b-9a15-4c16-ae96-e60fb929242f",
     "showTitle": false,
     "tableResultSettingsMap": {},
     "title": ""
    }
   },
   "source": [
    "> ¿Cuándo usar RDDs?\n",
    "> Aunque los DataFrames y Datasets son generalmente recomendados, los RDDs aún son útiles en ciertas situaciones:\n",
    "\n",
    "> Procesamiento de datos no estructurados o semiestructurados: Cuando necesitas realizar operaciones complejas en datos que no pueden ser representados fácilmente como DataFrames o Datasets, los RDDs pueden ser una opción.\n",
    "Transformaciones personalizadas: Si necesitas un control detallado sobre las transformaciones o si las optimizaciones automáticas de Catalyst no son aplicables, RDDs te ofrecen más control.\n",
    "API de bajo nivel: Los RDDs proporcionan una API de bajo nivel que puede ser útil para desarrolladores avanzados que necesitan manipular datos distribuidos de forma muy específica."
   ]
  },
  {
   "cell_type": "markdown",
   "metadata": {
    "application/vnd.databricks.v1+cell": {
     "cellMetadata": {},
     "inputWidgets": {},
     "nuid": "816f272a-d995-4d9e-a98e-b5dabf0b263e",
     "showTitle": false,
     "tableResultSettingsMap": {},
     "title": ""
    }
   },
   "source": [
    "## Acciones"
   ]
  },
  {
   "cell_type": "markdown",
   "metadata": {
    "application/vnd.databricks.v1+cell": {
     "cellMetadata": {},
     "inputWidgets": {},
     "nuid": "e1f7d548-28bd-4533-ac03-b0339fd97607",
     "showTitle": false,
     "tableResultSettingsMap": {},
     "title": ""
    }
   },
   "source": [
    "En Apache Spark, las acciones son operaciones que se ejecutan sobre RDDs, DataFrames o Datasets y que desencadenan el cómputo real en el clúster. Es decir, las acciones inician el procesamiento y devuelven un valor o resultado al controlador del programa o escriben datos a un almacenamiento externo.\n",
    "\n",
    "Las acciones contrastan con las transformaciones, que son operaciones que definen cómo deben transformarse los datos pero no ejecutan inmediatamente el procesamiento. Las transformaciones son \"perezosas\" (lazy), mientras que las acciones desencadenan la ejecución."
   ]
  },
  {
   "cell_type": "markdown",
   "metadata": {
    "application/vnd.databricks.v1+cell": {
     "cellMetadata": {},
     "inputWidgets": {},
     "nuid": "64343e6a-3233-4726-aead-7a409cc7204c",
     "showTitle": false,
     "tableResultSettingsMap": {},
     "title": ""
    }
   },
   "source": [
    "A continuación vamos a revisar las acciones más comunes. Puedes consultar todas las acciones disponibles en la  [documentación oficial](https://spark.apache.org/docs/latest/rdd-programming-guide.html#actions)\r\n",
    "de Spark:"
   ]
  },
  {
   "cell_type": "markdown",
   "metadata": {
    "application/vnd.databricks.v1+cell": {
     "cellMetadata": {},
     "inputWidgets": {},
     "nuid": "7729af38-8a24-493f-9667-d69bdef16519",
     "showTitle": false,
     "tableResultSettingsMap": {},
     "title": ""
    }
   },
   "source": [
    "> Recuerda importar el contexto:"
   ]
  },
  {
   "cell_type": "code",
   "execution_count": 0,
   "metadata": {
    "application/vnd.databricks.v1+cell": {
     "cellMetadata": {
      "byteLimit": 2048000,
      "rowLimit": 10000
     },
     "inputWidgets": {},
     "nuid": "76f507ce-140e-4b59-bb37-8b4b86a5e8f6",
     "showTitle": false,
     "tableResultSettingsMap": {},
     "title": ""
    }
   },
   "outputs": [],
   "source": [
    "from pyspark.sql import SparkSession\n",
    "\n",
    "spark = SparkSession.builder.getOrCreate()\n",
    "sc = spark.sparkContext"
   ]
  },
  {
   "cell_type": "markdown",
   "metadata": {
    "application/vnd.databricks.v1+cell": {
     "cellMetadata": {},
     "inputWidgets": {},
     "nuid": "b3300d67-3c05-4f31-9497-1739fe1b1a5d",
     "showTitle": false,
     "tableResultSettingsMap": {},
     "title": ""
    }
   },
   "source": [
    "### Parallelize"
   ]
  },
  {
   "cell_type": "markdown",
   "metadata": {
    "application/vnd.databricks.v1+cell": {
     "cellMetadata": {},
     "inputWidgets": {},
     "nuid": "632a7c6c-bc6c-465e-9820-44a0b765c39b",
     "showTitle": false,
     "tableResultSettingsMap": {},
     "title": ""
    }
   },
   "source": [
    "En Apache Spark, parallelize es un método utilizado para crear un RDD (Resilient Distributed Dataset) a partir de una colección de datos en el controlador del programa. Permite distribuir los datos en paralelo entre los nodos del clúster para realizar operaciones distribuidas.\n",
    "\n"
   ]
  },
  {
   "cell_type": "markdown",
   "metadata": {
    "application/vnd.databricks.v1+cell": {
     "cellMetadata": {},
     "inputWidgets": {},
     "nuid": "f631730e-becf-4dd8-98f0-5f71458fc5b5",
     "showTitle": false,
     "tableResultSettingsMap": {},
     "title": ""
    }
   },
   "source": [
    "Podemos crear RDD directamente desde cero sin necesidad de leer los datos desde un fichero. Para ello, a partir de un `SparkContext` podemos utilizar `parallelize` sobre una lista."
   ]
  },
  {
   "cell_type": "markdown",
   "metadata": {
    "application/vnd.databricks.v1+cell": {
     "cellMetadata": {},
     "inputWidgets": {},
     "nuid": "11694850-0fb9-4337-a7d2-819eb7a3c752",
     "showTitle": false,
     "tableResultSettingsMap": {},
     "title": ""
    }
   },
   "source": [
    "Esta acción divide una colección de elementos entre los nodos de nuestro clústers. Por ejemplo:"
   ]
  },
  {
   "cell_type": "code",
   "execution_count": 0,
   "metadata": {
    "application/vnd.databricks.v1+cell": {
     "cellMetadata": {
      "byteLimit": 2048000,
      "rowLimit": 10000
     },
     "inputWidgets": {},
     "nuid": "8cad9bc7-4953-408f-a605-099b83427d07",
     "showTitle": false,
     "tableResultSettingsMap": {},
     "title": ""
    }
   },
   "outputs": [],
   "source": [
    "miRDD = sc.parallelize([1,2,3,4,5,6,7,8,9])\n",
    "\n",
    "lista  = ['Hola', 'Adiós', 'Hasta luego']\n",
    "listaRDD = sc.parallelize(lista) # Creamos un RDD a partir de una lista\n",
    "listaRDD4 = sc.parallelize(lista,4) # Creamos un RDD con 4 particiones"
   ]
  },
  {
   "cell_type": "markdown",
   "metadata": {
    "application/vnd.databricks.v1+cell": {
     "cellMetadata": {},
     "inputWidgets": {},
     "nuid": "caffb12c-557a-41ec-94d6-380673c6c3da",
     "showTitle": false,
     "tableResultSettingsMap": {},
     "title": ""
    }
   },
   "source": [
    "\n",
    "Crear un RDD de una lista de números:\n",
    "\n",
    "``\n",
    "miRDD = sc.parallelize([1,2,3,4,5,6,7,8,9])\n",
    "``\n",
    "\n",
    "Conviertes la lista [1, 2, 3, 4, 5, 6, 7, 8, 9] en un RDD (conjunto de datos distribuido) para que Spark pueda trabajar con esos datos de forma paralela.\n",
    "Crear un RDD de una lista de palabras:\n",
    "\n",
    "``\n",
    "lista = ['Hola', 'Adiós', 'Hasta luego']\n",
    "listaRDD = sc.parallelize(lista)\n",
    "``\n",
    "\n",
    "Haces lo mismo, pero esta vez con una lista de palabras. listaRDD es un RDD que contiene ['Hola', 'Adiós', 'Hasta luego'].\n",
    "Crear un RDD con varias particiones:\n",
    "\n",
    "``\n",
    "listaRDD4 = sc.parallelize(lista, 4)\n",
    "`` \n",
    "\n",
    "Este RDD se crea a partir de la misma lista, pero se divide en 4 partes para que se pueda procesar en paralelo de manera más eficiente."
   ]
  },
  {
   "cell_type": "code",
   "execution_count": 0,
   "metadata": {
    "application/vnd.databricks.v1+cell": {
     "cellMetadata": {
      "byteLimit": 2048000,
      "rowLimit": 10000
     },
     "inputWidgets": {},
     "nuid": "00370341-1cb2-430e-9c6f-9073a85afc3f",
     "showTitle": false,
     "tableResultSettingsMap": {},
     "title": ""
    }
   },
   "outputs": [
    {
     "output_type": "stream",
     "name": "stdout",
     "output_type": "stream",
     "text": [
      "Out[19]: ['Hola', 'Adiós', 'Hasta luego']"
     ]
    }
   ],
   "source": [
    "lista"
   ]
  },
  {
   "cell_type": "code",
   "execution_count": 0,
   "metadata": {
    "application/vnd.databricks.v1+cell": {
     "cellMetadata": {
      "byteLimit": 2048000,
      "rowLimit": 10000
     },
     "inputWidgets": {},
     "nuid": "5049316e-6097-41a5-81bf-c8273f68f641",
     "showTitle": false,
     "tableResultSettingsMap": {},
     "title": ""
    }
   },
   "outputs": [
    {
     "output_type": "stream",
     "name": "stdout",
     "output_type": "stream",
     "text": [
      "Out[21]: ParallelCollectionRDD[45] at readRDDFromInputStream at PythonRDD.scala:435"
     ]
    }
   ],
   "source": [
    "listaRDD"
   ]
  },
  {
   "cell_type": "markdown",
   "metadata": {
    "application/vnd.databricks.v1+cell": {
     "cellMetadata": {},
     "inputWidgets": {},
     "nuid": "90c00b8b-0be2-41c6-86bd-f45ee99419b0",
     "showTitle": false,
     "tableResultSettingsMap": {},
     "title": ""
    }
   },
   "source": [
    ">La primera salida (Out[19]) muestra los datos reales que se han extraído del RDD utilizando un método como .collect(), y se presentan como una lista de Python."
   ]
  },
  {
   "cell_type": "markdown",
   "metadata": {
    "application/vnd.databricks.v1+cell": {
     "cellMetadata": {},
     "inputWidgets": {},
     "nuid": "567b9968-ff82-42c5-bab5-4d18a6200a63",
     "showTitle": false,
     "tableResultSettingsMap": {},
     "title": ""
    }
   },
   "source": [
    ">La segunda salida (Out[21]) indica que el resultado es un RDD que Spark está manejando de forma distribuida. No contiene los datos en sí, sino una referencia al RDD."
   ]
  },
  {
   "cell_type": "code",
   "execution_count": 0,
   "metadata": {
    "application/vnd.databricks.v1+cell": {
     "cellMetadata": {
      "byteLimit": 2048000,
      "rowLimit": 10000
     },
     "inputWidgets": {},
     "nuid": "602db0eb-e81e-4065-b6bf-1691e9f0fd79",
     "showTitle": false,
     "tableResultSettingsMap": {},
     "title": ""
    }
   },
   "outputs": [
    {
     "output_type": "stream",
     "name": "stdout",
     "output_type": "stream",
     "text": [
      "Out[22]: ParallelCollectionRDD[46] at readRDDFromInputStream at PythonRDD.scala:435"
     ]
    }
   ],
   "source": [
    "listaRDD4"
   ]
  },
  {
   "cell_type": "markdown",
   "metadata": {
    "application/vnd.databricks.v1+cell": {
     "cellMetadata": {},
     "inputWidgets": {},
     "nuid": "3522ba70-a4dd-45ca-bd3a-b0ad5b6754e1",
     "showTitle": false,
     "tableResultSettingsMap": {},
     "title": ""
    }
   },
   "source": [
    "> La salida Out[13]: ParallelCollectionRDD[29] at readRDDFromInputStream at PythonRDD.scala:435 indica que Spark ha creado un RDD (un conjunto de datos distribuido).\n",
    "\n",
    ">ParallelCollectionRDD[29]: Es un RDD que se creó usando parallelize(), y [29] es su identificador.\n",
    "at readRDDFromInputStream at PythonRDD.scala:435: Muestra en qué parte del código de Spark se generó el RDD, algo que ayuda a los desarrolladores de Spark para depurar."
   ]
  },
  {
   "cell_type": "markdown",
   "metadata": {
    "application/vnd.databricks.v1+cell": {
     "cellMetadata": {},
     "inputWidgets": {},
     "nuid": "5c3e4d52-5c36-41c8-a295-a6d6eea733c0",
     "showTitle": false,
     "tableResultSettingsMap": {},
     "title": ""
    }
   },
   "source": [
    "### Take y Sample"
   ]
  },
  {
   "cell_type": "markdown",
   "metadata": {
    "application/vnd.databricks.v1+cell": {
     "cellMetadata": {},
     "inputWidgets": {},
     "nuid": "1f0d1f2a-adc7-4884-9968-4dc5d3efd137",
     "showTitle": false,
     "tableResultSettingsMap": {},
     "title": ""
    }
   },
   "source": [
    "Son métodos utilizados en RDDs, DataFrames y Datasets para interactuar con los datos. Ambos sirven para trabajar con subconjuntos, pero tienen usos y características diferentes. Una vez tenemos un RDD, y sobre él queremos recuperar un número determinado de resultados, de forma similar a limit en SQL, tenemos la acción `take`:"
   ]
  },
  {
   "cell_type": "code",
   "execution_count": 0,
   "metadata": {
    "application/vnd.databricks.v1+cell": {
     "cellMetadata": {
      "byteLimit": 2048000,
      "rowLimit": 10000
     },
     "inputWidgets": {},
     "nuid": "ec4bdd22-864c-4873-8676-5ca07ea2d349",
     "showTitle": false,
     "tableResultSettingsMap": {},
     "title": ""
    }
   },
   "outputs": [
    {
     "output_type": "stream",
     "name": "stdout",
     "output_type": "stream",
     "text": [
      "Out[23]: [1, 2, 3]"
     ]
    }
   ],
   "source": [
    "miRDD.take(3)       # [1, 2, 3]]"
   ]
  },
  {
   "cell_type": "markdown",
   "metadata": {
    "application/vnd.databricks.v1+cell": {
     "cellMetadata": {},
     "inputWidgets": {},
     "nuid": "d45c44ca-56f1-4c4a-a638-215cfefe0f71",
     "showTitle": false,
     "tableResultSettingsMap": {},
     "title": ""
    }
   },
   "source": [
    "### Explicación del Código miRDD.take(3)\n",
    "\n",
    "``\n",
    "miRDD.take(3)  # [1, 2, 3]\n",
    "``\n",
    "\n",
    "miRDD: Es un RDD creado previamente, posiblemente a partir de una lista de números (por ejemplo, [1, 2, 3, 4, 5, 6, 7, 8, 9]).\n",
    "take(3): Este método devuelve una lista con los primeros 3 elementos del RDD miRDD."
   ]
  },
  {
   "cell_type": "code",
   "execution_count": 0,
   "metadata": {
    "application/vnd.databricks.v1+cell": {
     "cellMetadata": {
      "byteLimit": 2048000,
      "rowLimit": 10000
     },
     "inputWidgets": {},
     "nuid": "1acff8ff-04eb-4842-9c89-b8471e5e744f",
     "showTitle": false,
     "tableResultSettingsMap": {},
     "title": ""
    }
   },
   "outputs": [
    {
     "output_type": "stream",
     "name": "stdout",
     "output_type": "stream",
     "text": [
      "Out[25]: ['Hola', 'Adiós']"
     ]
    }
   ],
   "source": [
    "listaRDD.take(2)    # ['Hola', 'Adiós']"
   ]
  },
  {
   "cell_type": "markdown",
   "metadata": {
    "application/vnd.databricks.v1+cell": {
     "cellMetadata": {},
     "inputWidgets": {},
     "nuid": "bf8388b3-a2cc-4232-bcbd-902d5de7f5d9",
     "showTitle": false,
     "tableResultSettingsMap": {},
     "title": ""
    }
   },
   "source": [
    "Otra opción es utilizar `sample` para obtener una muestra de los datos, aunque en este caso no es una acción sino una transformación, ya que va a obtener información posiblemente de varias particiones, teniendo que barajar los datos (**shuffle**):"
   ]
  },
  {
   "cell_type": "code",
   "execution_count": 0,
   "metadata": {
    "application/vnd.databricks.v1+cell": {
     "cellMetadata": {
      "byteLimit": 2048000,
      "rowLimit": 10000
     },
     "inputWidgets": {},
     "nuid": "2a83b128-8792-4ccd-b7f9-e06fbe5cac5c",
     "showTitle": false,
     "tableResultSettingsMap": {},
     "title": ""
    }
   },
   "outputs": [],
   "source": [
    "miRDDmuestra = miRDD.sample(False, 0.5)"
   ]
  },
  {
   "cell_type": "markdown",
   "metadata": {
    "application/vnd.databricks.v1+cell": {
     "cellMetadata": {},
     "inputWidgets": {},
     "nuid": "2d99f9a2-c33a-475a-b546-a1d449b43f85",
     "showTitle": false,
     "tableResultSettingsMap": {},
     "title": ""
    }
   },
   "source": [
    "# Explicación del Código miRDDmuestra \n",
    "\n",
    "``\n",
    "miRDDmuestra = miRDD.sample(False, 0.5)\n",
    "``\n",
    "\n",
    "Descripción\n",
    "miRDD:\n",
    "\n",
    "Es un RDD (Resilient Distributed Dataset), que es una estructura de datos utilizada en Spark para distribuir y paralelizar el procesamiento de datos.\n",
    "sample(False, 0.5):\n",
    "\n",
    "El método .sample(withReplacement, fraction) se utiliza para obtener una muestra aleatoria del RDD.\n",
    "withReplacement=False:\n",
    "Indica que se tomará la muestra sin reemplazo, lo cual significa que cada elemento puede seleccionarse solo una vez.\n",
    "fraction=0.5:\n",
    "Indica que se desea seleccionar aproximadamente el 50% de los elementos del RDD miRDD.\n",
    "miRDDmuestra:\n",
    "\n",
    "Es un nuevo RDD que contiene la muestra aleatoria de los elementos de miRDD.\n",
    "Al ser una muestra aleatoria, cada ejecución podría dar resultados diferentes, ya que la selección de los elementos se realiza de forma aleatoria."
   ]
  },
  {
   "cell_type": "code",
   "execution_count": 0,
   "metadata": {
    "application/vnd.databricks.v1+cell": {
     "cellMetadata": {
      "byteLimit": 2048000,
      "rowLimit": 10000
     },
     "inputWidgets": {},
     "nuid": "c64255c9-6f3a-4228-8286-9167f4d292d3",
     "showTitle": false,
     "tableResultSettingsMap": {},
     "title": ""
    }
   },
   "outputs": [
    {
     "output_type": "stream",
     "name": "stdout",
     "output_type": "stream",
     "text": [
      "Out[27]: [2, 4]"
     ]
    }
   ],
   "source": [
    "miRDDmuestra.collect()  # [2, 4, 6, 7, 8, 9] / [1, 2, 3, 4, 6] / [5, 8, 9]"
   ]
  },
  {
   "cell_type": "markdown",
   "metadata": {
    "application/vnd.databricks.v1+cell": {
     "cellMetadata": {},
     "inputWidgets": {},
     "nuid": "b9526082-760b-4ff2-ba63-6e50fce056b0",
     "showTitle": false,
     "tableResultSettingsMap": {},
     "title": ""
    }
   },
   "source": [
    "# Explicación del Código miRDDmuestra.collect()\n",
    "\n",
    "\n",
    "``\n",
    "miRDDmuestra.collect()  # [2, 4, 6, 7, 8, 9] / [1, 2, 3, 4, 6] / [5, 8, 9]\n",
    "``\n",
    "\n",
    "Descripción\n",
    "miRDDmuestra: Es un RDD que contiene una muestra aleatoria de los datos originales.\n",
    "\n",
    ".collect(): Recolecta todos los elementos del RDD y los devuelve como una lista de Python."
   ]
  },
  {
   "cell_type": "markdown",
   "metadata": {
    "application/vnd.databricks.v1+cell": {
     "cellMetadata": {},
     "inputWidgets": {},
     "nuid": "6819d3ce-36c7-42d7-b9b6-243ba1027230",
     "showTitle": false,
     "tableResultSettingsMap": {},
     "title": ""
    }
   },
   "source": [
    "Esta transformación recibe varios parámetros:"
   ]
  },
  {
   "cell_type": "markdown",
   "metadata": {
    "application/vnd.databricks.v1+cell": {
     "cellMetadata": {},
     "inputWidgets": {},
     "nuid": "2210bf6c-271b-4104-bdf7-d4516c39c537",
     "showTitle": false,
     "tableResultSettingsMap": {},
     "title": ""
    }
   },
   "source": [
    "- `withReplacement`: booleano para indicar si queremos elementos repetidos\n",
    "- `fraction` : valor entre 0 y 1 que expresa la probabilidad de elegir cada elemento\n",
    "- opcionalmente se le puede pasar un tercer valor con la semilla"
   ]
  },
  {
   "cell_type": "markdown",
   "metadata": {
    "application/vnd.databricks.v1+cell": {
     "cellMetadata": {},
     "inputWidgets": {},
     "nuid": "249631ba-a900-44e8-ba8e-9e0bd721ad72",
     "showTitle": false,
     "tableResultSettingsMap": {},
     "title": ""
    }
   },
   "source": [
    "Así pues, en el ejemplo anterior, cada llamada a sample ha generado un RDD diferente, sin valores repetidos, pero con un tamaño de RDD variable."
   ]
  },
  {
   "cell_type": "markdown",
   "metadata": {
    "application/vnd.databricks.v1+cell": {
     "cellMetadata": {},
     "inputWidgets": {},
     "nuid": "7f694929-89c3-4946-8ea0-d168496ee390",
     "showTitle": false,
     "tableResultSettingsMap": {},
     "title": ""
    }
   },
   "source": [
    "**Muestra Estratificada**  \n",
    "\n",
    "Si necesitamos que nuestra muestra esté estratificada para que los datos no estén sesgados podemos utilizar `sampleByKey`:"
   ]
  },
  {
   "cell_type": "markdown",
   "metadata": {
    "application/vnd.databricks.v1+cell": {
     "cellMetadata": {},
     "inputWidgets": {},
     "nuid": "fdb0d3b4-6828-403c-ae53-3934792a5928",
     "showTitle": false,
     "tableResultSettingsMap": {},
     "title": ""
    }
   },
   "source": [
    "¿Qué es una muestra estratificada en este contexto?"
   ]
  },
  {
   "cell_type": "code",
   "execution_count": 0,
   "metadata": {
    "application/vnd.databricks.v1+cell": {
     "cellMetadata": {
      "byteLimit": 2048000,
      "rowLimit": 10000
     },
     "inputWidgets": {},
     "nuid": "842bc884-15c0-4531-bcbd-f388bef9880e",
     "showTitle": false,
     "tableResultSettingsMap": {},
     "title": ""
    }
   },
   "outputs": [
    {
     "output_type": "stream",
     "name": "stdout",
     "output_type": "stream",
     "text": [
      "[(2, 'c'), (2, 'd'), (2, 'e')]\n"
     ]
    }
   ],
   "source": [
    "datos = sc.parallelize([(1, 'a'), (1, 'b'), (2, 'c'), (2, 'd'), (2, 'e'), (3, 'f')])\n",
    "\n",
    "# indicamos la probabilidad para cada clave\n",
    "fracciones = {1: 0.1, 2: 0.6, 3: 0.3}\n",
    "\n",
    "approxSample = datos.sampleByKey(False, fracciones)     # [(2, 'c'), (2, 'd')] el resultado puede variar\n",
    "print(approxSample.collect())"
   ]
  },
  {
   "cell_type": "markdown",
   "metadata": {
    "application/vnd.databricks.v1+cell": {
     "cellMetadata": {},
     "inputWidgets": {},
     "nuid": "60778104-b68f-4166-8311-476b71433536",
     "showTitle": false,
     "tableResultSettingsMap": {},
     "title": ""
    }
   },
   "source": [
    "Para obtener una muestra mediante una acción, tenemos la opción `takeSample` que funciona de forma similar pero sin hacer `shuffle` y devuelve una lista:"
   ]
  },
  {
   "cell_type": "code",
   "execution_count": 0,
   "metadata": {
    "application/vnd.databricks.v1+cell": {
     "cellMetadata": {
      "byteLimit": 2048000,
      "rowLimit": 10000
     },
     "inputWidgets": {},
     "nuid": "12c86267-76e0-4951-8819-49958f483d58",
     "showTitle": false,
     "tableResultSettingsMap": {},
     "title": ""
    }
   },
   "outputs": [
    {
     "output_type": "stream",
     "name": "stdout",
     "output_type": "stream",
     "text": [
      "[9, 4, 8, 7, 3]\n"
     ]
    }
   ],
   "source": [
    "miRDDmuestraT = miRDD.takeSample(False, 5)\n",
    "print(miRDDmuestraT)  # [1, 8, 9, 7, 2] el resultado puede variar"
   ]
  },
  {
   "cell_type": "markdown",
   "metadata": {
    "application/vnd.databricks.v1+cell": {
     "cellMetadata": {},
     "inputWidgets": {},
     "nuid": "89dcc28b-3a0b-4b6a-810e-17055c92724a",
     "showTitle": false,
     "tableResultSettingsMap": {},
     "title": ""
    }
   },
   "source": [
    "El primer parámetro vuelve a indicar si hay repetidos, pero el segundo fija la cantidad de elementos a devolver."
   ]
  },
  {
   "cell_type": "markdown",
   "metadata": {
    "application/vnd.databricks.v1+cell": {
     "cellMetadata": {},
     "inputWidgets": {},
     "nuid": "c19e34da-8a90-450f-856a-8bb44e465f27",
     "showTitle": false,
     "tableResultSettingsMap": {},
     "title": ""
    }
   },
   "source": [
    "Por último, mediante `top` obtenemos los primeros elementos una vez ordenado el RDD:"
   ]
  },
  {
   "cell_type": "code",
   "execution_count": 0,
   "metadata": {
    "application/vnd.databricks.v1+cell": {
     "cellMetadata": {
      "byteLimit": 2048000,
      "rowLimit": 10000
     },
     "inputWidgets": {},
     "nuid": "a0750a36-e640-4e52-99d7-36a2ae04dcec",
     "showTitle": false,
     "tableResultSettingsMap": {},
     "title": ""
    }
   },
   "outputs": [
    {
     "output_type": "stream",
     "name": "stdout",
     "output_type": "stream",
     "text": [
      "Out[30]: [9, 8, 7]"
     ]
    }
   ],
   "source": [
    "miRDD.top(3)    # [9, 8, 7]"
   ]
  },
  {
   "cell_type": "markdown",
   "metadata": {
    "application/vnd.databricks.v1+cell": {
     "cellMetadata": {},
     "inputWidgets": {},
     "nuid": "710f87bd-787e-4f87-83f6-bca1a796c5ae",
     "showTitle": false,
     "tableResultSettingsMap": {},
     "title": ""
    }
   },
   "source": [
    "De forma similar, tenemos `takeOrdered` que recupera la cantidad de registros necesarios pero ordenados ascendentemente (al contrario que `top`), con la opción de ordenarlos descendentemente (similar a `top`):"
   ]
  },
  {
   "cell_type": "code",
   "execution_count": 0,
   "metadata": {
    "application/vnd.databricks.v1+cell": {
     "cellMetadata": {
      "byteLimit": 2048000,
      "rowLimit": 10000
     },
     "inputWidgets": {},
     "nuid": "8216eea2-37a6-4894-a460-f1ebeadd6978",
     "showTitle": false,
     "tableResultSettingsMap": {},
     "title": ""
    }
   },
   "outputs": [
    {
     "output_type": "stream",
     "name": "stdout",
     "output_type": "stream",
     "text": [
      "Out[31]: [1, 2, 3]"
     ]
    }
   ],
   "source": [
    "miRDD.takeOrdered(3)    # [1, 2, 3]"
   ]
  },
  {
   "cell_type": "code",
   "execution_count": 0,
   "metadata": {
    "application/vnd.databricks.v1+cell": {
     "cellMetadata": {
      "byteLimit": 2048000,
      "rowLimit": 10000
     },
     "inputWidgets": {},
     "nuid": "1d743651-e3a6-4e38-a4cb-7b10cc83df57",
     "showTitle": false,
     "tableResultSettingsMap": {},
     "title": ""
    }
   },
   "outputs": [
    {
     "output_type": "stream",
     "name": "stdout",
     "output_type": "stream",
     "text": [
      "Out[32]: [9, 8, 7]"
     ]
    }
   ],
   "source": [
    "miRDD.takeOrdered(3, lambda x: -x)    # [9, 8, 7]"
   ]
  },
  {
   "cell_type": "markdown",
   "metadata": {
    "application/vnd.databricks.v1+cell": {
     "cellMetadata": {},
     "inputWidgets": {},
     "nuid": "10f84247-fe1b-42b7-a90b-662cc65982fc",
     "showTitle": false,
     "tableResultSettingsMap": {},
     "title": ""
    }
   },
   "source": [
    "# Explicación de las Funciones Lambda en Python\n",
    "\n",
    "## ¿Qué es una Función Lambda?\n",
    "\n",
    "Las **funciones lambda** en Python son **funciones anónimas** y pequeñas que se definen utilizando la palabra clave `lambda`. Se usan cuando necesitas una función corta y simple para realizar una operación específica, y no quieres definir una función completa con `def`.\n",
    "\n",
    "### Sintaxis\n",
    "\n",
    "```python\n",
    "lambda argumentos: expresión\n"
   ]
  },
  {
   "cell_type": "markdown",
   "metadata": {
    "application/vnd.databricks.v1+cell": {
     "cellMetadata": {},
     "inputWidgets": {},
     "nuid": "b7f9d9bd-77bb-4883-865c-3ccb12ca98d5",
     "showTitle": false,
     "tableResultSettingsMap": {},
     "title": ""
    }
   },
   "source": [
    "#Ejemplo 1: Sumar dos números"
   ]
  },
  {
   "cell_type": "code",
   "execution_count": 0,
   "metadata": {
    "application/vnd.databricks.v1+cell": {
     "cellMetadata": {
      "byteLimit": 2048000,
      "rowLimit": 10000
     },
     "inputWidgets": {},
     "nuid": "e15dc159-5e8d-4a66-aea2-ee6ffe107030",
     "showTitle": false,
     "tableResultSettingsMap": {},
     "title": ""
    }
   },
   "outputs": [
    {
     "output_type": "stream",
     "name": "stdout",
     "output_type": "stream",
     "text": [
      "8\n"
     ]
    }
   ],
   "source": [
    "suma = lambda x, y: x + y\n",
    "print(suma(3, 5))  # Salida: 8"
   ]
  },
  {
   "cell_type": "markdown",
   "metadata": {
    "application/vnd.databricks.v1+cell": {
     "cellMetadata": {},
     "inputWidgets": {},
     "nuid": "7fa8f257-1486-4672-b7e9-4b5413bad409",
     "showTitle": false,
     "tableResultSettingsMap": {},
     "title": ""
    }
   },
   "source": [
    "#Ejemplo 2: Calcular el doble de un número"
   ]
  },
  {
   "cell_type": "code",
   "execution_count": 0,
   "metadata": {
    "application/vnd.databricks.v1+cell": {
     "cellMetadata": {
      "byteLimit": 2048000,
      "rowLimit": 10000
     },
     "inputWidgets": {},
     "nuid": "74e38f24-6ad8-4a1f-a5b5-48edb52a0fd0",
     "showTitle": false,
     "tableResultSettingsMap": {},
     "title": ""
    }
   },
   "outputs": [
    {
     "output_type": "stream",
     "name": "stdout",
     "output_type": "stream",
     "text": [
      "[2, 4, 6, 8]\n"
     ]
    }
   ],
   "source": [
    "numeros = [1, 2, 3, 4]\n",
    "dobles = list(map(lambda x: x * 2, numeros))\n",
    "print(dobles)  # Salida: [2, 4, 6, 8]\n"
   ]
  },
  {
   "cell_type": "markdown",
   "metadata": {
    "application/vnd.databricks.v1+cell": {
     "cellMetadata": {},
     "inputWidgets": {},
     "nuid": "84c71926-fbed-4705-9878-452c35ef27a0",
     "showTitle": false,
     "tableResultSettingsMap": {},
     "title": ""
    }
   },
   "source": [
    "#Ejemplo 3: Usar lambda con map()"
   ]
  },
  {
   "cell_type": "code",
   "execution_count": 0,
   "metadata": {
    "application/vnd.databricks.v1+cell": {
     "cellMetadata": {
      "byteLimit": 2048000,
      "rowLimit": 10000
     },
     "inputWidgets": {},
     "nuid": "6c2086ff-84da-48c2-94c6-213ae0cadca5",
     "showTitle": false,
     "tableResultSettingsMap": {},
     "title": ""
    }
   },
   "outputs": [
    {
     "output_type": "stream",
     "name": "stdout",
     "output_type": "stream",
     "text": [
      "[2, 4, 6, 8]\n"
     ]
    }
   ],
   "source": [
    "numeros = [1, 2, 3, 4]\n",
    "dobles = list(map(lambda x: x * 2, numeros))\n",
    "print(dobles)  # Salida: [2, 4, 6, 8]\n"
   ]
  },
  {
   "cell_type": "markdown",
   "metadata": {
    "application/vnd.databricks.v1+cell": {
     "cellMetadata": {},
     "inputWidgets": {},
     "nuid": "24ba89d0-f554-4d06-a350-6a9bda0bc2a1",
     "showTitle": false,
     "tableResultSettingsMap": {},
     "title": ""
    }
   },
   "source": [
    "Hay que tener cuidado si el conjunto de datos es muy grande, porque tanto `take` como `takeSample`, `takeOrdered` y `top` llevarán todos los datos a memoria."
   ]
  },
  {
   "cell_type": "markdown",
   "metadata": {
    "application/vnd.databricks.v1+cell": {
     "cellMetadata": {},
     "inputWidgets": {},
     "nuid": "610fa6e0-4dd1-47ac-9148-8e8370ceecd3",
     "showTitle": false,
     "tableResultSettingsMap": {},
     "title": ""
    }
   },
   "source": [
    "> ¿Que alternativas tengo?\n",
    "\n",
    "### Alternativas a `take()`, `takeSample()`, `takeOrdered()`, y `top()` en Spark\n",
    "\n",
    "Cuando trabajas con grandes volúmenes de datos en Spark, funciones como `take()`, `takeSample()`, `takeOrdered()`, y `top()` pueden ser problemáticas, ya que intentan llevar todos los datos al **nodo controlador**, lo cual puede agotar la memoria. Aquí te presentamos algunas alternativas eficientes para manejar conjuntos de datos grandes sin comprometer el rendimiento.\n",
    "\n",
    "##### 1. sample()\n",
    "Utiliza **`sample(withReplacement, fraction)`** para trabajar con una **muestra representativa** de los datos sin procesar el conjunto completo.\n"
   ]
  },
  {
   "cell_type": "code",
   "execution_count": 0,
   "metadata": {
    "application/vnd.databricks.v1+cell": {
     "cellMetadata": {
      "byteLimit": 2048000,
      "rowLimit": 10000
     },
     "inputWidgets": {},
     "nuid": "3541b7f6-fc97-4d26-a63d-e273c41f5ff0",
     "showTitle": false,
     "tableResultSettingsMap": {},
     "title": ""
    }
   },
   "outputs": [],
   "source": [
    "muestraRDD = miRDD.sample(False, 0.1)  # Toma el 10% de los datos"
   ]
  },
  {
   "cell_type": "markdown",
   "metadata": {
    "application/vnd.databricks.v1+cell": {
     "cellMetadata": {},
     "inputWidgets": {},
     "nuid": "3cade8f2-74b3-41e9-955f-c9856fef3f87",
     "showTitle": false,
     "tableResultSettingsMap": {},
     "title": ""
    }
   },
   "source": [
    "####2. take(n) Combinado con filter()\n",
    "Reduce el tamaño del conjunto de datos antes de aplicar take() utilizando filter() para obtener solo una parte específica de los datos."
   ]
  },
  {
   "cell_type": "code",
   "execution_count": 0,
   "metadata": {
    "application/vnd.databricks.v1+cell": {
     "cellMetadata": {},
     "inputWidgets": {},
     "nuid": "9f8926e1-44ea-4cb0-90e8-68881c9fa156",
     "showTitle": false,
     "tableResultSettingsMap": {},
     "title": ""
    }
   },
   "outputs": [],
   "source": [
    "filtroRDD = miRDD.filter(lambda x: x % 2 == 0)  # Filtra los elementos pares\n",
    "primeros = filtroRDD.take(10)  # Toma solo 10 elementos después de filtrar\n"
   ]
  },
  {
   "cell_type": "markdown",
   "metadata": {
    "application/vnd.databricks.v1+cell": {
     "cellMetadata": {},
     "inputWidgets": {},
     "nuid": "a7773868-b1db-43a5-a78d-a13e86dcf0b4",
     "showTitle": false,
     "tableResultSettingsMap": {},
     "title": ""
    }
   },
   "source": [
    "####3. count() y countApprox()\n",
    "Para contar elementos, usa count() o countApprox() si necesitas una aproximación más rápida."
   ]
  },
  {
   "cell_type": "code",
   "execution_count": 0,
   "metadata": {
    "application/vnd.databricks.v1+cell": {
     "cellMetadata": {},
     "inputWidgets": {},
     "nuid": "e14a2bcd-df31-4a96-a1bc-2d982c0e67a0",
     "showTitle": false,
     "tableResultSettingsMap": {},
     "title": ""
    }
   },
   "outputs": [],
   "source": [
    "total = miRDD.count()  # Cuenta todos los elementos\n",
    "totalAprox = miRDD.countApprox(5000)  # Cuenta de manera aproximada en 5000 ms\n"
   ]
  },
  {
   "cell_type": "markdown",
   "metadata": {
    "application/vnd.databricks.v1+cell": {
     "cellMetadata": {},
     "inputWidgets": {},
     "nuid": "99ca8418-3aff-465b-bfe7-2a1989e36342",
     "showTitle": false,
     "tableResultSettingsMap": {},
     "title": ""
    }
   },
   "source": [
    "####4. reduce()\n",
    "Para resumir los datos sin traerlos todos al controlador, utiliza reduce(), lo cual permite aplicar una operación de reducción (como una suma)."
   ]
  },
  {
   "cell_type": "code",
   "execution_count": 0,
   "metadata": {
    "application/vnd.databricks.v1+cell": {
     "cellMetadata": {},
     "inputWidgets": {},
     "nuid": "3aa6f441-73e8-4162-9fd9-bf68b7554428",
     "showTitle": false,
     "tableResultSettingsMap": {},
     "title": ""
    }
   },
   "outputs": [],
   "source": [
    "suma = miRDD.reduce(lambda a, b: a + b)  # Suma todos los elementos del RDD\n"
   ]
  },
  {
   "cell_type": "markdown",
   "metadata": {
    "application/vnd.databricks.v1+cell": {
     "cellMetadata": {},
     "inputWidgets": {},
     "nuid": "4090b2f9-7df7-47ef-87cd-241e83ed1ee3",
     "showTitle": false,
     "tableResultSettingsMap": {},
     "title": ""
    }
   },
   "source": [
    "####5. foreach()\n",
    "Si deseas aplicar una operación a cada elemento del RDD sin traer todos los datos al controlador, usa foreach()."
   ]
  },
  {
   "cell_type": "code",
   "execution_count": 0,
   "metadata": {
    "application/vnd.databricks.v1+cell": {
     "cellMetadata": {},
     "inputWidgets": {},
     "nuid": "19be8404-8b44-4443-ae27-3bf6a0d5e6ec",
     "showTitle": false,
     "tableResultSettingsMap": {},
     "title": ""
    }
   },
   "outputs": [],
   "source": [
    "miRDD.foreach(lambda x: print(x))  # Aplica una operación sobre cada elemento del RDD\n"
   ]
  },
  {
   "cell_type": "markdown",
   "metadata": {
    "application/vnd.databricks.v1+cell": {
     "cellMetadata": {},
     "inputWidgets": {},
     "nuid": "37b5dba6-7574-4c34-9a47-c6d9dc8b36fd",
     "showTitle": false,
     "tableResultSettingsMap": {},
     "title": ""
    }
   },
   "source": [
    "####6. first() y Uso Controlado de take()\n",
    "Utiliza first() para obtener el primer elemento del RDD.\n",
    "Si usas take(), elige un valor pequeño para evitar problemas de memoria."
   ]
  },
  {
   "cell_type": "code",
   "execution_count": 0,
   "metadata": {
    "application/vnd.databricks.v1+cell": {
     "cellMetadata": {},
     "inputWidgets": {},
     "nuid": "503ab5eb-0e07-4a28-b944-6dd04086eabe",
     "showTitle": false,
     "tableResultSettingsMap": {},
     "title": ""
    }
   },
   "outputs": [],
   "source": [
    "primerElemento = miRDD.first()  # Obtiene el primer elemento del RDD\n"
   ]
  },
  {
   "cell_type": "markdown",
   "metadata": {
    "application/vnd.databricks.v1+cell": {
     "cellMetadata": {},
     "inputWidgets": {},
     "nuid": "0f568f29-f9a2-4233-a6a5-ee4fd4936621",
     "showTitle": false,
     "tableResultSettingsMap": {},
     "title": ""
    }
   },
   "source": [
    "####7. glom()\n",
    "glom() convierte cada partición en una lista, permitiendo trabajar con datos particionados sin traerlos todos al controlador."
   ]
  },
  {
   "cell_type": "code",
   "execution_count": 0,
   "metadata": {
    "application/vnd.databricks.v1+cell": {
     "cellMetadata": {},
     "inputWidgets": {},
     "nuid": "c23264b1-adb3-49fc-905b-1257b586400a",
     "showTitle": false,
     "tableResultSettingsMap": {},
     "title": ""
    }
   },
   "outputs": [],
   "source": [
    "particiones = miRDD.glom().collect()  # Cada partición se convierte en una lista\n"
   ]
  },
  {
   "cell_type": "markdown",
   "metadata": {
    "application/vnd.databricks.v1+cell": {
     "cellMetadata": {},
     "inputWidgets": {},
     "nuid": "6670477c-f8bc-40d6-951e-2c24fec62fb6",
     "showTitle": false,
     "tableResultSettingsMap": {},
     "title": ""
    }
   },
   "source": [
    "####8. limit(n)\n",
    "Utiliza limit(n) para limitar el número de elementos en el RDD y evitar traer todo a la memoria."
   ]
  },
  {
   "cell_type": "code",
   "execution_count": 0,
   "metadata": {
    "application/vnd.databricks.v1+cell": {
     "cellMetadata": {},
     "inputWidgets": {},
     "nuid": "58e6ffc6-4521-4c93-8ea1-7a8fb3b3d257",
     "showTitle": false,
     "tableResultSettingsMap": {},
     "title": ""
    }
   },
   "outputs": [],
   "source": [
    "primerosRDD = miRDD.limit(100)  # Limita el RDD a los primeros 100 elementos\n"
   ]
  },
  {
   "cell_type": "markdown",
   "metadata": {
    "application/vnd.databricks.v1+cell": {
     "cellMetadata": {},
     "inputWidgets": {},
     "nuid": "e7c6fbbd-41a2-4f6f-85d3-1ab6bcc7fbae",
     "showTitle": false,
     "tableResultSettingsMap": {},
     "title": ""
    }
   },
   "source": [
    "> Funciones lambda\n",
    "> \n",
    "> *Spark* hace un uso extensivo de las funciones *lambda de Python* para simplificar el código.\n",
    "> Una función lambda no es más que una función anónima condensada en una sola línea:"
   ]
  },
  {
   "cell_type": "code",
   "execution_count": 0,
   "metadata": {
    "application/vnd.databricks.v1+cell": {
     "cellMetadata": {
      "byteLimit": 2048000,
      "rowLimit": 10000
     },
     "inputWidgets": {},
     "nuid": "07e7bcf2-77a2-4a56-ac37-6e4097ca52f4",
     "showTitle": false,
     "tableResultSettingsMap": {},
     "title": ""
    }
   },
   "outputs": [
    {
     "output_type": "stream",
     "name": "stdout",
     "output_type": "stream",
     "text": [
      "Out[37]: <function __main__.<lambda>(par1, par2)>"
     ]
    }
   ],
   "source": [
    "# par1 y par2 son los parámetros de entrada, y expresión el código de la función\n",
    "lambda par1, par2: expresión"
   ]
  },
  {
   "cell_type": "markdown",
   "metadata": {
    "application/vnd.databricks.v1+cell": {
     "cellMetadata": {},
     "inputWidgets": {},
     "nuid": "17c7ce80-e2b7-4674-b22c-67ef6c4bb893",
     "showTitle": false,
     "tableResultSettingsMap": {},
     "title": ""
    }
   },
   "source": [
    "``lambda:`` Es la palabra clave que indica que estás creando una función lambda.\n",
    "\n",
    "``par1, par2:`` Son los parámetros de entrada de la función. Puedes tener cualquier número de parámetros separados por comas.\n",
    "\n",
    "``expresión:`` Es el código de la función que realiza la operación. La expresión se evalúa y se devuelve automáticamente como resultado de la función."
   ]
  },
  {
   "cell_type": "markdown",
   "metadata": {
    "application/vnd.databricks.v1+cell": {
     "cellMetadata": {},
     "inputWidgets": {},
     "nuid": "961d4308-0195-4085-b27e-74dff8e33e34",
     "showTitle": false,
     "tableResultSettingsMap": {},
     "title": ""
    }
   },
   "source": [
    "> Por ejemplo, si tuviéramos una función que suma dos números, podríamos hacerla en Python de estas dos maneras:"
   ]
  },
  {
   "cell_type": "code",
   "execution_count": 0,
   "metadata": {
    "application/vnd.databricks.v1+cell": {
     "cellMetadata": {
      "byteLimit": 2048000,
      "rowLimit": 10000
     },
     "inputWidgets": {},
     "nuid": "319d95f2-a8b3-41f0-b3a9-cd4d0c294a4a",
     "showTitle": false,
     "tableResultSettingsMap": {},
     "title": ""
    }
   },
   "outputs": [],
   "source": [
    "def suma(x,y):\n",
    "    return(x + y)\n",
    "\n",
    "sumaL = lambda x,y : x + y\n",
    "\n",
    "res = suma(3, 4)\n",
    "resL = sumaL(3, 4)"
   ]
  },
  {
   "cell_type": "markdown",
   "metadata": {
    "application/vnd.databricks.v1+cell": {
     "cellMetadata": {},
     "inputWidgets": {},
     "nuid": "5853575d-12b8-456a-b097-cb259b8b2da0",
     "showTitle": false,
     "tableResultSettingsMap": {},
     "title": ""
    }
   },
   "source": [
    "A lo largo de los ejemplos de esta sesión y las siguientes nos iremos familiarizando con su uso"
   ]
  },
  {
   "cell_type": "markdown",
   "metadata": {
    "application/vnd.databricks.v1+cell": {
     "cellMetadata": {},
     "inputWidgets": {},
     "nuid": "4b36fc8b-527e-4a2a-8a1e-6321df05626e",
     "showTitle": false,
     "tableResultSettingsMap": {},
     "title": ""
    }
   },
   "source": [
    "### Collect"
   ]
  },
  {
   "cell_type": "markdown",
   "metadata": {
    "application/vnd.databricks.v1+cell": {
     "cellMetadata": {},
     "inputWidgets": {},
     "nuid": "d1709a17-b045-4601-96b9-23fece7b8172",
     "showTitle": false,
     "tableResultSettingsMap": {},
     "title": ""
    }
   },
   "source": [
    "Es una acción que se utiliza para recuperar todos los elementos de un RDD, DataFrame o Dataset desde los nodos distribuidos del clúster y traerlos al controlador (la máquina que ejecuta tu aplicación Spark)."
   ]
  },
  {
   "cell_type": "markdown",
   "metadata": {
    "application/vnd.databricks.v1+cell": {
     "cellMetadata": {},
     "inputWidgets": {},
     "nuid": "909eef86-5dfa-4382-b214-b90e45c764f4",
     "showTitle": false,
     "tableResultSettingsMap": {},
     "title": ""
    }
   },
   "source": [
    "Un fallo muy posible a la hora de mostrar los datos de un RDD es utilizar `rdd.foreach(print)` o `rdd.map(print)`."
   ]
  },
  {
   "cell_type": "markdown",
   "metadata": {
    "application/vnd.databricks.v1+cell": {
     "cellMetadata": {},
     "inputWidgets": {},
     "nuid": "7374d282-55b7-46c4-b72a-b7f17e5a2244",
     "showTitle": false,
     "tableResultSettingsMap": {},
     "title": ""
    }
   },
   "source": [
    "En una única máquina, esta operación generaría la salida esperada mostrando todos los elementos del RDD. Sin embargo, al trabajar en un clúster, la salida a stdout la realizarían los diferentes nodos y no el nodo principal. Así pues, para mostrar todos los elementos de un RDD/DataFrame/Dataset hemos de emplear el método collect, el cual primero mostrará los RDD del nodo principal (driver node), y luego para cada nodo del cluster mostrará sus datos."
   ]
  },
  {
   "cell_type": "code",
   "execution_count": 0,
   "metadata": {
    "application/vnd.databricks.v1+cell": {
     "cellMetadata": {
      "byteLimit": 2048000,
      "rowLimit": 10000
     },
     "inputWidgets": {},
     "nuid": "f0e68861-d2c2-4d26-b8b8-47af1ef1396b",
     "showTitle": false,
     "tableResultSettingsMap": {},
     "title": ""
    }
   },
   "outputs": [
    {
     "output_type": "stream",
     "name": "stdout",
     "output_type": "stream",
     "text": [
      "Out[39]: [0,\n 1,\n 2,\n 3,\n 4,\n 5,\n 6,\n 7,\n 8,\n 9,\n 10,\n 11,\n 12,\n 13,\n 14,\n 15,\n 16,\n 17,\n 18,\n 19,\n 20,\n 21,\n 22,\n 23,\n 24,\n 25,\n 26,\n 27,\n 28,\n 29,\n 30,\n 31,\n 32,\n 33,\n 34,\n 35,\n 36,\n 37,\n 38,\n 39,\n 40,\n 41,\n 42,\n 43,\n 44,\n 45,\n 46,\n 47,\n 48,\n 49,\n 50,\n 51,\n 52,\n 53,\n 54,\n 55,\n 56,\n 57,\n 58,\n 59,\n 60,\n 61,\n 62,\n 63,\n 64,\n 65,\n 66,\n 67,\n 68,\n 69,\n 70,\n 71,\n 72,\n 73,\n 74,\n 75,\n 76,\n 77,\n 78,\n 79,\n 80,\n 81,\n 82,\n 83,\n 84,\n 85,\n 86,\n 87,\n 88,\n 89,\n 90,\n 91,\n 92,\n 93,\n 94,\n 95,\n 96,\n 97,\n 98,\n 99,\n 100]"
     ]
    }
   ],
   "source": [
    "rdd.collect()"
   ]
  },
  {
   "cell_type": "markdown",
   "metadata": {
    "application/vnd.databricks.v1+cell": {
     "cellMetadata": {},
     "inputWidgets": {},
     "nuid": "3cedf4bd-503e-4203-a7a6-5579bc75ce9a",
     "showTitle": false,
     "tableResultSettingsMap": {},
     "title": ""
    }
   },
   "source": [
    "> **Out of memory**\n",
    "> \n",
    "> Hay que tener mucho cuidado, ya que nos podemos quedar fácilmente sin memoria, ya que `collect` se trae los datos de todos los ejecutores a un único nodo, el que ésta ejecutando el código (driver)."
   ]
  },
  {
   "cell_type": "markdown",
   "metadata": {
    "application/vnd.databricks.v1+cell": {
     "cellMetadata": {},
     "inputWidgets": {},
     "nuid": "4577419c-036b-40d9-9692-01267cf3c668",
     "showTitle": false,
     "tableResultSettingsMap": {},
     "title": ""
    }
   },
   "source": [
    "Si sólo necesitamos mostrar unos pocos elementos, un enfoque más seguro es utilizar `take`:"
   ]
  },
  {
   "cell_type": "code",
   "execution_count": 0,
   "metadata": {
    "application/vnd.databricks.v1+cell": {
     "cellMetadata": {
      "byteLimit": 2048000,
      "rowLimit": 10000
     },
     "inputWidgets": {},
     "nuid": "9dcce1bc-f8bf-4c62-b6d4-57ca89c71bbd",
     "showTitle": false,
     "tableResultSettingsMap": {},
     "title": ""
    }
   },
   "outputs": [
    {
     "output_type": "stream",
     "name": "stdout",
     "output_type": "stream",
     "text": [
      "Out[40]: [0,\n 1,\n 2,\n 3,\n 4,\n 5,\n 6,\n 7,\n 8,\n 9,\n 10,\n 11,\n 12,\n 13,\n 14,\n 15,\n 16,\n 17,\n 18,\n 19,\n 20,\n 21,\n 22,\n 23,\n 24,\n 25,\n 26,\n 27,\n 28,\n 29,\n 30,\n 31,\n 32,\n 33,\n 34,\n 35,\n 36,\n 37,\n 38,\n 39,\n 40,\n 41,\n 42,\n 43,\n 44,\n 45,\n 46,\n 47,\n 48,\n 49,\n 50,\n 51,\n 52,\n 53,\n 54,\n 55,\n 56,\n 57,\n 58,\n 59,\n 60,\n 61,\n 62,\n 63,\n 64,\n 65,\n 66,\n 67,\n 68,\n 69,\n 70,\n 71,\n 72,\n 73,\n 74,\n 75,\n 76,\n 77,\n 78,\n 79,\n 80,\n 81,\n 82,\n 83,\n 84,\n 85,\n 86,\n 87,\n 88,\n 89,\n 90,\n 91,\n 92,\n 93,\n 94,\n 95,\n 96,\n 97,\n 98,\n 99]"
     ]
    }
   ],
   "source": [
    "rdd.take(100)"
   ]
  },
  {
   "cell_type": "markdown",
   "metadata": {
    "application/vnd.databricks.v1+cell": {
     "cellMetadata": {},
     "inputWidgets": {},
     "nuid": "c34a2723-d654-4bce-8637-026592afdb98",
     "showTitle": false,
     "tableResultSettingsMap": {},
     "title": ""
    }
   },
   "source": [
    "### Transformaciones"
   ]
  },
  {
   "cell_type": "markdown",
   "metadata": {
    "application/vnd.databricks.v1+cell": {
     "cellMetadata": {},
     "inputWidgets": {},
     "nuid": "4ece8db2-6fc0-4f41-b6e0-c2c3623a738b",
     "showTitle": false,
     "tableResultSettingsMap": {},
     "title": ""
    }
   },
   "source": [
    "Las transformaciones son operaciones aplicadas a un RDD, DataFrame o Dataset que producen un nuevo conjunto de datos. Estas operaciones son perezosas (lazy), lo que significa que no se ejecutan inmediatamente, sino que solo se registran en un plan lógico de ejecución. Las transformaciones no procesan los datos directamente hasta que se llama a una acción."
   ]
  },
  {
   "cell_type": "markdown",
   "metadata": {
    "application/vnd.databricks.v1+cell": {
     "cellMetadata": {},
     "inputWidgets": {},
     "nuid": "e3cf9455-05be-4dc4-abcf-2d1b138e5cf2",
     "showTitle": false,
     "tableResultSettingsMap": {},
     "title": ""
    }
   },
   "source": [
    "En Spark, las estructuras de datos son inmutables, de manera que una vez creadas no se pueden modificar. Para poder modificar un RDD/DataFrame hace falta realizar una transformación, siendo el modo de expresar la lógica de negocio mediante Spark."
   ]
  },
  {
   "cell_type": "markdown",
   "metadata": {
    "application/vnd.databricks.v1+cell": {
     "cellMetadata": {},
     "inputWidgets": {},
     "nuid": "0ee0a047-d666-49fc-99c9-8485abc7202b",
     "showTitle": false,
     "tableResultSettingsMap": {},
     "title": ""
    }
   },
   "source": [
    "Todas las transformaciones en Spark se evalúan de manera perezosa (lazy evaluation), de manera que los resultados no se computan inmediatamente, sino que se retrasa el cálculo hasta que el valor sea necesario. Para ello, se van almacenando los pasos necesarios y se ejecutan únicamente cuando una acción requiere devolver un resultado al driver. Este diseño facilita un mejor rendimiento (por ejemplo, imagina que tras una operación map se realiza un reduce y en vez de devolver todo el conjunto de datos tras el map, sólo le enviamos al driver el resultado de la reducción)."
   ]
  },
  {
   "cell_type": "markdown",
   "metadata": {
    "application/vnd.databricks.v1+cell": {
     "cellMetadata": {},
     "inputWidgets": {},
     "nuid": "1d9a289c-77c0-45fd-9364-e9a1d207c9bb",
     "showTitle": false,
     "tableResultSettingsMap": {},
     "title": ""
    }
   },
   "source": [
    "####Explicación\n",
    "La evaluación perezosa en Spark significa que las transformaciones no se ejecutan de inmediato. En su lugar, se aplazan hasta que una acción (como ``collect()`` o ``count()``) necesite un resultado. Esto permite que Spark optimice el proceso completo, combinando pasos y reduciendo el uso innecesario de recursos, lo cual mejora el rendimiento y eficiencia."
   ]
  },
  {
   "cell_type": "markdown",
   "metadata": {
    "application/vnd.databricks.v1+cell": {
     "cellMetadata": {},
     "inputWidgets": {},
     "nuid": "70519218-03c1-4331-9321-9d48d4e6d544",
     "showTitle": false,
     "tableResultSettingsMap": {},
     "title": ""
    }
   },
   "source": [
    "Así pues, las acciones provocan la evaluación de todas las transformaciones previas que se habían evaluado de forma perezosa y estaban a la espera."
   ]
  },
  {
   "cell_type": "markdown",
   "metadata": {
    "application/vnd.databricks.v1+cell": {
     "cellMetadata": {},
     "inputWidgets": {},
     "nuid": "cee7507e-e855-42aa-90ce-26009270a34e",
     "showTitle": false,
     "tableResultSettingsMap": {},
     "title": ""
    }
   },
   "source": [
    "Por defecto, cada transformación RDD/DataSet se puede recalcular cada vez que se ejecute una acción. Sin embargo, podemos persistir un RDD en memoria mediante los métodos persist (o cache), de manera que Spark mantendrá los datos para un posterior acceso más eficiente. También podemos persistir un RDD en disco o replicarlo en múltiples nodos."
   ]
  },
  {
   "cell_type": "markdown",
   "metadata": {
    "application/vnd.databricks.v1+cell": {
     "cellMetadata": {},
     "inputWidgets": {},
     "nuid": "ec79054d-829f-4054-aed7-c21001c979e6",
     "showTitle": false,
     "tableResultSettingsMap": {},
     "title": ""
    }
   },
   "source": [
    "### Tipos de transformaciones"
   ]
  },
  {
   "cell_type": "markdown",
   "metadata": {
    "application/vnd.databricks.v1+cell": {
     "cellMetadata": {},
     "inputWidgets": {},
     "nuid": "56d55e13-1a90-4246-aa41-1ce1479550bd",
     "showTitle": false,
     "tableResultSettingsMap": {},
     "title": ""
    }
   },
   "source": [
    "Existen dos tipos de transformaciones, dependiendo de las dependencias entre las particiones de datos:"
   ]
  },
  {
   "cell_type": "markdown",
   "metadata": {
    "application/vnd.databricks.v1+cell": {
     "cellMetadata": {},
     "inputWidgets": {},
     "nuid": "a1ef987c-baf0-4c23-9a31-7a1efcdeb5f8",
     "showTitle": false,
     "tableResultSettingsMap": {},
     "title": ""
    }
   },
   "source": [
    "- Transformaciones **Narrow**: consisten en dependencias estrechas en las que cada partición de entrada contribuye a una única partición de salida."
   ]
  },
  {
   "cell_type": "markdown",
   "metadata": {
    "application/vnd.databricks.v1+cell": {
     "cellMetadata": {},
     "inputWidgets": {},
     "nuid": "581f766e-9fc3-413e-8a4c-a1e36ac607fc",
     "showTitle": false,
     "tableResultSettingsMap": {},
     "title": ""
    }
   },
   "source": [
    "> Explicar\n",
    "\n",
    "En Spark, una transformación narrow (estrecha) es un tipo de transformación en la cual cada partición de los datos generados depende solo de una partición de los datos originales.\n",
    "\n",
    "####Ejemplos Transformacion Narrow\n",
    "``map()``: Toma cada elemento del RDD y lo transforma, pero la salida depende solo de la partición en la que se encuentra el elemento.\n",
    "\n",
    "``filter()``: Selecciona elementos que cumplen con una condición, y cada partición resultante solo depende de los elementos originales en la misma partición."
   ]
  },
  {
   "cell_type": "markdown",
   "metadata": {
    "application/vnd.databricks.v1+cell": {
     "cellMetadata": {},
     "inputWidgets": {},
     "nuid": "980e1a6c-26db-4ac4-8c7f-ad9ae3e5feec",
     "showTitle": false,
     "tableResultSettingsMap": {},
     "title": ""
    }
   },
   "source": [
    "- Transformaciones **Wide**: consisten en dependencias anchas de manera que varias particiones de entrada contribuyen a muchas otras particiones de salida, es decir, cada partición de salida depende de diferentes particiones de entrada. Este proceso también se conoce como shuffle, ya que Spark baraja los datos entre las particiones del clúster."
   ]
  },
  {
   "cell_type": "markdown",
   "metadata": {
    "application/vnd.databricks.v1+cell": {
     "cellMetadata": {},
     "inputWidgets": {},
     "nuid": "438a9523-9a17-4196-b4c2-107588d9db62",
     "showTitle": false,
     "tableResultSettingsMap": {},
     "title": ""
    }
   },
   "source": [
    "> Explicar\n",
    "\n",
    "Una transformación wide (amplia) en Spark es una transformación donde cada partición del resultado depende de múltiples particiones del RDD original. Esto significa que Spark necesita reorganizar los datos y moverlos entre nodos para realizar la operación.\n",
    "\n",
    "###Ejemplos transformacion Wide\n",
    "``groupByKey()``: Agrupa los elementos por clave y necesita combinar datos que pueden estar en diferentes particiones.\n",
    "\n",
    "``reduceByKey()``: También requiere combinar valores de diferentes particiones con la misma clave.\n"
   ]
  },
  {
   "cell_type": "markdown",
   "metadata": {
    "application/vnd.databricks.v1+cell": {
     "cellMetadata": {},
     "inputWidgets": {},
     "nuid": "a05132ad-fdef-47f1-beb9-95e60b9fc1d7",
     "showTitle": false,
     "tableResultSettingsMap": {},
     "title": ""
    }
   },
   "source": [
    "![7](https://community.cloud.databricks.com/files/Notebook/7.png)"
   ]
  },
  {
   "cell_type": "markdown",
   "metadata": {
    "application/vnd.databricks.v1+cell": {
     "cellMetadata": {},
     "inputWidgets": {},
     "nuid": "a88fa827-b850-446a-8e06-9520a9fc8816",
     "showTitle": false,
     "tableResultSettingsMap": {},
     "title": ""
    }
   },
   "source": [
    "Con las transformaciones narrow, Spark realiza un pipeline de las dependencias, de manera que si especificamos múltiples filtros sobre DataFrames/RDD, se realizarán todos en memoria."
   ]
  },
  {
   "cell_type": "markdown",
   "metadata": {
    "application/vnd.databricks.v1+cell": {
     "cellMetadata": {},
     "inputWidgets": {},
     "nuid": "89c8a8a2-5676-41c6-8c7a-1949a89b449b",
     "showTitle": false,
     "tableResultSettingsMap": {},
     "title": ""
    }
   },
   "source": [
    "Esto no sucede con las transformaciones wide, ya que al realizar un shuffle los resultados se persisten en disco."
   ]
  },
  {
   "cell_type": "markdown",
   "metadata": {
    "application/vnd.databricks.v1+cell": {
     "cellMetadata": {},
     "inputWidgets": {},
     "nuid": "8d3e9066-44c8-48be-a613-8299f14909e2",
     "showTitle": false,
     "tableResultSettingsMap": {},
     "title": ""
    }
   },
   "source": [
    "El shuffle ocurre cuando Spark necesita repartir los datos de forma que ciertas claves o valores relacionados estén en la misma partición. Esto es necesario en transformaciones como groupByKey, reduceByKey, join, etc., donde los cálculos dependen de combinar datos relacionados que podrían estar en diferentes particiones."
   ]
  },
  {
   "cell_type": "markdown",
   "metadata": {
    "application/vnd.databricks.v1+cell": {
     "cellMetadata": {},
     "inputWidgets": {},
     "nuid": "20751bfe-e563-4b89-b2cf-9a04d5c8fefd",
     "showTitle": false,
     "tableResultSettingsMap": {},
     "title": ""
    }
   },
   "source": [
    "> Cuidado con shuffle\n",
    "> Las operaciones shuffle son computacionalmente caras, ya que implican E/S en disco, serialización de datos y E/S en red. Para organizar los datos previos al shuffle, Spark genera un conjunto de tareas (tareas map para organizar los datos, y reduce para agregar los resultados).\n",
    "> Internamente, el resultado de las tareas map se mantienen en memoria hasta que no caben. Entonces, se ordenan en la partición destino y se persisten en un único archivo. En la fase de reducción, las tareas leen los bloques ordenados que son relevantes.\n",
    "> Las operaciones reduceByKey y aggregateByKey son de las que más memoria consumen, al tener que crear las estructuras de datos para organizar los registros en las tareas de map, y luego generar los resultados agregados en la de reduce. Si los datos no caben en memoria, Spark los lleva a disco, incurriendo en operaciones adicionales de E/S en disco y del recolector de basura."
   ]
  },
  {
   "cell_type": "markdown",
   "metadata": {
    "application/vnd.databricks.v1+cell": {
     "cellMetadata": {},
     "inputWidgets": {},
     "nuid": "e4b01210-87b2-4d34-aa94-608546b92cba",
     "showTitle": false,
     "tableResultSettingsMap": {},
     "title": ""
    }
   },
   "source": [
    "A continuación veremos las diferentes transformaciones que podemos realizar con Spark."
   ]
  },
  {
   "cell_type": "markdown",
   "metadata": {
    "application/vnd.databricks.v1+cell": {
     "cellMetadata": {},
     "inputWidgets": {},
     "nuid": "9ddca778-7efb-47b7-85b1-cab1847f1b91",
     "showTitle": false,
     "tableResultSettingsMap": {},
     "title": ""
    }
   },
   "source": [
    "### Transformaciones Narrow"
   ]
  },
  {
   "cell_type": "markdown",
   "metadata": {
    "application/vnd.databricks.v1+cell": {
     "cellMetadata": {},
     "inputWidgets": {},
     "nuid": "06050c0f-1d54-402a-960a-da200c314870",
     "showTitle": false,
     "tableResultSettingsMap": {},
     "title": ""
    }
   },
   "source": [
    "Para los siguientes ejemplo, utilizaremos el siguiente fichero de `empleados.txt` que contiene para cada empleado los siguiente cinco campos:"
   ]
  },
  {
   "cell_type": "markdown",
   "metadata": {
    "application/vnd.databricks.v1+cell": {
     "cellMetadata": {},
     "inputWidgets": {},
     "nuid": "d1316bbe-a97f-4718-9812-59cf7ee0105f",
     "showTitle": false,
     "tableResultSettingsMap": {},
     "title": ""
    }
   },
   "source": [
    "- el nombre"
   ]
  },
  {
   "cell_type": "markdown",
   "metadata": {
    "application/vnd.databricks.v1+cell": {
     "cellMetadata": {},
     "inputWidgets": {},
     "nuid": "59560175-e3ef-45ce-bb9f-1c7b0ec0a963",
     "showTitle": false,
     "tableResultSettingsMap": {},
     "title": ""
    }
   },
   "source": [
    "- un array de ciudades donde trabaja separadas por coma"
   ]
  },
  {
   "cell_type": "markdown",
   "metadata": {
    "application/vnd.databricks.v1+cell": {
     "cellMetadata": {},
     "inputWidgets": {},
     "nuid": "cd3738c9-88a1-4482-94dc-2cad9032fd33",
     "showTitle": false,
     "tableResultSettingsMap": {},
     "title": ""
    }
   },
   "source": [
    "- una estructura compuesta del sexo y la edad separadas de nuevo por comas"
   ]
  },
  {
   "cell_type": "markdown",
   "metadata": {
    "application/vnd.databricks.v1+cell": {
     "cellMetadata": {},
     "inputWidgets": {},
     "nuid": "250dc96f-7578-47e5-94f9-24766caeccd7",
     "showTitle": false,
     "tableResultSettingsMap": {},
     "title": ""
    }
   },
   "source": [
    "- un array de mapas con sus destrezas y calificación"
   ]
  },
  {
   "cell_type": "markdown",
   "metadata": {
    "application/vnd.databricks.v1+cell": {
     "cellMetadata": {},
     "inputWidgets": {},
     "nuid": "018975db-0d3a-46e0-84fb-91e51a2652c8",
     "showTitle": false,
     "tableResultSettingsMap": {},
     "title": ""
    }
   },
   "source": [
    "- y finalmente un array de cargos y su consiguiente array de destrezas"
   ]
  },
  {
   "cell_type": "markdown",
   "metadata": {
    "application/vnd.databricks.v1+cell": {
     "cellMetadata": {},
     "inputWidgets": {},
     "nuid": "9f5491fe-f489-4072-8803-a307d35726d1",
     "showTitle": false,
     "tableResultSettingsMap": {},
     "title": ""
    }
   },
   "source": [
    "### Map"
   ]
  },
  {
   "cell_type": "markdown",
   "metadata": {
    "application/vnd.databricks.v1+cell": {
     "cellMetadata": {},
     "inputWidgets": {},
     "nuid": "b8751290-11ce-4c26-a1d9-2bd15342eda9",
     "showTitle": false,
     "tableResultSettingsMap": {},
     "title": ""
    }
   },
   "source": [
    " Es una transformación que aplica una función específica a cada elemento de un RDD, y devuelve un nuevo conjunto de datos donde cada elemento de salida es el resultado de aplicar la función a su correspondiente elemento de entrada. Es una de las transformaciones estrechas (narrow transformations), lo que significa que cada partición de salida depende de una única partición de entrada. Esto lo hace más eficiente porque no requiere un shuffle (reorganización de datos entre particiones)."
   ]
  },
  {
   "cell_type": "markdown",
   "metadata": {
    "application/vnd.databricks.v1+cell": {
     "cellMetadata": {},
     "inputWidgets": {},
     "nuid": "251d7ec3-9c0e-40d9-89d1-635d5bff8a37",
     "showTitle": false,
     "tableResultSettingsMap": {},
     "title": ""
    }
   },
   "source": [
    "La transformación [map](https://spark.apache.org/docs/latest/api/python/reference/api/pyspark.RDD.map.html) aplica la función recibida a cada elemento del RDD, de manera que vamos a poder añadir una nueva columna, modificar una existente, etc..."
   ]
  },
  {
   "cell_type": "markdown",
   "metadata": {
    "application/vnd.databricks.v1+cell": {
     "cellMetadata": {},
     "inputWidgets": {},
     "nuid": "5687d96d-3dfd-4255-989a-bc4bf9926d73",
     "showTitle": false,
     "tableResultSettingsMap": {},
     "title": ""
    }
   },
   "source": [
    "Por ejemplo, si la entrada es un RDD que contiene `[1, 2, 3, 4, 5]`, al hacer `rdd.map(lambda x: x*2)` obtendríamos un nuevo RDD cuyos valores contiene su doble, es decir, `[2, 4, 6, 8, 10]`:"
   ]
  },
  {
   "cell_type": "code",
   "execution_count": 0,
   "metadata": {
    "application/vnd.databricks.v1+cell": {
     "cellMetadata": {
      "byteLimit": 2048000,
      "rowLimit": 10000
     },
     "inputWidgets": {},
     "nuid": "ce5b700b-4ab4-4cdd-bc4c-7fd545ef4b91",
     "showTitle": false,
     "tableResultSettingsMap": {},
     "title": ""
    }
   },
   "outputs": [
    {
     "output_type": "stream",
     "name": "stdout",
     "output_type": "stream",
     "text": [
      "Out[41]: [2, 4, 6, 8, 10]"
     ]
    }
   ],
   "source": [
    "rdd = sc.parallelize([1, 2, 3, 4, 5])\n",
    "resultRDD = rdd.map(lambda x: x*2)\n",
    "resultRDD.collect()          # [2, 4, 6, 8, 10]"
   ]
  },
  {
   "cell_type": "markdown",
   "metadata": {
    "application/vnd.databricks.v1+cell": {
     "cellMetadata": {},
     "inputWidgets": {},
     "nuid": "c8336191-5649-4320-abc6-c7d64bfe258b",
     "showTitle": false,
     "tableResultSettingsMap": {},
     "title": ""
    }
   },
   "source": [
    "> Explicar código de arriba\n",
    "\n",
    "Crear un RDD con parallelize():\n",
    "\n",
    "\n",
    "``rdd = sc.parallelize([1, 2, 3, 4, 5])``\n",
    "\n",
    "``sc.parallelize()``: Este método crea un RDD (Resilient Distributed Dataset) a partir de una lista.\n",
    "\n",
    "``[1, 2, 3, 4, 5]:`` Es la lista de datos que se convierte en un RDD.\n",
    "\n",
    "``rdd``: Es el nombre del RDD que contiene los elementos [1, 2, 3, 4, 5]."
   ]
  },
  {
   "cell_type": "markdown",
   "metadata": {
    "application/vnd.databricks.v1+cell": {
     "cellMetadata": {},
     "inputWidgets": {},
     "nuid": "4b4cb529-9d30-4a78-9876-1497cc70c03e",
     "showTitle": false,
     "tableResultSettingsMap": {},
     "title": ""
    }
   },
   "source": [
    "(No hacer los codigos relativos a Hadoop o HDFS) Mediante la función textFile podemos cargar un archivo. Supongamos que tenemos cargado en Hadoop el archivo empleados.txt:"
   ]
  },
  {
   "cell_type": "markdown",
   "metadata": {
    "application/vnd.databricks.v1+cell": {
     "cellMetadata": {},
     "inputWidgets": {},
     "nuid": "bd1fab64-f020-49c4-9d3f-e3b7fa424e9d",
     "showTitle": false,
     "tableResultSettingsMap": {},
     "title": ""
    }
   },
   "source": [
    "rddLocal = sc.textFile(\"empleados.txt\")\n",
    "rdd = sc.textFile(\"hdfs://iabd-virtualbox:9000/user/iabd/datos/empleados.txt\") \n",
    "rdd.count()                 # 4 - cantidad de líneas\n",
    "resultRDD = rdd.map(len)    # obtenemos la cantidad de caracteres de cada línea\n",
    "resultRDD.collect()         # [61, 52, 60, 50]"
   ]
  },
  {
   "cell_type": "markdown",
   "metadata": {
    "application/vnd.databricks.v1+cell": {
     "cellMetadata": {},
     "inputWidgets": {},
     "nuid": "b906f274-7664-4a60-ad26-207b64084090",
     "showTitle": false,
     "tableResultSettingsMap": {},
     "title": ""
    }
   },
   "source": [
    "Si sobre el fichero de empleados, realizamos un split para separar los campos haciendo uso de map mediante una función lambda:"
   ]
  },
  {
   "cell_type": "markdown",
   "metadata": {
    "application/vnd.databricks.v1+cell": {
     "cellMetadata": {},
     "inputWidgets": {},
     "nuid": "31715554-de26-4302-beab-84be736b78ae",
     "showTitle": false,
     "tableResultSettingsMap": {},
     "title": ""
    }
   },
   "source": [
    "resultMap = rddLocal.map(lambda x: x.split(\"|\"))\n",
    "resultMap.collect()"
   ]
  },
  {
   "cell_type": "markdown",
   "metadata": {
    "application/vnd.databricks.v1+cell": {
     "cellMetadata": {},
     "inputWidgets": {},
     "nuid": "0b6ca366-baf2-4179-a4ea-7aff0afa8e7c",
     "showTitle": false,
     "tableResultSettingsMap": {},
     "title": ""
    }
   },
   "source": [
    "Obtenemos una lista de listas por cada fila del fichero, cada lista conteniendo los cincos campos de cada empleado:"
   ]
  },
  {
   "cell_type": "markdown",
   "metadata": {
    "application/vnd.databricks.v1+cell": {
     "cellMetadata": {},
     "inputWidgets": {},
     "nuid": "6f1151cc-181e-4145-bbff-d007532dba2e",
     "showTitle": false,
     "tableResultSettingsMap": {},
     "title": ""
    }
   },
   "source": [
    "[['Michael',\r\n",
    "  'Montreal,Toronto',\r\n",
    "  'Male,30',\r\n",
    "  'DB:80',\r\n",
    "  'Product:Developer\\x04Lead'],\r\n",
    " ['Will', 'Montreal', 'Male,35', 'Perl:85', 'Product:Lead,Test:Lead'],\r\n",
    " ['Shelley', 'New York', 'Female,27', 'Python:80', 'Test:Lead,COE:Architect'],\r\n",
    " ['Lucy', 'Vancouver', 'Female,57', 'Sales:89,HR:94', 'Sales:Lead']]"
   ]
  },
  {
   "cell_type": "markdown",
   "metadata": {
    "application/vnd.databricks.v1+cell": {
     "cellMetadata": {},
     "inputWidgets": {},
     "nuid": "3293e41e-4fa5-429f-a506-db93c908a649",
     "showTitle": false,
     "tableResultSettingsMap": {},
     "title": ""
    }
   },
   "source": [
    "### FlatMap"
   ]
  },
  {
   "cell_type": "markdown",
   "metadata": {
    "application/vnd.databricks.v1+cell": {
     "cellMetadata": {},
     "inputWidgets": {},
     "nuid": "8d211e05-af52-4bf3-a01b-e569f25b2056",
     "showTitle": false,
     "tableResultSettingsMap": {},
     "title": ""
    }
   },
   "source": [
    "Es una transformación que aplica una función a cada elemento de un RDD, y genera cero, uno o más elementos por cada entrada. A diferencia de map, que siempre genera exactamente un elemento por entrada, flatMap \"aplana\" los resultados en un solo conjunto de datos. Es particularmente útil cuando se necesita dividir, expandir o descomponer los elementos de un conjunto de datos en varios elementos."
   ]
  },
  {
   "cell_type": "markdown",
   "metadata": {
    "application/vnd.databricks.v1+cell": {
     "cellMetadata": {},
     "inputWidgets": {},
     "nuid": "629ab748-51eb-457e-8215-61efa88b784f",
     "showTitle": false,
     "tableResultSettingsMap": {},
     "title": ""
    }
   },
   "source": [
    "La transformación `flatMap` es muy similar a la anterior, pero en vez de devolver una lista con un elemento por cada entrada, devuelve una única lista deshaciendo las colecciones en elementos individuales:"
   ]
  },
  {
   "cell_type": "code",
   "execution_count": 0,
   "metadata": {
    "application/vnd.databricks.v1+cell": {
     "cellMetadata": {
      "byteLimit": 2048000,
      "rowLimit": 10000
     },
     "inputWidgets": {},
     "nuid": "9460c96f-626e-4b1e-89b9-1c6492026d39",
     "showTitle": false,
     "tableResultSettingsMap": {},
     "title": ""
    }
   },
   "outputs": [
    {
     "output_type": "stream",
     "name": "stdout",
     "output_type": "stream",
     "text": [
      "Out[43]: ['Michael',\n 'Montreal,Toronto',\n 'Male,30',\n 'DB:80',\n 'Product:Developer\\x04Lead',\n 'Will',\n 'Montreal',\n 'Male,35',\n 'Perl:85',\n 'Product:Lead,Test:Lead',\n 'Shelley',\n 'New York',\n 'Female,27',\n 'Python:80',\n 'Test:Lead,COE:Architect',\n 'Lucy',\n 'Vancouver',\n 'Female,57',\n 'Sales:89,HR:94',\n 'Sales:Lead']"
     ]
    }
   ],
   "source": [
    "rdd = sc.textFile(\"/FileStore/Notebook/empleados.txt\") \n",
    "resultFM = rdd.flatMap(lambda x: x.split(\"|\"))\n",
    "resultFM.collect()\n",
    "# Obtendríamos cada atributo separado y todos dentro de la misma lista"
   ]
  },
  {
   "cell_type": "markdown",
   "metadata": {
    "application/vnd.databricks.v1+cell": {
     "cellMetadata": {},
     "inputWidgets": {},
     "nuid": "5c1a2c68-c024-4e9c-898a-7a70bfae2d6a",
     "showTitle": false,
     "tableResultSettingsMap": {},
     "title": ""
    }
   },
   "source": [
    "### Filter"
   ]
  },
  {
   "cell_type": "markdown",
   "metadata": {
    "application/vnd.databricks.v1+cell": {
     "cellMetadata": {},
     "inputWidgets": {},
     "nuid": "cbcf4986-6a39-4b3c-b7b5-a65314c7af17",
     "showTitle": false,
     "tableResultSettingsMap": {},
     "title": ""
    }
   },
   "source": [
    "Es una transformación que se utiliza para filtrar elementos de un RDD según una condición específica. Solo los elementos que cumplen la condición se incluyen en el resultado, mientras que los demás se descartan.\n",
    "\n",
    "Es una transformación estrecha (narrow), lo que significa que los elementos de salida de cada partición dependen únicamente de los elementos de entrada de la misma partición. Esto lo hace eficiente porque no requiere un shuffle (reorganización de datos entre nodos)."
   ]
  },
  {
   "cell_type": "markdown",
   "metadata": {
    "application/vnd.databricks.v1+cell": {
     "cellMetadata": {},
     "inputWidgets": {},
     "nuid": "6e472f55-47fb-4ec5-8ab7-02eb0be0dd36",
     "showTitle": false,
     "tableResultSettingsMap": {},
     "title": ""
    }
   },
   "source": [
    "Permite filtrar los elementos que cumplen una condición mediante `filter`:"
   ]
  },
  {
   "cell_type": "code",
   "execution_count": 0,
   "metadata": {
    "application/vnd.databricks.v1+cell": {
     "cellMetadata": {
      "byteLimit": 2048000,
      "rowLimit": 10000
     },
     "inputWidgets": {},
     "nuid": "be5ba318-3a24-4d24-81b3-46091f2c71a4",
     "showTitle": false,
     "tableResultSettingsMap": {},
     "title": ""
    }
   },
   "outputs": [
    {
     "output_type": "stream",
     "name": "stdout",
     "output_type": "stream",
     "text": [
      "Out[44]: [2, 4]"
     ]
    }
   ],
   "source": [
    "rdd = sc.parallelize([1, 2, 3, 4, 5])\n",
    "resultRDD = rdd.filter(lambda x: x%2==0)\n",
    "resultRDD.collect()     # [2, 4]"
   ]
  },
  {
   "cell_type": "markdown",
   "metadata": {
    "application/vnd.databricks.v1+cell": {
     "cellMetadata": {},
     "inputWidgets": {},
     "nuid": "36876856-ee74-4dd8-8458-b04ed2156248",
     "showTitle": false,
     "tableResultSettingsMap": {},
     "title": ""
    }
   },
   "source": [
    "También podemos anidar diferentes transformaciones. Para este ejemplo, vamos a crear tuplas formadas por un número y su cuadrado, y luego quitar los que no coincide el número con su cuadrado (sólo coinciden el 0 y el 1), y luego aplanarlo en una lista:"
   ]
  },
  {
   "cell_type": "code",
   "execution_count": 0,
   "metadata": {
    "application/vnd.databricks.v1+cell": {
     "cellMetadata": {
      "byteLimit": 2048000,
      "rowLimit": 10000
     },
     "inputWidgets": {},
     "nuid": "1727f8c4-44c1-4cb2-be99-aa8309775a7e",
     "showTitle": false,
     "tableResultSettingsMap": {},
     "title": ""
    }
   },
   "outputs": [
    {
     "output_type": "stream",
     "name": "stdout",
     "output_type": "stream",
     "text": [
      "Out[45]: [2, 4, 3, 9, 4, 16, 5, 25, 6, 36, 7, 49, 8, 64, 9, 81, 10, 100]"
     ]
    }
   ],
   "source": [
    "rdd10 = sc.parallelize(range(10+1))\n",
    "rddPares = rdd10.map(lambda x: (x, x**2)).filter(lambda x: (x[0] != x[1])).flatMap(lambda x: x)\n",
    "rddPares.collect()      # [2, 4, 3, 9, 4, 16, 5, 25, 6, 36, 7, 49, 8, 64, 9, 81, 10, 100]"
   ]
  },
  {
   "cell_type": "markdown",
   "metadata": {
    "application/vnd.databricks.v1+cell": {
     "cellMetadata": {},
     "inputWidgets": {},
     "nuid": "e4ebc8a2-229d-4ba8-b152-33a9642c74b3",
     "showTitle": false,
     "tableResultSettingsMap": {},
     "title": ""
    }
   },
   "source": [
    "> Explicar el código de arriba\n",
    "\n",
    "Crear RDD del rango 0-10:\n",
    "\n",
    "``rdd10 = sc.parallelize(range(10 + 1))``\n",
    "\n",
    "rdd10 contiene los números del 0 al 10 (incluyendo 10).\n",
    "Transformaciones encadenadas:\n",
    "\n",
    "``rddPares = rdd10.map(lambda x: (x, x**2)).filter(lambda x: (x[0] != x[1])).flatMap(lambda x: x)``\n",
    "\n",
    "``map(lambda x: (x, x**2))``: Convierte cada número en un par (x, x²) (por ejemplo, (2, 4)).\n",
    "\n",
    "``filter(lambda x: (x[0] != x[1])):`` Filtra los pares donde el número no sea igual a su cuadrado (descarta el (0, 0) y (1, 1)).\n",
    "\n",
    "``flatMap(lambda x: x)``: Aplana los pares (x, x²) en elementos individuales.\n",
    "Recolectar los resultados:\n",
    "\n",
    "\n",
    "``rddPares.collect()  # [2, 4, 3, 9, 4, 16, 5, 25, 6, 36, 7, 49, 8, 64, 9, 81, 10, 100]``\n",
    "\n",
    "Devuelve una lista de los números y sus cuadrados que no fueron iguales (2, 4, 3, 9, ..., 10, 100)."
   ]
  },
  {
   "cell_type": "markdown",
   "metadata": {
    "application/vnd.databricks.v1+cell": {
     "cellMetadata": {},
     "inputWidgets": {},
     "nuid": "7cd9156d-aceb-47c5-acf2-ac692aca687e",
     "showTitle": false,
     "tableResultSettingsMap": {},
     "title": ""
    }
   },
   "source": [
    "Veamos otro ejemplo. Retomamos los datos de los empleados y si queremos filtrar los empleados que son hombres, primero separamos por las | y nos quedamos con el tercer elemento que contiene el sexo y la edad. A continuación, separamos por la coma para quedarnos en el sexo en la posición 0 y la edad en el 1, y comparamos con el valor deseado:"
   ]
  },
  {
   "cell_type": "code",
   "execution_count": 0,
   "metadata": {
    "application/vnd.databricks.v1+cell": {
     "cellMetadata": {
      "byteLimit": 2048000,
      "rowLimit": 10000
     },
     "inputWidgets": {},
     "nuid": "c8411c09-6238-4848-9b97-497c4b832cd9",
     "showTitle": false,
     "tableResultSettingsMap": {},
     "title": ""
    }
   },
   "outputs": [
    {
     "output_type": "stream",
     "name": "stdout",
     "output_type": "stream",
     "text": [
      "['Michael|Montreal,Toronto|Male,30|DB:80|Product:Developer\\x04Lead', 'Will|Montreal|Male,35|Perl:85|Product:Lead,Test:Lead']\n"
     ]
    }
   ],
   "source": [
    "\n",
    "rdd = sc.textFile(\"/FileStore/Notebook/empleados.txt\") \n",
    "# Filtrar registros donde el campo de género contiene \"Male\"\n",
    "hombres = rdd.filter(lambda x: len(x.split(\"|\")) > 2 and x.split(\"|\")[2].split(\",\")[0] == \"Male\")\n",
    "\n",
    "# Mostrar los resultados\n",
    "print(hombres.collect())"
   ]
  },
  {
   "cell_type": "markdown",
   "metadata": {
    "application/vnd.databricks.v1+cell": {
     "cellMetadata": {},
     "inputWidgets": {},
     "nuid": "f9cf9478-9d2b-48f1-b8f8-1665d55f1ede",
     "showTitle": false,
     "tableResultSettingsMap": {},
     "title": ""
    }
   },
   "source": [
    "> Explicar el codigo de arriba\n",
    "\n",
    "Leer el archivo de texto:\n",
    "\n",
    "``rdd = sc.textFile(\"/FileStore/Notebook/empleados.txt\")``\n",
    "\n",
    "Crea un RDD a partir del archivo empleados.txt. Cada línea del archivo se convierte en un elemento del RDD.\n",
    "Filtrar registros donde el campo de género es \"Male\":\n",
    "\n",
    "\n",
    "``hombres = rdd.filter(lambda x: len(x.split(\"|\")) > 2 and x.split(\"|\")[2].split(\",\")[0] == \"Male\")``\n",
    "\n",
    "Divide cada línea usando \"|\" como separador para obtener diferentes campos.\n",
    "Filtra las líneas donde el tercer campo es \"Male\".\n",
    "Recolectar y mostrar resultados:\n",
    "\n",
    "\n",
    "``print(hombres.collect())``\n",
    "\n",
    "Recolecta todos los registros filtrados en una lista y los imprime."
   ]
  },
  {
   "cell_type": "markdown",
   "metadata": {
    "application/vnd.databricks.v1+cell": {
     "cellMetadata": {},
     "inputWidgets": {},
     "nuid": "70adca0b-573d-403d-bfac-7a98ccf22fb7",
     "showTitle": false,
     "tableResultSettingsMap": {},
     "title": ""
    }
   },
   "source": [
    "Obteniendo:"
   ]
  },
  {
   "cell_type": "markdown",
   "metadata": {
    "application/vnd.databricks.v1+cell": {
     "cellMetadata": {},
     "inputWidgets": {},
     "nuid": "7c71cb94-7d74-4309-9b89-8d9799e80fe7",
     "showTitle": false,
     "tableResultSettingsMap": {},
     "title": ""
    }
   },
   "source": [
    "['Michael|Montreal,Toronto|Male,30|DB:80|Product:Developer\\x04Lead',\n",
    " 'Will|Montreal|Male,35|Perl:85|Product:Lead,Test:Lead']"
   ]
  },
  {
   "cell_type": "markdown",
   "metadata": {
    "application/vnd.databricks.v1+cell": {
     "cellMetadata": {},
     "inputWidgets": {},
     "nuid": "548ea963-8165-46e6-9fb4-e4d2cde6920c",
     "showTitle": false,
     "tableResultSettingsMap": {},
     "title": ""
    }
   },
   "source": [
    "### Distinct"
   ]
  },
  {
   "cell_type": "markdown",
   "metadata": {
    "application/vnd.databricks.v1+cell": {
     "cellMetadata": {},
     "inputWidgets": {},
     "nuid": "80b1ebe9-efa8-4dba-b665-7fcee8a51816",
     "showTitle": false,
     "tableResultSettingsMap": {},
     "title": ""
    }
   },
   "source": [
    "Si utilizamos [distinct](https://spark.apache.org/docs/latest/api/python/reference/api/pyspark.RDD.distinct.html) eliminaremos los elementos repetidos:"
   ]
  },
  {
   "cell_type": "markdown",
   "metadata": {
    "application/vnd.databricks.v1+cell": {
     "cellMetadata": {},
     "inputWidgets": {},
     "nuid": "fbe55980-fe5c-4e98-a920-d42ab13128bb",
     "showTitle": false,
     "tableResultSettingsMap": {},
     "title": ""
    }
   },
   "source": [
    "### Trabajando con conjuntos"
   ]
  },
  {
   "cell_type": "markdown",
   "metadata": {
    "application/vnd.databricks.v1+cell": {
     "cellMetadata": {},
     "inputWidgets": {},
     "nuid": "6f688bc7-4387-4597-b95a-648e1e6f9351",
     "showTitle": false,
     "tableResultSettingsMap": {},
     "title": ""
    }
   },
   "source": [
    "**Union**"
   ]
  },
  {
   "cell_type": "markdown",
   "metadata": {
    "application/vnd.databricks.v1+cell": {
     "cellMetadata": {},
     "inputWidgets": {},
     "nuid": "2eb5d482-e983-4c85-a8cf-a03212372ec8",
     "showTitle": false,
     "tableResultSettingsMap": {},
     "title": ""
    }
   },
   "source": [
    "Mediante [union](https://spark.apache.org/docs/latest/api/python/reference/api/pyspark.RDD.union.html) unimos dos RDD en uno:"
   ]
  },
  {
   "cell_type": "code",
   "execution_count": 0,
   "metadata": {
    "application/vnd.databricks.v1+cell": {
     "cellMetadata": {
      "byteLimit": 2048000,
      "rowLimit": 10000
     },
     "inputWidgets": {},
     "nuid": "82f421aa-9a15-4226-9402-02f33119ecf4",
     "showTitle": false,
     "tableResultSettingsMap": {},
     "title": ""
    }
   },
   "outputs": [
    {
     "output_type": "stream",
     "name": "stdout",
     "output_type": "stream",
     "text": [
      "Out[48]: [1, 2, 3, 4, 5, 6, 7, 8]"
     ]
    }
   ],
   "source": [
    "rdd1 = sc.parallelize([1,2,3,4])\r\n",
    "rdd2 = sc.parallelize([5,6,7,8])\r\n",
    "resultRDD = rdd1.union(rdd2)\r\n",
    "resultRDD.collect()     # [1, 2, 3, 4, 5, 6, 7, 8]"
   ]
  },
  {
   "cell_type": "markdown",
   "metadata": {
    "application/vnd.databricks.v1+cell": {
     "cellMetadata": {},
     "inputWidgets": {},
     "nuid": "58c25c87-a43b-4462-a49b-b3d6d8271b2b",
     "showTitle": false,
     "tableResultSettingsMap": {},
     "title": ""
    }
   },
   "source": [
    "**Intersection**"
   ]
  },
  {
   "cell_type": "markdown",
   "metadata": {
    "application/vnd.databricks.v1+cell": {
     "cellMetadata": {},
     "inputWidgets": {},
     "nuid": "0a273d7f-727b-4998-a750-4bdbbb2455dd",
     "showTitle": false,
     "tableResultSettingsMap": {},
     "title": ""
    }
   },
   "source": [
    "Mediante [intersection](https://spark.apache.org/docs/latest/api/python/reference/api/pyspark.RDD.intersection.html), obtendremos los elementos que tengan en común:"
   ]
  },
  {
   "cell_type": "markdown",
   "metadata": {
    "application/vnd.databricks.v1+cell": {
     "cellMetadata": {},
     "inputWidgets": {},
     "nuid": "5119e146-e592-4ad0-9e35-1b376e37d47c",
     "showTitle": false,
     "tableResultSettingsMap": {},
     "title": ""
    }
   },
   "source": [
    "**Subtract**"
   ]
  },
  {
   "cell_type": "markdown",
   "metadata": {
    "application/vnd.databricks.v1+cell": {
     "cellMetadata": {},
     "inputWidgets": {},
     "nuid": "503684d3-1bcd-44ef-9822-34a8bb7e2b3c",
     "showTitle": false,
     "tableResultSettingsMap": {},
     "title": ""
    }
   },
   "source": [
    "Mediante [subtract](https://spark.apache.org/docs/latest/api/python/reference/api/pyspark.RDD.subtract.html), obtendremos los elementos propios que no estén en el RDD recibido:"
   ]
  },
  {
   "cell_type": "code",
   "execution_count": 0,
   "metadata": {
    "application/vnd.databricks.v1+cell": {
     "cellMetadata": {
      "byteLimit": 2048000,
      "rowLimit": 10000
     },
     "inputWidgets": {},
     "nuid": "d9e853a0-5597-44a4-972f-5dee5dc0d09d",
     "showTitle": false,
     "tableResultSettingsMap": {},
     "title": ""
    }
   },
   "outputs": [
    {
     "output_type": "stream",
     "name": "stdout",
     "output_type": "stream",
     "text": [
      "Out[49]: [1, 2]"
     ]
    }
   ],
   "source": [
    "rdd1 = sc.parallelize([1,2,3,4])\n",
    "rdd2 = sc.parallelize([3,4,5,6])\n",
    "resultRDD = rdd1.subtract(rdd2)\n",
    "resultRDD.collect()     # [1, 2]"
   ]
  },
  {
   "cell_type": "markdown",
   "metadata": {
    "application/vnd.databricks.v1+cell": {
     "cellMetadata": {},
     "inputWidgets": {},
     "nuid": "0b0ae89e-1896-4fdb-9a2a-dd0b881b1d51",
     "showTitle": false,
     "tableResultSettingsMap": {},
     "title": ""
    }
   },
   "source": [
    "### Actividad:"
   ]
  },
  {
   "cell_type": "markdown",
   "metadata": {
    "application/vnd.databricks.v1+cell": {
     "cellMetadata": {},
     "inputWidgets": {},
     "nuid": "d590bdcf-8b42-4055-b7b4-df5b638a3476",
     "showTitle": false,
     "tableResultSettingsMap": {},
     "title": ""
    }
   },
   "source": [
    "Si tenemos dos RDD (A y B):"
   ]
  },
  {
   "cell_type": "code",
   "execution_count": 0,
   "metadata": {
    "application/vnd.databricks.v1+cell": {
     "cellMetadata": {
      "byteLimit": 2048000,
      "rowLimit": 10000
     },
     "inputWidgets": {},
     "nuid": "679d9c4f-cf40-441f-a624-f09fbca20c47",
     "showTitle": false,
     "tableResultSettingsMap": {},
     "title": ""
    }
   },
   "outputs": [],
   "source": [
    "rddA = sc.parallelize([1,2,3,4])\n",
    "rddB = sc.parallelize([3,4,5,6])"
   ]
  },
  {
   "cell_type": "markdown",
   "metadata": {
    "application/vnd.databricks.v1+cell": {
     "cellMetadata": {},
     "inputWidgets": {},
     "nuid": "fb67d715-2b8b-468d-992d-6bd8700c13f5",
     "showTitle": false,
     "tableResultSettingsMap": {},
     "title": ""
    }
   },
   "source": [
    "¿Cómo conseguimos los elementos que están en A y no B y los de B que no están en A? (es decir [1, 2, 5, 6])):"
   ]
  },
  {
   "cell_type": "code",
   "execution_count": 0,
   "metadata": {
    "application/vnd.databricks.v1+cell": {
     "cellMetadata": {
      "byteLimit": 2048000,
      "rowLimit": 10000
     },
     "inputWidgets": {},
     "nuid": "61872845-b167-43fb-a180-1d27bc2b3d3c",
     "showTitle": false,
     "tableResultSettingsMap": {},
     "title": ""
    }
   },
   "outputs": [
    {
     "output_type": "stream",
     "name": "stdout",
     "output_type": "stream",
     "text": [
      "[1, 2, 5, 6]\n"
     ]
    }
   ],
   "source": [
    "# Escriba la respuesta aqui\n",
    "# Elementos que están en A y no en B\n",
    "diferencia_A_B = rddA.subtract(rddB)\n",
    "\n",
    "# Elementos que están en B y no en A\n",
    "diferencia_B_A = rddB.subtract(rddA)\n",
    "\n",
    "# Unir ambas diferencias para obtener los elementos únicos en A y en B\n",
    "resultado = diferencia_A_B.union(diferencia_B_A)\n",
    "\n",
    "# Recolectar los resultados para verlos\n",
    "print(resultado.collect())  # Salida: [1, 2, 5, 6]\n"
   ]
  },
  {
   "cell_type": "markdown",
   "metadata": {
    "application/vnd.databricks.v1+cell": {
     "cellMetadata": {},
     "inputWidgets": {},
     "nuid": "125222b3-ada2-4c4f-b4a5-51b4897c9f11",
     "showTitle": false,
     "tableResultSettingsMap": {},
     "title": ""
    }
   },
   "source": [
    "### RDD de Pares"
   ]
  },
  {
   "cell_type": "markdown",
   "metadata": {
    "application/vnd.databricks.v1+cell": {
     "cellMetadata": {},
     "inputWidgets": {},
     "nuid": "8c9d3e39-ee26-4422-8ecc-3369a8c0ab68",
     "showTitle": false,
     "tableResultSettingsMap": {},
     "title": ""
    }
   },
   "source": [
    "Una técnica muy común a la hora de trabajar con RDD es hacerlo con elementos que tienen el formato (`clave, valor`), pudiendo las claves y los valores ser de cualquier tipo."
   ]
  },
  {
   "cell_type": "code",
   "execution_count": 0,
   "metadata": {
    "application/vnd.databricks.v1+cell": {
     "cellMetadata": {
      "byteLimit": 2048000,
      "rowLimit": 10000
     },
     "inputWidgets": {},
     "nuid": "d336bb5e-44c2-467d-bf4a-b0be59951218",
     "showTitle": false,
     "tableResultSettingsMap": {},
     "title": ""
    }
   },
   "outputs": [],
   "source": [
    "listaTuplas = [(1,'a'), (2,'b'), (3,'c'), (4,'d')]\n",
    "rddTuplas= sc.parallelize(listaTuplas)"
   ]
  },
  {
   "cell_type": "markdown",
   "metadata": {
    "application/vnd.databricks.v1+cell": {
     "cellMetadata": {},
     "inputWidgets": {},
     "nuid": "878385b0-4d6d-4d33-9b6f-8cb0811c9a23",
     "showTitle": false,
     "tableResultSettingsMap": {},
     "title": ""
    }
   },
   "source": [
    "Sobre estos RDD podemos realizar algoritmos MapReduce para muchas funciones de procesamiento de datos, como es la agrupación, ordenación, join, count, etc..."
   ]
  },
  {
   "cell_type": "markdown",
   "metadata": {
    "application/vnd.databricks.v1+cell": {
     "cellMetadata": {},
     "inputWidgets": {},
     "nuid": "d893790b-f7e7-4180-ae97-cefbd146c222",
     "showTitle": false,
     "tableResultSettingsMap": {},
     "title": ""
    }
   },
   "source": [
    "Para generar un RDD de pares, además de crearlo nosotros a partir de una lista, podemos emplear las siguientes operaciones:"
   ]
  },
  {
   "cell_type": "markdown",
   "metadata": {
    "application/vnd.databricks.v1+cell": {
     "cellMetadata": {},
     "inputWidgets": {},
     "nuid": "09b0b496-54d0-44ed-a705-864d9a09f0ea",
     "showTitle": false,
     "tableResultSettingsMap": {},
     "title": ""
    }
   },
   "source": [
    "- [zip](https://spark.apache.org/docs/latest/api/python/reference/api/pyspark.RDD.zip.html): une dos RDDs del mismo tamaño:"
   ]
  },
  {
   "cell_type": "code",
   "execution_count": 0,
   "metadata": {
    "application/vnd.databricks.v1+cell": {
     "cellMetadata": {
      "byteLimit": 2048000,
      "rowLimit": 10000
     },
     "inputWidgets": {},
     "nuid": "5be4fe4c-05b3-4ece-a4f9-7911578ec8ce",
     "showTitle": false,
     "tableResultSettingsMap": {},
     "title": ""
    }
   },
   "outputs": [],
   "source": [
    "lista1 = ['a','b','c','e','f','g','h']\n",
    "lista2 = [4, 5, 6, 7, 8, 9, 10]\n",
    "rddZip = sc.parallelize(lista1).zip(sc.parallelize(lista2)).collect()\n",
    "# [('a', 4), ('b', 5), ('c', 6), ('e', 7), ('f', 8), ('g', 9), ('h', 10)]"
   ]
  },
  {
   "cell_type": "code",
   "execution_count": 0,
   "metadata": {
    "application/vnd.databricks.v1+cell": {
     "cellMetadata": {
      "byteLimit": 2048000,
      "rowLimit": 10000
     },
     "inputWidgets": {},
     "nuid": "34694e2d-56d9-461a-b29d-22eebf000f9a",
     "showTitle": false,
     "tableResultSettingsMap": {},
     "title": ""
    }
   },
   "outputs": [],
   "source": [
    "rddZipSecuencia = sc.parallelize(zip(lista1,range(len(lista1)))) # usando el tamaño de la lista\n",
    "# [('a', 0), ('b', 1), ('c', 2), ('e', 3), ('f', 4), ('g', 5), ('h', 6)]"
   ]
  },
  {
   "cell_type": "markdown",
   "metadata": {
    "application/vnd.databricks.v1+cell": {
     "cellMetadata": {},
     "inputWidgets": {},
     "nuid": "ed9d5686-6f45-4b31-a7ba-72811b9fc5ca",
     "showTitle": false,
     "tableResultSettingsMap": {},
     "title": ""
    }
   },
   "source": [
    "- `map`: asignando a cada elemento un valor o cálculo sobre él mismo:"
   ]
  },
  {
   "cell_type": "code",
   "execution_count": 0,
   "metadata": {
    "application/vnd.databricks.v1+cell": {
     "cellMetadata": {
      "byteLimit": 2048000,
      "rowLimit": 10000
     },
     "inputWidgets": {},
     "nuid": "f4677e79-f7c0-464f-b208-cd159c033c0f",
     "showTitle": false,
     "tableResultSettingsMap": {},
     "title": ""
    }
   },
   "outputs": [],
   "source": [
    "lista  = ['Hola', 'Adiós', 'Hasta luego']\n",
    "rddMap = sc.parallelize(lista).map(lambda x: (x, len(x)))\n",
    "# [('Hola', 4), ('Adiós', 5), ('Hasta luego', 11)]"
   ]
  },
  {
   "cell_type": "markdown",
   "metadata": {
    "application/vnd.databricks.v1+cell": {
     "cellMetadata": {},
     "inputWidgets": {},
     "nuid": "31918915-ee23-478e-be51-3b269ba3e661",
     "showTitle": false,
     "tableResultSettingsMap": {},
     "title": ""
    }
   },
   "source": [
    "- `keyBy`: permite crear las claves a partir de cada elemento:"
   ]
  },
  {
   "cell_type": "code",
   "execution_count": 0,
   "metadata": {
    "application/vnd.databricks.v1+cell": {
     "cellMetadata": {
      "byteLimit": 2048000,
      "rowLimit": 10000
     },
     "inputWidgets": {},
     "nuid": "d0cc4efb-571d-47ca-943a-5f5bd6f5399e",
     "showTitle": false,
     "tableResultSettingsMap": {},
     "title": ""
    }
   },
   "outputs": [],
   "source": [
    "rddKeyBy = sc.parallelize(lista).keyBy(lambda x: x[0])  # creamos una clave con la primera letra\n",
    "# [('H', 'Hola'), ('A', 'Adiós'), ('H', 'Hasta luego')]"
   ]
  },
  {
   "cell_type": "markdown",
   "metadata": {
    "application/vnd.databricks.v1+cell": {
     "cellMetadata": {},
     "inputWidgets": {},
     "nuid": "c77a9131-47f9-471b-b2ea-1ffc00cdae71",
     "showTitle": false,
     "tableResultSettingsMap": {},
     "title": ""
    }
   },
   "source": [
    "### Actividad:"
   ]
  },
  {
   "cell_type": "markdown",
   "metadata": {
    "application/vnd.databricks.v1+cell": {
     "cellMetadata": {},
     "inputWidgets": {},
     "nuid": "bbbd24a9-f640-4a6b-85a0-c29fae4244db",
     "showTitle": false,
     "tableResultSettingsMap": {},
     "title": ""
    }
   },
   "source": [
    "A partir de la lista `\"Perro Gato Loro Pez León Tortuga Gallina\"`"
   ]
  },
  {
   "cell_type": "markdown",
   "metadata": {
    "application/vnd.databricks.v1+cell": {
     "cellMetadata": {},
     "inputWidgets": {},
     "nuid": "62581ae5-518d-4af4-98b1-1b8078b35903",
     "showTitle": false,
     "tableResultSettingsMap": {},
     "title": ""
    }
   },
   "source": [
    "1. Crea un RDD a partir de esta lista\n",
    "2. Convierte el RDD normal en un RDD de pares cuya clave sea la primera letra del animal\n",
    "3. Crea otro RDD de pares pero poniendo como clave un número incremental\n",
    "4. ¿Y si queremos que el índice incremental empiece en 100?"
   ]
  },
  {
   "cell_type": "markdown",
   "metadata": {
    "application/vnd.databricks.v1+cell": {
     "cellMetadata": {},
     "inputWidgets": {},
     "nuid": "0f5b6f8a-fa48-44e0-8dae-97bd3d48939e",
     "showTitle": false,
     "tableResultSettingsMap": {},
     "title": ""
    }
   },
   "source": [
    "#### Solucion"
   ]
  },
  {
   "cell_type": "code",
   "execution_count": 0,
   "metadata": {
    "application/vnd.databricks.v1+cell": {
     "cellMetadata": {
      "byteLimit": 2048000,
      "rowLimit": 10000
     },
     "inputWidgets": {},
     "nuid": "62f6de6c-0ad5-46bb-a05a-64719068ff4a",
     "showTitle": false,
     "tableResultSettingsMap": {},
     "title": ""
    }
   },
   "outputs": [
    {
     "output_type": "stream",
     "name": "stdout",
     "output_type": "stream",
     "text": [
      "[('P', 'Perro'), ('G', 'Gato'), ('L', 'Loro'), ('P', 'Pez'), ('L', 'León'), ('T', 'Tortuga'), ('G', 'Gallina')]\n[(0, 'Perro'), (1, 'Gato'), (2, 'Loro'), (3, 'Pez'), (4, 'León'), (5, 'Tortuga'), (6, 'Gallina')]\n[(100, 'Perro'), (101, 'Gato'), (102, 'Loro'), (103, 'Pez'), (104, 'León'), (105, 'Tortuga'), (106, 'Gallina')]\n"
     ]
    }
   ],
   "source": [
    "# Coloca tus respuestas aqui\n",
    "\n",
    "# Crear RDD a partir de la lista de animales\n",
    "animales = [\"Perro\", \"Gato\", \"Loro\", \"Pez\", \"León\", \"Tortuga\", \"Gallina\"]\n",
    "rdd = sc.parallelize(animales)\n",
    "\n",
    "# Convertir el RDD en un RDD de pares \n",
    "rddPares = rdd.map(lambda x: (x[0], x))\n",
    "print(rddPares.collect())\n",
    "\n",
    "# Crear un RDD de pares con un índice incremental como clave\n",
    "rddConIndice = rdd.zipWithIndex().map(lambda x: (x[1], x[0]))\n",
    "print(rddConIndice.collect())\n",
    "\n",
    "# Crear un RDD de pares con un índice incremental empezando en 100\n",
    "rddConIndice100 = rdd.zipWithIndex().map(lambda x: (x[1] + 100, x[0]))\n",
    "print(rddConIndice100.collect())\n",
    "\n",
    "\n",
    "\n",
    "\n"
   ]
  },
  {
   "cell_type": "markdown",
   "metadata": {
    "application/vnd.databricks.v1+cell": {
     "cellMetadata": {},
     "inputWidgets": {},
     "nuid": "49a7b3bb-c80c-407f-8941-1f58d78e75c1",
     "showTitle": false,
     "tableResultSettingsMap": {},
     "title": ""
    }
   },
   "source": [
    "Sobre los RDD de pares, podemos realizar las siguientes transformaciones:"
   ]
  },
  {
   "cell_type": "markdown",
   "metadata": {
    "application/vnd.databricks.v1+cell": {
     "cellMetadata": {},
     "inputWidgets": {},
     "nuid": "32f53d0b-7055-455a-828b-d3c59602e343",
     "showTitle": false,
     "tableResultSettingsMap": {},
     "title": ""
    }
   },
   "source": [
    "- [`keys`](https://spark.apache.org/docs/latest/api/python/reference/api/pyspark.RDD.keys.html): devuelve las claves\n",
    "- [`values`](https://spark.apache.org/docs/latest/api/python/reference/api/pyspark.RDD.values.html): devuelve los valores\n",
    "- [`mapValues`](https://spark.apache.org/docs/latest/api/python/reference/api/pyspark.RDD.mapValues.html): Aplica la función sobre los valores\n",
    "- [`flatMapValues`](https://spark.apache.org/docs/latest/api/python/reference/api/pyspark.RDD.flatMapValues.html) Aplica la función sobre los valores y los aplana.\n",
    "  "
   ]
  },
  {
   "cell_type": "markdown",
   "metadata": {
    "application/vnd.databricks.v1+cell": {
     "cellMetadata": {},
     "inputWidgets": {},
     "nuid": "6e7c03d5-59c1-4978-ab84-48bfdb417a70",
     "showTitle": false,
     "tableResultSettingsMap": {},
     "title": ""
    }
   },
   "source": [
    "A continuación se muestra un fragmento de código para poner en práctica las transformaciones comentadas:"
   ]
  },
  {
   "cell_type": "code",
   "execution_count": 0,
   "metadata": {
    "application/vnd.databricks.v1+cell": {
     "cellMetadata": {
      "byteLimit": 2048000,
      "rowLimit": 10000
     },
     "inputWidgets": {},
     "nuid": "76e6d2d9-1367-422d-9e68-7e4c94e0d510",
     "showTitle": false,
     "tableResultSettingsMap": {},
     "title": ""
    }
   },
   "outputs": [],
   "source": [
    "listaTuplas = [('a',1), ('z',3), ('b',4), ('c',3), ('a',4)]\n",
    "rddTuplas = sc.parallelize(listaTuplas)\n",
    "\n",
    "claves = rddTuplas.keys()       # ['a', 'z', 'b', 'c', 'a']\n",
    "valores = rddTuplas.values()    # [1, 3, 4, 3, 4]\n",
    "\n",
    "rddMapValues = rddTuplas.mapValues(lambda x: (x,x*2))\n",
    "# [('a', (1, 2)), ('z', (3, 6)), ('b', (4, 8)), ('c', (3, 6)), ('a', (4, 8))]\n",
    "rddFMV = rddTuplas.flatMapValues(lambda x: (x,x*2))\n",
    "# [('a', 1),\n",
    "#  ('a', 2),\n",
    "#  ('z', 3),\n",
    "#  ('z', 6),\n",
    "#  ('b', 4),\n",
    "# ..."
   ]
  },
  {
   "cell_type": "markdown",
   "metadata": {
    "application/vnd.databricks.v1+cell": {
     "cellMetadata": {},
     "inputWidgets": {},
     "nuid": "90743f3c-51f1-4eec-a77c-53f44502c35a",
     "showTitle": false,
     "tableResultSettingsMap": {},
     "title": ""
    }
   },
   "source": [
    "### Transformaciones Wide"
   ]
  },
  {
   "cell_type": "markdown",
   "metadata": {
    "application/vnd.databricks.v1+cell": {
     "cellMetadata": {},
     "inputWidgets": {},
     "nuid": "09b37e2d-96c5-4327-a819-99c6a799fc5c",
     "showTitle": false,
     "tableResultSettingsMap": {},
     "title": ""
    }
   },
   "source": [
    "Las siguientes transformaciones, además de trabajar con RDD de pares, mezclan los datos de las particiones mediante el shuffle de los elementos."
   ]
  },
  {
   "cell_type": "markdown",
   "metadata": {
    "application/vnd.databricks.v1+cell": {
     "cellMetadata": {},
     "inputWidgets": {},
     "nuid": "09b0ed63-c852-4943-8889-9d34c19f99bf",
     "showTitle": false,
     "tableResultSettingsMap": {},
     "title": ""
    }
   },
   "source": [
    "Para los siguientes ejemplos, utilizaremos un fichero de ventas [`pdi_sales.csv`](https://tajamar365.sharepoint.com/:x:/s/3405-MasterIA2024-2025/EdbX1Ds2BShClAxQaHHZYyYBwu5DY1Li3jvXLN_Z7KbhHg?e=Vj3xFq) (versión extendida) / [`pdi_sales_small.csv`](https://tajamar365.sharepoint.com/:x:/s/3405-MasterIA2024-2025/EdbX1Ds2BShClAxQaHHZYyYBwu5DY1Li3jvXLN_Z7KbhHg?e=Vj3xFq) (versión reducida) el cual tiene el siguiente formato:"
   ]
  },
  {
   "cell_type": "markdown",
   "metadata": {
    "application/vnd.databricks.v1+cell": {
     "cellMetadata": {},
     "inputWidgets": {},
     "nuid": "6413465e-8d26-4f10-b518-2cb380037ac1",
     "showTitle": false,
     "tableResultSettingsMap": {},
     "title": ""
    }
   },
   "source": [
    "ProductID;Date;Zip;Units;Revenue;Country\n",
    "725;1/15/1999;41540          ;1;115.5;Germany\n",
    "787;6/6/2002;41540          ;1;314.9;Germany\n",
    "..."
   ]
  },
  {
   "cell_type": "markdown",
   "metadata": {
    "application/vnd.databricks.v1+cell": {
     "cellMetadata": {},
     "inputWidgets": {},
     "nuid": "868ec63b-19b6-4bbf-90e6-8387f09b15bf",
     "showTitle": false,
     "tableResultSettingsMap": {},
     "title": ""
    }
   },
   "source": [
    "### ReduceByKey"
   ]
  },
  {
   "cell_type": "markdown",
   "metadata": {
    "application/vnd.databricks.v1+cell": {
     "cellMetadata": {},
     "inputWidgets": {},
     "nuid": "1f145515-9a5c-403e-8afe-b6c714a931e6",
     "showTitle": false,
     "tableResultSettingsMap": {},
     "title": ""
    }
   },
   "source": [
    "Mediante la transformación [`reducedByKey`](https://spark.apache.org/docs/latest/api/python/reference/api/pyspark.RDD.reduceByKey.html) los datos se calculan utilizando una función de reducción a partir de la clave combinando en la misma máquina las parejas con la misma clave antes de que los datos se barajen."
   ]
  },
  {
   "cell_type": "markdown",
   "metadata": {
    "application/vnd.databricks.v1+cell": {
     "cellMetadata": {},
     "inputWidgets": {},
     "nuid": "00e98de2-81f6-455f-aa31-100b0fa4351c",
     "showTitle": false,
     "tableResultSettingsMap": {},
     "title": ""
    }
   },
   "source": [
    "Vamos a comenzar con un ejemplo sencillo, contando cuantas ventas se han realizado en cada país, o lo que es lo mismo, las veces que aparece cada palabra en el fichero:"
   ]
  },
  {
   "cell_type": "code",
   "execution_count": 0,
   "metadata": {
    "application/vnd.databricks.v1+cell": {
     "cellMetadata": {
      "byteLimit": 2048000,
      "rowLimit": 10000
     },
     "inputWidgets": {},
     "nuid": "d65f74ef-5f73-4147-81db-cdc8d273e28c",
     "showTitle": false,
     "tableResultSettingsMap": {},
     "title": ""
    }
   },
   "outputs": [],
   "source": [
    "rdd = sc.textFile(\"dbfs:/FileStore/Notebook/pdi_sales_small.csv\")\n",
    "# Recogemos el país y las unidades de las ventas\n",
    "parPais1 = rdd.map(lambda x: (x.split(\";\")[-1].strip(), 1))\n",
    "# parPais1.collect()\n",
    "# [('Country', 1),\n",
    "#  ('Germany', 1),\n",
    "#  ('Germany', 1),\n",
    "#  ('Germany', 1), ..."
   ]
  },
  {
   "cell_type": "markdown",
   "metadata": {
    "application/vnd.databricks.v1+cell": {
     "cellMetadata": {},
     "inputWidgets": {},
     "nuid": "d01ed328-8db0-4617-8e12-3fba4a8ab29a",
     "showTitle": false,
     "tableResultSettingsMap": {},
     "title": ""
    }
   },
   "source": [
    "Hemos creado un RDD de pares compuesto por el nombre del país y el número uno, para luego en la fase de reducción sumar estos valores. Pero si nos fijamos, el archivo csv contiene el encabezado con los datos, el cual debemos quitar:"
   ]
  },
  {
   "cell_type": "code",
   "execution_count": 0,
   "metadata": {
    "application/vnd.databricks.v1+cell": {
     "cellMetadata": {
      "byteLimit": 2048000,
      "rowLimit": 10000
     },
     "inputWidgets": {},
     "nuid": "ef1102fa-6ec0-46be-80df-4e8590a8e590",
     "showTitle": false,
     "tableResultSettingsMap": {},
     "title": ""
    }
   },
   "outputs": [],
   "source": [
    "header = parPais1.first()\n",
    "parPais1SinHeader = parPais1.filter(lambda linea: linea != header)\n",
    "# parPais1SinHeader.collect()\n",
    "# [('Germany', 1),\n",
    "#  ('Germany', 1),\n",
    "#  ('Germany', 1), ..."
   ]
  },
  {
   "cell_type": "markdown",
   "metadata": {
    "application/vnd.databricks.v1+cell": {
     "cellMetadata": {},
     "inputWidgets": {},
     "nuid": "4472ab35-0077-4e01-8853-a5fabe7359ae",
     "showTitle": false,
     "tableResultSettingsMap": {},
     "title": ""
    }
   },
   "source": [
    "Y finalmente, ya podemos reducir por la clave:"
   ]
  },
  {
   "cell_type": "code",
   "execution_count": 0,
   "metadata": {
    "application/vnd.databricks.v1+cell": {
     "cellMetadata": {
      "byteLimit": 2048000,
      "rowLimit": 10000
     },
     "inputWidgets": {},
     "nuid": "c5909ee9-04d1-4a4e-bf4d-516641da44f7",
     "showTitle": false,
     "tableResultSettingsMap": {},
     "title": ""
    }
   },
   "outputs": [],
   "source": [
    "paisesTotal = parPais1SinHeader.reduceByKey(lambda a,b: a+b)\n",
    "# paisesTotal.collect()\n",
    "# [('Mexico', 30060), ('France', 30060), ('Germany', 30059), ('Canada', 30060)]"
   ]
  },
  {
   "cell_type": "markdown",
   "metadata": {
    "application/vnd.databricks.v1+cell": {
     "cellMetadata": {},
     "inputWidgets": {},
     "nuid": "033be23f-bafa-49d7-a824-031197fce755",
     "showTitle": false,
     "tableResultSettingsMap": {},
     "title": ""
    }
   },
   "source": [
    "> Funciones lambda en reduce\n",
    "> Al aplicar una transformación de tipo reduce, la función lambda recibirá dos parámetros, siendo el primero el valor acumulado y el segundo el valor del elemento a operar."
   ]
  },
  {
   "cell_type": "markdown",
   "metadata": {
    "application/vnd.databricks.v1+cell": {
     "cellMetadata": {},
     "inputWidgets": {},
     "nuid": "7622888a-e6f8-4376-8755-d718dcea95d5",
     "showTitle": false,
     "tableResultSettingsMap": {},
     "title": ""
    }
   },
   "source": [
    "Veamos otro ejemplo, en este caso vamos a calcular el total de unidades vendidas por país, de manera que vamos a coger el nombre del país (Country) y las unidades (Units) vendidas:"
   ]
  },
  {
   "cell_type": "code",
   "execution_count": 0,
   "metadata": {
    "application/vnd.databricks.v1+cell": {
     "cellMetadata": {
      "byteLimit": 2048000,
      "rowLimit": 10000
     },
     "inputWidgets": {},
     "nuid": "7d53cc99-1ca1-46c1-b85b-d367d7a347af",
     "showTitle": false,
     "tableResultSettingsMap": {},
     "title": ""
    }
   },
   "outputs": [
    {
     "output_type": "stream",
     "name": "stdout",
     "output_type": "stream",
     "text": [
      "Out[68]: [('Mexico', 31095), ('France', 31739), ('Germany', 31746), ('Canada', 31148)]"
     ]
    }
   ],
   "source": [
    "rdd = sc.textFile(\"dbfs:/FileStore/Notebook/pdi_sales_small.csv\")\n",
    "# Recogemos el país y las unidades de las ventas\n",
    "paisesUnidades = rdd.map(lambda x: (x.split(\";\")[-1].strip(), x.split(\";\")[3]))\n",
    "# Le quitamos el encabezado\n",
    "header = paisesUnidades.first()\n",
    "paisesUnidadesSinHeader = paisesUnidades.filter(lambda linea: linea != header)\n",
    "# Pasamos las unidades a un número entero\n",
    "paisesUnidadesInt = paisesUnidadesSinHeader.map(lambda x: (x[0], int(x[1])))\n",
    "# Reducimos por el país y sumamos las unidades\n",
    "paisesTotalUnidades = paisesUnidadesInt.reduceByKey(lambda a,b: a+b)\n",
    "paisesTotalUnidades.collect()"
   ]
  },
  {
   "cell_type": "markdown",
   "metadata": {
    "application/vnd.databricks.v1+cell": {
     "cellMetadata": {},
     "inputWidgets": {},
     "nuid": "8f1bbb07-250b-44f2-8ed3-985845d3de56",
     "showTitle": false,
     "tableResultSettingsMap": {},
     "title": ""
    }
   },
   "source": [
    "### Actividad:"
   ]
  },
  {
   "cell_type": "markdown",
   "metadata": {
    "application/vnd.databricks.v1+cell": {
     "cellMetadata": {},
     "inputWidgets": {},
     "nuid": "6facd4f8-840f-4009-beca-d3e60b420f78",
     "showTitle": false,
     "tableResultSettingsMap": {},
     "title": ""
    }
   },
   "source": [
    "Dada la siguiente lista de compra:"
   ]
  },
  {
   "cell_type": "code",
   "execution_count": 0,
   "metadata": {
    "application/vnd.databricks.v1+cell": {
     "cellMetadata": {},
     "inputWidgets": {},
     "nuid": "da48d897-15f9-4e58-85d7-766e55fc32ba",
     "showTitle": false,
     "tableResultSettingsMap": {},
     "title": ""
    }
   },
   "outputs": [],
   "source": [
    "lista = [('pan',3), ('agua',2), ('azúcar',1), ('leche',2), ('pan',1), ('cereales',3), ('agua',0.5), ('leche',2), ('filetes',5)]"
   ]
  },
  {
   "cell_type": "markdown",
   "metadata": {
    "application/vnd.databricks.v1+cell": {
     "cellMetadata": {},
     "inputWidgets": {},
     "nuid": "fd9a5fe1-5f0d-4e7a-8f7e-3d432907dfcf",
     "showTitle": false,
     "tableResultSettingsMap": {},
     "title": ""
    }
   },
   "source": [
    "**Calcula**"
   ]
  },
  {
   "cell_type": "markdown",
   "metadata": {
    "application/vnd.databricks.v1+cell": {
     "cellMetadata": {},
     "inputWidgets": {},
     "nuid": "6964ec58-fde9-4a44-b34a-bd21dbfd65cb",
     "showTitle": false,
     "tableResultSettingsMap": {},
     "title": ""
    }
   },
   "source": [
    "1. El total que se ha gastado por cada producto  \n",
    "2. Cuánto es lo máximo que se ha pagado por cada producto"
   ]
  },
  {
   "cell_type": "code",
   "execution_count": 0,
   "metadata": {
    "application/vnd.databricks.v1+cell": {
     "cellMetadata": {
      "byteLimit": 2048000,
      "rowLimit": 10000
     },
     "inputWidgets": {},
     "nuid": "7439b8eb-0f31-4f6d-8eee-bc3993963eb9",
     "showTitle": false,
     "tableResultSettingsMap": {},
     "title": ""
    }
   },
   "outputs": [
    {
     "output_type": "stream",
     "name": "stdout",
     "output_type": "stream",
     "text": [
      "[('agua', 2.5), ('pan', 4), ('leche', 4), ('cereales', 3), ('filetes', 5), ('azúcar', 1)]\n"
     ]
    }
   ],
   "source": [
    "# Crear RDD\n",
    "lista = [('pan', 3), ('agua', 2), ('azúcar', 1), ('leche', 2), ('pan', 1), ('cereales', 3), ('agua', 0.5), ('leche', 2), ('filetes', 5)]\n",
    "rdd = sc.parallelize(lista)\n",
    "\n",
    "#Calcular el total gastado\n",
    "totalPorProducto = rdd.reduceByKey(lambda a, b: a + b)\n",
    "print(totalPorProducto.collect())\n",
    "\n"
   ]
  },
  {
   "cell_type": "markdown",
   "metadata": {
    "application/vnd.databricks.v1+cell": {
     "cellMetadata": {},
     "inputWidgets": {},
     "nuid": "bcc2bcb5-f6b7-49b0-bc97-32a6f92c1a66",
     "showTitle": false,
     "tableResultSettingsMap": {},
     "title": ""
    }
   },
   "source": [
    "### GroupByKey"
   ]
  },
  {
   "cell_type": "markdown",
   "metadata": {
    "application/vnd.databricks.v1+cell": {
     "cellMetadata": {},
     "inputWidgets": {},
     "nuid": "a6050fcf-473e-4479-a146-3f0a2abfa8af",
     "showTitle": false,
     "tableResultSettingsMap": {},
     "title": ""
    }
   },
   "source": [
    "Permite agrupar los datos a partir de una clave, repartiendo los resultados (shuffle) entre todos los nodos:"
   ]
  },
  {
   "cell_type": "code",
   "execution_count": 0,
   "metadata": {
    "application/vnd.databricks.v1+cell": {
     "cellMetadata": {
      "byteLimit": 2048000,
      "rowLimit": 10000
     },
     "inputWidgets": {},
     "nuid": "5c7ac763-5acb-42ea-aec5-efc414aee699",
     "showTitle": false,
     "tableResultSettingsMap": {},
     "title": ""
    }
   },
   "outputs": [
    {
     "output_type": "stream",
     "name": "stdout",
     "output_type": "stream",
     "text": [
      "Out[76]: [('Country', <pyspark.resultiterable.ResultIterable at 0x7f5441b91940>),\n ('Mexico', <pyspark.resultiterable.ResultIterable at 0x7f5441b916d0>),\n ('France', <pyspark.resultiterable.ResultIterable at 0x7f5441d4c070>),\n ('Germany', <pyspark.resultiterable.ResultIterable at 0x7f545cf07f70>),\n ('Canada', <pyspark.resultiterable.ResultIterable at 0x7f545c7ba5e0>)]"
     ]
    }
   ],
   "source": [
    "rdd = sc.textFile(\"dbfs:/FileStore/Notebook/pdi_sales_small.csv\")\n",
    "# Creamos un RDD de pares con el nombre del país como clave, y una lista con los valores\n",
    "ventas = rdd.map(lambda x: (x.split(\";\")[-1].strip(), x.split(\";\")))\n",
    "# Quitamos el primer elemento que es el encabezado del CSV\n",
    "header = paisesUnidades.first()\n",
    "paisesUnidadesSinHeader = paisesUnidades.filter(lambda linea: linea != header)\n",
    "# Agrupamos las ventas por nombre del país\n",
    "paisesAgrupados = ventas.groupByKey()\n",
    "paisesAgrupados.collect()\n",
    "# Obtendremos para cada pais, un iterable con todos sus datos:"
   ]
  },
  {
   "cell_type": "markdown",
   "metadata": {
    "application/vnd.databricks.v1+cell": {
     "cellMetadata": {},
     "inputWidgets": {},
     "nuid": "8a034f82-bc14-4864-9f8e-9344705e708b",
     "showTitle": false,
     "tableResultSettingsMap": {},
     "title": ""
    }
   },
   "source": [
    "Podemos transformar los iterables a una lista:"
   ]
  },
  {
   "cell_type": "code",
   "execution_count": 0,
   "metadata": {
    "application/vnd.databricks.v1+cell": {
     "cellMetadata": {
      "byteLimit": 2048000,
      "rowLimit": 10000
     },
     "inputWidgets": {},
     "nuid": "d683d2dc-5c65-4e29-a9e2-16002064c7c2",
     "showTitle": false,
     "tableResultSettingsMap": {},
     "title": ""
    }
   },
   "outputs": [
    {
     "output_type": "stream",
     "name": "stdout",
     "output_type": "stream",
     "text": [
      "Out[77]: [('Country', [['ProductID', 'Date', 'Zip', 'Units', 'Revenue', 'Country']]),\n ('Mexico',\n  [['2235', '1/15/1999', '8650           ', '1', '65.6', 'Mexico '],\n   ['837', '2/15/1999', '8650           ', '1', '840', 'Mexico '],\n   ['491', '2/15/1999', '8650           ', '1', '815.3', 'Mexico '],\n   ['426', '5/31/2002', '8650           ', '1', '843.1', 'Mexico '],\n   ['400', '6/6/2002', '8650           ', '1', '734.7', 'Mexico '],\n   ['1131', '2/15/1999', '8650           ', '1', '419.9', 'Mexico '],\n   ['2277', '3/15/1999', '8650           ', '1', '251.9', 'Mexico '],\n   ['491', '3/15/1999', '8650           ', '1', '815.3', 'Mexico '],\n   ['467', '6/8/2002', '8650           ', '1', '900.6', 'Mexico '],\n   ['565', '4/12/2003', '2000           ', '1', '890.7', 'Mexico '],\n   ['604', '4/12/2003', '2000           ', '1', '494.8', 'Mexico '],\n   ['940', '3/15/1999', '2000           ', '1', '687.7', 'Mexico '],\n   ['2277', '1/15/1999', '8640           ', '1', '251.9', 'Mexico '],\n   ['739', '1/15/1999', '2008           ', '1', '170.6', 'Mexico '],\n   ['2188', '1/15/1999', '2008           ', '1', '233.6', 'Mexico '],\n   ['1894', '1/15/1999', '2008           ', '1', '682.2', 'Mexico '],\n   ['757', '4/11/2003', '2008           ', '1', '73.5', 'Mexico '],\n   ['758', '4/11/2003', '2008           ', '1', '73.5', 'Mexico '],\n   ['2373', '3/15/1999', '2008           ', '1', '551.2', 'Mexico '],\n   ['606', '1/15/1999', '8830           ', '1', '314.7', 'Mexico '],\n   ['2082', '4/10/2003', '8830           ', '1', '335.9', 'Mexico '],\n   ['2284', '2/15/1999', '8830           ', '1', '293.9', 'Mexico '],\n   ['2055', '6/3/2002', '2009           ', '1', '569.6', 'Mexico '],\n   ['396', '3/15/1999', '2009           ', '1', '857.1', 'Mexico '],\n   ['658', '1/15/1999', '9130           ', '1', '902.7', 'Mexico '],\n   ['992', '4/11/2003', '9130           ', '1', '278.2', 'Mexico '],\n   ['2282', '1/15/1999', '9130           ', '1', '304.4', 'Mexico '],\n   ['2255', '5/31/2002', '9130           ', '1', '60.3', 'Mexico '],\n   ['1182', '2/15/1999', '9130           ', '1', '157.4', 'Mexico '],\n   ['2056', '2/15/1999', '9130           ', '1', '325.4', 'Mexico '],\n   ['2254', '5/31/2002', '9130           ', '1', '60.3', 'Mexico '],\n   ['671', '6/3/2002', '9130           ', '1', '892.2', 'Mexico '],\n   ['687', '1/15/1999', '9160           ', '1', '446', 'Mexico '],\n   ['599', '2/15/1999', '9160           ', '1', '753.6', 'Mexico '],\n   ['1927', '5/31/2002', '9160           ', '1', '99.7', 'Mexico '],\n   ['1926', '5/31/2002', '9160           ', '1', '99.7', 'Mexico '],\n   ['2074', '5/31/2002', '9160           ', '1', '335.9', 'Mexico '],\n   ['683', '3/15/1999', '2020           ', '1', '788', 'Mexico '],\n   ['713', '1/15/1999', '7708           ', '1', '160.1', 'Mexico '],\n   ['1116', '2/15/1999', '7708           ', '1', '251.9', 'Mexico '],\n   ['725', '1/15/1999', '9410           ', '1', '115.5', 'Mexico '],\n   ['2388', '2/15/1999', '9410           ', '1', '309.7', 'Mexico '],\n   ['2045', '2/15/1999', '9410           ', '1', '409.4', 'Mexico '],\n   ['2234', '2/15/1999', '9410           ', '1', '65.6', 'Mexico '],\n   ['726', '1/15/1999', '9410           ', '1', '115.5', 'Mexico '],\n   ['758', '1/15/1999', '9410           ', '1', '84', 'Mexico '],\n   ['767', '1/15/1999', '9410           ', '1', '105', 'Mexico '],\n   ['2235', '2/15/1999', '9410           ', '1', '65.6', 'Mexico '],\n   ['726', '1/15/1999', '8730           ', '1', '115.5', 'Mexico '],\n   ['728', '2/15/1999', '8730           ', '1', '63', 'Mexico '],\n   ['725', '1/15/1999', '8730           ', '1', '115.5', 'Mexico '],\n   ['727', '2/15/1999', '8730           ', '1', '63', 'Mexico '],\n   ['433', '1/15/1999', '2060           ', '1', '804.3', 'Mexico '],\n   ['728', '1/15/1999', '8010           ', '1', '63', 'Mexico '],\n   ['1990', '2/15/1999', '8010           ', '1', '257.2', 'Mexico '],\n   ['727', '1/15/1999', '8010           ', '1', '63', 'Mexico '],\n   ['1116', '1/15/1999', '8010           ', '1', '251.9', 'Mexico '],\n   ['2083', '3/15/1999', '8010           ', '1', '309.7', 'Mexico '],\n   ['981', '1/15/1999', '2070           ', '1', '157.4', 'Mexico '],\n   ['2235', '1/15/1999', '2070           ', '1', '65.6', 'Mexico '],\n   ['740', '1/15/1999', '7740           ', '1', '170.6', 'Mexico '],\n   ['739', '1/15/1999', '7740           ', '1', '170.6', 'Mexico '],\n   ['2211', '1/15/1999', '7740           ', '1', '107.6', 'Mexico '],\n   ['2234', '1/15/1999', '7740           ', '1', '65.6', 'Mexico '],\n   ['609', '2/15/1999', '7740           ', '1', '778.8', 'Mexico '],\n   ['2284', '3/15/1999', '7740           ', '1', '293.9', 'Mexico '],\n   ['757', '1/15/1999', '7580           ', '2', '167.9', 'Mexico '],\n   ['1173', '2/15/1999', '7580           ', '1', '525', 'Mexico '],\n   ['491', '2/15/1999', '7580           ', '2', '1630.7', 'Mexico '],\n   ['574', '6/3/2002', '7580           ', '1', '869.1', 'Mexico '],\n   ['443', '2/15/1999', '7580           ', '1', '790.9', 'Mexico '],\n   ['597', '2/15/1999', '7580           ', '1', '892.2', 'Mexico '],\n   ['433', '1/15/1999', '7580           ', '1', '804.3', 'Mexico '],\n   ['491', '1/15/1999', '7580           ', '2', '1630.7', 'Mexico '],\n   ['767', '1/15/1999', '7580           ', '1', '105', 'Mexico '],\n   ['1975', '1/15/1999', '7580           ', '1', '52.5', 'Mexico '],\n   ['2270', '5/31/2002', '7580           ', '1', '314.9', 'Mexico '],\n   ['2094', '2/15/1999', '7580           ', '1', '433.1', 'Mexico '],\n   ['2277', '2/15/1999', '7580           ', '1', '251.9', 'Mexico '],\n   ['1185', '2/15/1999', '7580           ', '1', '419.9', 'Mexico '],\n   ['426', '2/15/1999', '7580           ', '1', '795.1', 'Mexico '],\n   ['533', '6/3/2002', '7580           ', '1', '524.7', 'Mexico '],\n   ['676', '3/15/1999', '7580           ', '2', '1603.9', 'Mexico '],\n   ['758', '1/15/1999', '9400           ', '1', '84', 'Mexico '],\n   ['2373', '4/10/2003', '9400           ', '1', '619.5', 'Mexico '],\n   ['1920', '6/4/2002', '9400           ', '1', '262.4', 'Mexico '],\n   ['2211', '1/15/1999', '9400           ', '1', '107.6', 'Mexico '],\n   ['1122', '2/15/1999', '9400           ', '1', '157.4', 'Mexico '],\n   ['604', '2/15/1999', '9400           ', '1', '461.7', 'Mexico '],\n   ['772', '1/15/1999', '9330           ', '1', '165.3', 'Mexico '],\n   ['979', '1/15/1999', '8188           ', '1', '393.7', 'Mexico '],\n   ['631', '2/15/1999', '2109           ', '1', '346.2', 'Mexico '],\n   ['1120', '1/15/1999', '7729           ', '1', '173.2', 'Mexico '],\n   ['606', '4/11/2003', '7729           ', '1', '337.8', 'Mexico '],\n   ['2234', '2/15/1999', '7729           ', '1', '65.6', 'Mexico '],\n   ['1916', '6/5/2002', '7729           ', '1', '286.1', 'Mexico '],\n   ['2235', '2/15/1999', '7729           ', '1', '65.6', 'Mexico '],\n   ['1517', '3/15/1999', '7729           ', '1', '141.7', 'Mexico '],\n   ['728', '3/15/1999', '7729           ', '1', '63', 'Mexico '],\n   ['499', '1/15/1999', '2110           ', '1', '846.3', 'Mexico '],\n   ['730', '5/31/2002', '2110           ', '1', '309.7', 'Mexico '],\n   ['823', '5/31/2002', '2110           ', '1', '624.7', 'Mexico '],\n   ['826', '5/31/2002', '2110           ', '1', '918.7', 'Mexico '],\n   ['2081', '1/15/1999', '2110           ', '1', '220.4', 'Mexico '],\n   ['1065', '2/15/1999', '2110           ', '1', '296.6', 'Mexico '],\n   ['2268', '3/15/1999', '2110           ', '1', '309.7', 'Mexico '],\n   ['1990', '1/15/1999', '9010           ', '1', '257.2', 'Mexico '],\n   ['559', '4/10/2003', '9010           ', '1', '643.4', 'Mexico '],\n   ['1948', '1/15/1999', '9010           ', '2', '593.1', 'Mexico '],\n   ['400', '1/15/1999', '9010           ', '1', '683.8', 'Mexico '],\n   ['910', '2/15/1999', '9010           ', '1', '414.7', 'Mexico '],\n   ['2192', '3/15/1999', '9010           ', '1', '202.1', 'Mexico '],\n   ['2331', '1/15/1999', '7880           ', '1', '535.5', 'Mexico '],\n   ['596', '2/15/1999', '7880           ', '1', '746.5', 'Mexico '],\n   ['2016', '4/10/2003', '7880           ', '1', '309.7', 'Mexico '],\n   ['964', '4/11/2003', '7880           ', '1', '330.7', 'Mexico '],\n   ['580', '2/15/1999', '7880           ', '1', '734.7', 'Mexico '],\n   ['1935', '5/31/2002', '7880           ', '1', '136.4', 'Mexico '],\n   ['981', '2/15/1999', '7880           ', '1', '157.4', 'Mexico '],\n   ['1133', '6/3/2002', '2125           ', '1', '645.7', 'Mexico '],\n   ['193', '2/15/1999', '8500           ', '1', '682', 'Mexico '],\n   ['2279', '2/15/1999', '8500           ', '1', '165.3', 'Mexico '],\n   ['767', '1/15/1999', '8500           ', '1', '105', 'Mexico '],\n   ['1116', '2/15/1999', '8500           ', '1', '251.9', 'Mexico '],\n   ['726', '6/8/2002', '8500           ', '1', '120.7', 'Mexico '],\n   ['725', '6/8/2002', '8500           ', '1', '120.7', 'Mexico '],\n   ['433', '2/15/1999', '9300           ', '1', '804.3', 'Mexico '],\n   ['491', '2/15/1999', '9300           ', '1', '815.3', 'Mexico '],\n   ['1956', '2/15/1999', '9300           ', '1', '153.8', 'Mexico '],\n   ['1957', '2/15/1999', '9300           ', '1', '153.8', 'Mexico '],\n   ['2071', '5/31/2002', '9300           ', '1', '346.4', 'Mexico '],\n   ['550', '2/15/1999', '9300           ', '1', '404', 'Mexico '],\n   ['2083', '2/15/1999', '9300           ', '1', '309.7', 'Mexico '],\n   ['758', '1/15/1999', '2128           ', '2', '167.9', 'Mexico '],\n   ['757', '1/15/1999', '2128           ', '2', '167.9', 'Mexico '],\n   ['2012', '3/15/1999', '2128           ', '1', '377.9', 'Mexico '],\n   ['482', '2/15/1999', '9260           ', '1', '672', 'Mexico '],\n   ['491', '4/12/2003', '2129           ', '1', '890.7', 'Mexico '],\n   ['2094', '6/4/2002', '2129           ', '1', '438.3', 'Mexico '],\n   ['727', '3/15/1999', '2129           ', '1', '63', 'Mexico '],\n   ['901', '3/15/1999', '2129           ', '1', '409.4', 'Mexico '],\n   ['532', '2/15/1999', '2140           ', '1', '556.5', 'Mexico '],\n   ['604', '2/15/1999', '7800           ', '1', '461.7', 'Mexico '],\n   ['550', '2/15/1999', '7800           ', '2', '808', 'Mexico '],\n   ['318', '1/15/1999', '7800           ', '1', '866', 'Mexico '],\n   ['573', '1/15/1999', '7800           ', '1', '275.4', 'Mexico '],\n   ['2234', '1/15/1999', '7800           ', '1', '65.6', 'Mexico '],\n   ['400', '2/15/1999', '7800           ', '1', '683.8', 'Mexico '],\n   ['1436', '3/15/1999', '7800           ', '1', '312.3', 'Mexico '],\n   ['2005', '3/15/1999', '7800           ', '1', '299.2', 'Mexico '],\n   ['713', '2/15/1999', '7570           ', '1', '160.1', 'Mexico '],\n   ['714', '2/15/1999', '7570           ', '1', '160.1', 'Mexico '],\n   ['1182', '2/15/1999', '7570           ', '1', '157.4', 'Mexico '],\n   ['797', '1/15/1999', '7570           ', '1', '301.8', 'Mexico '],\n   ['1915', '5/31/2002', '7570           ', '1', '467.2', 'Mexico '],\n   ['976', '5/31/2002', '7570           ', '2', '629.9', 'Mexico '],\n   ['727', '1/15/1999', '7570           ', '1', '63', 'Mexico '],\n   ['767', '2/15/1999', '7570           ', '1', '105', 'Mexico '],\n   ['426', '3/15/1999', '7570           ', '1', '795.1', 'Mexico '],\n   ['768', '2/15/1999', '7570           ', '1', '105', 'Mexico '],\n   ['400', '4/12/2003', '2160           ', '1', '772.3', 'Mexico '],\n   ['725', '2/15/1999', '9359           ', '1', '115.5', 'Mexico '],\n   ['726', '2/15/1999', '9359           ', '1', '115.5', 'Mexico '],\n   ['946', '5/31/2002', '2169           ', '1', '708.7', 'Mexico '],\n   ['758', '1/15/1999', '2169           ', '1', '84', 'Mexico '],\n   ['757', '3/15/1999', '2169           ', '1', '84', 'Mexico '],\n   ['550', '2/15/1999', '2169           ', '1', '404', 'Mexico '],\n   ['1045', '6/3/2002', '2169           ', '1', '217.8', 'Mexico '],\n   ['1173', '2/15/1999', '2169           ', '1', '525', 'Mexico '],\n   ['2081', '2/15/1999', '2200           ', '2', '440.9', 'Mexico '],\n   ['767', '2/15/1999', '7909           ', '1', '105', 'Mexico '],\n   ['2331', '2/15/1999', '7909           ', '1', '535.5', 'Mexico '],\n   ['513', '2/15/1999', '7909           ', '1', '451.4', 'Mexico '],\n   ['754', '2/15/1999', '7909           ', '1', '244.1', 'Mexico '],\n   ['768', '2/15/1999', '7909           ', '1', '105', 'Mexico '],\n   ['753', '2/15/1999', '7909           ', '1', '244.1', 'Mexico '],\n   ['2050', '2/15/1999', '7909           ', '1', '498.7', 'Mexico '],\n   ['992', '3/15/1999', '7909           ', '1', '278.2', 'Mexico '],\n   ['769', '2/15/1999', '7548           ', '1', '257.2', 'Mexico '],\n   ['770', '2/15/1999', '7548           ', '1', '257.2', 'Mexico '],\n   ['725', '1/15/1999', '2240           ', '1', '115.5', 'Mexico '],\n   ['769', '2/15/1999', '9200           ', '1', '257.2', 'Mexico '],\n   ['396', '2/15/1999', '9200           ', '1', '857.1', 'Mexico '],\n   ['770', '2/15/1999', '9200           ', '1', '257.2', 'Mexico '],\n   ['901', '2/15/1999', '9200           ', '1', '409.4', 'Mexico '],\n   ['443', '2/15/1999', '9200           ', '1', '790.9', 'Mexico '],\n   ['1168', '6/3/2002', '9200           ', '1', '377.9', 'Mexico '],\n   ['754', '3/15/1999', '9200           ', '1', '241.4', 'Mexico '],\n   ['726', '1/15/1999', '2250           ', '1', '115.5', 'Mexico '],\n   ['758', '1/15/1999', '2250           ', '1', '84', 'Mexico '],\n   ['491', '4/12/2003', '2250           ', '1', '890.7', 'Mexico '],\n   ['767', '1/15/1999', '2250           ', '1', '105', 'Mexico '],\n   ['2388', '2/15/1999', '2250           ', '1', '309.7', 'Mexico '],\n   ['769', '2/15/1999', '9249           ', '1', '251.9', 'Mexico '],\n   ['770', '2/15/1999', '9249           ', '1', '251.9', 'Mexico '],\n   ['609', '1/15/1999', '2260           ', '1', '778.8', 'Mexico '],\n   ['599', '1/15/1999', '2310           ', '1', '753.6', 'Mexico '],\n   ['1188', '2/15/1999', '9099           ', '1', '472.4', 'Mexico '],\n   ['940', '2/15/1999', '2320           ', '1', '687.7', 'Mexico '],\n   ['2120', '2/15/1999', '2320           ', '1', '524.7', 'Mexico '],\n   ['1969', '2/15/1999', '7859           ', '2', '477.6', 'Mexico '],\n   ['713', '2/15/1999', '7859           ', '1', '160.1', 'Mexico '],\n   ['2255', '2/15/1999', '7859           ', '1', '57.7', 'Mexico '],\n   ['2188', '1/15/1999', '7859           ', '1', '233.6', 'Mexico '],\n   ['826', '5/31/2002', '7859           ', '1', '918.7', 'Mexico '],\n   ['2254', '2/15/1999', '7859           ', '1', '57.7', 'Mexico '],\n   ['714', '2/15/1999', '7859           ', '1', '160.1', 'Mexico '],\n   ['1968', '2/15/1999', '7859           ', '2', '477.6', 'Mexico '],\n   ['1139', '6/3/2002', '7859           ', '1', '682.5', 'Mexico '],\n   ['2374', '3/15/1999', '7859           ', '1', '630', 'Mexico '],\n   ['725', '1/15/1999', '2330           ', '1', '115.5', 'Mexico '],\n   ['728', '1/15/1999', '2330           ', '1', '63', 'Mexico '],\n   ['2380', '5/31/2002', '2330           ', '1', '293.9', 'Mexico '],\n   ['2352', '2/15/1999', '2330           ', '1', '367.4', 'Mexico '],\n   ['725', '3/15/1999', '2330           ', '1', '115.5', 'Mexico '],\n   ['604', '1/15/1999', '2340           ', '1', '461.7', 'Mexico '],\n   ['2331', '2/15/1999', '2340           ', '1', '535.5', 'Mexico '],\n   ['550', '2/15/1999', '2340           ', '1', '404', 'Mexico '],\n   ['714', '3/15/1999', '2340           ', '1', '160.1', 'Mexico '],\n   ['2081', '2/15/1999', '7780           ', '1', '220.4', 'Mexico '],\n   ['2204', '2/15/1999', '9540           ', '1', '173.2', 'Mexico '],\n   ['910', '5/31/2002', '9540           ', '1', '430.4', 'Mexico '],\n   ['2053', '6/3/2002', '9540           ', '1', '325.4', 'Mexico '],\n   ['559', '2/15/1999', '9540           ', '1', '585.6', 'Mexico '],\n   ['2255', '2/15/1999', '9540           ', '1', '57.7', 'Mexico '],\n   ['559', '5/31/2002', '9540           ', '1', '624.5', 'Mexico '],\n   ['2081', '2/15/1999', '9540           ', '1', '220.4', 'Mexico '],\n   ['901', '2/15/1999', '9540           ', '1', '409.4', 'Mexico '],\n   ['2205', '2/15/1999', '9540           ', '1', '173.2', 'Mexico '],\n   ['1168', '2/15/1999', '9540           ', '1', '367.4', 'Mexico '],\n   ['2254', '2/15/1999', '9540           ', '1', '57.7', 'Mexico '],\n   ['2352', '3/15/1999', '9540           ', '1', '367.4', 'Mexico '],\n   ['2255', '1/15/1999', '2360           ', '1', '57.7', 'Mexico '],\n   ['981', '1/15/1999', '2360           ', '1', '167.9', 'Mexico '],\n   ['597', '3/15/1999', '2360           ', '1', '892.2', 'Mexico '],\n   ['2211', '2/15/1999', '9430           ', '1', '107.6', 'Mexico '],\n   ['491', '4/11/2003', '9430           ', '1', '890.7', 'Mexico '],\n   ['1144', '6/6/2002', '9430           ', '1', '414.7', 'Mexico '],\n   ['2210', '2/15/1999', '9430           ', '1', '107.6', 'Mexico '],\n   ['645', '1/15/1999', '2400           ', '1', '746.5', 'Mexico '],\n   ['606', '2/15/1999', '2400           ', '1', '314.7', 'Mexico '],\n   ['2235', '2/15/1999', '8760           ', '1', '65.6', 'Mexico '],\n   ['964', '5/31/2002', '8760           ', '2', '656.1', 'Mexico '],\n   ['979', '2/15/1999', '8760           ', '1', '393.7', 'Mexico '],\n   ['2235', '1/15/1999', '8760           ', '1', '65.6', 'Mexico '],\n   ['1436', '1/15/1999', '8760           ', '1', '312.3', 'Mexico '],\n   ['396', '1/15/1999', '8760           ', '1', '857.1', 'Mexico '],\n   ['2234', '2/15/1999', '8760           ', '1', '65.6', 'Mexico '],\n   ['2388', '2/15/1999', '8760           ', '1', '309.7', 'Mexico '],\n   ['992', '3/15/1999', '8760           ', '1', '288.7', 'Mexico '],\n   ['2380', '3/15/1999', '8760           ', '1', '309.7', 'Mexico '],\n   ['2255', '2/15/1999', '8030           ', '1', '57.7', 'Mexico '],\n   ['2254', '2/15/1999', '8030           ', '1', '57.7', 'Mexico '],\n   ['2277', '2/15/1999', '7550           ', '1', '251.9', 'Mexico '],\n   ['1047', '4/10/2003', '7550           ', '1', '209.9', 'Mexico '],\n   ['989', '5/31/2002', '7550           ', '1', '419.9', 'Mexico '],\n   ['1935', '6/3/2002', '7550           ', '1', '136.4', 'Mexico '],\n   ['513', '2/15/1999', '7550           ', '1', '451.4', 'Mexico '],\n   ['609', '2/15/1999', '7550           ', '1', '778.8', 'Mexico '],\n   ['725', '2/15/1999', '7550           ', '1', '115.5', 'Mexico '],\n   ['1065', '2/15/1999', '7550           ', '1', '296.6', 'Mexico '],\n   ['433', '1/15/1999', '7550           ', '2', '1608.6', 'Mexico '],\n   ['726', '1/15/1999', '7550           ', '1', '115.5', 'Mexico '],\n   ['726', '2/15/1999', '7550           ', '1', '115.5', 'Mexico '],\n   ['767', '2/15/1999', '7550           ', '1', '105', 'Mexico '],\n   ['1066', '2/15/1999', '7550           ', '1', '296.6', 'Mexico '],\n   ['559', '2/15/1999', '7550           ', '1', '585.6', 'Mexico '],\n   ['768', '2/15/1999', '7550           ', '1', '105', 'Mexico '],\n   ['573', '2/15/1999', '7550           ', '1', '280.6', 'Mexico '],\n   ['1934', '6/3/2002', '7550           ', '1', '136.4', 'Mexico '],\n   ['475', '6/3/2002', '7550           ', '1', '1007.2', 'Mexico '],\n   ['2373', '3/15/1999', '7550           ', '1', '551.2', 'Mexico '],\n   ['989', '6/7/2002', '7550           ', '1', '419.9', 'Mexico '],\n   ['2277', '2/15/1999', '7889           ', '1', '251.9', 'Mexico '],\n   ['1173', '3/15/1999', '2420           ', '1', '525', 'Mexico '],\n   ['2373', '2/15/1999', '9207           ', '1', '551.2', 'Mexico '],\n   ['396', '2/15/1999', '9207           ', '2', '1714.1', 'Mexico '],\n   ['2388', '1/15/1999', '9207           ', '1', '309.7', 'Mexico '],\n   ['1085', '5/31/2002', '9207           ', '1', '84', 'Mexico '],\n   ['1201', '5/31/2002', '9207           ', '1', '577.5', 'Mexico '],\n   ['1927', '5/31/2002', '9207           ', '1', '99.7', 'Mexico '],\n   ['1086', '5/31/2002', '9207           ', '1', '84', 'Mexico '],\n   ['852', '2/15/1999', '9207           ', '1', '761.2', 'Mexico '],\n   ['94', '2/15/1999', '9207           ', '1', '866.2', 'Mexico '],\n   ['604', '2/15/1999', '9207           ', '1', '461.7', 'Mexico '],\n   ['2012', '3/15/1999', '9207           ', '1', '377.9', 'Mexico '],\n   ['2047', '3/15/1999', '9207           ', '1', '377.9', 'Mexico '],\n   ['2070', '3/15/1999', '9207           ', '1', '519.7', 'Mexico '],\n   ['729', '3/15/1999', '9207           ', '1', '301.8', 'Mexico '],\n   ['396', '2/15/1999', '7810           ', '1', '857.1', 'Mexico '],\n   ['2234', '3/15/1999', '2450           ', '1', '65.6', 'Mexico '],\n   ['433', '2/15/1999', '9479           ', '1', '804.3', 'Mexico '],\n   ['966', '5/31/2002', '9479           ', '1', '472.4', 'Mexico '],\n   ['989', '2/15/1999', '9479           ', '1', '467.2', 'Mexico '],\n   ['2192', '2/15/1999', '9479           ', '1', '202.1', 'Mexico '],\n   ['725', '1/15/1999', '2460           ', '1', '115.5', 'Mexico '],\n   ['767', '1/15/1999', '2470           ', '1', '105', 'Mexico '],\n   ['757', '3/15/1999', '2470           ', '1', '84', 'Mexico '],\n   ['551', '4/11/2003', '2470           ', '1', '922.2', 'Mexico '],\n   ['573', '2/15/1999', '7930           ', '1', '280.6', 'Mexico '],\n   ['2251', '4/11/2003', '7930           ', '1', '126', 'Mexico '],\n   ['1081', '2/15/1999', '2479           ', '1', '225.7', 'Mexico '],\n   ['604', '2/15/1999', '8820           ', '1', '461.7', 'Mexico '],\n   ['2081', '5/31/2002', '8820           ', '1', '225.7', 'Mexico '],\n   ['786', '5/31/2002', '8820           ', '1', '68.2', 'Mexico '],\n   ['2054', '5/31/2002', '8820           ', '1', '546', 'Mexico '],\n   ['1173', '2/15/1999', '8820           ', '1', '525', 'Mexico '],\n   ['609', '2/15/1999', '8820           ', '1', '778.8', 'Mexico '],\n   ['676', '2/15/1999', '8820           ', '1', '801.9', 'Mexico '],\n   ['1110', '3/15/1999', '8820           ', '1', '209.9', 'Mexico '],\n   ['2253', '4/10/2003', '7890           ', '1', '136.4', 'Mexico '],\n   ['2252', '4/10/2003', '7890           ', '1', '136.4', 'Mexico '],\n   ['2359', '6/5/2002', '7890           ', '1', '430.4', 'Mexico '],\n   ['2252', '4/10/2003', '7910           ', '1', '136.4', 'Mexico '],\n   ['2359', '5/31/2002', '7910           ', '1', '430.4', 'Mexico '],\n   ['1227', '6/4/2002', '2500           ', '1', '314.9', 'Mexico '],\n   ['1974', '4/10/2003', '8810           ', '1', '57.7', 'Mexico '],\n   ['1980', '4/10/2003', '8810           ', '1', '167.9', 'Mexico '],\n   ['1109', '4/11/2003', '2519           ', '1', '209.9', 'Mexico '],\n   ['1110', '4/11/2003', '2519           ', '1', '209.9', 'Mexico '],\n   ['550', '4/10/2003', '2519           ', '1', '433.4', 'Mexico '],\n   ['604', '3/15/1999', '2519           ', '2', '923.5', 'Mexico '],\n   ['2204', '3/15/1999', '2525           ', '1', '173.2', 'Mexico '],\n   ['676', '4/10/2003', '8770           ', '1', '856.3', 'Mexico '],\n   ['1005', '4/11/2003', '2530           ', '1', '110.2', 'Mexico '],\n   ['1000', '4/10/2003', '2530           ', '2', '178.4', 'Mexico '],\n   ['1203', '2/15/1999', '2530           ', '1', '314.9', 'Mexico '],\n   ['895', '4/10/2003', '8580           ', '1', '577.5', 'Mexico '],\n   ['559', '6/4/2002', '8580           ', '1', '624.5', 'Mexico '],\n   ['1173', '2/15/1999', '8580           ', '1', '525', 'Mexico '],\n   ['1174', '6/3/2002', '8580           ', '1', '577.5', 'Mexico '],\n   ['1110', '4/11/2003', '2640           ', '1', '209.9', 'Mexico '],\n   ['1109', '4/11/2003', '2640           ', '1', '209.9', 'Mexico '],\n   ['2407', '4/13/2003', '2640           ', '1', '81.3', 'Mexico '],\n   ['443', '4/11/2003', '7760           ', '1', '851.3', 'Mexico '],\n   ['2254', '2/15/1999', '7760           ', '1', '57.7', 'Mexico '],\n   ['645', '1/15/1999', '7760           ', '1', '746.5', 'Mexico '],\n   ['1005', '1/15/1999', '7760           ', '1', '107.6', 'Mexico '],\n   ['758', '1/15/1999', '7760           ', '1', '84', 'Mexico '],\n   ['1106', '2/15/1999', '7760           ', '1', '246.7', 'Mexico '],\n   ['1132', '2/15/1999', '7760           ', '1', '630', 'Mexico '],\n   ['1105', '2/15/1999', '7760           ', '1', '246.7', 'Mexico '],\n   ['2255', '2/15/1999', '7760           ', '1', '57.7', 'Mexico '],\n   ['1911', '3/15/1999', '7760           ', '1', '244.1', 'Mexico '],\n   ['1157', '1/15/1999', '2680           ', '1', '377.9', 'Mexico '],\n   ['1046', '1/15/1999', '2710           ', '1', '99.7', 'Mexico '],\n   ['952', '5/31/2002', '2710           ', '1', '262.4', 'Mexico '],\n   ['964', '5/31/2002', '7540           ', '1', '330.7', 'Mexico '],\n   ['838', '2/15/1999', '7540           ', '1', '934.5', 'Mexico '],\n   ['964', '1/15/1999', '2729           ', '1', '346.4', 'Mexico '],\n   ['2282', '1/15/1999', '2729           ', '1', '304.4', 'Mexico '],\n   ['728', '1/15/1999', '2729           ', '1', '63', 'Mexico '],\n   ['852', '3/15/1999', '2729           ', '1', '745.5', 'Mexico '],\n   ['910', '4/12/2003', '2729           ', '1', '430.4', 'Mexico '],\n   ['976', '4/12/2003', '2729           ', '1', '325.4', 'Mexico '],\n   ['2074', '2/15/1999', '2729           ', '1', '328.1', 'Mexico '],\n   ['1148', '6/3/2002', '2729           ', '1', '314.9', 'Mexico '],\n   ['609', '2/15/1999', '2729           ', '1', '778.8', 'Mexico '],\n   ['676', '2/15/1999', '2729           ', '1', '801.9', 'Mexico '],\n   ['1489', '2/15/1999', '2729           ', '1', '262.4', 'Mexico '],\n   ['604', '2/15/1999', '2729           ', '1', '461.7', 'Mexico\n\n*** WARNING: max output size exceeded, skipping output. ***\n\n'],\n   ['992', '4/11/2003', 'T6K            ', '1', '278.2', 'Canada '],\n   ['550', '4/11/2003', 'T1Y            ', '1', '433.4', 'Canada '],\n   ['910', '5/31/2002', 'V6A            ', '1', '430.4', 'Canada '],\n   ['915', '5/31/2002', 'V6R            ', '1', '556.4', 'Canada '],\n   ['946', '5/31/2002', 'T6V            ', '1', '708.7', 'Canada '],\n   ['964', '5/31/2002', 'V6Z            ', '2', '661.4', 'Canada '],\n   ['967', '5/31/2002', 'V5V            ', '1', '656.2', 'Canada '],\n   ['1061', '5/31/2002', 'T6J            ', '1', '149.6', 'Canada '],\n   ['726', '3/15/1999', 'T6H            ', '1', '115.4', 'Canada '],\n   ['757', '3/15/1999', 'T2X            ', '1', '83.9', 'Canada '],\n   ['910', '3/15/1999', 'T1Y            ', '1', '414.7', 'Canada '],\n   ['921', '3/15/1999', 'T6K            ', '1', '524.9', 'Canada '],\n   ['921', '3/15/1999', 'V7Y            ', '1', '524.9', 'Canada '],\n   ['935', '3/15/1999', 'T6S            ', '1', '488.2', 'Canada '],\n   ['936', '3/15/1999', 'T5K            ', '2', '997.4', 'Canada '],\n   ['981', '3/15/1999', 'V6Z            ', '1', '167.9', 'Canada '],\n   ['990', '3/15/1999', 'V6R            ', '1', '456.7', 'Canada '],\n   ['1106', '3/15/1999', 'T5V            ', '1', '246.7', 'Canada '],\n   ['1116', '3/15/1999', 'T5K            ', '1', '251.9', 'Canada '],\n   ['1188', '3/15/1999', 'V7Y            ', '1', '472.4', 'Canada '],\n   ['1318', '3/15/1999', 'T5H            ', '1', '307', 'Canada '],\n   ['1345', '3/15/1999', 'T5G            ', '1', '304.4', 'Canada '],\n   ['1347', '3/15/1999', 'V6R            ', '1', '299.1', 'Canada '],\n   ['1429', '3/15/1999', 'V6G            ', '1', '283.4', 'Canada '],\n   ['1949', '3/15/1999', 'V6T            ', '1', '296.6', 'Canada '],\n   ['1990', '3/15/1999', 'R2G            ', '1', '257.2', 'Canada '],\n   ['964', '4/11/2003', 'T6J            ', '1', '330.7', 'Canada '],\n   ['571', '4/11/2003', 'T6T            ', '1', '527.1', 'Canada '],\n   ['2064', '4/11/2003', 'V7W            ', '1', '496.1', 'Canada '],\n   ['691', '4/12/2003', 'T5K            ', '1', '356.7', 'Canada '],\n   ['966', '4/12/2003', 'T5Y            ', '1', '472.4', 'Canada '],\n   ['966', '4/12/2003', 'T6E            ', '1', '488.2', 'Canada '],\n   ['992', '4/12/2003', 'T6J            ', '1', '278.2', 'Canada '],\n   ['575', '4/12/2003', 'V6S            ', '1', '929.2', 'Canada '],\n   ['1005', '4/12/2003', 'V5Z            ', '1', '110.2', 'Canada '],\n   ['681', '4/12/2003', 'T6J            ', '1', '715.8', 'Canada '],\n   ['733', '4/12/2003', 'V5W            ', '1', '330.7', 'Canada '],\n   ['734', '4/12/2003', 'V5W            ', '1', '330.7', 'Canada '],\n   ['1006', '4/12/2003', 'V5V            ', '1', '89.2', 'Canada '],\n   ['964', '4/12/2003', 'T6J            ', '1', '320.2', 'Canada '],\n   ['976', '4/12/2003', 'T6W            ', '1', '325.4', 'Canada '],\n   ['967', '4/12/2003', 'T6V            ', '1', '671.9', 'Canada '],\n   ['573', '4/12/2003', 'T6S            ', '1', '313.7', 'Canada '],\n   ['2380', '4/13/2003', 'V6A            ', '1', '293.9', 'Canada '],\n   ['2353', '4/13/2003', 'V6A            ', '1', '414.7', 'Canada '],\n   ['2047', '3/15/1999', 'T5K            ', '1', '377.9', 'Canada '],\n   ['2083', '3/15/1999', 'T1Y            ', '1', '309.7', 'Canada '],\n   ['2234', '3/15/1999', 'V6A            ', '1', '65.6', 'Canada '],\n   ['2234', '3/15/1999', 'V7R            ', '1', '65.6', 'Canada '],\n   ['2235', '3/15/1999', 'V7W            ', '1', '65.6', 'Canada '],\n   ['2388', '3/15/1999', 'T6J            ', '1', '309.7', 'Canada '],\n   ['443', '3/15/1999', 'T1Y            ', '1', '790.9', 'Canada '],\n   ['475', '3/15/1999', 'V6A            ', '2', '1940.4', 'Canada '],\n   ['725', '3/15/1999', 'V6M            ', '1', '115.4', 'Canada '],\n   ['726', '3/15/1999', 'T3R            ', '1', '115.4', 'Canada '],\n   ['728', '3/15/1999', 'V6Z            ', '1', '68.2', 'Canada '],\n   ['757', '3/15/1999', 'V6M            ', '1', '83.9', 'Canada '],\n   ['767', '3/15/1999', 'T6T            ', '1', '104.9', 'Canada '],\n   ['768', '3/15/1999', 'V7T            ', '1', '104.9', 'Canada '],\n   ['768', '3/15/1999', 'V7W            ', '1', '104.9', 'Canada '],\n   ['914', '3/15/1999', 'T3G            ', '1', '577.4', 'Canada '],\n   ['935', '3/15/1999', 'T5V            ', '1', '488.2', 'Canada '],\n   ['1227', '6/10/2003', 'T5K            ', '1', '314.9', 'Canada '],\n   ['533', '6/10/2003', 'T3C            ', '1', '524.7', 'Canada '],\n   ['565', '6/10/2003', 'V5Z            ', '1', '890.7', 'Canada '],\n   ['606', '6/10/2003', 'T5K            ', '1', '337.8', 'Canada '],\n   ['1786', '6/10/2003', 'V6Z            ', '1', '629.9', 'Canada '],\n   ['759', '6/10/2003', 'T6E            ', '1', '146.9', 'Canada '],\n   ['1112', '3/15/1999', 'V6H            ', '1', '116.5', 'Canada '],\n   ['2254', '3/15/1999', 'V7M            ', '1', '57.7', 'Canada '],\n   ['2279', '3/15/1999', 'V5W            ', '1', '165.3', 'Canada '],\n   ['2282', '3/15/1999', 'V6A            ', '1', '304.4', 'Canada '],\n   ['2282', '3/15/1999', 'V6B            ', '2', '608.9', 'Canada '],\n   ['2331', '3/15/1999', 'T6T            ', '1', '535.4', 'Canada '],\n   ['2331', '3/15/1999', 'V5Z            ', '1', '535.4', 'Canada '],\n   ['396', '3/15/1999', 'V6G            ', '1', '857.1', 'Canada '],\n   ['443', '3/15/1999', 'V6Z            ', '1', '790.9', 'Canada '],\n   ['604', '3/15/1999', 'T6T            ', '1', '461.7', 'Canada '],\n   ['676', '3/15/1999', 'V5X            ', '1', '801.9', 'Canada '],\n   ['725', '3/15/1999', 'T3R            ', '1', '115.4', 'Canada '],\n   ['726', '3/15/1999', 'V6M            ', '1', '115.4', 'Canada '],\n   ['758', '3/15/1999', 'V6M            ', '1', '83.9', 'Canada '],\n   ['768', '3/15/1999', 'T2X            ', '1', '104.9', 'Canada '],\n   ['989', '3/15/1999', 'V6A            ', '1', '451.4', 'Canada '],\n   ['1008', '3/15/1999', 'T5J            ', '1', '236.2', 'Canada '],\n   ['769', '1/15/1999', 'V5V            ', '1', '257.2', 'Canada '],\n   ['796', '1/15/1999', 'V5Z            ', '1', '275.6', 'Canada '],\n   ['797', '1/15/1999', 'V6M            ', '1', '301.8', 'Canada '],\n   ['962', '1/15/1999', 'T1Y            ', '1', '524.9', 'Canada '],\n   ['1003', '1/15/1999', 'T3G            ', '1', '86.6', 'Canada '],\n   ['1066', '1/15/1999', 'T2T            ', '1', '296.6', 'Canada '],\n   ['1079', '1/15/1999', 'V6B            ', '1', '262.4', 'Canada '],\n   ['2234', '1/15/1999', 'V6T            ', '1', '65.6', 'Canada '],\n   ['2235', '1/15/1999', 'V6G            ', '1', '65.6', 'Canada '],\n   ['2255', '1/15/1999', 'V7M            ', '1', '57.7', 'Canada '],\n   ['2388', '1/15/1999', 'R2P            ', '1', '309.7', 'Canada '],\n   ['604', '1/15/1999', 'T6S            ', '1', '461.7', 'Canada '],\n   ['631', '1/15/1999', 'T6T            ', '1', '346.2', 'Canada '],\n   ['725', '1/15/1999', 'T2X            ', '1', '115.4', 'Canada '],\n   ['769', '1/15/1999', 'V6H            ', '1', '257.2', 'Canada '],\n   ['1014', '1/15/1999', 'V6T            ', '1', '86.6', 'Canada '],\n   ['1014', '1/15/1999', 'R2G            ', '1', '86.6', 'Canada '],\n   ['1949', '1/15/1999', 'R2G            ', '1', '296.6', 'Canada '],\n   ['2234', '1/15/1999', 'V5W            ', '1', '65.6', 'Canada '],\n   ['2254', '1/15/1999', 'V6M            ', '1', '57.7', 'Canada '],\n   ['2255', '1/15/1999', 'V5Y            ', '1', '57.7', 'Canada '],\n   ['433', '1/15/1999', 'T6E            ', '1', '804.3', 'Canada '],\n   ['491', '1/15/1999', 'T6R            ', '1', '815.3', 'Canada '],\n   ['606', '1/15/1999', 'T6T            ', '1', '314.7', 'Canada '],\n   ['645', '1/15/1999', 'T6R            ', '1', '746.5', 'Canada '],\n   ['683', '1/15/1999', 'T5G            ', '1', '788', 'Canada '],\n   ['713', '1/15/1999', 'V6T            ', '1', '160.1', 'Canada '],\n   ['604', '5/31/2002', 'V5N            ', '1', '480.6', 'Canada '],\n   ['726', '5/31/2002', 'T2C            ', '1', '120.7', 'Canada '],\n   ['785', '5/31/2002', 'R2G            ', '2', '136.4', 'Canada '],\n   ['1006', '5/31/2002', 'V5Z            ', '1', '89.2', 'Canada '],\n   ['2045', '5/31/2002', 'T6K            ', '1', '419.9', 'Canada '],\n   ['2054', '5/31/2002', 'T6X            ', '1', '545.9', 'Canada '],\n   ['2071', '5/31/2002', 'V6G            ', '1', '346.4', 'Canada '],\n   ['475', '4/10/2003', 'V7Y            ', '1', '1037.4', 'Canada '],\n   ['508', '4/10/2003', 'V6G            ', '1', '969.7', 'Canada '],\n   ['617', '4/10/2003', 'V6H            ', '1', '844.7', 'Canada '],\n   ['726', '1/15/1999', 'T5V            ', '1', '115.4', 'Canada '],\n   ['767', '1/15/1999', 'T5Y            ', '1', '102.3', 'Canada '],\n   ['767', '1/15/1999', 'V6Z            ', '1', '104.9', 'Canada '],\n   ['768', '1/15/1999', 'T5K            ', '1', '104.9', 'Canada '],\n   ['770', '1/15/1999', 'V5V            ', '1', '257.2', 'Canada '],\n   ['797', '1/15/1999', 'T2J            ', '1', '301.8', 'Canada '],\n   ['992', '1/15/1999', 'V6T            ', '1', '288.7', 'Canada '],\n   ['1005', '1/15/1999', 'T2X            ', '1', '107.6', 'Canada '],\n   ['2056', '1/15/1999', 'T2X            ', '1', '325.4', 'Canada '],\n   ['2056', '6/3/2002', 'T6T            ', '1', '330.7', 'Canada '],\n   ['2064', '6/3/2002', 'T2X            ', '1', '496.1', 'Canada '],\n   ['676', '6/5/2002', 'T6E            ', '1', '837.4', 'Canada '],\n   ['2331', '2/15/1999', 'T2X            ', '1', '535.4', 'Canada '],\n   ['2407', '2/15/1999', 'T3G            ', '1', '73.4', 'Canada '],\n   ['94', '2/15/1999', 'T6V            ', '1', '866.2', 'Canada '],\n   ['120', '2/15/1999', 'T3J            ', '1', '829.5', 'Canada '],\n   ['443', '2/15/1999', 'T5Y            ', '1', '790.9', 'Canada '],\n   ['645', '2/15/1999', 'T6T            ', '1', '746.5', 'Canada '],\n   ['658', '2/15/1999', 'T5W            ', '1', '902.7', 'Canada '],\n   ['681', '2/15/1999', 'T6E            ', '1', '629.7', 'Canada '],\n   ['739', '2/15/1999', 'V5N            ', '1', '170.6', 'Canada '],\n   ['753', '2/15/1999', 'V7N            ', '1', '244.1', 'Canada '],\n   ['767', '2/15/1999', 'V6M            ', '1', '104.9', 'Canada '],\n   ['838', '2/15/1999', 'V6Z            ', '1', '934.4', 'Canada '],\n   ['1173', '2/15/1999', 'V6C            ', '1', '524.9', 'Canada '],\n   ['1182', '2/15/1999', 'R2L            ', '1', '157.4', 'Canada '],\n   ['1450', '2/15/1999', 'T6V            ', '1', '118', 'Canada '],\n   ['2388', '2/15/1999', 'T2C            ', '1', '309.7', 'Canada '],\n   ['396', '2/15/1999', 'V5V            ', '1', '857.1', 'Canada '],\n   ['599', '2/15/1999', 'T6J            ', '1', '753.6', 'Canada '],\n   ['609', '2/15/1999', 'T2J            ', '1', '778.8', 'Canada '],\n   ['725', '2/15/1999', 'V5Z            ', '1', '115.4', 'Canada '],\n   ['728', '2/15/1999', 'V5Z            ', '1', '62.9', 'Canada '],\n   ['740', '2/15/1999', 'V6A            ', '1', '170.6', 'Canada '],\n   ['1065', '2/15/1999', 'T1Y            ', '1', '296.6', 'Canada '],\n   ['1116', '2/15/1999', 'T6E            ', '1', '251.9', 'Canada '],\n   ['1185', '2/15/1999', 'T6K            ', '1', '419.9', 'Canada '],\n   ['1425', '2/15/1999', 'V5Z            ', '1', '286', 'Canada '],\n   ['1641', '2/15/1999', 'T6K            ', '1', '70.8', 'Canada '],\n   ['1949', '2/15/1999', 'V6M            ', '1', '293.9', 'Canada '],\n   ['1975', '2/15/1999', 'T6T            ', '1', '52.4', 'Canada '],\n   ['2210', '2/15/1999', 'V7Y            ', '1', '107.6', 'Canada '],\n   ['396', '2/15/1999', 'V7W            ', '1', '857.1', 'Canada '],\n   ['2094', '3/15/1999', 'V6E            ', '1', '433.1', 'Canada '],\n   ['2126', '3/15/1999', 'T3C            ', '1', '472.2', 'Canada '],\n   ['2205', '3/15/1999', 'V7Y            ', '1', '173.2', 'Canada '],\n   ['2210', '3/15/1999', 'V5Z            ', '1', '104.9', 'Canada '],\n   ['2234', '3/15/1999', 'V7W            ', '1', '65.6', 'Canada '],\n   ['2255', '3/15/1999', 'V7M            ', '1', '57.7', 'Canada '],\n   ['2282', '3/15/1999', 'T2S            ', '1', '304.4', 'Canada '],\n   ['2284', '3/15/1999', 'T6T            ', '1', '293.9', 'Canada '],\n   ['318', '3/15/1999', 'T3G            ', '1', '866', 'Canada '],\n   ['609', '3/15/1999', 'V6G            ', '1', '778.8', 'Canada '],\n   ['740', '3/15/1999', 'V5N            ', '1', '170.6', 'Canada '],\n   ['910', '3/15/1999', 'R2L            ', '1', '414.7', 'Canada '],\n   ['921', '3/15/1999', 'V5W            ', '1', '524.9', 'Canada '],\n   ['981', '3/15/1999', 'T6R            ', '1', '167.9', 'Canada '],\n   ['992', '3/15/1999', 'V6J            ', '1', '288.7', 'Canada '],\n   ['1003', '3/15/1999', 'T3G            ', '1', '86.6', 'Canada '],\n   ['1014', '3/15/1999', 'V5Z            ', '1', '86.6', 'Canada '],\n   ['1106', '3/15/1999', 'V6Z            ', '1', '246.7', 'Canada '],\n   ['1110', '3/15/1999', 'T2J            ', '1', '209.9', 'Canada '],\n   ['1182', '3/15/1999', 'V6R            ', '1', '157.4', 'Canada '],\n   ['1215', '3/15/1999', 'T3G            ', '1', '356.9', 'Canada '],\n   ['1346', '3/15/1999', 'T5G            ', '1', '304.4', 'Canada '],\n   ['1974', '3/15/1999', 'V5N            ', '1', '52.4', 'Canada '],\n   ['2045', '3/15/1999', 'T5H            ', '1', '409.4', 'Canada '],\n   ['2047', '3/15/1999', 'V6Z            ', '1', '377.9', 'Canada '],\n   ['2056', '3/15/1999', 'V6R            ', '1', '325.4', 'Canada '],\n   ['2070', '3/15/1999', 'T5Y            ', '1', '519.7', 'Canada '],\n   ['2083', '3/15/1999', 'V6L            ', '1', '309.7', 'Canada '],\n   ['2083', '3/15/1999', 'V7Y            ', '1', '309.7', 'Canada '],\n   ['2234', '3/15/1999', 'T6T            ', '1', '65.6', 'Canada '],\n   ['2277', '3/15/1999', 'V5W            ', '1', '251.9', 'Canada '],\n   ['574', '6/10/2002', 'R2G            ', '1', '869.1', 'Canada '],\n   ['1003', '6/11/2002', 'T3C            ', '1', '86.6', 'Canada '],\n   ['910', '6/11/2002', 'T5K            ', '1', '430.4', 'Canada '],\n   ['94', '6/11/2002', 'T5B            ', '1', '892', 'Canada '],\n   ['596', '6/11/2002', 'T6H            ', '1', '776.7', 'Canada '],\n   ['2388', '6/11/2002', 'V7Y            ', '1', '309.7', 'Canada '],\n   ['671', '6/11/2002', 'V5W            ', '1', '892.2', 'Canada '],\n   ['976', '6/11/2002', 'T2J            ', '1', '314.9', 'Canada '],\n   ['1230', '6/12/2002', 'V5T            ', '1', '524.9', 'Canada '],\n   ['921', '4/15/1999', 'V5Y            ', '1', '524.9', 'Canada '],\n   ['1065', '4/15/1999', 'T3C            ', '1', '296.6', 'Canada '],\n   ['1081', '4/15/1999', 'V6B            ', '1', '225.7', 'Canada '],\n   ['1157', '4/15/1999', 'T6E            ', '1', '377.9', 'Canada '],\n   ['1157', '4/15/1999', 'V6G            ', '1', '377.9', 'Canada '],\n   ['1182', '4/15/1999', 'T6T            ', '1', '157.4', 'Canada '],\n   ['1182', '4/15/1999', 'R2G            ', '1', '157.4', 'Canada '],\n   ['1987', '5/31/2002', 'T6S            ', '1', '162.7', 'Canada '],\n   ['2253', '5/31/2002', 'T6R            ', '2', '272.9', 'Canada '],\n   ['2352', '5/31/2002', 'T5S            ', '1', '367.4', 'Canada '],\n   ['683', '2/15/1999', 'T2Y            ', '1', '788', 'Canada '],\n   ['687', '2/15/1999', 'T6T            ', '1', '446', 'Canada '],\n   ['727', '2/15/1999', 'V5Z            ', '1', '62.9', 'Canada '],\n   ['739', '2/15/1999', 'V6A            ', '1', '170.6', 'Canada '],\n   ['739', '2/15/1999', 'V6T            ', '1', '170.6', 'Canada '],\n   ['757', '2/15/1999', 'T2A            ', '1', '83.9', 'Canada '],\n   ['758', '2/15/1999', 'T6E            ', '1', '83.9', 'Canada '],\n   ['964', '2/15/1999', 'T5V            ', '1', '346.4', 'Canada '],\n   ['990', '2/15/1999', 'T6E            ', '1', '503.9', 'Canada '],\n   ['1960', '2/15/1999', 'T5Y            ', '1', '97.1', 'Canada '],\n   ['2056', '2/15/1999', 'T2X            ', '1', '325.4', 'Canada '],\n   ['2211', '2/15/1999', 'V7Y            ', '1', '107.6', 'Canada '],\n   ['2279', '2/15/1999', 'V7M            ', '1', '165.3', 'Canada '],\n   ['2388', '2/15/1999', 'V7Y            ', '1', '309.7', 'Canada '],\n   ['491', '2/15/1999', 'T3R            ', '1', '815.3', 'Canada '],\n   ['550', '2/15/1999', 'V6T            ', '1', '404', 'Canada '],\n   ['663', '2/15/1999', 'V6T            ', '1', '765.5', 'Canada '],\n   ['726', '2/15/1999', 'V5N            ', '1', '115.4', 'Canada '],\n   ['726', '2/15/1999', 'V6M            ', '1', '115.4', 'Canada '],\n   ['1173', '2/15/1999', 'V6M            ', '1', '524.9', 'Canada '],\n   ['2373', '2/15/1999', 'T6S            ', '1', '551.2', 'Canada '],\n   ['330', '2/15/1999', 'T6V            ', '1', '577.2', 'Canada '],\n   ['499', '2/15/1999', 'V6Z            ', '1', '846.3', 'Canada '],\n   ['604', '2/15/1999', 'R2M            ', '1', '461.7', 'Canada '],\n   ['727', '2/15/1999', 'T6T            ', '1', '62.9', 'Canada '],\n   ['758', '2/15/1999', 'T2A            ', '1', '83.9', 'Canada '],\n   ['1014', '2/15/1999', 'T5H            ', '1', '86.6', 'Canada '],\n   ['1014', '2/15/1999', 'T5J            ', '2', '173.1', 'Canada '],\n   ['1157', '2/15/1999', 'T6K            ', '1', '377.9', 'Canada '],\n   ['1167', '2/15/1999', 'V5T            ', '1', '309.7', 'Canada '],\n   ['1948', '2/15/1999', 'V6M            ', '1', '293.9', 'Canada '],\n   ['1961', '2/15/1999', 'T5Y            ', '1', '97.1', 'Canada '],\n   ['2254', '2/15/1999', 'T5K            ', '1', '57.7', 'Canada '],\n   ['647', '6/1/2002', 'V5N            ', '1', '900.6', 'Canada '],\n   ['426', '6/1/2002', 'T2J            ', '1', '843.1', 'Canada '],\n   ['573', '6/1/2002', 'T6E            ', '1', '299', 'Canada '],\n   ['635', '6/1/2002', 'T2J            ', '1', '860.7', 'Canada '],\n   ['962', '3/15/1999', 'T5B            ', '1', '509.2', 'Canada '],\n   ['979', '3/15/1999', 'T5Y            ', '1', '393.7', 'Canada '],\n   ['989', '3/15/1999', 'T2X            ', '1', '451.4', 'Canada '],\n   ['992', '3/15/1999', 'V6Z            ', '1', '288.7', 'Canada '],\n   ['1008', '3/15/1999', 'V5V            ', '1', '236.2', 'Canada '],\n   ['1157', '3/15/1999', 'T2J            ', '1', '377.9', 'Canada '],\n   ['1191', '3/15/1999', 'V5V            ', '1', '262.4', 'Canada '],\n   ['1191', '3/15/1999', 'R2G            ', '1', '262.4', 'Canada '],\n   ['1227', '3/15/1999', 'T1Y            ', '1', '314.9', 'Canada '],\n   ['1330', '3/15/1999', 'V5N            ', '1', '92.8', 'Canada '],\n   ['2057', '3/15/1999', 'T6V            ', '1', '472.4', 'Canada '],\n   ['2204', '3/15/1999', 'V7Y            ', '1', '173.2', 'Canada '],\n   ['2211', '3/15/1999', 'V5Z            ', '1', '104.9', 'Canada '],\n   ['433', '3/15/1999', 'T5K            ', '1', '804.3', 'Canada '],\n   ['606', '3/15/1999', 'T2C            ', '1', '314.7', 'Canada '],\n   ['606', '3/15/1999', 'T6J            ', '1', '314.7', 'Canada '],\n   ['609', '3/15/1999', 'T5Y            ', '1', '778.8', 'Canada '],\n   ['645', '3/15/1999', 'V6H            ', '1', '746.5', 'Canada '],\n   ['676', '3/15/1999', 'T6V            ', '1', '801.9', 'Canada '],\n   ['726', '3/15/1999', 'T6G            ', '1', '115.4', 'Canada '],\n   ['726', '3/15/1999', 'V5Z            ', '1', '115.4', 'Canada '],\n   ['758', '3/15/1999', 'T2X            ', '1', '83.9', 'Canada '],\n   ['2359', '6/7/2002', 'V7W            ', '1', '430.4', 'Canada '],\n   ['964', '6/7/2002', 'T5K            ', '1', '335.9', 'Canada '],\n   ['979', '6/7/2002', 'V6C            ', '1', '393.7', 'Canada '],\n   ['1182', '6/7/2002', 'T6S            ', '1', '157.4', 'Canada '],\n   ['992', '6/7/2002', 'V7K            ', '1', '278.2', 'Canada '],\n   ['1000', '6/7/2002', 'V6N            ', '1', '89.2', 'Canada '],\n   ['1003', '6/7/2002', 'T3C            ', '1', '86.6', 'Canada '],\n   ['753', '6/8/2002', 'T2J            ', '1', '246.7', 'Canada '],\n   ['754', '6/8/2002', 'T2J            ', '1', '246.7', 'Canada '],\n   ['1062', '6/10/2002', 'T6R            ', '1', '149.6', 'Canada '],\n   ['2241', '6/10/2002', 'V6Z            ', '1', '89.2', 'Canada '],\n   ['2359', '6/10/2002', 'V5Z            ', '1', '430.4', 'Canada '],\n   ['964', '6/10/2002', 'V6T            ', '1', '320.2', 'Canada '],\n   ['1061', '6/10/2002', 'T6R            ', '1', '149.6', 'Canada '],\n   ['2240', '6/10/2002', 'V6Z            ', '1', '89.2', 'Canada '],\n   ['767', '3/15/1999', 'V7T            ', '1', '104.9', 'Canada '],\n   ['768', '3/15/1999', 'T6T            ', '1', '104.9', 'Canada '],\n   ['921', '3/15/1999', 'T3C            ', '1', '524.9', 'Canada '],\n   ['992', '3/15/1999', 'T6J            ', '1', '288.7', 'Canada '],\n   ['1046', '3/15/1999', 'T6H            ', '1', '99.7', 'Canada '],\n   ['1053', '3/15/1999', 'T6J            ', '1', '251.9', 'Canada '],\n   ['1082', '3/15/1999', 'T3G            ', '1', '225.7', 'Canada '],\n   ['1191', '3/15/1999', 'T1Y            ', '1', '262.4', 'Canada '],\n   ['1329', '3/15/1999', 'V5N            ', '1', '92.8', 'Canada '],\n   ['964', '6/12/2002', 'V6Z            ', '1', '335.9', 'Canada '],\n   ['670', '6/12/2002', 'T5K            ', '1', '871.2', 'Canada '],\n   ['573', '6/12/2002', 'V6R            ', '1', '299', 'Canada '],\n   ['753', '6/12/2002', 'V6M            ', '1', '246.7', 'Canada '],\n   ['596', '6/13/2002', 'T6T            ', '1', '776.7', 'Canada '],\n   ['992', '6/13/2002', 'V7P            ', '1', '278.2', 'Canada '],\n   ['467', '6/13/2002', 'V6J            ', '1', '900.6', 'Canada '],\n   ['691', '6/13/2002', 'T6S            ', '1', '351.5', 'Canada '],\n   ['990', '6/13/2002', 'V6T            ', '1', '440.9', 'Canada '],\n   ['992', '6/13/2002', 'T2J            ', '1', '278.2', 'Canada '],\n   ['1034', '6/13/2002', 'T5V            ', '1', '892.2', 'Canada '],\n   ['1111', '6/13/2002', 'T2J            ', '1', '120.7', 'Canada '],\n   ['1215', '6/13/2002', 'V6Z            ', '1', '356.9', 'Canada '],\n   ['910', '6/13/2002', 'V5K            ', '1', '430.4', 'Canada '],\n   ['725', '3/15/1999', 'T6G            ', '1', '115.4', 'Canada '],\n   ['725', '3/15/1999', 'V5Z            ', '1', '115.4', 'Canada '],\n   ['797', '3/15/1999', 'T5W            ', '1', '301.8', 'Canada '],\n   ['797', '3/15/1999', 'V7X            ', '1', '301.8', 'Canada '],\n   ['833', '3/15/1999', 'V6T            ', '1', '782.2', 'Canada '],\n   ['837', '3/15/1999', 'T2C            ', '1', '839.9', 'Canada '],\n   ['901', '3/15/1999', 'T2S            ', '1', '409.4', 'Canada '],\n   ['910', '3/15/1999', 'T2X            ', '2', '829.4', 'Canada '],\n   ['921', '3/15/1999', 'V6B            ', '1', '524.9', 'Canada '],\n   ['990', '3/15/1999', 'V6M            ', '1', '456.7', 'Canada '],\n   ['1166', '3/15/1999', 'V6R            ', '1', '535.4', 'Canada '],\n   ['1188', '3/15/1999', 'T2N            ', '1', '472.4', 'Canada '],\n   ['1948', '3/15/1999', 'V6T            ', '1', '296.6', 'Canada '],\n   ['2045', '3/15/1999', 'T2C            ', '1', '409.4', 'Canada '],\n   ['2070', '3/15/1999', 'T6T            ', '1', '519.7', 'Canada '],\n   ['2074', '3/15/1999', 'V5N            ', '1', '328.1', 'Canada '],\n   ['2083', '3/15/1999', 'T6E            ', '1', '309.7', 'Canada '],\n   ['2235', '3/15/1999', 'V7R            ', '1', '65.6', 'Canada '],\n   ['2254', '3/15/1999', 'V5N            ', '1', '57.7', 'Canada '],\n   ['2282', '3/15/1999', 'T6T            ', '1', '304.4', 'Canada '],\n   ['2380', '3/15/1999', 'T6G            ', '1', '309.7', 'Canada '],\n   ['2407', '3/15/1999', 'T6T            ', '1', '73.4', 'Canada '],\n   ['2407', '3/15/1999', 'V5T            ', '2', '146.9', 'Canada '],\n   ['93', '4/15/1999', 'V6T            ', '1', '992.2', 'Canada '],\n   ['396', '4/15/1999', 'T6W            ', '1', '857.1', 'Canada '],\n   ['580', '4/15/1999', 'V6H            ', '1', '734.7', 'Canada '],\n   ['609', '4/15/1999', 'T3C            ', '1', '778.8', 'Canada '],\n   ['2282', '3/15/1999', 'L5R            ', '1', '304.4', 'Canada '],\n   ['726', '6/10/2002', 'M6P            ', '1', '120.7', 'Canada '],\n   ['2352', '6/10/2002', 'R3V            ', '1', '367.4', 'Canada '],\n   ['2379', '6/10/2002', 'M4P            ', '1', '178.4', 'Canada '],\n   ['1174', '6/11/2002', 'R3Y            ', '1', '577.4', 'Canada '],\n   ['2054', '6/11/2002', 'L5P            ', '1', '545.9', 'Canada '],\n   ['964', '6/11/2002', 'L5N            ', '1', '330.7', 'Canada '],\n   ['2053', '6/11/2002', 'L5N            ', '1', '325.4', 'Canada '],\n   ['433', '6/11/2002', 'L5N            ', '1', '851.5', 'Canada '],\n   ['1114', '6/11/2002', 'L5N            ', '1', '167.9', 'Canada '],\n   ['396', '6/11/2002', 'H1B            ', '1', '892.2', 'Canada '],\n   ['910', '4/15/1999', 'K1K            ', '1', '414.7', 'Canada '],\n   ['922', '4/15/1999', 'R3G            ', '1', '472.4', 'Canada '],\n   ['1082', '4/15/1999', 'L4X            ', '1', '225.7', 'Canada '],\n   ['1112', '4/15/1999', 'R3B            ', '1', '116.5', 'Canada '],\n   ['1157', '4/15/1999', 'K1K            ', '1', '377.9', 'Canada '],\n   ['964', '6/13/2002', 'M4E            ', '1', '330.7', 'Canada '],\n   ['964', '6/13/2002', 'M5A            ', '1', '335.9', 'Canada '],\n   ['910', '6/13/2002', 'R3G            ', '1', '430.4', 'Canada '],\n   ['967', '6/13/2002', 'K1N            ', '1', '656.2', 'Canada '],\n   ['1215', '6/14/2002', 'M6R            ', '1', '356.9', 'Canada '],\n   ['1186', '6/14/2002', 'L5N            ', '1', '425.2', 'Canada '],\n   ...])]"
     ]
    }
   ],
   "source": [
    "paisesAgrupadosLista = paisesAgrupados.map(lambda x: (x[0], list(x[1])))\n",
    "paisesAgrupadosLista.collect()"
   ]
  },
  {
   "cell_type": "markdown",
   "metadata": {
    "application/vnd.databricks.v1+cell": {
     "cellMetadata": {},
     "inputWidgets": {},
     "nuid": "e4baed2d-5c81-49df-b60f-e2dc60c4ad93",
     "showTitle": false,
     "tableResultSettingsMap": {},
     "title": ""
    }
   },
   "source": [
    "### Actividad "
   ]
  },
  {
   "cell_type": "markdown",
   "metadata": {
    "application/vnd.databricks.v1+cell": {
     "cellMetadata": {},
     "inputWidgets": {},
     "nuid": "0e65becf-cdd8-4ee4-b4d6-2fc67fa4f846",
     "showTitle": false,
     "tableResultSettingsMap": {},
     "title": ""
    }
   },
   "source": [
    "- día 1: pan 3€, agua 2€, azúcar 1€, leche 2€, pan 4€\n",
    "- día 2: pan 1€, cereales 3€, agua 0.5€, leche 2€, filetes 5€\n",
    "- día 3: filetes 2€, cereales 1€"
   ]
  },
  {
   "cell_type": "markdown",
   "metadata": {
    "application/vnd.databricks.v1+cell": {
     "cellMetadata": {},
     "inputWidgets": {},
     "nuid": "5569d8ef-1e66-4aea-9653-c9faf752bb8e",
     "showTitle": false,
     "tableResultSettingsMap": {},
     "title": ""
    }
   },
   "source": [
    "Dada la siguiente lista de compra:"
   ]
  },
  {
   "cell_type": "code",
   "execution_count": 0,
   "metadata": {
    "application/vnd.databricks.v1+cell": {
     "cellMetadata": {
      "byteLimit": 2048000,
      "rowLimit": 10000
     },
     "inputWidgets": {},
     "nuid": "326ea9d4-e5fd-469f-9b83-06df95a9551b",
     "showTitle": false,
     "tableResultSettingsMap": {},
     "title": ""
    }
   },
   "outputs": [],
   "source": [
    "dia1 = [('pan',3), ('agua',2), ('azúcar',1), ('leche',2), ('pan',4)]\n",
    "dia2 = [('pan',1), ('cereales',3), ('agua',0.5), ('leche',2), ('filetes',5)]\n",
    "dia3 = [('filetes',2), ('cereales',1)]"
   ]
  },
  {
   "cell_type": "markdown",
   "metadata": {
    "application/vnd.databricks.v1+cell": {
     "cellMetadata": {},
     "inputWidgets": {},
     "nuid": "c7b289fb-2d12-44d0-9658-c9a04deda6d2",
     "showTitle": false,
     "tableResultSettingsMap": {},
     "title": ""
    }
   },
   "source": [
    "1. ¿Cómo obtenemos lo que hemos gastado en cada producto?\n",
    "2. ¿Y el gasto medio que hemos realizado en cada uno de ellos?"
   ]
  },
  {
   "cell_type": "code",
   "execution_count": 0,
   "metadata": {
    "application/vnd.databricks.v1+cell": {
     "cellMetadata": {
      "byteLimit": 2048000,
      "rowLimit": 10000
     },
     "inputWidgets": {},
     "nuid": "25a818f2-aec0-49bb-ae56-35752c56dc31",
     "showTitle": false,
     "tableResultSettingsMap": {},
     "title": ""
    }
   },
   "outputs": [
    {
     "output_type": "stream",
     "name": "stdout",
     "output_type": "stream",
     "text": [
      "[('agua', 2.5), ('leche', 4), ('pan', 8), ('cereales', 4), ('filetes', 7), ('azúcar', 1)]\n"
     ]
    }
   ],
   "source": [
    "# Respuestas aqui\n",
    "# Crear RDDs a partir de las listas de cada dia\n",
    "# Crear RDDs para cada día\n",
    "rddDia1 = sc.parallelize(dia1)\n",
    "rddDia2 = sc.parallelize(dia2)\n",
    "rddDia3 = sc.parallelize(dia3)\n",
    "\n",
    "# Unir los RDDs de los tres días\n",
    "rddUnion = rddDia1.union(rddDia2).union(rddDia3)\n",
    "\n",
    "# Calcular el total gastado por cada producto\n",
    "totalPorProducto = rddUnion.reduceByKey(lambda a, b: a + b)\n",
    "print(totalPorProducto.collect())"
   ]
  },
  {
   "cell_type": "markdown",
   "metadata": {
    "application/vnd.databricks.v1+cell": {
     "cellMetadata": {},
     "inputWidgets": {},
     "nuid": "89499d0d-5675-43b8-abbf-8267d2540ad5",
     "showTitle": false,
     "tableResultSettingsMap": {},
     "title": ""
    }
   },
   "source": [
    "> Mejor `reduceByKey` que `groupByKey`  \n",
    "> Si el tipo de operación a realizar es posible mediante una operación de reduce, su rendimiento será una solución más eficiente. Más información en el artículo [Avoid Group By](https://databricks.gitbooks.io/databricks-spark-knowledge-base/content/best_practices/prefer_reducebykey_over_groupbykey.html)"
   ]
  },
  {
   "cell_type": "markdown",
   "metadata": {
    "application/vnd.databricks.v1+cell": {
     "cellMetadata": {},
     "inputWidgets": {},
     "nuid": "a454d74c-42c1-484c-9562-7b0f546072f2",
     "showTitle": false,
     "tableResultSettingsMap": {},
     "title": ""
    }
   },
   "source": [
    "### SortByKey"
   ]
  },
  {
   "cell_type": "markdown",
   "metadata": {
    "application/vnd.databricks.v1+cell": {
     "cellMetadata": {},
     "inputWidgets": {},
     "nuid": "3c43ccb6-67a4-4eb2-b8b8-c1fee9502364",
     "showTitle": false,
     "tableResultSettingsMap": {},
     "title": ""
    }
   },
   "source": [
    "`sortByKey` permite ordenar los datos a partir de una clave. Los pares de la misma máquina se ordenan primero por la misma clave, y luego los datos de las diferentes particiones se barajan.  \n",
    "Para ello crearemos una tupla, siendo el primer elemento un valor numérico por el cual ordenar, y el segundo el dato asociado.  \n",
    "Vamos a partir del ejemplo anterior para ordenar los paises por la cantidad de ventas:  \n"
   ]
  },
  {
   "cell_type": "code",
   "execution_count": 0,
   "metadata": {
    "application/vnd.databricks.v1+cell": {
     "cellMetadata": {
      "byteLimit": 2048000,
      "rowLimit": 10000
     },
     "inputWidgets": {},
     "nuid": "32dea661-1c68-414d-a731-704d96c213a3",
     "showTitle": false,
     "tableResultSettingsMap": {},
     "title": ""
    }
   },
   "outputs": [],
   "source": [
    "# Ejemplo anterior\n",
    "rdd = sc.textFile(\"dbfs:/FileStore/Notebook/pdi_sales.csv\")\n",
    "paisesUnidades = rdd.map(lambda x: (x.split(\";\")[-1].strip(), x.split(\";\")[3]))\n",
    "header = paisesUnidades.first()\n",
    "paisesUnidadesSinHeader = paisesUnidades.filter(lambda linea: linea != header)\n",
    "paisesTotalUnidades = paisesUnidadesSinHeader.reduceByKey(lambda a,b: int(a)+int(b))"
   ]
  },
  {
   "cell_type": "code",
   "execution_count": 0,
   "metadata": {
    "application/vnd.databricks.v1+cell": {
     "cellMetadata": {
      "byteLimit": 2048000,
      "rowLimit": 10000
     },
     "inputWidgets": {},
     "nuid": "ebb50390-1e78-4e4b-aae7-77acc3acee26",
     "showTitle": false,
     "tableResultSettingsMap": {},
     "title": ""
    }
   },
   "outputs": [
    {
     "output_type": "stream",
     "name": "stdout",
     "output_type": "stream",
     "text": [
      "Out[84]: [(223463, 'Mexico'),\n (327730, 'France'),\n (244265, 'Germany'),\n (77609, 'Canada')]"
     ]
    }
   ],
   "source": [
    "# Le damos la vuelta a la lista\n",
    "unidadesPaises = paisesTotalUnidades.map(lambda x: (x[1],x[0]))\n",
    "unidadesPaises.collect()"
   ]
  },
  {
   "cell_type": "markdown",
   "metadata": {
    "application/vnd.databricks.v1+cell": {
     "cellMetadata": {},
     "inputWidgets": {},
     "nuid": "65320296-61be-4e0c-a6c1-fe61e7306ac0",
     "showTitle": false,
     "tableResultSettingsMap": {},
     "title": ""
    }
   },
   "source": [
    "Y a continuación los ordenamos:"
   ]
  },
  {
   "cell_type": "code",
   "execution_count": 0,
   "metadata": {
    "application/vnd.databricks.v1+cell": {
     "cellMetadata": {
      "byteLimit": 2048000,
      "rowLimit": 10000
     },
     "inputWidgets": {},
     "nuid": "bc42dfbe-ca69-4ca5-b4b2-a23119ad6e79",
     "showTitle": false,
     "tableResultSettingsMap": {},
     "title": ""
    }
   },
   "outputs": [
    {
     "output_type": "stream",
     "name": "stdout",
     "output_type": "stream",
     "text": [
      "Out[85]: [(77609, 'Canada'),\n (223463, 'Mexico'),\n (244265, 'Germany'),\n (327730, 'France')]"
     ]
    }
   ],
   "source": [
    "unidadesPaisesOrdenadas = unidadesPaises.sortByKey()\n",
    "unidadesPaisesOrdenadas.collect()"
   ]
  },
  {
   "cell_type": "markdown",
   "metadata": {
    "application/vnd.databricks.v1+cell": {
     "cellMetadata": {},
     "inputWidgets": {},
     "nuid": "5af23987-956e-460f-856a-4df7a58ce4f6",
     "showTitle": false,
     "tableResultSettingsMap": {},
     "title": ""
    }
   },
   "source": [
    "Y comprobamos el resultado:"
   ]
  },
  {
   "cell_type": "code",
   "execution_count": 0,
   "metadata": {
    "application/vnd.databricks.v1+cell": {
     "cellMetadata": {
      "byteLimit": 2048000,
      "rowLimit": 10000
     },
     "inputWidgets": {},
     "nuid": "0148ec56-deb9-4bf4-8428-ee429f641d4e",
     "showTitle": false,
     "tableResultSettingsMap": {},
     "title": ""
    }
   },
   "outputs": [
    {
     "output_type": "stream",
     "name": "stdout",
     "output_type": "stream",
     "text": [
      "Out[86]: [(77609, 'Canada'),\n (223463, 'Mexico'),\n (244265, 'Germany'),\n (327730, 'France')]"
     ]
    }
   ],
   "source": [
    "[(77609, 'Canada'),\n",
    " (223463, 'Mexico'),\n",
    " (244265, 'Germany'),\n",
    " (327730, 'France')]"
   ]
  },
  {
   "cell_type": "markdown",
   "metadata": {
    "application/vnd.databricks.v1+cell": {
     "cellMetadata": {},
     "inputWidgets": {},
     "nuid": "eb1a6f79-a8b8-47c7-85c1-e3c4e75836e9",
     "showTitle": false,
     "tableResultSettingsMap": {},
     "title": ""
    }
   },
   "source": [
    "Si quisiéramos obtener los datos en orden descendente, le pasamos False a la transformación:"
   ]
  },
  {
   "cell_type": "code",
   "execution_count": 0,
   "metadata": {
    "application/vnd.databricks.v1+cell": {
     "cellMetadata": {},
     "inputWidgets": {},
     "nuid": "9ba8ec30-7f8a-4b93-bfc3-915e22cbd87c",
     "showTitle": false,
     "tableResultSettingsMap": {},
     "title": ""
    }
   },
   "outputs": [],
   "source": [
    "unidadesPaisesOrdenadasDesc = unidadesPaises.sortByKey(False)"
   ]
  },
  {
   "cell_type": "markdown",
   "metadata": {
    "application/vnd.databricks.v1+cell": {
     "cellMetadata": {},
     "inputWidgets": {},
     "nuid": "f5fae6a9-13d3-4e10-b824-218b1b507c79",
     "showTitle": false,
     "tableResultSettingsMap": {},
     "title": ""
    }
   },
   "source": [
    "### SortBy"
   ]
  },
  {
   "cell_type": "markdown",
   "metadata": {
    "application/vnd.databricks.v1+cell": {
     "cellMetadata": {},
     "inputWidgets": {},
     "nuid": "d7c02b97-4191-4207-9910-6031da3f4760",
     "showTitle": false,
     "tableResultSettingsMap": {},
     "title": ""
    }
   },
   "source": [
    "Mediante `sortBy` podemos ordenar los datos indicando nosotros la función de ordenación:"
   ]
  },
  {
   "cell_type": "code",
   "execution_count": 0,
   "metadata": {
    "application/vnd.databricks.v1+cell": {
     "cellMetadata": {
      "byteLimit": 2048000,
      "rowLimit": 10000
     },
     "inputWidgets": {},
     "nuid": "5afe71d8-7461-468a-b971-f070406cc030",
     "showTitle": false,
     "tableResultSettingsMap": {},
     "title": ""
    }
   },
   "outputs": [
    {
     "output_type": "stream",
     "name": "stdout",
     "output_type": "stream",
     "text": [
      "Out[87]: [('Canada', 77609),\n ('Mexico', 223463),\n ('Germany', 244265),\n ('France', 327730)]"
     ]
    }
   ],
   "source": [
    "paisesTotalUnidades.sortBy(lambda x: x[1]).collect()"
   ]
  },
  {
   "cell_type": "markdown",
   "metadata": {
    "application/vnd.databricks.v1+cell": {
     "cellMetadata": {},
     "inputWidgets": {},
     "nuid": "84b36eb9-50f0-417b-8211-27b6f0dade68",
     "showTitle": false,
     "tableResultSettingsMap": {},
     "title": ""
    }
   },
   "source": [
    "Si queremos ordenar descendentemente, le pasamos un segundo parámetro con valor `False` (indica si la ordenación es ascendente):"
   ]
  },
  {
   "cell_type": "code",
   "execution_count": 0,
   "metadata": {
    "application/vnd.databricks.v1+cell": {
     "cellMetadata": {
      "byteLimit": 2048000,
      "rowLimit": 10000
     },
     "inputWidgets": {},
     "nuid": "c9682793-0d34-442c-b91c-33145970802f",
     "showTitle": false,
     "tableResultSettingsMap": {},
     "title": ""
    }
   },
   "outputs": [
    {
     "output_type": "stream",
     "name": "stdout",
     "output_type": "stream",
     "text": [
      "Out[88]: [('France', 327730),\n ('Germany', 244265),\n ('Mexico', 223463),\n ('Canada', 77609)]"
     ]
    }
   ],
   "source": [
    "paisesTotalUnidades.sortBy(lambda x: x[1], False).collect()"
   ]
  },
  {
   "cell_type": "markdown",
   "metadata": {
    "application/vnd.databricks.v1+cell": {
     "cellMetadata": {},
     "inputWidgets": {},
     "nuid": "63ad5fee-56b7-420e-bc87-9d5fe77f28fa",
     "showTitle": false,
     "tableResultSettingsMap": {},
     "title": ""
    }
   },
   "source": [
    "> **Join**  \n",
    "> Aunque los RDD permitan realizar operaciones join, realmente este tipo de operaciones se realizan mediante DataFrames, por lo que omitimos su explicación en esta sesión y la dejamos para la siguiente."
   ]
  },
  {
   "cell_type": "markdown",
   "metadata": {
    "application/vnd.databricks.v1+cell": {
     "cellMetadata": {},
     "inputWidgets": {},
     "nuid": "6629f559-7fb8-4ed5-adc8-090bd1a8612c",
     "showTitle": false,
     "tableResultSettingsMap": {},
     "title": ""
    }
   },
   "source": [
    "### Particiones"
   ]
  },
  {
   "cell_type": "markdown",
   "metadata": {
    "application/vnd.databricks.v1+cell": {
     "cellMetadata": {},
     "inputWidgets": {},
     "nuid": "dbd3232f-4e4a-42bb-aa49-09ab11d961f0",
     "showTitle": false,
     "tableResultSettingsMap": {},
     "title": ""
    }
   },
   "source": [
    "Spark organiza los datos en particiones, considerándolas divisiones lógicas de los datos entre los nodos del clúster. Por ejemplo, si el almacenamiento se realiza en HDFS, cada partición se asigna a un bloque."
   ]
  },
  {
   "cell_type": "markdown",
   "metadata": {
    "application/vnd.databricks.v1+cell": {
     "cellMetadata": {},
     "inputWidgets": {},
     "nuid": "afa2e750-ca1d-4c9e-b9c2-2d8026ee0cec",
     "showTitle": false,
     "tableResultSettingsMap": {},
     "title": ""
    }
   },
   "source": [
    "Cada una de las particiones va a llevar asociada una tarea de ejecución, de manera que a más particiones, mayor paralelización del proceso."
   ]
  },
  {
   "cell_type": "markdown",
   "metadata": {
    "application/vnd.databricks.v1+cell": {
     "cellMetadata": {},
     "inputWidgets": {},
     "nuid": "0d00bf67-09ba-4ee9-acba-08c7294c9117",
     "showTitle": false,
     "tableResultSettingsMap": {},
     "title": ""
    }
   },
   "source": [
    "Veamos con código como podemos trabajar con las particiones:"
   ]
  },
  {
   "cell_type": "code",
   "execution_count": 0,
   "metadata": {
    "application/vnd.databricks.v1+cell": {
     "cellMetadata": {
      "byteLimit": 2048000,
      "rowLimit": 10000
     },
     "inputWidgets": {},
     "nuid": "0c0f8979-470f-452b-8eb0-9d5b90869c16",
     "showTitle": false,
     "tableResultSettingsMap": {},
     "title": ""
    }
   },
   "outputs": [
    {
     "output_type": "stream",
     "name": "stdout",
     "output_type": "stream",
     "text": [
      "Out[89]: 8"
     ]
    }
   ],
   "source": [
    "rdd = sc.parallelize([1,1,2,2,3,3,4,5])\n",
    "rdd.getNumPartitions() # 4"
   ]
  },
  {
   "cell_type": "code",
   "execution_count": 0,
   "metadata": {
    "application/vnd.databricks.v1+cell": {
     "cellMetadata": {
      "byteLimit": 2048000,
      "rowLimit": 10000
     },
     "inputWidgets": {},
     "nuid": "1ccc2ed4-107d-462b-b455-01c2a2437ba8",
     "showTitle": false,
     "tableResultSettingsMap": {},
     "title": ""
    }
   },
   "outputs": [
    {
     "output_type": "stream",
     "name": "stdout",
     "output_type": "stream",
     "text": [
      "Out[90]: 2"
     ]
    }
   ],
   "source": [
    "rdd = sc.parallelize([1,1,2,2,3,3,4,5], 2)\n",
    "rdd.getNumPartitions() # 2"
   ]
  },
  {
   "cell_type": "code",
   "execution_count": 0,
   "metadata": {
    "application/vnd.databricks.v1+cell": {
     "cellMetadata": {
      "byteLimit": 2048000,
      "rowLimit": 10000
     },
     "inputWidgets": {},
     "nuid": "f4e83124-15af-4c61-8b39-8c8cc7fb83e9",
     "showTitle": false,
     "tableResultSettingsMap": {},
     "title": ""
    }
   },
   "outputs": [
    {
     "output_type": "stream",
     "name": "stdout",
     "output_type": "stream",
     "text": [
      "Out[92]: 2"
     ]
    }
   ],
   "source": [
    "rddE = sc.textFile(\"dbfs:/FileStore/Notebook/empleados.txt\")\n",
    "rddE.getNumPartitions() # 2"
   ]
  },
  {
   "cell_type": "code",
   "execution_count": 0,
   "metadata": {
    "application/vnd.databricks.v1+cell": {
     "cellMetadata": {
      "byteLimit": 2048000,
      "rowLimit": 10000
     },
     "inputWidgets": {},
     "nuid": "0dd7cb22-2853-410a-8a4a-13c24e42d0c4",
     "showTitle": false,
     "tableResultSettingsMap": {},
     "title": ""
    }
   },
   "outputs": [
    {
     "output_type": "stream",
     "name": "stdout",
     "output_type": "stream",
     "text": [
      "Out[93]: 3"
     ]
    }
   ],
   "source": [
    "rddE = sc.textFile(\"dbfs:/FileStore/Notebook/empleados.txt\", 3)\n",
    "rddE.getNumPartitions() # 3"
   ]
  },
  {
   "cell_type": "markdown",
   "metadata": {
    "application/vnd.databricks.v1+cell": {
     "cellMetadata": {},
     "inputWidgets": {},
     "nuid": "7ff61e2a-e506-41bf-bae3-0f82810e9f80",
     "showTitle": false,
     "tableResultSettingsMap": {},
     "title": ""
    }
   },
   "source": [
    "La mayoría de operaciones / transformaciones / acciones que trabajan con los datos admiten un parámetro extra indicando la cantidad de particiones con las que queremos trabajar."
   ]
  },
  {
   "cell_type": "markdown",
   "metadata": {
    "application/vnd.databricks.v1+cell": {
     "cellMetadata": {},
     "inputWidgets": {},
     "nuid": "009ebcae-cec4-4450-b9bc-6f32f652cff6",
     "showTitle": false,
     "tableResultSettingsMap": {},
     "title": ""
    }
   },
   "source": [
    "### MapPartitions"
   ]
  },
  {
   "cell_type": "markdown",
   "metadata": {
    "application/vnd.databricks.v1+cell": {
     "cellMetadata": {},
     "inputWidgets": {},
     "nuid": "a9bd6815-582b-4506-8b1f-0edfd9ea3085",
     "showTitle": false,
     "tableResultSettingsMap": {},
     "title": ""
    }
   },
   "source": [
    "A diferencia de la transformación map que se invoca por cada elemento del RDD/DataSet, mapPartitions se llama por cada partición."
   ]
  },
  {
   "cell_type": "markdown",
   "metadata": {
    "application/vnd.databricks.v1+cell": {
     "cellMetadata": {},
     "inputWidgets": {},
     "nuid": "35de095a-0212-468e-82ef-c5c20ef0d4d5",
     "showTitle": false,
     "tableResultSettingsMap": {},
     "title": ""
    }
   },
   "source": [
    "La función que recibe como parámetro recogerá como entrada un iterador con los elementos de cada partición:"
   ]
  },
  {
   "cell_type": "code",
   "execution_count": 0,
   "metadata": {
    "application/vnd.databricks.v1+cell": {
     "cellMetadata": {
      "byteLimit": 2048000,
      "rowLimit": 10000
     },
     "inputWidgets": {},
     "nuid": "6e8d4d4c-79a1-41b2-b698-372bf901d48a",
     "showTitle": false,
     "tableResultSettingsMap": {},
     "title": ""
    }
   },
   "outputs": [],
   "source": [
    "rdd = sc.parallelize([1,1,2,2,3,3,4,5], 2)"
   ]
  },
  {
   "cell_type": "code",
   "execution_count": 0,
   "metadata": {
    "application/vnd.databricks.v1+cell": {
     "cellMetadata": {
      "byteLimit": 2048000,
      "rowLimit": 10000
     },
     "inputWidgets": {},
     "nuid": "1fc8bc4b-35b8-4d62-a031-2571dcdb46a6",
     "showTitle": false,
     "tableResultSettingsMap": {},
     "title": ""
    }
   },
   "outputs": [
    {
     "output_type": "stream",
     "name": "stdout",
     "output_type": "stream",
     "text": [
      "Out[95]: [6, 15]"
     ]
    }
   ],
   "source": [
    "def f(iterator): yield sum(iterator)\n",
    "resultadoRdd = rdd.mapPartitions(f)\n",
    "resultadoRdd.collect()  # [6, 15]"
   ]
  },
  {
   "cell_type": "code",
   "execution_count": 0,
   "metadata": {
    "application/vnd.databricks.v1+cell": {
     "cellMetadata": {
      "byteLimit": 2048000,
      "rowLimit": 10000
     },
     "inputWidgets": {},
     "nuid": "90f0b5ba-5b18-4874-83ab-17074553c156",
     "showTitle": false,
     "tableResultSettingsMap": {},
     "title": ""
    }
   },
   "outputs": [
    {
     "output_type": "stream",
     "name": "stdout",
     "output_type": "stream",
     "text": [
      "Out[96]: [[1, 1, 2, 2], [3, 3, 4, 5]]"
     ]
    }
   ],
   "source": [
    "resultadoRdd2 = rdd.mapPartitions(lambda iterator: [list(iterator)])\n",
    "resultadoRdd2.collect() # [[1, 1, 2, 2], [3, 3, 4, 5]]"
   ]
  },
  {
   "cell_type": "markdown",
   "metadata": {
    "application/vnd.databricks.v1+cell": {
     "cellMetadata": {},
     "inputWidgets": {},
     "nuid": "710bcee6-3994-4d8b-921d-0fd71be79db2",
     "showTitle": false,
     "tableResultSettingsMap": {},
     "title": ""
    }
   },
   "source": [
    "En el ejemplo, ha dividido los datos en dos particiones, la primera con [1, 1, 2, 2] y la otra con [3, 3, 4, 5], y de ahí el resultado de sumar sus elementos es [6, 15]."
   ]
  },
  {
   "cell_type": "markdown",
   "metadata": {
    "application/vnd.databricks.v1+cell": {
     "cellMetadata": {},
     "inputWidgets": {},
     "nuid": "ddb02967-820e-4ae3-a14f-866daed76496",
     "showTitle": false,
     "tableResultSettingsMap": {},
     "title": ""
    }
   },
   "source": [
    "### mapPartitionsWithIndex"
   ]
  },
  {
   "cell_type": "markdown",
   "metadata": {
    "application/vnd.databricks.v1+cell": {
     "cellMetadata": {},
     "inputWidgets": {},
     "nuid": "8633fabb-be23-41e2-8535-585c8382acf9",
     "showTitle": false,
     "tableResultSettingsMap": {},
     "title": ""
    }
   },
   "source": [
    "De forma similar al caso anterior, pero ahora [mapPartitionsWithIndex](https://spark.apache.org/docs/latest/api/python/reference/api/pyspark.RDD.mapPartitionsWithIndex.html) recibe una función cuyos parámetros son el índice de la partición y el iterador con los datos de la misma:"
   ]
  },
  {
   "cell_type": "code",
   "execution_count": 0,
   "metadata": {
    "application/vnd.databricks.v1+cell": {
     "cellMetadata": {
      "byteLimit": 2048000,
      "rowLimit": 10000
     },
     "inputWidgets": {},
     "nuid": "c4c60e85-0673-4eca-a0f3-390e7ba4b5c7",
     "showTitle": false,
     "tableResultSettingsMap": {},
     "title": ""
    }
   },
   "outputs": [
    {
     "output_type": "stream",
     "name": "stdout",
     "output_type": "stream",
     "text": [
      "Out[97]: [(0, [1, 1, 2, 2]), (1, [3, 3, 4, 5])]"
     ]
    }
   ],
   "source": [
    "def mpwi(indice, iterador):\n",
    "    return [(indice, list(iterador))]\n",
    "\n",
    "resultadoRdd = rdd.mapPartitionsWithIndex(mpwi)\n",
    "resultadoRdd.collect()\n",
    "# [(0, [1, 1, 2, 2]), (1, [3, 3, 4, 5])]"
   ]
  },
  {
   "cell_type": "markdown",
   "metadata": {
    "application/vnd.databricks.v1+cell": {
     "cellMetadata": {},
     "inputWidgets": {},
     "nuid": "70f6652c-a962-4f1c-8a66-b41fc65a15e7",
     "showTitle": false,
     "tableResultSettingsMap": {},
     "title": ""
    }
   },
   "source": [
    "### Modificando las particiones"
   ]
  },
  {
   "cell_type": "markdown",
   "metadata": {
    "application/vnd.databricks.v1+cell": {
     "cellMetadata": {},
     "inputWidgets": {},
     "nuid": "e4c53d73-453c-4e75-92d7-96d4ddd333b7",
     "showTitle": false,
     "tableResultSettingsMap": {},
     "title": ""
    }
   },
   "source": [
    "Podemos modificar la cantidad de particiones mediante dos transformaciones *wide*: `coalesce` y `repartition`."
   ]
  },
  {
   "cell_type": "markdown",
   "metadata": {
    "application/vnd.databricks.v1+cell": {
     "cellMetadata": {},
     "inputWidgets": {},
     "nuid": "c3859a11-a3a7-48b0-b92f-1957c2bec966",
     "showTitle": false,
     "tableResultSettingsMap": {},
     "title": ""
    }
   },
   "source": [
    "Mediante [`coalesce`](https://spark.apache.org/docs/latest/api/python/reference/api/pyspark.RDD.coalesce.html) podemos obtener un nuevo RDD con la cantidad de particiones a reducir:"
   ]
  },
  {
   "cell_type": "code",
   "execution_count": 0,
   "metadata": {
    "application/vnd.databricks.v1+cell": {
     "cellMetadata": {
      "byteLimit": 2048000,
      "rowLimit": 10000
     },
     "inputWidgets": {},
     "nuid": "409a8d29-473a-46f0-b2ed-68b67e13c249",
     "showTitle": false,
     "tableResultSettingsMap": {},
     "title": ""
    }
   },
   "outputs": [
    {
     "output_type": "stream",
     "name": "stdout",
     "output_type": "stream",
     "text": [
      "Out[98]: 3"
     ]
    }
   ],
   "source": [
    "rdd = sc.parallelize([1,1,2,2,3,3,4,5], 3)\n",
    "rdd.getNumPartitions() # 3"
   ]
  },
  {
   "cell_type": "code",
   "execution_count": 0,
   "metadata": {
    "application/vnd.databricks.v1+cell": {
     "cellMetadata": {
      "byteLimit": 2048000,
      "rowLimit": 10000
     },
     "inputWidgets": {},
     "nuid": "eb302f82-f67f-451d-a84d-d0f9a713a6bb",
     "showTitle": false,
     "tableResultSettingsMap": {},
     "title": ""
    }
   },
   "outputs": [
    {
     "output_type": "stream",
     "name": "stdout",
     "output_type": "stream",
     "text": [
      "Out[99]: 1"
     ]
    }
   ],
   "source": [
    "rdd1p = rdd.coalesce(1)\n",
    "rdd1p.getNumPartitions() # 2"
   ]
  },
  {
   "cell_type": "markdown",
   "metadata": {
    "application/vnd.databricks.v1+cell": {
     "cellMetadata": {},
     "inputWidgets": {},
     "nuid": "d2da36cf-0e5f-4d47-8095-3206e2f984f4",
     "showTitle": false,
     "tableResultSettingsMap": {},
     "title": ""
    }
   },
   "source": [
    "En cambio, mediante repartition podemos obtener un nuevo RDD con la cantidad exacta de particiones deseadas (al reducir las particiones, repartition realiza un shuffle para redistribuir los datos, por lo tanto, si queremos reducir la cantidad de particiones, es más eficiente utilizar *coalesce*):"
   ]
  },
  {
   "cell_type": "code",
   "execution_count": 0,
   "metadata": {
    "application/vnd.databricks.v1+cell": {
     "cellMetadata": {
      "byteLimit": 2048000,
      "rowLimit": 10000
     },
     "inputWidgets": {},
     "nuid": "379b81b2-aef3-4748-ae9d-a8b699352de7",
     "showTitle": false,
     "tableResultSettingsMap": {},
     "title": ""
    }
   },
   "outputs": [
    {
     "output_type": "stream",
     "name": "stdout",
     "output_type": "stream",
     "text": [
      "Out[100]: 3"
     ]
    }
   ],
   "source": [
    "rdd = sc.parallelize([1,1,2,2,3,3,4,5], 3)\n",
    "rdd.getNumPartitions() # 3"
   ]
  },
  {
   "cell_type": "code",
   "execution_count": 0,
   "metadata": {
    "application/vnd.databricks.v1+cell": {
     "cellMetadata": {
      "byteLimit": 2048000,
      "rowLimit": 10000
     },
     "inputWidgets": {},
     "nuid": "66ce94b2-1b88-4575-883f-61be2d60c665",
     "showTitle": false,
     "tableResultSettingsMap": {},
     "title": ""
    }
   },
   "outputs": [
    {
     "output_type": "stream",
     "name": "stdout",
     "output_type": "stream",
     "text": [
      "Out[101]: 2"
     ]
    }
   ],
   "source": [
    "rdd2p = rdd.repartition(2)\n",
    "rdd2p.getNumPartitions() # 2"
   ]
  },
  {
   "cell_type": "markdown",
   "metadata": {
    "application/vnd.databricks.v1+cell": {
     "cellMetadata": {},
     "inputWidgets": {},
     "nuid": "00bde18b-1350-456f-b100-a58b0aec43a2",
     "showTitle": false,
     "tableResultSettingsMap": {},
     "title": ""
    }
   },
   "source": [
    "### Actividades"
   ]
  },
  {
   "cell_type": "markdown",
   "metadata": {
    "application/vnd.databricks.v1+cell": {
     "cellMetadata": {},
     "inputWidgets": {},
     "nuid": "52c8d58e-cc78-4c57-a6c6-17df570b39fe",
     "showTitle": false,
     "tableResultSettingsMap": {},
     "title": ""
    }
   },
   "source": [
    "En las siguientes actividades vamos a familiarizarnos con el uso de Spark con RDD y las diferentes acciones y transformaciones disponibles."
   ]
  },
  {
   "cell_type": "markdown",
   "metadata": {
    "application/vnd.databricks.v1+cell": {
     "cellMetadata": {},
     "inputWidgets": {},
     "nuid": "fb118a52-873b-40af-aedc-516bd431723c",
     "showTitle": false,
     "tableResultSettingsMap": {},
     "title": ""
    }
   },
   "source": [
    "**1.** A partir de la lista siguiente ['Alicante','Elche','Valencia','Madrid','Barcelona','Bilbao','Sevilla']:"
   ]
  },
  {
   "cell_type": "code",
   "execution_count": 0,
   "metadata": {
    "application/vnd.databricks.v1+cell": {
     "cellMetadata": {
      "byteLimit": 2048000,
      "rowLimit": 10000
     },
     "inputWidgets": {},
     "nuid": "ec7902f9-50a0-4a6b-bc95-ac5741dba978",
     "showTitle": false,
     "tableResultSettingsMap": {},
     "title": ""
    }
   },
   "outputs": [],
   "source": [
    "# Crear RDD a partir de la lista de ciudades\n",
    "ciudades = ['Alicante', 'Elche', 'Valencia', 'Madrid', 'Barcelona', 'Bilbao', 'Sevilla']\n",
    "rddCiudades = sc.parallelize(ciudades)\n"
   ]
  },
  {
   "cell_type": "markdown",
   "metadata": {
    "application/vnd.databricks.v1+cell": {
     "cellMetadata": {},
     "inputWidgets": {},
     "nuid": "4919c96e-2d49-4575-8e1c-04a3282fd4f6",
     "showTitle": false,
     "tableResultSettingsMap": {},
     "title": ""
    }
   },
   "source": [
    "a. Almacena sólo las ciudades que tengan la letra e en su nombre y muéstralas."
   ]
  },
  {
   "cell_type": "code",
   "execution_count": 0,
   "metadata": {
    "application/vnd.databricks.v1+cell": {
     "cellMetadata": {
      "byteLimit": 2048000,
      "rowLimit": 10000
     },
     "inputWidgets": {},
     "nuid": "6d69fc16-a26e-4172-ac2f-8a0d86fa1653",
     "showTitle": false,
     "tableResultSettingsMap": {},
     "title": ""
    }
   },
   "outputs": [
    {
     "output_type": "stream",
     "name": "stdout",
     "output_type": "stream",
     "text": [
      "['Alicante', 'Elche', 'Valencia', 'Barcelona', 'Sevilla']\n"
     ]
    }
   ],
   "source": [
    "ciudadesConE = rddCiudades.filter(lambda ciudad: 'e' in ciudad)\n",
    "print(ciudadesConE.collect())\n"
   ]
  },
  {
   "cell_type": "markdown",
   "metadata": {
    "application/vnd.databricks.v1+cell": {
     "cellMetadata": {},
     "inputWidgets": {},
     "nuid": "4a11a4a9-eec4-431c-bdd1-38cda40da357",
     "showTitle": false,
     "tableResultSettingsMap": {},
     "title": ""
    }
   },
   "source": [
    "En Python, para saber si una cadena contiene una letra puedes usar el operador in:"
   ]
  },
  {
   "cell_type": "code",
   "execution_count": 0,
   "metadata": {
    "application/vnd.databricks.v1+cell": {
     "cellMetadata": {},
     "inputWidgets": {},
     "nuid": "0bc11fe9-b7d1-4588-b70d-8621e431d127",
     "showTitle": false,
     "tableResultSettingsMap": {},
     "title": ""
    }
   },
   "outputs": [
    {
     "output_type": "stream",
     "name": "stdout",
     "output_type": "stream",
     "text": [
      "True\nFalse\nTrue\nFalse\n"
     ]
    }
   ],
   "source": [
    "nombre = \"Aitor Medrano\"\n",
    "print(\"i\" in nombre) # True\n",
    "print(\"u\" in nombre) # False\n",
    "print(\"Med\" in nombre) # True\n",
    "print(\"ai\" in nombre) # False (case sensitive)"
   ]
  },
  {
   "cell_type": "markdown",
   "metadata": {
    "application/vnd.databricks.v1+cell": {
     "cellMetadata": {},
     "inputWidgets": {},
     "nuid": "a052fee0-4b39-40e9-a58f-9d92140737e4",
     "showTitle": false,
     "tableResultSettingsMap": {},
     "title": ""
    }
   },
   "source": [
    "b. Muestra las ciudades que tienen la letra e y el número de veces que aparece en cada nombre. Por ejemplo ('Elche', 2)."
   ]
  },
  {
   "cell_type": "code",
   "execution_count": 0,
   "metadata": {
    "application/vnd.databricks.v1+cell": {
     "cellMetadata": {
      "byteLimit": 2048000,
      "rowLimit": 10000
     },
     "inputWidgets": {},
     "nuid": "7ed6bc62-9714-4561-86e5-35589e322c1f",
     "showTitle": false,
     "tableResultSettingsMap": {},
     "title": ""
    }
   },
   "outputs": [
    {
     "output_type": "stream",
     "name": "stdout",
     "output_type": "stream",
     "text": [
      "[('Alicante', 1), ('Elche', 1), ('Valencia', 1), ('Barcelona', 1), ('Sevilla', 1)]\n"
     ]
    }
   ],
   "source": [
    "ciudadesConEContadas = ciudadesConE.map(lambda ciudad: (ciudad, ciudad.count('e')))\n",
    "print(ciudadesConEContadas.collect())\n"
   ]
  },
  {
   "cell_type": "markdown",
   "metadata": {
    "application/vnd.databricks.v1+cell": {
     "cellMetadata": {},
     "inputWidgets": {},
     "nuid": "eb5e1e87-2059-48ce-ad06-8f0e226293d5",
     "showTitle": false,
     "tableResultSettingsMap": {},
     "title": ""
    }
   },
   "source": [
    "c. Averigua las ciudades que solo tengan una única e."
   ]
  },
  {
   "cell_type": "code",
   "execution_count": 0,
   "metadata": {
    "application/vnd.databricks.v1+cell": {
     "cellMetadata": {
      "byteLimit": 2048000,
      "rowLimit": 10000
     },
     "inputWidgets": {},
     "nuid": "1b48a1c6-60fd-4acd-b2e3-1185a164c3ba",
     "showTitle": false,
     "tableResultSettingsMap": {},
     "title": ""
    }
   },
   "outputs": [
    {
     "output_type": "stream",
     "name": "stdout",
     "output_type": "stream",
     "text": [
      "[('Alicante', 1), ('Elche', 1), ('Valencia', 1), ('Barcelona', 1), ('Sevilla', 1)]\n"
     ]
    }
   ],
   "source": [
    "ciudadesUnaE = ciudadesConEContadas.filter(lambda x: x[1] == 1)\n",
    "print(ciudadesUnaE.collect())\n"
   ]
  },
  {
   "cell_type": "markdown",
   "metadata": {
    "application/vnd.databricks.v1+cell": {
     "cellMetadata": {},
     "inputWidgets": {},
     "nuid": "fba0a98b-b1b3-4ecf-8a00-26125767b96d",
     "showTitle": false,
     "tableResultSettingsMap": {},
     "title": ""
    }
   },
   "source": [
    "d. Nos han enviado una nueva lista pero no han separado bien las ciudades. Reorganiza la lista y colócalas correctamente, y cuenta las apariciones de la letra e de cada ciudad. ciudades_mal = [['Alicante.Elche','Valencia','Madrid.Barcelona','Bilbao.Sevilla'],['Murcia','San Sebastián','Melilla.Aspe']]"
   ]
  },
  {
   "cell_type": "code",
   "execution_count": 0,
   "metadata": {
    "application/vnd.databricks.v1+cell": {
     "cellMetadata": {
      "byteLimit": 2048000,
      "rowLimit": 10000
     },
     "inputWidgets": {},
     "nuid": "e8b02079-8791-40fe-a2d4-ed1e4f4044d3",
     "showTitle": false,
     "tableResultSettingsMap": {},
     "title": ""
    }
   },
   "outputs": [
    {
     "output_type": "stream",
     "name": "stdout",
     "output_type": "stream",
     "text": [
      "[('Alicante', 1), ('Elche', 1), ('Valencia', 1), ('Madrid', 0), ('Barcelona', 1), ('Bilbao', 0), ('Sevilla', 1), ('Murcia', 0), ('San Sebastián', 1), ('Melilla', 1), ('Aspe', 1)]\n"
     ]
    }
   ],
   "source": [
    "# Nueva lista mal formada\n",
    "ciudades_mal = [['Alicante.Elche', 'Valencia', 'Madrid.Barcelona', 'Bilbao.Sevilla'], ['Murcia', 'San Sebastián', 'Melilla.Aspe']]\n",
    "\n",
    "# Crear un RDD a partir de la lista mal formada\n",
    "rddCiudadesMal = sc.parallelize(ciudades_mal)\n",
    "\n",
    "# Reorganizar la lista: Separar cada ciudad usando \".\" como delimitador y aplanar el resultado\n",
    "rddCiudadesBien = rddCiudadesMal.flatMap(lambda lista: [ciudad for sub in lista for ciudad in sub.split('.')])\n",
    "\n",
    "# Contar las apariciones de la letra \"e\" en cada ciudad\n",
    "ciudadesConEContadasBien = rddCiudadesBien.map(lambda ciudad: (ciudad, ciudad.count('e')))\n",
    "print(ciudadesConEContadasBien.collect())\n"
   ]
  },
  {
   "cell_type": "markdown",
   "metadata": {
    "application/vnd.databricks.v1+cell": {
     "cellMetadata": {},
     "inputWidgets": {},
     "nuid": "0415fcb4-d548-4792-bc90-cbb962e92afc",
     "showTitle": false,
     "tableResultSettingsMap": {},
     "title": ""
    }
   },
   "source": [
    "**2.** Dada una lista de elementos desordenados y algunos repetidos, devolver una muestra de 5 elementos, que estén en la lista, sin repetir y ordenados descendentemente."
   ]
  },
  {
   "cell_type": "code",
   "execution_count": 0,
   "metadata": {
    "application/vnd.databricks.v1+cell": {
     "cellMetadata": {
      "byteLimit": 2048000,
      "rowLimit": 10000
     },
     "inputWidgets": {},
     "nuid": "18ea469c-7736-4405-bacd-78372aa3915f",
     "showTitle": false,
     "tableResultSettingsMap": {},
     "title": ""
    }
   },
   "outputs": [],
   "source": [
    "lista = 4,6,34,7,9,2,3,4,4,21,4,6,8,9,7,8,5,4,3,22,34,56,98"
   ]
  },
  {
   "cell_type": "code",
   "execution_count": 0,
   "metadata": {
    "application/vnd.databricks.v1+cell": {
     "cellMetadata": {
      "byteLimit": 2048000,
      "rowLimit": 10000
     },
     "inputWidgets": {},
     "nuid": "0bf018a5-486c-4c06-9189-332bff98373a",
     "showTitle": false,
     "tableResultSettingsMap": {},
     "title": ""
    }
   },
   "outputs": [
    {
     "output_type": "stream",
     "name": "stdout",
     "output_type": "stream",
     "text": [
      "[98, 56, 34, 22, 21]\n"
     ]
    }
   ],
   "source": [
    "rdd = sc.parallelize(lista)\n",
    "\n",
    "# Quitar duplicados, tomar una muestra de 5 elementos y ordenarlos descendentemente\n",
    "rddSinDuplicados = rdd.distinct()\n",
    "muestraOrdenada = rddSinDuplicados.takeOrdered(5, key=lambda x: -x)\n",
    "print(muestraOrdenada)  # [98, 56, 34, 22, 21]\n"
   ]
  },
  {
   "cell_type": "markdown",
   "metadata": {
    "application/vnd.databricks.v1+cell": {
     "cellMetadata": {},
     "inputWidgets": {},
     "nuid": "b29b9e05-125a-475c-a7c8-1f905d32d87b",
     "showTitle": false,
     "tableResultSettingsMap": {},
     "title": ""
    }
   },
   "source": [
    "a. Selecciona el elemento mayor de la lista resultante.  \n",
    "b. Muestra los dos elementos menores."
   ]
  },
  {
   "cell_type": "code",
   "execution_count": 0,
   "metadata": {
    "application/vnd.databricks.v1+cell": {
     "cellMetadata": {
      "byteLimit": 2048000,
      "rowLimit": 10000
     },
     "inputWidgets": {},
     "nuid": "3d3b96bb-c248-4e8f-8921-5859bd96e022",
     "showTitle": false,
     "tableResultSettingsMap": {},
     "title": ""
    }
   },
   "outputs": [
    {
     "output_type": "stream",
     "name": "stdout",
     "output_type": "stream",
     "text": [
      "98\n"
     ]
    }
   ],
   "source": [
    "# a.\n",
    "mayorElemento = max(muestraOrdenada)\n",
    "print(mayorElemento)  # 98\n"
   ]
  },
  {
   "cell_type": "code",
   "execution_count": 0,
   "metadata": {
    "application/vnd.databricks.v1+cell": {
     "cellMetadata": {
      "byteLimit": 2048000,
      "rowLimit": 10000
     },
     "inputWidgets": {},
     "nuid": "0e06327a-f21c-4c59-9422-7296a15f1bd1",
     "showTitle": false,
     "tableResultSettingsMap": {},
     "title": ""
    }
   },
   "outputs": [
    {
     "output_type": "stream",
     "name": "stdout",
     "output_type": "stream",
     "text": [
      "[21, 22]\n"
     ]
    }
   ],
   "source": [
    "# b.\n",
    "menoresElementos = sorted(muestraOrdenada)[0:2]\n",
    "print(menoresElementos)  # [21, 22]\n"
   ]
  },
  {
   "cell_type": "markdown",
   "metadata": {
    "application/vnd.databricks.v1+cell": {
     "cellMetadata": {},
     "inputWidgets": {},
     "nuid": "b535f0d4-da7b-4f2d-b44a-ec6b73f9c732",
     "showTitle": false,
     "tableResultSettingsMap": {},
     "title": ""
    }
   },
   "source": [
    "**3.** A partir de las siguientes listas:"
   ]
  },
  {
   "cell_type": "markdown",
   "metadata": {
    "application/vnd.databricks.v1+cell": {
     "cellMetadata": {},
     "inputWidgets": {},
     "nuid": "23298a34-3680-44b8-ba4a-1425a0f78b30",
     "showTitle": false,
     "tableResultSettingsMap": {},
     "title": ""
    }
   },
   "source": [
    "- Inglés: hello, table, angel, cat, dog, animal, chocolate, dark, doctor, hospital, computer.\n",
    "- Español: hola, mesa, angel, gato, perro, animal, chocolate, oscuro, doctor, hospital, ordenador."
   ]
  },
  {
   "cell_type": "code",
   "execution_count": 0,
   "metadata": {
    "application/vnd.databricks.v1+cell": {
     "cellMetadata": {
      "byteLimit": 2048000,
      "rowLimit": 10000
     },
     "inputWidgets": {},
     "nuid": "6686f26a-e97d-495e-9270-b57cd2360e1f",
     "showTitle": false,
     "tableResultSettingsMap": {},
     "title": ""
    }
   },
   "outputs": [],
   "source": [
    "ingles = ['hello', 'table', 'angel', 'cat', 'dog', 'animal', 'chocolate', 'dark', 'doctor', 'hospital', 'computer']\n",
    "espanol = ['hola', 'mesa', 'angel', 'gato', 'perro', 'animal', 'chocolate', 'oscuro', 'doctor', 'hospital', 'ordenador']\n"
   ]
  },
  {
   "cell_type": "markdown",
   "metadata": {
    "application/vnd.databricks.v1+cell": {
     "cellMetadata": {},
     "inputWidgets": {},
     "nuid": "255bed30-27e0-438b-8a90-204fea45ea18",
     "showTitle": false,
     "tableResultSettingsMap": {},
     "title": ""
    }
   },
   "source": [
    "Una vez creado un RDD con tuplas de palabras y su traducción (puedes usar zip para unir dos listas):"
   ]
  },
  {
   "cell_type": "code",
   "execution_count": 0,
   "metadata": {
    "application/vnd.databricks.v1+cell": {
     "cellMetadata": {
      "byteLimit": 2048000,
      "rowLimit": 10000
     },
     "inputWidgets": {},
     "nuid": "52a4949d-2ec9-413a-86f9-d288e4169504",
     "showTitle": false,
     "tableResultSettingsMap": {},
     "title": ""
    }
   },
   "outputs": [],
   "source": [
    "rddInglesEspanol = sc.parallelize(list(zip(ingles, espanol)))\n"
   ]
  },
  {
   "cell_type": "markdown",
   "metadata": {
    "application/vnd.databricks.v1+cell": {
     "cellMetadata": {},
     "inputWidgets": {},
     "nuid": "cb3c8995-4c4e-41ec-b776-6b4261852cec",
     "showTitle": false,
     "tableResultSettingsMap": {},
     "title": ""
    }
   },
   "source": [
    "[('hello', 'hola'),\n",
    " ('table', 'mesa'),\n",
    " ('angel', 'angel'),\n",
    " ('cat', 'gato')..."
   ]
  },
  {
   "cell_type": "markdown",
   "metadata": {
    "application/vnd.databricks.v1+cell": {
     "cellMetadata": {},
     "inputWidgets": {},
     "nuid": "966ea589-5364-4e7b-bc9c-53abba8a302e",
     "showTitle": false,
     "tableResultSettingsMap": {},
     "title": ""
    }
   },
   "source": [
    "Averigua:  "
   ]
  },
  {
   "cell_type": "markdown",
   "metadata": {
    "application/vnd.databricks.v1+cell": {
     "cellMetadata": {},
     "inputWidgets": {},
     "nuid": "c8de908c-d8b9-48f7-ab5a-3ee0283cbaf8",
     "showTitle": false,
     "tableResultSettingsMap": {},
     "title": ""
    }
   },
   "source": [
    "a. Palabras que se escriben igual en inglés y en español.  \n",
    "b. Palabras que en español son distintas que en inglés.  \n",
    "c. Obtén una única lista con las palabras en ambos idiomas que son distintas entre ellas (['hello', 'hola', 'table', ...).  \n",
    "d. Haz dos grupos con todas las palabras, uno con las que empiezan por vocal y otro con las que empiecen por consonante.  "
   ]
  },
  {
   "cell_type": "code",
   "execution_count": 0,
   "metadata": {
    "application/vnd.databricks.v1+cell": {
     "cellMetadata": {
      "byteLimit": 2048000,
      "rowLimit": 10000
     },
     "inputWidgets": {},
     "nuid": "71812158-8f21-4282-8b82-fe3d0fad01ee",
     "showTitle": false,
     "tableResultSettingsMap": {},
     "title": ""
    }
   },
   "outputs": [
    {
     "output_type": "stream",
     "name": "stdout",
     "output_type": "stream",
     "text": [
      "[('angel', 'angel'), ('animal', 'animal'), ('chocolate', 'chocolate'), ('doctor', 'doctor'), ('hospital', 'hospital')]\n"
     ]
    }
   ],
   "source": [
    "#a\n",
    "palabrasIguales = rddInglesEspanol.filter(lambda x: x[0] == x[1])\n",
    "print(palabrasIguales.collect())  # [('angel', 'angel'), ('animal', 'animal'), ('chocolate', 'chocolate'), ('doctor', 'doctor'), ('hospital', 'hospital')]\n",
    "\n",
    "\n"
   ]
  },
  {
   "cell_type": "code",
   "execution_count": 0,
   "metadata": {
    "application/vnd.databricks.v1+cell": {
     "cellMetadata": {
      "byteLimit": 2048000,
      "rowLimit": 10000
     },
     "inputWidgets": {},
     "nuid": "7139e8fa-9343-4813-b38e-6570b337a0d3",
     "showTitle": false,
     "tableResultSettingsMap": {},
     "title": ""
    }
   },
   "outputs": [
    {
     "output_type": "stream",
     "name": "stdout",
     "output_type": "stream",
     "text": [
      "[('hello', 'hola'), ('table', 'mesa'), ('cat', 'gato'), ('dog', 'perro'), ('dark', 'oscuro'), ('computer', 'ordenador')]\n"
     ]
    }
   ],
   "source": [
    "#b\n",
    "palabrasDistintas = rddInglesEspanol.filter(lambda x: x[0] != x[1])\n",
    "print(palabrasDistintas.collect())  # [('hello', 'hola'), ('table', 'mesa'), ('cat', 'gato'), ('dog', 'perro'), ('dark', 'oscuro'), ('computer', 'ordenador')]"
   ]
  },
  {
   "cell_type": "code",
   "execution_count": 0,
   "metadata": {
    "application/vnd.databricks.v1+cell": {
     "cellMetadata": {
      "byteLimit": 2048000,
      "rowLimit": 10000
     },
     "inputWidgets": {},
     "nuid": "6f01afa7-530e-4515-97ec-56b64dbccab4",
     "showTitle": false,
     "tableResultSettingsMap": {},
     "title": ""
    }
   },
   "outputs": [
    {
     "output_type": "stream",
     "name": "stdout",
     "output_type": "stream",
     "text": [
      "['hello', 'hola', 'table', 'mesa', 'cat', 'gato', 'dog', 'perro', 'dark', 'oscuro', 'computer', 'ordenador']\n"
     ]
    }
   ],
   "source": [
    "#c\n",
    "palabrasDistintasLista = palabrasDistintas.flatMap(lambda x: [x[0], x[1]]).collect()\n",
    "print(palabrasDistintasLista)  # ['hello', 'hola', 'table', 'mesa', 'cat', 'gato', 'dog', 'perro', 'dark', 'oscuro', 'computer', 'ordenador']"
   ]
  },
  {
   "cell_type": "code",
   "execution_count": 0,
   "metadata": {
    "application/vnd.databricks.v1+cell": {
     "cellMetadata": {
      "byteLimit": 2048000,
      "rowLimit": 10000
     },
     "inputWidgets": {},
     "nuid": "b252a186-35da-4d27-85f2-269debc448ed",
     "showTitle": false,
     "tableResultSettingsMap": {},
     "title": ""
    }
   },
   "outputs": [
    {
     "output_type": "stream",
     "name": "stdout",
     "output_type": "stream",
     "text": [
      "['angel', 'angel', 'animal', 'animal', 'oscuro', 'ordenador']\n['hello', 'hola', 'table', 'mesa', 'cat', 'gato', 'dog', 'perro', 'chocolate', 'chocolate', 'dark', 'doctor', 'doctor', 'hospital', 'hospital', 'computer']\n"
     ]
    }
   ],
   "source": [
    "#d\n",
    "todasLasPalabras = rddInglesEspanol.flatMap(lambda x: [x[0], x[1]])\n",
    "\n",
    "vocales = todasLasPalabras.filter(lambda palabra: palabra[0].lower() in ['a', 'e', 'i', 'o', 'u'])\n",
    "print(vocales.collect())  # ['angel', 'animal', 'oscuro', 'ordenador']\n",
    "consonantes = todasLasPalabras.filter(lambda palabra: palabra[0].lower() not in ['a', 'e', 'i', 'o', 'u'])\n",
    "print(consonantes.collect())  # ['hello', 'hola', 'table', 'mesa', 'cat', 'gato', 'dog', 'perro', 'chocolate', 'doctor', 'hospital', 'computer']"
   ]
  },
  {
   "cell_type": "markdown",
   "metadata": {
    "application/vnd.databricks.v1+cell": {
     "cellMetadata": {},
     "inputWidgets": {},
     "nuid": "7ffd0947-4e39-4d00-b07c-081a9514fb34",
     "showTitle": false,
     "tableResultSettingsMap": {},
     "title": ""
    }
   },
   "source": [
    "**4.** A partir del fichero de [El Quijote](https://tajamar365.sharepoint.com/:t:/s/3405-MasterIA2024-2025/ERkcxiK7gt5Fr2KDytLuTXYBI3LdxtCa6IWeNvOTHFxbYQ?e=hCkatQ):"
   ]
  },
  {
   "cell_type": "code",
   "execution_count": 0,
   "metadata": {
    "application/vnd.databricks.v1+cell": {
     "cellMetadata": {
      "byteLimit": 2048000,
      "rowLimit": 10000
     },
     "inputWidgets": {},
     "nuid": "ccd43c28-bf7a-4f35-9dda-e703b054a6a6",
     "showTitle": false,
     "tableResultSettingsMap": {},
     "title": ""
    }
   },
   "outputs": [],
   "source": [
    "# Crear un RDD a partir del fichero de \"El Quijote\"\n",
    "rddQuijote = sc.textFile(\"dbfs:/FileStore/Notebook/el_quijote.txt\")\n"
   ]
  },
  {
   "cell_type": "markdown",
   "metadata": {
    "application/vnd.databricks.v1+cell": {
     "cellMetadata": {},
     "inputWidgets": {},
     "nuid": "96eeb60a-db89-46da-b7e5-a7f54bba74d6",
     "showTitle": false,
     "tableResultSettingsMap": {},
     "title": ""
    }
   },
   "source": [
    "a. Crear un RDD a partir del fichero y crea una lista con todas las palabras del documento.  \n",
    "b. ¿Cuantas veces aparece la palabra Dulcinea (independientemente de si está en mayúsculas o minúsculas)? ¿Y Rocinante? (86 y 120 ocurrencias respectivamente)  \n",
    "c. Devuelve una lista ordenada según el número de veces que sale cada palabra de más a menos (las primeras ocurrencias deben ser [('que', 10731), ('de', 9035), ('y', 8668), ('la', 5014), ...).  "
   ]
  },
  {
   "cell_type": "code",
   "execution_count": 0,
   "metadata": {
    "application/vnd.databricks.v1+cell": {
     "cellMetadata": {
      "byteLimit": 2048000,
      "rowLimit": 10000
     },
     "inputWidgets": {},
     "nuid": "02df74f8-246a-4a05-8f90-205ba9883e1a",
     "showTitle": false,
     "tableResultSettingsMap": {},
     "title": ""
    }
   },
   "outputs": [],
   "source": [
    "#a\n",
    "palabrasRDD = rddQuijote.flatMap(lambda linea: linea.split())\n"
   ]
  },
  {
   "cell_type": "code",
   "execution_count": 0,
   "metadata": {
    "application/vnd.databricks.v1+cell": {
     "cellMetadata": {
      "byteLimit": 2048000,
      "rowLimit": 10000
     },
     "inputWidgets": {},
     "nuid": "9417f227-37aa-4828-b2e3-2d6b29dbfb17",
     "showTitle": false,
     "tableResultSettingsMap": {},
     "title": ""
    }
   },
   "outputs": [
    {
     "output_type": "stream",
     "name": "stdout",
     "output_type": "stream",
     "text": [
      "Ocurrencias de Dulcinea: 47\nOcurrencias de Rocinante: 43\n"
     ]
    }
   ],
   "source": [
    "#b\n",
    "# Convertir todas las palabras a minúsculas\n",
    "palabrasMinusculasRDD = palabrasRDD.map(lambda palabra: palabra.lower())\n",
    "\n",
    "# Contar cuántas veces aparece \"dulcinea\"\n",
    "ocurrenciasDulcinea = palabrasMinusculasRDD.filter(lambda palabra: palabra == \"dulcinea\").count()\n",
    "print(f\"Ocurrencias de Dulcinea: {ocurrenciasDulcinea}\")  # Salida esperada: 86\n",
    "\n",
    "# Contar cuántas veces aparece \"rocinante\"\n",
    "ocurrenciasRocinante = palabrasMinusculasRDD.filter(lambda palabra: palabra == \"rocinante\").count()\n",
    "print(f\"Ocurrencias de Rocinante: {ocurrenciasRocinante}\")  # Salida esperada: 120\n"
   ]
  },
  {
   "cell_type": "code",
   "execution_count": 0,
   "metadata": {
    "application/vnd.databricks.v1+cell": {
     "cellMetadata": {
      "byteLimit": 2048000,
      "rowLimit": 10000
     },
     "inputWidgets": {},
     "nuid": "e636f8f4-f68f-4c9c-91f5-29a7219b2b87",
     "showTitle": false,
     "tableResultSettingsMap": {},
     "title": ""
    }
   },
   "outputs": [
    {
     "output_type": "stream",
     "name": "stdout",
     "output_type": "stream",
     "text": [
      "[('que', 10384), ('de', 9026), ('y', 8449), ('la', 5009), ('a', 4806), ('en', 4030), ('el', 3842), ('no', 2910), ('se', 2382), ('los', 2147)]\n"
     ]
    }
   ],
   "source": [
    "#c\n",
    "# Contar las apariciones de cada palabra\n",
    "palabrasContadasRDD = palabrasMinusculasRDD.map(lambda palabra: (palabra, 1)).reduceByKey(lambda a, b: a + b)\n",
    "\n",
    "# Ordenar las palabras según la frecuencia de más a menos\n",
    "palabrasOrdenadas = palabrasContadasRDD.sortBy(lambda x: x[1], ascending=False)\n",
    "\n",
    "# Recoger los resultados\n",
    "resultado = palabrasOrdenadas.collect()\n",
    "print(resultado[:10])  # Mostrar las 10 palabras más comunes\n"
   ]
  },
  {
   "cell_type": "markdown",
   "metadata": {
    "application/vnd.databricks.v1+cell": {
     "cellMetadata": {},
     "inputWidgets": {},
     "nuid": "5e6071cb-2288-46fd-bd33-a6a5a7d6121d",
     "showTitle": false,
     "tableResultSettingsMap": {},
     "title": ""
    }
   },
   "source": [
    "**5.** Dada una cadena que contiene una lista de nombres Juan, Jimena, Luis, Cristian, Laura, Lorena, Cristina, Jacobo, Jorge, una vez transformada la cadena en una lista y luego en un RDD:  \n",
    "a. Agrúpalos según su inicial, de manera que tengamos tuplas formadas por la letra inicial y todos los nombres que comienzan por dicha letra:"
   ]
  },
  {
   "cell_type": "code",
   "execution_count": 0,
   "metadata": {
    "application/vnd.databricks.v1+cell": {
     "cellMetadata": {
      "byteLimit": 2048000,
      "rowLimit": 10000
     },
     "inputWidgets": {},
     "nuid": "5aaf1281-c9ab-4431-b91c-5a4c89d168c1",
     "showTitle": false,
     "tableResultSettingsMap": {},
     "title": ""
    }
   },
   "outputs": [],
   "source": [
    "# Cadena con los nombres\n",
    "cadena = \"Juan, Jimena, Luis, Cristian, Laura, Lorena, Cristina, Jacobo, Jorge\"\n",
    "\n",
    "# Transformar la cadena en una lista\n",
    "lista_nombres = cadena.split(\", \")\n",
    "\n",
    "# Crear un RDD a partir de la lista\n",
    "rddNombres = sc.parallelize(lista_nombres)\n"
   ]
  },
  {
   "cell_type": "markdown",
   "metadata": {
    "application/vnd.databricks.v1+cell": {
     "cellMetadata": {},
     "inputWidgets": {},
     "nuid": "6d341fc0-e9df-4cfb-a31c-a177a2c11463",
     "showTitle": false,
     "tableResultSettingsMap": {},
     "title": ""
    }
   },
   "source": [
    "[('J', ['Juan', 'Jimena', 'Jacobo', 'Jorge']),\n",
    "('L', ['Luis', 'Laura', 'Lorena']),\n",
    "('C', ['Cristian', 'Cristina'])]"
   ]
  },
  {
   "cell_type": "code",
   "execution_count": 0,
   "metadata": {
    "application/vnd.databricks.v1+cell": {
     "cellMetadata": {
      "byteLimit": 2048000,
      "rowLimit": 10000
     },
     "inputWidgets": {},
     "nuid": "6605d376-e86a-4194-8795-05673c8ce94f",
     "showTitle": false,
     "tableResultSettingsMap": {},
     "title": ""
    }
   },
   "outputs": [
    {
     "output_type": "stream",
     "name": "stdout",
     "output_type": "stream",
     "text": [
      "[('J', ['Juan', 'Jimena', 'Jacobo', 'Jorge']), ('C', ['Cristian', 'Cristina']), ('L', ['Luis', 'Laura', 'Lorena'])]\n"
     ]
    }
   ],
   "source": [
    "# Crear pares (inicial, nombre)\n",
    "rddInicialNombre = rddNombres.map(lambda nombre: (nombre[0], nombre))\n",
    "\n",
    "# Agrupar los nombres por inicial\n",
    "agrupadosPorInicial = rddInicialNombre.groupByKey().mapValues(list)\n",
    "\n",
    "# Mostrar los resultados\n",
    "print(agrupadosPorInicial.collect())\n"
   ]
  },
  {
   "cell_type": "markdown",
   "metadata": {
    "application/vnd.databricks.v1+cell": {
     "cellMetadata": {},
     "inputWidgets": {},
     "nuid": "e415e48c-8d44-41a5-9aea-6f15ea5e4fd2",
     "showTitle": false,
     "tableResultSettingsMap": {},
     "title": ""
    }
   },
   "source": [
    "b. De la lista original, obtén una muestra de 5 elementos sin repetir valores."
   ]
  },
  {
   "cell_type": "code",
   "execution_count": 0,
   "metadata": {
    "application/vnd.databricks.v1+cell": {
     "cellMetadata": {
      "byteLimit": 2048000,
      "rowLimit": 10000
     },
     "inputWidgets": {},
     "nuid": "e0f53607-af7d-4b4b-8557-419e970a75d0",
     "showTitle": false,
     "tableResultSettingsMap": {},
     "title": ""
    }
   },
   "outputs": [
    {
     "output_type": "stream",
     "name": "stdout",
     "output_type": "stream",
     "text": [
      "['Juan', 'Cristian', 'Cristina', 'Jacobo', 'Laura']\n"
     ]
    }
   ],
   "source": [
    "muestraSinRepetir = rddNombres.distinct().takeSample(False, 5)\n",
    "print(muestraSinRepetir)\n"
   ]
  },
  {
   "cell_type": "markdown",
   "metadata": {
    "application/vnd.databricks.v1+cell": {
     "cellMetadata": {},
     "inputWidgets": {},
     "nuid": "0dacea35-d80b-439e-bf24-394dbf711304",
     "showTitle": false,
     "tableResultSettingsMap": {},
     "title": ""
    }
   },
   "source": [
    "c. Devuelve una muestra de datos de aproximadamente la mitad de registros que la lista original con datos que pudieran llegar a repetirse."
   ]
  },
  {
   "cell_type": "code",
   "execution_count": 0,
   "metadata": {
    "application/vnd.databricks.v1+cell": {
     "cellMetadata": {
      "byteLimit": 2048000,
      "rowLimit": 10000
     },
     "inputWidgets": {},
     "nuid": "e19e0338-bd19-46aa-9f14-e969dbdfb2bc",
     "showTitle": false,
     "tableResultSettingsMap": {},
     "title": ""
    }
   },
   "outputs": [
    {
     "output_type": "stream",
     "name": "stdout",
     "output_type": "stream",
     "text": [
      "['Juan', 'Luis', 'Cristian', 'Cristian', 'Lorena', 'Lorena', 'Lorena', 'Cristina']\n"
     ]
    }
   ],
   "source": [
    "muestraConRepeticion = rddNombres.sample(withReplacement=True, fraction=0.5)\n",
    "print(muestraConRepeticion.collect())\n"
   ]
  },
  {
   "cell_type": "markdown",
   "metadata": {
    "application/vnd.databricks.v1+cell": {
     "cellMetadata": {},
     "inputWidgets": {},
     "nuid": "2dfeebb2-f133-4786-9eed-928253bb636f",
     "showTitle": false,
     "tableResultSettingsMap": {},
     "title": ""
    }
   },
   "source": [
    "**6.** En una red social sobre cine, tenemos un fichero [ratings.txt](https://tajamar365.sharepoint.com/:t:/s/3405-MasterIA2024-2025/EaYOt-hRpDBIl2DrlGnLx38Bqolu9xt7f4weY1We7jrkCQ?e=EwltPA) compuesta por el código de la película, el código del usuario, la calificación asignada y el timestamp de la votación con el siguiente formato:"
   ]
  },
  {
   "cell_type": "markdown",
   "metadata": {
    "application/vnd.databricks.v1+cell": {
     "cellMetadata": {},
     "inputWidgets": {},
     "nuid": "f6799459-9f2d-4088-8720-3ba7331a8d68",
     "showTitle": false,
     "tableResultSettingsMap": {},
     "title": ""
    }
   },
   "source": [
    "1::1193::5::978300760\n",
    "1::661::3::978302109\n",
    "1::914::3::978301968"
   ]
  },
  {
   "cell_type": "markdown",
   "metadata": {
    "application/vnd.databricks.v1+cell": {
     "cellMetadata": {},
     "inputWidgets": {},
     "nuid": "cd724e07-4daa-4e34-8677-9794663e523a",
     "showTitle": false,
     "tableResultSettingsMap": {},
     "title": ""
    }
   },
   "source": [
    "Se pide crear dos script en Python, así como los comandos necesarios para ejecutarlos (mediante spark-submit) para:"
   ]
  },
  {
   "cell_type": "markdown",
   "metadata": {
    "application/vnd.databricks.v1+cell": {
     "cellMetadata": {},
     "inputWidgets": {},
     "nuid": "20147f74-d210-4c60-aea7-3d0a64b23e20",
     "showTitle": false,
     "tableResultSettingsMap": {},
     "title": ""
    }
   },
   "source": [
    "a. Obtener para cada película, la nota media de todas sus votaciones.  \n",
    "b. Películas cuya nota media sea superior a 3."
   ]
  },
  {
   "cell_type": "code",
   "execution_count": 0,
   "metadata": {
    "application/vnd.databricks.v1+cell": {
     "cellMetadata": {
      "byteLimit": 2048000,
      "rowLimit": 10000
     },
     "inputWidgets": {},
     "nuid": "2c871540-1123-416d-8934-d9f9f281ebab",
     "showTitle": false,
     "tableResultSettingsMap": {},
     "title": ""
    }
   },
   "outputs": [
    {
     "output_type": "display_data",
     "data": {
      "text/html": [
       "<style scoped>\n",
       "  .table-result-container {\n",
       "    max-height: 300px;\n",
       "    overflow: auto;\n",
       "  }\n",
       "  table, th, td {\n",
       "    border: 1px solid black;\n",
       "    border-collapse: collapse;\n",
       "  }\n",
       "  th, td {\n",
       "    padding: 5px;\n",
       "  }\n",
       "  th {\n",
       "    text-align: left;\n",
       "  }\n",
       "</style><div class='table-result-container'><table class='table-result'><thead style='background-color: white'><tr><th>pelicula_id</th><th>nota_media</th></tr></thead><tbody><tr><td>296</td><td>3.597938144329897</td></tr><tr><td>467</td><td>3.2028985507246377</td></tr><tr><td>675</td><td>3.3095238095238093</td></tr><tr><td>691</td><td>4.174757281553398</td></tr><tr><td>829</td><td>4.231884057971015</td></tr><tr><td>1090</td><td>3.3698630136986303</td></tr><tr><td>1436</td><td>3.9696969696969697</td></tr><tr><td>1512</td><td>3.235294117647059</td></tr><tr><td>1572</td><td>3.1777777777777776</td></tr><tr><td>125</td><td>4.098591549295775</td></tr><tr><td>451</td><td>4.511961722488039</td></tr><tr><td>800</td><td>3.4849624060150375</td></tr><tr><td>853</td><td>3.890909090909091</td></tr><tr><td>944</td><td>3.8444444444444446</td></tr><tr><td>1669</td><td>3.7333333333333334</td></tr><tr><td>666</td><td>3.8932038834951457</td></tr><tr><td>870</td><td>3.611111111111111</td></tr><tr><td>919</td><td>3.9355828220858897</td></tr><tr><td>926</td><td>4.247619047619048</td></tr><tr><td>1241</td><td>4.247422680412371</td></tr><tr><td>1265</td><td>3.183673469387755</td></tr><tr><td>1280</td><td>3.72</td></tr><tr><td>1361</td><td>4.135338345864661</td></tr><tr><td>1746</td><td>4.404907975460123</td></tr><tr><td>1808</td><td>3.4193548387096775</td></tr><tr><td>1870</td><td>3.7974683544303796</td></tr><tr><td>7</td><td>4.32258064516129</td></tr><tr><td>51</td><td>3.825</td></tr><tr><td>124</td><td>4.173913043478261</td></tr><tr><td>447</td><td>4.837837837837838</td></tr><tr><td>591</td><td>3.231404958677686</td></tr><tr><td>1528</td><td>4.086956521739131</td></tr><tr><td>1903</td><td>4.020304568527918</td></tr><tr><td>1953</td><td>3.7941176470588234</td></tr><tr><td>307</td><td>4.593406593406593</td></tr><tr><td>475</td><td>3.8299595141700404</td></tr><tr><td>574</td><td>4.095238095238095</td></tr><tr><td>613</td><td>3.5849056603773586</td></tr><tr><td>718</td><td>3.775147928994083</td></tr><tr><td>1500</td><td>3.9043478260869566</td></tr><tr><td>1695</td><td>3.6530612244897958</td></tr><tr><td>1773</td><td>3.7704918032786887</td></tr><tr><td>1897</td><td>3.710806697108067</td></tr><tr><td>1957</td><td>3.94</td></tr><tr><td>169</td><td>3.5670289855072466</td></tr><tr><td>205</td><td>4.0588235294117645</td></tr><tr><td>334</td><td>3.9508196721311477</td></tr><tr><td>544</td><td>3.7777777777777777</td></tr><tr><td>577</td><td>4.487341772151899</td></tr><tr><td>581</td><td>3.6666666666666665</td></tr><tr><td>740</td><td>4.243243243243243</td></tr><tr><td>747</td><td>3.59375</td></tr><tr><td>1043</td><td>3.9166666666666665</td></tr><tr><td>1425</td><td>3.647814910025707</td></tr><tr><td>1706</td><td>3.8</td></tr><tr><td>1880</td><td>3.344502617801047</td></tr><tr><td>272</td><td>3.6535269709543567</td></tr><tr><td>442</td><td>3.8486997635933804</td></tr><tr><td>462</td><td>3.536723163841808</td></tr><tr><td>470</td><td>3.8088235294117645</td></tr><tr><td>647</td><td>3.103896103896104</td></tr><tr><td>711</td><td>4.0</td></tr><tr><td>743</td><td>3.38255033557047</td></tr><tr><td>975</td><td>3.25990099009901</td></tr><tr><td>1104</td><td>3.8333333333333335</td></tr><tr><td>1349</td><td>4.651162790697675</td></tr><tr><td>1485</td><td>3.9130434782608696</td></tr><tr><td>1956</td><td>3.123076923076923</td></tr><tr><td>15</td><td>3.3233830845771144</td></tr><tr><td>54</td><td>4.025</td></tr><tr><td>232</td><td>3.566666666666667</td></tr><tr><td>234</td><td>4.310344827586207</td></tr><tr><td>282</td><td>3.5172413793103448</td></tr><tr><td>383</td><td>3.5714285714285716</td></tr><tr><td>448</td><td>3.4347826086956523</td></tr><tr><td>700</td><td>3.875</td></tr><tr><td>1008</td><td>3.84</td></tr><tr><td>1305</td><td>4.333333333333333</td></tr><tr><td>1435</td><td>3.4571428571428573</td></tr><tr><td>1487</td><td>3.2195121951219514</td></tr><tr><td>1686</td><td>3.5357142857142856</td></tr><tr><td>1765</td><td>3.981132075471698</td></tr><tr><td>635</td><td>4.3107344632768365</td></tr><tr><td>851</td><td>3.5921052631578947</td></tr><tr><td>862</td><td>3.6724137931034484</td></tr><tr><td>886</td><td>3.6285714285714286</td></tr><tr><td>940</td><td>3.1923076923076925</td></tr><tr><td>1158</td><td>3.640625</td></tr><tr><td>1304</td><td>3.9642857142857144</td></tr><tr><td>1412</td><td>3.3333333333333335</td></tr><tr><td>1791</td><td>3.586206896551724</td></tr><tr><td>1936</td><td>3.7142857142857144</td></tr><tr><td>132</td><td>3.966292134831461</td></tr><tr><td>154</td><td>3.090909090909091</td></tr><tr><td>317</td><td>3.8095238095238093</td></tr><tr><td>714</td><td>4.1635071090047395</td></tr><tr><td>727</td><td>3.6987951807228914</td></tr><tr><td>987</td><td>4.017045454545454</td></tr><tr><td>200</td><td>3.423076923076923</td></tr><tr><td>388</td><td>3.8813559322033897</td></tr><tr><td>428</td><td>3.9</td></tr><tr><td>495</td><td>3.7954545454545454</td></tr><tr><td>521</td><td>4.2926829268292686</td></tr><tr><td>625</td><td>4.0</td></tr><tr><td>1236</td><td>3.375</td></tr><tr><td>1290</td><td>4.181818181818182</td></tr><tr><td>1492</td><td>3.2149532710280373</td></tr><tr><td>1601</td><td>3.9073170731707316</td></tr><tr><td>11</td><td>3.2773722627737225</td></tr><tr><td>101</td><td>4.679245283018868</td></tr><tr><td>672</td><td>3.872340425531915</td></tr><tr><td>854</td><td>3.027667984189723</td></tr><tr><td>938</td><td>3.870967741935484</td></tr><tr><td>986</td><td>3.772727272727273</td></tr><tr><td>1041</td><td>4.317647058823529</td></tr><tr><td>1093</td><td>3.3857142857142857</td></tr><tr><td>1192</td><td>4.379310344827586</td></tr><tr><td>1235</td><td>3.7</td></tr><tr><td>1259</td><td>3.9833333333333334</td></tr><tr><td>1518</td><td>4.48</td></tr><tr><td>1539</td><td>4.37037037037037</td></tr><tr><td>1624</td><td>3.005714285714286</td></tr><tr><td>1793</td><td>3.4006968641114983</td></tr><tr><td>1958</td><td>3.2746478873239435</td></tr><tr><td>415</td><td>3.874538745387454</td></tr><tr><td>422</td><td>3.297872340425532</td></tr><tr><td>433</td><td>3.391304347826087</td></tr><tr><td>543</td><td>4.078986587183309</td></tr><tr><td>595</td><td>3.95</td></tr><tr><td>685</td><td>3.2357142857142858</td></tr><tr><td>979</td><td>4.04054054054054</td></tr><tr><td>1112</td><td>3.4418262150220915</td></tr><tr><td>1318</td><td>3.0476190476190474</td></tr><tr><td>1856</td><td>4.6940298507462686</td></tr><tr><td>138</td><td>4.492307692307692</td></tr><tr><td>323</td><td>3.788135593220339</td></tr><tr><td>351</td><td>3.7572815533980584</td></tr><tr><td>361</td><td>3.5384615384615383</td></tr><tr><td>387</td><td>3.676470588235294</td></tr><tr><td>823</td><td>3.8677685950413223</td></tr><tr><td>961</td><td>3.74</td></tr><tr><td>1111</td><td>4.03030303030303</td></tr><tr><td>1497</td><td>3.864321608040201</td></tr><tr><td>1620</td><td>3.9444444444444446</td></tr><tr><td>1910</td><td>3.641509433962264</td></tr><tr><td>29</td><td>3.5833333333333335</td></tr><tr><td>69</td><td>4.153846153846154</td></tr><tr><td>309</td><td>4.040650406504065</td></tr><tr><td>419</td><td>3.962962962962963</td></tr><tr><td>703</td><td>4.1</td></tr><tr><td>724</td><td>3.643312101910828</td></tr><tr><td>788</td><td>3.5255102040816326</td></tr><tr><td>1099</td><td>3.5106382978723403</td></tr><tr><td>1205</td><td>3.9411764705882355</td></tr><tr><td>1483</td><td>3.0968992248062017</td></tr><tr><td>1623</td><td>4.214285714285714</td></tr><tr><td>1735</td><td>3.2337662337662336</td></tr><tr><td>1943</td><td>3.6205882352941177</td></tr><tr><td>42</td><td>3.74025974025974</td></tr><tr><td>112</td><td>4.183333333333334</td></tr><tr><td>424</td><td>3.735725938009788</td></tr><tr><td>534</td><td>3.7475728155339807</td></tr><tr><td>586</td><td>4.485714285714286</td></tr><tr><td>863</td><td>4.225806451612903</td></tr><tr><td>991</td><td>3.75</td></tr><tr><td>1728</td><td>4.212765957446808</td></tr><tr><td>73</td><td>3.364705882352941</td></tr><tr><td>434</td><td>4.023255813953488</td></tr><tr><td>468</td><td>3.730769230769231</td></tr><tr><td>626</td><td>4.055555555555555</td></tr><tr><td>686</td><td>3.7777777777777777</td></tr><tr><td>890</td><td>3.969298245614035</td></tr><tr><td>974</td><td>3.7333333333333334</td></tr><tr><td>1135</td><td>3.813953488372093</td></tr><tr><td>1508</td><td>3.310344827586207</td></tr><tr><td>1526</td><td>4.15625</td></tr><tr><td>1915</td><td>3.6052631578947367</td></tr><tr><td>64</td><td>4.148148148148148</td></tr><tr><td>308</td><td>3.385996409335727</td></tr><tr><td>348</td><td>3.78</td></tr><tr><td>356</td><td>4.380952380952381</td></tr><tr><td>459</td><td>3.6875</td></tr><tr><td>512</td><td>3.8378378378378377</td></tr><tr><td>710</td><td>3.4271186440677965</td></tr><tr><td>1021</td><td>4.694656488549619</td></tr><tr><td>1429</td><td>3.2916666666666665</td></tr><tr><td>1584</td><td>3.3253796095444685</td></tr><tr><td>1673</td><td>4.37037037037037</td></tr><tr><td>1692</td><td>4.478260869565218</td></tr><tr><td>3</td><td>3.9019607843137254</td></tr><tr><td>446</td><td>4.8431372549019605</td></tr><tr><td>478</td><td>3.869565217391304</td></tr><tr><td>541</td><td>3.1894736842105265</td></tr><tr><td>970</td><td>3.1493624772313296</td></tr><tr><td>1032</td><td>3.941747572815534</td></tr><tr><td>1056</td><td>3.473684210526316</td></tr><tr><td>1729</td><td>3.086206896551724</td></tr><tr><td>1805</td><td>4.086206896551724</td></tr><tr><td>1931</td><td>3.616279069767442</td></tr><tr><td>30</td><td>3.488372093023256</td></tr><tr><td>113</td><td>3.5</td></tr><tr><td>406</td><td>3.306122448979592</td></tr><tr><td>584</td><td>4.2894736842105265</td></tr><tr><td>1012</td><td>3.3636363636363638</td></tr><tr><td>1215</td><td>4.034782608695652</td></tr><tr><td>1298</td><td>3.8273615635179152</td></tr><tr><td>1365</td><td>3.626865671641791</td></tr><tr><td>1556</td><td>3.208695652173913</td></tr><tr><td>1569</td><td>4.588888888888889</td></tr><tr><td>34</td><td>3.8658536585365852</td></tr><tr><td>443</td><td>3.823529411764706</td></tr><tr><td>786</td><td>4.063492063492063</td></tr><tr><td>880</td><td>3.4956521739130433</td></tr><tr><td>910</td><td>3.6012269938650308</td></tr><tr><td>924</td><td>3.9899497487437188</td></tr><tr><td>1136</td><td>3.267857142857143</td></tr><tr><td>1758</td><td>3.9465116279069767</td></tr><tr><td>133</td><td>3.7705882352941176</td></tr><tr><td>874</td><td>3.7857142857142856</td></tr><tr><td>878</td><td>4.142857142857143</td></tr><tr><td>1097</td><td>3.4702380952380953</td></tr><tr><td>287</td><td>3.70873786407767</td></tr><tr><td>365</td><td>3.3404255319148937</td></tr><tr><td>389</td><td>3.5616438356164384</td></tr><tr><td>425</td><td>3.6613756613756614</td></tr><tr><td>524</td><td>3.608267716535433</td></tr><tr><td>670</td><td>3.2444444444444445</td></tr><tr><td>737</td><td>3.5668202764976957</td></tr><tr><td>895</td><td>3.953125</td></tr><tr><td>966</td><td>3.5636363636363635</td></tr><tr><td>995</td><td>3.8979591836734695</td></tr><tr><td>1124</td><td>3.7712082262210798</td></tr><tr><td>1300</td><td>3.4819277108433737</td></tr><tr><td>1477</td><td>4.0606060606060606</td></tr><tr><td>1642</td><td>3.5</td></tr><tr><td>1655</td><td>3.8</td></tr><tr><td>59</td><td>3.4741784037558685</td></tr><tr><td>162</td><td>4.121495327102804</td></tr><tr><td>903</td><td>3.4594594594594597</td></tr><tr><td>989</td><td>4.681818181818182</td></tr><tr><td>1282</td><td>4.095238095238095</td></tr><tr><td>1459</td><td>4.0476190476190474</td></tr><tr><td>1535</td><td>3.896551724137931</td></tr><tr><td>1678</td><td>3.4508196721311477</td></tr><tr><td>1775</td><td>3.7225806451612904</td></tr><tr><td>1836</td><td>4.168269230769231</td></tr><tr><td>139</td><td>3.8816326530612244</td></tr><tr><td>146</td><td>3.7699530516431925</td></tr><tr><td>250</td><td>3.75</td></tr><tr><td>310</td><td>3.4260089686098656</td></tr><tr><td>1510</td><td>3.606060606060606</td></tr><tr><td>1530</td><td>3.8514851485148514</td></tr><tr><td>1911</td><td>3.5483870967741935</td></tr><tr><td>1926</td><td>4.085470085470085</td></tr><tr><td>1938</td><td>3.1314285714285712</td></tr><tr><td>352</td><td>3.4793103448275864</td></tr><tr><td>379</td><td>4.234375</td></tr><tr><td>782</td><td>3.4347826086956523</td></tr><tr><td>1109</td><td>3.0878048780487806</td></tr><tr><td>1252</td><td>4.02542372881356</td></tr><tr><td>1347</td><td>3.778481012658228</td></tr><tr><td>8</td><td>3.884892086330935</td></tr><tr><td>160</td><td>3.5</td></tr><tr><td>695</td><td>3.513089005235602</td></tr><tr><td>1089</td><td>4.0</td></tr><tr><td>1296</td><td>3.8958333333333335</td></tr><tr><td>1679</td><td>3.926829268292683</td></tr><tr><td>1882</td><td>3.780269058295964</td></tr><tr><td>1932</td><td>3.6666666666666665</td></tr><tr><td>894</td><td>4.442857142857143</td></tr><tr><td>1117</td><td>3.777188328912467</td></tr><tr><td>1227</td><td>3.792207792207792</td></tr><tr><td>1407</td><td>4.082417582417582</td></tr><tr><td>1737</td><td>3.410322580645161</td></tr><tr><td>1764</td><td>4.091353996737357</td></tr><tr><td>1821</td><td>4.037037037037037</td></tr><tr><td>258</td><td>3.717241379310345</td></tr><tr><td>479</td><td>3.827956989247312</td></tr><tr><td>692</td><td>3.8240887480190175</td></tr><tr><td>787</td><td>3.58974358974359</td></tr><tr><td>951</td><td>4.523809523809524</td></tr><tr><td>1054</td><td>3.8897637795275593</td></tr><tr><td>1277</td><td>3.675675675675676</td></tr><tr><td>1345</td><td>3.7195767195767195</td></tr><tr><td>1367</td><td>3.7772511848341233</td></tr><tr><td>1452</td><td>4.15</td></tr><tr><td>1563</td><td>3.8095238095238093</td></tr><tr><td>1589</td><td>3.7777777777777777</td></tr><tr><td>1605</td><td>3.3122406639004147</td></tr><tr><td>1814</td><td>3.63265306122449</td></tr><tr><td>22</td><td>3.0673400673400675</td></tr><tr><td>28</td><td>3.7570093457943927</td></tr><tr><td>184</td><td>4.083333333333333</td></tr><tr><td>570</td><td>3.329113924050633</td></tr><tr><td>888</td><td>3.7777777777777777</td></tr><tr><td>1045</td><td>3.5405405405405403</td></tr><tr><td>1336</td><td>4.086956521739131</td></tr><tr><td>1482</td><td>3.2295081967213113</td></tr><tr><td>1501</td><td>3.726937269372694</td></tr><tr><td>1651</td><td>3.2</td></tr><tr><td>1707</td><td>4.329545454545454</td></tr><tr><td>199</td><td>3.2761194029850746</td></tr><tr><td>343</td><td>4.047138047138047</td></tr><tr><td>539</td><td>3.9242424242424243</td></tr><tr><td>628</td><td>3.9038461538461537</td></tr><tr><td>636</td><td>4.058139534883721</td></tr><tr><td>808</td><td>3.1236363636363635</td></tr><tr><td>813</td><td>3.343283582089552</td></tr><tr><td>843</td><td>3.9444444444444446</td></tr><tr><td>856</td><td>3.490566037735849</td></tr><tr><td>1062</td><td>4.484536082474227</td></tr><tr><td>1283</td><td>3.347826086956522</td></tr><tr><td>1379</td><td>3.25</td></tr><tr><td>1609</td><td>3.4206128133704734</td></tr><tr><td>663</td><td>3.580357142857143</td></tr><tr><td>730</td><td>3.7735849056603774</td></tr><tr><td>917</td><td>4.068965517241379</td></tr><tr><td>1213</td><td>4.041666666666667</td></tr><tr><td>1536</td><td>4.222222222222222</td></tr><tr><td>1788</td><td>3.84375</td></tr><tr><td>1804</td><td>3.4051724137931036</td></tr><tr><td>1941</td><td>3.0545454545454547</td></tr><tr><td>85</td><td>3.1025641025641026</td></tr><tr><td>556</td><td>3.5</td></tr><tr><td>597</td><td>4.473684210526316</td></tr><tr><td>712</td><td>3.475177304964539</td></tr><tr><td>1013</td><td>3.847826086956522</td></tr><tr><td>1070</td><td>3.619047619047619</td></tr><tr><td>1334</td><td>3.9152542372881354</td></tr><tr><td>1427</td><td>3.6470588235294117</td></tr><tr><td>1455</td><td>3.7540983606557377</td></tr><tr><td>1722</td><td>4.242718446601942</td></tr><tr><td>1888</td><td>3.6176470588235294</td></tr><tr><td>16</td><td>3.0285714285714285</td></tr><tr><td>35</td><td>3.54040404040404</td></tr><tr><td>52</td><td>3.5569620253164556</td></tr><tr><td>251</td><td>3.5753424657534247</td></tr><tr><td>488</td><td>3.56</td></tr><tr><td>634</td><td>4.014925373134329</td></tr><tr><td>644</td><td>3.1203703703703702</td></tr><tr><td>742</td><td>3.9523809523809526</td></tr><tr><td>973</td><td>3.3963133640552994</td></tr><tr><td>1074</td><td>3.4479166666666665</td></tr><tr><td>1143</td><td>4.30188679245283</td></tr><tr><td>1475</td><td>3.8987341772151898</td></tr><tr><td>1565</td><td>3.74468085106383</td></tr><tr><td>1613</td><td>3.4264150943396228</td></tr><tr><td>1696</td><td>3.621019108280255</td></tr><tr><td>1711</td><td>3.6206896551724137</td></tr><tr><td>1919</td><td>3.5636363636363635</td></tr><tr><td>171</td><td>4.0</td></tr><tr><td>183</td><td>4.099009900990099</td></tr><tr><td>807</td><td>3.9696969696969697</td></tr><tr><td>868</td><td>3.6</td></tr><tr><td>933</td><td>3.7096774193548385</td></tr><tr><td>1405</td><td>3.7333333333333334</td></tr><tr><td>1598</td><td>3.494565217391304</td></tr><tr><td>1635</td><td>3.780580075662043</td></tr><tr><td>187</td><td>4.083932853717027</td></tr><tr><td>441</td><td>3.9574468085106385</td></tr><tr><td>964</td><td>3.717948717948718</td></tr><tr><td>1303</td><td>3.3205317577548006</td></tr><tr><td>1428</td><td>4.211538461538462</td></tr><tr><td>1457</td><td>3.95114006514658</td></tr><tr><td>1476</td><td>3.757142857142857</td></tr><tr><td>71</td><td>3.7586206896551726</td></tr><tr><td>410</td><td>3.96875</td></tr><tr><td>1004</td><td>3.1600831600831603</td></tr><tr><td>1431</td><td>3.380952380952381</td></tr><tr><td>1514</td><td>3.763779527559055</td></tr><tr><td>1664</td><td>3.4</td></tr><tr><td>1877</td><td>3.129251700680272</td></tr><tr><td>1906</td><td>3.6538461538461537</td></tr><tr><td>98</td><td>3.8</td></tr><tr><td>188</td><td>3.1690140845070425</td></tr><tr><td>276</td><td>3.5217391304347827</td></tr><tr><td>298</td><td>3.925925925925926</td></tr><tr><td>528</td><td>3.3551724137931034</td></tr><tr><td>749</td><td>3.3246187363834423</td></tr><tr><td>959</td><td>3.7395833333333335</td></tr><tr><td>980</td><td>3.2222222222222223</td></tr><tr><td>1133</td><td>3.386904761904762</td></tr><tr><td>1286</td><td>3.5</td></tr><tr><td>1371</td><td>4.2727272727272725</td></tr><tr><td>1416</td><td>3.5454545454545454</td></tr><tr><td>1486</td><td>3.5833333333333335</td></tr><tr><td>1783</td><td>3.5714285714285716</td></tr><tr><td>47</td><td>3.909090909090909</td></tr><tr><td>99</td><td>3.2149532710280373</td></tr><tr><td>195</td><td>3.889294403892944</td></tr><tr><td>223</td><td>3.44140625</td></tr><tr><td>458</td><td>3.5348837209302326</td></tr><tr><td>466</td><td>4.14070351758794</td></tr><tr><td>568</td><td>4.44</td></tr><tr><td>594</td><td>4.29559748427673</td></tr><tr><td>629</td><td>3.371308016877637</td></tr><tr><td>902</td><td>4.28</td></tr><tr><td>1141</td><td>3.3090128755364807</td></tr><tr><td>1549</td><td>3.619047619047619</td></tr><tr><td>697</td><td>3.8</td></tr><tr><td>1488</td><td>4.095238095238095</td></tr><tr><td>1519</td><td>3.528735632183908</td></tr><tr><td>1954</td><td>3.933774834437086</td></tr><tr><td>107</td><td>3.743801652892562</td></tr><tr><td>110</td><td>3.25</td></tr><tr><td>372</td><td>4.553571428571429</td></tr><tr><td>554</td><td>3.511627906976744</td></tr><tr><td>565</td><td>3.44</td></tr><tr><td>726</td><td>3.9315068493150687</td></tr><tr><td>892</td><td>3.911764705882353</td></tr><tr><td>1185</td><td>3.6444444444444444</td></tr><tr><td>1269</td><td>4.25</td></tr><tr><td>1375</td><td>3.9</td></tr><tr><td>785</td><td>3.2358490566037736</td></tr><tr><td>824</td><td>3.646103896103896</td></tr><tr><td>928</td><td>4.3254716981132075</td></tr><tr><td>1076</td><td>3.2439024390243905</td></tr><tr><td>1191</td><td>4.295238095238095</td></tr><tr><td>1770</td><td>3.269662921348315</td></tr><tr><td>390</td><td>3.6728971962616823</td></tr><tr><td>1145</td><td>3.3684210526315788</td></tr><tr><td>1266</td><td>3.3415977961432506</td></tr><tr><td>1544</td><td>3.690909090909091</td></tr><tr><td>1645</td><td>4.061302681992337</td></tr><tr><td>1866</td><td>4.093525179856115</td></tr><tr><td>214</td><td>3.1626506024096384</td></tr><tr><td>527</td><td>4.08</td></tr><tr><td>560</td><td>3.897810218978102</td></tr><tr><td>656</td><td>3.8700564971751414</td></tr><tr><td>1228</td><td>3.7768924302788847</td></tr><tr><td>1278</td><td>4.0</td></tr><tr><td>1387</td><td>3.6591928251121075</td></tr><tr><td>1637</td><td>3.988235294117647</td></tr><tr><td>1930</td><td>3.1666666666666665</td></tr><tr><td>267</td><td>3.3893129770992365</td></tr><tr><td>573</td><td>3.9722222222222223</td></tr><tr><td>609</td><td>4.346153846153846</td></tr><tr><td>850</td><td>3.5613718411552346</td></tr><tr><td>953</td><td>4.6878306878306875</td></tr><tr><td>1260</td><td>3.787819253438114</td></tr><tr><td>1593</td><td>3.0388349514563107</td></tr><tr><td>1909</td><td>3.526315789473684</td></tr><tr><td>284</td><td>3.021231422505308</td></tr><tr><td>408</td><td>4.352564102564102</td></tr><tr><td>440</td><td>3.586206896551724</td></tr><tr><td>520</td><td>3.9363057324840764</td></tr><tr><td>826</td><td>3.2857142857142856</td></tr><tr><td>1058</td><td>3.795518207282913</td></tr><tr><td>1494</td><td>3.795918367346939</td></tr><tr><td>1579</td><td>3.4496732026143793</td></tr><tr><td>1833</td><td>3.31</td></tr><tr><td>96</td><td>3.6049382716049383</td></tr><tr><td>202</td><td>3.2492537313432837</td></tr><tr><td>248</td><td>4.205882352941177</td></tr><tr><td>327</td><td>3.669491525423729</td></tr><tr><td>484</td><td>3.735294117647059</td></tr><tr><td>825</td><td>3.619047619047619</td></tr><tr><td>1006</td><td>3.0681818181818183</td></tr><tr><td>1462</td><td>3.5</td></tr><tr><td>1543</td><td>3.46242774566474</td></tr><tr><td>1648</td><td>3.442953020134228</td></tr><tr><td>1753</td><td>3.936619718309859</td></tr><tr><td>221</td><td>3.2413793103448274</td></tr><tr><td>320</td><td>4.238095238095238</td></tr><tr><td>610</td><td>3.484126984126984</td></tr><tr><td>804</td><td>3.272727272727273</td></tr><tr><td>1322</td><td>4.1171875</td></tr><tr><td>1454</td><td>3.8636363636363638</td></tr><tr><td>1610</td><td>3.9642857142857144</td></tr><tr><td>1733</td><td>3.5280095351609058</td></tr><tr><td>43</td><td>4.125</td></tr><tr><td>300</td><td>4.180722891566265</td></tr><tr><td>503</td><td>4.448275862068965</td></tr><tr><td>633</td><td>3.5813953488372094</td></tr><tr><td>873</td><td>3.8430232558139537</td></tr><tr><td>897</td><td>3.5566502463054186</td></tr><tr><td>1030</td><td>3.5789473684210527</td></tr><tr><td>1071</td><td>4.426573426573427</td></tr><tr><td>1607</td><td>3.1847826086956523</td></tr><tr><td>1898</td><td>3.923076923076923</td></tr><tr><td>5</td><td>3.1464646464646466</td></tr><tr><td>273</td><td>3.727272727272727</td></tr><tr><td>401</td><td>3.871794871794872</td></tr><tr><td>421</td><td>4.25</td></tr><tr><td>1505</td><td>3.738993710691824</td></tr><tr><td>1592</td><td>3.6209150326797386</td></tr><tr><td>1861</td><td>3.3369565217391304</td></tr><tr><td>31</td><td>3.73109243697479</td></tr><tr><td>797</td><td>4.036144578313253</td></tr><tr><td>815</td><td>4.068965517241379</td></tr><tr><td>1022</td><td>3.5616438356164384</td></tr><tr><td>1082</td><td>4.333333333333333</td></tr><tr><td>1307</td><td>4.333333333333333</td></tr><tr><td>1576</td><td>3.875</td></tr><tr><td>1782</td><td>3.5789473684210527</td></tr><tr><td>1940</td><td>4.671875</td></tr><tr><td>100</td><td>3.026315789473684</td></tr><tr><td>908</td><td>3.3076923076923075</td></tr><tr><td>1106</td><td>3.78125</td></tr><tr><td>1697</td><td>4.18361581920904</td></tr><tr><td>912</td><td>3.7209302325581395</td></tr><tr><td>1079</td><td>3.5867768595041323</td></tr><tr><td>1254</td><td>4.118181818181818</td></tr><tr><td>1383</td><td>3.329683698296837</td></tr><tr><td>1616</td><td>3.1338582677165356</td></tr><tr><td>1874</td><td>3.59375</td></tr><tr><td>1901</td><td>4.173333333333333</td></tr><tr><td>18</td><td>3.6491803278688524</td></tr><tr><td>359</td><td>3.857142857142857</td></tr><tr><td>481</td><td>3.696969696969697</td></tr><tr><td>523</td><td>4.06</td></tr><tr><td>1568</td><td>4.0</td></tr><tr><td>70</td><td>3.7037037037037037</td></tr><tr><td>476</td><td>3.8375870069605567</td></tr><tr><td>617</td><td>4.086956521739131</td></tr><tr><td>1052</td><td>4.343283582089552</td></tr><tr><td>1250</td><td>4.190476190476191</td></tr><tr><td>174</td><td>3.649484536082474</td></tr><tr><td>206</td><td>3.066666666666667</td></tr><tr><td>619</td><td>3.909090909090909</td></tr><tr><td>733</td><td>4.05982905982906</td></tr><tr><td>772</td><td>3.479591836734694</td></tr><tr><td>1016</td><td>3.7880794701986753</td></tr><tr><td>1354</td><td>3.404970760233918</td></tr><tr><td>1520</td><td>4.0</td></tr><tr><td>1829</td><td>3.3333333333333335</td></tr><tr><td>168</td><td>3.8461538461538463</td></tr><tr><td>453</td><td>3.66497461928934</td></tr><tr><td>502</td><td>4.083333333333333</td></tr><tr><td>632</td><td>3.7941176470588234</td></tr><tr><td>761</td><td>4.55</td></tr><tr><td>921</td><td>3.6962025316455698</td></tr><tr><td>1232</td><td>4.229629629629629</td></tr><tr><td>1816</td><td>4.096774193548387</td></tr><tr><td>224</td><td>3.4019607843137254</td></tr><tr><td>364</td><td>3.142857142857143</td></tr><tr><td>505</td><td>4.217391304347826</td></tr><tr><td>684</td><td>3.8947368421052633</td></tr><tr><td>981</td><td>3.3303964757709252</td></tr><tr><td>1182</td><td>3.357142857142857</td></tr><tr><td>1657</td><td>3.888888888888889</td></tr><tr><td>1863</td><td>4.5</td></tr><tr><td>27</td><td>4.171428571428572</td></tr><tr><td>218</td><td>3.0930232558139537</td></tr><tr><td>477</td><td>3.5829383886255926</td></tr><tr><td>496</td><td>4.294117647058823</td></tr><tr><td>649</td><td>3.6619718309859155</td></tr><tr><td>658</td><td>3.096774193548387</td></tr><tr><td>1276</td><td>4.1558441558441555</td></tr><tr><td>1398</td><td>3.710526315789474</td></tr><tr><td>1424</td><td>3.409090909090909</td></tr><tr><td>1812</td><td>3.7765042979942693</td></tr><tr><td>75</td><td>4.005714285714285</td></tr><tr><td>274</td><td>4.243243243243243</td></tr><tr><td>449</td><td>3.7222222222222223</td></tr><tr><td>493</td><td>3.848101265822785</td></tr><tr><td>639</td><td>3.705</td></tr><tr><td>667</td><td>3.0935672514619883</td></tr><tr><td>997</td><td>3.933333333333333</td></tr><tr><td>999</td><td>3.186893203883495</td></tr><tr><td>1238</td><td>3.7111111111111112</td></tr><tr><td>1263</td><td>3.139784946236559</td></tr><tr><td>1275</td><td>4.466666666666667</td></tr><tr><td>1421</td><td>3.758974358974359</td></tr><tr><td>1798</td><td>3.5970149253731343</td></tr><tr><td>1845</td><td>3.213636363636364</td></tr><tr><td>1550</td><td>3.9310344827586206</td></tr><tr><td>1554</td><td>3.806451612903226</td></tr><tr><td>1663</td><td>4.130434782608695</td></tr><tr><td>1809</td><td>3.142857142857143</td></tr><tr><td>1893</td><td>3.75</td></tr><tr><td>166</td><td>3.6878048780487807</td></tr><tr><td>219</td><td>3.3333333333333335</td></tr><tr><td>601</td><td>3.1501340482573728</td></tr><tr><td>614</td><td>3.8333333333333335</td></tr><tr><td>659</td><td>3.7</td></tr><tr><td>801</td><td>3.6596491228070174</td></tr><tr><td>1007</td><td>4.21875</td></tr><tr><td>1060</td><td>3.35</td></tr><tr><td>1294</td><td>3.9272030651340994</td></tr><tr><td>1337</td><td>3.8153846153846156</td></tr><tr><td>1639</td><td>3.658802177858439</td></tr><tr><td>1777</td><td>3.890909090909091</td></tr><tr><td>1792</td><td>3.871794871794872</td></tr><tr><td>1822</td><td>3.8507462686567164</td></tr><tr><td>17</td><td>4.075829383886256</td></tr><tr><td>126</td><td>4.0</td></tr><tr><td>131</td><td>3.3966101694915256</td></tr><tr><td>140</td><td>3.8181818181818183</td></tr><tr><td>549</td><td>3.7569444444444446</td></tr><tr><td>640</td><td>4.333333333333333</td></tr><tr><td>1433</td><td>3.337078651685393</td></tr><tr><td>1676</td><td>3.492485549132948</td></tr><tr><td>1772</td><td>3.3823529411764706</td></tr><tr><td>1834</td><td>4.092307692307692</td></tr><tr><td>1887</td><td>3.384</td></tr><tr><td>227</td><td>3.2857142857142856</td></tr><tr><td>286</td><td>3.883720930232558</td></tr><tr><td>905</td><td>3.7886178861788617</td></tr><tr><td>1061</td><td>3.980392156862745</td></tr><tr><td>1092</td><td>4.0588235294117645</td></tr><tr><td>1131</td><td>4.796116504854369</td></tr><tr><td>1261</td><td>3.7487179487179487</td></tr><tr><td>1453</td><td>3.5714285714285716</td></tr><tr><td>1865</td><td>3.5808383233532934</td></tr><tr><td>120</td><td>3.619047619047619</td></tr><tr><td>492</td><td>3.9375</td></tr><tr><td>736</td><td>3.9298245614035086</td></tr><tr><td>876</td><td>3.828828828828829</td></tr><tr><td>1064</td><td>3.70873786407767</td></tr><tr><td>1580</td><td>3.5405405405405403</td></tr><tr><td>1671</td><td>3.8620689655172415</td></tr><tr><td>1860</td><td>3.310580204778157</td></tr><tr><td>326</td><td>3.3350923482849604</td></tr><tr><td>548</td><td>3.093220338983051</td></tr><tr><td>866</td><td>3.3333333333333335</td></tr><tr><td>1046</td><td>3.8846153846153846</td></tr><tr><td>1108</td><td>4.113636363636363</td></tr><tr><td>1161</td><td>3.968421052631579</td></tr><tr><td>1257</td><td>3.36734693877551</td></tr><tr><td>1267</td><td>3.6</td></tr><tr><td>1384</td><td>3.4545454545454546</td></tr><tr><td>1446</td><td>4.453608247422681</td></tr><tr><td>1551</td><td>3.9397590361445785</td></tr><tr><td>1665</td><td>3.6825396825396823</td></tr><tr><td>1827</td><td>3.5918367346938775</td></tr><tr><td>1868</td><td>3.6296296296296298</td></tr><tr><td>1905</td><td>4.1063829787234045</td></tr><tr><td>773</td><td>3.5918367346938775</td></tr><tr><td>842</td><td>3.8378378378378377</td></tr><tr><td>1139</td><td>3.9065934065934065</td></tr><tr><td>1144</td><td>3.772727272727273</td></tr><tr><td>1559</td><td>3.588235294117647</td></tr><tr><td>1652</td><td>3.3703703703703702</td></tr><tr><td>1946</td><td>3.858974358974359</td></tr><tr><td>46</td><td>4.219512195121951</td></tr><tr><td>268</td><td>3.3946360153256707</td></tr><tr><td>621</td><td>3.0416666666666665</td></tr><tr><td>631</td><td>3.7948717948717947</td></tr><tr><td>716</td><td>4.198979591836735</td></tr><tr><td>1323</td><td>3.7027027027027026</td></tr><tr><td>1502</td><td>3.399267399267399</td></tr><tr><td>1799</td><td>3.5164835164835164</td></tr><tr><td>130</td><td>4.311111111111111</td></tr><tr><td>374</td><td>4.403846153846154</td></tr><tr><td>535</td><td>3.5714285714285716</td></tr><tr><td>906</td><td>3.5238095238095237</td></tr><tr><td>1053</td><td>3.343283582089552</td></tr><tr><td>1130</td><td>3.849462365591398</td></tr><tr><td>1253</td><td>3.5405405405405403</td></tr><tr><td>1689</td><td>3.609375</td></tr><tr><td>1786</td><td>4.018867924528302</td></tr><tr><td>1899</td><td>3.7923280423280423</td></tr><tr><td>375</td><td>4.078431372549019</td></tr><tr><td>558</td><td>3.6804123711340204</td></tr><tr><td>1040</td><td>4.235521235521236</td></tr><tr><td>1114</td><td>3.462686567164179</td></tr><tr><td>1137</td><td>3.74468085106383</td></tr><tr><td>1272</td><td>3.535211267605634</td></tr><tr><td>1448</td><td>3.775529865125241</td></tr><tr><td>1884</td><td>3.867043847241867</td></tr><tr><td>1908</td><td>3.1826923076923075</td></tr><tr><td>147</td><td>3.5026737967914436</td></tr><tr><td>164</td><td>4.384615384615385</td></tr><tr><td>207</td><td>3.5217391304347827</td></tr><tr><td>381</td><td>4.114285714285714</td></tr><tr><td>455</td><td>4.2</td></tr><tr><td>802</td><td>3.938735177865613</td></tr><tr><td>839</td><td>3.988372093023256</td></tr><tr><td>948</td><td>3.7408123791102517</td></tr><tr><td>1175</td><td>4.208333333333333</td></tr><tr><td>1243</td><td>3.608695652173913</td></tr><tr><td>1444</td><td>3.689655172413793</td></tr><tr><td>78</td><td>3.657142857142857</td></tr><tr><td>208</td><td>3.652173913043478</td></tr><tr><td>790</td><td>4.3478260869565215</td></tr><tr><td>1017</td><td>3.251439539347409</td></tr><tr><td>1288</td><td>3.75968992248062</td></tr><tr><td>1515</td><td>3.75</td></tr><tr><td>1835</td><td>4.114285714285714</td></tr><tr><td>1858</td><td>3.9591836734693877</td></tr><tr><td>328</td><td>3.032258064516129</td></tr><tr><td>486</td><td>4.051282051282051</td></tr><tr><td>501</td><td>3.417910447761194</td></tr><tr><td>1134</td><td>4.42</td></tr><tr><td>1196</td><td>3.8839285714285716</td></tr><tr><td>1271</td><td>4.2823529411764705</td></tr><tr><td>1577</td><td>4.104</td></tr><tr><td>1611</td><td>3.573741007194245</td></tr><tr><td>1832</td><td>3.9318181818181817</td></tr><tr><td>89</td><td>3.238095238095238</td></tr><tr><td>228</td><td>4.0</td></tr><tr><td>525</td><td>4.025</td></tr><tr><td>904</td><td>3.3008130081300813</td></tr><tr><td>1644</td><td>3.0625</td></tr><tr><td>1904</td><td>3.2670454545454546</td></tr><tr><td>136</td><td>3.074074074074074</td></tr><tr><td>198</td><td>3.7493403693931397</td></tr><tr><td>290</td><td>3.303030303030303</td></tr><tr><td>620</td><td>3.3240223463687153</td></tr><tr><td>845</td><td>3.980769230769231</td></tr><tr><td>943</td><td>4.296296296296297</td></tr><tr><td>1208</td><td>4.020833333333333</td></tr><tr><td>1796</td><td>3.9886363636363638</td></tr><tr><td>1847</td><td>4.317073170731708</td></tr><tr><td>1921</td><td>3.2588235294117647</td></tr><tr><td>1927</td><td>3.9545454545454546</td></tr><tr><td>6</td><td>3.9014084507042255</td></tr><tr><td>118</td><td>3.767857142857143</td></tr><tr><td>257</td><td>4.452830188679245</td></tr><tr><td>669</td><td>3.847255369928401</td></tr><tr><td>1000</td><td>4.130952380952381</td></tr><tr><td>1734</td><td>4.27027027027027</td></tr><tr><td>385</td><td>3.9562043795620436</td></tr><tr><td>517</td><td>3.963855421686747</td></tr><tr><td>935</td><td>3.4896907216494846</td></tr><tr><td>1216</td><td>3.6948356807511735</td></tr><tr><td>1439</td><td>3.9</td></tr><tr><td>1540</td><td>3.805084745762712</td></tr><tr><td>1541</td><td>4.423076923076923</td></tr><tr><td>1668</td><td>4.0</td></tr><tr><td>1820</td><td>3.684542586750789</td></tr><tr><td>1916</td><td>3.9437340153452687</td></tr><tr><td>756</td><td>3.9714285714285715</td></tr><tr><td>798</td><td>3.149847094801223</td></tr><tr><td>841</td><td>3.576923076923077</td></tr><tr><td>932</td><td>4.45</td></tr><tr><td>1128</td><td>3.216867469879518</td></tr><tr><td>1414</td><td>3.7837837837837838</td></tr><tr><td>1464</td><td>3.675925925925926</td></tr><tr><td>1698</td><td>3.9310344827586206</td></tr><tr><td>185</td><td>3.588235294117647</td></tr><tr><td>341</td><td>4.2</td></tr><tr><td>653</td><td>4.142857142857143</td></tr><tr><td>753</td><td>3.7752293577981653</td></tr><tr><td>1200</td><td>3.5641025641025643</td></tr><tr><td>1308</td><td>3.606741573033708</td></tr><tr><td>230</td><td>4.094972067039106</td></tr><tr><td>256</td><td>3.8526315789473684</td></tr><tr><td>452</td><td>4.431818181818182</td></tr><tr><td>537</td><td>4.3061224489795915</td></tr><tr><td>1023</td><td>4.073170731707317</td></tr><tr><td>1172</td><td>3.5169300225733635</td></tr><tr><td>1187</td><td>3.3870967741935485</td></tr><tr><td>1351</td><td>4.2</td></tr><tr><td>1402</td><td>4.122448979591836</td></tr><tr><td>1408</td><td>3.139705882352941</td></tr><tr><td>1490</td><td>4.1</td></tr><tr><td>1585</td><td>3.607142857142857</td></tr><tr><td>1705</td><td>3.6941176470588237</td></tr><tr><td>201</td><td>3.954022988505747</td></tr><tr><td>799</td><td>3.6</td></tr><tr><td>967</td><td>3.5384615384615383</td></tr><tr><td>1087</td><td>3.7908163265306123</td></tr><tr><td>1157</td><td>4.2727272727272725</td></tr><tr><td>1654</td><td>4.446808510638298</td></tr><tr><td>1738</td><td>3.7313432835820897</td></tr><tr><td>1857</td><td>4.2682926829268295</td></tr><tr><td>177</td><td>4.113636363636363</td></tr><tr><td>604</td><td>3.0940766550522647</td></tr><tr><td>678</td><td>3.6776776776776776</td></tr><tr><td>1110</td><td>4.326530612244898</td></tr><tr><td>1147</td><td>3.4654654654654653</td></tr><tr><td>1167</td><td>3.4285714285714284</td></tr><tr><td>1378</td><td>4.5344827586206895</td></tr><tr><td>1871</td><td>3.7264957264957266</td></tr><tr><td>1935</td><td>3.4827586206896552</td></tr><tr><td>60</td><td>3.414285714285714</td></tr><tr><td>68</td><td>3.75</td></tr><tr><td>90</td><td>3.511111111111111</td></tr><tr><td>104</td><td>3.347826086956522</td></tr><tr><td>229</td><td>3.4292452830188678</td></tr><tr><td>244</td><td>4.105882352941176</td></tr><tr><td>246</td><td>4.0</td></tr><tr><td>413</td><td>4.404040404040404</td></tr><tr><td>657</td><td>4.016949152542373</td></tr><tr><td>702</td><td>3.3027139874739038</td></tr><tr><td>978</td><td>3.8863636363636362</td></tr><tr><td>1346</td><td>3.5357142857142856</td></tr><tr><td>1566</td><td>3.5</td></tr><tr><td>1947</td><td>3.9523809523809526</td></tr><tr><td>1165</td><td>3.574468085106383</td></tr><tr><td>1171</td><td>4.321428571428571</td></tr><tr><td>1391</td><td>3.4688995215311005</td></tr><tr><td>1771</td><td>4.333333333333333</td></tr><tr><td>194</td><td>3.983050847457627</td></tr><tr><td>418</td><td>3.549019607843137</td></tr><tr><td>1381</td><td>3.4057971014492754</td></tr><tr><td>1382</td><td>4.138888888888889</td></tr><tr><td>1785</td><td>3.0555555555555554</td></tr><tr><td>1875</td><td>3.6153846153846154</td></tr><tr><td>19</td><td>3.5725490196078433</td></tr><tr><td>354</td><td>3.586206896551724</td></tr><tr><td>404</td><td>4.14</td></tr><tr><td>429</td><td>3.346820809248555</td></tr><tr><td>578</td><td>3.9642857142857144</td></tr><tr><td>994</td><td>4.153846153846154</td></tr><tr><td>1113</td><td>3.9749216300940438</td></tr><tr><td>1234</td><td>4.291666666666667</td></tr><tr><td>1358</td><td>3.16017316017316</td></tr><tr><td>1385</td><td>3.727272727272727</td></tr><tr><td>1472</td><td>3.6008583690987126</td></tr><tr><td>1759</td><td>3.720472440944882</td></tr><tr><td>1825</td><td>3.5165562913907285</td></tr><tr><td>347</td><td>3.878787878787879</td></tr><tr><td>464</td><td>3.6097560975609757</td></tr><tr><td>1203</td><td>3.707152496626181</td></tr><tr><td>1331</td><td>3.98</td></tr><tr><td>1625</td><td>3.3555555555555556</td></tr><tr><td>1656</td><td>3.48</td></tr><tr><td>1883</td><td>3.331034482758621</td></tr><tr><td>1890</td><td>3.51980198019802</td></tr><tr><td>1922</td><td>3.456876456876457</td></tr><tr><td>23</td><td>3.3157894736842106</td></tr><tr><td>41</td><td>3.48</td></tr><tr><td>128</td><td>4.363636363636363</td></tr><tr><td>280</td><td>3.94</td></tr><tr><td>439</td><td>3.902173913043478</td></tr><tr><td>533</td><td>3.3401015228426396</td></tr><tr><td>837</td><td>3.260869565217391</td></tr><tr><td>840</td><td>4.219123505976095</td></tr><tr><td>1038</td><td>3.9324324324324325</td></tr><tr><td>1051</td><td>3.4663573085846866</td></tr><tr><td>1316</td><td>3.236842105263158</td></tr><tr><td>1685</td><td>3.574418604651163</td></tr><tr><td>102</td><td>3.128787878787879</td></tr><tr><td>530</td><td>4.0</td></tr><tr><td>1302</td><td>4.266666666666667</td></tr><tr><td>55</td><td>4.12</td></tr><tr><td>345</td><td>4.4</td></tr><tr><td>931</td><td>4.031847133757962</td></tr><tr><td>1210</td><td>3.8974358974358974</td></tr><tr><td>1557</td><td>3.982456140350877</td></tr><tr><td>1878</td><td>3.6506024096385543</td></tr><tr><td>1924</td><td>3.1511627906976742</td></tr><tr><td>474</td><td>3.380503144654088</td></tr><tr><td>976</td><td>3.3636363636363638</td></tr><tr><td>1066</td><td>3.5327868852459017</td></tr><tr><td>1396</td><td>3.725806451612903</td></tr><tr><td>1740</td><td>4.0</td></tr><tr><td>1831</td><td>3.5135135135135136</td></tr><tr><td>238</td><td>3.7868217054263567</td></tr><tr><td>319</td><td>3.263522884882108</td></tr><tr><td>456</td><td>3.394904458598726</td></tr><tr><td>491</td><td>3.68</td></tr><tr><td>1422</td><td>3.0123626373626373</td></tr><tr><td>1456</td><td>4.045454545454546</td></tr><tr><td>1688</td><td>3.5757575757575757</td></tr><tr><td>111</td><td>3.7282608695652173</td></tr><tr><td>263</td><td>3.6630434782608696</td></tr><tr><td>349</td><td>3.25</td></tr><tr><td>403</td><td>3.8035714285714284</td></tr><tr><td>645</td><td>4.4772727272727275</td></tr><tr><td>694</td><td>3.625</td></tr><tr><td>723</td><td>3.8333333333333335</td></tr><tr><td>1190</td><td>4.037037037037037</td></tr><tr><td>1311</td><td>3.478723404255319</td></tr><tr><td>1468</td><td>3.519607843137255</td></tr><tr><td>1533</td><td>3.84</td></tr><tr><td>1790</td><td>3.8731563421828907</td></tr><tr><td>197</td><td>3.909090909090909</td></tr><tr><td>220</td><td>4.215686274509804</td></tr><tr><td>719</td><td>3.5</td></tr><tr><td>722</td><td>3.909090909090909</td></tr><tr><td>748</td><td>3.9753086419753085</td></tr><tr><td>885</td><td>4.140625</td></tr><tr><td>1237</td><td>3.7666666666666666</td></tr><tr><td>1301</td><td>3.774410774410774</td></tr><tr><td>1570</td><td>3.5454545454545454</td></tr><tr><td>1939</td><td>3.7782805429864252</td></tr><tr><td>436</td><td>3.8345864661654137</td></tr><tr><td>901</td><td>3.606060606060606</td></tr><tr><td>962</td><td>4.03921568627451</td></tr><tr><td>983</td><td>4.115384615384615</td></tr><tr><td>1105</td><td>3.9316770186335406</td></tr><tr><td>1148</td><td>3.7966101694915255</td></tr><tr><td>507</td><td>3.9523809523809526</td></tr><tr><td>545</td><td>3.4827586206896552</td></tr><tr><td>606</td><td>4.03030303030303</td></tr><tr><td>891</td><td>3.7443946188340806</td></tr><tr><td>1078</td><td>3.984251968503937</td></tr><tr><td>1107</td><td>3.7051282051282053</td></tr><tr><td>1149</td><td>3.3146067415730336</td></tr><tr><td>1184</td><td>3.338129496402878</td></tr><tr><td>1437</td><td>4.541935483870968</td></tr><tr><td>412</td><td>4.401260504201681</td></tr><tr><td>729</td><td>3.5273972602739727</td></tr><tr><td>738</td><td>3.303030303030303</td></tr><tr><td>936</td><td>3.5113636363636362</td></tr><tr><td>1344</td><td>3.72</td></tr><tr><td>95</td><td>3.595959595959596</td></tr><tr><td>1027</td><td>3.8260869565217392</td></tr><tr><td>1247</td><td>3.8055555555555554</td></tr><tr><td>1527</td><td>3.1538461538461537</td></tr><tr><td>1571</td><td>3.947712418300654</td></tr><tr><td>1762</td><td>3.8513513513513513</td></tr><tr><td>1951</td><td>3.015625</td></tr><tr><td>819</td><td>3.3225806451612905</td></tr><tr><td>822</td><td>3.7226027397260273</td></tr><tr><td>927</td><td>3.230366492146597</td></tr><tr><td>982</td><td>4.176470588235294</td></tr><tr><td>1312</td><td>3.270967741935484</td></tr><tr><td>1432</td><td>3.5428571428571427</td></tr><tr><td>1451</td><td>3.8974700399467377</td></tr><tr><td>1538</td><td>3.989247311827957</td></tr><tr><td>1683</td><td>3.4857142857142858</td></tr><tr><td>1716</td><td>3.476923076923077</td></tr><tr><td>1839</td><td>3.9770114942528734</td></tr><tr><td>1852</td><td>3.5185185185185186</td></tr><tr><td>38</td><td>3.58</td></tr><tr><td>40</td><td>3.4479166666666665</td></tr><tr><td>103</td><td>4.052173913043478</td></tr><tr><td>369</td><td>3.1954022988505746</td></tr><tr><td>1231</td><td>3.8454545454545452</td></tr><tr><td>1397</td><td>3.490566037735849</td></tr><tr><td>1461</td><td>3.34</td></tr><tr><td>1802</td><td>4.033175355450237</td></tr><tr><td>1817</td><td>3.016260162601626</td></tr><tr><td>376</td><td>4.111111111111111</td></tr><tr><td>506</td><td>3.422222222222222</td></tr><tr><td>582</td><td>4.282051282051282</td></tr><tr><td>585</td><td>3.4662162162162162</td></tr><tr><td>913</td><td>3.2888888888888888</td></tr><tr><td>977</td><td>3.7625</td></tr><tr><td>1297</td><td>3.4455852156057496</td></tr><tr><td>1667</td><td>3.4128256513026054</td></tr><tr><td>1682</td><td>4.407407407407407</td></tr><tr><td>25</td><td>3.7411764705882353</td></tr><tr><td>373</td><td>3.5555555555555554</td></tr><tr><td>688</td><td>3.75</td></tr><tr><td>744</td><td>3.3703703703703702</td></tr><tr><td>914</td><td>4.278688524590164</td></tr><tr><td>1315</td><td>4.505376344086022</td></tr><tr><td>1348</td><td>3.7985611510791366</td></tr><tr><td>1441</td><td>3.627450980392157</td></tr><tr><td>1443</td><td>4.25</td></tr><tr><td>1506</td><td>3.8095238095238093</td></tr><tr><td>189</td><td>4.0</td></tr><tr><td>270</td><td>4.198412698412699</td></tr><tr><td>271</td><td>3.9583333333333335</td></tr><tr><td>1201</td><td>3.5757575757575757</td></tr><tr><td>1465</td><td>3.741407528641571</td></tr><tr><td>1693</td><td>3.7419354838709675</td></tr><tr><td>233</td><td>4.584905660377358</td></tr><tr><td>292</td><td>3.7560975609756095</td></tr><tr><td>297</td><td>4.0</td></tr><tr><td>827</td><td>3.9545454545454546</td></tr><tr><td>879</td><td>4.025</td></tr><tr><td>971</td><td>3.3318385650224216</td></tr><tr><td>993</td><td>3.3448275862068964</td></tr><tr><td>1028</td><td>3.9672131147540983</td></tr><tr><td>1138</td><td>3.662921348314607</td></tr><tr><td>1355</td><td>4.169811320754717</td></tr><tr><td>1621</td><td>3.1363636363636362</td></tr><tr><td>1725</td><td>3.75</td></tr><tr><td>1828</td><td>3.370629370629371</td></tr><tr><td>1900</td><td>3.675</td></tr><tr><td>44</td><td>3.6321243523316062</td></tr><tr><td>135</td><td>3.657142857142857</td></tr><tr><td>156</td><td>4.236486486486487</td></tr><tr><td>190</td><td>3.6993464052287583</td></tr><tr><td>288</td><td>4.589285714285714</td></tr><tr><td>303</td><td>3.861244019138756</td></tr><tr><td>338</td><td>3.665745856353591</td></tr><tr><td>779</td><td>3.3333333333333335</td></tr><tr><td>957</td><td>4.271341463414634</td></tr><tr><td>1170</td><td>4.011627906976744</td></tr><tr><td>1426</td><td>3.494764397905759</td></tr><tr><td>1739</td><td>3.769230769230769</td></tr><tr><td>1955</td><td>3.55</td></tr><tr><td>144</td><td>3.46875</td></tr><tr><td>176</td><td>3.6153846153846154</td></tr><tr><td>531</td><td>3.1591695501730106</td></tr><tr><td>754</td><td>3.7770700636942673</td></tr><tr><td>830</td><td>3.6149425287356323</td></tr><tr><td>858</td><td>4.189473684210526</td></tr><tr><td>963</td><td>3.4339622641509435</td></tr><tr><td>985</td><td>4.212328767123288</td></tr><tr><td>1068</td><td>3.7336683417085426</td></tr><tr><td>1140</td><td>3.7566844919786098</td></tr><tr><td>1606</td><td>3.79126213592233</td></tr><tr><td>1714</td><td>3.510948905109489</td></tr><tr><td>1917</td><td>3.8969072164948453</td></tr><tr><td>1084</td><td>3.15</td></tr><tr><td>1206</td><td>3.5602836879432624</td></tr><tr><td>1513</td><td>4.055944055944056</td></tr><tr><td>1700</td><td>3.533333333333333</td></tr><tr><td>1713</td><td>3.3333333333333335</td></tr><tr><td>1830</td><td>4.1</td></tr><tr><td>1842</td><td>4.129032258064516</td></tr><tr><td>1889</td><td>3.269230769230769</td></tr><tr><td>82</td><td>4.016949152542373</td></tr><tr><td>115</td><td>3.8421052631578947</td></tr><tr><td>241</td><td>3.9649122807017543</td></tr><tr><td>728</td><td>3.311377245508982</td></tr><tr><td>1116</td><td>3.8661971830985915</td></tr><tr><td>1245</td><td>4.333333333333333</td></tr><tr><td>1326</td><td>3.918918918918919</td></tr><tr><td>1442</td><td>3.3</td></tr><tr><td>1499</td><td>3.9384615384615387</td></tr><tr><td>1567</td><td>3.89</td></tr><tr><td>193</td><td>3.677685950413223</td></tr><tr><td>283</td><td>4.962962962962963</td></tr><tr><td>638</td><td>4.175438596491228</td></tr><tr><td>725</td><td>4.197530864197531</td></tr><tr><td>755</td><td>4.111111111111111</td></tr><tr><td>857</td><td>4.171428571428572</td></tr><tr><td>998</td><td>4.118518518518519</td></tr><tr><td>1033</td><td>3.288659793814433</td></tr><tr><td>1063</td><td>4.18</td></tr><tr><td>1120</td><td>3.764625850340136</td></tr><tr><td>1199</td><td>3.631284916201117</td></tr><tr><td>1393</td><td>4.128440366972477</td></tr><tr><td>1400</td><td>4.172413793103448</td></tr><tr><td>1523</td><td>3.717391304347826</td></tr><tr><td>1815</td><td>3.7948717948717947</td></tr><tr><td>1504</td><td>3.642857142857143</td></tr><tr><td>1547</td><td>3.9328358208955225</td></tr><tr><td>1603</td><td>3.842857142857143</td></tr><tr><td>1604</td><td>4.166666666666667</td></tr><tr><td>1742</td><td>3.617021276595745</td></tr><tr><td>650</td><td>3.8947368421052633</td></tr><tr><td>805</td><td>3.835616438356164</td></tr><tr><td>852</td><td>4.117647058823529</td></tr><tr><td>965</td><td>4.116883116883117</td></tr><tr><td>1209</td><td>3.411764705882353</td></tr><tr><td>1617</td><td>3.0833333333333335</td></tr><tr><td>1723</td><td>3.671232876712329</td></tr><tr><td>1872</td><td>3.8181818181818183</td></tr><tr><td>53</td><td>4.2368421052631575</td></tr><tr><td>1710</td><td>3.6582278481012658</td></tr><tr><td>285</td><td>4.16546762589928</td></tr><tr><td>1018</td><td>4.155737704918033</td></tr><tr><td>1370</td><td>3.141891891891892</td></tr><tr><td>1864</td><td>3.3043478260869565</td></tr><tr><td>1879</td><td>3.931558935361217</td></tr><tr><td>231</td><td>4.22680412371134</td></tr><tr><td>398</td><td>3.8133333333333335</td></tr><tr><td>450</td><td>4.196078431372549</td></tr><tr><td>471</td><td>3.6285714285714286</td></tr><tr><td>834</td><td>4.16</td></tr><tr><td>1262</td><td>3.4240506329113924</td></tr><tr><td>1558</td><td>4.115384615384615</td></tr><tr><td>293</td><td>3.2460567823343847</td></tr><tr><td>294</td><td>3.489795918367347</td></tr><tr><td>380</td><td>3.7246376811594204</td></tr><tr><td>615</td><td>4.127659574468085</td></tr><tr><td>660</td><td>3.0170697012802274</td></tr><tr><td>869</td><td>3.5154394299287413</td></tr><tr><td>1177</td><td>3.9746835443037973</td></tr><tr><td>1471</td><td>3.814814814814815</td></tr><tr><td>1564</td><td>3.056451612903226</td></tr><tr><td>1766</td><td>3.230769230769231</td></tr><tr><td>1950</td><td>3.5182481751824817</td></tr><tr><td>108</td><td>3.135135135135135</td></tr><tr><td>117</td><td>3.299009900990099</td></tr><tr><td>247</td><td>3.935483870967742</td></tr><tr><td>414</td><td>3.0701754385964914</td></tr><tr><td>482</td><td>3.2606060606060607</td></tr><tr><td>576</td><td>3.6666666666666665</td></tr><tr><td>612</td><td>3.5</td></tr><tr><td>671</td><td>4.2592592592592595</td></tr><tr><td>968</td><td>4.131147540983607</td></tr><tr><td>1077</td><td>4.019417475728155</td></tr><tr><td>1399</td><td>3.6527777777777777</td></tr><tr><td>1674</td><td>3.727272727272727</td></tr><tr><td>1741</td><td>3.9757575757575756</td></tr><tr><td>86</td><td>4.3125</td></tr><tr><td>605</td><td>4.049180327868853</td></tr><tr><td>627</td><td>3.5625</td></tr><tr><td>683</td><td>3.586206896551724</td></tr><tr><td>1460</td><td>3.0357142857142856</td></tr><tr><td>58</td><td>3.9725400457665905</td></tr><tr><td>261</td><td>3.5762711864406778</td></tr><tr><td>281</td><td>3.891891891891892</td></tr><tr><td>461</td><td>3.224609375</td></tr><tr><td>816</td><td>3.6974358974358976</td></tr><tr><td>929</td><td>3.6816901408450704</td></tr><tr><td>949</td><td>3.9295392953929538</td></tr><tr><td>1291</td><td>3.802120141342756</td></tr><tr><td>1583</td><td>3.730769230769231</td></tr><tr><td>1708</td><td>3.8636363636363638</td></tr><tr><td>1755</td><td>3.5706521739130435</td></tr><tr><td>394</td><td>3.3421052631578947</td></tr><tr><td>741</td><td>3.324675324675325</td></tr><tr><td>877</td><td>3.308056872037915</td></tr><tr><td>1057</td><td>3.7262569832402233</td></tr><tr><td>1244</td><td>3.3812154696132595</td></tr><tr><td>1578</td><td>4.161290322580645</td></tr><tr><td>1591</td><td>4.340764331210191</td></tr><tr><td>1886</td><td>3.923076923076923</td></tr><tr><td>1925</td><td>3.6459016393442623</td></tr><tr><td>360</td><td>3.6417910447761193</td></tr><tr><td>416</td><td>3.7580645161290325</td></tr><tr><td>437</td><td>4.3076923076923075</td></tr><tr><td>751</td><td>3.88</td></tr><tr><td>1122</td><td>3.2280701754385963</td></tr><tr><td>1129</td><td>4.145631067961165</td></tr><tr><td>1239</td><td>3.8636363636363638</td></tr><tr><td>1248</td><td>3.595744680851064</td></tr><tr><td>1264</td><td>3.586497890295359</td></tr><tr><td>1321</td><td>3.2923976608187133</td></tr><tr><td>1628</td><td>3.745011086474501</td></tr><tr><td>511</td><td>3.740740740740741</td></tr><tr><td>616</td><td>3.9545454545454546</td></tr><tr><td>731</td><td>3.778816199376947</td></tr><tr><td>1080</td><td>3.740740740740741</td></tr><tr><td>1363</td><td>4.380952380952381</td></tr><tr><td>1561</td><td>4.0062111801242235</td></tr><tr><td>204</td><td>3.5560538116591927</td></tr><tr><td>363</td><td>3.744186046511628</td></tr><tr><td>399</td><td>4.15625</td></tr><tr><td>665</td><td>3.5</td></tr><tr><td>673</td><td>3.13151364764268</td></tr><tr><td>865</td><td>3.8095238095238093</td></tr><tr><td>1595</td><td>4.045112781954887</td></tr><tr><td>81</td><td>4.4186046511627906</td></tr><tr><td>832</td><td>3.558139534883721</td></tr><tr><td>896</td><td>3.984375</td></tr><tr><td>1005</td><td>4.141304347826087</td></tr><tr><td>1035</td><td>3.8241758241758244</td></tr><tr><td>1037</td><td>3.5789473684210527</td></tr><tr><td>1123</td><td>3.3666666666666667</td></tr><tr><td>1163</td><td>3.640625</td></tr><tr><td>1268</td><td>4.257425742574258</td></tr><tr><td>1293</td><td>3.426470588235294</td></tr><tr><td>1560</td><td>3.4939024390243905</td></tr><tr><td>1702</td><td>4.55</td></tr><tr><td>1763</td><td>3.769230769230769</td></tr><tr><td>33</td><td>3.498721227621483</td></tr><tr><td>114</td><td>3.693877551020408</td></tr><tr><td>242</td><td>3.2051282051282053</td></tr><tr><td>350</td><td>3.9375</td></tr><tr><td>366</td><td>4.06949806949807</td></tr><tr><td>430</td><td>3.9682539682539684</td></tr><tr><td>540</td><td>3.230769230769231</td></tr><tr><td>622</td><td>3.912280701754386</td></tr><tr><td>682</td><td>4.733333333333333</td></tr><tr><td>708</td><td>3.85</td></tr><tr><td>778</td><td>3.785276073619632</td></tr><tr><td>916</td><td>3.9454545454545453</td></tr><tr><td>1317</td><td>3.6620775969962454</td></tr><tr><td>1582</td><td>3.6363636363636362</td></tr><tr><td>1646</td><td>3.064516129032258</td></tr><tr><td>1744</td><td>4.064285714285714</td></tr><tr><td>213</td><td>4.2272727272727275</td></tr><tr><td>291</td><td>4.137254901960785</td></tr><tr><td>536</td><td>3.942857142857143</td></tr><tr><td>759</td><td>3.5876288659793816</td></tr><tr><td>1127</td><td>3.2213740458015265</td></tr><tr><td>1179</td><td>3.6623931623931623</td></tr><tr><td>1256</td><td>4.34375</td></tr><tr><td>1594</td><td>3.727891156462585</td></tr><tr><td>555</td><td>3.8157894736842106</td></tr><tr><td>592</td><td>4.391304347826087</td></tr><tr><td>679</td><td>3.926829268292683</td></tr><tr><td>739</td><td>4.354330708661418</td></tr><tr><td>958</td><td>3.9050632911392404</td></tr><tr><td>1162</td><td>3.551282051282051</td></tr><tr><td>1183</td><td>3.682795698924731</td></tr><tr><td>1410</td><td>4.064102564102564</td></tr><tr><td>1479</td><td>4.103448275862069</td></tr><tr><td>150</td><td>4.021551724137931</td></tr><tr><td>269</td><td>3.8</td></tr><tr><td>277</td><td>3.727272727272727</td></tr><tr><td>526</td><td>3.896551724137931</td></tr><tr><td>623</td><td>4.226744186046512</td></tr><tr><td>794</td><td>3.953488372093023</td></tr><tr><td>952</td><td>3.9936305732484074</td></tr><tr><td>1126</td><td>3.761904761904762</td></tr><tr><td>1478</td><td>3.9375</td></tr><tr><td>1672</td><td>3.7435897435897436</td></tr><tr><td>170</td><td>3.9885057471264367</td></tr><tr><td>382</td><td>4.017857142857143</td></tr><tr><td>393</td><td>3.581081081081081</td></tr><tr><td>593</td><td>3.641509433962264</td></tr><tr><td>654</td><td>3.4324324324324325</td></tr><tr><td>687</td><td>3.4873417721518987</td></tr><tr><td>860</td><td>3.1666666666666665</td></tr><tr><td>1507</td><td>4.185185185185185</td></tr><tr><td>1622</td><td>3.730769230769231</td></tr><tr><td>1680</td><td>3.5556756756756758</td></tr><tr><td>1923</td><td>3.2758620689655173</td></tr><tr><td>178</td><td>3.8434782608695652</td></tr><tr><td>519</td><td>3.3777777777777778</td></tr><tr><td>1173</td><td>3.2493074792243766</td></tr><tr><td>1202</td><td>3.5365384615384614</td></tr><tr><td>1597</td><td>3.5565217391304347</td></tr><tr><td>1599</td><td>3.3018181818181818</td></tr><tr><td>1612</td><td>3.652173913043478</td></tr><tr><td>48</td><td>3.068561872909699</td></tr><tr><td>153</td><td>4.076923076923077</td></tr><tr><td>259</td><td>4.0359712230215825</td></tr><tr><td>1186</td><td>4.296116504854369</td></tr><tr><td>1319</td><td>3.2142857142857144</td></tr><tr><td>1914</td><td>3.739130434782609</td></tr><tr><td>217</td><td>3.7</td></tr><tr><td>500</td><td>3.633663366336634</td></tr><tr><td>833</td><td>4.0476190476190474</td></tr><tr><td>1225</td><td>4.035714285714286</td></tr><tr><td>1390</td><td>3.838187702265372</td></tr><tr><td>1430</td><td>4.163793103448276</td></tr><tr><td>1581</td><td>3.2195121951219514</td></tr><tr><td>1768</td><td>3.4859154929577465</td></tr><tr><td>1881</td><td>4.333333333333333</td></tr><tr><td>141</td><td>3.6956521739130435</td></tr><tr><td>148</td><td>3.733974358974359</td></tr><tr><td>173</td><td>3.9679144385026737</td></tr><tr><td>180</td><td>3.694915254237288</td></tr><tr><td>240</td><td>3.300699300699301</td></tr><tr><td>243</td><td>3.606060606060606</td></tr><tr><td>515</td><td>3.728395061728395</td></tr><tr><td>1044</td><td>3.763888888888889</td></tr><tr><td>1217</td><td>4.235294117647059</td></tr><tr><td>1413</td><td>3.8324324324324324</td></tr><tr><td>1891</td><td>3.5483870967741935</td></tr><tr><td>97</td><td>4.474025974025974</td></tr><tr><td>159</td><td>3.7777777777777777</td></tr><tr><td>209</td><td>3.16</td></tr><tr><td>239</td><td>4.140845070422535</td></tr><tr><td>377</td><td>3.9044117647058822</td></tr><tr><td>783</td><td>3.5210084033613445</td></tr><tr><td>867</td><td>3.659090909090909</td></tr><tr><td>992</td><td>3.4193548387096775</td></tr><tr><td>1204</td><td>3.485294117647059</td></tr><tr><td>1212</td><td>3.8550724637681157</td></tr><tr><td>1320</td><td>4.017094017094017</td></tr><tr><td>1531</td><td>3.4615384615384617</td></tr><tr><td>1643</td><td>4.28755364806867</td></tr><tr><td>1760</td><td>3.803030303030303</td></tr><tr><td>304</td><td>3.5555555555555554</td></tr><tr><td>316</td><td>4.116883116883117</td></tr><tr><td>427</td><td>4.111111111111111</td></tr><tr><td>589</td><td>4.0</td></tr><tr><td>642</td><td>4.111111111111111</td></tr><tr><td>812</td><td>3.739130434782609</td></tr><tr><td>1081</td><td>4.147058823529412</td></tr><tr><td>1221</td><td>3.9638009049773757</td></tr><tr><td>1332</td><td>3.5</td></tr><tr><td>1411</td><td>3.566666666666667</td></tr><tr><td>1575</td><td>3.8703703703703702</td></tr><tr><td>1602</td><td>4.1</td></tr><tr><td>1724</td><td>4.10062893081761</td></tr><tr><td>1907</td><td>3.8333333333333335</td></tr><tr><td>67</td><td>4.296875</td></tr><tr><td>106</td><td>4.0212765957446805</td></tr><tr><td>158</td><td>4.0</td></tr><tr><td>402</td><td>3.591549295774648</td></tr><tr><td>457</td><td>3.7130801687763713</td></tr><tr><td>811</td><td>4.184615384615385</td></tr><tr><td>1180</td><td>4.45945945945946</td></tr><tr><td>1789</td><td>4.172413793103448</td></tr><tr><td>1869</td><td>3.9166666666666665</td></tr><tr><td>84</td><td>3.838709677419355</td></tr><tr><td>236</td><td>3.693548387096774</td></tr><tr><td>407</td><td>3.4375</td></tr><tr><td>547</td><td>3.858974358974359</td></tr><tr><td>792</td><td>3.4597701149425286</td></tr><tr><td>838</td><td>4.090909090909091</td></tr><tr><td>1034</td><td>3.483679525222552</td></tr><tr><td>1132</td><td>4.343558282208589</td></tr><tr><td>1174</td><td>3.125</td></tr><tr><td>1274</td><td>3.8494077834179357</td></tr><tr><td>1289</td><td>4.3076923076923075</td></tr><tr><td>1313</td><td>3.6551724137931036</td></tr><tr><td>1406</td><td>3.8</td></tr><tr><td>1534</td><td>3.619047619047619</td></tr><tr><td>1715</td><td>3.4565217391304346</td></tr><tr><td>1813</td><td>3.5</td></tr><tr><td>266</td><td>4.52</td></tr><tr><td>497</td><td>3.5833333333333335</td></tr><tr><td>922</td><td>3.5830903790087465</td></tr><tr><td>1732</td><td>4.470588235294118</td></tr><tr><td>143</td><td>3.5441176470588234</td></tr><tr><td>322</td><td>4.45</td></tr><tr><td>564</td><td>4.0</td></tr><tr><td>567</td><td>4.583333333333333</td></tr><tr><td>648</td><td>3.7231638418079096</td></tr><tr><td>849</td><td>3.264957264957265</td></tr><tr><td>1048</td><td>4.0</td></tr><tr><td>1447</td><td>3.2383838383838386</td></tr><tr><td>1727</td><td>4.035019455252918</td></tr><tr><td>1944</td><td>3.911764705882353</td></tr><tr><td>79</td><td>3.6451612903225805</td></tr><tr><td>490</td><td>3.7662337662337664</td></tr><tr><td>494</td><td>4.157068062827225</td></tr><tr><td>715</td><td>3.8877551020408165</td></tr><tr><td>864</td><td>4.050724637681159</td></tr><tr><td>893</td><td>3.2</td></tr><tr><td>930</td><td>3.0510204081632653</td></tr><tr><td>1155</td><td>3.1923076923076925</td></tr><tr><td>1368</td><td>4.113636363636363</td></tr><tr><td>1466</td><td>3.630952380952381</td></tr><tr><td>9</td><td>3.7358490566037736</td></tr><tr><td>24</td><td>3.948529411764706</td></tr><tr><td>313</td><td>4.038461538461538</td></tr><tr><td>336</td><td>4.308411214953271</td></tr><tr><td>444</td><td>4.0</td></tr><tr><td>465</td><td>3.5405405405405403</td></tr><tr><td>562</td><td>3.7027027027027026</td></tr><tr><td>701</td><td>3.5</td></tr><tr><td>1011</td><td>3.7027027027027026</td></tr><tr><td>1194</td><td>3.325115562403698</td></tr><tr><td>1787</td><td>3.3214285714285716</td></tr><tr><td>1818</td><td>3.6511627906976742</td></tr><tr><td>1826</td><td>3.5964912280701755</td></tr><tr><td>212</td><td>3.8545454545454545</td></tr><tr><td>346</td><td>4.307420494699647</td></tr><tr><td>480</td><td>3.411214953271028</td></tr><tr><td>757</td><td>3.225806451612903</td></tr><tr><td>1467</td><td>3.534090909090909</td></tr><tr><td>1596</td><td>3.5652173913043477</td></tr><tr><td>1638</td><td>4.205128205128205</td></tr><tr><td>1684</td><td>4.032258064516129</td></tr><tr><td>1718</td><td>4.46875</td></tr><tr><td>1902</td><td>3.647286821705426</td></tr><tr><td>32</td><td>3.625</td></tr><tr><td>116</td><td>3.802325581395349</td></tr><tr><td>405</td><td>3.795918367346939</td></tr><tr><td>509</td><td>3.3139695712309822</td></tr><tr><td>624</td><td>3.6801075268817205</td></tr><tr><td>781</td><td>3.1709401709401708</td></tr><tr><td>1353</td><td>3.0317460317460316</td></tr><tr><td>1653</td><td>3.92</td></tr><tr><td>1752</td><td>3.834101382488479</td></tr><tr><td>152</td><td>4.125</td></tr><tr><td>186</td><td>4.254098360655738</td></tr><tr><td>299</td><td>4.163461538461538</td></tr><tr><td>314</td><td>3.696245733788396</td></tr><tr><td>513</td><td>3.1474358974358974</td></tr><tr><td>780</td><td>3.45703125</td></tr><tr><td>907</td><td>3.9523809523809526</td></tr><tr><td>1529</td><td>3.7666666666666666</td></tr><tr><td>1824</td><td>3.3647798742138364</td></tr><tr><td>1934</td><td>3.0847457627118646</td></tr><tr><td>88</td><td>4.147058823529412</td></tr><tr><td>358</td><td>3.8472222222222223</td></tr><tr><td>538</td><td>4.458333333333333</td></tr><tr><td>803</td><td>3.7115384615384617</td></tr><tr><td>806</td><td>4.166666666666667</td></tr><tr><td>945</td><td>3.6196319018404908</td></tr><tr><td>1015</td><td>3.7262830482115086</td></tr><tr><td>1484</td><td>3.6146496815286624</td></tr><tr><td>1555</td><td>4.3544303797468356</td></tr><tr><td>1774</td><td>3.275</td></tr><tr><td>1</td><td>4.188679245283019</td></tr><tr><td>149</td><td>3.9408783783783785</td></tr><tr><td>318</td><td>3.9523809523809526</td></tr><tr><td>391</td><td>3.728395061728395</td></tr><tr><td>793</td><td>3.486666666666667</td></tr><tr><td>899</td><td>3.523219814241486</td></tr><tr><td>1024</td><td>3.697674418604651</td></tr><tr><td>1085</td><td>3.7142857142857144</td></tr><tr><td>1778</td><td>3.54029304029304</td></tr><tr><td>1937</td><td>3.183050847457627</td></tr><tr><td>105</td><td>4.295081967213115</td></tr><tr><td>237</td><td>3.4036144578313254</td></tr><tr><td>289</td><td>3.9054054054054053</td></tr><tr><td>550</td><td>3.578076525336091</td></tr><tr><td>646</td><td>3.8031496062992125</td></tr><tr><td>774</td><td>3.2142857142857144</td></tr><tr><td>1168</td><td>3.4463519313304722</td></tr><tr><td>1859</td><td>3.5652173913043477</td></tr><tr><td>1896</td><td>4.14975845410628</td></tr><tr><td>20</td><td>4.083333333333333</td></tr><tr><td>561</td><td>3.7222222222222223</td></tr><tr><td>600</td><td>3.652173913043478</td></tr><tr><td>680</td><td>3.5714285714285716</td></tr><tr><td>1065</td><td>3.715909090909091</td></tr><tr><td>1220</td><td>3.353846153846154</td></tr><tr><td>1281</td><td>3.4791666666666665</td></tr><tr><td>1376</td><td>3.882978723404255</td></tr><tr><td>1948</td><td>3.1091954022988504</td></tr><tr><td>325</td><td>4.046511627906977</td></tr><tr><td>551</td><td>3.8201754385964914</td></tr><tr><td>818</td><td>3.7251461988304095</td></tr><tr><td>1014</td><td>3.4871794871794872</td></tr><tr><td>1088</td><td>3.3375850340136055</td></tr><tr><td>1309</td><td>3.7083333333333335</td></tr><tr><td>1731</td><td>3.3970588235294117</td></tr><tr><td>1748</td><td>3.4906621392190154</td></tr><tr><td>1895</td><td>4.034883720930233</td></tr><tr><td>342</td><td>3.6910569105691056</td></tr><tr><td>454</td><td>3.218045112781955</td></tr><tr><td>472</td><td>4.022222222222222</td></tr><tr><td>681</td><td>4.2368421052631575</td></tr><tr><td>769</td><td>3.8208955223880596</td></tr><tr><td>859</td><td>3.450980392156863</td></tr><tr><td>1072</td><td>4.0476190476190474</td></tr><tr><td>1587</td><td>3.332129963898917</td></tr><tr><td>1650</td><td>3.647887323943662</td></tr><tr><td>1701</td><td>3.5543478260869565</td></tr><tr><td>142</td><td>3.3404255319148937</td></tr><tr><td>960</td><td>3.9375</td></tr><tr><td>1031</td><td>4.070967741935484</td></tr><tr><td>1226</td><td>3.2857142857142856</td></tr><tr><td>1338</td><td>4.03030303030303</td></tr><tr><td>1745</td><td>3.7142857142857144</td></tr><tr><td>1811</td><td>3.9</td></tr><tr><td>1837</td><td>3.501278772378517</td></tr><tr><td>1952</td><td>3.49003984063745</td></tr><tr><td>571</td><td>3.7054794520547945</td></tr><tr><td>588</td><td>4.057395143487859</td></tr><tr><td>668</td><td>3.5833333333333335</td></tr><tr><td>1095</td><td>4.0</td></tr><tr><td>1374</td><td>3.9223300970873787</td></tr><tr><td>1666</td><td>3.3425692695214106</td></tr><tr><td>1801</td><td>3.9523809523809526</td></tr><tr><td>1843</td><td>3.689075630252101</td></tr><tr><td>357</td><td>3.293103448275862</td></tr><tr><td>750</td><td>4.321428571428571</td></tr><tr><td>766</td><td>3.9361702127659575</td></tr><tr><td>1285</td><td>3.9064685314685317</td></tr><tr><td>1474</td><td>3.7846153846153845</td></tr><tr><td>1590</td><td>4.0</td></tr><tr><td>1848</td><td>3.772727272727273</td></tr><tr><td>1862</td><td>4.4</td></tr><tr><td>56</td><td>3.970149253731343</td></tr><tr><td>599</td><td>3.8518518518518516</td></tr><tr><td>1160</td><td>3.074766355140187</td></tr><tr><td>1230</td><td>3.9367588932806323</td></tr><tr><td>1403</td><td>3.8461538461538463</td></tr><tr><td>127</td><td>3.8448275862068964</td></tr><tr><td>485</td><td>4.044444444444444</td></tr><tr><td>713</td><td>3.446280991735537</td></tr><tr><td>776</td><td>3.766990291262136</td></tr><tr><td>1463</td><td>3.5948275862068964</td></tr><tr><td>1690</td><td>3.5167785234899327</td></tr><tr><td>1929</td><td>3.5555555555555554</td></tr><tr><td>36</td><td>4.199430199430199</td></tr><tr><td>211</td><td>3.857142857142857</td></tr><tr><td>295</td><td>3.764397905759162</td></tr><tr><td>397</td><td>3.8823529411764706</td></tr><tr><td>409</td><td>3.9158249158249157</td></tr><tr><td>514</td><td>4.2025316455696204</td></tr><tr><td>763</td><td>3.730769230769231</td></tr><tr><td>768</td><td>4.4375</td></tr><tr><td>1211</td><td>3.863979848866499</td></tr><tr><td>1423</td><td>4.1875</td></tr><tr><td>1600</td><td>3.431472081218274</td></tr><tr><td>1806</td><td>4.233644859813084</td></tr><tr><td>1894</td><td>4.244186046511628</td></tr><tr><td>10</td><td>4.114713216957606</td></tr><tr><td>384</td><td>3.590909090909091</td></tr><tr><td>420</td><td>4.359375</td></tr><tr><td>1009</td><td>3.826923076923077</td></tr><tr><td>1295</td><td>3.575</td></tr><tr><td>1440</td><td>3.3529411764705883</td></tr><tr><td>37</td><td>3.69811320754717</td></tr><tr><td>546</td><td>3.231818181818182</td></tr><tr><td>603</td><td>3.5238095238095237</td></tr><tr><td>1660</td><td>3.967741935483871</td></tr><tr><td>165</td><td>3.981818181818182</td></tr><tr><td>371</td><td>3.5</td></tr><tr><td>386</td><td>3.3230769230769233</td></tr><tr><td>552</td><td>3.7628865979381443</td></tr><tr><td>705</td><td>3.371212121212121</td></tr><tr><td>955</td><td>3.5798816568047336</td></tr><tr><td>1036</td><td>4.32</td></tr><tr><td>1299</td><td>3.7905982905982905</td></tr><tr><td>1328</td><td>3.552</td></tr><tr><td>1392</td><td>3.403292181069959</td></tr><tr><td>1516</td><td>3.1164383561643834</td></tr><tr><td>49</td><td>3.712962962962963</td></tr><tr><td>431</td><td>3.630952380952381</td></tr><tr><td>1521</td><td>3.263888888888889</td></tr><tr><td>1675</td><td>3.208849557522124</td></tr><tr><td>255</td><td>4.016393442622951</td></tr><tr><td>698</td><td>3.551851851851852</td></tr><tr><td>1359</td><td>3.6458333333333335</td></tr><tr><td>1661</td><td>3.891891891891892</td></tr><tr><td>275</td><td>4.247191011235955</td></tr><tr><td>395</td><td>3.608695652173913</td></tr><tr><td>909</td><td>3.9014084507042255</td></tr><tr><td>1003</td><td>4.137931034482759</td></tr><tr><td>1229</td><td>4.0</td></tr><tr><td>1823</td><td>4.0</td></tr><tr><td>222</td><td>4.0875</td></tr><tr><td>253</td><td>3.9245283018867925</td></tr><tr><td>362</td><td>3.290909090909091</td></tr><tr><td>969</td><td>4.115384615384615</td></tr><tr><td>1481</td><td>4.38</td></tr><tr><td>1838</td><td>3.074074074074074</td></tr><tr><td>172</td><td>3.608695652173913</td></tr><tr><td>575</td><td>3.6564417177914113</td></tr><tr><td>732</td><td>3.4285714285714284</td></tr><tr><td>911</td><td>3.8685714285714288</td></tr><tr><td>988</td><td>3.8493150684931505</td></tr><tr><td>1242</td><td>3.6396103896103895</td></tr><tr><td>1258</td><td>4.261904761904762</td></tr><tr><td>1360</td><td>3.5533980582524274</td></tr><tr><td>1401</td><td>4.017857142857143</td></tr><tr><td>63</td><td>3.4285714285714284</td></tr><tr><td>181</td><td>3.604651162790698</td></tr><tr><td>306</td><td>3.937823834196891</td></tr><tr><td>607</td><td>4.16</td></tr><tr><td>1214</td><td>3.0217391304347827</td></tr><tr><td>1284</td><td>3.4220907297830374</td></tr><tr><td>1327</td><td>3.507042253521127</td></tr><tr><td>1658</td><td>3.419597989949749</td></tr><tr><td>65</td><td>4.347107438016529</td></tr><tr><td>225</td><td>3.4330708661417324</td></tr><tr><td>235</td><td>4.086363636363636</td></tr><tr><td>312</td><td>3.736842105263158</td></tr><tr><td>1067</td><td>3.96875</td></tr><tr><td>1086</td><td>3.8621794871794872</td></tr><tr><td>1119</td><td>3.787341772151899</td></tr><tr><td>1240</td><td>3.066666666666667</td></tr><tr><td>1343</td><td>4.415770609318996</td></tr><tr><td>1420</td><td>3.7311827956989245</td></tr><tr><td>1552</td><td>3.6862745098039214</td></tr><tr><td>1677</td><td>3.558139534883721</td></tr><tr><td>1709</td><td>3.704761904761905</td></tr><tr><td>265</td><td>4.1938775510204085</td></tr><tr><td>331</td><td>3.7654109589041096</td></tr><tr><td>498</td><td>3.6511627906976742</td></tr><tr><td>580</td><td>3.347826086956522</td></tr><tr><td>762</td><td>3.717391304347826</td></tr><tr><td>1415</td><td>3.7150837988826817</td></tr><tr><td>1524</td><td>3.7351778656126484</td></tr><tr><td>1736</td><td>3.235897435897436</td></tr><tr><td>1756</td><td>3.204081632653061</td></tr><tr><td>4</td><td>4.190476190476191</td></tr><tr><td>121</td><td>4.416666666666667</td></tr><tr><td>641</td><td>4.008264462809917</td></tr><tr><td>1019</td><td>3.0107758620689653</td></tr><tr><td>1270</td><td>3.0344827586206895</td></tr><tr><td>1325</td><td>3.9858156028368796</td></tr><tr><td>1386</td><td>3.951219512195122</td></tr><tr><td>1573</td><td>3.689655172413793</td></tr><tr><td>1574</td><td>3.5961538461538463</td></tr><tr><td>1751</td><td>4.428571428571429</td></tr><tr><td>39</td><td>3.564516129032258</td></tr><tr><td>252</td><td>4.016666666666667</td></tr><tr><td>426</td><td>3.7573221757322175</td></tr><tr><td>689</td><td>3.3925925925925924</td></tr><tr><td>795</td><td>3.442953020134228</td></tr><tr><td>855</td><td>3.4126984126984126</td></tr><tr><td>882</td><td>4.0886075949367084</td></tr><tr><td>1075</td><td>4.048780487804878</td></tr><tr><td>1115</td><td>3.1743119266055047</td></tr><tr><td>1720</td><td>4.021739130434782</td></tr><tr><td>1743</td><td>3.968421052631579</td></tr><tr><td>1949</td><td>4.176470588235294</td></tr><tr><td>210</td><td>4.027272727272727</td></tr><tr><td>315</td><td>3.8636363636363638</td></tr><tr><td>411</td><td>3.280314960629921</td></tr><tr><td>510</td><td>3.8282828282828283</td></tr><tr><td>784</td><td>4.066666666666666</td></tr><tr><td>871</td><td>3.9069767441860463</td></tr><tr><td>1020</td><td>3.9886363636363638</td></tr><tr><td>1029</td><td>3.1953125</td></tr><tr><td>1176</td><td>4.142857142857143</td></tr><tr><td>1198</td><td>3.656862745098039</td></tr><tr><td>1233</td><td>3.8852459016393444</td></tr><tr><td>1287</td><td>3.9468085106382977</td></tr><tr><td>1458</td><td>3.9896907216494846</td></tr><tr><td>1491</td><td>3.2490118577075098</td></tr><tr><td>1542</td><td>3.6723549488054608</td></tr><tr><td>1614</td><td>3.3934426229508197</td></tr><tr><td>1797</td><td>4.177142857142857</td></tr><tr><td>62</td><td>3.566265060240964</td></tr><tr><td>400</td><td>3.875</td></tr><tr><td>704</td><td>3.081081081081081</td></tr><tr><td>734</td><td>3.727272727272727</td></tr><tr><td>775</td><td>4.0</td></tr><tr><td>883</td><td>3.4166666666666665</td></tr><tr><td>1189</td><td>3.76</td></tr><tr><td>1352</td><td>3.5759493670886076</td></tr><tr><td>1395</td><td>3.826923076923077</td></tr><tr><td>1503</td><td>3.5073529411764706</td></tr><tr><td>12</td><td>3.8260869565217392</td></tr><tr><td>339</td><td>4.024193548387097</td></tr><tr><td>473</td><td>4.163265306122449</td></tr><tr><td>630</td><td>4.254237288135593</td></tr><tr><td>1049</td><td>3.5833333333333335</td></tr><tr><td>1525</td><td>3.6633663366336635</td></tr><tr><td>83</td><td>3.5757575757575757</td></tr><tr><td>417</td><td>4.045454545454546</td></tr><tr><td>557</td><td>3.8793103448275863</td></tr><tr><td>696</td><td>3.802992518703242</td></tr><tr><td>844</td><td>3.4523809523809526</td></tr><tr><td>1094</td><td>3.6219512195121952</td></tr><tr><td>1166</td><td>3.5</td></tr><tr><td>1330</td><td>4.260869565217392</td></tr><tr><td>1545</td><td>3.1013824884792625</td></tr><tr><td>1810</td><td>3.775</td></tr><tr><td>333</td><td>3.352422907488987</td></tr><tr><td>518</td><td>4.3478260869565215</td></tr><tr><td>721</td><td>3.551051051051051</td></tr><tr><td>735</td><td>3.590330788804071</td></tr><tr><td>764</td><td>4.525179856115108</td></tr><tr><td>875</td><td>4.083333333333333</td></tr><tr><td>887</td><td>3.5104166666666665</td></tr><tr><td>1511</td><td>4.087912087912088</td></tr><tr><td>1670</td><td>4.714285714285714</td></tr><tr><td>1687</td><td>3.5318066157760812</td></tr><tr><td>1795</td><td>4.32</td></tr><tr><td>109</td><td>4.0</td></tr><tr><td>123</td><td>3.401315789473684</td></tr><tr><td>215</td><td>4.5588235294117645</td></tr><tr><td>396</td><td>3.560693641618497</td></tr><tr><td>900</td><td>3.576923076923077</td></tr><tr><td>954</td><td>3.7777777777777777</td></tr><tr><td>1103</td><td>3.533333333333333</td></tr><tr><td>1853</td><td>4.1210191082802545</td></tr><tr><td>587</td><td>3.0077922077922077</td></tr><tr><td>690</td><td>4.311111111111111</td></tr><tr><td>1025</td><td>3.757575757575758</td></tr><tr><td>1197</td><td>4.166666666666667</td></tr><tr><td>1417</td><td>3.413793103448276</td></tr><tr><td>1553</td><td>3.7209302325581395</td></tr><tr><td>1694</td><td>3.741206030150754</td></tr><tr><td>1807</td><td>3.6435643564356437</td></tr><tr><td>13</td><td>3.388888888888889</td></tr><tr><td>249</td><td>3.9454545454545453</td></tr><tr><td>445</td><td>3.3181818181818183</td></tr><tr><td>602</td><td>3.396103896103896</td></tr><tr><td>676</td><td>3.128205128205128</td></tr><tr><td>706</td><td>3.556291390728477</td></tr><tr><td>810</td><td>3.8174603174603177</td></tr><tr><td>996</td><td>3.935810810810811</td></tr><tr><td>1026</td><td>4.0</td></tr><tr><td>1118</td><td>3.6666666666666665</td></tr><tr><td>1151</td><td>3.772727272727273</td></tr><tr><td>1246</td><td>3.56993006993007</td></tr><tr><td>1350</td><td>3.7589285714285716</td></tr><tr><td>1588</td><td>4.170212765957447</td></tr><tr><td>1819</td><td>3.7327586206896552</td></tr><tr><td>157</td><td>3.718969555035129</td></tr><tr><td>191</td><td>3.3333333333333335</td></tr><tr><td>260</td><td>3.311688311688312</td></tr><tr><td>1249</td><td>3.96</td></tr><tr><td>1255</td><td>3.7787234042553193</td></tr><tr><td>1273</td><td>3.9820359281437128</td></tr><tr><td>1335</td><td>3.0749185667752443</td></tr><tr><td>14</td><td>3.32</td></tr><tr><td>182</td><td>3.8313253012048194</td></tr><tr><td>831</td><td>4.105263157894737</td></tr><tr><td>939</td><td>3.757575757575758</td></tr><tr><td>1681</td><td>4.132231404958677</td></tr><tr><td>66</td><td>3.8461538461538463</td></tr><tr><td>508</td><td>3.3221476510067114</td></tr><tr><td>651</td><td>3.6129707112970713</td></tr><tr><td>662</td><td>3.141732283464567</td></tr><tr><td>846</td><td>3.91699604743083</td></tr><tr><td>1098</td><td>4.1875</td></tr><tr><td>1121</td><td>3.9550173010380623</td></tr><tr><td>1730</td><td>3.5</td></tr><tr><td>1846</td><td>4.032786885245901</td></tr><tr><td>91</td><td>4.704545454545454</td></tr><tr><td>94</td><td>3.857142857142857</td></tr><tr><td>175</td><td>3.9810725552050474</td></tr><tr><td>760</td><td>4.265625</td></tr><tr><td>771</td><td>3.769230769230769</td></tr><tr><td>1101</td><td>3.324324324324324</td></tr><tr><td>1164</td><td>3.441048034934498</td></tr><tr><td>1704</td><td>4.194444444444445</td></tr><tr><td>72</td><td>3.697674418604651</td></tr><tr><td>74</td><td>4.046511627906977</td></tr><tr><td>137</td><td>3.611940298507463</td></tr><tr><td>469</td><td>4.326530612244898</td></tr><tr><td>583</td><td>4.040229885057471</td></tr><tr><td>767</td><td>4.023529411764706</td></tr><tr><td>1618</td><td>4.208791208791209</td></tr><tr><td>161</td><td>4.4713804713804715</td></tr><tr><td>1517</td><td>3.609375</td></tr><tr><td>1615</td><td>3.0476190476190474</td></tr><tr><td>1850</td><td>3.844155844155844</td></tr><tr><td>1885</td><td>4.157894736842105</td></tr><tr><td>392</td><td>3.4743326488706368</td></tr><tr><td>637</td><td>3.7559681697612732</td></tr><tr><td>677</td><td>3.892682926829268</td></tr><tr><td>758</td><td>4.0</td></tr><tr><td>884</td><td>4.01010101010101</td></tr><tr><td>923</td><td>3.608695652173913</td></tr><tr><td>1073</td><td>4.146551724137931</td></tr><tr><td>1219</td><td>3.6205357142857144</td></tr><tr><td>1634</td><td>3.5849056603773586</td></tr><tr><td>1649</td><td>3.8421052631578947</td></tr><tr><td>1913</td><td>4.295454545454546</td></tr><tr><td>151</td><td>3.653927813163482</td></tr><tr><td>355</td><td>3.4463007159904535</td></tr><tr><td>489</td><td>3.3333333333333335</td></tr><tr><td>661</td><td>4.647887323943662</td></tr><tr><td>1292</td><td>3.3958333333333335</td></tr><tr><td>1800</td><td>3.615079365079365</td></tr><tr><td>1849</td><td>3.7083333333333335</td></tr><tr><td>1873</td><td>3.48989898989899</td></tr><tr><td>321</td><td>3.2612612612612613</td></tr><tr><td>367</td><td>4.25</td></tr><tr><td>487</td><td>3.34</td></tr><tr><td>925</td><td>3.1323529411764706</td></tr><tr><td>1178</td><td>3.5</td></tr><tr><td>1388</td><td>4.018867924528302</td></tr><tr><td>1438</td><td>3.477272727272727</td></tr><tr><td>1699</td><td>4.313218390804598</td></tr><tr><td>353</td><td>3.9166666666666665</td></tr><tr><td>598</td><td>3.3157894736842106</td></tr><tr><td>791</td><td>3.966463414634146</td></tr><tr><td>809</td><td>4.031914893617022</td></tr><tr><td>1055</td><td>3.448717948717949</td></tr><tr><td>1480</td><td>3.395348837209302</td></tr><tr><td>1631</td><td>3.8423076923076924</td></tr><tr><td>1776</td><td>3.2748815165876777</td></tr><tr><td>1855</td><td>3.144578313253012</td></tr><tr><td>262</td><td>3.330188679245283</td></tr><tr><td>499</td><td>3.9748743718592965</td></tr><tr><td>984</td><td>3.5417867435158503</td></tr><tr><td>1047</td><td>3.8815789473684212</td></tr><tr><td>1142</td><td>3.3726235741444865</td></tr><tr><td>1548</td><td>3.5833333333333335</td></tr><tr><td>129</td><td>4.025316455696203</td></tr><tr><td>368</td><td>3.78125</td></tr><tr><td>579</td><td>3.8550724637681157</td></tr><tr><td>1364</td><td>4.0</td></tr><tr><td>1366</td><td>3.5104895104895104</td></tr><tr><td>1546</td><td>3.754385964912281</td></tr><tr><td>1626</td><td>3.4391143911439115</td></tr><tr><td>76</td><td>4.172413793103448</td></tr><tr><td>378</td><td>3.5128205128205128</td></tr><tr><td>529</td><td>4.19672131147541</td></tr><tr><td>608</td><td>3.1882352941176473</td></tr><tr><td>674</td><td>4.2784810126582276</td></tr><tr><td>942</td><td>4.04</td></tr><tr><td>1333</td><td>3.6965888689407542</td></tr><tr><td>1586</td><td>4.424096385542168</td></tr><tr><td>1712</td><td>3.512720156555773</td></tr><tr><td>2</td><td>3.7131782945736433</td></tr><tr><td>196</td><td>4.0625</td></tr><tr><td>278</td><td>3.9646464646464645</td></tr><tr><td>337</td><td>3.525252525252525</td></tr><tr><td>460</td><td>3.3617021276595747</td></tr><tr><td>1002</td><td>4.136363636363637</td></tr><tr><td>1125</td><td>3.222413793103448</td></tr><tr><td>1154</td><td>3.375</td></tr><tr><td>1522</td><td>3.641025641025641</td></tr><tr><td>1781</td><td>3.4150943396226414</td></tr><tr><td>254</td><td>3.782608695652174</td></tr><tr><td>370</td><td>3.75</td></tr><tr><td>765</td><td>3.574626865671642</td></tr><tr><td>828</td><td>3.4434782608695653</td></tr><tr><td>1662</td><td>3.64</td></tr><tr><td>1717</td><td>3.8160377358490565</td></tr><tr><td>1928</td><td>3.839622641509434</td></tr><tr><td>192</td><td>3.0914285714285716</td></tr><tr><td>311</td><td>4.15</td></tr><tr><td>435</td><td>3.8333333333333335</td></tr><tr><td>590</td><td>4.13855421686747</td></tr><tr><td>664</td><td>4.025316455696203</td></tr><tr><td>848</td><td>4.178571428571429</td></tr><tr><td>956</td><td>3.990740740740741</td></tr><tr><td>972</td><td>3.3714285714285714</td></tr><tr><td>1188</td><td>4.161290322580645</td></tr><tr><td>1223</td><td>3.9246575342465753</td></tr><tr><td>1306</td><td>4.1475054229934925</td></tr><tr><td>1493</td><td>3.75</td></tr><tr><td>1537</td><td>3.763157894736842</td></tr><tr><td>1703</td><td>4.076923076923077</td></tr><tr><td>1876</td><td>3.4545454545454546</td></tr><tr><td>80</td><td>3.8958333333333335</td></tr><tr><td>226</td><td>3.5714285714285716</td></tr><tr><td>324</td><td>3.3289473684210527</td></tr><tr><td>340</td><td>3.5277777777777777</td></tr><tr><td>504</td><td>3.8055555555555554</td></tr><tr><td>569</td><td>3.52</td></tr><tr><td>693</td><td>3.8857142857142857</td></tr><tr><td>814</td><td>4.055555555555555</td></tr><tr><td>817</td><td>4.010050251256281</td></tr><tr><td>1380</td><td>3.316205533596838</td></tr><tr><td>1619</td><td>4.03030303030303</td></tr><tr><td>1647</td><td>3.2301587301587302</td></tr><tr><td>301</td><td>3.8011204481792715</td></tr><tr><td>611</td><td>3.9393939393939394</td></tr><tr><td>707</td><td>3.6153846153846154</td></tr><tr><td>717</td><td>3.1538461538461537</td></tr><tr><td>847</td><td>3.6129032258064515</td></tr><tr><td>1362</td><td>3.4474885844748857</td></tr><tr><td>1369</td><td>3.782178217821782</td></tr><tr><td>1373</td><td>3.810810810810811</td></tr><tr><td>1498</td><td>3.8275862068965516</td></tr><tr><td>532</td><td>3.86046511627907</td></tr><tr><td>872</td><td>3.635514018691589</td></tr><tr><td>1218</td><td>3.4553191489361703</td></tr><tr><td>1224</td><td>4.046712802768166</td></tr><tr><td>1310</td><td>3.75</td></tr><tr><td>1324</td><td>4.037037037037037</td></tr><tr><td>1409</td><td>4.214285714285714</td></tr><tr><td>1803</td><td>3.433098591549296</td></tr><tr><td>50</td><td>3.0697674418604652</td></tr><tr><td>330</td><td>4.0131578947368425</td></tr><tr><td>920</td><td>3.4615384615384617</td></tr><tr><td>946</td><td>4.303030303030303</td></tr><tr><td>1156</td><td>3.5833333333333335</td></tr><tr><td>1222</td><td>3.2205882352941178</td></tr><tr><td>1469</td><td>4.0625</td></tr><tr><td>1757</td><td>3.690909090909091</td></tr><tr><td>1840</td><td>3.9166666666666665</td></tr><tr><td>332</td><td>4.2835820895522385</td></tr><tr><td>542</td><td>3.764705882352941</td></tr><tr><td>553</td><td>4.15625</td></tr><tr><td>861</td><td>3.9375</td></tr><tr><td>1532</td><td>4.095238095238095</td></tr><tr><td>1844</td><td>3.65</td></tr><tr><td>1892</td><td>4.2727272727272725</td></tr><tr><td>1933</td><td>3.466666666666667</td></tr><tr><td>216</td><td>3.2317380352644838</td></tr><tr><td>522</td><td>3.8448275862068964</td></tr><tr><td>572</td><td>3.05</td></tr><tr><td>820</td><td>3.4134615384615383</td></tr><tr><td>937</td><td>3.7327586206896552</td></tr><tr><td>990</td><td>3.549019607843137</td></tr><tr><td>1691</td><td>3.52</td></tr><tr><td>1920</td><td>3.3860232945091515</td></tr><tr><td>119</td><td>3.5428571428571427</td></tr><tr><td>898</td><td>4.083333333333333</td></tr><tr><td>1001</td><td>3.6525198938992043</td></tr><tr><td>1389</td><td>3.812652068126521</td></tr><tr><td>1629</td><td>3.4923076923076923</td></tr><tr><td>1779</td><td>3.295302013422819</td></tr><tr><td>438</td><td>3.528239202657807</td></tr><tr><td>699</td><td>3.0534124629080117</td></tr><tr><td>1195</td><td>3.71875</td></tr><tr><td>1251</td><td>3.3777777777777778</td></tr><tr><td>1329</td><td>3.2853658536585364</td></tr><tr><td>1767</td><td>3.5751633986928106</td></tr><tr><td>2069</td><td>3.9066666666666667</td></tr><tr><td>2088</td><td>3.877551020408163</td></tr><tr><td>2136</td><td>3.91875</td></tr><tr><td>2162</td><td>3.9395604395604398</td></tr><tr><td>2294</td><td>4.112903225806452</td></tr><tr><td>2904</td><td>3.8627450980392157</td></tr><tr><td>3210</td><td>4.5369127516778525</td></tr><tr><td>3414</td><td>4.097643097643098</td></tr><tr><td>3606</td><td>4.114285714285714</td></tr><tr><td>2110</td><td>3.239819004524887</td></tr><tr><td>2275</td><td>3.864864864864865</td></tr><tr><td>2393</td><td>3.889655172413793</td></tr><tr><td>2464</td><td>3.8</td></tr><tr><td>2756</td><td>4.03765690376569</td></tr><tr><td>3015</td><td>3.4285714285714284</td></tr><tr><td>3281</td><td>4.031578947368421</td></tr><tr><td>3368</td><td>3.6391752577319587</td></tr><tr><td>3517</td><td>3.8688524590163933</td></tr><tr><td>3650</td><td>3.5605095541401273</td></tr><tr><td>3826</td><td>3.857142857142857</td></tr><tr><td>3858</td><td>4.277777777777778</td></tr><tr><td>2530</td><td>3.85</td></tr><tr><td>2696</td><td>3.3</td></tr><tr><td>2700</td><td>3.3877551020408165</td></tr><tr><td>2725</td><td>3.6285714285714286</td></tr><tr><td>2898</td><td>3.871559633027523</td></tr><tr><td>2917</td><td>3.5285714285714285</td></tr><tr><td>3200</td><td>3.7861635220125787</td></tr><tr><td>3836</td><td>3.388235294117647</td></tr><tr><td>3838</td><td>3.25</td></tr><tr><td>3949</td><td>3.824324324324324</td></tr><tr><td>2034</td><td>4.216216216216216</td></tr><tr><td>2550</td><td>3.702127659574468</td></tr><tr><td>2888</td><td>3.481382978723404</td></tr><tr><td>2895</td><td>3.7387914230019494</td></tr><tr><td>2930</td><td>3.45</td></tr><tr><td>3121</td><td>3.4686346863468636</td></tr><tr><td>3249</td><td>3.7384615384615385</td></tr><tr><td>3266</td><td>4.357615894039735</td></tr><tr><td>3312</td><td>3.001503759398496</td></tr><tr><td>3652</td><td>3.4290657439446366</td></tr><tr><td>2161</td><td>3.5833333333333335</td></tr><tr><td>3057</td><td>3.472049689440994</td></tr><tr><td>3167</td><td>4.031818181818182</td></tr><tr><td>3491</td><td>3.8170563961485557</td></tr><tr><td>3895</td><td>3.295774647887324</td></tr><tr><td>3898</td><td>3.742574257425743</td></tr><tr><td>3902</td><td>4.890909090909091</td></tr><tr><td>1987</td><td>3.617021276595745</td></tr><tr><td>2129</td><td>3.2717086834733893</td></tr><tr><td>2402</td><td>3.3100189035916823</td></tr><tr><td>2477</td><td>4.475409836065574</td></tr><tr><td>2495</td><td>3.4871794871794872</td></tr><tr><td>2644</td><td>3.857142857142857</td></tr><tr><td>2789</td><td>3.776595744680851</td></tr><tr><td>2808</td><td>4.115107913669065</td></tr><tr><td>2915</td><td>3.763888888888889</td></tr><tr><td>3179</td><td>3.2</td></tr><tr><td>3241</td><td>3.709090909090909</td></tr><tr><td>3299</td><td>4.052980132450331</td></tr><tr><td>3553</td><td>4.085106382978723</td></tr><tr><td>3786</td><td>4.031746031746032</td></tr><tr><td>3848</td><td>4.153846153846154</td></tr><tr><td>3875</td><td>3.717948717948718</td></tr><tr><td>2200</td><td>3.1052631578947367</td></tr><tr><td>2249</td><td>3.9285714285714284</td></tr><tr><td>2392</td><td>4.023255813953488</td></tr><tr><td>2531</td><td>3.806451612903226</td></tr><tr><td>2718</td><td>3.871794871794872</td></tr><tr><td>2948</td><td>4.037735849056604</td></tr><tr><td>2964</td><td>4.541666666666667</td></tr><tr><td>2980</td><td>3.5955882352941178</td></tr><tr><td>3250</td><td>3.2419354838709675</td></tr><tr><td>3365</td><td>4.156521739130435</td></tr><tr><td>3408</td><td>3.7672413793103448</td></tr><tr><td>3641</td><td>3.6371134020618556</td></tr><tr><td>3656</td><td>3.0126582278481013</td></tr><tr><td>3891</td><td>4.16</td></tr><tr><td>2144</td><td>3.287128712871287</td></tr><tr><td>2199</td><td>3.0697674418604652</td></tr><tr><td>2341</td><td>3.280701754385965</td></tr><tr><td>2605</td><td>3.9361702127659575</td></tr><tr><td>2628</td><td>3.334975369458128</td></tr><tr><td>2720</td><td>3.0526315789473686</td></tr><tr><td>2729</td><td>4.478260869565218</td></tr><tr><td>2953</td><td>3.2</td></tr><tr><td>3089</td><td>4.339622641509434</td></tr><tr><td>3454</td><td>3.5027624309392267</td></tr><tr><td>3661</td><td>3.92</td></tr><tr><td>3819</td><td>4.0423728813559325</td></tr><tr><td>2016</td><td>3.990990990990991</td></tr><tr><td>2415</td><td>3.6666666666666665</td></tr><tr><td>2436</td><td>3.5901639344262297</td></tr><tr><td>2545</td><td>4.098039215686274</td></tr><tr><td>2812</td><td>3.603305785123967</td></tr><tr><td>2988</td><td>3.1587301587301586</td></tr><tr><td>3145</td><td>3.72972972972973</td></tr><tr><td>3570</td><td>3.1818181818181817</td></tr><tr><td>3863</td><td>3.76</td></tr><tr><td>2079</td><td>3.46875</td></tr><tr><td>2762</td><td>4.0</td></tr><tr><td>2931</td><td>3.6339285714285716</td></tr><tr><td>3140</td><td>3.9009287925696596</td></tr><tr><td>3490</td><td>3.889344262295082</td></tr><tr><td>3581</td><td>3.235294117647059</td></tr><tr><td>3711</td><td>4.193181818181818</td></tr><tr><td>3740</td><td>4.276595744680851</td></tr><tr><td>3781</td><td>4.483870967741935</td></tr><tr><td>2020</td><td>3.5307855626326963</td></tr><tr><td>2115</td><td>3.8620689655172415</td></tr><tr><td>2138</td><td>3.75</td></tr><tr><td>2363</td><td>4.580645161290323</td></tr><tr><td>2431</td><td>3.5</td></tr><tr><td>2951</td><td>4.230769230769231</td></tr><tr><td>2354</td><td>3.6153846153846154</td></tr><tr><td>2683</td><td>4.36964980544747</td></tr><tr><td>2714</td><td>3.55</td></tr><tr><td>3521</td><td>3.7906976744186047</td></tr><tr><td>3578</td><td>3.3948339483394836</td></tr><tr><td>3584</td><td>3.08955223880597</td></tr><tr><td>3742</td><td>3.712</td></tr><tr><td>2407</td><td>4.059210526315789</td></tr><tr><td>2648</td><td>3.94392523364486</td></tr><tr><td>2863</td><td>3.641025641025641</td></tr><tr><td>3187</td><td>4.333333333333333</td></tr><tr><td>3709</td><td>3.2658610271903323</td></tr><tr><td>3764</td><td>3.925925925925926</td></tr><tr><td>2139</td><td>4.132075471698113</td></tr><tr><td>2272</td><td>3.921259842519685</td></tr><tr><td>3019</td><td>4.148148148148148</td></tr><tr><td>3107</td><td>3.5555555555555554</td></tr><tr><td>3378</td><td>3.578723404255319</td></tr><tr><td>3660</td><td>3.7413793103448274</td></tr><tr><td>3728</td><td>3.875</td></tr><tr><td>2058</td><td>3.3191489361702127</td></tr><tr><td>2108</td><td>4.363636363636363</td></tr><tr><td>2201</td><td>4.3538461538461535</td></tr><tr><td>2423</td><td>4.04</td></tr><tr><td>2443</td><td>3.3846153846153846</td></tr><tr><td>2846</td><td>3.3137254901960786</td></tr><tr><td>2989</td><td>3.742857142857143</td></tr><tr><td>3268</td><td>3.8656716417910446</td></tr><tr><td>3399</td><td>3.5454545454545454</td></tr><tr><td>3406</td><td>4.048780487804878</td></tr><tr><td>3546</td><td>3.392682926829268</td></tr><tr><td>3802</td><td>3.1818181818181817</td></tr><tr><td>2587</td><td>4.032258064516129</td></tr><tr><td>2799</td><td>4.130434782608695</td></tr><tr><td>2896</td><td>3.578125</td></tr><tr><td>3074</td><td>4.302816901408451</td></tr><tr><td>3494</td><td>3.5714285714285716</td></tr><tr><td>3550</td><td>3.5126050420168067</td></tr><tr><td>3933</td><td>3.875</td></tr><tr><td>2772</td><td>3.6741573033707864</td></tr><tr><td>2784</td><td>4.069620253164557</td></tr><tr><td>3078</td><td>4.0625</td></tr><tr><td>3207</td><td>4.141414141414141</td></tr><tr><td>3583</td><td>4.2</td></tr><tr><td>3716</td><td>3.5714285714285716</td></tr><tr><td>1972</td><td>4.409638554216867</td></tr><tr><td>2031</td><td>3.56</td></tr><tr><td>2149</td><td>3.811320754716981</td></tr><tr><td>2155</td><td>4.690140845070423</td></tr><tr><td>2224</td><td>4.2368421052631575</td></tr><tr><td>2349</td><td>3.1025641025641026</td></tr><tr><td>2701</td><td>3.219298245614035</td></tr><tr><td>3090</td><td>3.6451612903225805</td></tr><tr><td>3496</td><td>3.76</td></tr><tr><td>3582</td><td>3.6288659793814433</td></tr><tr><td>3646</td><td>4.139784946236559</td></tr><tr><td>3745</td><td>3.297029702970297</td></tr><tr><td>3777</td><td>3.6293103448275863</td></tr><tr><td>3914</td><td>3.6371681415929205</td></tr><tr><td>2090</td><td>3.7729257641921397</td></tr><tr><td>2111</td><td>3.75</td></tr><tr><td>2633</td><td>3.7567567567567566</td></tr><tr><td>2699</td><td>4.16</td></tr><tr><td>2942</td><td>4.4728682170542635</td></tr><tr><td>3337</td><td>3.7160493827160495</td></tr><tr><td>3662</td><td>3.034090909090909</td></tr><tr><td>3952</td><td>3.896551724137931</td></tr><tr><td>2026</td><td>3.541284403669725</td></tr><tr><td>2447</td><td>4.2105263157894735</td></tr><tr><td>2759</td><td>3.55</td></tr><tr><td>2943</td><td>4.395161290322581</td></tr><tr><td>3288</td><td>3.576923076923077</td></tr><tr><td>3346</td><td>3.7816593886462884</td></tr><tr><td>3386</td><td>3.7094594594594597</td></tr><tr><td>3466</td><td>4.162162162162162</td></tr><tr><td>3478</td><td>3.3783783783783785</td></tr><tr><td>3597</td><td>3.973684210526316</td></tr><tr><td>3615</td><td>3.425287356321839</td></tr><tr><td>2085</td><td>3.661764705882353</td></tr><tr><td>2305</td><td>3.1298701298701297</td></tr><tr><td>2578</td><td>4.142857142857143</td></tr><tr><td>2738</td><td>4.438095238095238</td></tr><tr><td>2778</td><td>4.235849056603773</td></tr><tr><td>3072</td><td>3.380952380952381</td></tr><tr><td>3131</td><td>3.3506493506493507</td></tr><tr><td>3529</td><td>3.0352422907488985</td></tr><tr><td>3532</td><td>3.8596491228070176</td></tr><tr><td>3814</td><td>3.5</td></tr><tr><td>3889</td><td>4.293233082706767</td></tr><tr><td>3944</td><td>3.54</td></tr><tr><td>2252</td><td>3.4782608695652173</td></tr><tr><td>2339</td><td>4.956521739130435</td></tr><tr><td>2562</td><td>3.8596491228070176</td></tr><tr><td>2739</td><td>3.40625</td></tr><tr><td>2791</td><td>4.5625</td></tr><tr><td>3058</td><td>3.696551724137931</td></tr><tr><td>3316</td><td>4.0</td></tr><tr><td>3580</td><td>4.027777777777778</td></tr><tr><td>3733</td><td>3.823529411764706</td></tr><tr><td>3794</td><td>3.0681818181818183</td></tr><tr><td>2288</td><td>3.033644859813084</td></tr><tr><td>2329</td><td>3.375</td></tr><tr><td>2842</td><td>3.6292134831460676</td></tr><tr><td>3154</td><td>3.761904761904762</td></tr><tr><td>3559</td><td>4.391891891891892</td></tr><tr><td>3720</td><td>3.4589371980676327</td></tr><tr><td>3833</td><td>3.6698717948717947</td></tr><tr><td>2164</td><td>3.6602972399150744</td></tr><tr><td>2281</td><td>4.0519480519480515</td></tr><tr><td>2353</td><td>3.6091370558375635</td></tr><tr><td>2572</td><td>4.185430463576159</td></tr><tr><td>2669</td><td>3.747826086956522</td></tr><tr><td>3060</td><td>3.5675675675675675</td></tr><tr><td>3468</td><td>4.015151515151516</td></tr><tr><td>1988</td><td>3.5230524642289347</td></tr><tr><td>2100</td><td>3.707792207792208</td></tr><tr><td>2113</td><td>3.847826086956522</td></tr><tr><td>2156</td><td>3.3968253968253967</td></tr><tr><td>2188</td><td>3.05679012345679</td></tr><tr><td>2385</td><td>3.782608695652174</td></tr><tr><td>2654</td><td>4.08</td></tr><tr><td>2889</td><td>3.81025641025641</td></tr><tr><td>2913</td><td>3.9575757575757575</td></tr><tr><td>3087</td><td>3.919191919191919</td></tr><tr><td>3148</td><td>3.696078431372549</td></tr><tr><td>3395</td><td>3.6964285714285716</td></tr><tr><td>3544</td><td>4.344827586206897</td></tr><tr><td>3636</td><td>3.6956521739130435</td></tr><tr><td>3727</td><td>3.2282608695652173</td></tr><tr><td>3927</td><td>3.9423076923076925</td></tr><tr><td>2019</td><td>3.5588235294117645</td></tr><tr><td>2185</td><td>4.276450511945392</td></tr><tr><td>2564</td><td>3.775</td></tr><tr><td>2758</td><td>4.0</td></tr><tr><td>2926</td><td>3.283625730994152</td></tr><tr><td>3098</td><td>3.369565217391304</td></tr><tr><td>3261</td><td>3.2430426716141003</td></tr><tr><td>3507</td><td>3.2611050920910074</td></tr><tr><td>3935</td><td>3.4226190476190474</td></tr><tr><td>2017</td><td>3.899159663865546</td></tr><tr><td>2478</td><td>3.5505226480836236</td></tr><tr><td>2576</td><td>3.0833333333333335</td></tr><tr><td>2708</td><td>3.081081081081081</td></tr><tr><td>2749</td><td>3.9555555555555557</td></tr><tr><td>3379</td><td>3.717948717948718</td></tr><tr><td>3429</td><td>3.6</td></tr><tr><td>3447</td><td>3.8588235294117648</td></tr><tr><td>3452</td><td>4.458823529411765</td></tr><tr><td>3807</td><td>3.3410041841004183</td></tr><tr><td>1977</td><td>3.626865671641791</td></tr><tr><td>2211</td><td>3.966442953020134</td></tr><tr><td>2454</td><td>3.4152823920265782</td></tr><tr><td>2561</td><td>3.779220779220779</td></tr><tr><td>2816</td><td>3.8181818181818183</td></tr><tr><td>2882</td><td>3.3333333333333335</td></tr><tr><td>2975</td><td>4.19</td></tr><tr><td>3063</td><td>3.6875</td></tr><tr><td>3391</td><td>3.7203947368421053</td></tr><tr><td>3577</td><td>3.730769230769231</td></tr><tr><td>3723</td><td>4.256410256410256</td></tr><tr><td>1971</td><td>4.2727272727272725</td></tr><tr><td>2014</td><td>4.2592592592592595</td></tr><tr><td>2309</td><td>3.514450867052023</td></tr><tr><td>2323</td><td>3.6728624535315983</td></tr><tr><td>2380</td><td>3.3817733990147785</td></tr><tr><td>3449</td><td>4.171875</td></tr><tr><td>1984</td><td>3.5653710247349824</td></tr><tr><td>2247</td><td>3.922178988326848</td></tr><tr><td>2504</td><td>3.558139534883721</td></tr><tr><td>2580</td><td>3.7027027027027026</td></tr><tr><td>3095</td><td>3.896551724137931</td></tr><tr><td>3327</td><td>3.505586592178771</td></tr><tr><td>3506</td><td>4.294117647058823</td></tr><tr><td>3541</td><td>4.228571428571429</td></tr><tr><td>2532</td><td>4.096774193548387</td></tr><tr><td>2570</td><td>3.8125</td></tr><tr><td>2630</td><td>3.5925925925925926</td></tr><tr><td>2685</td><td>3.5969387755102042</td></tr><tr><td>3171</td><td>4.181818181818182</td></tr><tr><td>3247</td><td>3.896551724137931</td></tr><tr><td>3358</td><td>3.8017241379310347</td></tr><tr><td>3402</td><td>3.8424242424242423</td></tr><tr><td>3405</td><td>4.121951219512195</td></tr><tr><td>3682</td><td>4.461538461538462</td></tr><tr><td>1982</td><td>3.425806451612903</td></tr><tr><td>2013</td><td>3.9</td></tr><tr><td>2121</td><td>3.670157068062827</td></tr><tr><td>2389</td><td>3.8461538461538463</td></tr><tr><td>2610</td><td>3.108695652173913</td></tr><tr><td>2774</td><td>3.888086642599278</td></tr><tr><td>2967</td><td>3.455407969639469</td></tr><tr><td>3080</td><td>3.88021778584392</td></tr><tr><td>3504</td><td>3.5233644859813085</td></tr><tr><td>3565</td><td>3.1714285714285713</td></tr><tr><td>3630</td><td>3.298342541436464</td></tr><tr><td>3726</td><td>3.4705882352941178</td></tr><tr><td>3801</td><td>3.8142857142857145</td></tr><tr><td>3936</td><td>4.352941176470588</td></tr><tr><td>2231</td><td>3.6720183486238533</td></tr><tr><td>2282</td><td>4.026595744680851</td></tr><tr><td>2752</td><td>3.2962962962962963</td></tr><tr><td>2773</td><td>4.072289156626506</td></tr><tr><td>2814</td><td>4.047058823529412</td></tr><tr><td>2903</td><td>4.089041095890411</td></tr><tr><td>2991</td><td>3.9655172413793105</td></tr><tr><td>3084</td><td>3.7051282051282053</td></tr><tr><td>3105</td><td>3.9916666666666667</td></tr><tr><td>3137</td><td>3.4313725490196076</td></tr><tr><td>3191</td><td>3.147783251231527</td></tr><tr><td>3226</td><td>4.346774193548387</td></tr><tr><td>3512</td><td>3.584352078239609</td></tr><tr><td>3663</td><td>3.4505494505494507</td></tr><tr><td>3770</td><td>4.003759398496241</td></tr><tr><td>3879</td><td>3.3043478260869565</td></tr><tr><td>2862</td><td>4.023255813953488</td></tr><tr><td>2977</td><td>3.238095238095238</td></tr><tr><td>3251</td><td>4.464285714285714</td></tr><tr><td>3315</td><td>4.021978021978022</td></tr><tr><td>3605</td><td>3.9478260869565216</td></tr><tr><td>3649</td><td>4.254901960784314</td></tr><tr><td>3929</td><td>3.0277777777777777</td></tr><tr><td>2263</td><td>3.707627118644068</td></tr><tr><td>2421</td><td>3.819672131147541</td></tr><tr><td>2642</td><td>3.915492957746479</td></tr><tr><td>2671</td><td>3.217391304347826</td></tr><tr><td>3126</td><td>3.765432098765432</td></tr><tr><td>2000</td><td>3.7857142857142856</td></tr><tr><td>2035</td><td>3.5672514619883042</td></tr><tr><td>2303</td><td>4.1688311688311686</td></tr><tr><td>2390</td><td>3.9473684210526314</td></tr><tr><td>2765</td><td>3.6208530805687205</td></tr><tr><td>3106</td><td>4.161764705882353</td></tr><tr><td>3181</td><td>4.36</td></tr><tr><td>3666</td><td>4.142857142857143</td></tr><tr><td>3691</td><td>3.665562913907285</td></tr><tr><td>1965</td><td>3.125</td></tr><tr><td>2056</td><td>4.09765625</td></tr><tr><td>2350</td><td>3.8620689655172415</td></tr><tr><td>2403</td><td>3.466666666666667</td></tr><tr><td>2522</td><td>3.689189189189189</td></tr><tr><td>2588</td><td>3.8048780487804876</td></tr><tr><td>2703</td><td>3.6847826086956523</td></tr><tr><td>3118</td><td>3.543859649122807</td></tr><tr><td>3300</td><td>3.9640883977900554</td></tr><tr><td>3702</td><td>3.7872340425531914</td></tr><tr><td>3747</td><td>4.03125</td></tr><tr><td>3911</td><td>3.64</td></tr><tr><td>2375</td><td>3.7037037037037037</td></tr><tr><td>2596</td><td>3.7560975609756095</td></tr><tr><td>2604</td><td>3.8970588235294117</td></tr><tr><td>2793</td><td>4.068441064638783</td></tr><tr><td>2821</td><td>3.6333333333333333</td></tr><tr><td>2954</td><td>3.9444444444444446</td></tr><tr><td>3054</td><td>3.5076045627376424</td></tr><tr><td>3272</td><td>3.77511961722488</td></tr><tr><td>3314</td><td>4.002994011976048</td></tr><tr><td>3360</td><td>3.4827586206896552</td></tr><tr><td>3773</td><td>3.4265927977839334</td></tr><tr><td>3797</td><td>3.4814814814814814</td></tr><tr><td>2036</td><td>3.9384615384615387</td></tr><tr><td>2253</td><td>4.096774193548387</td></tr><tr><td>2557</td><td>3.6486486486486487</td></tr><tr><td>3551</td><td>3.9310344827586206</td></tr><tr><td>3627</td><td>3.638888888888889</td></tr><tr><td>2131</td><td>3.370716510903427</td></tr><tr><td>2319</td><td>3.774193548387097</td></tr><tr><td>2547</td><td>4.143884892086331</td></tr><tr><td>2676</td><td>4.170305676855895</td></tr><tr><td>3352</td><td>3.4895833333333335</td></tr><tr><td>3572</td><td>4.2342342342342345</td></tr><tr><td>3607</td><td>3.4423076923076925</td></tr><tr><td>3670</td><td>3.573529411764706</td></tr><tr><td>3947</td><td>4.117647058823529</td></tr><tr><td>2396</td><td>4.083333333333333</td></tr><tr><td>2795</td><td>3.62</td></tr><tr><td>2811</td><td>3.6666666666666665</td></tr><tr><td>3003</td><td>3.9240506329113924</td></tr><tr><td>3153</td><td>3.6136363636363638</td></tr><tr><td>3248</td><td>3.5476190476190474</td></tr><tr><td>3446</td><td>4.472222222222222</td></tr><tr><td>2640</td><td>3.8095238095238093</td></tr><tr><td>2776</td><td>3.802857142857143</td></tr><tr><td>2805</td><td>3.897727272727273</td></tr><tr><td>3176</td><td>3.380952380952381</td></tr><tr><td>3524</td><td>3.5751633986928106</td></tr><tr><td>3527</td><td>3.5641025641025643</td></tr><tr><td>3622</td><td>3.89937106918239</td></tr><tr><td>3653</td><td>4.207207207207207</td></tr><tr><td>3672</td><td>3.3201970443349755</td></tr><tr><td>3860</td><td>3.6491228070175437</td></tr><tr><td>3883</td><td>3.25</td></tr><tr><td>2037</td><td>3.45</td></tr><tr><td>2046</td><td>3.5903614457831323</td></tr><tr><td>2094</td><td>4.056338028169014</td></tr><tr><td>2306</td><td>3.6338028169014085</td></tr><tr><td>2755</td><td>4.434782608695652</td></tr><tr><td>3276</td><td>3.0689655172413794</td></tr><tr><td>3310</td><td>4.121212121212121</td></tr><tr><td>3809</td><td>4.404255319148936</td></tr><tr><td>3849</td><td>3.1492537313432836</td></tr><tr><td>2377</td><td>3.9722222222222223</td></tr><tr><td>2693</td><td>3.8823529411764706</td></tr><tr><td>3031</td><td>3.904</td></tr><tr><td>3110</td><td>3.6033333333333335</td></tr><tr><td>3328</td><td>3.4835164835164836</td></tr><tr><td>3373</td><td>3.5</td></tr><tr><td>3665</td><td>3.8564814814814814</td></tr><tr><td>3692</td><td>3.9859154929577465</td></tr><tr><td>3823</td><td>3.9510268562401265</td></tr><tr><td>2521</td><td>3.888888888888889</td></tr><tr><td>2871</td><td>3.607142857142857</td></tr><tr><td>2877</td><td>3.4782608695652173</td></tr><tr><td>3463</td><td>3.891891891891892</td></tr><tr><td>3772</td><td>3.8541666666666665</td></tr><tr><td>3904</td><td>3.912621359223301</td></tr><tr><td>3909</td><td>3.41025641025641</td></tr><tr><td>2028</td><td>3.6666666666666665</td></tr><tr><td>2097</td><td>3.293103448275862</td></tr><tr><td>2573</td><td>4.010309278350515</td></tr><tr><td>2691</td><td>4.4896265560165975</td></tr><tr><td>3044</td><td>4.016447368421052</td></tr><tr><td>3195</td><td>3.5</td></tr><tr><td>3283</td><td>3.597560975609756</td></tr><tr><td>3729</td><td>3.783295711060948</td></tr><tr><td>3741</td><td>3.611940298507463</td></tr><tr><td>3744</td><td>4.083333333333333</td></tr><tr><td>2442</td><td>3.8620689655172415</td></tr><tr><td>3128</td><td>3.5236593059936907</td></tr><tr><td>3161</td><td>4.140845070422535</td></tr><tr><td>3255</td><td>3.6222222222222222</td></tr><tr><td>3307</td><td>3.6153846153846154</td></tr><tr><td>3707</td><td>3.823529411764706</td></tr><tr><td>3837</td><td>3.770408163265306</td></tr><tr><td>3867</td><td>4.0</td></tr><tr><td>2209</td><td>3.4347826086956523</td></tr><tr><td>2210</td><td>3.689655172413793</td></tr><tr><td>2277</td><td>3.392857142857143</td></tr><tr><td>2601</td><td>3.793103448275862</td></tr><tr><td>2979</td><td>4.0</td></tr><tr><td>3347</td><td>4.4</td></tr><tr><td>3350</td><td>4.326086956521739</td></tr><tr><td>3618</td><td>3.0081845238095237</td></tr><tr><td>3619</td><td>3.6831683168316833</td></tr><tr><td>3724</td><td>3.5283018867924527</td></tr><tr><td>3852</td><td>4.43859649122807</td></tr><tr><td>2091</td><td>4.08843537414966</td></tr><tr><td>2638</td><td>3.103646833013436</td></tr><tr><td>2741</td><td>4.0</td></tr><tr><td>3372</td><td>4.258064516129032</td></tr><tr><td>3393</td><td>3.5430711610486894</td></tr><tr><td>3558</td><td>4.31</td></tr><tr><td>3633</td><td>4.0</td></tr><tr><td>3738</td><td>4.53125</td></tr><tr><td>1981</td><td>3.029850746268657</td></tr><tr><td>2048</td><td>4.142857142857143</td></tr><tr><td>2479</td><td>3.8484848484848486</td></tr><tr><td>2856</td><td>3.5384615384615383</td></tr><tr><td>2866</td><td>3.351219512195122</td></tr><tr><td>3068</td><td>3.761904761904762</td></tr><tr><td>3149</td><td>4.111111111111111</td></tr><tr><td>3196</td><td>3.232786885245902</td></tr><tr><td>3296</td><td>4.375</td></tr><tr><td>3600</td><td>3.725067385444744</td></tr><tr><td>3624</td><td>3.9858757062146895</td></tr><tr><td>3811</td><td>3.8</td></tr><tr><td>3855</td><td>3.712871287128713</td></tr><tr><td>3931</td><td>3.5107296137339055</td></tr><tr><td>3946</td><td>3.734848484848485</td></tr><tr><td>2123</td><td>4.085714285714285</td></tr><tr><td>2174</td><td>3.5842696629213484</td></tr><tr><td>2183</td><td>3.6857142857142855</td></tr><tr><td>2336</td><td>3.9523809523809526</td></tr><tr><td>2463</td><td>3.219047619047619</td></tr><tr><td>2626</td><td>4.045454545454546</td></tr><tr><td>2660</td><td>3.6808510638297873</td></tr><tr><td>2731</td><td>4.271428571428571</td></tr><tr><td>2737</td><td>3.5463659147869673</td></tr><tr><td>2779</td><td>3.935672514619883</td></tr><tr><td>2845</td><td>3.9444444444444446</td></tr><tr><td>2947</td><td>3.713235294117647</td></tr><tr><td>3036</td><td>4.525862068965517</td></tr><tr><td>3117</td><td>4.297297297297297</td></tr><tr><td>3172</td><td>3.5833333333333335</td></tr><tr><td>3194</td><td>3.735294117647059</td></tr><tr><td>3748</td><td>3.71875</td></tr><tr><td>2206</td><td>3.7371794871794872</td></tr><tr><td>2337</td><td>4.181818181818182</td></tr><tr><td>2351</td><td>3.4545454545454546</td></tr><tr><td>2646</td><td>4.130434782608695</td></tr><tr><td>2705</td><td>4.090909090909091</td></tr><tr><td>2775</td><td>4.379310344827586</td></tr><tr><td>2841</td><td>4.170786516853933</td></tr><tr><td>2902</td><td>3.8636363636363638</td></tr><tr><td>3676</td><td>3.633663366336634</td></tr><tr><td>2098</td><td>3.2493297587131367</td></tr><tr><td>2118</td><td>4.505747126436781</td></tr><tr><td>2426</td><td>3.888888888888889</td></tr><tr><td>2437</td><td>3.5952380952380953</td></tr><tr><td>2554</td><td>4.023809523809524</td></tr><tr><td>2571</td><td>4.073529411764706</td></tr><tr><td>2603</td><td>3.883720930232558</td></tr><tr><td>2831</td><td>4.222222222222222</td></tr><tr><td>3224</td><td>3.7928251121076233</td></tr><tr><td>3285</td><td>3.419457735247209</td></tr><tr><td>3340</td><td>3.957983193277311</td></tr><tr><td>3892</td><td>3.3962264150943398</td></tr><tr><td>1978</td><td>3.4675324675324677</td></tr><tr><td>2251</td><td>3.6610169491525424</td></tr><tr><td>2258</td><td>3.446927374301676</td></tr><tr><td>2552</td><td>3.625</td></tr><tr><td>3114</td><td>3.342857142857143</td></tr><tr><td>3125</td><td>3.7288135593220337</td></tr><tr><td>3243</td><td>3.816593886462882</td></tr><tr><td>3309</td><td>3.6457564575645756</td></tr><tr><td>3523</td><td>3.8205128205128207</td></tr><tr><td>3876</td><td>3.5681818181818183</td></tr><tr><td>3905</td><td>3.9135802469135803</td></tr><tr><td>1974</td><td>3.7644787644787643</td></tr><tr><td>2099</td><td>3.5277777777777777</td></tr><tr><td>2322</td><td>3.696969696969697</td></tr><tr><td>2448</td><td>3.8767123287671232</td></tr><tr><td>3027</td><td>4.217391304347826</td></tr><tr><td>3134</td><td>3.623762376237624</td></tr><tr><td>3221</td><td>4.2926829268292686</td></tr><tr><td>3338</td><td>3.975</td></tr><tr><td>3444</td><td>3.1</td></tr><tr><td>2077</td><td>3.2309941520467835</td></tr><tr><td>2300</td><td>3.8846153846153846</td></tr><tr><td>2438</td><td>3.575</td></tr><tr><td>2444</td><td>3.342857142857143</td></tr><tr><td>2766</td><td>4.137254901960785</td></tr><tr><td>2798</td><td>4.064935064935065</td></tr><tr><td>2826</td><td>3.609848484848485</td></tr><tr><td>3113</td><td>3.68</td></tr><tr><td>3282</td><td>4.5</td></tr><tr><td>3674</td><td>3.7472527472527473</td></tr><tr><td>3789</td><td>4.231788079470198</td></tr><tr><td>1959</td><td>4.508196721311475</td></tr><tr><td>2002</td><td>4.1017964071856285</td></tr><tr><td>2140</td><td>3.7864077669902914</td></tr><tr><td>2250</td><td>3.074626865671642</td></tr><tr><td>2330</td><td>3.0083333333333333</td></tr><tr><td>2365</td><td>4.191489361702128</td></tr><tr><td>2371</td><td>3.6790123456790123</td></tr><tr><td>2612</td><td>3.0930232558139537</td></tr><tr><td>2734</td><td>3.87603305785124</td></tr><tr><td>2803</td><td>3.7927927927927927</td></tr><tr><td>2835</td><td>3.8684210526315788</td></tr><tr><td>3274</td><td>3.242424242424242</td></tr><tr><td>3321</td><td>4.0</td></tr><tr><td>3595</td><td>4.0</td></tr><tr><td>2357</td><td>3.9310344827586206</td></tr><tr><td>2649</td><td>3.1488372093023256</td></tr><tr><td>2723</td><td>3.4285714285714284</td></tr><tr><td>2935</td><td>3.4166666666666665</td></tr><tr><td>3092</td><td>4.018867924528302</td></tr><tr><td>3213</td><td>3.6861313868613137</td></tr><tr><td>3549</td><td>3.945945945945946</td></tr><tr><td>2009</td><td>4.037037037037037</td></tr><tr><td>2018</td><td>3.941834451901566</td></tr><tr><td>2157</td><td>3.4864864864864864</td></tr><tr><td>2268</td><td>4.260869565217392</td></tr><tr><td>2359</td><td>3.6271186440677967</td></tr><tr><td>2360</td><td>3.5945945945945947</td></tr><tr><td>2555</td><td>3.6012658227848102</td></tr><tr><td>2597</td><td>3.876923076923077</td></tr><tr><td>2892</td><td>3.6881720430107525</td></tr><tr><td>3002</td><td>4.217687074829932</td></tr><tr><td>3052</td><td>3.2222222222222223</td></tr><tr><td>3333</td><td>3.53125</td></tr><tr><td>3339</td><td>4.0120481927710845</td></tr><tr><td>3534</td><td>4.072727272727272</td></tr><tr><td>3790</td><td>4.264</td></tr><tr><td>2308</td><td>4.253968253968254</td></tr><tr><td>2929</td><td>3.925414364640884</td></tr><tr><td>3112</td><td>3.3896713615023475</td></tr><tr><td>3139</td><td>4.11864406779661</td></tr><tr><td>3482</td><td>3.8028169014084505</td></tr><tr><td>3693</td><td>3.453020134228188</td></tr><tr><td>3737</td><td>3.9</td></tr><tr><td>3919</td><td>4.072463768115942</td></tr><tr><td>2334</td><td>3.7327327327327327</td></tr><tr><td>2751</td><td>3.4269662921348316</td></tr><tr><td>2873</td><td>3.5665236051502145</td></tr><tr><td>2957</td><td>4.453125</td></tr><tr><td>2965</td><td>3.5925925925925926</td></tr><tr><td>3712</td><td>3.5785714285714287</td></tr><tr><td>3760</td><td>3.7753164556962027</td></tr><tr><td>1995</td><td>3.895348837209302</td></tr><tr><td>2833</td><td>3.30188679245283</td></tr><tr><td>3451</td><td>3.870967741935484</td></tr><tr><td>3539</td><td>4.038033395176252</td></tr><tr><td>3609</td><td>3.1586206896551725</td></tr><tr><td>3640</td><td>3.9452054794520546</td></tr><tr><td>3913</td><td>3.658682634730539</td></tr><tr><td>2325</td><td>3.357142857142857</td></tr><tr><td>2441</td><td>4.074074074074074</td></tr><tr><td>2631</td><td>4.269662921348314</td></tr><tr><td>2981</td><td>4.266666666666667</td></tr><tr><td>3228</td><td>3.83974358974359</td></tr><tr><td>3351</td><td>4.0</td></tr><tr><td>3437</td><td>4.5</td></tr><tr><td>3511</td><td>3.878640776699029</td></tr><tr><td>3774</td><td>4.0</td></tr><tr><td>3939</td><td>3.7083333333333335</td></tr><tr><td>1964</td><td>3.6363636363636362</td></tr><tr><td>2481</td><td>3.909090909090909</td></tr><tr><td>2616</td><td>3.58</td></tr><tr><td>2794</td><td>3.832167832167832</td></tr><tr><td>2802</td><td>3.6</td></tr><tr><td>3048</td><td>3.914285714285714</td></tr><tr><td>3329</td><td>3.5072463768115942</td></tr><tr><td>3536</td><td>3.7636363636363637</td></tr><tr><td>2221</td><td>3.5987654320987654</td></tr><tr><td>2340</td><td>4.360902255639098</td></tr><tr><td>2668</td><td>3.4174311926605503</td></tr><tr><td>2875</td><td>4.314285714285714</td></tr><tr><td>2900</td><td>4.033557046979865</td></tr><tr><td>2906</td><td>3.418181818181818</td></tr><tr><td>3021</td><td>3.25</td></tr><tr><td>3208</td><td>3.3229166666666665</td></tr><tr><td>3305</td><td>4.278846153846154</td></tr><tr><td>3433</td><td>3.022727272727273</td></tr><tr><td>3625</td><td>3.282178217821782</td></tr><tr><td>3864</td><td>4.51980198019802</td></tr><tr><td>2537</td><td>3.027075812274368</td></tr><tr><td>2690</td><td>4.217391304347826</td></tr><tr><td>2860</td><td>3.9192913385826773</td></tr><tr><td>2974</td><td>4.290322580645161</td></tr><tr><td>3042</td><td>3.8219178082191783</td></tr><tr><td>3377</td><td>3.982142857142857</td></tr><tr><td>3923</td><td>3.7766990291262137</td></tr><tr><td>2187</td><td>3.72992700729927</td></tr><tr><td>2342</td><td>3.8181818181818183</td></tr><tr><td>2637</td><td>3.4107142857142856</td></tr><tr><td>2710</td><td>3.2</td></tr><tr><td>2712</td><td>3.9411764705882355</td></tr><tr><td>3038</td><td>4.0423728813559325</td></tr><tr><td>3436</td><td>3.799019607843137</td></tr><tr><td>3721</td><td>3.705426356589147</td></tr><tr><td>3722</td><td>3.967741935483871</td></tr><tr><td>3930</td><td>4.262886597938144</td></tr><tr><td>2205</td><td>3.076620825147348</td></tr><tr><td>2274</td><td>3.775</td></tr><tr><td>2376</td><td>3.3684210526315788</td></tr><tr><td>2480</td><td>3.8666666666666667</td></tr><tr><td>2673</td><td>3.75</td></tr><tr><td>3197</td><td>3.323529411764706</td></tr><tr><td>3233</td><td>4.086956521739131</td></tr><tr><td>3355</td><td>3.9393939393939394</td></tr><tr><td>3369</td><td>3.90625</td></tr><tr><td>3590</td><td>4.1645021645021645</td></tr><tr><td>2092</td><td>3.5665294924554183</td></tr><tr><td>2473</td><td>3.8421052631578947</td></tr><tr><td>2694</td><td>4.5</td></tr><tr><td>2914</td><td>4.458333333333333</td></tr><tr><td>3115</td><td>3.4166666666666665</td></tr><tr><td>3518</td><td>3.7908366533864544</td></tr><tr><td>3868</td><td>3.4363636363636365</td></tr><tr><td>3912</td><td>4.475247524752476</td></tr><tr><td>2006</td><td>3.8048780487804876</td></tr><tr><td>2933</td><td>3.782258064516129</td></tr><tr><td>2971</td><td>3.8333333333333335</td></tr><tr><td>3000</td><td>3.2641509433962264</td></tr><tr><td>3186</td><td>3.7837837837837838</td></tr><tr><td>3566</td><td>3.838709677419355</td></tr><tr><td>3576</td><td>3.325323475046211</td></tr><tr><td>3882</td><td>3.7339901477832513</td></tr><tr><td>2179</td><td>3.267123287671233</td></tr><tr><td>2335</td><td>3.7083333333333335</td></tr><tr><td>3151</td><td>4.122093023255814</td></tr><tr><td>3170</td><td>3.904109589041096</td></tr><tr><td>2148</td><td>3.9215686274509802</td></tr><tr><td>2611</td><td>3.347319347319347</td></tr><tr><td>2719</td><td>4.145299145299146</td></tr><tr><td>3193</td><td>3.1473684210526316</td></tr><tr><td>3343</td><td>4.122448979591836</td></tr><tr><td>3699</td><td>4.60655737704918</td></tr><tr><td>2062</td><td>4.1477272727272725</td></tr><tr><td>2191</td><td>3.1842105263157894</td></tr><tr><td>2242</td><td>3.6536144578313254</td></tr><tr><td>2459</td><td>3.747967479674797</td></tr><tr><td>2512</td><td>3.870967741935484</td></tr><tr><td>2767</td><td>3.269230769230769</td></tr><tr><td>2839</td><td>3.3142857142857145</td></tr><tr><td>2997</td><td>4.0119760479041915</td></tr><tr><td>2075</td><td>3.3255813953488373</td></tr><tr><td>2127</td><td>3.2083333333333335</td></tr><tr><td>2267</td><td>3.547169811320755</td></tr><tr><td>2280</td><td>4.105263157894737</td></tr><tr><td>2324</td><td>4.033707865168539</td></tr><tr><td>2510</td><td>4.534883720930233</td></tr><tr><td>2538</td><td>3.88</td></tr><tr><td>2591</td><td>3.8048780487804876</td></tr><tr><td>2684</td><td>3.5251141552511416</td></tr><tr><td>2925</td><td>3.84</td></tr><tr><td>3020</td><td>4.017647058823529</td></tr><tr><td>3160</td><td>4.04</td></tr><tr><td>3182</td><td>3.0782747603833864</td></tr><tr><td>3421</td><td>4.333333333333333</td></tr><tr><td>3560</td><td>4.45985401459854</td></tr><tr><td>2086</td><td>3.7</td></tr><tr><td>2940</td><td>3.5483870967741935</td></tr><tr><td>3039</td><td>4.409836065573771</td></tr><tr><td>3669</td><td>3.194954128440367</td></tr><tr><td>3788</td><td>3.75</td></tr><tr><td>3871</td><td>3.2982456140350878</td></tr><tr><td>3903</td><td>3.3333333333333335</td></tr><tr><td>2169</td><td>3.810810810810811</td></tr><tr><td>2745</td><td>3.8527918781725887</td></tr><tr><td>3046</td><td>3.3376623376623376</td></tr><tr><td>3049</td><td>4.267605633802817</td></tr><tr><td>2516</td><td>3.772727272727273</td></tr><tr><td>2666</td><td>3.872340425531915</td></tr><tr><td>2667</td><td>3.40625</td></tr><tr><td>3010</td><td>3.4380952380952383</td></tr><tr><td>3348</td><td>4.0</td></tr><tr><td>3353</td><td>3.872340425531915</td></tr><tr><td>3503</td><td>4.093877551020408</td></tr><tr><td>3758</td><td>3.14</td></tr><tr><td>3926</td><td>3.9076923076923076</td></tr><tr><td>2453</td><td>3.534181240063593</td></tr><tr><td>2695</td><td>3.984126984126984</td></tr><tr><td>3061</td><td>4.125</td></tr><tr><td>3159</td><td>4.033613445378151</td></tr><tr><td>3183</td><td>3.3513513513513513</td></tr><tr><td>3301</td><td>3.696774193548387</td></tr><tr><td>2165</td><td>4.093333333333334</td></tr><tr><td>2575</td><td>3.7337278106508878</td></tr><tr><td>3415</td><td>4.0120481927710845</td></tr><tr><td>3460</td><td>4.214285714285714</td></tr><tr><td>3718</td><td>3.6282527881040894</td></tr><tr><td>1976</td><td>3.886178861788618</td></tr><tr><td>2041</td><td>3.5485611510791366</td></tr><tr><td>2145</td><td>4.063926940639269</td></tr><tr><td>2178</td><td>4.287356321839081</td></tr><tr><td>2599</td><td>3.6200873362445414</td></tr><tr><td>2657</td><td>4.045454545454546</td></tr><tr><td>2747</td><td>4.302158273381295</td></tr><tr><td>2936</td><td>4.290909090909091</td></tr><tr><td>2952</td><td>4.208333333333333</td></tr><tr><td>3202</td><td>3.4615384615384617</td></tr><tr><td>3366</td><td>3.740740740740741</td></tr><tr><td>3420</td><td>4.3545454545454545</td></tr><tr><td>3579</td><td>3.323420074349442</td></tr><tr><td>3757</td><td>4.263681592039801</td></tr><tr><td>2163</td><td>4.104166666666667</td></tr><tr><td>2311</td><td>4.0</td></tr><tr><td>2412</td><td>3.8333333333333335</td></tr><tr><td>2613</td><td>4.090909090909091</td></tr><tr><td>3295</td><td>3.824324324324324</td></tr><tr><td>3409</td><td>4.204545454545454</td></tr><tr><td>3487</td><td>3.5283018867924527</td></tr><tr><td>3563</td><td>3.843601895734597</td></tr><tr><td>3816</td><td>3.9371069182389937</td></tr><tr><td>3877</td><td>4.409090909090909</td></tr><tr><td>2217</td><td>3.2</td></tr><tr><td>2304</td><td>3.722794959908362</td></tr><tr><td>2687</td><td>4.260869565217392</td></tr><tr><td>2787</td><td>3.971014492753623</td></tr><tr><td>2809</td><td>4.339449541284404</td></tr><tr><td>3535</td><td>3.9655172413793105</td></tr><tr><td>3910</td><td>3.5900383141762453</td></tr><tr><td>2213</td><td>3.641025641025641</td></tr><tr><td>2283</td><td>3.697674418604651</td></tr><tr><td>2290</td><td>3.3393939393939394</td></tr><tr><td>2470</td><td>3.347826086956522</td></tr><tr><td>2625</td><td>3.387323943661972</td></tr><tr><td>3599</td><td>3.4545454545454546</td></tr><tr><td>3626</td><td>3.598830409356725</td></tr><tr><td>3850</td><td>3.8671875</td></tr><tr><td>2038</td><td>3.8204545454545453</td></tr><tr><td>2297</td><td>4.0476190476190474</td></tr><tr><td>2844</td><td>3.287037037037037</td></tr><tr><td>2976</td><td>3.6013986013986012</td></tr><tr><td>3330</td><td>3.8333333333333335</td></tr><tr><td>3469</td><td>3.8845315904139435</td></tr><tr><td>3540</td><td>4.110576923076923</td></tr><tr><td>3585</td><td>3.6946564885496183</td></tr><tr><td>3608</td><td>3.7549019607843137</td></tr><tr><td>3713</td><td>3.7450980392156863</td></tr><tr><td>2168</td><td>3.9424657534246577</td></tr><tr><td>2278</td><td>3.417910447761194</td></tr><tr><td>2449</td><td>3.8076923076923075</td></tr><tr><td>2498</td><td>3.168831168831169</td></tr><tr><td>2768</td><td>4.0375</td></tr><tr><td>2832</td><td>4.0</td></tr><tr><td>2956</td><td>3.4814814814814814</td></tr><tr><td>3278</td><td>3.869565217391304</td></tr><tr><td>1967</td><td>3.5416666666666665</td></tr><tr><td>2072</td><td>4.0</td></tr><tr><td>2321</td><td>3.8018018018018016</td></tr><tr><td>2355</td><td>3.5602836879432624</td></tr><tr><td>2465</td><td>4.306382978723405</td></tr><tr><td>2475</td><td>4.054054054054054</td></tr><tr><td>2661</td><td>3.6122448979591835</td></tr><tr><td>2958</td><td>3.0232558139534884</td></tr><tr><td>3138</td><td>3.3443396226415096</td></tr><tr><td>3174</td><td>3.6436781609195403</td></tr><tr><td>3459</td><td>3.793103448275862</td></tr><tr><td>3739</td><td>3.5454545454545454</td></tr><tr><td>2049</td><td>4.114285714285714</td></tr><tr><td>2051</td><td>3.432314410480349</td></tr><tr><td>2485</td><td>3.6707317073170733</td></tr><tr><td>2500</td><td>3.6357142857142857</td></tr><tr><td>2566</td><td>3.3636363636363638</td></tr><tr><td>2817</td><td>4.2073170731707314</td></tr><tr><td>2859</td><td>4.195488721804511</td></tr><tr><td>2864</td><td>3.3076923076923075</td></tr><tr><td>3246</td><td>3.310344827586207</td></tr><tr><td>3917</td><td>3.6530612244897958</td></tr><tr><td>2374</td><td>4.113207547169812</td></tr><tr><td>2502</td><td>3.9047619047619047</td></tr><tr><td>2635</td><td>3.440677966101695</td></tr><tr><td>2782</td><td>3.6666666666666665</td></tr><tr><td>3323</td><td>3.8412698412698414</td></tr><tr><td>3623</td><td>3.6818181818181817</td></tr><tr><td>3828</td><td>3.9285714285714284</td></tr><tr><td>3896</td><td>3.141891891891892</td></tr><tr><td>3921</td><td>3.9305555555555554</td></tr><tr><td>3951</td><td>3.5969387755102042</td></tr><tr><td>2060</td><td>3.1187739463601534</td></tr><tr><td>2373</td><td>4.095238095238095</td></tr><tr><td>3047</td><td>3.642857142857143</td></tr><tr><td>3157</td><td>3.559748427672956</td></tr><tr><td>3287</td><td>4.583333333333333</td></tr><tr><td>3780</td><td>4.24</td></tr><tr><td>2287</td><td>4.444444444444445</td></tr><tr><td>2293</td><td>4.321554770318021</td></tr><tr><td>2519</td><td>3.9361702127659575</td></tr><tr><td>2520</td><td>4.104166666666667</td></tr><tr><td>2810</td><td>3.4688279301745637</td></tr><tr><td>2899</td><td>3.9529411764705884</td></tr><tr><td>3237</td><td>3.8846153846153846</td></tr><tr><td>3945</td><td>3.4237288135593222</td></tr><tr><td>2198</td><td>3.6417910447761193</td></tr><tr><td>2269</td><td>3.36</td></tr><tr><td>2348</td><td>3.150485436893204</td></tr><tr><td>2491</td><td>3.0350877192982457</td></tr><tr><td>2735</td><td>3.4166666666666665</td></tr><tr><td>2927</td><td>3.7903225806451615</td></tr><tr><td>3667</td><td>3.9272727272727272</td></tr><tr><td>3915</td><td>3.652173913043478</td></tr><tr><td>2004</td><td>3.7247706422018347</td></tr><tr><td>2204</td><td>3.515151515151515</td></tr><tr><td>2237</td><td>3.916289592760181</td></tr><tr><td>2582</td><td>4.0</td></tr><tr><td>2869</td><td>3.727272727272727</td></tr><tr><td>2982</td><td>3.6363636363636362</td></tr><tr><td>3659</td><td>4.21875</td></tr><tr><td>3746</td><td>3.793103448275862</td></tr><tr><td>2105</td><td>3.2224371373307545</td></tr><tr><td>2688</td><td>3.466666666666667</td></tr><tr><td>2770</td><td>4.1063829787234045</td></tr><tr><td>3220</td><td>3.7777777777777777</td></tr><tr><td>3370</td><td>3.3636363636363638</td></tr><tr><td>3390</td><td>4.187192118226601</td></tr><tr><td>3453</td><td>3.37123745819398</td></tr><tr><td>1989</td><td>3.3333333333333335</td></tr><tr><td>2011</td><td>3.838056680161943</td></tr><tr><td>2080</td><td>4.28125</td></tr><tr><td>2107</td><td>4.068965517241379</td></tr><tr><td>2243</td><td>4.683333333333334</td></tr><tr><td>2493</td><td>3.5348837209302326</td></tr><tr><td>2540</td><td>3.968609865470852</td></tr><tr><td>2627</td><td>3.243298969072165</td></tr><tr><td>2825</td><td>3.9592760180995477</td></tr><tr><td>3032</td><td>4.278704612365064</td></tr><tr><td>3035</td><td>3.8125</td></tr><tr><td>3485</td><td>4.25</td></tr><tr><td>3568</td><td>3.9411764705882355</td></tr><tr><td>3940</td><td>3.680894308943089</td></tr><tr><td>2422</td><td>4.142857142857143</td></tr><tr><td>2579</td><td>4.161764705882353</td></tr><tr><td>2851</td><td>3.5757575757575757</td></tr><tr><td>3008</td><td>3.823529411764706</td></tr><tr><td>3177</td><td>4.180327868852459</td></tr><tr><td>2044</td><td>4.12</td></tr><tr><td>2116</td><td>3.5550978372811533</td></tr><tr><td>2467</td><td>4.409090909090909</td></tr><tr><td>2581</td><td>4.052109181141439</td></tr><tr><td>2728</td><td>3.3582089552238807</td></tr><tr><td>3022</td><td>3.006666666666667</td></tr><tr><td>3081</td><td>4.0390625</td></tr><tr><td>3164</td><td>3.5</td></tr><tr><td>3465</td><td>3.8135593220338984</td></tr><tr><td>3791</td><td>3.388888888888889</td></tr><tr><td>3881</td><td>3.5925925925925926</td></tr><tr><td>3894</td><td>3.761006289308176</td></tr><tr><td>1961</td><td>3.550561797752809</td></tr><tr><td>2160</td><td>3.95</td></tr><tr><td>2391</td><td>3.6901408450704225</td></tr><tr><td>3082</td><td>3.372972972972973</td></tr><tr><td>3294</td><td>4.11340206185567</td></tr><tr><td>3655</td><td>3.78125</td></tr><tr><td>3761</td><td>4.187134502923977</td></tr><tr><td>1966</td><td>4.363636363636363</td></tr><tr><td>2468</td><td>4.208</td></tr><tr><td>2994</td><td>3.2572944297082227</td></tr><tr><td>3056</td><td>3.653992395437262</td></tr><tr><td>3658</td><td>3.981203007518797</td></tr><tr><td>2022</td><td>3.829896907216495</td></tr><tr><td>2066</td><td>4.068965517241379</td></tr><tr><td>2257</td><td>3.5428571428571427</td></tr><tr><td>2428</td><td>3.674698795180723</td></tr><tr><td>3361</td><td>3.8447204968944098</td></tr><tr><td>3473</td><td>3.993710691823899</td></tr><tr><td>3769</td><td>4.290243902439024</td></tr><tr><td>3907</td><td>3.576923076923077</td></tr><tr><td>3924</td><td>3.935064935064935</td></tr><tr><td>2152</td><td>3.652173913043478</td></tr><tr><td>2328</td><td>3.292682926829268</td></tr><tr><td>2435</td><td>3.752136752136752</td></tr><tr><td>2507</td><td>3.9441210710128054</td></tr><tr><td>2629</td><td>4.011029411764706</td></tr><tr><td>3053</td><td>3.25</td></tr><tr><td>3079</td><td>3.883720930232558</td></tr><tr><td>3240</td><td>3.3701298701298703</td></tr><tr><td>3495</td><td>3.2857142857142856</td></tr><tr><td>3763</td><td>3.8857142857142857</td></tr><tr><td>3880</td><td>3.473684210526316</td></tr><tr><td>3899</td><td>3.576923076923077</td></tr><tr><td>2008</td><td>3.937853107344633</td></tr><tr><td>2484</td><td>3.3692870201096894</td></tr><tr><td>2584</td><td>3.7</td></tr><tr><td>2636</td><td>3.7936507936507935</td></tr><tr><td>2658</td><td>3.903225806451613</td></tr><tr><td>3335</td><td>4.074074074074074</td></tr><tr><td>3874</td><td>3.9217391304347826</td></tr><tr><td>3901</td><td>3.546666666666667</td></tr><tr><td>2233</td><td>3.3381642512077296</td></tr><tr><td>2246</td><td>3.6744186046511627</td></tr><tr><td>2344</td><td>3.4414893617021276</td></tr><tr><td>2369</td><td>4.448275862068965</td></tr><tr><td>2410</td><td>3.6228070175438596</td></tr><tr><td>2497</td><td>4.5041322314049586</td></tr><tr><td>2867</td><td>4.25</td></tr><tr><td>3185</td><td>3.988888888888889</td></tr><tr><td>3262</td><td>3.3626373626373627</td></tr><tr><td>3273</td><td>4.1</td></tr><tr><td>3438</td><td>3.55</td></tr><tr><td>3456</td><td>4.418181818181818</td></tr><tr><td>3498</td><td>3.7606837606837606</td></tr><tr><td>3538</td><td>3.773006134969325</td></tr><tr><td>2122</td><td>3.6201923076923075</td></tr><tr><td>3094</td><td>3.658536585365854</td></tr><tr><td>3497</td><td>4.184782608695652</td></tr><tr><td>3508</td><td>3.6944444444444446</td></tr><tr><td>3925</td><td>3.9722222222222223</td></tr><tr><td>3943</td><td>4.2153846153846155</td></tr><tr><td>2245</td><td>3.0980392156862746</td></tr><tr><td>2416</td><td>3.702127659574468</td></tr><tr><td>2482</td><td>3.5</td></tr><tr><td>3018</td><td>3.7</td></tr><tr><td>3083</td><td>3.8484848484848486</td></tr><tr><td>3103</td><td>4.128205128205129</td></tr><tr><td>3141</td><td>4.114754098360656</td></tr><tr><td>3144</td><td>3.6857142857142855</td></tr><tr><td>3480</td><td>3.7872340425531914</td></tr><tr><td>3734</td><td>3.08</td></tr><tr><td>3832</td><td>4.111111111111111</td></tr><tr><td>2143</td><td>3.125</td></tr><tr><td>2362</td><td>3.7346938775510203</td></tr><tr><td>2370</td><td>4.092105263157895</td></tr><tr><td>2593</td><td>4.536764705882353</td></tr><tr><td>2665</td><td>3.072463768115942</td></tr><tr><td>2672</td><td>3.6296296296296298</td></tr><tr><td>3004</td><td>3.85</td></tr><tr><td>3109</td><td>3.526315789473684</td></tr><tr><td>3322</td><td>4.270833333333333</td></tr><tr><td>3410</td><td>3.217510259917921</td></tr><tr><td>3861</td><td>3.975609756097561</td></tr><tr><td>2084</td><td>3.9483870967741934</td></tr><tr><td>2202</td><td>3.2816901408450705</td></tr><tr><td>2679</td><td>3.783625730994152</td></tr><tr><td>2910</td><td>3.5594405594405596</td></tr><tr><td>3122</td><td>3.111111111111111</td></tr><tr><td>3375</td><td>3.740740740740741</td></tr><tr><td>3431</td><td>3.806451612903226</td></tr><tr><td>3743</td><td>3.5625</td></tr><tr><td>3756</td><td>3.8743961352657004</td></tr><tr><td>3818</td><td>4.1063829787234045</td></tr><tr><td>2395</td><td>3.7232142857142856</td></tr><tr><td>2716</td><td>3.75</td></tr><tr><td>2726</td><td>4.595238095238095</td></tr><tr><td>3097</td><td>3.634920634920635</td></tr><tr><td>3304</td><td>4.1647058823529415</td></tr><tr><td>2215</td><td>3.272727272727273</td></tr><tr><td>2513</td><td>4.075757575757576</td></tr><tr><td>2806</td><td>3.3037974683544302</td></tr><tr><td>3204</td><td>4.395833333333333</td></tr><tr><td>3471</td><td>3.1650485436893203</td></tr><tr><td>3628</td><td>3.5161290322580645</td></tr><tr><td>3766</td><td>3.0483870967741935</td></tr><tr><td>3817</td><td>3.452830188679245</td></tr><tr><td>2223</td><td>3.0890151515151514</td></tr><tr><td>2506</td><td>3.354581673306773</td></tr><tr><td>2619</td><td>4.236559139784946</td></tr><tr><td>2674</td><td>4.142857142857143</td></tr><tr><td>2692</td><td>3.8208955223880596</td></tr><tr><td>2824</td><td>3.9274193548387095</td></tr><tr><td>2955</td><td>3.2408376963350785</td></tr><tr><td>2992</td><td>3.302325581395349</td></tr><tr><td>3147</td><td>3.4834123222748814</td></tr><tr><td>3238</td><td>4.46875</td></tr><tr><td>3520</td><td>3.709342560553633</td></tr><tr><td>3681</td><td>3.874251497005988</td></tr><tr><td>1999</td><td>3.8160919540229883</td></tr><tr><td>2256</td><td>4.0</td></tr><tr><td>2346</td><td>3.652173913043478</td></tr><tr><td>2890</td><td>3.5390070921985815</td></tr><tr><td>3417</td><td>3.869565217391304</td></tr><tr><td>3530</td><td>3.75</td></tr><tr><td>3555</td><td>3.108527131782946</td></tr><tr><td>1963</td><td>4.180722891566265</td></tr><tr><td>2190</td><td>3.8923076923076922</td></tr><tr><td>2261</td><td>3.396694214876033</td></tr><tr><td>2788</td><td>4.419354838709677</td></tr><tr><td>2998</td><td>3.5</td></tr><tr><td>3001</td><td>3.9935275080906147</td></tr><tr><td>3256</td><td>4.068965517241379</td></tr><tr><td>3397</td><td>4.068965517241379</td></tr><tr><td>3398</td><td>3.6</td></tr><tr><td>3870</td><td>3.8461538461538463</td></tr><tr><td>1994</td><td>4.103448275862069</td></tr><tr><td>2025</td><td>3.680672268907563</td></tr><tr><td>2134</td><td>3.593220338983051</td></tr><tr><td>2151</td><td>3.1842105263157894</td></tr><tr><td>2177</td><td>3.6206896551724137</td></tr><tr><td>2181</td><td>3.33224043715847</td></tr><tr><td>2400</td><td>3.339622641509434</td></tr><tr><td>2460</td><td>4.117647058823529</td></tr><tr><td>2488</td><td>4.2</td></tr><tr><td>2533</td><td>3.9236641221374047</td></tr><tr><td>2819</td><td>3.9</td></tr><tr><td>3334</td><td>3.89</td></tr><tr><td>3493</td><td>3.576687116564417</td></tr><tr><td>3519</td><td>3.045045045045045</td></tr><tr><td>3545</td><td>3.4285714285714284</td></tr><tr><td>3165</td><td>3.7</td></tr><tr><td>3222</td><td>3.7</td></tr><tr><td>3643</td><td>3.4909090909090907</td></tr><tr><td>3755</td><td>4.472222222222222</td></tr><tr><td>2356</td><td>3.625</td></tr><tr><td>2523</td><td>4.007692307692308</td></tr><tr><td>2922</td><td>4.535211267605634</td></tr><tr><td>3270</td><td>3.6639344262295084</td></tr><tr><td>3318</td><td>4.242857142857143</td></tr><tr><td>3332</td><td>3.127450980392157</td></tr><tr><td>3593</td><td>3.390625</td></tr><tr><td>3840</td><td>4.088235294117647</td></tr><tr><td>3846</td><td>3.9571428571428573</td></tr><tr><td>3887</td><td>3.3448275862068964</td></tr><tr><td>2176</td><td>4.217877094972067</td></tr><tr><td>2254</td><td>3.9642857142857144</td></tr><tr><td>2643</td><td>3.398678414096916</td></tr><tr><td>3050</td><td>3.65625</td></tr><tr><td>3142</td><td>4.074468085106383</td></tr><tr><td>3382</td><td>3.392857142857143</td></tr><tr><td>3701</td><td>3.75</td></tr><tr><td>3928</td><td>3.1785714285714284</td></tr><tr><td>1997</td><td>4.075</td></tr><tr><td>2236</td><td>3.694736842105263</td></tr><tr><td>2326</td><td>3.892857142857143</td></tr><tr><td>2650</td><td>3.7346938775510203</td></tr><tr><td>2884</td><td>4.2</td></tr><tr><td>3034</td><td>3.9285714285714284</td></tr><tr><td>3156</td><td>3.40625</td></tr><tr><td>3158</td><td>3.918918918918919</td></tr><tr><td>3184</td><td>3.8285714285714287</td></tr><tr><td>3190</td><td>3.9444444444444446</td></tr><tr><td>3258</td><td>3.85</td></tr><tr><td>3344</td><td>4.392857142857143</td></tr><tr><td>3500</td><td>3.7419354838709675</td></tr><tr><td>3617</td><td>3.617021276595745</td></tr><tr><td>3704</td><td>4.442922374429224</td></tr><tr><td>2073</td><td>3.696124031007752</td></tr><tr><td>2119</td><td>3.539325842696629</td></tr><tr><td>2279</td><td>3.638095238095238</td></tr><tr><td>2586</td><td>4.122448979591836</td></tr><tr><td>2623</td><td>3.759259259259259</td></tr><tr><td>2675</td><td>3.3181818181818183</td></tr><tr><td>2715</td><td>3.3333333333333335</td></tr><tr><td>2872</td><td>3.7423167848699763</td></tr><tr><td>3654</td><td>3.3085106382978724</td></tr><tr><td>3872</td><td>4.479166666666667</td></tr><tr><td>1973</td><td>3.8421052631578947</td></tr><tr><td>2511</td><td>4.206896551724138</td></tr><tr><td>2609</td><td>4.306930693069307</td></tr><tr><td>2653</td><td>3.6206896551724137</td></tr><tr><td>2670</td><td>3.5531914893617023</td></tr><tr><td>2834</td><td>4.181818181818182</td></tr><tr><td>3135</td><td>4.097560975609756</td></tr><tr><td>3531</td><td>4.233766233766234</td></tr><tr><td>3678</td><td>3.2014388489208634</td></tr><tr><td>2175</td><td>4.136094674556213</td></tr><tr><td>2259</td><td>4.471615720524017</td></tr><tr><td>2413</td><td>3.3333333333333335</td></tr><tr><td>2574</td><td>4.606060606060606</td></tr><tr><td>2608</td><td>4.008771929824562</td></tr><tr><td>2632</td><td>3.5853658536585367</td></tr><tr><td>2908</td><td>3.761904761904762</td></tr><tr><td>2918</td><td>3.6098191214470283</td></tr><tr><td>3065</td><td>3.7943262411347516</td></tr><tr><td>3099</td><td>3.2830188679245285</td></tr><tr><td>3192</td><td>4.3</td></tr><tr><td>3668</td><td>3.973684210526316</td></tr><tr><td>3873</td><td>3.7012987012987013</td></tr><tr><td>2007</td><td>3.9</td></tr><tr><td>2457</td><td>3.1703406813627253</td></tr><tr><td>2594</td><td>3.106382978723404</td></tr><tr><td>2641</td><td>4.09748427672956</td></tr><tr><td>2645</td><td>3.400709219858156</td></tr><tr><td>2743</td><td>3.569476082004556</td></tr><tr><td>2987</td><td>3.6481481481481484</td></tr><tr><td>3009</td><td>4.0</td></tr><tr><td>3085</td><td>4.170731707317073</td></tr><tr><td>3217</td><td>3.862857142857143</td></tr><tr><td>3736</td><td>3.568</td></tr><tr><td>3813</td><td>4.447761194029851</td></tr><tr><td>3900</td><td>3.5941320293398533</td></tr><tr><td>2240</td><td>4.282828282828283</td></tr><tr><td>2589</td><td>3.5235849056603774</td></tr><tr><td>2761</td><td>3.515527950310559</td></tr><tr><td>3232</td><td>3.0625</td></tr><tr><td>3253</td><td>3.856287425149701</td></tr><tr><td>3751</td><td>3.3931203931203933</td></tr><tr><td>3851</td><td>3.116279069767442</td></tr><tr><td>3918</td><td>3.3076923076923075</td></tr><tr><td>1996</td><td>3.994350282485876</td></tr><tr><td>2050</td><td>3.896153846153846</td></tr><tr><td>2212</td><td>3.16</td></tr><tr><td>2501</td><td>3.9058823529411764</td></tr><tr><td>2919</td><td>3.769230769230769</td></tr><tr><td>3349</td><td>3.6853146853146854</td></tr><tr><td>3472</td><td>4.04</td></tr><tr><td>3475</td><td>3.017684887459807</td></tr><tr><td>3542</td><td>3.1818181818181817</td></tr><tr><td>3616</td><td>3.857142857142857</td></tr><tr><td>3815</td><td>4.333333333333333</td></tr><tr><td>3859</td><td>3.414239482200647</td></tr><tr><td>1983</td><td>4.142857142857143</td></tr><tr><td>2289</td><td>4.054054054054054</td></tr><tr><td>2384</td><td>4.096774193548387</td></tr><tr><td>2405</td><td>3.864406779661017</td></tr><tr><td>2425</td><td>3.6206896551724137</td></tr><tr><td>2452</td><td>4.096153846153846</td></tr><tr><td>2577</td><td>3.1538461538461537</td></tr><tr><td>2614</td><td>4.133333333333334</td></tr><tr><td>2985</td><td>3.532608695652174</td></tr><tr><td>3359</td><td>3.4767441860465116</td></tr><tr><td>3612</td><td>3.6651162790697676</td></tr><tr><td>3657</td><td>4.157894736842105</td></tr><tr><td>3799</td><td>3.9921875</td></tr><tr><td>2897</td><td>3.623931623931624</td></tr><tr><td>2986</td><td>3.433333333333333</td></tr><tr><td>3257</td><td>4.2592592592592595</td></tr><tr><td>3564</td><td>3.25</td></tr><tr><td>3906</td><td>3.65625</td></tr><tr><td>2074</td><td>3.4722222222222223</td></tr><tr><td>2266</td><td>4.0495049504950495</td></tr><tr><td>2560</td><td>4.125</td></tr><tr><td>3557</td><td>3.864795918367347</td></tr><tr><td>3827</td><td>3.747311827956989</td></tr><tr><td>2553</td><td>4.130434782608695</td></tr><tr><td>2680</td><td>3.2850467289719627</td></tr><tr><td>2736</td><td>3.702970297029703</td></tr><tr><td>2861</td><td>3.369565217391304</td></tr><tr><td>2944</td><td>4.218390804597701</td></tr><tr><td>3017</td><td>3.2845303867403315</td></tr><tr><td>3169</td><td>3.7674418604651163</td></tr><tr><td>3306</td><td>4.666666666666667</td></tr><tr><td>3319</td><td>3.4390243902439024</td></tr><tr><td>3533</td><td>3.5543478260869565</td></tr><tr><td>3673</td><td>3.8962264150943398</td></tr><tr><td>3735</td><td>3.6411960132890364</td></tr><tr><td>2082</td><td>4.338028169014085</td></tr><tr><td>2225</td><td>3.338345864661654</td></tr><tr><td>1969</td><td>3.816247582205029</td></tr><tr><td>2023</td><td>3.923076923076923</td></tr><tr><td>2836</td><td>3.3636363636363638</td></tr><tr><td>3455</td><td>4.043478260869565</td></tr><tr><td>3857</td><td>3.925925925925926</td></tr><tr><td>2170</td><td>4.23015873015873</td></tr><tr><td>2386</td><td>3.6338028169014085</td></tr><tr><td>2433</td><td>3.6470588235294117</td></tr><tr><td>2446</td><td>3.869358669833729</td></tr><tr><td>2489</td><td>3.397984886649874</td></tr><tr><td>2606</td><td>4.22</td></tr><tr><td>2681</td><td>3.632286995515695</td></tr><tr><td>2804</td><td>3.888888888888889</td></tr><tr><td>2885</td><td>4.09375</td></tr><tr><td>3059</td><td>4.0</td></tr><tr><td>3188</td><td>4.238095238095238</td></tr><tr><td>3230</td><td>3.912751677852349</td></tr><tr><td>3367</td><td>4.261971830985916</td></tr><tr><td>3381</td><td>3.4827586206896552</td></tr><tr><td>3394</td><td>3.892638036809816</td></tr><tr><td>3574</td><td>3.636871508379888</td></tr><tr><td>3717</td><td>3.769230769230769</td></tr><tr><td>2083</td><td>4.35</td></tr><tr><td>3269</td><td>3.855421686746988</td></tr><tr><td>3835</td><td>4.472527472527473</td></tr><tr><td>3862</td><td>3.878787878787879</td></tr><tr><td>1980</td><td>3.4825396825396826</td></tr><tr><td>2302</td><td>3.5979899497487438</td></tr><tr><td>2624</td><td>4.147058823529412</td></tr><tr><td>3062</td><td>3.296875</td></tr><tr><td>3362</td><td>3.5584415584415585</td></tr><tr><td>3792</td><td>3.5761266747868454</td></tr><tr><td>3820</td><td>4.4222222222222225</td></tr><tr><td>2133</td><td>3.25</td></tr><tr><td>2141</td><td>4.2</td></tr><tr><td>2450</td><td>3.3333333333333335</td></tr><tr><td>2541</td><td>3.31640625</td></tr><tr><td>2592</td><td>3.6334841628959276</td></tr><tr><td>2837</td><td>3.302127659574468</td></tr><tr><td>2932</td><td>3.9285714285714284</td></tr><tr><td>3229</td><td>3.4030612244897958</td></tr><tr><td>2070</td><td>4.413461538461538</td></tr><tr><td>2125</td><td>3.873362445414847</td></tr><tr><td>2186</td><td>3.441780821917808</td></tr><tr><td>2265</td><td>3.6422413793103448</td></tr><tr><td>2383</td><td>3.5285087719298245</td></tr><tr><td>2984</td><td>3.6666666666666665</td></tr><tr><td>3119</td><td>3.3777777777777778</td></tr><tr><td>3320</td><td>3.1270125223613596</td></tr><tr><td>3525</td><td>3.477777777777778</td></tr><tr><td>3795</td><td>4.137931034482759</td></tr><tr><td>3834</td><td>4.254448398576512</td></tr><tr><td>3856</td><td>3.9361702127659575</td></tr><tr><td>3897</td><td>4.095238095238095</td></tr><tr><td>2858</td><td>3.9452054794520546</td></tr><tr><td>3028</td><td>3.743362831858407</td></tr><tr><td>3101</td><td>4.148148148148148</td></tr><tr><td>3234</td><td>3.857142857142857</td></tr><tr><td>3392</td><td>3.8</td></tr><tr><td>3822</td><td>3.4239130434782608</td></tr><tr><td>2032</td><td>3.6825396825396823</td></tr><tr><td>2053</td><td>3.4</td></tr><tr><td>2244</td><td>3.400932400932401</td></tr><tr><td>2445</td><td>3.5368852459016393</td></tr><tr><td>2544</td><td>3.689986282578875</td></tr><tr><td>2876</td><td>3.731578947368421</td></tr><tr><td>2879</td><td>3.96</td></tr><tr><td>2968</td><td>3.788235294117647</td></tr><tr><td>3025</td><td>4.108108108108108</td></tr><tr><td>3225</td><td>3.6666666666666665</td></tr><tr><td>3435</td><td>3.8253968253968256</td></tr><tr><td>3697</td><td>4.029411764705882</td></tr><tr><td>3812</td><td>3.526315789473684</td></tr><tr><td>2358</td><td>3.857142857142857</td></tr><tr><td>2528</td><td>3.2419354838709675</td></tr><tr><td>2529</td><td>3.6933497536945814</td></tr><tr><td>3235</td><td>4.108108108108108</td></tr><tr><td>3289</td><td>3.84</td></tr><tr><td>3374</td><td>3.9326923076923075</td></tr><tr><td>3502</td><td>4.393939393939394</td></tr><tr><td>3505</td><td>3.62</td></tr><tr><td>2222</td><td>3.506849315068493</td></tr><tr><td>2617</td><td>3.5853658536585367</td></tr><tr><td>2664</td><td>3.449591280653951</td></tr><tr><td>2945</td><td>3.838235294117647</td></tr><tr><td>3016</td><td>3.8292682926829267</td></tr><tr><td>3127</td><td>4.121951219512195</td></tr><tr><td>3407</td><td>3.5</td></tr><tr><td>2238</td><td>3.75</td></tr><tr><td>2865</td><td>3.7282608695652173</td></tr><tr><td>3123</td><td>3.5612903225806454</td></tr><tr><td>3201</td><td>4.082959641255606</td></tr><tr><td>3426</td><td>3.975</td></tr><tr><td>3634</td><td>3.0869565217391304</td></tr><tr><td>3841</td><td>3.3445723684210527</td></tr><tr><td>2401</td><td>4.36</td></tr><tr><td>2418</td><td>3.087719298245614</td></tr><tr><td>2546</td><td>3.3220338983050848</td></tr><tr><td>2724</td><td>3.8097560975609754</td></tr><tr><td>3041</td><td>3.481132075471698</td></tr><tr><td>3071</td><td>3.076923076923077</td></tr><tr><td>3150</td><td>3.883116883116883</td></tr><tr><td>3231</td><td>4.124183006535947</td></tr><tr><td>3308</td><td>3.189265536723164</td></tr><tr><td>3364</td><td>3.625</td></tr><tr><td>1960</td><td>3.8651162790697673</td></tr><tr><td>2147</td><td>3.5833333333333335</td></tr><tr><td>2184</td><td>4.233333333333333</td></tr><tr><td>3486</td><td>4.082474226804123</td></tr><tr><td>3703</td><td>3.3</td></tr><tr><td>2101</td><td>3.3047619047619046</td></tr><tr><td>2172</td><td>3.059866962305987</td></tr><tr><td>2881</td><td>3.8160919540229883</td></tr><tr><td>2959</td><td>3.9726027397260273</td></tr><tr><td>3088</td><td>4.02</td></tr><tr><td>2071</td><td>3.407563025210084</td></tr><tr><td>2434</td><td>3.625</td></tr><tr><td>2526</td><td>3.88212927756654</td></tr><tr><td>2549</td><td>3.0869565217391304</td></tr><tr><td>2753</td><td>3.784158415841584</td></tr><tr><td>3064</td><td>4.204545454545454</td></tr><tr><td>3356</td><td>4.401673640167364</td></tr><tr><td>3400</td><td>4.059633027522936</td></tr><tr><td>3430</td><td>3.41871921182266</td></tr><tr><td>3783</td><td>3.875</td></tr><tr><td>3830</td><td>4.051470588235294</td></tr><tr><td>2260</td><td>3.64</td></tr><tr><td>2333</td><td>3.7096774193548385</td></tr><tr><td>2417</td><td>4.448275862068965</td></tr><tr><td>2419</td><td>3.327651515151515</td></tr><tr><td>2565</td><td>3.723333333333333</td></tr><tr><td>2663</td><td>3.6858974358974357</td></tr><tr><td>3011</td><td>4.315217391304348</td></tr><tr><td>3030</td><td>3.769230769230769</td></tr><tr><td>3066</td><td>3.933333333333333</td></tr><tr><td>3275</td><td>3.4761904761904763</td></tr><tr><td>3317</td><td>3.9727272727272727</td></tr><tr><td>3383</td><td>3.607843137254902</td></tr><tr><td>3671</td><td>4.201923076923077</td></tr><tr><td>3706</td><td>4.115384615384615</td></tr><tr><td>3759</td><td>4.009708737864078</td></tr><tr><td>3831</td><td>3.401639344262295</td></tr><tr><td>2327</td><td>3.3389830508474576</td></tr><tr><td>2887</td><td>3.52027027027027</td></tr><tr><td>3029</td><td>3.914586070959264</td></tr><tr><td>3146</td><td>3.7580645161290325</td></tr><tr><td>3206</td><td>3.6</td></tr><tr><td>3331</td><td>3.6142857142857143</td></tr><tr><td>3695</td><td>3.9900662251655628</td></tr><tr><td>2228</td><td>3.9508196721311477</td></tr><tr><td>2331</td><td>4.214285714285714</td></tr><tr><td>2697</td><td>4.411764705882353</td></tr><tr><td>2777</td><td>3.498285714285714</td></tr><tr><td>3219</td><td>3.7464788732394365</td></tr><tr><td>3341</td><td>3.9602649006622515</td></tr><tr><td>3467</td><td>4.084745762711864</td></tr><tr><td>3730</td><td>3.6206896551724137</td></tr><tr><td>2021</td><td>3.8523489932885906</td></tr><tr><td>2492</td><td>3.764044943820225</td></tr><tr><td>3132</td><td>3.4642857142857144</td></tr><tr><td>3189</td><td>3.182857142857143</td></tr><tr><td>3387</td><td>3.3795620437956204</td></tr><tr><td>3439</td><td>4.101123595505618</td></tr><tr><td>3442</td><td>3.435483870967742</td></tr><tr><td>3492</td><td>3.9206349206349205</td></tr><tr><td>3632</td><td>3.3793103448275863</td></tr><tr><td>3644</td><td>4.024390243902439</td></tr><tr><td>3694</td><td>3.9622641509433962</td></tr><tr><td>3768</td><td>3.359154929577465</td></tr><tr><td>3787</td><td>4.05</td></tr><tr><td>3878</td><td>3.950413223140496</td></tr><tr><td>3948</td><td>3.372549019607843</td></tr><tr><td>2285</td><td>3.6346153846153846</td></tr><tr><td>2345</td><td>3.739130434782609</td></tr><tr><td>2830</td><td>3.388235294117647</td></tr><tr><td>2995</td><td>3.8475073313782993</td></tr><tr><td>2556</td><td>3.4893617021276597</td></tr><tr><td>2754</td><td>3.79</td></tr><tr><td>2939</td><td>3.777027027027027</td></tr><tr><td>1986</td><td>4.590909090909091</td></tr><tr><td>2120</td><td>3.451219512195122</td></tr><tr><td>2514</td><td>4.419354838709677</td></tr><tr><td>2634</td><td>3.949640287769784</td></tr><tr><td>3124</td><td>3.423076923076923</td></tr><tr><td>3714</td><td>3.1</td></tr><tr><td>2220</td><td>4.0344827586206895</td></tr><tr><td>2894</td><td>3.8672566371681416</td></tr><tr><td>3086</td><td>4.221238938053097</td></tr><tr><td>3143</td><td>3.3537735849056602</td></tr><tr><td>3267</td><td>3.857142857142857</td></tr><tr><td>3313</td><td>3.613107822410148</td></tr><tr><td>3440</td><td>4.2592592592592595</td></tr><tr><td>3445</td><td>3.8819444444444446</td></tr><tr><td>3621</td><td>3.113456464379947</td></tr><tr><td>3732</td><td>3.3701923076923075</td></tr><tr><td>3885</td><td>3.6932203389830507</td></tr><tr><td>2024</td><td>3.375</td></tr><tr><td>2061</td><td>4.3</td></tr><tr><td>2219</td><td>3.676190476190476</td></tr><tr><td>2230</td><td>3.188841201716738</td></tr><tr><td>2388</td><td>4.045454545454546</td></tr><tr><td>2559</td><td>3.835897435897436</td></tr><tr><td>2622</td><td>3.918918918918919</td></tr><tr><td>2783</td><td>3.9074074074074074</td></tr><tr><td>2815</td><td>3.690909090909091</td></tr><tr><td>2938</td><td>3.8756218905472637</td></tr><tr><td>3100</td><td>4.2</td></tr><tr><td>3244</td><td>4.125</td></tr><tr><td>3286</td><td>4.285714285714286</td></tr><tr><td>3342</td><td>3.310344827586207</td></tr><tr><td>3423</td><td>3.943217665615142</td></tr><tr><td>3543</td><td>3.605769230769231</td></tr><tr><td>3651</td><td>3.952191235059761</td></tr><tr><td>3677</td><td>3.950354609929078</td></tr><tr><td>1985</td><td>3.575</td></tr><tr><td>2364</td><td>4.137931034482759</td></tr><tr><td>2487</td><td>3.7027027027027026</td></tr><tr><td>2924</td><td>3.9565217391304346</td></tr><tr><td>3629</td><td>4.161290322580645</td></tr><tr><td>3645</td><td>3.8550724637681157</td></tr><tr><td>3700</td><td>3.9696969696969697</td></tr><tr><td>3866</td><td>3.635294117647059</td></tr><tr><td>2440</td><td>3.4347826086956523</td></tr><tr><td>2652</td><td>4.048780487804878</td></tr><tr><td>2740</td><td>3.696551724137931</td></tr><tr><td>2996</td><td>3.146750524109015</td></tr><tr><td>3096</td><td>4.106598984771574</td></tr><tr><td>3116</td><td>3.635294117647059</td></tr><tr><td>3686</td><td>4.4</td></tr><tr><td>2064</td><td>4.0</td></tr><tr><td>2095</td><td>3.36</td></tr><tr><td>2264</td><td>3.63</td></tr><tr><td>2458</td><td>3.496969696969697</td></tr><tr><td>2471</td><td>3.1621621621621623</td></tr><tr><td>2474</td><td>4.25</td></tr><tr><td>2508</td><td>3.566666666666667</td></tr><tr><td>2868</td><td>3.612565445026178</td></tr><tr><td>2891</td><td>3.3620689655172415</td></tr><tr><td>3345</td><td>3.5460992907801416</td></tr><tr><td>3425</td><td>3.5386178861788617</td></tr><tr><td>3785</td><td>3.2</td></tr><tr><td>3803</td><td>3.6363636363636362</td></tr><tr><td>2197</td><td>4.107142857142857</td></tr><tr><td>2368</td><td>4.241379310344827</td></tr><tr><td>2567</td><td>3.4851190476190474</td></tr><tr><td>2909</td><td>3.8227344992050876</td></tr><tr><td>3254</td><td>3.5217391304347827</td></tr><tr><td>3556</td><td>3.8660714285714284</td></tr><tr><td>3596</td><td>4.6875</td></tr><tr><td>3675</td><td>3.487632508833922</td></tr><tr><td>2103</td><td>3.865168539325843</td></tr><tr><td>2270</td><td>3.4466019417475726</td></tr><tr><td>2476</td><td>4.163934426229508</td></tr><tr><td>2934</td><td>3.307073954983923</td></tr><tr><td>3023</td><td>3.5161290322580645</td></tr><tr><td>3037</td><td>4.21875</td></tr><tr><td>3075</td><td>3.6339622641509433</td></tr><tr><td>3091</td><td>3.75</td></tr><tr><td>3168</td><td>3.3333333333333335</td></tr><tr><td>3214</td><td>4.25</td></tr><tr><td>3602</td><td>3.686046511627907</td></tr><tr><td>2104</td><td>3.0943396226415096</td></tr><tr><td>2150</td><td>3.6176470588235294</td></tr><tr><td>2332</td><td>4.065217391304348</td></tr><tr><td>2615</td><td>3.4918032786885247</td></tr><tr><td>2721</td><td>3.823529411764706</td></tr><tr><td>2893</td><td>3.857142857142857</td></tr><tr><td>2941</td><td>3.4596100278551534</td></tr><tr><td>3450</td><td>3.6031746031746033</td></tr><tr><td>3647</td><td>3.787878787878788</td></tr><tr><td>3664</td><td>3.029850746268657</td></tr><tr><td>3950</td><td>3.2714285714285714</td></tr><tr><td>2235</td><td>3.908450704225352</td></tr><tr><td>2949</td><td>3.75</td></tr><tr><td>3263</td><td>3.9292035398230087</td></tr><tr><td>3293</td><td>3.2888888888888888</td></tr><tr><td>3458</td><td>4.0</td></tr><tr><td>3514</td><td>3.973684210526316</td></tr><tr><td>1979</td><td>3.1142857142857143</td></tr><tr><td>2030</td><td>3.984536082474227</td></tr><tr><td>2124</td><td>4.259554140127388</td></tr><tr><td>2291</td><td>4.0</td></tr><tr><td>2568</td><td>3.4242424242424243</td></tr><tr><td>2583</td><td>4.341389728096677</td></tr><tr><td>2733</td><td>4.434343434343434</td></tr><tr><td>2853</td><td>3.460674157303371</td></tr><tr><td>2920</td><td>3.4583333333333335</td></tr><tr><td>2978</td><td>3.786127167630058</td></tr><tr><td>3014</td><td>3.570588235294118</td></tr><tr><td>3941</td><td>3.02</td></tr><tr><td>2047</td><td>3.588235294117647</td></tr><tr><td>2229</td><td>3.4871794871794872</td></tr><tr><td>2409</td><td>3.8805970149253732</td></tr><tr><td>2490</td><td>3.5454545454545454</td></tr><tr><td>2595</td><td>3.352201257861635</td></tr><tr><td>3483</td><td>3.809379727685325</td></tr><tr><td>2015</td><td>3.1273532668881505</td></tr><tr><td>2068</td><td>3.952</td></tr><tr><td>2262</td><td>3.6842105263157894</td></tr><tr><td>2298</td><td>3.325</td></tr><tr><td>2607</td><td>4.17741935483871</td></tr><tr><td>2662</td><td>3.6904761904761907</td></tr><tr><td>2689</td><td>4.3861386138613865</td></tr><tr><td>2764</td><td>4.186440677966102</td></tr><tr><td>2923</td><td>3.9523809523809526</td></tr><tr><td>2960</td><td>4.032258064516129</td></tr><tr><td>3005</td><td>3.8018018018018016</td></tr><tr><td>3067</td><td>3.7530266343825667</td></tr><tr><td>3129</td><td>3.2703777335984094</td></tr><tr><td>3130</td><td>3.626865671641791</td></tr><tr><td>3303</td><td>4.4</td></tr><tr><td>3384</td><td>3.5714285714285716</td></tr><tr><td>3388</td><td>3.6666666666666665</td></tr><tr><td>3461</td><td>4.702702702702703</td></tr><tr><td>3462</td><td>3.295169946332737</td></tr><tr><td>3561</td><td>3.976833976833977</td></tr><tr><td>3708</td><td>3.857142857142857</td></tr><tr><td>2142</td><td>3.5324675324675323</td></tr><tr><td>2218</td><td>3.8823529411764706</td></tr><tr><td>2255</td><td>3.6685714285714286</td></tr><tr><td>2314</td><td>3.1142857142857143</td></tr><tr><td>2757</td><td>3.953488372093023</td></tr><tr><td>3077</td><td>3.8461538461538463</td></tr><tr><td>3108</td><td>3.68801652892562</td></tr><tr><td>3428</td><td>4.0</td></tr><tr><td>3432</td><td>3.2758620689655173</td></tr><tr><td>3481</td><td>3.9785714285714286</td></tr><tr><td>3516</td><td>3.305732484076433</td></tr><tr><td>3779</td><td>3.625</td></tr><tr><td>2313</td><td>4.4186046511627906</td></tr><tr><td>2379</td><td>4.1923076923076925</td></tr><tr><td>2569</td><td>3.4565217391304346</td></tr><tr><td>3111</td><td>3.2419354838709675</td></tr><tr><td>3810</td><td>4.402985074626866</td></tr><tr><td>3844</td><td>4.082089552238806</td></tr><tr><td>2387</td><td>3.8225806451612905</td></tr><tr><td>2397</td><td>4.0</td></tr><tr><td>2921</td><td>3.283464566929134</td></tr><tr><td>2928</td><td>3.842857142857143</td></tr><tr><td>2966</td><td>4.0625</td></tr><tr><td>3076</td><td>3.8181818181818183</td></tr><tr><td>3474</td><td>4.435</td></tr><tr><td>3683</td><td>3.095076400679117</td></tr><tr><td>3687</td><td>3.0785340314136125</td></tr><tr><td>3804</td><td>3.5614973262032086</td></tr><tr><td>1998</td><td>3.8707865168539324</td></tr><tr><td>2214</td><td>4.160493827160494</td></tr><tr><td>2320</td><td>3.28</td></tr><tr><td>2786</td><td>4.0134228187919465</td></tr><tr><td>3242</td><td>3.5904761904761906</td></tr><tr><td>3510</td><td>3.6865671641791047</td></tr><tr><td>2760</td><td>4.102941176470588</td></tr><tr><td>2781</td><td>4.257042253521127</td></tr><tr><td>2993</td><td>3.819277108433735</td></tr><tr><td>3205</td><td>3.413114754098361</td></tr><tr><td>3424</td><td>4.197183098591549</td></tr><tr><td>3679</td><td>3.5625</td></tr><tr><td>3805</td><td>3.7837837837837838</td></tr><tr><td>2135</td><td>3.730769230769231</td></tr><tr><td>2461</td><td>3.7403846153846154</td></tr><tr><td>2706</td><td>4.08</td></tr><tr><td>2878</td><td>3.614388489208633</td></tr><tr><td>3575</td><td>3.3157894736842106</td></tr><tr><td>3592</td><td>4.361344537815126</td></tr><tr><td>3638</td><td>3.456</td></tr><tr><td>3753</td><td>3.7755102040816326</td></tr><tr><td>3775</td><td>3.806451612903226</td></tr><tr><td>1993</td><td>3.75</td></tr><tr><td>2208</td><td>3.509433962264151</td></tr><tr><td>2828</td><td>4.017241379310345</td></tr><tr><td>3710</td><td>3.8260869565217392</td></tr><tr><td>3784</td><td>3.7804878048780486</td></tr><tr><td>3839</td><td>3.340909090909091</td></tr><tr><td>3888</td><td>3.7086092715231787</td></tr><tr><td>3932</td><td>3.9375</td></tr><tr><td>2602</td><td>3.3448275862068964</td></tr><tr><td>2790</td><td>4.245901639344262</td></tr><tr><td>3297</td><td>3.238095238095238</td></tr><tr><td>3363</td><td>3.5371900826446283</td></tr><tr><td>3418</td><td>3.7914691943127963</td></tr><tr><td>3515</td><td>3.86</td></tr><tr><td>3684</td><td>4.280575539568345</td></tr><tr><td>3916</td><td>3.890566037735849</td></tr><tr><td>2432</td><td>3.857142857142857</td></tr><tr><td>2462</td><td>3.5354330708661417</td></tr><tr><td>2750</td><td>4.295</td></tr><tr><td>2950</td><td>3.1492537313432836</td></tr><tr><td>2970</td><td>4.291666666666667</td></tr><tr><td>3055</td><td>3.5121951219512195</td></tr><tr><td>3271</td><td>3.8214285714285716</td></tr><tr><td>3302</td><td>3.4767441860465116</td></tr><tr><td>3554</td><td>3.696969696969697</td></tr><tr><td>2042</td><td>3.1358490566037736</td></tr><tr><td>2338</td><td>3.8502673796791442</td></tr><tr><td>2585</td><td>3.706422018348624</td></tr><tr><td>2722</td><td>3.4347826086956523</td></tr><tr><td>3385</td><td>3.3333333333333335</td></tr><tr><td>3588</td><td>4.066666666666666</td></tr><tr><td>2065</td><td>4.451612903225806</td></tr><tr><td>2154</td><td>3.977777777777778</td></tr><tr><td>2192</td><td>3.8264462809917354</td></tr><tr><td>2430</td><td>3.4047619047619047</td></tr><tr><td>2659</td><td>4.105590062111801</td></tr><tr><td>2727</td><td>3.352272727272727</td></tr><tr><td>3284</td><td>4.2926829268292686</td></tr><tr><td>3434</td><td>3.6264367816091956</td></tr><tr><td>3635</td><td>4.208588957055214</td></tr><tr><td>3776</td><td>3.9047619047619047</td></tr><tr><td>3890</td><td>4.197183098591549</td></tr><tr><td>2001</td><td>3.5918367346938775</td></tr><tr><td>2039</td><td>3.5785123966942147</td></tr><tr><td>2087</td><td>3.5660377358490565</td></tr><tr><td>2130</td><td>3.417910447761194</td></tr><tr><td>2316</td><td>3.9084967320261437</td></tr><tr><td>2394</td><td>3.971830985915493</td></tr><tr><td>3547</td><td>3.5359116022099446</td></tr><tr><td>3586</td><td>3.361963190184049</td></tr><tr><td>3613</td><td>3.857142857142857</td></tr><tr><td>3631</td><td>3.875</td></tr><tr><td>3854</td><td>4.048780487804878</td></tr><tr><td>2067</td><td>3.5728643216080402</td></tr><tr><td>2089</td><td>3.7473684210526317</td></tr><tr><td>2241</td><td>4.25</td></tr><tr><td>2248</td><td>3.7476635514018692</td></tr><tr><td>2292</td><td>3.1</td></tr><tr><td>2598</td><td>3.7037037037037037</td></tr><tr><td>2801</td><td>3.1782178217821784</td></tr><tr><td>3513</td><td>3.4083601286173635</td></tr><tr><td>3908</td><td>3.69375</td></tr><tr><td>2093</td><td>3.482142857142857</td></tr><tr><td>2286</td><td>3.6</td></tr><tr><td>2343</td><td>4.194444444444445</td></tr><tr><td>2404</td><td>3.9263157894736844</td></tr><tr><td>2551</td><td>3.3026315789473686</td></tr><tr><td>3292</td><td>4.021299254526092</td></tr><tr><td>3457</td><td>3.51875</td></tr><tr><td>3567</td><td>3.9565217391304346</td></tr><tr><td>3614</td><td>3.2802547770700636</td></tr><tr><td>2408</td><td>3.753623188405797</td></tr><tr><td>2785</td><td>3.147239263803681</td></tr><tr><td>3024</td><td>3.63302752293578</td></tr><tr><td>3413</td><td>4.110236220472441</td></tr><tr><td>3499</td><td>3.4897025171624714</td></tr><tr><td>3562</td><td>3.38506588579795</td></tr><tr><td>3754</td><td>3.6875</td></tr><tr><td>3853</td><td>4.248407643312102</td></tr><tr><td>2189</td><td>3.6</td></tr><tr><td>2232</td><td>4.050314465408805</td></tr><tr><td>2486</td><td>3.8051948051948052</td></tr><tr><td>2517</td><td>3.3</td></tr><tr><td>2558</td><td>3.5625</td></tr><tr><td>2963</td><td>3.9743589743589745</td></tr><tr><td>3749</td><td>3.6864406779661016</td></tr><tr><td>2158</td><td>3.9292035398230087</td></tr><tr><td>2166</td><td>3.6901408450704225</td></tr><tr><td>2307</td><td>4.386206896551724</td></tr><tr><td>2372</td><td>4.352112676056338</td></tr><tr><td>2469</td><td>3.706896551724138</td></tr><tr><td>2822</td><td>3.725806451612903</td></tr><tr><td>3102</td><td>3.4411764705882355</td></tr><tr><td>3104</td><td>3.896551724137931</td></tr><tr><td>3725</td><td>3.6923076923076925</td></tr><tr><td>3752</td><td>3.372972972972973</td></tr><tr><td>3886</td><td>3.67032967032967</td></tr><tr><td>2128</td><td>3.75</td></tr><tr><td>2137</td><td>4.130434782608695</td></tr><tr><td>2427</td><td>3.884297520661157</td></tr><tr><td>2857</td><td>3.159748427672956</td></tr><tr><td>2880</td><td>3.4395604395604398</td></tr><tr><td>3211</td><td>4.051546391752577</td></tr><tr><td>3218</td><td>3.467741935483871</td></tr><tr><td>3324</td><td>4.904761904761905</td></tr><tr><td>2195</td><td>3.4147286821705425</td></tr><tr><td>2207</td><td>4.238095238095238</td></tr><tr><td>2366</td><td>3.3902439024390243</td></tr><tr><td>2424</td><td>3.292517006802721</td></tr><tr><td>2656</td><td>4.090909090909091</td></tr><tr><td>3376</td><td>3.35</td></tr><tr><td>3427</td><td>3.763157894736842</td></tr><tr><td>3501</td><td>4.208121827411167</td></tr><tr><td>2196</td><td>3.9722222222222223</td></tr><tr><td>2411</td><td>3.496932515337423</td></tr><tr><td>2730</td><td>3.9808917197452227</td></tr><tr><td>3136</td><td>4.1</td></tr><tr><td>3203</td><td>4.049382716049383</td></tr><tr><td>3260</td><td>3.9078947368421053</td></tr><tr><td>3298</td><td>4.4375</td></tr><tr><td>3829</td><td>3.008515815085158</td></tr><tr><td>3938</td><td>4.170212765957447</td></tr><tr><td>2057</td><td>3.8615384615384616</td></tr><tr><td>2182</td><td>3.6666666666666665</td></tr><tr><td>2227</td><td>3.9791666666666665</td></tr><tr><td>2234</td><td>3.9047619047619047</td></tr><tr><td>2239</td><td>4.092436974789916</td></tr><tr><td>2503</td><td>3.02</td></tr><tr><td>2539</td><td>3.8048780487804876</td></tr><tr><td>3006</td><td>4.153846153846154</td></tr><tr><td>3216</td><td>3.324074074074074</td></tr><tr><td>3470</td><td>3.6785714285714284</td></tr><tr><td>3719</td><td>3.8055555555555554</td></tr><tr><td>3765</td><td>4.0</td></tr><tr><td>3842</td><td>3.687593423019432</td></tr><tr><td>2226</td><td>3.673076923076923</td></tr><tr><td>2301</td><td>3.8846153846153846</td></tr><tr><td>2378</td><td>3.0727969348659006</td></tr><tr><td>2399</td><td>3.772727272727273</td></tr><tr><td>2527</td><td>4.142857142857143</td></tr><tr><td>2548</td><td>3.9302325581395348</td></tr><tr><td>2990</td><td>3.9655172413793105</td></tr><tr><td>3571</td><td>3.3653846153846154</td></tr><tr><td>3587</td><td>4.348837209302325</td></tr><tr><td>2173</td><td>3.771043771043771</td></tr><tr><td>2542</td><td>3.88</td></tr><tr><td>2848</td><td>3.3363636363636364</td></tr><tr><td>2916</td><td>3.665236051502146</td></tr><tr><td>3045</td><td>4.277027027027027</td></tr><tr><td>3051</td><td>3.264705882352941</td></tr><tr><td>3073</td><td>4.543859649122807</td></tr><tr><td>3479</td><td>3.588888888888889</td></tr><tr><td>3604</td><td>4.592592592592593</td></tr><tr><td>3782</td><td>4.061538461538461</td></tr><tr><td>2159</td><td>4.470588235294118</td></tr><tr><td>2518</td><td>3.9761904761904763</td></tr><tr><td>2769</td><td>3.7534246575342465</td></tr><tr><td>2852</td><td>4.118518518518519</td></tr><tr><td>2907</td><td>3.293286219081272</td></tr><tr><td>3070</td><td>3.923076923076923</td></tr><tr><td>2045</td><td>4.04</td></tr><tr><td>2310</td><td>3.8613861386138613</td></tr><tr><td>2406</td><td>3.94</td></tr><tr><td>2707</td><td>3.5217391304347827</td></tr><tr><td>2849</td><td>4.509677419354839</td></tr><tr><td>2983</td><td>4.363636363636363</td></tr><tr><td>3173</td><td>4.168421052631579</td></tr><tr><td>3259</td><td>4.045569620253165</td></tr><tr><td>3357</td><td>4.072463768115942</td></tr><tr><td>3648</td><td>3.017543859649123</td></tr><tr><td>3767</td><td>3.1951219512195124</td></tr><tr><td>1990</td><td>3.857142857142857</td></tr><tr><td>2146</td><td>3.323529411764706</td></tr><tr><td>2414</td><td>4.1594827586206895</td></tr><tr><td>2429</td><td>3.936</td></tr><tr><td>3155</td><td>4.035294117647059</td></tr><tr><td>3163</td><td>3.9324009324009324</td></tr><tr><td>3166</td><td>3.925</td></tr><tr><td>3227</td><td>3.7280701754385963</td></tr><tr><td>3404</td><td>3.8076923076923075</td></tr><tr><td>3591</td><td>3.712871287128713</td></tr><tr><td>2114</td><td>3.6733333333333333</td></tr><tr><td>2472</td><td>3.6</td></tr><tr><td>2499</td><td>3.617021276595745</td></tr><tr><td>2515</td><td>4.137254901960785</td></tr><tr><td>2651</td><td>3.310344827586207</td></tr><tr><td>2969</td><td>3.7126436781609193</td></tr><tr><td>3416</td><td>3.578723404255319</td></tr><tr><td>3680</td><td>3.892857142857143</td></tr><tr><td>3845</td><td>4.121621621621622</td></tr><tr><td>2029</td><td>3.1629955947136565</td></tr><tr><td>2620</td><td>3.532051282051282</td></tr><tr><td>2698</td><td>4.0</td></tr><tr><td>3133</td><td>3.2857142857142856</td></tr><tr><td>3326</td><td>3.9473684210526314</td></tr><tr><td>3477</td><td>3.9565217391304346</td></tr><tr><td>3800</td><td>3.492957746478873</td></tr><tr><td>3937</td><td>4.273972602739726</td></tr><tr><td>2153</td><td>3.8526912181303117</td></tr><tr><td>2655</td><td>3.1315789473684212</td></tr><tr><td>2704</td><td>4.041666666666667</td></tr><tr><td>2905</td><td>3.6984126984126986</td></tr><tr><td>2911</td><td>3.634920634920635</td></tr><tr><td>2937</td><td>3.5288461538461537</td></tr><tr><td>2961</td><td>3.977272727272727</td></tr><tr><td>3040</td><td>3.5833333333333335</td></tr><tr><td>3371</td><td>3.43064182194617</td></tr><tr><td>3464</td><td>3.6172506738544477</td></tr><tr><td>3594</td><td>3.445859872611465</td></tr><tr><td>3611</td><td>4.029268292682927</td></tr><tr><td>3796</td><td>4.014851485148514</td></tr><tr><td>1991</td><td>4.291666666666667</td></tr><tr><td>2003</td><td>4.344262295081967</td></tr><tr><td>2171</td><td>4.445544554455446</td></tr><tr><td>2312</td><td>3.6285714285714286</td></tr><tr><td>2381</td><td>3.2</td></tr><tr><td>2420</td><td>4.23404255319149</td></tr><tr><td>2451</td><td>3.050314465408805</td></tr><tr><td>2535</td><td>3.984848484848485</td></tr><tr><td>2639</td><td>3.878787878787879</td></tr><tr><td>2874</td><td>3.883495145631068</td></tr><tr><td>2972</td><td>3.497041420118343</td></tr><tr><td>3396</td><td>3.8260869565217392</td></tr><tr><td>3448</td><td>3.6153846153846154</td></tr><tr><td>2081</td><td>3.122448979591837</td></tr><tr><td>2273</td><td>3.8450704225352115</td></tr><tr><td>2284</td><td>3.8846153846153846</td></tr><tr><td>2525</td><td>3.542372881355932</td></tr><tr><td>2534</td><td>3.473684210526316</td></tr><tr><td>2590</td><td>3.2016806722689077</td></tr><tr><td>2800</td><td>3.4615384615384617</td></tr><tr><td>3175</td><td>4.091954022988506</td></tr><tr><td>3522</td><td>4.032258064516129</td></tr><tr><td>3824</td><td>3.004911591355599</td></tr><tr><td>2027</td><td>4.019047619047619</td></tr><tr><td>2382</td><td>3.737704918032787</td></tr><tr><td>2509</td><td>3.341463414634146</td></tr><tr><td>2647</td><td>4.333333333333333</td></tr><tr><td>2746</td><td>3.8771929824561404</td></tr><tr><td>2780</td><td>3.675</td></tr><tr><td>2807</td><td>3.391044776119403</td></tr><tr><td>2901</td><td>4.289156626506024</td></tr><tr><td>2973</td><td>3.435483870967742</td></tr><tr><td>3601</td><td>4.1265822784810124</td></tr><tr><td>3688</td><td>4.457236842105263</td></tr><tr><td>3696</td><td>3.94</td></tr><tr><td>3798</td><td>3.6333333333333333</td></tr><tr><td>1975</td><td>3.836734693877551</td></tr><tr><td>2055</td><td>4.173913043478261</td></tr><tr><td>2536</td><td>3.1578947368421053</td></tr><tr><td>2732</td><td>4.111111111111111</td></tr><tr><td>3215</td><td>3.25</td></tr><tr><td>3403</td><td>4.1414634146341465</td></tr><tr><td>3685</td><td>4.068403908794788</td></tr><tr><td>3705</td><td>3.7045454545454546</td></tr><tr><td>3750</td><td>3.4358974358974357</td></tr><tr><td>1970</td><td>3.576923076923077</td></tr><tr><td>2271</td><td>4.112462006079028</td></tr><tr><td>2295</td><td>4.409090909090909</td></tr><tr><td>2347</td><td>3.9130434782608696</td></tr><tr><td>2456</td><td>3.1530054644808745</td></tr><tr><td>2678</td><td>3.9047619047619047</td></tr><tr><td>2886</td><td>3.9080459770114944</td></tr><tr><td>3198</td><td>4.104761904761904</td></tr><tr><td>3223</td><td>3.557377049180328</td></tr><tr><td>3380</td><td>3.752759381898455</td></tr><tr><td>2096</td><td>4.181818181818182</td></tr><tr><td>2112</td><td>3.48</td></tr><tr><td>2276</td><td>4.324074074074074</td></tr><tr><td>2361</td><td>3.6122448979591835</td></tr><tr><td>2483</td><td>3.9</td></tr><tr><td>2505</td><td>4.09375</td></tr><tr><td>2818</td><td>3.6109215017064846</td></tr><tr><td>2827</td><td>3.242424242424242</td></tr><tr><td>2838</td><td>4.512820512820513</td></tr><tr><td>3013</td><td>3.4539614561027836</td></tr><tr><td>2040</td><td>3.369565217391304</td></tr><tr><td>2054</td><td>3.408955223880597</td></tr><tr><td>2076</td><td>3.4819277108433737</td></tr><tr><td>2203</td><td>4.053803339517625</td></tr><tr><td>2296</td><td>3.3214285714285716</td></tr><tr><td>2524</td><td>3.423076923076923</td></tr><tr><td>2677</td><td>3.710526315789474</td></tr><tr><td>3199</td><td>3.47</td></tr><tr><td>3239</td><td>3.554054054054054</td></tr><tr><td>2059</td><td>3.549407114624506</td></tr><tr><td>2078</td><td>3.735294117647059</td></tr><tr><td>2398</td><td>4.077586206896552</td></tr><tr><td>3291</td><td>3.75</td></tr><tr><td>3443</td><td>3.92</td></tr><tr><td>2117</td><td>4.260869565217392</td></tr><tr><td>2193</td><td>4.0</td></tr><tr><td>2317</td><td>4.163934426229508</td></tr><tr><td>2543</td><td>4.458333333333333</td></tr><tr><td>2618</td><td>3.16</td></tr><tr><td>3277</td><td>4.053333333333334</td></tr><tr><td>3412</td><td>4.156996587030717</td></tr><tr><td>3419</td><td>4.033333333333333</td></tr><tr><td>3573</td><td>3.361111111111111</td></tr><tr><td>2367</td><td>3.792452830188679</td></tr><tr><td>2717</td><td>3.76</td></tr><tr><td>2854</td><td>3.1135265700483092</td></tr><tr><td>3033</td><td>3.601503759398496</td></tr><tr><td>3093</td><td>3.798882681564246</td></tr><tr><td>3120</td><td>3.6216216216216215</td></tr><tr><td>3552</td><td>3.2</td></tr><tr><td>3715</td><td>3.7531645569620253</td></tr><tr><td>3920</td><td>4.133333333333334</td></tr></tbody></table></div>"
      ]
     },
     "metadata": {
      "application/vnd.databricks.v1+output": {
       "addedWidgets": {},
       "aggData": [],
       "aggError": "",
       "aggOverflow": false,
       "aggSchema": [],
       "aggSeriesLimitReached": false,
       "aggType": "",
       "arguments": {},
       "columnCustomDisplayInfos": {},
       "data": [
        [
         "296",
         3.597938144329897
        ],
        [
         "467",
         3.2028985507246377
        ],
        [
         "675",
         3.3095238095238093
        ],
        [
         "691",
         4.174757281553398
        ],
        [
         "829",
         4.231884057971015
        ],
        [
         "1090",
         3.3698630136986303
        ],
        [
         "1436",
         3.9696969696969697
        ],
        [
         "1512",
         3.235294117647059
        ],
        [
         "1572",
         3.1777777777777776
        ],
        [
         "125",
         4.098591549295775
        ],
        [
         "451",
         4.511961722488039
        ],
        [
         "800",
         3.4849624060150375
        ],
        [
         "853",
         3.890909090909091
        ],
        [
         "944",
         3.8444444444444446
        ],
        [
         "1669",
         3.7333333333333334
        ],
        [
         "666",
         3.8932038834951457
        ],
        [
         "870",
         3.611111111111111
        ],
        [
         "919",
         3.9355828220858897
        ],
        [
         "926",
         4.247619047619048
        ],
        [
         "1241",
         4.247422680412371
        ],
        [
         "1265",
         3.183673469387755
        ],
        [
         "1280",
         3.72
        ],
        [
         "1361",
         4.135338345864661
        ],
        [
         "1746",
         4.404907975460123
        ],
        [
         "1808",
         3.4193548387096775
        ],
        [
         "1870",
         3.7974683544303796
        ],
        [
         "7",
         4.32258064516129
        ],
        [
         "51",
         3.825
        ],
        [
         "124",
         4.173913043478261
        ],
        [
         "447",
         4.837837837837838
        ],
        [
         "591",
         3.231404958677686
        ],
        [
         "1528",
         4.086956521739131
        ],
        [
         "1903",
         4.020304568527918
        ],
        [
         "1953",
         3.7941176470588234
        ],
        [
         "307",
         4.593406593406593
        ],
        [
         "475",
         3.8299595141700404
        ],
        [
         "574",
         4.095238095238095
        ],
        [
         "613",
         3.5849056603773586
        ],
        [
         "718",
         3.775147928994083
        ],
        [
         "1500",
         3.9043478260869566
        ],
        [
         "1695",
         3.6530612244897958
        ],
        [
         "1773",
         3.7704918032786887
        ],
        [
         "1897",
         3.710806697108067
        ],
        [
         "1957",
         3.94
        ],
        [
         "169",
         3.5670289855072466
        ],
        [
         "205",
         4.0588235294117645
        ],
        [
         "334",
         3.9508196721311477
        ],
        [
         "544",
         3.7777777777777777
        ],
        [
         "577",
         4.487341772151899
        ],
        [
         "581",
         3.6666666666666665
        ],
        [
         "740",
         4.243243243243243
        ],
        [
         "747",
         3.59375
        ],
        [
         "1043",
         3.9166666666666665
        ],
        [
         "1425",
         3.647814910025707
        ],
        [
         "1706",
         3.8
        ],
        [
         "1880",
         3.344502617801047
        ],
        [
         "272",
         3.6535269709543567
        ],
        [
         "442",
         3.8486997635933804
        ],
        [
         "462",
         3.536723163841808
        ],
        [
         "470",
         3.8088235294117645
        ],
        [
         "647",
         3.103896103896104
        ],
        [
         "711",
         4.0
        ],
        [
         "743",
         3.38255033557047
        ],
        [
         "975",
         3.25990099009901
        ],
        [
         "1104",
         3.8333333333333335
        ],
        [
         "1349",
         4.651162790697675
        ],
        [
         "1485",
         3.9130434782608696
        ],
        [
         "1956",
         3.123076923076923
        ],
        [
         "15",
         3.3233830845771144
        ],
        [
         "54",
         4.025
        ],
        [
         "232",
         3.566666666666667
        ],
        [
         "234",
         4.310344827586207
        ],
        [
         "282",
         3.5172413793103448
        ],
        [
         "383",
         3.5714285714285716
        ],
        [
         "448",
         3.4347826086956523
        ],
        [
         "700",
         3.875
        ],
        [
         "1008",
         3.84
        ],
        [
         "1305",
         4.333333333333333
        ],
        [
         "1435",
         3.4571428571428573
        ],
        [
         "1487",
         3.2195121951219514
        ],
        [
         "1686",
         3.5357142857142856
        ],
        [
         "1765",
         3.981132075471698
        ],
        [
         "635",
         4.3107344632768365
        ],
        [
         "851",
         3.5921052631578947
        ],
        [
         "862",
         3.6724137931034484
        ],
        [
         "886",
         3.6285714285714286
        ],
        [
         "940",
         3.1923076923076925
        ],
        [
         "1158",
         3.640625
        ],
        [
         "1304",
         3.9642857142857144
        ],
        [
         "1412",
         3.3333333333333335
        ],
        [
         "1791",
         3.586206896551724
        ],
        [
         "1936",
         3.7142857142857144
        ],
        [
         "132",
         3.966292134831461
        ],
        [
         "154",
         3.090909090909091
        ],
        [
         "317",
         3.8095238095238093
        ],
        [
         "714",
         4.1635071090047395
        ],
        [
         "727",
         3.6987951807228914
        ],
        [
         "987",
         4.017045454545454
        ],
        [
         "200",
         3.423076923076923
        ],
        [
         "388",
         3.8813559322033897
        ],
        [
         "428",
         3.9
        ],
        [
         "495",
         3.7954545454545454
        ],
        [
         "521",
         4.2926829268292686
        ],
        [
         "625",
         4.0
        ],
        [
         "1236",
         3.375
        ],
        [
         "1290",
         4.181818181818182
        ],
        [
         "1492",
         3.2149532710280373
        ],
        [
         "1601",
         3.9073170731707316
        ],
        [
         "11",
         3.2773722627737225
        ],
        [
         "101",
         4.679245283018868
        ],
        [
         "672",
         3.872340425531915
        ],
        [
         "854",
         3.027667984189723
        ],
        [
         "938",
         3.870967741935484
        ],
        [
         "986",
         3.772727272727273
        ],
        [
         "1041",
         4.317647058823529
        ],
        [
         "1093",
         3.3857142857142857
        ],
        [
         "1192",
         4.379310344827586
        ],
        [
         "1235",
         3.7
        ],
        [
         "1259",
         3.9833333333333334
        ],
        [
         "1518",
         4.48
        ],
        [
         "1539",
         4.37037037037037
        ],
        [
         "1624",
         3.005714285714286
        ],
        [
         "1793",
         3.4006968641114983
        ],
        [
         "1958",
         3.2746478873239435
        ],
        [
         "415",
         3.874538745387454
        ],
        [
         "422",
         3.297872340425532
        ],
        [
         "433",
         3.391304347826087
        ],
        [
         "543",
         4.078986587183309
        ],
        [
         "595",
         3.95
        ],
        [
         "685",
         3.2357142857142858
        ],
        [
         "979",
         4.04054054054054
        ],
        [
         "1112",
         3.4418262150220915
        ],
        [
         "1318",
         3.0476190476190474
        ],
        [
         "1856",
         4.6940298507462686
        ],
        [
         "138",
         4.492307692307692
        ],
        [
         "323",
         3.788135593220339
        ],
        [
         "351",
         3.7572815533980584
        ],
        [
         "361",
         3.5384615384615383
        ],
        [
         "387",
         3.676470588235294
        ],
        [
         "823",
         3.8677685950413223
        ],
        [
         "961",
         3.74
        ],
        [
         "1111",
         4.03030303030303
        ],
        [
         "1497",
         3.864321608040201
        ],
        [
         "1620",
         3.9444444444444446
        ],
        [
         "1910",
         3.641509433962264
        ],
        [
         "29",
         3.5833333333333335
        ],
        [
         "69",
         4.153846153846154
        ],
        [
         "309",
         4.040650406504065
        ],
        [
         "419",
         3.962962962962963
        ],
        [
         "703",
         4.1
        ],
        [
         "724",
         3.643312101910828
        ],
        [
         "788",
         3.5255102040816326
        ],
        [
         "1099",
         3.5106382978723403
        ],
        [
         "1205",
         3.9411764705882355
        ],
        [
         "1483",
         3.0968992248062017
        ],
        [
         "1623",
         4.214285714285714
        ],
        [
         "1735",
         3.2337662337662336
        ],
        [
         "1943",
         3.6205882352941177
        ],
        [
         "42",
         3.74025974025974
        ],
        [
         "112",
         4.183333333333334
        ],
        [
         "424",
         3.735725938009788
        ],
        [
         "534",
         3.7475728155339807
        ],
        [
         "586",
         4.485714285714286
        ],
        [
         "863",
         4.225806451612903
        ],
        [
         "991",
         3.75
        ],
        [
         "1728",
         4.212765957446808
        ],
        [
         "73",
         3.364705882352941
        ],
        [
         "434",
         4.023255813953488
        ],
        [
         "468",
         3.730769230769231
        ],
        [
         "626",
         4.055555555555555
        ],
        [
         "686",
         3.7777777777777777
        ],
        [
         "890",
         3.969298245614035
        ],
        [
         "974",
         3.7333333333333334
        ],
        [
         "1135",
         3.813953488372093
        ],
        [
         "1508",
         3.310344827586207
        ],
        [
         "1526",
         4.15625
        ],
        [
         "1915",
         3.6052631578947367
        ],
        [
         "64",
         4.148148148148148
        ],
        [
         "308",
         3.385996409335727
        ],
        [
         "348",
         3.78
        ],
        [
         "356",
         4.380952380952381
        ],
        [
         "459",
         3.6875
        ],
        [
         "512",
         3.8378378378378377
        ],
        [
         "710",
         3.4271186440677965
        ],
        [
         "1021",
         4.694656488549619
        ],
        [
         "1429",
         3.2916666666666665
        ],
        [
         "1584",
         3.3253796095444685
        ],
        [
         "1673",
         4.37037037037037
        ],
        [
         "1692",
         4.478260869565218
        ],
        [
         "3",
         3.9019607843137254
        ],
        [
         "446",
         4.8431372549019605
        ],
        [
         "478",
         3.869565217391304
        ],
        [
         "541",
         3.1894736842105265
        ],
        [
         "970",
         3.1493624772313296
        ],
        [
         "1032",
         3.941747572815534
        ],
        [
         "1056",
         3.473684210526316
        ],
        [
         "1729",
         3.086206896551724
        ],
        [
         "1805",
         4.086206896551724
        ],
        [
         "1931",
         3.616279069767442
        ],
        [
         "30",
         3.488372093023256
        ],
        [
         "113",
         3.5
        ],
        [
         "406",
         3.306122448979592
        ],
        [
         "584",
         4.2894736842105265
        ],
        [
         "1012",
         3.3636363636363638
        ],
        [
         "1215",
         4.034782608695652
        ],
        [
         "1298",
         3.8273615635179152
        ],
        [
         "1365",
         3.626865671641791
        ],
        [
         "1556",
         3.208695652173913
        ],
        [
         "1569",
         4.588888888888889
        ],
        [
         "34",
         3.8658536585365852
        ],
        [
         "443",
         3.823529411764706
        ],
        [
         "786",
         4.063492063492063
        ],
        [
         "880",
         3.4956521739130433
        ],
        [
         "910",
         3.6012269938650308
        ],
        [
         "924",
         3.9899497487437188
        ],
        [
         "1136",
         3.267857142857143
        ],
        [
         "1758",
         3.9465116279069767
        ],
        [
         "133",
         3.7705882352941176
        ],
        [
         "874",
         3.7857142857142856
        ],
        [
         "878",
         4.142857142857143
        ],
        [
         "1097",
         3.4702380952380953
        ],
        [
         "287",
         3.70873786407767
        ],
        [
         "365",
         3.3404255319148937
        ],
        [
         "389",
         3.5616438356164384
        ],
        [
         "425",
         3.6613756613756614
        ],
        [
         "524",
         3.608267716535433
        ],
        [
         "670",
         3.2444444444444445
        ],
        [
         "737",
         3.5668202764976957
        ],
        [
         "895",
         3.953125
        ],
        [
         "966",
         3.5636363636363635
        ],
        [
         "995",
         3.8979591836734695
        ],
        [
         "1124",
         3.7712082262210798
        ],
        [
         "1300",
         3.4819277108433737
        ],
        [
         "1477",
         4.0606060606060606
        ],
        [
         "1642",
         3.5
        ],
        [
         "1655",
         3.8
        ],
        [
         "59",
         3.4741784037558685
        ],
        [
         "162",
         4.121495327102804
        ],
        [
         "903",
         3.4594594594594597
        ],
        [
         "989",
         4.681818181818182
        ],
        [
         "1282",
         4.095238095238095
        ],
        [
         "1459",
         4.0476190476190474
        ],
        [
         "1535",
         3.896551724137931
        ],
        [
         "1678",
         3.4508196721311477
        ],
        [
         "1775",
         3.7225806451612904
        ],
        [
         "1836",
         4.168269230769231
        ],
        [
         "139",
         3.8816326530612244
        ],
        [
         "146",
         3.7699530516431925
        ],
        [
         "250",
         3.75
        ],
        [
         "310",
         3.4260089686098656
        ],
        [
         "1510",
         3.606060606060606
        ],
        [
         "1530",
         3.8514851485148514
        ],
        [
         "1911",
         3.5483870967741935
        ],
        [
         "1926",
         4.085470085470085
        ],
        [
         "1938",
         3.1314285714285712
        ],
        [
         "352",
         3.4793103448275864
        ],
        [
         "379",
         4.234375
        ],
        [
         "782",
         3.4347826086956523
        ],
        [
         "1109",
         3.0878048780487806
        ],
        [
         "1252",
         4.02542372881356
        ],
        [
         "1347",
         3.778481012658228
        ],
        [
         "8",
         3.884892086330935
        ],
        [
         "160",
         3.5
        ],
        [
         "695",
         3.513089005235602
        ],
        [
         "1089",
         4.0
        ],
        [
         "1296",
         3.8958333333333335
        ],
        [
         "1679",
         3.926829268292683
        ],
        [
         "1882",
         3.780269058295964
        ],
        [
         "1932",
         3.6666666666666665
        ],
        [
         "894",
         4.442857142857143
        ],
        [
         "1117",
         3.777188328912467
        ],
        [
         "1227",
         3.792207792207792
        ],
        [
         "1407",
         4.082417582417582
        ],
        [
         "1737",
         3.410322580645161
        ],
        [
         "1764",
         4.091353996737357
        ],
        [
         "1821",
         4.037037037037037
        ],
        [
         "258",
         3.717241379310345
        ],
        [
         "479",
         3.827956989247312
        ],
        [
         "692",
         3.8240887480190175
        ],
        [
         "787",
         3.58974358974359
        ],
        [
         "951",
         4.523809523809524
        ],
        [
         "1054",
         3.8897637795275593
        ],
        [
         "1277",
         3.675675675675676
        ],
        [
         "1345",
         3.7195767195767195
        ],
        [
         "1367",
         3.7772511848341233
        ],
        [
         "1452",
         4.15
        ],
        [
         "1563",
         3.8095238095238093
        ],
        [
         "1589",
         3.7777777777777777
        ],
        [
         "1605",
         3.3122406639004147
        ],
        [
         "1814",
         3.63265306122449
        ],
        [
         "22",
         3.0673400673400675
        ],
        [
         "28",
         3.7570093457943927
        ],
        [
         "184",
         4.083333333333333
        ],
        [
         "570",
         3.329113924050633
        ],
        [
         "888",
         3.7777777777777777
        ],
        [
         "1045",
         3.5405405405405403
        ],
        [
         "1336",
         4.086956521739131
        ],
        [
         "1482",
         3.2295081967213113
        ],
        [
         "1501",
         3.726937269372694
        ],
        [
         "1651",
         3.2
        ],
        [
         "1707",
         4.329545454545454
        ],
        [
         "199",
         3.2761194029850746
        ],
        [
         "343",
         4.047138047138047
        ],
        [
         "539",
         3.9242424242424243
        ],
        [
         "628",
         3.9038461538461537
        ],
        [
         "636",
         4.058139534883721
        ],
        [
         "808",
         3.1236363636363635
        ],
        [
         "813",
         3.343283582089552
        ],
        [
         "843",
         3.9444444444444446
        ],
        [
         "856",
         3.490566037735849
        ],
        [
         "1062",
         4.484536082474227
        ],
        [
         "1283",
         3.347826086956522
        ],
        [
         "1379",
         3.25
        ],
        [
         "1609",
         3.4206128133704734
        ],
        [
         "663",
         3.580357142857143
        ],
        [
         "730",
         3.7735849056603774
        ],
        [
         "917",
         4.068965517241379
        ],
        [
         "1213",
         4.041666666666667
        ],
        [
         "1536",
         4.222222222222222
        ],
        [
         "1788",
         3.84375
        ],
        [
         "1804",
         3.4051724137931036
        ],
        [
         "1941",
         3.0545454545454547
        ],
        [
         "85",
         3.1025641025641026
        ],
        [
         "556",
         3.5
        ],
        [
         "597",
         4.473684210526316
        ],
        [
         "712",
         3.475177304964539
        ],
        [
         "1013",
         3.847826086956522
        ],
        [
         "1070",
         3.619047619047619
        ],
        [
         "1334",
         3.9152542372881354
        ],
        [
         "1427",
         3.6470588235294117
        ],
        [
         "1455",
         3.7540983606557377
        ],
        [
         "1722",
         4.242718446601942
        ],
        [
         "1888",
         3.6176470588235294
        ],
        [
         "16",
         3.0285714285714285
        ],
        [
         "35",
         3.54040404040404
        ],
        [
         "52",
         3.5569620253164556
        ],
        [
         "251",
         3.5753424657534247
        ],
        [
         "488",
         3.56
        ],
        [
         "634",
         4.014925373134329
        ],
        [
         "644",
         3.1203703703703702
        ],
        [
         "742",
         3.9523809523809526
        ],
        [
         "973",
         3.3963133640552994
        ],
        [
         "1074",
         3.4479166666666665
        ],
        [
         "1143",
         4.30188679245283
        ],
        [
         "1475",
         3.8987341772151898
        ],
        [
         "1565",
         3.74468085106383
        ],
        [
         "1613",
         3.4264150943396228
        ],
        [
         "1696",
         3.621019108280255
        ],
        [
         "1711",
         3.6206896551724137
        ],
        [
         "1919",
         3.5636363636363635
        ],
        [
         "171",
         4.0
        ],
        [
         "183",
         4.099009900990099
        ],
        [
         "807",
         3.9696969696969697
        ],
        [
         "868",
         3.6
        ],
        [
         "933",
         3.7096774193548385
        ],
        [
         "1405",
         3.7333333333333334
        ],
        [
         "1598",
         3.494565217391304
        ],
        [
         "1635",
         3.780580075662043
        ],
        [
         "187",
         4.083932853717027
        ],
        [
         "441",
         3.9574468085106385
        ],
        [
         "964",
         3.717948717948718
        ],
        [
         "1303",
         3.3205317577548006
        ],
        [
         "1428",
         4.211538461538462
        ],
        [
         "1457",
         3.95114006514658
        ],
        [
         "1476",
         3.757142857142857
        ],
        [
         "71",
         3.7586206896551726
        ],
        [
         "410",
         3.96875
        ],
        [
         "1004",
         3.1600831600831603
        ],
        [
         "1431",
         3.380952380952381
        ],
        [
         "1514",
         3.763779527559055
        ],
        [
         "1664",
         3.4
        ],
        [
         "1877",
         3.129251700680272
        ],
        [
         "1906",
         3.6538461538461537
        ],
        [
         "98",
         3.8
        ],
        [
         "188",
         3.1690140845070425
        ],
        [
         "276",
         3.5217391304347827
        ],
        [
         "298",
         3.925925925925926
        ],
        [
         "528",
         3.3551724137931034
        ],
        [
         "749",
         3.3246187363834423
        ],
        [
         "959",
         3.7395833333333335
        ],
        [
         "980",
         3.2222222222222223
        ],
        [
         "1133",
         3.386904761904762
        ],
        [
         "1286",
         3.5
        ],
        [
         "1371",
         4.2727272727272725
        ],
        [
         "1416",
         3.5454545454545454
        ],
        [
         "1486",
         3.5833333333333335
        ],
        [
         "1783",
         3.5714285714285716
        ],
        [
         "47",
         3.909090909090909
        ],
        [
         "99",
         3.2149532710280373
        ],
        [
         "195",
         3.889294403892944
        ],
        [
         "223",
         3.44140625
        ],
        [
         "458",
         3.5348837209302326
        ],
        [
         "466",
         4.14070351758794
        ],
        [
         "568",
         4.44
        ],
        [
         "594",
         4.29559748427673
        ],
        [
         "629",
         3.371308016877637
        ],
        [
         "902",
         4.28
        ],
        [
         "1141",
         3.3090128755364807
        ],
        [
         "1549",
         3.619047619047619
        ],
        [
         "697",
         3.8
        ],
        [
         "1488",
         4.095238095238095
        ],
        [
         "1519",
         3.528735632183908
        ],
        [
         "1954",
         3.933774834437086
        ],
        [
         "107",
         3.743801652892562
        ],
        [
         "110",
         3.25
        ],
        [
         "372",
         4.553571428571429
        ],
        [
         "554",
         3.511627906976744
        ],
        [
         "565",
         3.44
        ],
        [
         "726",
         3.9315068493150687
        ],
        [
         "892",
         3.911764705882353
        ],
        [
         "1185",
         3.6444444444444444
        ],
        [
         "1269",
         4.25
        ],
        [
         "1375",
         3.9
        ],
        [
         "785",
         3.2358490566037736
        ],
        [
         "824",
         3.646103896103896
        ],
        [
         "928",
         4.3254716981132075
        ],
        [
         "1076",
         3.2439024390243905
        ],
        [
         "1191",
         4.295238095238095
        ],
        [
         "1770",
         3.269662921348315
        ],
        [
         "390",
         3.6728971962616823
        ],
        [
         "1145",
         3.3684210526315788
        ],
        [
         "1266",
         3.3415977961432506
        ],
        [
         "1544",
         3.690909090909091
        ],
        [
         "1645",
         4.061302681992337
        ],
        [
         "1866",
         4.093525179856115
        ],
        [
         "214",
         3.1626506024096384
        ],
        [
         "527",
         4.08
        ],
        [
         "560",
         3.897810218978102
        ],
        [
         "656",
         3.8700564971751414
        ],
        [
         "1228",
         3.7768924302788847
        ],
        [
         "1278",
         4.0
        ],
        [
         "1387",
         3.6591928251121075
        ],
        [
         "1637",
         3.988235294117647
        ],
        [
         "1930",
         3.1666666666666665
        ],
        [
         "267",
         3.3893129770992365
        ],
        [
         "573",
         3.9722222222222223
        ],
        [
         "609",
         4.346153846153846
        ],
        [
         "850",
         3.5613718411552346
        ],
        [
         "953",
         4.6878306878306875
        ],
        [
         "1260",
         3.787819253438114
        ],
        [
         "1593",
         3.0388349514563107
        ],
        [
         "1909",
         3.526315789473684
        ],
        [
         "284",
         3.021231422505308
        ],
        [
         "408",
         4.352564102564102
        ],
        [
         "440",
         3.586206896551724
        ],
        [
         "520",
         3.9363057324840764
        ],
        [
         "826",
         3.2857142857142856
        ],
        [
         "1058",
         3.795518207282913
        ],
        [
         "1494",
         3.795918367346939
        ],
        [
         "1579",
         3.4496732026143793
        ],
        [
         "1833",
         3.31
        ],
        [
         "96",
         3.6049382716049383
        ],
        [
         "202",
         3.2492537313432837
        ],
        [
         "248",
         4.205882352941177
        ],
        [
         "327",
         3.669491525423729
        ],
        [
         "484",
         3.735294117647059
        ],
        [
         "825",
         3.619047619047619
        ],
        [
         "1006",
         3.0681818181818183
        ],
        [
         "1462",
         3.5
        ],
        [
         "1543",
         3.46242774566474
        ],
        [
         "1648",
         3.442953020134228
        ],
        [
         "1753",
         3.936619718309859
        ],
        [
         "221",
         3.2413793103448274
        ],
        [
         "320",
         4.238095238095238
        ],
        [
         "610",
         3.484126984126984
        ],
        [
         "804",
         3.272727272727273
        ],
        [
         "1322",
         4.1171875
        ],
        [
         "1454",
         3.8636363636363638
        ],
        [
         "1610",
         3.9642857142857144
        ],
        [
         "1733",
         3.5280095351609058
        ],
        [
         "43",
         4.125
        ],
        [
         "300",
         4.180722891566265
        ],
        [
         "503",
         4.448275862068965
        ],
        [
         "633",
         3.5813953488372094
        ],
        [
         "873",
         3.8430232558139537
        ],
        [
         "897",
         3.5566502463054186
        ],
        [
         "1030",
         3.5789473684210527
        ],
        [
         "1071",
         4.426573426573427
        ],
        [
         "1607",
         3.1847826086956523
        ],
        [
         "1898",
         3.923076923076923
        ],
        [
         "5",
         3.1464646464646466
        ],
        [
         "273",
         3.727272727272727
        ],
        [
         "401",
         3.871794871794872
        ],
        [
         "421",
         4.25
        ],
        [
         "1505",
         3.738993710691824
        ],
        [
         "1592",
         3.6209150326797386
        ],
        [
         "1861",
         3.3369565217391304
        ],
        [
         "31",
         3.73109243697479
        ],
        [
         "797",
         4.036144578313253
        ],
        [
         "815",
         4.068965517241379
        ],
        [
         "1022",
         3.5616438356164384
        ],
        [
         "1082",
         4.333333333333333
        ],
        [
         "1307",
         4.333333333333333
        ],
        [
         "1576",
         3.875
        ],
        [
         "1782",
         3.5789473684210527
        ],
        [
         "1940",
         4.671875
        ],
        [
         "100",
         3.026315789473684
        ],
        [
         "908",
         3.3076923076923075
        ],
        [
         "1106",
         3.78125
        ],
        [
         "1697",
         4.18361581920904
        ],
        [
         "912",
         3.7209302325581395
        ],
        [
         "1079",
         3.5867768595041323
        ],
        [
         "1254",
         4.118181818181818
        ],
        [
         "1383",
         3.329683698296837
        ],
        [
         "1616",
         3.1338582677165356
        ],
        [
         "1874",
         3.59375
        ],
        [
         "1901",
         4.173333333333333
        ],
        [
         "18",
         3.6491803278688524
        ],
        [
         "359",
         3.857142857142857
        ],
        [
         "481",
         3.696969696969697
        ],
        [
         "523",
         4.06
        ],
        [
         "1568",
         4.0
        ],
        [
         "70",
         3.7037037037037037
        ],
        [
         "476",
         3.8375870069605567
        ],
        [
         "617",
         4.086956521739131
        ],
        [
         "1052",
         4.343283582089552
        ],
        [
         "1250",
         4.190476190476191
        ],
        [
         "174",
         3.649484536082474
        ],
        [
         "206",
         3.066666666666667
        ],
        [
         "619",
         3.909090909090909
        ],
        [
         "733",
         4.05982905982906
        ],
        [
         "772",
         3.479591836734694
        ],
        [
         "1016",
         3.7880794701986753
        ],
        [
         "1354",
         3.404970760233918
        ],
        [
         "1520",
         4.0
        ],
        [
         "1829",
         3.3333333333333335
        ],
        [
         "168",
         3.8461538461538463
        ],
        [
         "453",
         3.66497461928934
        ],
        [
         "502",
         4.083333333333333
        ],
        [
         "632",
         3.7941176470588234
        ],
        [
         "761",
         4.55
        ],
        [
         "921",
         3.6962025316455698
        ],
        [
         "1232",
         4.229629629629629
        ],
        [
         "1816",
         4.096774193548387
        ],
        [
         "224",
         3.4019607843137254
        ],
        [
         "364",
         3.142857142857143
        ],
        [
         "505",
         4.217391304347826
        ],
        [
         "684",
         3.8947368421052633
        ],
        [
         "981",
         3.3303964757709252
        ],
        [
         "1182",
         3.357142857142857
        ],
        [
         "1657",
         3.888888888888889
        ],
        [
         "1863",
         4.5
        ],
        [
         "27",
         4.171428571428572
        ],
        [
         "218",
         3.0930232558139537
        ],
        [
         "477",
         3.5829383886255926
        ],
        [
         "496",
         4.294117647058823
        ],
        [
         "649",
         3.6619718309859155
        ],
        [
         "658",
         3.096774193548387
        ],
        [
         "1276",
         4.1558441558441555
        ],
        [
         "1398",
         3.710526315789474
        ],
        [
         "1424",
         3.409090909090909
        ],
        [
         "1812",
         3.7765042979942693
        ],
        [
         "75",
         4.005714285714285
        ],
        [
         "274",
         4.243243243243243
        ],
        [
         "449",
         3.7222222222222223
        ],
        [
         "493",
         3.848101265822785
        ],
        [
         "639",
         3.705
        ],
        [
         "667",
         3.0935672514619883
        ],
        [
         "997",
         3.933333333333333
        ],
        [
         "999",
         3.186893203883495
        ],
        [
         "1238",
         3.7111111111111112
        ],
        [
         "1263",
         3.139784946236559
        ],
        [
         "1275",
         4.466666666666667
        ],
        [
         "1421",
         3.758974358974359
        ],
        [
         "1798",
         3.5970149253731343
        ],
        [
         "1845",
         3.213636363636364
        ],
        [
         "1550",
         3.9310344827586206
        ],
        [
         "1554",
         3.806451612903226
        ],
        [
         "1663",
         4.130434782608695
        ],
        [
         "1809",
         3.142857142857143
        ],
        [
         "1893",
         3.75
        ],
        [
         "166",
         3.6878048780487807
        ],
        [
         "219",
         3.3333333333333335
        ],
        [
         "601",
         3.1501340482573728
        ],
        [
         "614",
         3.8333333333333335
        ],
        [
         "659",
         3.7
        ],
        [
         "801",
         3.6596491228070174
        ],
        [
         "1007",
         4.21875
        ],
        [
         "1060",
         3.35
        ],
        [
         "1294",
         3.9272030651340994
        ],
        [
         "1337",
         3.8153846153846156
        ],
        [
         "1639",
         3.658802177858439
        ],
        [
         "1777",
         3.890909090909091
        ],
        [
         "1792",
         3.871794871794872
        ],
        [
         "1822",
         3.8507462686567164
        ],
        [
         "17",
         4.075829383886256
        ],
        [
         "126",
         4.0
        ],
        [
         "131",
         3.3966101694915256
        ],
        [
         "140",
         3.8181818181818183
        ],
        [
         "549",
         3.7569444444444446
        ],
        [
         "640",
         4.333333333333333
        ],
        [
         "1433",
         3.337078651685393
        ],
        [
         "1676",
         3.492485549132948
        ],
        [
         "1772",
         3.3823529411764706
        ],
        [
         "1834",
         4.092307692307692
        ],
        [
         "1887",
         3.384
        ],
        [
         "227",
         3.2857142857142856
        ],
        [
         "286",
         3.883720930232558
        ],
        [
         "905",
         3.7886178861788617
        ],
        [
         "1061",
         3.980392156862745
        ],
        [
         "1092",
         4.0588235294117645
        ],
        [
         "1131",
         4.796116504854369
        ],
        [
         "1261",
         3.7487179487179487
        ],
        [
         "1453",
         3.5714285714285716
        ],
        [
         "1865",
         3.5808383233532934
        ],
        [
         "120",
         3.619047619047619
        ],
        [
         "492",
         3.9375
        ],
        [
         "736",
         3.9298245614035086
        ],
        [
         "876",
         3.828828828828829
        ],
        [
         "1064",
         3.70873786407767
        ],
        [
         "1580",
         3.5405405405405403
        ],
        [
         "1671",
         3.8620689655172415
        ],
        [
         "1860",
         3.310580204778157
        ],
        [
         "326",
         3.3350923482849604
        ],
        [
         "548",
         3.093220338983051
        ],
        [
         "866",
         3.3333333333333335
        ],
        [
         "1046",
         3.8846153846153846
        ],
        [
         "1108",
         4.113636363636363
        ],
        [
         "1161",
         3.968421052631579
        ],
        [
         "1257",
         3.36734693877551
        ],
        [
         "1267",
         3.6
        ],
        [
         "1384",
         3.4545454545454546
        ],
        [
         "1446",
         4.453608247422681
        ],
        [
         "1551",
         3.9397590361445785
        ],
        [
         "1665",
         3.6825396825396823
        ],
        [
         "1827",
         3.5918367346938775
        ],
        [
         "1868",
         3.6296296296296298
        ],
        [
         "1905",
         4.1063829787234045
        ],
        [
         "773",
         3.5918367346938775
        ],
        [
         "842",
         3.8378378378378377
        ],
        [
         "1139",
         3.9065934065934065
        ],
        [
         "1144",
         3.772727272727273
        ],
        [
         "1559",
         3.588235294117647
        ],
        [
         "1652",
         3.3703703703703702
        ],
        [
         "1946",
         3.858974358974359
        ],
        [
         "46",
         4.219512195121951
        ],
        [
         "268",
         3.3946360153256707
        ],
        [
         "621",
         3.0416666666666665
        ],
        [
         "631",
         3.7948717948717947
        ],
        [
         "716",
         4.198979591836735
        ],
        [
         "1323",
         3.7027027027027026
        ],
        [
         "1502",
         3.399267399267399
        ],
        [
         "1799",
         3.5164835164835164
        ],
        [
         "130",
         4.311111111111111
        ],
        [
         "374",
         4.403846153846154
        ],
        [
         "535",
         3.5714285714285716
        ],
        [
         "906",
         3.5238095238095237
        ],
        [
         "1053",
         3.343283582089552
        ],
        [
         "1130",
         3.849462365591398
        ],
        [
         "1253",
         3.5405405405405403
        ],
        [
         "1689",
         3.609375
        ],
        [
         "1786",
         4.018867924528302
        ],
        [
         "1899",
         3.7923280423280423
        ],
        [
         "375",
         4.078431372549019
        ],
        [
         "558",
         3.6804123711340204
        ],
        [
         "1040",
         4.235521235521236
        ],
        [
         "1114",
         3.462686567164179
        ],
        [
         "1137",
         3.74468085106383
        ],
        [
         "1272",
         3.535211267605634
        ],
        [
         "1448",
         3.775529865125241
        ],
        [
         "1884",
         3.867043847241867
        ],
        [
         "1908",
         3.1826923076923075
        ],
        [
         "147",
         3.5026737967914436
        ],
        [
         "164",
         4.384615384615385
        ],
        [
         "207",
         3.5217391304347827
        ],
        [
         "381",
         4.114285714285714
        ],
        [
         "455",
         4.2
        ],
        [
         "802",
         3.938735177865613
        ],
        [
         "839",
         3.988372093023256
        ],
        [
         "948",
         3.7408123791102517
        ],
        [
         "1175",
         4.208333333333333
        ],
        [
         "1243",
         3.608695652173913
        ],
        [
         "1444",
         3.689655172413793
        ],
        [
         "78",
         3.657142857142857
        ],
        [
         "208",
         3.652173913043478
        ],
        [
         "790",
         4.3478260869565215
        ],
        [
         "1017",
         3.251439539347409
        ],
        [
         "1288",
         3.75968992248062
        ],
        [
         "1515",
         3.75
        ],
        [
         "1835",
         4.114285714285714
        ],
        [
         "1858",
         3.9591836734693877
        ],
        [
         "328",
         3.032258064516129
        ],
        [
         "486",
         4.051282051282051
        ],
        [
         "501",
         3.417910447761194
        ],
        [
         "1134",
         4.42
        ],
        [
         "1196",
         3.8839285714285716
        ],
        [
         "1271",
         4.2823529411764705
        ],
        [
         "1577",
         4.104
        ],
        [
         "1611",
         3.573741007194245
        ],
        [
         "1832",
         3.9318181818181817
        ],
        [
         "89",
         3.238095238095238
        ],
        [
         "228",
         4.0
        ],
        [
         "525",
         4.025
        ],
        [
         "904",
         3.3008130081300813
        ],
        [
         "1644",
         3.0625
        ],
        [
         "1904",
         3.2670454545454546
        ],
        [
         "136",
         3.074074074074074
        ],
        [
         "198",
         3.7493403693931397
        ],
        [
         "290",
         3.303030303030303
        ],
        [
         "620",
         3.3240223463687153
        ],
        [
         "845",
         3.980769230769231
        ],
        [
         "943",
         4.296296296296297
        ],
        [
         "1208",
         4.020833333333333
        ],
        [
         "1796",
         3.9886363636363638
        ],
        [
         "1847",
         4.317073170731708
        ],
        [
         "1921",
         3.2588235294117647
        ],
        [
         "1927",
         3.9545454545454546
        ],
        [
         "6",
         3.9014084507042255
        ],
        [
         "118",
         3.767857142857143
        ],
        [
         "257",
         4.452830188679245
        ],
        [
         "669",
         3.847255369928401
        ],
        [
         "1000",
         4.130952380952381
        ],
        [
         "1734",
         4.27027027027027
        ],
        [
         "385",
         3.9562043795620436
        ],
        [
         "517",
         3.963855421686747
        ],
        [
         "935",
         3.4896907216494846
        ],
        [
         "1216",
         3.6948356807511735
        ],
        [
         "1439",
         3.9
        ],
        [
         "1540",
         3.805084745762712
        ],
        [
         "1541",
         4.423076923076923
        ],
        [
         "1668",
         4.0
        ],
        [
         "1820",
         3.684542586750789
        ],
        [
         "1916",
         3.9437340153452687
        ],
        [
         "756",
         3.9714285714285715
        ],
        [
         "798",
         3.149847094801223
        ],
        [
         "841",
         3.576923076923077
        ],
        [
         "932",
         4.45
        ],
        [
         "1128",
         3.216867469879518
        ],
        [
         "1414",
         3.7837837837837838
        ],
        [
         "1464",
         3.675925925925926
        ],
        [
         "1698",
         3.9310344827586206
        ],
        [
         "185",
         3.588235294117647
        ],
        [
         "341",
         4.2
        ],
        [
         "653",
         4.142857142857143
        ],
        [
         "753",
         3.7752293577981653
        ],
        [
         "1200",
         3.5641025641025643
        ],
        [
         "1308",
         3.606741573033708
        ],
        [
         "230",
         4.094972067039106
        ],
        [
         "256",
         3.8526315789473684
        ],
        [
         "452",
         4.431818181818182
        ],
        [
         "537",
         4.3061224489795915
        ],
        [
         "1023",
         4.073170731707317
        ],
        [
         "1172",
         3.5169300225733635
        ],
        [
         "1187",
         3.3870967741935485
        ],
        [
         "1351",
         4.2
        ],
        [
         "1402",
         4.122448979591836
        ],
        [
         "1408",
         3.139705882352941
        ],
        [
         "1490",
         4.1
        ],
        [
         "1585",
         3.607142857142857
        ],
        [
         "1705",
         3.6941176470588237
        ],
        [
         "201",
         3.954022988505747
        ],
        [
         "799",
         3.6
        ],
        [
         "967",
         3.5384615384615383
        ],
        [
         "1087",
         3.7908163265306123
        ],
        [
         "1157",
         4.2727272727272725
        ],
        [
         "1654",
         4.446808510638298
        ],
        [
         "1738",
         3.7313432835820897
        ],
        [
         "1857",
         4.2682926829268295
        ],
        [
         "177",
         4.113636363636363
        ],
        [
         "604",
         3.0940766550522647
        ],
        [
         "678",
         3.6776776776776776
        ],
        [
         "1110",
         4.326530612244898
        ],
        [
         "1147",
         3.4654654654654653
        ],
        [
         "1167",
         3.4285714285714284
        ],
        [
         "1378",
         4.5344827586206895
        ],
        [
         "1871",
         3.7264957264957266
        ],
        [
         "1935",
         3.4827586206896552
        ],
        [
         "60",
         3.414285714285714
        ],
        [
         "68",
         3.75
        ],
        [
         "90",
         3.511111111111111
        ],
        [
         "104",
         3.347826086956522
        ],
        [
         "229",
         3.4292452830188678
        ],
        [
         "244",
         4.105882352941176
        ],
        [
         "246",
         4.0
        ],
        [
         "413",
         4.404040404040404
        ],
        [
         "657",
         4.016949152542373
        ],
        [
         "702",
         3.3027139874739038
        ],
        [
         "978",
         3.8863636363636362
        ],
        [
         "1346",
         3.5357142857142856
        ],
        [
         "1566",
         3.5
        ],
        [
         "1947",
         3.9523809523809526
        ],
        [
         "1165",
         3.574468085106383
        ],
        [
         "1171",
         4.321428571428571
        ],
        [
         "1391",
         3.4688995215311005
        ],
        [
         "1771",
         4.333333333333333
        ],
        [
         "194",
         3.983050847457627
        ],
        [
         "418",
         3.549019607843137
        ],
        [
         "1381",
         3.4057971014492754
        ],
        [
         "1382",
         4.138888888888889
        ],
        [
         "1785",
         3.0555555555555554
        ],
        [
         "1875",
         3.6153846153846154
        ],
        [
         "19",
         3.5725490196078433
        ],
        [
         "354",
         3.586206896551724
        ],
        [
         "404",
         4.14
        ],
        [
         "429",
         3.346820809248555
        ],
        [
         "578",
         3.9642857142857144
        ],
        [
         "994",
         4.153846153846154
        ],
        [
         "1113",
         3.9749216300940438
        ],
        [
         "1234",
         4.291666666666667
        ],
        [
         "1358",
         3.16017316017316
        ],
        [
         "1385",
         3.727272727272727
        ],
        [
         "1472",
         3.6008583690987126
        ],
        [
         "1759",
         3.720472440944882
        ],
        [
         "1825",
         3.5165562913907285
        ],
        [
         "347",
         3.878787878787879
        ],
        [
         "464",
         3.6097560975609757
        ],
        [
         "1203",
         3.707152496626181
        ],
        [
         "1331",
         3.98
        ],
        [
         "1625",
         3.3555555555555556
        ],
        [
         "1656",
         3.48
        ],
        [
         "1883",
         3.331034482758621
        ],
        [
         "1890",
         3.51980198019802
        ],
        [
         "1922",
         3.456876456876457
        ],
        [
         "23",
         3.3157894736842106
        ],
        [
         "41",
         3.48
        ],
        [
         "128",
         4.363636363636363
        ],
        [
         "280",
         3.94
        ],
        [
         "439",
         3.902173913043478
        ],
        [
         "533",
         3.3401015228426396
        ],
        [
         "837",
         3.260869565217391
        ],
        [
         "840",
         4.219123505976095
        ],
        [
         "1038",
         3.9324324324324325
        ],
        [
         "1051",
         3.4663573085846866
        ],
        [
         "1316",
         3.236842105263158
        ],
        [
         "1685",
         3.574418604651163
        ],
        [
         "102",
         3.128787878787879
        ],
        [
         "530",
         4.0
        ],
        [
         "1302",
         4.266666666666667
        ],
        [
         "55",
         4.12
        ],
        [
         "345",
         4.4
        ],
        [
         "931",
         4.031847133757962
        ],
        [
         "1210",
         3.8974358974358974
        ],
        [
         "1557",
         3.982456140350877
        ],
        [
         "1878",
         3.6506024096385543
        ],
        [
         "1924",
         3.1511627906976742
        ],
        [
         "474",
         3.380503144654088
        ],
        [
         "976",
         3.3636363636363638
        ],
        [
         "1066",
         3.5327868852459017
        ],
        [
         "1396",
         3.725806451612903
        ],
        [
         "1740",
         4.0
        ],
        [
         "1831",
         3.5135135135135136
        ],
        [
         "238",
         3.7868217054263567
        ],
        [
         "319",
         3.263522884882108
        ],
        [
         "456",
         3.394904458598726
        ],
        [
         "491",
         3.68
        ],
        [
         "1422",
         3.0123626373626373
        ],
        [
         "1456",
         4.045454545454546
        ],
        [
         "1688",
         3.5757575757575757
        ],
        [
         "111",
         3.7282608695652173
        ],
        [
         "263",
         3.6630434782608696
        ],
        [
         "349",
         3.25
        ],
        [
         "403",
         3.8035714285714284
        ],
        [
         "645",
         4.4772727272727275
        ],
        [
         "694",
         3.625
        ],
        [
         "723",
         3.8333333333333335
        ],
        [
         "1190",
         4.037037037037037
        ],
        [
         "1311",
         3.478723404255319
        ],
        [
         "1468",
         3.519607843137255
        ],
        [
         "1533",
         3.84
        ],
        [
         "1790",
         3.8731563421828907
        ],
        [
         "197",
         3.909090909090909
        ],
        [
         "220",
         4.215686274509804
        ],
        [
         "719",
         3.5
        ],
        [
         "722",
         3.909090909090909
        ],
        [
         "748",
         3.9753086419753085
        ],
        [
         "885",
         4.140625
        ],
        [
         "1237",
         3.7666666666666666
        ],
        [
         "1301",
         3.774410774410774
        ],
        [
         "1570",
         3.5454545454545454
        ],
        [
         "1939",
         3.7782805429864252
        ],
        [
         "436",
         3.8345864661654137
        ],
        [
         "901",
         3.606060606060606
        ],
        [
         "962",
         4.03921568627451
        ],
        [
         "983",
         4.115384615384615
        ],
        [
         "1105",
         3.9316770186335406
        ],
        [
         "1148",
         3.7966101694915255
        ],
        [
         "507",
         3.9523809523809526
        ],
        [
         "545",
         3.4827586206896552
        ],
        [
         "606",
         4.03030303030303
        ],
        [
         "891",
         3.7443946188340806
        ],
        [
         "1078",
         3.984251968503937
        ],
        [
         "1107",
         3.7051282051282053
        ],
        [
         "1149",
         3.3146067415730336
        ],
        [
         "1184",
         3.338129496402878
        ],
        [
         "1437",
         4.541935483870968
        ],
        [
         "412",
         4.401260504201681
        ],
        [
         "729",
         3.5273972602739727
        ],
        [
         "738",
         3.303030303030303
        ],
        [
         "936",
         3.5113636363636362
        ],
        [
         "1344",
         3.72
        ],
        [
         "95",
         3.595959595959596
        ],
        [
         "1027",
         3.8260869565217392
        ],
        [
         "1247",
         3.8055555555555554
        ],
        [
         "1527",
         3.1538461538461537
        ],
        [
         "1571",
         3.947712418300654
        ],
        [
         "1762",
         3.8513513513513513
        ],
        [
         "1951",
         3.015625
        ],
        [
         "819",
         3.3225806451612905
        ],
        [
         "822",
         3.7226027397260273
        ],
        [
         "927",
         3.230366492146597
        ],
        [
         "982",
         4.176470588235294
        ],
        [
         "1312",
         3.270967741935484
        ],
        [
         "1432",
         3.5428571428571427
        ],
        [
         "1451",
         3.8974700399467377
        ],
        [
         "1538",
         3.989247311827957
        ],
        [
         "1683",
         3.4857142857142858
        ],
        [
         "1716",
         3.476923076923077
        ],
        [
         "1839",
         3.9770114942528734
        ],
        [
         "1852",
         3.5185185185185186
        ],
        [
         "38",
         3.58
        ],
        [
         "40",
         3.4479166666666665
        ],
        [
         "103",
         4.052173913043478
        ],
        [
         "369",
         3.1954022988505746
        ],
        [
         "1231",
         3.8454545454545452
        ],
        [
         "1397",
         3.490566037735849
        ],
        [
         "1461",
         3.34
        ],
        [
         "1802",
         4.033175355450237
        ],
        [
         "1817",
         3.016260162601626
        ],
        [
         "376",
         4.111111111111111
        ],
        [
         "506",
         3.422222222222222
        ],
        [
         "582",
         4.282051282051282
        ],
        [
         "585",
         3.4662162162162162
        ],
        [
         "913",
         3.2888888888888888
        ],
        [
         "977",
         3.7625
        ],
        [
         "1297",
         3.4455852156057496
        ],
        [
         "1667",
         3.4128256513026054
        ],
        [
         "1682",
         4.407407407407407
        ],
        [
         "25",
         3.7411764705882353
        ],
        [
         "373",
         3.5555555555555554
        ],
        [
         "688",
         3.75
        ],
        [
         "744",
         3.3703703703703702
        ],
        [
         "914",
         4.278688524590164
        ],
        [
         "1315",
         4.505376344086022
        ],
        [
         "1348",
         3.7985611510791366
        ],
        [
         "1441",
         3.627450980392157
        ],
        [
         "1443",
         4.25
        ],
        [
         "1506",
         3.8095238095238093
        ],
        [
         "189",
         4.0
        ],
        [
         "270",
         4.198412698412699
        ],
        [
         "271",
         3.9583333333333335
        ],
        [
         "1201",
         3.5757575757575757
        ],
        [
         "1465",
         3.741407528641571
        ],
        [
         "1693",
         3.7419354838709675
        ],
        [
         "233",
         4.584905660377358
        ],
        [
         "292",
         3.7560975609756095
        ],
        [
         "297",
         4.0
        ],
        [
         "827",
         3.9545454545454546
        ],
        [
         "879",
         4.025
        ],
        [
         "971",
         3.3318385650224216
        ],
        [
         "993",
         3.3448275862068964
        ],
        [
         "1028",
         3.9672131147540983
        ],
        [
         "1138",
         3.662921348314607
        ],
        [
         "1355",
         4.169811320754717
        ],
        [
         "1621",
         3.1363636363636362
        ],
        [
         "1725",
         3.75
        ],
        [
         "1828",
         3.370629370629371
        ],
        [
         "1900",
         3.675
        ],
        [
         "44",
         3.6321243523316062
        ],
        [
         "135",
         3.657142857142857
        ],
        [
         "156",
         4.236486486486487
        ],
        [
         "190",
         3.6993464052287583
        ],
        [
         "288",
         4.589285714285714
        ],
        [
         "303",
         3.861244019138756
        ],
        [
         "338",
         3.665745856353591
        ],
        [
         "779",
         3.3333333333333335
        ],
        [
         "957",
         4.271341463414634
        ],
        [
         "1170",
         4.011627906976744
        ],
        [
         "1426",
         3.494764397905759
        ],
        [
         "1739",
         3.769230769230769
        ],
        [
         "1955",
         3.55
        ],
        [
         "144",
         3.46875
        ],
        [
         "176",
         3.6153846153846154
        ],
        [
         "531",
         3.1591695501730106
        ],
        [
         "754",
         3.7770700636942673
        ],
        [
         "830",
         3.6149425287356323
        ],
        [
         "858",
         4.189473684210526
        ],
        [
         "963",
         3.4339622641509435
        ],
        [
         "985",
         4.212328767123288
        ],
        [
         "1068",
         3.7336683417085426
        ],
        [
         "1140",
         3.7566844919786098
        ],
        [
         "1606",
         3.79126213592233
        ],
        [
         "1714",
         3.510948905109489
        ],
        [
         "1917",
         3.8969072164948453
        ],
        [
         "1084",
         3.15
        ],
        [
         "1206",
         3.5602836879432624
        ],
        [
         "1513",
         4.055944055944056
        ],
        [
         "1700",
         3.533333333333333
        ],
        [
         "1713",
         3.3333333333333335
        ],
        [
         "1830",
         4.1
        ],
        [
         "1842",
         4.129032258064516
        ],
        [
         "1889",
         3.269230769230769
        ],
        [
         "82",
         4.016949152542373
        ],
        [
         "115",
         3.8421052631578947
        ],
        [
         "241",
         3.9649122807017543
        ],
        [
         "728",
         3.311377245508982
        ],
        [
         "1116",
         3.8661971830985915
        ],
        [
         "1245",
         4.333333333333333
        ],
        [
         "1326",
         3.918918918918919
        ],
        [
         "1442",
         3.3
        ],
        [
         "1499",
         3.9384615384615387
        ],
        [
         "1567",
         3.89
        ],
        [
         "193",
         3.677685950413223
        ],
        [
         "283",
         4.962962962962963
        ],
        [
         "638",
         4.175438596491228
        ],
        [
         "725",
         4.197530864197531
        ],
        [
         "755",
         4.111111111111111
        ],
        [
         "857",
         4.171428571428572
        ],
        [
         "998",
         4.118518518518519
        ],
        [
         "1033",
         3.288659793814433
        ],
        [
         "1063",
         4.18
        ],
        [
         "1120",
         3.764625850340136
        ],
        [
         "1199",
         3.631284916201117
        ],
        [
         "1393",
         4.128440366972477
        ],
        [
         "1400",
         4.172413793103448
        ],
        [
         "1523",
         3.717391304347826
        ],
        [
         "1815",
         3.7948717948717947
        ],
        [
         "1504",
         3.642857142857143
        ],
        [
         "1547",
         3.9328358208955225
        ],
        [
         "1603",
         3.842857142857143
        ],
        [
         "1604",
         4.166666666666667
        ],
        [
         "1742",
         3.617021276595745
        ],
        [
         "650",
         3.8947368421052633
        ],
        [
         "805",
         3.835616438356164
        ],
        [
         "852",
         4.117647058823529
        ],
        [
         "965",
         4.116883116883117
        ],
        [
         "1209",
         3.411764705882353
        ],
        [
         "1617",
         3.0833333333333335
        ],
        [
         "1723",
         3.671232876712329
        ],
        [
         "1872",
         3.8181818181818183
        ],
        [
         "53",
         4.2368421052631575
        ],
        [
         "1710",
         3.6582278481012658
        ],
        [
         "285",
         4.16546762589928
        ],
        [
         "1018",
         4.155737704918033
        ],
        [
         "1370",
         3.141891891891892
        ],
        [
         "1864",
         3.3043478260869565
        ],
        [
         "1879",
         3.931558935361217
        ],
        [
         "231",
         4.22680412371134
        ],
        [
         "398",
         3.8133333333333335
        ],
        [
         "450",
         4.196078431372549
        ],
        [
         "471",
         3.6285714285714286
        ],
        [
         "834",
         4.16
        ],
        [
         "1262",
         3.4240506329113924
        ],
        [
         "1558",
         4.115384615384615
        ],
        [
         "293",
         3.2460567823343847
        ],
        [
         "294",
         3.489795918367347
        ],
        [
         "380",
         3.7246376811594204
        ],
        [
         "615",
         4.127659574468085
        ],
        [
         "660",
         3.0170697012802274
        ],
        [
         "869",
         3.5154394299287413
        ],
        [
         "1177",
         3.9746835443037973
        ],
        [
         "1471",
         3.814814814814815
        ],
        [
         "1564",
         3.056451612903226
        ],
        [
         "1766",
         3.230769230769231
        ],
        [
         "1950",
         3.5182481751824817
        ],
        [
         "108",
         3.135135135135135
        ],
        [
         "117",
         3.299009900990099
        ],
        [
         "247",
         3.935483870967742
        ],
        [
         "414",
         3.0701754385964914
        ],
        [
         "482",
         3.2606060606060607
        ],
        [
         "576",
         3.6666666666666665
        ],
        [
         "612",
         3.5
        ],
        [
         "671",
         4.2592592592592595
        ],
        [
         "968",
         4.131147540983607
        ],
        [
         "1077",
         4.019417475728155
        ],
        [
         "1399",
         3.6527777777777777
        ],
        [
         "1674",
         3.727272727272727
        ],
        [
         "1741",
         3.9757575757575756
        ],
        [
         "86",
         4.3125
        ],
        [
         "605",
         4.049180327868853
        ],
        [
         "627",
         3.5625
        ],
        [
         "683",
         3.586206896551724
        ],
        [
         "1460",
         3.0357142857142856
        ],
        [
         "58",
         3.9725400457665905
        ],
        [
         "261",
         3.5762711864406778
        ],
        [
         "281",
         3.891891891891892
        ],
        [
         "461",
         3.224609375
        ],
        [
         "816",
         3.6974358974358976
        ],
        [
         "929",
         3.6816901408450704
        ],
        [
         "949",
         3.9295392953929538
        ],
        [
         "1291",
         3.802120141342756
        ],
        [
         "1583",
         3.730769230769231
        ],
        [
         "1708",
         3.8636363636363638
        ],
        [
         "1755",
         3.5706521739130435
        ],
        [
         "394",
         3.3421052631578947
        ],
        [
         "741",
         3.324675324675325
        ],
        [
         "877",
         3.308056872037915
        ],
        [
         "1057",
         3.7262569832402233
        ],
        [
         "1244",
         3.3812154696132595
        ],
        [
         "1578",
         4.161290322580645
        ],
        [
         "1591",
         4.340764331210191
        ],
        [
         "1886",
         3.923076923076923
        ],
        [
         "1925",
         3.6459016393442623
        ],
        [
         "360",
         3.6417910447761193
        ],
        [
         "416",
         3.7580645161290325
        ],
        [
         "437",
         4.3076923076923075
        ],
        [
         "751",
         3.88
        ],
        [
         "1122",
         3.2280701754385963
        ],
        [
         "1129",
         4.145631067961165
        ],
        [
         "1239",
         3.8636363636363638
        ],
        [
         "1248",
         3.595744680851064
        ],
        [
         "1264",
         3.586497890295359
        ],
        [
         "1321",
         3.2923976608187133
        ],
        [
         "1628",
         3.745011086474501
        ],
        [
         "511",
         3.740740740740741
        ],
        [
         "616",
         3.9545454545454546
        ],
        [
         "731",
         3.778816199376947
        ],
        [
         "1080",
         3.740740740740741
        ],
        [
         "1363",
         4.380952380952381
        ],
        [
         "1561",
         4.0062111801242235
        ],
        [
         "204",
         3.5560538116591927
        ],
        [
         "363",
         3.744186046511628
        ],
        [
         "399",
         4.15625
        ],
        [
         "665",
         3.5
        ],
        [
         "673",
         3.13151364764268
        ],
        [
         "865",
         3.8095238095238093
        ],
        [
         "1595",
         4.045112781954887
        ],
        [
         "81",
         4.4186046511627906
        ],
        [
         "832",
         3.558139534883721
        ],
        [
         "896",
         3.984375
        ],
        [
         "1005",
         4.141304347826087
        ],
        [
         "1035",
         3.8241758241758244
        ],
        [
         "1037",
         3.5789473684210527
        ],
        [
         "1123",
         3.3666666666666667
        ],
        [
         "1163",
         3.640625
        ],
        [
         "1268",
         4.257425742574258
        ],
        [
         "1293",
         3.426470588235294
        ],
        [
         "1560",
         3.4939024390243905
        ],
        [
         "1702",
         4.55
        ],
        [
         "1763",
         3.769230769230769
        ],
        [
         "33",
         3.498721227621483
        ],
        [
         "114",
         3.693877551020408
        ],
        [
         "242",
         3.2051282051282053
        ],
        [
         "350",
         3.9375
        ],
        [
         "366",
         4.06949806949807
        ],
        [
         "430",
         3.9682539682539684
        ],
        [
         "540",
         3.230769230769231
        ],
        [
         "622",
         3.912280701754386
        ],
        [
         "682",
         4.733333333333333
        ],
        [
         "708",
         3.85
        ],
        [
         "778",
         3.785276073619632
        ],
        [
         "916",
         3.9454545454545453
        ],
        [
         "1317",
         3.6620775969962454
        ],
        [
         "1582",
         3.6363636363636362
        ],
        [
         "1646",
         3.064516129032258
        ],
        [
         "1744",
         4.064285714285714
        ],
        [
         "213",
         4.2272727272727275
        ],
        [
         "291",
         4.137254901960785
        ],
        [
         "536",
         3.942857142857143
        ],
        [
         "759",
         3.5876288659793816
        ],
        [
         "1127",
         3.2213740458015265
        ],
        [
         "1179",
         3.6623931623931623
        ],
        [
         "1256",
         4.34375
        ],
        [
         "1594",
         3.727891156462585
        ],
        [
         "555",
         3.8157894736842106
        ],
        [
         "592",
         4.391304347826087
        ],
        [
         "679",
         3.926829268292683
        ],
        [
         "739",
         4.354330708661418
        ],
        [
         "958",
         3.9050632911392404
        ],
        [
         "1162",
         3.551282051282051
        ],
        [
         "1183",
         3.682795698924731
        ],
        [
         "1410",
         4.064102564102564
        ],
        [
         "1479",
         4.103448275862069
        ],
        [
         "150",
         4.021551724137931
        ],
        [
         "269",
         3.8
        ],
        [
         "277",
         3.727272727272727
        ],
        [
         "526",
         3.896551724137931
        ],
        [
         "623",
         4.226744186046512
        ],
        [
         "794",
         3.953488372093023
        ],
        [
         "952",
         3.9936305732484074
        ],
        [
         "1126",
         3.761904761904762
        ],
        [
         "1478",
         3.9375
        ],
        [
         "1672",
         3.7435897435897436
        ],
        [
         "170",
         3.9885057471264367
        ],
        [
         "382",
         4.017857142857143
        ],
        [
         "393",
         3.581081081081081
        ],
        [
         "593",
         3.641509433962264
        ],
        [
         "654",
         3.4324324324324325
        ],
        [
         "687",
         3.4873417721518987
        ],
        [
         "860",
         3.1666666666666665
        ],
        [
         "1507",
         4.185185185185185
        ],
        [
         "1622",
         3.730769230769231
        ],
        [
         "1680",
         3.5556756756756758
        ],
        [
         "1923",
         3.2758620689655173
        ],
        [
         "178",
         3.8434782608695652
        ],
        [
         "519",
         3.3777777777777778
        ],
        [
         "1173",
         3.2493074792243766
        ],
        [
         "1202",
         3.5365384615384614
        ],
        [
         "1597",
         3.5565217391304347
        ],
        [
         "1599",
         3.3018181818181818
        ],
        [
         "1612",
         3.652173913043478
        ],
        [
         "48",
         3.068561872909699
        ],
        [
         "153",
         4.076923076923077
        ],
        [
         "259",
         4.0359712230215825
        ],
        [
         "1186",
         4.296116504854369
        ],
        [
         "1319",
         3.2142857142857144
        ],
        [
         "1914",
         3.739130434782609
        ],
        [
         "217",
         3.7
        ],
        [
         "500",
         3.633663366336634
        ],
        [
         "833",
         4.0476190476190474
        ],
        [
         "1225",
         4.035714285714286
        ],
        [
         "1390",
         3.838187702265372
        ],
        [
         "1430",
         4.163793103448276
        ],
        [
         "1581",
         3.2195121951219514
        ],
        [
         "1768",
         3.4859154929577465
        ],
        [
         "1881",
         4.333333333333333
        ],
        [
         "141",
         3.6956521739130435
        ],
        [
         "148",
         3.733974358974359
        ],
        [
         "173",
         3.9679144385026737
        ],
        [
         "180",
         3.694915254237288
        ],
        [
         "240",
         3.300699300699301
        ],
        [
         "243",
         3.606060606060606
        ],
        [
         "515",
         3.728395061728395
        ],
        [
         "1044",
         3.763888888888889
        ],
        [
         "1217",
         4.235294117647059
        ],
        [
         "1413",
         3.8324324324324324
        ],
        [
         "1891",
         3.5483870967741935
        ],
        [
         "97",
         4.474025974025974
        ],
        [
         "159",
         3.7777777777777777
        ],
        [
         "209",
         3.16
        ],
        [
         "239",
         4.140845070422535
        ],
        [
         "377",
         3.9044117647058822
        ],
        [
         "783",
         3.5210084033613445
        ],
        [
         "867",
         3.659090909090909
        ],
        [
         "992",
         3.4193548387096775
        ],
        [
         "1204",
         3.485294117647059
        ],
        [
         "1212",
         3.8550724637681157
        ],
        [
         "1320",
         4.017094017094017
        ],
        [
         "1531",
         3.4615384615384617
        ],
        [
         "1643",
         4.28755364806867
        ],
        [
         "1760",
         3.803030303030303
        ],
        [
         "304",
         3.5555555555555554
        ],
        [
         "316",
         4.116883116883117
        ],
        [
         "427",
         4.111111111111111
        ],
        [
         "589",
         4.0
        ],
        [
         "642",
         4.111111111111111
        ],
        [
         "812",
         3.739130434782609
        ],
        [
         "1081",
         4.147058823529412
        ],
        [
         "1221",
         3.9638009049773757
        ],
        [
         "1332",
         3.5
        ],
        [
         "1411",
         3.566666666666667
        ],
        [
         "1575",
         3.8703703703703702
        ],
        [
         "1602",
         4.1
        ],
        [
         "1724",
         4.10062893081761
        ],
        [
         "1907",
         3.8333333333333335
        ],
        [
         "67",
         4.296875
        ],
        [
         "106",
         4.0212765957446805
        ],
        [
         "158",
         4.0
        ],
        [
         "402",
         3.591549295774648
        ],
        [
         "457",
         3.7130801687763713
        ],
        [
         "811",
         4.184615384615385
        ],
        [
         "1180",
         4.45945945945946
        ],
        [
         "1789",
         4.172413793103448
        ],
        [
         "1869",
         3.9166666666666665
        ],
        [
         "84",
         3.838709677419355
        ],
        [
         "236",
         3.693548387096774
        ],
        [
         "407",
         3.4375
        ],
        [
         "547",
         3.858974358974359
        ],
        [
         "792",
         3.4597701149425286
        ],
        [
         "838",
         4.090909090909091
        ],
        [
         "1034",
         3.483679525222552
        ],
        [
         "1132",
         4.343558282208589
        ],
        [
         "1174",
         3.125
        ],
        [
         "1274",
         3.8494077834179357
        ],
        [
         "1289",
         4.3076923076923075
        ],
        [
         "1313",
         3.6551724137931036
        ],
        [
         "1406",
         3.8
        ],
        [
         "1534",
         3.619047619047619
        ],
        [
         "1715",
         3.4565217391304346
        ],
        [
         "1813",
         3.5
        ],
        [
         "266",
         4.52
        ],
        [
         "497",
         3.5833333333333335
        ],
        [
         "922",
         3.5830903790087465
        ],
        [
         "1732",
         4.470588235294118
        ],
        [
         "143",
         3.5441176470588234
        ],
        [
         "322",
         4.45
        ],
        [
         "564",
         4.0
        ],
        [
         "567",
         4.583333333333333
        ],
        [
         "648",
         3.7231638418079096
        ],
        [
         "849",
         3.264957264957265
        ],
        [
         "1048",
         4.0
        ],
        [
         "1447",
         3.2383838383838386
        ],
        [
         "1727",
         4.035019455252918
        ],
        [
         "1944",
         3.911764705882353
        ],
        [
         "79",
         3.6451612903225805
        ],
        [
         "490",
         3.7662337662337664
        ],
        [
         "494",
         4.157068062827225
        ],
        [
         "715",
         3.8877551020408165
        ],
        [
         "864",
         4.050724637681159
        ],
        [
         "893",
         3.2
        ],
        [
         "930",
         3.0510204081632653
        ],
        [
         "1155",
         3.1923076923076925
        ],
        [
         "1368",
         4.113636363636363
        ],
        [
         "1466",
         3.630952380952381
        ],
        [
         "9",
         3.7358490566037736
        ],
        [
         "24",
         3.948529411764706
        ],
        [
         "313",
         4.038461538461538
        ],
        [
         "336",
         4.308411214953271
        ],
        [
         "444",
         4.0
        ],
        [
         "465",
         3.5405405405405403
        ],
        [
         "562",
         3.7027027027027026
        ],
        [
         "701",
         3.5
        ],
        [
         "1011",
         3.7027027027027026
        ],
        [
         "1194",
         3.325115562403698
        ],
        [
         "1787",
         3.3214285714285716
        ],
        [
         "1818",
         3.6511627906976742
        ],
        [
         "1826",
         3.5964912280701755
        ],
        [
         "212",
         3.8545454545454545
        ],
        [
         "346",
         4.307420494699647
        ],
        [
         "480",
         3.411214953271028
        ],
        [
         "757",
         3.225806451612903
        ],
        [
         "1467",
         3.534090909090909
        ],
        [
         "1596",
         3.5652173913043477
        ],
        [
         "1638",
         4.205128205128205
        ],
        [
         "1684",
         4.032258064516129
        ],
        [
         "1718",
         4.46875
        ],
        [
         "1902",
         3.647286821705426
        ],
        [
         "32",
         3.625
        ],
        [
         "116",
         3.802325581395349
        ],
        [
         "405",
         3.795918367346939
        ],
        [
         "509",
         3.3139695712309822
        ],
        [
         "624",
         3.6801075268817205
        ],
        [
         "781",
         3.1709401709401708
        ],
        [
         "1353",
         3.0317460317460316
        ],
        [
         "1653",
         3.92
        ],
        [
         "1752",
         3.834101382488479
        ],
        [
         "152",
         4.125
        ],
        [
         "186",
         4.254098360655738
        ],
        [
         "299",
         4.163461538461538
        ],
        [
         "314",
         3.696245733788396
        ],
        [
         "513",
         3.1474358974358974
        ],
        [
         "780",
         3.45703125
        ],
        [
         "907",
         3.9523809523809526
        ],
        [
         "1529",
         3.7666666666666666
        ],
        [
         "1824",
         3.3647798742138364
        ],
        [
         "1934",
         3.0847457627118646
        ],
        [
         "88",
         4.147058823529412
        ],
        [
         "358",
         3.8472222222222223
        ],
        [
         "538",
         4.458333333333333
        ],
        [
         "803",
         3.7115384615384617
        ],
        [
         "806",
         4.166666666666667
        ],
        [
         "945",
         3.6196319018404908
        ],
        [
         "1015",
         3.7262830482115086
        ],
        [
         "1484",
         3.6146496815286624
        ],
        [
         "1555",
         4.3544303797468356
        ],
        [
         "1774",
         3.275
        ],
        [
         "1",
         4.188679245283019
        ],
        [
         "149",
         3.9408783783783785
        ],
        [
         "318",
         3.9523809523809526
        ],
        [
         "391",
         3.728395061728395
        ],
        [
         "793",
         3.486666666666667
        ],
        [
         "899",
         3.523219814241486
        ],
        [
         "1024",
         3.697674418604651
        ],
        [
         "1085",
         3.7142857142857144
        ],
        [
         "1778",
         3.54029304029304
        ],
        [
         "1937",
         3.183050847457627
        ],
        [
         "105",
         4.295081967213115
        ],
        [
         "237",
         3.4036144578313254
        ],
        [
         "289",
         3.9054054054054053
        ],
        [
         "550",
         3.578076525336091
        ],
        [
         "646",
         3.8031496062992125
        ],
        [
         "774",
         3.2142857142857144
        ],
        [
         "1168",
         3.4463519313304722
        ],
        [
         "1859",
         3.5652173913043477
        ],
        [
         "1896",
         4.14975845410628
        ],
        [
         "20",
         4.083333333333333
        ],
        [
         "561",
         3.7222222222222223
        ],
        [
         "600",
         3.652173913043478
        ],
        [
         "680",
         3.5714285714285716
        ],
        [
         "1065",
         3.715909090909091
        ],
        [
         "1220",
         3.353846153846154
        ],
        [
         "1281",
         3.4791666666666665
        ],
        [
         "1376",
         3.882978723404255
        ],
        [
         "1948",
         3.1091954022988504
        ],
        [
         "325",
         4.046511627906977
        ],
        [
         "551",
         3.8201754385964914
        ],
        [
         "818",
         3.7251461988304095
        ],
        [
         "1014",
         3.4871794871794872
        ],
        [
         "1088",
         3.3375850340136055
        ],
        [
         "1309",
         3.7083333333333335
        ],
        [
         "1731",
         3.3970588235294117
        ],
        [
         "1748",
         3.4906621392190154
        ],
        [
         "1895",
         4.034883720930233
        ],
        [
         "342",
         3.6910569105691056
        ],
        [
         "454",
         3.218045112781955
        ],
        [
         "472",
         4.022222222222222
        ],
        [
         "681",
         4.2368421052631575
        ],
        [
         "769",
         3.8208955223880596
        ],
        [
         "859",
         3.450980392156863
        ],
        [
         "1072",
         4.0476190476190474
        ],
        [
         "1587",
         3.332129963898917
        ],
        [
         "1650",
         3.647887323943662
        ],
        [
         "1701",
         3.5543478260869565
        ],
        [
         "142",
         3.3404255319148937
        ],
        [
         "960",
         3.9375
        ],
        [
         "1031",
         4.070967741935484
        ],
        [
         "1226",
         3.2857142857142856
        ],
        [
         "1338",
         4.03030303030303
        ],
        [
         "1745",
         3.7142857142857144
        ],
        [
         "1811",
         3.9
        ],
        [
         "1837",
         3.501278772378517
        ],
        [
         "1952",
         3.49003984063745
        ],
        [
         "571",
         3.7054794520547945
        ],
        [
         "588",
         4.057395143487859
        ],
        [
         "668",
         3.5833333333333335
        ],
        [
         "1095",
         4.0
        ],
        [
         "1374",
         3.9223300970873787
        ],
        [
         "1666",
         3.3425692695214106
        ],
        [
         "1801",
         3.9523809523809526
        ],
        [
         "1843",
         3.689075630252101
        ],
        [
         "357",
         3.293103448275862
        ],
        [
         "750",
         4.321428571428571
        ],
        [
         "766",
         3.9361702127659575
        ],
        [
         "1285",
         3.9064685314685317
        ],
        [
         "1474",
         3.7846153846153845
        ],
        [
         "1590",
         4.0
        ],
        [
         "1848",
         3.772727272727273
        ],
        [
         "1862",
         4.4
        ],
        [
         "56",
         3.970149253731343
        ],
        [
         "599",
         3.8518518518518516
        ],
        [
         "1160",
         3.074766355140187
        ],
        [
         "1230",
         3.9367588932806323
        ],
        [
         "1403",
         3.8461538461538463
        ],
        [
         "127",
         3.8448275862068964
        ],
        [
         "485",
         4.044444444444444
        ],
        [
         "713",
         3.446280991735537
        ],
        [
         "776",
         3.766990291262136
        ],
        [
         "1463",
         3.5948275862068964
        ],
        [
         "1690",
         3.5167785234899327
        ],
        [
         "1929",
         3.5555555555555554
        ],
        [
         "36",
         4.199430199430199
        ],
        [
         "211",
         3.857142857142857
        ],
        [
         "295",
         3.764397905759162
        ],
        [
         "397",
         3.8823529411764706
        ],
        [
         "409",
         3.9158249158249157
        ],
        [
         "514",
         4.2025316455696204
        ],
        [
         "763",
         3.730769230769231
        ],
        [
         "768",
         4.4375
        ],
        [
         "1211",
         3.863979848866499
        ],
        [
         "1423",
         4.1875
        ],
        [
         "1600",
         3.431472081218274
        ],
        [
         "1806",
         4.233644859813084
        ],
        [
         "1894",
         4.244186046511628
        ],
        [
         "10",
         4.114713216957606
        ],
        [
         "384",
         3.590909090909091
        ],
        [
         "420",
         4.359375
        ],
        [
         "1009",
         3.826923076923077
        ],
        [
         "1295",
         3.575
        ],
        [
         "1440",
         3.3529411764705883
        ],
        [
         "37",
         3.69811320754717
        ],
        [
         "546",
         3.231818181818182
        ],
        [
         "603",
         3.5238095238095237
        ],
        [
         "1660",
         3.967741935483871
        ],
        [
         "165",
         3.981818181818182
        ],
        [
         "371",
         3.5
        ],
        [
         "386",
         3.3230769230769233
        ],
        [
         "552",
         3.7628865979381443
        ],
        [
         "705",
         3.371212121212121
        ],
        [
         "955",
         3.5798816568047336
        ],
        [
         "1036",
         4.32
        ],
        [
         "1299",
         3.7905982905982905
        ],
        [
         "1328",
         3.552
        ],
        [
         "1392",
         3.403292181069959
        ],
        [
         "1516",
         3.1164383561643834
        ],
        [
         "49",
         3.712962962962963
        ],
        [
         "431",
         3.630952380952381
        ],
        [
         "1521",
         3.263888888888889
        ],
        [
         "1675",
         3.208849557522124
        ],
        [
         "255",
         4.016393442622951
        ],
        [
         "698",
         3.551851851851852
        ],
        [
         "1359",
         3.6458333333333335
        ],
        [
         "1661",
         3.891891891891892
        ],
        [
         "275",
         4.247191011235955
        ],
        [
         "395",
         3.608695652173913
        ],
        [
         "909",
         3.9014084507042255
        ],
        [
         "1003",
         4.137931034482759
        ],
        [
         "1229",
         4.0
        ],
        [
         "1823",
         4.0
        ],
        [
         "222",
         4.0875
        ],
        [
         "253",
         3.9245283018867925
        ],
        [
         "362",
         3.290909090909091
        ],
        [
         "969",
         4.115384615384615
        ],
        [
         "1481",
         4.38
        ],
        [
         "1838",
         3.074074074074074
        ],
        [
         "172",
         3.608695652173913
        ],
        [
         "575",
         3.6564417177914113
        ],
        [
         "732",
         3.4285714285714284
        ],
        [
         "911",
         3.8685714285714288
        ],
        [
         "988",
         3.8493150684931505
        ],
        [
         "1242",
         3.6396103896103895
        ],
        [
         "1258",
         4.261904761904762
        ],
        [
         "1360",
         3.5533980582524274
        ],
        [
         "1401",
         4.017857142857143
        ],
        [
         "63",
         3.4285714285714284
        ],
        [
         "181",
         3.604651162790698
        ],
        [
         "306",
         3.937823834196891
        ],
        [
         "607",
         4.16
        ],
        [
         "1214",
         3.0217391304347827
        ],
        [
         "1284",
         3.4220907297830374
        ],
        [
         "1327",
         3.507042253521127
        ],
        [
         "1658",
         3.419597989949749
        ],
        [
         "65",
         4.347107438016529
        ],
        [
         "225",
         3.4330708661417324
        ],
        [
         "235",
         4.086363636363636
        ],
        [
         "312",
         3.736842105263158
        ],
        [
         "1067",
         3.96875
        ],
        [
         "1086",
         3.8621794871794872
        ],
        [
         "1119",
         3.787341772151899
        ],
        [
         "1240",
         3.066666666666667
        ],
        [
         "1343",
         4.415770609318996
        ],
        [
         "1420",
         3.7311827956989245
        ],
        [
         "1552",
         3.6862745098039214
        ],
        [
         "1677",
         3.558139534883721
        ],
        [
         "1709",
         3.704761904761905
        ],
        [
         "265",
         4.1938775510204085
        ],
        [
         "331",
         3.7654109589041096
        ],
        [
         "498",
         3.6511627906976742
        ],
        [
         "580",
         3.347826086956522
        ],
        [
         "762",
         3.717391304347826
        ],
        [
         "1415",
         3.7150837988826817
        ],
        [
         "1524",
         3.7351778656126484
        ],
        [
         "1736",
         3.235897435897436
        ],
        [
         "1756",
         3.204081632653061
        ],
        [
         "4",
         4.190476190476191
        ],
        [
         "121",
         4.416666666666667
        ],
        [
         "641",
         4.008264462809917
        ],
        [
         "1019",
         3.0107758620689653
        ],
        [
         "1270",
         3.0344827586206895
        ],
        [
         "1325",
         3.9858156028368796
        ],
        [
         "1386",
         3.951219512195122
        ],
        [
         "1573",
         3.689655172413793
        ],
        [
         "1574",
         3.5961538461538463
        ],
        [
         "1751",
         4.428571428571429
        ],
        [
         "39",
         3.564516129032258
        ],
        [
         "252",
         4.016666666666667
        ],
        [
         "426",
         3.7573221757322175
        ],
        [
         "689",
         3.3925925925925924
        ],
        [
         "795",
         3.442953020134228
        ],
        [
         "855",
         3.4126984126984126
        ],
        [
         "882",
         4.0886075949367084
        ],
        [
         "1075",
         4.048780487804878
        ],
        [
         "1115",
         3.1743119266055047
        ],
        [
         "1720",
         4.021739130434782
        ],
        [
         "1743",
         3.968421052631579
        ],
        [
         "1949",
         4.176470588235294
        ],
        [
         "210",
         4.027272727272727
        ],
        [
         "315",
         3.8636363636363638
        ],
        [
         "411",
         3.280314960629921
        ],
        [
         "510",
         3.8282828282828283
        ],
        [
         "784",
         4.066666666666666
        ],
        [
         "871",
         3.9069767441860463
        ],
        [
         "1020",
         3.9886363636363638
        ],
        [
         "1029",
         3.1953125
        ],
        [
         "1176",
         4.142857142857143
        ],
        [
         "1198",
         3.656862745098039
        ],
        [
         "1233",
         3.8852459016393444
        ],
        [
         "1287",
         3.9468085106382977
        ],
        [
         "1458",
         3.9896907216494846
        ],
        [
         "1491",
         3.2490118577075098
        ],
        [
         "1542",
         3.6723549488054608
        ],
        [
         "1614",
         3.3934426229508197
        ],
        [
         "1797",
         4.177142857142857
        ],
        [
         "62",
         3.566265060240964
        ],
        [
         "400",
         3.875
        ],
        [
         "704",
         3.081081081081081
        ],
        [
         "734",
         3.727272727272727
        ],
        [
         "775",
         4.0
        ],
        [
         "883",
         3.4166666666666665
        ],
        [
         "1189",
         3.76
        ],
        [
         "1352",
         3.5759493670886076
        ],
        [
         "1395",
         3.826923076923077
        ],
        [
         "1503",
         3.5073529411764706
        ],
        [
         "12",
         3.8260869565217392
        ],
        [
         "339",
         4.024193548387097
        ],
        [
         "473",
         4.163265306122449
        ],
        [
         "630",
         4.254237288135593
        ],
        [
         "1049",
         3.5833333333333335
        ],
        [
         "1525",
         3.6633663366336635
        ],
        [
         "83",
         3.5757575757575757
        ],
        [
         "417",
         4.045454545454546
        ],
        [
         "557",
         3.8793103448275863
        ],
        [
         "696",
         3.802992518703242
        ],
        [
         "844",
         3.4523809523809526
        ],
        [
         "1094",
         3.6219512195121952
        ],
        [
         "1166",
         3.5
        ],
        [
         "1330",
         4.260869565217392
        ],
        [
         "1545",
         3.1013824884792625
        ],
        [
         "1810",
         3.775
        ],
        [
         "333",
         3.352422907488987
        ],
        [
         "518",
         4.3478260869565215
        ],
        [
         "721",
         3.551051051051051
        ],
        [
         "735",
         3.590330788804071
        ],
        [
         "764",
         4.525179856115108
        ],
        [
         "875",
         4.083333333333333
        ],
        [
         "887",
         3.5104166666666665
        ],
        [
         "1511",
         4.087912087912088
        ],
        [
         "1670",
         4.714285714285714
        ],
        [
         "1687",
         3.5318066157760812
        ],
        [
         "1795",
         4.32
        ],
        [
         "109",
         4.0
        ],
        [
         "123",
         3.401315789473684
        ],
        [
         "215",
         4.5588235294117645
        ],
        [
         "396",
         3.560693641618497
        ],
        [
         "900",
         3.576923076923077
        ],
        [
         "954",
         3.7777777777777777
        ],
        [
         "1103",
         3.533333333333333
        ],
        [
         "1853",
         4.1210191082802545
        ],
        [
         "587",
         3.0077922077922077
        ],
        [
         "690",
         4.311111111111111
        ],
        [
         "1025",
         3.757575757575758
        ],
        [
         "1197",
         4.166666666666667
        ],
        [
         "1417",
         3.413793103448276
        ],
        [
         "1553",
         3.7209302325581395
        ],
        [
         "1694",
         3.741206030150754
        ],
        [
         "1807",
         3.6435643564356437
        ],
        [
         "13",
         3.388888888888889
        ],
        [
         "249",
         3.9454545454545453
        ],
        [
         "445",
         3.3181818181818183
        ],
        [
         "602",
         3.396103896103896
        ],
        [
         "676",
         3.128205128205128
        ],
        [
         "706",
         3.556291390728477
        ],
        [
         "810",
         3.8174603174603177
        ],
        [
         "996",
         3.935810810810811
        ],
        [
         "1026",
         4.0
        ],
        [
         "1118",
         3.6666666666666665
        ],
        [
         "1151",
         3.772727272727273
        ],
        [
         "1246",
         3.56993006993007
        ],
        [
         "1350",
         3.7589285714285716
        ],
        [
         "1588",
         4.170212765957447
        ],
        [
         "1819",
         3.7327586206896552
        ],
        [
         "157",
         3.718969555035129
        ],
        [
         "191",
         3.3333333333333335
        ],
        [
         "260",
         3.311688311688312
        ],
        [
         "1249",
         3.96
        ],
        [
         "1255",
         3.7787234042553193
        ],
        [
         "1273",
         3.9820359281437128
        ],
        [
         "1335",
         3.0749185667752443
        ],
        [
         "14",
         3.32
        ],
        [
         "182",
         3.8313253012048194
        ],
        [
         "831",
         4.105263157894737
        ],
        [
         "939",
         3.757575757575758
        ],
        [
         "1681",
         4.132231404958677
        ],
        [
         "66",
         3.8461538461538463
        ],
        [
         "508",
         3.3221476510067114
        ],
        [
         "651",
         3.6129707112970713
        ],
        [
         "662",
         3.141732283464567
        ],
        [
         "846",
         3.91699604743083
        ],
        [
         "1098",
         4.1875
        ],
        [
         "1121",
         3.9550173010380623
        ],
        [
         "1730",
         3.5
        ],
        [
         "1846",
         4.032786885245901
        ],
        [
         "91",
         4.704545454545454
        ],
        [
         "94",
         3.857142857142857
        ],
        [
         "175",
         3.9810725552050474
        ],
        [
         "760",
         4.265625
        ],
        [
         "771",
         3.769230769230769
        ],
        [
         "1101",
         3.324324324324324
        ],
        [
         "1164",
         3.441048034934498
        ],
        [
         "1704",
         4.194444444444445
        ],
        [
         "72",
         3.697674418604651
        ],
        [
         "74",
         4.046511627906977
        ],
        [
         "137",
         3.611940298507463
        ],
        [
         "469",
         4.326530612244898
        ],
        [
         "583",
         4.040229885057471
        ],
        [
         "767",
         4.023529411764706
        ],
        [
         "1618",
         4.208791208791209
        ],
        [
         "161",
         4.4713804713804715
        ],
        [
         "1517",
         3.609375
        ],
        [
         "1615",
         3.0476190476190474
        ],
        [
         "1850",
         3.844155844155844
        ],
        [
         "1885",
         4.157894736842105
        ],
        [
         "392",
         3.4743326488706368
        ],
        [
         "637",
         3.7559681697612732
        ],
        [
         "677",
         3.892682926829268
        ],
        [
         "758",
         4.0
        ],
        [
         "884",
         4.01010101010101
        ],
        [
         "923",
         3.608695652173913
        ],
        [
         "1073",
         4.146551724137931
        ],
        [
         "1219",
         3.6205357142857144
        ],
        [
         "1634",
         3.5849056603773586
        ],
        [
         "1649",
         3.8421052631578947
        ],
        [
         "1913",
         4.295454545454546
        ],
        [
         "151",
         3.653927813163482
        ],
        [
         "355",
         3.4463007159904535
        ],
        [
         "489",
         3.3333333333333335
        ],
        [
         "661",
         4.647887323943662
        ],
        [
         "1292",
         3.3958333333333335
        ],
        [
         "1800",
         3.615079365079365
        ],
        [
         "1849",
         3.7083333333333335
        ],
        [
         "1873",
         3.48989898989899
        ],
        [
         "321",
         3.2612612612612613
        ],
        [
         "367",
         4.25
        ],
        [
         "487",
         3.34
        ],
        [
         "925",
         3.1323529411764706
        ],
        [
         "1178",
         3.5
        ],
        [
         "1388",
         4.018867924528302
        ],
        [
         "1438",
         3.477272727272727
        ],
        [
         "1699",
         4.313218390804598
        ],
        [
         "353",
         3.9166666666666665
        ],
        [
         "598",
         3.3157894736842106
        ],
        [
         "791",
         3.966463414634146
        ],
        [
         "809",
         4.031914893617022
        ],
        [
         "1055",
         3.448717948717949
        ],
        [
         "1480",
         3.395348837209302
        ],
        [
         "1631",
         3.8423076923076924
        ],
        [
         "1776",
         3.2748815165876777
        ],
        [
         "1855",
         3.144578313253012
        ],
        [
         "262",
         3.330188679245283
        ],
        [
         "499",
         3.9748743718592965
        ],
        [
         "984",
         3.5417867435158503
        ],
        [
         "1047",
         3.8815789473684212
        ],
        [
         "1142",
         3.3726235741444865
        ],
        [
         "1548",
         3.5833333333333335
        ],
        [
         "129",
         4.025316455696203
        ],
        [
         "368",
         3.78125
        ],
        [
         "579",
         3.8550724637681157
        ],
        [
         "1364",
         4.0
        ],
        [
         "1366",
         3.5104895104895104
        ],
        [
         "1546",
         3.754385964912281
        ],
        [
         "1626",
         3.4391143911439115
        ],
        [
         "76",
         4.172413793103448
        ],
        [
         "378",
         3.5128205128205128
        ],
        [
         "529",
         4.19672131147541
        ],
        [
         "608",
         3.1882352941176473
        ],
        [
         "674",
         4.2784810126582276
        ],
        [
         "942",
         4.04
        ],
        [
         "1333",
         3.6965888689407542
        ],
        [
         "1586",
         4.424096385542168
        ],
        [
         "1712",
         3.512720156555773
        ],
        [
         "2",
         3.7131782945736433
        ],
        [
         "196",
         4.0625
        ],
        [
         "278",
         3.9646464646464645
        ],
        [
         "337",
         3.525252525252525
        ],
        [
         "460",
         3.3617021276595747
        ],
        [
         "1002",
         4.136363636363637
        ],
        [
         "1125",
         3.222413793103448
        ],
        [
         "1154",
         3.375
        ],
        [
         "1522",
         3.641025641025641
        ],
        [
         "1781",
         3.4150943396226414
        ],
        [
         "254",
         3.782608695652174
        ],
        [
         "370",
         3.75
        ],
        [
         "765",
         3.574626865671642
        ],
        [
         "828",
         3.4434782608695653
        ],
        [
         "1662",
         3.64
        ],
        [
         "1717",
         3.8160377358490565
        ],
        [
         "1928",
         3.839622641509434
        ],
        [
         "192",
         3.0914285714285716
        ],
        [
         "311",
         4.15
        ],
        [
         "435",
         3.8333333333333335
        ],
        [
         "590",
         4.13855421686747
        ],
        [
         "664",
         4.025316455696203
        ],
        [
         "848",
         4.178571428571429
        ],
        [
         "956",
         3.990740740740741
        ],
        [
         "972",
         3.3714285714285714
        ],
        [
         "1188",
         4.161290322580645
        ],
        [
         "1223",
         3.9246575342465753
        ],
        [
         "1306",
         4.1475054229934925
        ],
        [
         "1493",
         3.75
        ],
        [
         "1537",
         3.763157894736842
        ],
        [
         "1703",
         4.076923076923077
        ],
        [
         "1876",
         3.4545454545454546
        ],
        [
         "80",
         3.8958333333333335
        ],
        [
         "226",
         3.5714285714285716
        ],
        [
         "324",
         3.3289473684210527
        ],
        [
         "340",
         3.5277777777777777
        ],
        [
         "504",
         3.8055555555555554
        ],
        [
         "569",
         3.52
        ],
        [
         "693",
         3.8857142857142857
        ],
        [
         "814",
         4.055555555555555
        ],
        [
         "817",
         4.010050251256281
        ],
        [
         "1380",
         3.316205533596838
        ],
        [
         "1619",
         4.03030303030303
        ],
        [
         "1647",
         3.2301587301587302
        ],
        [
         "301",
         3.8011204481792715
        ],
        [
         "611",
         3.9393939393939394
        ],
        [
         "707",
         3.6153846153846154
        ],
        [
         "717",
         3.1538461538461537
        ],
        [
         "847",
         3.6129032258064515
        ],
        [
         "1362",
         3.4474885844748857
        ],
        [
         "1369",
         3.782178217821782
        ],
        [
         "1373",
         3.810810810810811
        ],
        [
         "1498",
         3.8275862068965516
        ],
        [
         "532",
         3.86046511627907
        ],
        [
         "872",
         3.635514018691589
        ],
        [
         "1218",
         3.4553191489361703
        ],
        [
         "1224",
         4.046712802768166
        ],
        [
         "1310",
         3.75
        ],
        [
         "1324",
         4.037037037037037
        ],
        [
         "1409",
         4.214285714285714
        ],
        [
         "1803",
         3.433098591549296
        ],
        [
         "50",
         3.0697674418604652
        ],
        [
         "330",
         4.0131578947368425
        ],
        [
         "920",
         3.4615384615384617
        ],
        [
         "946",
         4.303030303030303
        ],
        [
         "1156",
         3.5833333333333335
        ],
        [
         "1222",
         3.2205882352941178
        ],
        [
         "1469",
         4.0625
        ],
        [
         "1757",
         3.690909090909091
        ],
        [
         "1840",
         3.9166666666666665
        ],
        [
         "332",
         4.2835820895522385
        ],
        [
         "542",
         3.764705882352941
        ],
        [
         "553",
         4.15625
        ],
        [
         "861",
         3.9375
        ],
        [
         "1532",
         4.095238095238095
        ],
        [
         "1844",
         3.65
        ],
        [
         "1892",
         4.2727272727272725
        ],
        [
         "1933",
         3.466666666666667
        ],
        [
         "216",
         3.2317380352644838
        ],
        [
         "522",
         3.8448275862068964
        ],
        [
         "572",
         3.05
        ],
        [
         "820",
         3.4134615384615383
        ],
        [
         "937",
         3.7327586206896552
        ],
        [
         "990",
         3.549019607843137
        ],
        [
         "1691",
         3.52
        ],
        [
         "1920",
         3.3860232945091515
        ],
        [
         "119",
         3.5428571428571427
        ],
        [
         "898",
         4.083333333333333
        ],
        [
         "1001",
         3.6525198938992043
        ],
        [
         "1389",
         3.812652068126521
        ],
        [
         "1629",
         3.4923076923076923
        ],
        [
         "1779",
         3.295302013422819
        ],
        [
         "438",
         3.528239202657807
        ],
        [
         "699",
         3.0534124629080117
        ],
        [
         "1195",
         3.71875
        ],
        [
         "1251",
         3.3777777777777778
        ],
        [
         "1329",
         3.2853658536585364
        ],
        [
         "1767",
         3.5751633986928106
        ],
        [
         "2069",
         3.9066666666666667
        ],
        [
         "2088",
         3.877551020408163
        ],
        [
         "2136",
         3.91875
        ],
        [
         "2162",
         3.9395604395604398
        ],
        [
         "2294",
         4.112903225806452
        ],
        [
         "2904",
         3.8627450980392157
        ],
        [
         "3210",
         4.5369127516778525
        ],
        [
         "3414",
         4.097643097643098
        ],
        [
         "3606",
         4.114285714285714
        ],
        [
         "2110",
         3.239819004524887
        ],
        [
         "2275",
         3.864864864864865
        ],
        [
         "2393",
         3.889655172413793
        ],
        [
         "2464",
         3.8
        ],
        [
         "2756",
         4.03765690376569
        ],
        [
         "3015",
         3.4285714285714284
        ],
        [
         "3281",
         4.031578947368421
        ],
        [
         "3368",
         3.6391752577319587
        ],
        [
         "3517",
         3.8688524590163933
        ],
        [
         "3650",
         3.5605095541401273
        ],
        [
         "3826",
         3.857142857142857
        ],
        [
         "3858",
         4.277777777777778
        ],
        [
         "2530",
         3.85
        ],
        [
         "2696",
         3.3
        ],
        [
         "2700",
         3.3877551020408165
        ],
        [
         "2725",
         3.6285714285714286
        ],
        [
         "2898",
         3.871559633027523
        ],
        [
         "2917",
         3.5285714285714285
        ],
        [
         "3200",
         3.7861635220125787
        ],
        [
         "3836",
         3.388235294117647
        ],
        [
         "3838",
         3.25
        ],
        [
         "3949",
         3.824324324324324
        ],
        [
         "2034",
         4.216216216216216
        ],
        [
         "2550",
         3.702127659574468
        ],
        [
         "2888",
         3.481382978723404
        ],
        [
         "2895",
         3.7387914230019494
        ],
        [
         "2930",
         3.45
        ],
        [
         "3121",
         3.4686346863468636
        ],
        [
         "3249",
         3.7384615384615385
        ],
        [
         "3266",
         4.357615894039735
        ],
        [
         "3312",
         3.001503759398496
        ],
        [
         "3652",
         3.4290657439446366
        ],
        [
         "2161",
         3.5833333333333335
        ],
        [
         "3057",
         3.472049689440994
        ],
        [
         "3167",
         4.031818181818182
        ],
        [
         "3491",
         3.8170563961485557
        ],
        [
         "3895",
         3.295774647887324
        ],
        [
         "3898",
         3.742574257425743
        ],
        [
         "3902",
         4.890909090909091
        ],
        [
         "1987",
         3.617021276595745
        ],
        [
         "2129",
         3.2717086834733893
        ],
        [
         "2402",
         3.3100189035916823
        ],
        [
         "2477",
         4.475409836065574
        ],
        [
         "2495",
         3.4871794871794872
        ],
        [
         "2644",
         3.857142857142857
        ],
        [
         "2789",
         3.776595744680851
        ],
        [
         "2808",
         4.115107913669065
        ],
        [
         "2915",
         3.763888888888889
        ],
        [
         "3179",
         3.2
        ],
        [
         "3241",
         3.709090909090909
        ],
        [
         "3299",
         4.052980132450331
        ],
        [
         "3553",
         4.085106382978723
        ],
        [
         "3786",
         4.031746031746032
        ],
        [
         "3848",
         4.153846153846154
        ],
        [
         "3875",
         3.717948717948718
        ],
        [
         "2200",
         3.1052631578947367
        ],
        [
         "2249",
         3.9285714285714284
        ],
        [
         "2392",
         4.023255813953488
        ],
        [
         "2531",
         3.806451612903226
        ],
        [
         "2718",
         3.871794871794872
        ],
        [
         "2948",
         4.037735849056604
        ],
        [
         "2964",
         4.541666666666667
        ],
        [
         "2980",
         3.5955882352941178
        ],
        [
         "3250",
         3.2419354838709675
        ],
        [
         "3365",
         4.156521739130435
        ],
        [
         "3408",
         3.7672413793103448
        ],
        [
         "3641",
         3.6371134020618556
        ],
        [
         "3656",
         3.0126582278481013
        ],
        [
         "3891",
         4.16
        ],
        [
         "2144",
         3.287128712871287
        ],
        [
         "2199",
         3.0697674418604652
        ],
        [
         "2341",
         3.280701754385965
        ],
        [
         "2605",
         3.9361702127659575
        ],
        [
         "2628",
         3.334975369458128
        ],
        [
         "2720",
         3.0526315789473686
        ],
        [
         "2729",
         4.478260869565218
        ],
        [
         "2953",
         3.2
        ],
        [
         "3089",
         4.339622641509434
        ],
        [
         "3454",
         3.5027624309392267
        ],
        [
         "3661",
         3.92
        ],
        [
         "3819",
         4.0423728813559325
        ],
        [
         "2016",
         3.990990990990991
        ],
        [
         "2415",
         3.6666666666666665
        ],
        [
         "2436",
         3.5901639344262297
        ],
        [
         "2545",
         4.098039215686274
        ],
        [
         "2812",
         3.603305785123967
        ],
        [
         "2988",
         3.1587301587301586
        ],
        [
         "3145",
         3.72972972972973
        ],
        [
         "3570",
         3.1818181818181817
        ],
        [
         "3863",
         3.76
        ],
        [
         "2079",
         3.46875
        ],
        [
         "2762",
         4.0
        ],
        [
         "2931",
         3.6339285714285716
        ],
        [
         "3140",
         3.9009287925696596
        ],
        [
         "3490",
         3.889344262295082
        ],
        [
         "3581",
         3.235294117647059
        ],
        [
         "3711",
         4.193181818181818
        ],
        [
         "3740",
         4.276595744680851
        ],
        [
         "3781",
         4.483870967741935
        ],
        [
         "2020",
         3.5307855626326963
        ],
        [
         "2115",
         3.8620689655172415
        ],
        [
         "2138",
         3.75
        ],
        [
         "2363",
         4.580645161290323
        ],
        [
         "2431",
         3.5
        ],
        [
         "2951",
         4.230769230769231
        ],
        [
         "2354",
         3.6153846153846154
        ],
        [
         "2683",
         4.36964980544747
        ],
        [
         "2714",
         3.55
        ],
        [
         "3521",
         3.7906976744186047
        ],
        [
         "3578",
         3.3948339483394836
        ],
        [
         "3584",
         3.08955223880597
        ],
        [
         "3742",
         3.712
        ],
        [
         "2407",
         4.059210526315789
        ],
        [
         "2648",
         3.94392523364486
        ],
        [
         "2863",
         3.641025641025641
        ],
        [
         "3187",
         4.333333333333333
        ],
        [
         "3709",
         3.2658610271903323
        ],
        [
         "3764",
         3.925925925925926
        ],
        [
         "2139",
         4.132075471698113
        ],
        [
         "2272",
         3.921259842519685
        ],
        [
         "3019",
         4.148148148148148
        ],
        [
         "3107",
         3.5555555555555554
        ],
        [
         "3378",
         3.578723404255319
        ],
        [
         "3660",
         3.7413793103448274
        ],
        [
         "3728",
         3.875
        ],
        [
         "2058",
         3.3191489361702127
        ],
        [
         "2108",
         4.363636363636363
        ],
        [
         "2201",
         4.3538461538461535
        ],
        [
         "2423",
         4.04
        ],
        [
         "2443",
         3.3846153846153846
        ],
        [
         "2846",
         3.3137254901960786
        ],
        [
         "2989",
         3.742857142857143
        ],
        [
         "3268",
         3.8656716417910446
        ],
        [
         "3399",
         3.5454545454545454
        ],
        [
         "3406",
         4.048780487804878
        ],
        [
         "3546",
         3.392682926829268
        ],
        [
         "3802",
         3.1818181818181817
        ],
        [
         "2587",
         4.032258064516129
        ],
        [
         "2799",
         4.130434782608695
        ],
        [
         "2896",
         3.578125
        ],
        [
         "3074",
         4.302816901408451
        ],
        [
         "3494",
         3.5714285714285716
        ],
        [
         "3550",
         3.5126050420168067
        ],
        [
         "3933",
         3.875
        ],
        [
         "2772",
         3.6741573033707864
        ],
        [
         "2784",
         4.069620253164557
        ],
        [
         "3078",
         4.0625
        ],
        [
         "3207",
         4.141414141414141
        ],
        [
         "3583",
         4.2
        ],
        [
         "3716",
         3.5714285714285716
        ],
        [
         "1972",
         4.409638554216867
        ],
        [
         "2031",
         3.56
        ],
        [
         "2149",
         3.811320754716981
        ],
        [
         "2155",
         4.690140845070423
        ],
        [
         "2224",
         4.2368421052631575
        ],
        [
         "2349",
         3.1025641025641026
        ],
        [
         "2701",
         3.219298245614035
        ],
        [
         "3090",
         3.6451612903225805
        ],
        [
         "3496",
         3.76
        ],
        [
         "3582",
         3.6288659793814433
        ],
        [
         "3646",
         4.139784946236559
        ],
        [
         "3745",
         3.297029702970297
        ],
        [
         "3777",
         3.6293103448275863
        ],
        [
         "3914",
         3.6371681415929205
        ],
        [
         "2090",
         3.7729257641921397
        ],
        [
         "2111",
         3.75
        ],
        [
         "2633",
         3.7567567567567566
        ],
        [
         "2699",
         4.16
        ],
        [
         "2942",
         4.4728682170542635
        ],
        [
         "3337",
         3.7160493827160495
        ],
        [
         "3662",
         3.034090909090909
        ],
        [
         "3952",
         3.896551724137931
        ],
        [
         "2026",
         3.541284403669725
        ],
        [
         "2447",
         4.2105263157894735
        ],
        [
         "2759",
         3.55
        ],
        [
         "2943",
         4.395161290322581
        ],
        [
         "3288",
         3.576923076923077
        ],
        [
         "3346",
         3.7816593886462884
        ],
        [
         "3386",
         3.7094594594594597
        ],
        [
         "3466",
         4.162162162162162
        ],
        [
         "3478",
         3.3783783783783785
        ],
        [
         "3597",
         3.973684210526316
        ],
        [
         "3615",
         3.425287356321839
        ],
        [
         "2085",
         3.661764705882353
        ],
        [
         "2305",
         3.1298701298701297
        ],
        [
         "2578",
         4.142857142857143
        ],
        [
         "2738",
         4.438095238095238
        ],
        [
         "2778",
         4.235849056603773
        ],
        [
         "3072",
         3.380952380952381
        ],
        [
         "3131",
         3.3506493506493507
        ],
        [
         "3529",
         3.0352422907488985
        ],
        [
         "3532",
         3.8596491228070176
        ],
        [
         "3814",
         3.5
        ],
        [
         "3889",
         4.293233082706767
        ],
        [
         "3944",
         3.54
        ],
        [
         "2252",
         3.4782608695652173
        ],
        [
         "2339",
         4.956521739130435
        ],
        [
         "2562",
         3.8596491228070176
        ],
        [
         "2739",
         3.40625
        ],
        [
         "2791",
         4.5625
        ],
        [
         "3058",
         3.696551724137931
        ],
        [
         "3316",
         4.0
        ],
        [
         "3580",
         4.027777777777778
        ],
        [
         "3733",
         3.823529411764706
        ],
        [
         "3794",
         3.0681818181818183
        ],
        [
         "2288",
         3.033644859813084
        ],
        [
         "2329",
         3.375
        ],
        [
         "2842",
         3.6292134831460676
        ],
        [
         "3154",
         3.761904761904762
        ],
        [
         "3559",
         4.391891891891892
        ],
        [
         "3720",
         3.4589371980676327
        ],
        [
         "3833",
         3.6698717948717947
        ],
        [
         "2164",
         3.6602972399150744
        ],
        [
         "2281",
         4.0519480519480515
        ],
        [
         "2353",
         3.6091370558375635
        ],
        [
         "2572",
         4.185430463576159
        ],
        [
         "2669",
         3.747826086956522
        ],
        [
         "3060",
         3.5675675675675675
        ],
        [
         "3468",
         4.015151515151516
        ],
        [
         "1988",
         3.5230524642289347
        ],
        [
         "2100",
         3.707792207792208
        ],
        [
         "2113",
         3.847826086956522
        ],
        [
         "2156",
         3.3968253968253967
        ],
        [
         "2188",
         3.05679012345679
        ],
        [
         "2385",
         3.782608695652174
        ],
        [
         "2654",
         4.08
        ],
        [
         "2889",
         3.81025641025641
        ],
        [
         "2913",
         3.9575757575757575
        ],
        [
         "3087",
         3.919191919191919
        ],
        [
         "3148",
         3.696078431372549
        ],
        [
         "3395",
         3.6964285714285716
        ],
        [
         "3544",
         4.344827586206897
        ],
        [
         "3636",
         3.6956521739130435
        ],
        [
         "3727",
         3.2282608695652173
        ],
        [
         "3927",
         3.9423076923076925
        ],
        [
         "2019",
         3.5588235294117645
        ],
        [
         "2185",
         4.276450511945392
        ],
        [
         "2564",
         3.775
        ],
        [
         "2758",
         4.0
        ],
        [
         "2926",
         3.283625730994152
        ],
        [
         "3098",
         3.369565217391304
        ],
        [
         "3261",
         3.2430426716141003
        ],
        [
         "3507",
         3.2611050920910074
        ],
        [
         "3935",
         3.4226190476190474
        ],
        [
         "2017",
         3.899159663865546
        ],
        [
         "2478",
         3.5505226480836236
        ],
        [
         "2576",
         3.0833333333333335
        ],
        [
         "2708",
         3.081081081081081
        ],
        [
         "2749",
         3.9555555555555557
        ],
        [
         "3379",
         3.717948717948718
        ],
        [
         "3429",
         3.6
        ],
        [
         "3447",
         3.8588235294117648
        ],
        [
         "3452",
         4.458823529411765
        ],
        [
         "3807",
         3.3410041841004183
        ],
        [
         "1977",
         3.626865671641791
        ],
        [
         "2211",
         3.966442953020134
        ],
        [
         "2454",
         3.4152823920265782
        ],
        [
         "2561",
         3.779220779220779
        ],
        [
         "2816",
         3.8181818181818183
        ],
        [
         "2882",
         3.3333333333333335
        ],
        [
         "2975",
         4.19
        ],
        [
         "3063",
         3.6875
        ],
        [
         "3391",
         3.7203947368421053
        ],
        [
         "3577",
         3.730769230769231
        ],
        [
         "3723",
         4.256410256410256
        ],
        [
         "1971",
         4.2727272727272725
        ],
        [
         "2014",
         4.2592592592592595
        ],
        [
         "2309",
         3.514450867052023
        ],
        [
         "2323",
         3.6728624535315983
        ],
        [
         "2380",
         3.3817733990147785
        ],
        [
         "3449",
         4.171875
        ],
        [
         "1984",
         3.5653710247349824
        ],
        [
         "2247",
         3.922178988326848
        ],
        [
         "2504",
         3.558139534883721
        ],
        [
         "2580",
         3.7027027027027026
        ],
        [
         "3095",
         3.896551724137931
        ],
        [
         "3327",
         3.505586592178771
        ],
        [
         "3506",
         4.294117647058823
        ],
        [
         "3541",
         4.228571428571429
        ],
        [
         "2532",
         4.096774193548387
        ],
        [
         "2570",
         3.8125
        ],
        [
         "2630",
         3.5925925925925926
        ],
        [
         "2685",
         3.5969387755102042
        ],
        [
         "3171",
         4.181818181818182
        ],
        [
         "3247",
         3.896551724137931
        ],
        [
         "3358",
         3.8017241379310347
        ],
        [
         "3402",
         3.8424242424242423
        ],
        [
         "3405",
         4.121951219512195
        ],
        [
         "3682",
         4.461538461538462
        ],
        [
         "1982",
         3.425806451612903
        ],
        [
         "2013",
         3.9
        ],
        [
         "2121",
         3.670157068062827
        ],
        [
         "2389",
         3.8461538461538463
        ],
        [
         "2610",
         3.108695652173913
        ],
        [
         "2774",
         3.888086642599278
        ],
        [
         "2967",
         3.455407969639469
        ],
        [
         "3080",
         3.88021778584392
        ],
        [
         "3504",
         3.5233644859813085
        ],
        [
         "3565",
         3.1714285714285713
        ],
        [
         "3630",
         3.298342541436464
        ],
        [
         "3726",
         3.4705882352941178
        ],
        [
         "3801",
         3.8142857142857145
        ],
        [
         "3936",
         4.352941176470588
        ],
        [
         "2231",
         3.6720183486238533
        ],
        [
         "2282",
         4.026595744680851
        ],
        [
         "2752",
         3.2962962962962963
        ],
        [
         "2773",
         4.072289156626506
        ],
        [
         "2814",
         4.047058823529412
        ],
        [
         "2903",
         4.089041095890411
        ],
        [
         "2991",
         3.9655172413793105
        ],
        [
         "3084",
         3.7051282051282053
        ],
        [
         "3105",
         3.9916666666666667
        ],
        [
         "3137",
         3.4313725490196076
        ],
        [
         "3191",
         3.147783251231527
        ],
        [
         "3226",
         4.346774193548387
        ],
        [
         "3512",
         3.584352078239609
        ],
        [
         "3663",
         3.4505494505494507
        ],
        [
         "3770",
         4.003759398496241
        ],
        [
         "3879",
         3.3043478260869565
        ],
        [
         "2862",
         4.023255813953488
        ],
        [
         "2977",
         3.238095238095238
        ],
        [
         "3251",
         4.464285714285714
        ],
        [
         "3315",
         4.021978021978022
        ],
        [
         "3605",
         3.9478260869565216
        ],
        [
         "3649",
         4.254901960784314
        ],
        [
         "3929",
         3.0277777777777777
        ],
        [
         "2263",
         3.707627118644068
        ],
        [
         "2421",
         3.819672131147541
        ],
        [
         "2642",
         3.915492957746479
        ],
        [
         "2671",
         3.217391304347826
        ],
        [
         "3126",
         3.765432098765432
        ],
        [
         "2000",
         3.7857142857142856
        ],
        [
         "2035",
         3.5672514619883042
        ],
        [
         "2303",
         4.1688311688311686
        ],
        [
         "2390",
         3.9473684210526314
        ],
        [
         "2765",
         3.6208530805687205
        ],
        [
         "3106",
         4.161764705882353
        ],
        [
         "3181",
         4.36
        ],
        [
         "3666",
         4.142857142857143
        ],
        [
         "3691",
         3.665562913907285
        ],
        [
         "1965",
         3.125
        ],
        [
         "2056",
         4.09765625
        ],
        [
         "2350",
         3.8620689655172415
        ],
        [
         "2403",
         3.466666666666667
        ],
        [
         "2522",
         3.689189189189189
        ],
        [
         "2588",
         3.8048780487804876
        ],
        [
         "2703",
         3.6847826086956523
        ],
        [
         "3118",
         3.543859649122807
        ],
        [
         "3300",
         3.9640883977900554
        ],
        [
         "3702",
         3.7872340425531914
        ],
        [
         "3747",
         4.03125
        ],
        [
         "3911",
         3.64
        ],
        [
         "2375",
         3.7037037037037037
        ],
        [
         "2596",
         3.7560975609756095
        ],
        [
         "2604",
         3.8970588235294117
        ],
        [
         "2793",
         4.068441064638783
        ],
        [
         "2821",
         3.6333333333333333
        ],
        [
         "2954",
         3.9444444444444446
        ],
        [
         "3054",
         3.5076045627376424
        ],
        [
         "3272",
         3.77511961722488
        ],
        [
         "3314",
         4.002994011976048
        ],
        [
         "3360",
         3.4827586206896552
        ],
        [
         "3773",
         3.4265927977839334
        ],
        [
         "3797",
         3.4814814814814814
        ],
        [
         "2036",
         3.9384615384615387
        ],
        [
         "2253",
         4.096774193548387
        ],
        [
         "2557",
         3.6486486486486487
        ],
        [
         "3551",
         3.9310344827586206
        ],
        [
         "3627",
         3.638888888888889
        ],
        [
         "2131",
         3.370716510903427
        ],
        [
         "2319",
         3.774193548387097
        ],
        [
         "2547",
         4.143884892086331
        ],
        [
         "2676",
         4.170305676855895
        ],
        [
         "3352",
         3.4895833333333335
        ],
        [
         "3572",
         4.2342342342342345
        ],
        [
         "3607",
         3.4423076923076925
        ],
        [
         "3670",
         3.573529411764706
        ],
        [
         "3947",
         4.117647058823529
        ],
        [
         "2396",
         4.083333333333333
        ],
        [
         "2795",
         3.62
        ],
        [
         "2811",
         3.6666666666666665
        ],
        [
         "3003",
         3.9240506329113924
        ],
        [
         "3153",
         3.6136363636363638
        ],
        [
         "3248",
         3.5476190476190474
        ],
        [
         "3446",
         4.472222222222222
        ],
        [
         "2640",
         3.8095238095238093
        ],
        [
         "2776",
         3.802857142857143
        ],
        [
         "2805",
         3.897727272727273
        ],
        [
         "3176",
         3.380952380952381
        ],
        [
         "3524",
         3.5751633986928106
        ],
        [
         "3527",
         3.5641025641025643
        ],
        [
         "3622",
         3.89937106918239
        ],
        [
         "3653",
         4.207207207207207
        ],
        [
         "3672",
         3.3201970443349755
        ],
        [
         "3860",
         3.6491228070175437
        ],
        [
         "3883",
         3.25
        ],
        [
         "2037",
         3.45
        ],
        [
         "2046",
         3.5903614457831323
        ],
        [
         "2094",
         4.056338028169014
        ],
        [
         "2306",
         3.6338028169014085
        ],
        [
         "2755",
         4.434782608695652
        ],
        [
         "3276",
         3.0689655172413794
        ],
        [
         "3310",
         4.121212121212121
        ],
        [
         "3809",
         4.404255319148936
        ],
        [
         "3849",
         3.1492537313432836
        ],
        [
         "2377",
         3.9722222222222223
        ],
        [
         "2693",
         3.8823529411764706
        ],
        [
         "3031",
         3.904
        ],
        [
         "3110",
         3.6033333333333335
        ],
        [
         "3328",
         3.4835164835164836
        ],
        [
         "3373",
         3.5
        ],
        [
         "3665",
         3.8564814814814814
        ],
        [
         "3692",
         3.9859154929577465
        ],
        [
         "3823",
         3.9510268562401265
        ],
        [
         "2521",
         3.888888888888889
        ],
        [
         "2871",
         3.607142857142857
        ],
        [
         "2877",
         3.4782608695652173
        ],
        [
         "3463",
         3.891891891891892
        ],
        [
         "3772",
         3.8541666666666665
        ],
        [
         "3904",
         3.912621359223301
        ],
        [
         "3909",
         3.41025641025641
        ],
        [
         "2028",
         3.6666666666666665
        ],
        [
         "2097",
         3.293103448275862
        ],
        [
         "2573",
         4.010309278350515
        ],
        [
         "2691",
         4.4896265560165975
        ],
        [
         "3044",
         4.016447368421052
        ],
        [
         "3195",
         3.5
        ],
        [
         "3283",
         3.597560975609756
        ],
        [
         "3729",
         3.783295711060948
        ],
        [
         "3741",
         3.611940298507463
        ],
        [
         "3744",
         4.083333333333333
        ],
        [
         "2442",
         3.8620689655172415
        ],
        [
         "3128",
         3.5236593059936907
        ],
        [
         "3161",
         4.140845070422535
        ],
        [
         "3255",
         3.6222222222222222
        ],
        [
         "3307",
         3.6153846153846154
        ],
        [
         "3707",
         3.823529411764706
        ],
        [
         "3837",
         3.770408163265306
        ],
        [
         "3867",
         4.0
        ],
        [
         "2209",
         3.4347826086956523
        ],
        [
         "2210",
         3.689655172413793
        ],
        [
         "2277",
         3.392857142857143
        ],
        [
         "2601",
         3.793103448275862
        ],
        [
         "2979",
         4.0
        ],
        [
         "3347",
         4.4
        ],
        [
         "3350",
         4.326086956521739
        ],
        [
         "3618",
         3.0081845238095237
        ],
        [
         "3619",
         3.6831683168316833
        ],
        [
         "3724",
         3.5283018867924527
        ],
        [
         "3852",
         4.43859649122807
        ],
        [
         "2091",
         4.08843537414966
        ],
        [
         "2638",
         3.103646833013436
        ],
        [
         "2741",
         4.0
        ],
        [
         "3372",
         4.258064516129032
        ],
        [
         "3393",
         3.5430711610486894
        ],
        [
         "3558",
         4.31
        ],
        [
         "3633",
         4.0
        ],
        [
         "3738",
         4.53125
        ],
        [
         "1981",
         3.029850746268657
        ],
        [
         "2048",
         4.142857142857143
        ],
        [
         "2479",
         3.8484848484848486
        ],
        [
         "2856",
         3.5384615384615383
        ],
        [
         "2866",
         3.351219512195122
        ],
        [
         "3068",
         3.761904761904762
        ],
        [
         "3149",
         4.111111111111111
        ],
        [
         "3196",
         3.232786885245902
        ],
        [
         "3296",
         4.375
        ],
        [
         "3600",
         3.725067385444744
        ],
        [
         "3624",
         3.9858757062146895
        ],
        [
         "3811",
         3.8
        ],
        [
         "3855",
         3.712871287128713
        ],
        [
         "3931",
         3.5107296137339055
        ],
        [
         "3946",
         3.734848484848485
        ],
        [
         "2123",
         4.085714285714285
        ],
        [
         "2174",
         3.5842696629213484
        ],
        [
         "2183",
         3.6857142857142855
        ],
        [
         "2336",
         3.9523809523809526
        ],
        [
         "2463",
         3.219047619047619
        ],
        [
         "2626",
         4.045454545454546
        ],
        [
         "2660",
         3.6808510638297873
        ],
        [
         "2731",
         4.271428571428571
        ],
        [
         "2737",
         3.5463659147869673
        ],
        [
         "2779",
         3.935672514619883
        ],
        [
         "2845",
         3.9444444444444446
        ],
        [
         "2947",
         3.713235294117647
        ],
        [
         "3036",
         4.525862068965517
        ],
        [
         "3117",
         4.297297297297297
        ],
        [
         "3172",
         3.5833333333333335
        ],
        [
         "3194",
         3.735294117647059
        ],
        [
         "3748",
         3.71875
        ],
        [
         "2206",
         3.7371794871794872
        ],
        [
         "2337",
         4.181818181818182
        ],
        [
         "2351",
         3.4545454545454546
        ],
        [
         "2646",
         4.130434782608695
        ],
        [
         "2705",
         4.090909090909091
        ],
        [
         "2775",
         4.379310344827586
        ],
        [
         "2841",
         4.170786516853933
        ],
        [
         "2902",
         3.8636363636363638
        ],
        [
         "3676",
         3.633663366336634
        ],
        [
         "2098",
         3.2493297587131367
        ],
        [
         "2118",
         4.505747126436781
        ],
        [
         "2426",
         3.888888888888889
        ],
        [
         "2437",
         3.5952380952380953
        ],
        [
         "2554",
         4.023809523809524
        ],
        [
         "2571",
         4.073529411764706
        ],
        [
         "2603",
         3.883720930232558
        ],
        [
         "2831",
         4.222222222222222
        ],
        [
         "3224",
         3.7928251121076233
        ],
        [
         "3285",
         3.419457735247209
        ],
        [
         "3340",
         3.957983193277311
        ],
        [
         "3892",
         3.3962264150943398
        ],
        [
         "1978",
         3.4675324675324677
        ],
        [
         "2251",
         3.6610169491525424
        ],
        [
         "2258",
         3.446927374301676
        ],
        [
         "2552",
         3.625
        ],
        [
         "3114",
         3.342857142857143
        ],
        [
         "3125",
         3.7288135593220337
        ],
        [
         "3243",
         3.816593886462882
        ],
        [
         "3309",
         3.6457564575645756
        ],
        [
         "3523",
         3.8205128205128207
        ],
        [
         "3876",
         3.5681818181818183
        ],
        [
         "3905",
         3.9135802469135803
        ],
        [
         "1974",
         3.7644787644787643
        ],
        [
         "2099",
         3.5277777777777777
        ],
        [
         "2322",
         3.696969696969697
        ],
        [
         "2448",
         3.8767123287671232
        ],
        [
         "3027",
         4.217391304347826
        ],
        [
         "3134",
         3.623762376237624
        ],
        [
         "3221",
         4.2926829268292686
        ],
        [
         "3338",
         3.975
        ],
        [
         "3444",
         3.1
        ],
        [
         "2077",
         3.2309941520467835
        ],
        [
         "2300",
         3.8846153846153846
        ],
        [
         "2438",
         3.575
        ],
        [
         "2444",
         3.342857142857143
        ],
        [
         "2766",
         4.137254901960785
        ],
        [
         "2798",
         4.064935064935065
        ],
        [
         "2826",
         3.609848484848485
        ],
        [
         "3113",
         3.68
        ],
        [
         "3282",
         4.5
        ],
        [
         "3674",
         3.7472527472527473
        ],
        [
         "3789",
         4.231788079470198
        ],
        [
         "1959",
         4.508196721311475
        ],
        [
         "2002",
         4.1017964071856285
        ],
        [
         "2140",
         3.7864077669902914
        ],
        [
         "2250",
         3.074626865671642
        ],
        [
         "2330",
         3.0083333333333333
        ],
        [
         "2365",
         4.191489361702128
        ],
        [
         "2371",
         3.6790123456790123
        ],
        [
         "2612",
         3.0930232558139537
        ],
        [
         "2734",
         3.87603305785124
        ],
        [
         "2803",
         3.7927927927927927
        ],
        [
         "2835",
         3.8684210526315788
        ],
        [
         "3274",
         3.242424242424242
        ],
        [
         "3321",
         4.0
        ],
        [
         "3595",
         4.0
        ],
        [
         "2357",
         3.9310344827586206
        ],
        [
         "2649",
         3.1488372093023256
        ],
        [
         "2723",
         3.4285714285714284
        ],
        [
         "2935",
         3.4166666666666665
        ],
        [
         "3092",
         4.018867924528302
        ],
        [
         "3213",
         3.6861313868613137
        ],
        [
         "3549",
         3.945945945945946
        ],
        [
         "2009",
         4.037037037037037
        ],
        [
         "2018",
         3.941834451901566
        ],
        [
         "2157",
         3.4864864864864864
        ],
        [
         "2268",
         4.260869565217392
        ],
        [
         "2359",
         3.6271186440677967
        ],
        [
         "2360",
         3.5945945945945947
        ],
        [
         "2555",
         3.6012658227848102
        ],
        [
         "2597",
         3.876923076923077
        ],
        [
         "2892",
         3.6881720430107525
        ],
        [
         "3002",
         4.217687074829932
        ],
        [
         "3052",
         3.2222222222222223
        ],
        [
         "3333",
         3.53125
        ],
        [
         "3339",
         4.0120481927710845
        ],
        [
         "3534",
         4.072727272727272
        ],
        [
         "3790",
         4.264
        ],
        [
         "2308",
         4.253968253968254
        ],
        [
         "2929",
         3.925414364640884
        ],
        [
         "3112",
         3.3896713615023475
        ],
        [
         "3139",
         4.11864406779661
        ],
        [
         "3482",
         3.8028169014084505
        ],
        [
         "3693",
         3.453020134228188
        ],
        [
         "3737",
         3.9
        ],
        [
         "3919",
         4.072463768115942
        ],
        [
         "2334",
         3.7327327327327327
        ],
        [
         "2751",
         3.4269662921348316
        ],
        [
         "2873",
         3.5665236051502145
        ],
        [
         "2957",
         4.453125
        ],
        [
         "2965",
         3.5925925925925926
        ],
        [
         "3712",
         3.5785714285714287
        ],
        [
         "3760",
         3.7753164556962027
        ],
        [
         "1995",
         3.895348837209302
        ],
        [
         "2833",
         3.30188679245283
        ],
        [
         "3451",
         3.870967741935484
        ],
        [
         "3539",
         4.038033395176252
        ],
        [
         "3609",
         3.1586206896551725
        ],
        [
         "3640",
         3.9452054794520546
        ],
        [
         "3913",
         3.658682634730539
        ],
        [
         "2325",
         3.357142857142857
        ],
        [
         "2441",
         4.074074074074074
        ],
        [
         "2631",
         4.269662921348314
        ],
        [
         "2981",
         4.266666666666667
        ],
        [
         "3228",
         3.83974358974359
        ],
        [
         "3351",
         4.0
        ],
        [
         "3437",
         4.5
        ],
        [
         "3511",
         3.878640776699029
        ],
        [
         "3774",
         4.0
        ],
        [
         "3939",
         3.7083333333333335
        ],
        [
         "1964",
         3.6363636363636362
        ],
        [
         "2481",
         3.909090909090909
        ],
        [
         "2616",
         3.58
        ],
        [
         "2794",
         3.832167832167832
        ],
        [
         "2802",
         3.6
        ],
        [
         "3048",
         3.914285714285714
        ],
        [
         "3329",
         3.5072463768115942
        ],
        [
         "3536",
         3.7636363636363637
        ],
        [
         "2221",
         3.5987654320987654
        ],
        [
         "2340",
         4.360902255639098
        ],
        [
         "2668",
         3.4174311926605503
        ],
        [
         "2875",
         4.314285714285714
        ],
        [
         "2900",
         4.033557046979865
        ],
        [
         "2906",
         3.418181818181818
        ],
        [
         "3021",
         3.25
        ],
        [
         "3208",
         3.3229166666666665
        ],
        [
         "3305",
         4.278846153846154
        ],
        [
         "3433",
         3.022727272727273
        ],
        [
         "3625",
         3.282178217821782
        ],
        [
         "3864",
         4.51980198019802
        ],
        [
         "2537",
         3.027075812274368
        ],
        [
         "2690",
         4.217391304347826
        ],
        [
         "2860",
         3.9192913385826773
        ],
        [
         "2974",
         4.290322580645161
        ],
        [
         "3042",
         3.8219178082191783
        ],
        [
         "3377",
         3.982142857142857
        ],
        [
         "3923",
         3.7766990291262137
        ],
        [
         "2187",
         3.72992700729927
        ],
        [
         "2342",
         3.8181818181818183
        ],
        [
         "2637",
         3.4107142857142856
        ],
        [
         "2710",
         3.2
        ],
        [
         "2712",
         3.9411764705882355
        ],
        [
         "3038",
         4.0423728813559325
        ],
        [
         "3436",
         3.799019607843137
        ],
        [
         "3721",
         3.705426356589147
        ],
        [
         "3722",
         3.967741935483871
        ],
        [
         "3930",
         4.262886597938144
        ],
        [
         "2205",
         3.076620825147348
        ],
        [
         "2274",
         3.775
        ],
        [
         "2376",
         3.3684210526315788
        ],
        [
         "2480",
         3.8666666666666667
        ],
        [
         "2673",
         3.75
        ],
        [
         "3197",
         3.323529411764706
        ],
        [
         "3233",
         4.086956521739131
        ],
        [
         "3355",
         3.9393939393939394
        ],
        [
         "3369",
         3.90625
        ],
        [
         "3590",
         4.1645021645021645
        ],
        [
         "2092",
         3.5665294924554183
        ],
        [
         "2473",
         3.8421052631578947
        ],
        [
         "2694",
         4.5
        ],
        [
         "2914",
         4.458333333333333
        ],
        [
         "3115",
         3.4166666666666665
        ],
        [
         "3518",
         3.7908366533864544
        ],
        [
         "3868",
         3.4363636363636365
        ],
        [
         "3912",
         4.475247524752476
        ],
        [
         "2006",
         3.8048780487804876
        ],
        [
         "2933",
         3.782258064516129
        ],
        [
         "2971",
         3.8333333333333335
        ],
        [
         "3000",
         3.2641509433962264
        ],
        [
         "3186",
         3.7837837837837838
        ],
        [
         "3566",
         3.838709677419355
        ],
        [
         "3576",
         3.325323475046211
        ],
        [
         "3882",
         3.7339901477832513
        ],
        [
         "2179",
         3.267123287671233
        ],
        [
         "2335",
         3.7083333333333335
        ],
        [
         "3151",
         4.122093023255814
        ],
        [
         "3170",
         3.904109589041096
        ],
        [
         "2148",
         3.9215686274509802
        ],
        [
         "2611",
         3.347319347319347
        ],
        [
         "2719",
         4.145299145299146
        ],
        [
         "3193",
         3.1473684210526316
        ],
        [
         "3343",
         4.122448979591836
        ],
        [
         "3699",
         4.60655737704918
        ],
        [
         "2062",
         4.1477272727272725
        ],
        [
         "2191",
         3.1842105263157894
        ],
        [
         "2242",
         3.6536144578313254
        ],
        [
         "2459",
         3.747967479674797
        ],
        [
         "2512",
         3.870967741935484
        ],
        [
         "2767",
         3.269230769230769
        ],
        [
         "2839",
         3.3142857142857145
        ],
        [
         "2997",
         4.0119760479041915
        ],
        [
         "2075",
         3.3255813953488373
        ],
        [
         "2127",
         3.2083333333333335
        ],
        [
         "2267",
         3.547169811320755
        ],
        [
         "2280",
         4.105263157894737
        ],
        [
         "2324",
         4.033707865168539
        ],
        [
         "2510",
         4.534883720930233
        ],
        [
         "2538",
         3.88
        ],
        [
         "2591",
         3.8048780487804876
        ],
        [
         "2684",
         3.5251141552511416
        ],
        [
         "2925",
         3.84
        ],
        [
         "3020",
         4.017647058823529
        ],
        [
         "3160",
         4.04
        ],
        [
         "3182",
         3.0782747603833864
        ],
        [
         "3421",
         4.333333333333333
        ],
        [
         "3560",
         4.45985401459854
        ],
        [
         "2086",
         3.7
        ],
        [
         "2940",
         3.5483870967741935
        ],
        [
         "3039",
         4.409836065573771
        ],
        [
         "3669",
         3.194954128440367
        ],
        [
         "3788",
         3.75
        ],
        [
         "3871",
         3.2982456140350878
        ],
        [
         "3903",
         3.3333333333333335
        ],
        [
         "2169",
         3.810810810810811
        ],
        [
         "2745",
         3.8527918781725887
        ],
        [
         "3046",
         3.3376623376623376
        ],
        [
         "3049",
         4.267605633802817
        ],
        [
         "2516",
         3.772727272727273
        ],
        [
         "2666",
         3.872340425531915
        ],
        [
         "2667",
         3.40625
        ],
        [
         "3010",
         3.4380952380952383
        ],
        [
         "3348",
         4.0
        ],
        [
         "3353",
         3.872340425531915
        ],
        [
         "3503",
         4.093877551020408
        ],
        [
         "3758",
         3.14
        ],
        [
         "3926",
         3.9076923076923076
        ],
        [
         "2453",
         3.534181240063593
        ],
        [
         "2695",
         3.984126984126984
        ],
        [
         "3061",
         4.125
        ],
        [
         "3159",
         4.033613445378151
        ],
        [
         "3183",
         3.3513513513513513
        ],
        [
         "3301",
         3.696774193548387
        ],
        [
         "2165",
         4.093333333333334
        ],
        [
         "2575",
         3.7337278106508878
        ],
        [
         "3415",
         4.0120481927710845
        ],
        [
         "3460",
         4.214285714285714
        ],
        [
         "3718",
         3.6282527881040894
        ],
        [
         "1976",
         3.886178861788618
        ],
        [
         "2041",
         3.5485611510791366
        ],
        [
         "2145",
         4.063926940639269
        ],
        [
         "2178",
         4.287356321839081
        ],
        [
         "2599",
         3.6200873362445414
        ],
        [
         "2657",
         4.045454545454546
        ],
        [
         "2747",
         4.302158273381295
        ],
        [
         "2936",
         4.290909090909091
        ],
        [
         "2952",
         4.208333333333333
        ],
        [
         "3202",
         3.4615384615384617
        ],
        [
         "3366",
         3.740740740740741
        ],
        [
         "3420",
         4.3545454545454545
        ],
        [
         "3579",
         3.323420074349442
        ],
        [
         "3757",
         4.263681592039801
        ],
        [
         "2163",
         4.104166666666667
        ],
        [
         "2311",
         4.0
        ],
        [
         "2412",
         3.8333333333333335
        ],
        [
         "2613",
         4.090909090909091
        ],
        [
         "3295",
         3.824324324324324
        ],
        [
         "3409",
         4.204545454545454
        ],
        [
         "3487",
         3.5283018867924527
        ],
        [
         "3563",
         3.843601895734597
        ],
        [
         "3816",
         3.9371069182389937
        ],
        [
         "3877",
         4.409090909090909
        ],
        [
         "2217",
         3.2
        ],
        [
         "2304",
         3.722794959908362
        ],
        [
         "2687",
         4.260869565217392
        ],
        [
         "2787",
         3.971014492753623
        ],
        [
         "2809",
         4.339449541284404
        ],
        [
         "3535",
         3.9655172413793105
        ],
        [
         "3910",
         3.5900383141762453
        ],
        [
         "2213",
         3.641025641025641
        ],
        [
         "2283",
         3.697674418604651
        ],
        [
         "2290",
         3.3393939393939394
        ],
        [
         "2470",
         3.347826086956522
        ],
        [
         "2625",
         3.387323943661972
        ],
        [
         "3599",
         3.4545454545454546
        ],
        [
         "3626",
         3.598830409356725
        ],
        [
         "3850",
         3.8671875
        ],
        [
         "2038",
         3.8204545454545453
        ],
        [
         "2297",
         4.0476190476190474
        ],
        [
         "2844",
         3.287037037037037
        ],
        [
         "2976",
         3.6013986013986012
        ],
        [
         "3330",
         3.8333333333333335
        ],
        [
         "3469",
         3.8845315904139435
        ],
        [
         "3540",
         4.110576923076923
        ],
        [
         "3585",
         3.6946564885496183
        ],
        [
         "3608",
         3.7549019607843137
        ],
        [
         "3713",
         3.7450980392156863
        ],
        [
         "2168",
         3.9424657534246577
        ],
        [
         "2278",
         3.417910447761194
        ],
        [
         "2449",
         3.8076923076923075
        ],
        [
         "2498",
         3.168831168831169
        ],
        [
         "2768",
         4.0375
        ],
        [
         "2832",
         4.0
        ],
        [
         "2956",
         3.4814814814814814
        ],
        [
         "3278",
         3.869565217391304
        ],
        [
         "1967",
         3.5416666666666665
        ],
        [
         "2072",
         4.0
        ],
        [
         "2321",
         3.8018018018018016
        ],
        [
         "2355",
         3.5602836879432624
        ],
        [
         "2465",
         4.306382978723405
        ],
        [
         "2475",
         4.054054054054054
        ],
        [
         "2661",
         3.6122448979591835
        ],
        [
         "2958",
         3.0232558139534884
        ],
        [
         "3138",
         3.3443396226415096
        ],
        [
         "3174",
         3.6436781609195403
        ],
        [
         "3459",
         3.793103448275862
        ],
        [
         "3739",
         3.5454545454545454
        ],
        [
         "2049",
         4.114285714285714
        ],
        [
         "2051",
         3.432314410480349
        ],
        [
         "2485",
         3.6707317073170733
        ],
        [
         "2500",
         3.6357142857142857
        ],
        [
         "2566",
         3.3636363636363638
        ],
        [
         "2817",
         4.2073170731707314
        ],
        [
         "2859",
         4.195488721804511
        ],
        [
         "2864",
         3.3076923076923075
        ],
        [
         "3246",
         3.310344827586207
        ],
        [
         "3917",
         3.6530612244897958
        ],
        [
         "2374",
         4.113207547169812
        ],
        [
         "2502",
         3.9047619047619047
        ],
        [
         "2635",
         3.440677966101695
        ],
        [
         "2782",
         3.6666666666666665
        ],
        [
         "3323",
         3.8412698412698414
        ],
        [
         "3623",
         3.6818181818181817
        ],
        [
         "3828",
         3.9285714285714284
        ],
        [
         "3896",
         3.141891891891892
        ],
        [
         "3921",
         3.9305555555555554
        ],
        [
         "3951",
         3.5969387755102042
        ],
        [
         "2060",
         3.1187739463601534
        ],
        [
         "2373",
         4.095238095238095
        ],
        [
         "3047",
         3.642857142857143
        ],
        [
         "3157",
         3.559748427672956
        ],
        [
         "3287",
         4.583333333333333
        ],
        [
         "3780",
         4.24
        ],
        [
         "2287",
         4.444444444444445
        ],
        [
         "2293",
         4.321554770318021
        ],
        [
         "2519",
         3.9361702127659575
        ],
        [
         "2520",
         4.104166666666667
        ],
        [
         "2810",
         3.4688279301745637
        ],
        [
         "2899",
         3.9529411764705884
        ],
        [
         "3237",
         3.8846153846153846
        ],
        [
         "3945",
         3.4237288135593222
        ],
        [
         "2198",
         3.6417910447761193
        ],
        [
         "2269",
         3.36
        ],
        [
         "2348",
         3.150485436893204
        ],
        [
         "2491",
         3.0350877192982457
        ],
        [
         "2735",
         3.4166666666666665
        ],
        [
         "2927",
         3.7903225806451615
        ],
        [
         "3667",
         3.9272727272727272
        ],
        [
         "3915",
         3.652173913043478
        ],
        [
         "2004",
         3.7247706422018347
        ],
        [
         "2204",
         3.515151515151515
        ],
        [
         "2237",
         3.916289592760181
        ],
        [
         "2582",
         4.0
        ],
        [
         "2869",
         3.727272727272727
        ],
        [
         "2982",
         3.6363636363636362
        ],
        [
         "3659",
         4.21875
        ],
        [
         "3746",
         3.793103448275862
        ],
        [
         "2105",
         3.2224371373307545
        ],
        [
         "2688",
         3.466666666666667
        ],
        [
         "2770",
         4.1063829787234045
        ],
        [
         "3220",
         3.7777777777777777
        ],
        [
         "3370",
         3.3636363636363638
        ],
        [
         "3390",
         4.187192118226601
        ],
        [
         "3453",
         3.37123745819398
        ],
        [
         "1989",
         3.3333333333333335
        ],
        [
         "2011",
         3.838056680161943
        ],
        [
         "2080",
         4.28125
        ],
        [
         "2107",
         4.068965517241379
        ],
        [
         "2243",
         4.683333333333334
        ],
        [
         "2493",
         3.5348837209302326
        ],
        [
         "2540",
         3.968609865470852
        ],
        [
         "2627",
         3.243298969072165
        ],
        [
         "2825",
         3.9592760180995477
        ],
        [
         "3032",
         4.278704612365064
        ],
        [
         "3035",
         3.8125
        ],
        [
         "3485",
         4.25
        ],
        [
         "3568",
         3.9411764705882355
        ],
        [
         "3940",
         3.680894308943089
        ],
        [
         "2422",
         4.142857142857143
        ],
        [
         "2579",
         4.161764705882353
        ],
        [
         "2851",
         3.5757575757575757
        ],
        [
         "3008",
         3.823529411764706
        ],
        [
         "3177",
         4.180327868852459
        ],
        [
         "2044",
         4.12
        ],
        [
         "2116",
         3.5550978372811533
        ],
        [
         "2467",
         4.409090909090909
        ],
        [
         "2581",
         4.052109181141439
        ],
        [
         "2728",
         3.3582089552238807
        ],
        [
         "3022",
         3.006666666666667
        ],
        [
         "3081",
         4.0390625
        ],
        [
         "3164",
         3.5
        ],
        [
         "3465",
         3.8135593220338984
        ],
        [
         "3791",
         3.388888888888889
        ],
        [
         "3881",
         3.5925925925925926
        ],
        [
         "3894",
         3.761006289308176
        ],
        [
         "1961",
         3.550561797752809
        ],
        [
         "2160",
         3.95
        ],
        [
         "2391",
         3.6901408450704225
        ],
        [
         "3082",
         3.372972972972973
        ],
        [
         "3294",
         4.11340206185567
        ],
        [
         "3655",
         3.78125
        ],
        [
         "3761",
         4.187134502923977
        ],
        [
         "1966",
         4.363636363636363
        ],
        [
         "2468",
         4.208
        ],
        [
         "2994",
         3.2572944297082227
        ],
        [
         "3056",
         3.653992395437262
        ],
        [
         "3658",
         3.981203007518797
        ],
        [
         "2022",
         3.829896907216495
        ],
        [
         "2066",
         4.068965517241379
        ],
        [
         "2257",
         3.5428571428571427
        ],
        [
         "2428",
         3.674698795180723
        ],
        [
         "3361",
         3.8447204968944098
        ],
        [
         "3473",
         3.993710691823899
        ],
        [
         "3769",
         4.290243902439024
        ],
        [
         "3907",
         3.576923076923077
        ],
        [
         "3924",
         3.935064935064935
        ],
        [
         "2152",
         3.652173913043478
        ],
        [
         "2328",
         3.292682926829268
        ],
        [
         "2435",
         3.752136752136752
        ],
        [
         "2507",
         3.9441210710128054
        ],
        [
         "2629",
         4.011029411764706
        ],
        [
         "3053",
         3.25
        ],
        [
         "3079",
         3.883720930232558
        ],
        [
         "3240",
         3.3701298701298703
        ],
        [
         "3495",
         3.2857142857142856
        ],
        [
         "3763",
         3.8857142857142857
        ],
        [
         "3880",
         3.473684210526316
        ],
        [
         "3899",
         3.576923076923077
        ],
        [
         "2008",
         3.937853107344633
        ],
        [
         "2484",
         3.3692870201096894
        ],
        [
         "2584",
         3.7
        ],
        [
         "2636",
         3.7936507936507935
        ],
        [
         "2658",
         3.903225806451613
        ],
        [
         "3335",
         4.074074074074074
        ],
        [
         "3874",
         3.9217391304347826
        ],
        [
         "3901",
         3.546666666666667
        ],
        [
         "2233",
         3.3381642512077296
        ],
        [
         "2246",
         3.6744186046511627
        ],
        [
         "2344",
         3.4414893617021276
        ],
        [
         "2369",
         4.448275862068965
        ],
        [
         "2410",
         3.6228070175438596
        ],
        [
         "2497",
         4.5041322314049586
        ],
        [
         "2867",
         4.25
        ],
        [
         "3185",
         3.988888888888889
        ],
        [
         "3262",
         3.3626373626373627
        ],
        [
         "3273",
         4.1
        ],
        [
         "3438",
         3.55
        ],
        [
         "3456",
         4.418181818181818
        ],
        [
         "3498",
         3.7606837606837606
        ],
        [
         "3538",
         3.773006134969325
        ],
        [
         "2122",
         3.6201923076923075
        ],
        [
         "3094",
         3.658536585365854
        ],
        [
         "3497",
         4.184782608695652
        ],
        [
         "3508",
         3.6944444444444446
        ],
        [
         "3925",
         3.9722222222222223
        ],
        [
         "3943",
         4.2153846153846155
        ],
        [
         "2245",
         3.0980392156862746
        ],
        [
         "2416",
         3.702127659574468
        ],
        [
         "2482",
         3.5
        ],
        [
         "3018",
         3.7
        ],
        [
         "3083",
         3.8484848484848486
        ],
        [
         "3103",
         4.128205128205129
        ],
        [
         "3141",
         4.114754098360656
        ],
        [
         "3144",
         3.6857142857142855
        ],
        [
         "3480",
         3.7872340425531914
        ],
        [
         "3734",
         3.08
        ],
        [
         "3832",
         4.111111111111111
        ],
        [
         "2143",
         3.125
        ],
        [
         "2362",
         3.7346938775510203
        ],
        [
         "2370",
         4.092105263157895
        ],
        [
         "2593",
         4.536764705882353
        ],
        [
         "2665",
         3.072463768115942
        ],
        [
         "2672",
         3.6296296296296298
        ],
        [
         "3004",
         3.85
        ],
        [
         "3109",
         3.526315789473684
        ],
        [
         "3322",
         4.270833333333333
        ],
        [
         "3410",
         3.217510259917921
        ],
        [
         "3861",
         3.975609756097561
        ],
        [
         "2084",
         3.9483870967741934
        ],
        [
         "2202",
         3.2816901408450705
        ],
        [
         "2679",
         3.783625730994152
        ],
        [
         "2910",
         3.5594405594405596
        ],
        [
         "3122",
         3.111111111111111
        ],
        [
         "3375",
         3.740740740740741
        ],
        [
         "3431",
         3.806451612903226
        ],
        [
         "3743",
         3.5625
        ],
        [
         "3756",
         3.8743961352657004
        ],
        [
         "3818",
         4.1063829787234045
        ],
        [
         "2395",
         3.7232142857142856
        ],
        [
         "2716",
         3.75
        ],
        [
         "2726",
         4.595238095238095
        ],
        [
         "3097",
         3.634920634920635
        ],
        [
         "3304",
         4.1647058823529415
        ],
        [
         "2215",
         3.272727272727273
        ],
        [
         "2513",
         4.075757575757576
        ],
        [
         "2806",
         3.3037974683544302
        ],
        [
         "3204",
         4.395833333333333
        ],
        [
         "3471",
         3.1650485436893203
        ],
        [
         "3628",
         3.5161290322580645
        ],
        [
         "3766",
         3.0483870967741935
        ],
        [
         "3817",
         3.452830188679245
        ],
        [
         "2223",
         3.0890151515151514
        ],
        [
         "2506",
         3.354581673306773
        ],
        [
         "2619",
         4.236559139784946
        ],
        [
         "2674",
         4.142857142857143
        ],
        [
         "2692",
         3.8208955223880596
        ],
        [
         "2824",
         3.9274193548387095
        ],
        [
         "2955",
         3.2408376963350785
        ],
        [
         "2992",
         3.302325581395349
        ],
        [
         "3147",
         3.4834123222748814
        ],
        [
         "3238",
         4.46875
        ],
        [
         "3520",
         3.709342560553633
        ],
        [
         "3681",
         3.874251497005988
        ],
        [
         "1999",
         3.8160919540229883
        ],
        [
         "2256",
         4.0
        ],
        [
         "2346",
         3.652173913043478
        ],
        [
         "2890",
         3.5390070921985815
        ],
        [
         "3417",
         3.869565217391304
        ],
        [
         "3530",
         3.75
        ],
        [
         "3555",
         3.108527131782946
        ],
        [
         "1963",
         4.180722891566265
        ],
        [
         "2190",
         3.8923076923076922
        ],
        [
         "2261",
         3.396694214876033
        ],
        [
         "2788",
         4.419354838709677
        ],
        [
         "2998",
         3.5
        ],
        [
         "3001",
         3.9935275080906147
        ],
        [
         "3256",
         4.068965517241379
        ],
        [
         "3397",
         4.068965517241379
        ],
        [
         "3398",
         3.6
        ],
        [
         "3870",
         3.8461538461538463
        ],
        [
         "1994",
         4.103448275862069
        ],
        [
         "2025",
         3.680672268907563
        ],
        [
         "2134",
         3.593220338983051
        ],
        [
         "2151",
         3.1842105263157894
        ],
        [
         "2177",
         3.6206896551724137
        ],
        [
         "2181",
         3.33224043715847
        ],
        [
         "2400",
         3.339622641509434
        ],
        [
         "2460",
         4.117647058823529
        ],
        [
         "2488",
         4.2
        ],
        [
         "2533",
         3.9236641221374047
        ],
        [
         "2819",
         3.9
        ],
        [
         "3334",
         3.89
        ],
        [
         "3493",
         3.576687116564417
        ],
        [
         "3519",
         3.045045045045045
        ],
        [
         "3545",
         3.4285714285714284
        ],
        [
         "3165",
         3.7
        ],
        [
         "3222",
         3.7
        ],
        [
         "3643",
         3.4909090909090907
        ],
        [
         "3755",
         4.472222222222222
        ],
        [
         "2356",
         3.625
        ],
        [
         "2523",
         4.007692307692308
        ],
        [
         "2922",
         4.535211267605634
        ],
        [
         "3270",
         3.6639344262295084
        ],
        [
         "3318",
         4.242857142857143
        ],
        [
         "3332",
         3.127450980392157
        ],
        [
         "3593",
         3.390625
        ],
        [
         "3840",
         4.088235294117647
        ],
        [
         "3846",
         3.9571428571428573
        ],
        [
         "3887",
         3.3448275862068964
        ],
        [
         "2176",
         4.217877094972067
        ],
        [
         "2254",
         3.9642857142857144
        ],
        [
         "2643",
         3.398678414096916
        ],
        [
         "3050",
         3.65625
        ],
        [
         "3142",
         4.074468085106383
        ],
        [
         "3382",
         3.392857142857143
        ],
        [
         "3701",
         3.75
        ],
        [
         "3928",
         3.1785714285714284
        ],
        [
         "1997",
         4.075
        ],
        [
         "2236",
         3.694736842105263
        ],
        [
         "2326",
         3.892857142857143
        ],
        [
         "2650",
         3.7346938775510203
        ],
        [
         "2884",
         4.2
        ],
        [
         "3034",
         3.9285714285714284
        ],
        [
         "3156",
         3.40625
        ],
        [
         "3158",
         3.918918918918919
        ],
        [
         "3184",
         3.8285714285714287
        ],
        [
         "3190",
         3.9444444444444446
        ],
        [
         "3258",
         3.85
        ],
        [
         "3344",
         4.392857142857143
        ],
        [
         "3500",
         3.7419354838709675
        ],
        [
         "3617",
         3.617021276595745
        ],
        [
         "3704",
         4.442922374429224
        ],
        [
         "2073",
         3.696124031007752
        ],
        [
         "2119",
         3.539325842696629
        ],
        [
         "2279",
         3.638095238095238
        ],
        [
         "2586",
         4.122448979591836
        ],
        [
         "2623",
         3.759259259259259
        ],
        [
         "2675",
         3.3181818181818183
        ],
        [
         "2715",
         3.3333333333333335
        ],
        [
         "2872",
         3.7423167848699763
        ],
        [
         "3654",
         3.3085106382978724
        ],
        [
         "3872",
         4.479166666666667
        ],
        [
         "1973",
         3.8421052631578947
        ],
        [
         "2511",
         4.206896551724138
        ],
        [
         "2609",
         4.306930693069307
        ],
        [
         "2653",
         3.6206896551724137
        ],
        [
         "2670",
         3.5531914893617023
        ],
        [
         "2834",
         4.181818181818182
        ],
        [
         "3135",
         4.097560975609756
        ],
        [
         "3531",
         4.233766233766234
        ],
        [
         "3678",
         3.2014388489208634
        ],
        [
         "2175",
         4.136094674556213
        ],
        [
         "2259",
         4.471615720524017
        ],
        [
         "2413",
         3.3333333333333335
        ],
        [
         "2574",
         4.606060606060606
        ],
        [
         "2608",
         4.008771929824562
        ],
        [
         "2632",
         3.5853658536585367
        ],
        [
         "2908",
         3.761904761904762
        ],
        [
         "2918",
         3.6098191214470283
        ],
        [
         "3065",
         3.7943262411347516
        ],
        [
         "3099",
         3.2830188679245285
        ],
        [
         "3192",
         4.3
        ],
        [
         "3668",
         3.973684210526316
        ],
        [
         "3873",
         3.7012987012987013
        ],
        [
         "2007",
         3.9
        ],
        [
         "2457",
         3.1703406813627253
        ],
        [
         "2594",
         3.106382978723404
        ],
        [
         "2641",
         4.09748427672956
        ],
        [
         "2645",
         3.400709219858156
        ],
        [
         "2743",
         3.569476082004556
        ],
        [
         "2987",
         3.6481481481481484
        ],
        [
         "3009",
         4.0
        ],
        [
         "3085",
         4.170731707317073
        ],
        [
         "3217",
         3.862857142857143
        ],
        [
         "3736",
         3.568
        ],
        [
         "3813",
         4.447761194029851
        ],
        [
         "3900",
         3.5941320293398533
        ],
        [
         "2240",
         4.282828282828283
        ],
        [
         "2589",
         3.5235849056603774
        ],
        [
         "2761",
         3.515527950310559
        ],
        [
         "3232",
         3.0625
        ],
        [
         "3253",
         3.856287425149701
        ],
        [
         "3751",
         3.3931203931203933
        ],
        [
         "3851",
         3.116279069767442
        ],
        [
         "3918",
         3.3076923076923075
        ],
        [
         "1996",
         3.994350282485876
        ],
        [
         "2050",
         3.896153846153846
        ],
        [
         "2212",
         3.16
        ],
        [
         "2501",
         3.9058823529411764
        ],
        [
         "2919",
         3.769230769230769
        ],
        [
         "3349",
         3.6853146853146854
        ],
        [
         "3472",
         4.04
        ],
        [
         "3475",
         3.017684887459807
        ],
        [
         "3542",
         3.1818181818181817
        ],
        [
         "3616",
         3.857142857142857
        ],
        [
         "3815",
         4.333333333333333
        ],
        [
         "3859",
         3.414239482200647
        ],
        [
         "1983",
         4.142857142857143
        ],
        [
         "2289",
         4.054054054054054
        ],
        [
         "2384",
         4.096774193548387
        ],
        [
         "2405",
         3.864406779661017
        ],
        [
         "2425",
         3.6206896551724137
        ],
        [
         "2452",
         4.096153846153846
        ],
        [
         "2577",
         3.1538461538461537
        ],
        [
         "2614",
         4.133333333333334
        ],
        [
         "2985",
         3.532608695652174
        ],
        [
         "3359",
         3.4767441860465116
        ],
        [
         "3612",
         3.6651162790697676
        ],
        [
         "3657",
         4.157894736842105
        ],
        [
         "3799",
         3.9921875
        ],
        [
         "2897",
         3.623931623931624
        ],
        [
         "2986",
         3.433333333333333
        ],
        [
         "3257",
         4.2592592592592595
        ],
        [
         "3564",
         3.25
        ],
        [
         "3906",
         3.65625
        ],
        [
         "2074",
         3.4722222222222223
        ],
        [
         "2266",
         4.0495049504950495
        ],
        [
         "2560",
         4.125
        ],
        [
         "3557",
         3.864795918367347
        ],
        [
         "3827",
         3.747311827956989
        ],
        [
         "2553",
         4.130434782608695
        ],
        [
         "2680",
         3.2850467289719627
        ],
        [
         "2736",
         3.702970297029703
        ],
        [
         "2861",
         3.369565217391304
        ],
        [
         "2944",
         4.218390804597701
        ],
        [
         "3017",
         3.2845303867403315
        ],
        [
         "3169",
         3.7674418604651163
        ],
        [
         "3306",
         4.666666666666667
        ],
        [
         "3319",
         3.4390243902439024
        ],
        [
         "3533",
         3.5543478260869565
        ],
        [
         "3673",
         3.8962264150943398
        ],
        [
         "3735",
         3.6411960132890364
        ],
        [
         "2082",
         4.338028169014085
        ],
        [
         "2225",
         3.338345864661654
        ],
        [
         "1969",
         3.816247582205029
        ],
        [
         "2023",
         3.923076923076923
        ],
        [
         "2836",
         3.3636363636363638
        ],
        [
         "3455",
         4.043478260869565
        ],
        [
         "3857",
         3.925925925925926
        ],
        [
         "2170",
         4.23015873015873
        ],
        [
         "2386",
         3.6338028169014085
        ],
        [
         "2433",
         3.6470588235294117
        ],
        [
         "2446",
         3.869358669833729
        ],
        [
         "2489",
         3.397984886649874
        ],
        [
         "2606",
         4.22
        ],
        [
         "2681",
         3.632286995515695
        ],
        [
         "2804",
         3.888888888888889
        ],
        [
         "2885",
         4.09375
        ],
        [
         "3059",
         4.0
        ],
        [
         "3188",
         4.238095238095238
        ],
        [
         "3230",
         3.912751677852349
        ],
        [
         "3367",
         4.261971830985916
        ],
        [
         "3381",
         3.4827586206896552
        ],
        [
         "3394",
         3.892638036809816
        ],
        [
         "3574",
         3.636871508379888
        ],
        [
         "3717",
         3.769230769230769
        ],
        [
         "2083",
         4.35
        ],
        [
         "3269",
         3.855421686746988
        ],
        [
         "3835",
         4.472527472527473
        ],
        [
         "3862",
         3.878787878787879
        ],
        [
         "1980",
         3.4825396825396826
        ],
        [
         "2302",
         3.5979899497487438
        ],
        [
         "2624",
         4.147058823529412
        ],
        [
         "3062",
         3.296875
        ],
        [
         "3362",
         3.5584415584415585
        ],
        [
         "3792",
         3.5761266747868454
        ],
        [
         "3820",
         4.4222222222222225
        ],
        [
         "2133",
         3.25
        ],
        [
         "2141",
         4.2
        ],
        [
         "2450",
         3.3333333333333335
        ],
        [
         "2541",
         3.31640625
        ],
        [
         "2592",
         3.6334841628959276
        ],
        [
         "2837",
         3.302127659574468
        ],
        [
         "2932",
         3.9285714285714284
        ],
        [
         "3229",
         3.4030612244897958
        ],
        [
         "2070",
         4.413461538461538
        ],
        [
         "2125",
         3.873362445414847
        ],
        [
         "2186",
         3.441780821917808
        ],
        [
         "2265",
         3.6422413793103448
        ],
        [
         "2383",
         3.5285087719298245
        ],
        [
         "2984",
         3.6666666666666665
        ],
        [
         "3119",
         3.3777777777777778
        ],
        [
         "3320",
         3.1270125223613596
        ],
        [
         "3525",
         3.477777777777778
        ],
        [
         "3795",
         4.137931034482759
        ],
        [
         "3834",
         4.254448398576512
        ],
        [
         "3856",
         3.9361702127659575
        ],
        [
         "3897",
         4.095238095238095
        ],
        [
         "2858",
         3.9452054794520546
        ],
        [
         "3028",
         3.743362831858407
        ],
        [
         "3101",
         4.148148148148148
        ],
        [
         "3234",
         3.857142857142857
        ],
        [
         "3392",
         3.8
        ],
        [
         "3822",
         3.4239130434782608
        ],
        [
         "2032",
         3.6825396825396823
        ],
        [
         "2053",
         3.4
        ],
        [
         "2244",
         3.400932400932401
        ],
        [
         "2445",
         3.5368852459016393
        ],
        [
         "2544",
         3.689986282578875
        ],
        [
         "2876",
         3.731578947368421
        ],
        [
         "2879",
         3.96
        ],
        [
         "2968",
         3.788235294117647
        ],
        [
         "3025",
         4.108108108108108
        ],
        [
         "3225",
         3.6666666666666665
        ],
        [
         "3435",
         3.8253968253968256
        ],
        [
         "3697",
         4.029411764705882
        ],
        [
         "3812",
         3.526315789473684
        ],
        [
         "2358",
         3.857142857142857
        ],
        [
         "2528",
         3.2419354838709675
        ],
        [
         "2529",
         3.6933497536945814
        ],
        [
         "3235",
         4.108108108108108
        ],
        [
         "3289",
         3.84
        ],
        [
         "3374",
         3.9326923076923075
        ],
        [
         "3502",
         4.393939393939394
        ],
        [
         "3505",
         3.62
        ],
        [
         "2222",
         3.506849315068493
        ],
        [
         "2617",
         3.5853658536585367
        ],
        [
         "2664",
         3.449591280653951
        ],
        [
         "2945",
         3.838235294117647
        ],
        [
         "3016",
         3.8292682926829267
        ],
        [
         "3127",
         4.121951219512195
        ],
        [
         "3407",
         3.5
        ],
        [
         "2238",
         3.75
        ],
        [
         "2865",
         3.7282608695652173
        ],
        [
         "3123",
         3.5612903225806454
        ],
        [
         "3201",
         4.082959641255606
        ],
        [
         "3426",
         3.975
        ],
        [
         "3634",
         3.0869565217391304
        ],
        [
         "3841",
         3.3445723684210527
        ],
        [
         "2401",
         4.36
        ],
        [
         "2418",
         3.087719298245614
        ],
        [
         "2546",
         3.3220338983050848
        ],
        [
         "2724",
         3.8097560975609754
        ],
        [
         "3041",
         3.481132075471698
        ],
        [
         "3071",
         3.076923076923077
        ],
        [
         "3150",
         3.883116883116883
        ],
        [
         "3231",
         4.124183006535947
        ],
        [
         "3308",
         3.189265536723164
        ],
        [
         "3364",
         3.625
        ],
        [
         "1960",
         3.8651162790697673
        ],
        [
         "2147",
         3.5833333333333335
        ],
        [
         "2184",
         4.233333333333333
        ],
        [
         "3486",
         4.082474226804123
        ],
        [
         "3703",
         3.3
        ],
        [
         "2101",
         3.3047619047619046
        ],
        [
         "2172",
         3.059866962305987
        ],
        [
         "2881",
         3.8160919540229883
        ],
        [
         "2959",
         3.9726027397260273
        ],
        [
         "3088",
         4.02
        ],
        [
         "2071",
         3.407563025210084
        ],
        [
         "2434",
         3.625
        ],
        [
         "2526",
         3.88212927756654
        ],
        [
         "2549",
         3.0869565217391304
        ],
        [
         "2753",
         3.784158415841584
        ],
        [
         "3064",
         4.204545454545454
        ],
        [
         "3356",
         4.401673640167364
        ],
        [
         "3400",
         4.059633027522936
        ],
        [
         "3430",
         3.41871921182266
        ],
        [
         "3783",
         3.875
        ],
        [
         "3830",
         4.051470588235294
        ],
        [
         "2260",
         3.64
        ],
        [
         "2333",
         3.7096774193548385
        ],
        [
         "2417",
         4.448275862068965
        ],
        [
         "2419",
         3.327651515151515
        ],
        [
         "2565",
         3.723333333333333
        ],
        [
         "2663",
         3.6858974358974357
        ],
        [
         "3011",
         4.315217391304348
        ],
        [
         "3030",
         3.769230769230769
        ],
        [
         "3066",
         3.933333333333333
        ],
        [
         "3275",
         3.4761904761904763
        ],
        [
         "3317",
         3.9727272727272727
        ],
        [
         "3383",
         3.607843137254902
        ],
        [
         "3671",
         4.201923076923077
        ],
        [
         "3706",
         4.115384615384615
        ],
        [
         "3759",
         4.009708737864078
        ],
        [
         "3831",
         3.401639344262295
        ],
        [
         "2327",
         3.3389830508474576
        ],
        [
         "2887",
         3.52027027027027
        ],
        [
         "3029",
         3.914586070959264
        ],
        [
         "3146",
         3.7580645161290325
        ],
        [
         "3206",
         3.6
        ],
        [
         "3331",
         3.6142857142857143
        ],
        [
         "3695",
         3.9900662251655628
        ],
        [
         "2228",
         3.9508196721311477
        ],
        [
         "2331",
         4.214285714285714
        ],
        [
         "2697",
         4.411764705882353
        ],
        [
         "2777",
         3.498285714285714
        ],
        [
         "3219",
         3.7464788732394365
        ],
        [
         "3341",
         3.9602649006622515
        ],
        [
         "3467",
         4.084745762711864
        ],
        [
         "3730",
         3.6206896551724137
        ],
        [
         "2021",
         3.8523489932885906
        ],
        [
         "2492",
         3.764044943820225
        ],
        [
         "3132",
         3.4642857142857144
        ],
        [
         "3189",
         3.182857142857143
        ],
        [
         "3387",
         3.3795620437956204
        ],
        [
         "3439",
         4.101123595505618
        ],
        [
         "3442",
         3.435483870967742
        ],
        [
         "3492",
         3.9206349206349205
        ],
        [
         "3632",
         3.3793103448275863
        ],
        [
         "3644",
         4.024390243902439
        ],
        [
         "3694",
         3.9622641509433962
        ],
        [
         "3768",
         3.359154929577465
        ],
        [
         "3787",
         4.05
        ],
        [
         "3878",
         3.950413223140496
        ],
        [
         "3948",
         3.372549019607843
        ],
        [
         "2285",
         3.6346153846153846
        ],
        [
         "2345",
         3.739130434782609
        ],
        [
         "2830",
         3.388235294117647
        ],
        [
         "2995",
         3.8475073313782993
        ],
        [
         "2556",
         3.4893617021276597
        ],
        [
         "2754",
         3.79
        ],
        [
         "2939",
         3.777027027027027
        ],
        [
         "1986",
         4.590909090909091
        ],
        [
         "2120",
         3.451219512195122
        ],
        [
         "2514",
         4.419354838709677
        ],
        [
         "2634",
         3.949640287769784
        ],
        [
         "3124",
         3.423076923076923
        ],
        [
         "3714",
         3.1
        ],
        [
         "2220",
         4.0344827586206895
        ],
        [
         "2894",
         3.8672566371681416
        ],
        [
         "3086",
         4.221238938053097
        ],
        [
         "3143",
         3.3537735849056602
        ],
        [
         "3267",
         3.857142857142857
        ],
        [
         "3313",
         3.613107822410148
        ],
        [
         "3440",
         4.2592592592592595
        ],
        [
         "3445",
         3.8819444444444446
        ],
        [
         "3621",
         3.113456464379947
        ],
        [
         "3732",
         3.3701923076923075
        ],
        [
         "3885",
         3.6932203389830507
        ],
        [
         "2024",
         3.375
        ],
        [
         "2061",
         4.3
        ],
        [
         "2219",
         3.676190476190476
        ],
        [
         "2230",
         3.188841201716738
        ],
        [
         "2388",
         4.045454545454546
        ],
        [
         "2559",
         3.835897435897436
        ],
        [
         "2622",
         3.918918918918919
        ],
        [
         "2783",
         3.9074074074074074
        ],
        [
         "2815",
         3.690909090909091
        ],
        [
         "2938",
         3.8756218905472637
        ],
        [
         "3100",
         4.2
        ],
        [
         "3244",
         4.125
        ],
        [
         "3286",
         4.285714285714286
        ],
        [
         "3342",
         3.310344827586207
        ],
        [
         "3423",
         3.943217665615142
        ],
        [
         "3543",
         3.605769230769231
        ],
        [
         "3651",
         3.952191235059761
        ],
        [
         "3677",
         3.950354609929078
        ],
        [
         "1985",
         3.575
        ],
        [
         "2364",
         4.137931034482759
        ],
        [
         "2487",
         3.7027027027027026
        ],
        [
         "2924",
         3.9565217391304346
        ],
        [
         "3629",
         4.161290322580645
        ],
        [
         "3645",
         3.8550724637681157
        ],
        [
         "3700",
         3.9696969696969697
        ],
        [
         "3866",
         3.635294117647059
        ],
        [
         "2440",
         3.4347826086956523
        ],
        [
         "2652",
         4.048780487804878
        ],
        [
         "2740",
         3.696551724137931
        ],
        [
         "2996",
         3.146750524109015
        ],
        [
         "3096",
         4.106598984771574
        ],
        [
         "3116",
         3.635294117647059
        ],
        [
         "3686",
         4.4
        ],
        [
         "2064",
         4.0
        ],
        [
         "2095",
         3.36
        ],
        [
         "2264",
         3.63
        ],
        [
         "2458",
         3.496969696969697
        ],
        [
         "2471",
         3.1621621621621623
        ],
        [
         "2474",
         4.25
        ],
        [
         "2508",
         3.566666666666667
        ],
        [
         "2868",
         3.612565445026178
        ],
        [
         "2891",
         3.3620689655172415
        ],
        [
         "3345",
         3.5460992907801416
        ],
        [
         "3425",
         3.5386178861788617
        ],
        [
         "3785",
         3.2
        ],
        [
         "3803",
         3.6363636363636362
        ],
        [
         "2197",
         4.107142857142857
        ],
        [
         "2368",
         4.241379310344827
        ],
        [
         "2567",
         3.4851190476190474
        ],
        [
         "2909",
         3.8227344992050876
        ],
        [
         "3254",
         3.5217391304347827
        ],
        [
         "3556",
         3.8660714285714284
        ],
        [
         "3596",
         4.6875
        ],
        [
         "3675",
         3.487632508833922
        ],
        [
         "2103",
         3.865168539325843
        ],
        [
         "2270",
         3.4466019417475726
        ],
        [
         "2476",
         4.163934426229508
        ],
        [
         "2934",
         3.307073954983923
        ],
        [
         "3023",
         3.5161290322580645
        ],
        [
         "3037",
         4.21875
        ],
        [
         "3075",
         3.6339622641509433
        ],
        [
         "3091",
         3.75
        ],
        [
         "3168",
         3.3333333333333335
        ],
        [
         "3214",
         4.25
        ],
        [
         "3602",
         3.686046511627907
        ],
        [
         "2104",
         3.0943396226415096
        ],
        [
         "2150",
         3.6176470588235294
        ],
        [
         "2332",
         4.065217391304348
        ],
        [
         "2615",
         3.4918032786885247
        ],
        [
         "2721",
         3.823529411764706
        ],
        [
         "2893",
         3.857142857142857
        ],
        [
         "2941",
         3.4596100278551534
        ],
        [
         "3450",
         3.6031746031746033
        ],
        [
         "3647",
         3.787878787878788
        ],
        [
         "3664",
         3.029850746268657
        ],
        [
         "3950",
         3.2714285714285714
        ],
        [
         "2235",
         3.908450704225352
        ],
        [
         "2949",
         3.75
        ],
        [
         "3263",
         3.9292035398230087
        ],
        [
         "3293",
         3.2888888888888888
        ],
        [
         "3458",
         4.0
        ],
        [
         "3514",
         3.973684210526316
        ],
        [
         "1979",
         3.1142857142857143
        ],
        [
         "2030",
         3.984536082474227
        ],
        [
         "2124",
         4.259554140127388
        ],
        [
         "2291",
         4.0
        ],
        [
         "2568",
         3.4242424242424243
        ],
        [
         "2583",
         4.341389728096677
        ],
        [
         "2733",
         4.434343434343434
        ],
        [
         "2853",
         3.460674157303371
        ],
        [
         "2920",
         3.4583333333333335
        ],
        [
         "2978",
         3.786127167630058
        ],
        [
         "3014",
         3.570588235294118
        ],
        [
         "3941",
         3.02
        ],
        [
         "2047",
         3.588235294117647
        ],
        [
         "2229",
         3.4871794871794872
        ],
        [
         "2409",
         3.8805970149253732
        ],
        [
         "2490",
         3.5454545454545454
        ],
        [
         "2595",
         3.352201257861635
        ],
        [
         "3483",
         3.809379727685325
        ],
        [
         "2015",
         3.1273532668881505
        ],
        [
         "2068",
         3.952
        ],
        [
         "2262",
         3.6842105263157894
        ],
        [
         "2298",
         3.325
        ],
        [
         "2607",
         4.17741935483871
        ],
        [
         "2662",
         3.6904761904761907
        ],
        [
         "2689",
         4.3861386138613865
        ],
        [
         "2764",
         4.186440677966102
        ],
        [
         "2923",
         3.9523809523809526
        ],
        [
         "2960",
         4.032258064516129
        ],
        [
         "3005",
         3.8018018018018016
        ],
        [
         "3067",
         3.7530266343825667
        ],
        [
         "3129",
         3.2703777335984094
        ],
        [
         "3130",
         3.626865671641791
        ],
        [
         "3303",
         4.4
        ],
        [
         "3384",
         3.5714285714285716
        ],
        [
         "3388",
         3.6666666666666665
        ],
        [
         "3461",
         4.702702702702703
        ],
        [
         "3462",
         3.295169946332737
        ],
        [
         "3561",
         3.976833976833977
        ],
        [
         "3708",
         3.857142857142857
        ],
        [
         "2142",
         3.5324675324675323
        ],
        [
         "2218",
         3.8823529411764706
        ],
        [
         "2255",
         3.6685714285714286
        ],
        [
         "2314",
         3.1142857142857143
        ],
        [
         "2757",
         3.953488372093023
        ],
        [
         "3077",
         3.8461538461538463
        ],
        [
         "3108",
         3.68801652892562
        ],
        [
         "3428",
         4.0
        ],
        [
         "3432",
         3.2758620689655173
        ],
        [
         "3481",
         3.9785714285714286
        ],
        [
         "3516",
         3.305732484076433
        ],
        [
         "3779",
         3.625
        ],
        [
         "2313",
         4.4186046511627906
        ],
        [
         "2379",
         4.1923076923076925
        ],
        [
         "2569",
         3.4565217391304346
        ],
        [
         "3111",
         3.2419354838709675
        ],
        [
         "3810",
         4.402985074626866
        ],
        [
         "3844",
         4.082089552238806
        ],
        [
         "2387",
         3.8225806451612905
        ],
        [
         "2397",
         4.0
        ],
        [
         "2921",
         3.283464566929134
        ],
        [
         "2928",
         3.842857142857143
        ],
        [
         "2966",
         4.0625
        ],
        [
         "3076",
         3.8181818181818183
        ],
        [
         "3474",
         4.435
        ],
        [
         "3683",
         3.095076400679117
        ],
        [
         "3687",
         3.0785340314136125
        ],
        [
         "3804",
         3.5614973262032086
        ],
        [
         "1998",
         3.8707865168539324
        ],
        [
         "2214",
         4.160493827160494
        ],
        [
         "2320",
         3.28
        ],
        [
         "2786",
         4.0134228187919465
        ],
        [
         "3242",
         3.5904761904761906
        ],
        [
         "3510",
         3.6865671641791047
        ],
        [
         "2760",
         4.102941176470588
        ],
        [
         "2781",
         4.257042253521127
        ],
        [
         "2993",
         3.819277108433735
        ],
        [
         "3205",
         3.413114754098361
        ],
        [
         "3424",
         4.197183098591549
        ],
        [
         "3679",
         3.5625
        ],
        [
         "3805",
         3.7837837837837838
        ],
        [
         "2135",
         3.730769230769231
        ],
        [
         "2461",
         3.7403846153846154
        ],
        [
         "2706",
         4.08
        ],
        [
         "2878",
         3.614388489208633
        ],
        [
         "3575",
         3.3157894736842106
        ],
        [
         "3592",
         4.361344537815126
        ],
        [
         "3638",
         3.456
        ],
        [
         "3753",
         3.7755102040816326
        ],
        [
         "3775",
         3.806451612903226
        ],
        [
         "1993",
         3.75
        ],
        [
         "2208",
         3.509433962264151
        ],
        [
         "2828",
         4.017241379310345
        ],
        [
         "3710",
         3.8260869565217392
        ],
        [
         "3784",
         3.7804878048780486
        ],
        [
         "3839",
         3.340909090909091
        ],
        [
         "3888",
         3.7086092715231787
        ],
        [
         "3932",
         3.9375
        ],
        [
         "2602",
         3.3448275862068964
        ],
        [
         "2790",
         4.245901639344262
        ],
        [
         "3297",
         3.238095238095238
        ],
        [
         "3363",
         3.5371900826446283
        ],
        [
         "3418",
         3.7914691943127963
        ],
        [
         "3515",
         3.86
        ],
        [
         "3684",
         4.280575539568345
        ],
        [
         "3916",
         3.890566037735849
        ],
        [
         "2432",
         3.857142857142857
        ],
        [
         "2462",
         3.5354330708661417
        ],
        [
         "2750",
         4.295
        ],
        [
         "2950",
         3.1492537313432836
        ],
        [
         "2970",
         4.291666666666667
        ],
        [
         "3055",
         3.5121951219512195
        ],
        [
         "3271",
         3.8214285714285716
        ],
        [
         "3302",
         3.4767441860465116
        ],
        [
         "3554",
         3.696969696969697
        ],
        [
         "2042",
         3.1358490566037736
        ],
        [
         "2338",
         3.8502673796791442
        ],
        [
         "2585",
         3.706422018348624
        ],
        [
         "2722",
         3.4347826086956523
        ],
        [
         "3385",
         3.3333333333333335
        ],
        [
         "3588",
         4.066666666666666
        ],
        [
         "2065",
         4.451612903225806
        ],
        [
         "2154",
         3.977777777777778
        ],
        [
         "2192",
         3.8264462809917354
        ],
        [
         "2430",
         3.4047619047619047
        ],
        [
         "2659",
         4.105590062111801
        ],
        [
         "2727",
         3.352272727272727
        ],
        [
         "3284",
         4.2926829268292686
        ],
        [
         "3434",
         3.6264367816091956
        ],
        [
         "3635",
         4.208588957055214
        ],
        [
         "3776",
         3.9047619047619047
        ],
        [
         "3890",
         4.197183098591549
        ],
        [
         "2001",
         3.5918367346938775
        ],
        [
         "2039",
         3.5785123966942147
        ],
        [
         "2087",
         3.5660377358490565
        ],
        [
         "2130",
         3.417910447761194
        ],
        [
         "2316",
         3.9084967320261437
        ],
        [
         "2394",
         3.971830985915493
        ],
        [
         "3547",
         3.5359116022099446
        ],
        [
         "3586",
         3.361963190184049
        ],
        [
         "3613",
         3.857142857142857
        ],
        [
         "3631",
         3.875
        ],
        [
         "3854",
         4.048780487804878
        ],
        [
         "2067",
         3.5728643216080402
        ],
        [
         "2089",
         3.7473684210526317
        ],
        [
         "2241",
         4.25
        ],
        [
         "2248",
         3.7476635514018692
        ],
        [
         "2292",
         3.1
        ],
        [
         "2598",
         3.7037037037037037
        ],
        [
         "2801",
         3.1782178217821784
        ],
        [
         "3513",
         3.4083601286173635
        ],
        [
         "3908",
         3.69375
        ],
        [
         "2093",
         3.482142857142857
        ],
        [
         "2286",
         3.6
        ],
        [
         "2343",
         4.194444444444445
        ],
        [
         "2404",
         3.9263157894736844
        ],
        [
         "2551",
         3.3026315789473686
        ],
        [
         "3292",
         4.021299254526092
        ],
        [
         "3457",
         3.51875
        ],
        [
         "3567",
         3.9565217391304346
        ],
        [
         "3614",
         3.2802547770700636
        ],
        [
         "2408",
         3.753623188405797
        ],
        [
         "2785",
         3.147239263803681
        ],
        [
         "3024",
         3.63302752293578
        ],
        [
         "3413",
         4.110236220472441
        ],
        [
         "3499",
         3.4897025171624714
        ],
        [
         "3562",
         3.38506588579795
        ],
        [
         "3754",
         3.6875
        ],
        [
         "3853",
         4.248407643312102
        ],
        [
         "2189",
         3.6
        ],
        [
         "2232",
         4.050314465408805
        ],
        [
         "2486",
         3.8051948051948052
        ],
        [
         "2517",
         3.3
        ],
        [
         "2558",
         3.5625
        ],
        [
         "2963",
         3.9743589743589745
        ],
        [
         "3749",
         3.6864406779661016
        ],
        [
         "2158",
         3.9292035398230087
        ],
        [
         "2166",
         3.6901408450704225
        ],
        [
         "2307",
         4.386206896551724
        ],
        [
         "2372",
         4.352112676056338
        ],
        [
         "2469",
         3.706896551724138
        ],
        [
         "2822",
         3.725806451612903
        ],
        [
         "3102",
         3.4411764705882355
        ],
        [
         "3104",
         3.896551724137931
        ],
        [
         "3725",
         3.6923076923076925
        ],
        [
         "3752",
         3.372972972972973
        ],
        [
         "3886",
         3.67032967032967
        ],
        [
         "2128",
         3.75
        ],
        [
         "2137",
         4.130434782608695
        ],
        [
         "2427",
         3.884297520661157
        ],
        [
         "2857",
         3.159748427672956
        ],
        [
         "2880",
         3.4395604395604398
        ],
        [
         "3211",
         4.051546391752577
        ],
        [
         "3218",
         3.467741935483871
        ],
        [
         "3324",
         4.904761904761905
        ],
        [
         "2195",
         3.4147286821705425
        ],
        [
         "2207",
         4.238095238095238
        ],
        [
         "2366",
         3.3902439024390243
        ],
        [
         "2424",
         3.292517006802721
        ],
        [
         "2656",
         4.090909090909091
        ],
        [
         "3376",
         3.35
        ],
        [
         "3427",
         3.763157894736842
        ],
        [
         "3501",
         4.208121827411167
        ],
        [
         "2196",
         3.9722222222222223
        ],
        [
         "2411",
         3.496932515337423
        ],
        [
         "2730",
         3.9808917197452227
        ],
        [
         "3136",
         4.1
        ],
        [
         "3203",
         4.049382716049383
        ],
        [
         "3260",
         3.9078947368421053
        ],
        [
         "3298",
         4.4375
        ],
        [
         "3829",
         3.008515815085158
        ],
        [
         "3938",
         4.170212765957447
        ],
        [
         "2057",
         3.8615384615384616
        ],
        [
         "2182",
         3.6666666666666665
        ],
        [
         "2227",
         3.9791666666666665
        ],
        [
         "2234",
         3.9047619047619047
        ],
        [
         "2239",
         4.092436974789916
        ],
        [
         "2503",
         3.02
        ],
        [
         "2539",
         3.8048780487804876
        ],
        [
         "3006",
         4.153846153846154
        ],
        [
         "3216",
         3.324074074074074
        ],
        [
         "3470",
         3.6785714285714284
        ],
        [
         "3719",
         3.8055555555555554
        ],
        [
         "3765",
         4.0
        ],
        [
         "3842",
         3.687593423019432
        ],
        [
         "2226",
         3.673076923076923
        ],
        [
         "2301",
         3.8846153846153846
        ],
        [
         "2378",
         3.0727969348659006
        ],
        [
         "2399",
         3.772727272727273
        ],
        [
         "2527",
         4.142857142857143
        ],
        [
         "2548",
         3.9302325581395348
        ],
        [
         "2990",
         3.9655172413793105
        ],
        [
         "3571",
         3.3653846153846154
        ],
        [
         "3587",
         4.348837209302325
        ],
        [
         "2173",
         3.771043771043771
        ],
        [
         "2542",
         3.88
        ],
        [
         "2848",
         3.3363636363636364
        ],
        [
         "2916",
         3.665236051502146
        ],
        [
         "3045",
         4.277027027027027
        ],
        [
         "3051",
         3.264705882352941
        ],
        [
         "3073",
         4.543859649122807
        ],
        [
         "3479",
         3.588888888888889
        ],
        [
         "3604",
         4.592592592592593
        ],
        [
         "3782",
         4.061538461538461
        ],
        [
         "2159",
         4.470588235294118
        ],
        [
         "2518",
         3.9761904761904763
        ],
        [
         "2769",
         3.7534246575342465
        ],
        [
         "2852",
         4.118518518518519
        ],
        [
         "2907",
         3.293286219081272
        ],
        [
         "3070",
         3.923076923076923
        ],
        [
         "2045",
         4.04
        ],
        [
         "2310",
         3.8613861386138613
        ],
        [
         "2406",
         3.94
        ],
        [
         "2707",
         3.5217391304347827
        ],
        [
         "2849",
         4.509677419354839
        ],
        [
         "2983",
         4.363636363636363
        ],
        [
         "3173",
         4.168421052631579
        ],
        [
         "3259",
         4.045569620253165
        ],
        [
         "3357",
         4.072463768115942
        ],
        [
         "3648",
         3.017543859649123
        ],
        [
         "3767",
         3.1951219512195124
        ],
        [
         "1990",
         3.857142857142857
        ],
        [
         "2146",
         3.323529411764706
        ],
        [
         "2414",
         4.1594827586206895
        ],
        [
         "2429",
         3.936
        ],
        [
         "3155",
         4.035294117647059
        ],
        [
         "3163",
         3.9324009324009324
        ],
        [
         "3166",
         3.925
        ],
        [
         "3227",
         3.7280701754385963
        ],
        [
         "3404",
         3.8076923076923075
        ],
        [
         "3591",
         3.712871287128713
        ],
        [
         "2114",
         3.6733333333333333
        ],
        [
         "2472",
         3.6
        ],
        [
         "2499",
         3.617021276595745
        ],
        [
         "2515",
         4.137254901960785
        ],
        [
         "2651",
         3.310344827586207
        ],
        [
         "2969",
         3.7126436781609193
        ],
        [
         "3416",
         3.578723404255319
        ],
        [
         "3680",
         3.892857142857143
        ],
        [
         "3845",
         4.121621621621622
        ],
        [
         "2029",
         3.1629955947136565
        ],
        [
         "2620",
         3.532051282051282
        ],
        [
         "2698",
         4.0
        ],
        [
         "3133",
         3.2857142857142856
        ],
        [
         "3326",
         3.9473684210526314
        ],
        [
         "3477",
         3.9565217391304346
        ],
        [
         "3800",
         3.492957746478873
        ],
        [
         "3937",
         4.273972602739726
        ],
        [
         "2153",
         3.8526912181303117
        ],
        [
         "2655",
         3.1315789473684212
        ],
        [
         "2704",
         4.041666666666667
        ],
        [
         "2905",
         3.6984126984126986
        ],
        [
         "2911",
         3.634920634920635
        ],
        [
         "2937",
         3.5288461538461537
        ],
        [
         "2961",
         3.977272727272727
        ],
        [
         "3040",
         3.5833333333333335
        ],
        [
         "3371",
         3.43064182194617
        ],
        [
         "3464",
         3.6172506738544477
        ],
        [
         "3594",
         3.445859872611465
        ],
        [
         "3611",
         4.029268292682927
        ],
        [
         "3796",
         4.014851485148514
        ],
        [
         "1991",
         4.291666666666667
        ],
        [
         "2003",
         4.344262295081967
        ],
        [
         "2171",
         4.445544554455446
        ],
        [
         "2312",
         3.6285714285714286
        ],
        [
         "2381",
         3.2
        ],
        [
         "2420",
         4.23404255319149
        ],
        [
         "2451",
         3.050314465408805
        ],
        [
         "2535",
         3.984848484848485
        ],
        [
         "2639",
         3.878787878787879
        ],
        [
         "2874",
         3.883495145631068
        ],
        [
         "2972",
         3.497041420118343
        ],
        [
         "3396",
         3.8260869565217392
        ],
        [
         "3448",
         3.6153846153846154
        ],
        [
         "2081",
         3.122448979591837
        ],
        [
         "2273",
         3.8450704225352115
        ],
        [
         "2284",
         3.8846153846153846
        ],
        [
         "2525",
         3.542372881355932
        ],
        [
         "2534",
         3.473684210526316
        ],
        [
         "2590",
         3.2016806722689077
        ],
        [
         "2800",
         3.4615384615384617
        ],
        [
         "3175",
         4.091954022988506
        ],
        [
         "3522",
         4.032258064516129
        ],
        [
         "3824",
         3.004911591355599
        ],
        [
         "2027",
         4.019047619047619
        ],
        [
         "2382",
         3.737704918032787
        ],
        [
         "2509",
         3.341463414634146
        ],
        [
         "2647",
         4.333333333333333
        ],
        [
         "2746",
         3.8771929824561404
        ],
        [
         "2780",
         3.675
        ],
        [
         "2807",
         3.391044776119403
        ],
        [
         "2901",
         4.289156626506024
        ],
        [
         "2973",
         3.435483870967742
        ],
        [
         "3601",
         4.1265822784810124
        ],
        [
         "3688",
         4.457236842105263
        ],
        [
         "3696",
         3.94
        ],
        [
         "3798",
         3.6333333333333333
        ],
        [
         "1975",
         3.836734693877551
        ],
        [
         "2055",
         4.173913043478261
        ],
        [
         "2536",
         3.1578947368421053
        ],
        [
         "2732",
         4.111111111111111
        ],
        [
         "3215",
         3.25
        ],
        [
         "3403",
         4.1414634146341465
        ],
        [
         "3685",
         4.068403908794788
        ],
        [
         "3705",
         3.7045454545454546
        ],
        [
         "3750",
         3.4358974358974357
        ],
        [
         "1970",
         3.576923076923077
        ],
        [
         "2271",
         4.112462006079028
        ],
        [
         "2295",
         4.409090909090909
        ],
        [
         "2347",
         3.9130434782608696
        ],
        [
         "2456",
         3.1530054644808745
        ],
        [
         "2678",
         3.9047619047619047
        ],
        [
         "2886",
         3.9080459770114944
        ],
        [
         "3198",
         4.104761904761904
        ],
        [
         "3223",
         3.557377049180328
        ],
        [
         "3380",
         3.752759381898455
        ],
        [
         "2096",
         4.181818181818182
        ],
        [
         "2112",
         3.48
        ],
        [
         "2276",
         4.324074074074074
        ],
        [
         "2361",
         3.6122448979591835
        ],
        [
         "2483",
         3.9
        ],
        [
         "2505",
         4.09375
        ],
        [
         "2818",
         3.6109215017064846
        ],
        [
         "2827",
         3.242424242424242
        ],
        [
         "2838",
         4.512820512820513
        ],
        [
         "3013",
         3.4539614561027836
        ],
        [
         "2040",
         3.369565217391304
        ],
        [
         "2054",
         3.408955223880597
        ],
        [
         "2076",
         3.4819277108433737
        ],
        [
         "2203",
         4.053803339517625
        ],
        [
         "2296",
         3.3214285714285716
        ],
        [
         "2524",
         3.423076923076923
        ],
        [
         "2677",
         3.710526315789474
        ],
        [
         "3199",
         3.47
        ],
        [
         "3239",
         3.554054054054054
        ],
        [
         "2059",
         3.549407114624506
        ],
        [
         "2078",
         3.735294117647059
        ],
        [
         "2398",
         4.077586206896552
        ],
        [
         "3291",
         3.75
        ],
        [
         "3443",
         3.92
        ],
        [
         "2117",
         4.260869565217392
        ],
        [
         "2193",
         4.0
        ],
        [
         "2317",
         4.163934426229508
        ],
        [
         "2543",
         4.458333333333333
        ],
        [
         "2618",
         3.16
        ],
        [
         "3277",
         4.053333333333334
        ],
        [
         "3412",
         4.156996587030717
        ],
        [
         "3419",
         4.033333333333333
        ],
        [
         "3573",
         3.361111111111111
        ],
        [
         "2367",
         3.792452830188679
        ],
        [
         "2717",
         3.76
        ],
        [
         "2854",
         3.1135265700483092
        ],
        [
         "3033",
         3.601503759398496
        ],
        [
         "3093",
         3.798882681564246
        ],
        [
         "3120",
         3.6216216216216215
        ],
        [
         "3552",
         3.2
        ],
        [
         "3715",
         3.7531645569620253
        ],
        [
         "3920",
         4.133333333333334
        ]
       ],
       "datasetInfos": [],
       "dbfsResultPath": null,
       "isJsonSchema": true,
       "metadata": {},
       "overflow": false,
       "plotOptions": {
        "customPlotOptions": {},
        "displayType": "table",
        "pivotAggregation": null,
        "pivotColumns": null,
        "xColumns": null,
        "yColumns": null
       },
       "removedWidgets": [],
       "schema": [
        {
         "metadata": "{}",
         "name": "pelicula_id",
         "type": "\"string\""
        },
        {
         "metadata": "{}",
         "name": "nota_media",
         "type": "\"double\""
        }
       ],
       "type": "table"
      }
     },
     "output_type": "display_data"
    }
   ],
   "source": [
    "from pyspark.sql import SparkSession\n",
    "from pyspark.sql import functions as F\n",
    "\n",
    "# Crear el SparkSession existente en Databricks\n",
    "spark = SparkSession.builder.getOrCreate()\n",
    "\n",
    "# Leer el archivo ratings.txt y crear un RDD\n",
    "rdd = sc.textFile(\"dbfs:/FileStore/Notebook/ratings.txt\")\n",
    "\n",
    "# Convertir el RDD en un DataFrame con las columnas correspondientes\n",
    "columns = [\"pelicula_id\", \"usuario_id\", \"calificacion\", \"timestamp\"]\n",
    "rddPeliculas = rdd.map(lambda linea: linea.split(\"::\"))\n",
    "dfPeliculas = spark.createDataFrame(rddPeliculas, columns)\n",
    "\n",
    "# Seleccionar las columnas de interés y convertir calificación a float\n",
    "dfPeliculas = dfPeliculas.select(\n",
    "    F.col(\"pelicula_id\"),\n",
    "    F.col(\"calificacion\").cast(\"float\")\n",
    ")\n",
    "\n",
    "# Calcular la nota media por cada película\n",
    "dfMedia = dfPeliculas.groupBy(\"pelicula_id\").agg(F.avg(\"calificacion\").alias(\"nota_media\"))\n",
    "\n",
    "# Filtrar las películas cuya nota media es superior a 3\n",
    "dfMediaSuperior = dfMedia.filter(F.col(\"nota_media\") > 3)\n",
    "\n",
    "# Mostrar los resultados en Databricks\n",
    "display(dfMediaSuperior)\n",
    "\n"
   ]
  },
  {
   "cell_type": "markdown",
   "metadata": {
    "application/vnd.databricks.v1+cell": {
     "cellMetadata": {},
     "inputWidgets": {},
     "nuid": "204a5b63-f498-4e2a-ba2d-d21f6278ac67",
     "showTitle": false,
     "tableResultSettingsMap": {},
     "title": ""
    }
   },
   "source": [
    "# Proyecto"
   ]
  },
  {
   "cell_type": "markdown",
   "metadata": {
    "application/vnd.databricks.v1+cell": {
     "cellMetadata": {},
     "inputWidgets": {},
     "nuid": "ccd32600-1412-41e5-8dae-e437c54aa322",
     "showTitle": false,
     "tableResultSettingsMap": {},
     "title": ""
    }
   },
   "source": [
    "A continuación planteamos el siguiente proyecto para realizar en clase:"
   ]
  },
  {
   "cell_type": "markdown",
   "metadata": {
    "application/vnd.databricks.v1+cell": {
     "cellMetadata": {},
     "inputWidgets": {},
     "nuid": "3d9c37d2-0a23-479f-8b49-4078abbc7f0d",
     "showTitle": false,
     "tableResultSettingsMap": {},
     "title": ""
    }
   },
   "source": [
    "**1.** Tenemos las calificaciones de las asignaturas de [matemáticas](https://tajamar365.sharepoint.com/:t:/s/3405-MasterIA2024-2025/EWlo3ON8o4dLjZAmnJa4E2gBG2zbPGb2_kx0UJaqNiMzCA?e=8XRr7X), [inglés](https://tajamar365.sharepoint.com/:t:/s/3405-MasterIA2024-2025/EWbI5WURy9RMk5kPpMVU6HoBIKSpzjWjdSz982dWS3nboQ?e=C5TONj) y [física](https://tajamar365.sharepoint.com/:t:/s/3405-MasterIA2024-2025/EYNDTyKO2UdOt2t3GPKCZ0UBt9-lasNRDclinzD-dCleBw?e=l9MIiu) de los alumnos del instituto en 3 documentos de texto. A partir de estos ficheros:"
   ]
  },
  {
   "cell_type": "markdown",
   "metadata": {
    "application/vnd.databricks.v1+cell": {
     "cellMetadata": {},
     "inputWidgets": {},
     "nuid": "c56eb571-e416-41f1-bac5-cadb80ee6dd5",
     "showTitle": false,
     "tableResultSettingsMap": {},
     "title": ""
    }
   },
   "source": [
    "a. Crea 3 RDD de pares, uno para cada asignatura, con los alumnos y sus notas  \n",
    "\n"
   ]
  },
  {
   "cell_type": "code",
   "execution_count": 0,
   "metadata": {
    "application/vnd.databricks.v1+cell": {
     "cellMetadata": {
      "byteLimit": 2048000,
      "rowLimit": 10000
     },
     "inputWidgets": {},
     "nuid": "5811f38d-9eab-4b5c-a88f-5b817d8bc974",
     "showTitle": false,
     "tableResultSettingsMap": {},
     "title": ""
    }
   },
   "outputs": [],
   "source": [
    "# Crear RDDs de los archivos con filtrado para evitar errores\n",
    "rddMates = (\n",
    "    sc.textFile(\"dbfs:/FileStore/Notebook/notas_mates.txt\")\n",
    "    .filter(lambda linea: len(linea.split(\",\")) == 2)  # Filtrar líneas con formato correcto\n",
    "    .map(lambda linea: linea.split(\",\"))\n",
    "    .map(lambda x: (x[0], float(x[1].strip())))  # Convertir la nota a float y eliminar espacios extra\n",
    ")\n",
    "\n",
    "rddIngles = (\n",
    "    sc.textFile(\"dbfs:/FileStore/Notebook/notas_ingles.txt\")\n",
    "    .filter(lambda linea: len(linea.split(\",\")) == 2)  # Filtrar líneas con formato correcto\n",
    "    .map(lambda linea: linea.split(\",\"))\n",
    "    .map(lambda x: (x[0], float(x[1].strip())))  # Convertir la nota a float y eliminar espacios extra\n",
    ")\n",
    "\n",
    "rddFisica = (\n",
    "    sc.textFile(\"dbfs:/FileStore/Notebook/notas_fisica.txt\")\n",
    "    .filter(lambda linea: len(linea.split(\",\")) == 2)  # Filtrar líneas con formato correcto\n",
    "    .map(lambda linea: linea.split(\",\"))\n",
    "    .map(lambda x: (x[0], float(x[1].strip())))  # Convertir la nota a float y eliminar espacios extra\n",
    ")\n",
    "\n",
    "\n",
    "\n"
   ]
  },
  {
   "cell_type": "markdown",
   "metadata": {
    "application/vnd.databricks.v1+cell": {
     "cellMetadata": {},
     "inputWidgets": {},
     "nuid": "40e600c3-8b39-426d-9375-b9d40e3ddab8",
     "showTitle": false,
     "tableResultSettingsMap": {},
     "title": ""
    }
   },
   "source": [
    "b. Crea un solo RDD con todas las notas  \n"
   ]
  },
  {
   "cell_type": "code",
   "execution_count": 0,
   "metadata": {
    "application/vnd.databricks.v1+cell": {
     "cellMetadata": {
      "byteLimit": 2048000,
      "rowLimit": 10000
     },
     "inputWidgets": {},
     "nuid": "99b78fc2-68b7-4e1b-905c-4d50272d4975",
     "showTitle": false,
     "tableResultSettingsMap": {},
     "title": ""
    }
   },
   "outputs": [],
   "source": [
    "rddTodasLasNotas = rddMates.union(rddIngles).union(rddFisica)\n"
   ]
  },
  {
   "cell_type": "markdown",
   "metadata": {
    "application/vnd.databricks.v1+cell": {
     "cellMetadata": {},
     "inputWidgets": {},
     "nuid": "2d313d1d-a24e-41eb-b594-84d80c790642",
     "showTitle": false,
     "tableResultSettingsMap": {},
     "title": ""
    }
   },
   "source": [
    "c. ¿Cuál es la nota más baja que ha tenido cada alumno?  \n"
   ]
  },
  {
   "cell_type": "code",
   "execution_count": 0,
   "metadata": {
    "application/vnd.databricks.v1+cell": {
     "cellMetadata": {
      "byteLimit": 2048000,
      "rowLimit": 10000
     },
     "inputWidgets": {},
     "nuid": "801bd760-f835-43c8-87ed-209327380bc7",
     "showTitle": false,
     "tableResultSettingsMap": {},
     "title": ""
    }
   },
   "outputs": [
    {
     "output_type": "display_data",
     "data": {
      "text/html": [
       "<style scoped>\n",
       "  .table-result-container {\n",
       "    max-height: 300px;\n",
       "    overflow: auto;\n",
       "  }\n",
       "  table, th, td {\n",
       "    border: 1px solid black;\n",
       "    border-collapse: collapse;\n",
       "  }\n",
       "  th, td {\n",
       "    padding: 5px;\n",
       "  }\n",
       "  th {\n",
       "    text-align: left;\n",
       "  }\n",
       "</style><div class='table-result-container'><table class='table-result'><thead style='background-color: white'><tr><th>alumno</th><th>nota_minima</th></tr></thead><tbody><tr><td>Angel</td><td>4.0</td></tr><tr><td>Carlos</td><td>4.0</td></tr><tr><td>Anabel</td><td>2.0</td></tr><tr><td>Jorge</td><td>5.0</td></tr><tr><td>Susana</td><td>2.0</td></tr><tr><td>Andres</td><td>4.0</td></tr><tr><td>Jose Juan</td><td>3.0</td></tr><tr><td>Rocio</td><td>4.0</td></tr><tr><td>Fernando</td><td>5.0</td></tr><tr><td>Oscar</td><td>3.0</td></tr><tr><td>Isabel</td><td>7.0</td></tr><tr><td>Alejandro</td><td>3.0</td></tr><tr><td>Ramon</td><td>4.5</td></tr><tr><td>Pedro</td><td>2.0</td></tr><tr><td>Leonardo</td><td>1.0</td></tr><tr><td>Nicolas</td><td>2.0</td></tr><tr><td>Maria</td><td>2.0</td></tr><tr><td>Triana</td><td>3.0</td></tr><tr><td>Rosa</td><td>6.0</td></tr></tbody></table></div>"
      ]
     },
     "metadata": {
      "application/vnd.databricks.v1+output": {
       "addedWidgets": {},
       "aggData": [],
       "aggError": "",
       "aggOverflow": false,
       "aggSchema": [],
       "aggSeriesLimitReached": false,
       "aggType": "",
       "arguments": {},
       "columnCustomDisplayInfos": {},
       "data": [
        [
         "Angel",
         4.0
        ],
        [
         "Carlos",
         4.0
        ],
        [
         "Anabel",
         2.0
        ],
        [
         "Jorge",
         5.0
        ],
        [
         "Susana",
         2.0
        ],
        [
         "Andres",
         4.0
        ],
        [
         "Jose Juan",
         3.0
        ],
        [
         "Rocio",
         4.0
        ],
        [
         "Fernando",
         5.0
        ],
        [
         "Oscar",
         3.0
        ],
        [
         "Isabel",
         7.0
        ],
        [
         "Alejandro",
         3.0
        ],
        [
         "Ramon",
         4.5
        ],
        [
         "Pedro",
         2.0
        ],
        [
         "Leonardo",
         1.0
        ],
        [
         "Nicolas",
         2.0
        ],
        [
         "Maria",
         2.0
        ],
        [
         "Triana",
         3.0
        ],
        [
         "Rosa",
         6.0
        ]
       ],
       "datasetInfos": [],
       "dbfsResultPath": null,
       "isJsonSchema": true,
       "metadata": {},
       "overflow": false,
       "plotOptions": {
        "customPlotOptions": {},
        "displayType": "table",
        "pivotAggregation": null,
        "pivotColumns": null,
        "xColumns": null,
        "yColumns": null
       },
       "removedWidgets": [],
       "schema": [
        {
         "metadata": "{}",
         "name": "alumno",
         "type": "\"string\""
        },
        {
         "metadata": "{}",
         "name": "nota_minima",
         "type": "\"double\""
        }
       ],
       "type": "table"
      }
     },
     "output_type": "display_data"
    }
   ],
   "source": [
    "from pyspark.sql import SparkSession\n",
    "from pyspark.sql import Row\n",
    "\n",
    "# Crear el SparkSession\n",
    "spark = SparkSession.builder.getOrCreate()\n",
    "\n",
    "# RDD con la nota mínima de cada alumno\n",
    "notaMinimaPorAlumno = rddTodasLasNotas.reduceByKey(lambda a, b: min(a, b))\n",
    "\n",
    "# Convertir el RDD en un DataFrame\n",
    "dfNotaMinima = notaMinimaPorAlumno.map(lambda x: Row(alumno=x[0], nota_minima=x[1])).toDF()\n",
    "\n",
    "# Mostrar el DataFrame en formato tabla\n",
    "display(dfNotaMinima)\n",
    "\n"
   ]
  },
  {
   "cell_type": "markdown",
   "metadata": {
    "application/vnd.databricks.v1+cell": {
     "cellMetadata": {},
     "inputWidgets": {},
     "nuid": "c311afcb-b0e4-429c-a2ba-ca8c94f90627",
     "showTitle": false,
     "tableResultSettingsMap": {},
     "title": ""
    }
   },
   "source": [
    "d. ¿Cuál es la nota media de cada alumno?  \n"
   ]
  },
  {
   "cell_type": "code",
   "execution_count": 0,
   "metadata": {
    "application/vnd.databricks.v1+cell": {
     "cellMetadata": {
      "byteLimit": 2048000,
      "rowLimit": 10000
     },
     "inputWidgets": {},
     "nuid": "b1c96a70-0dc6-4527-a66e-6987bdd57e7a",
     "showTitle": false,
     "tableResultSettingsMap": {},
     "title": ""
    }
   },
   "outputs": [
    {
     "output_type": "display_data",
     "data": {
      "text/html": [
       "<style scoped>\n",
       "  .table-result-container {\n",
       "    max-height: 300px;\n",
       "    overflow: auto;\n",
       "  }\n",
       "  table, th, td {\n",
       "    border: 1px solid black;\n",
       "    border-collapse: collapse;\n",
       "  }\n",
       "  th, td {\n",
       "    padding: 5px;\n",
       "  }\n",
       "  th {\n",
       "    text-align: left;\n",
       "  }\n",
       "</style><div class='table-result-container'><table class='table-result'><thead style='background-color: white'><tr><th>alumno</th><th>nota_media</th></tr></thead><tbody><tr><td>Angel</td><td>6.33</td></tr><tr><td>Carlos</td><td>5.33</td></tr><tr><td>Anabel</td><td>5.67</td></tr><tr><td>Jorge</td><td>6.67</td></tr><tr><td>Susana</td><td>6.67</td></tr><tr><td>Andres</td><td>4.67</td></tr><tr><td>Jose Juan</td><td>3.67</td></tr><tr><td>Rocio</td><td>5.5</td></tr><tr><td>Fernando</td><td>7.0</td></tr><tr><td>Oscar</td><td>5.0</td></tr><tr><td>Isabel</td><td>7.67</td></tr><tr><td>Alejandro</td><td>5.0</td></tr><tr><td>Ramon</td><td>6.5</td></tr><tr><td>Pedro</td><td>3.5</td></tr><tr><td>Leonardo</td><td>3.67</td></tr><tr><td>Nicolas</td><td>4.67</td></tr><tr><td>Maria</td><td>3.67</td></tr><tr><td>Triana</td><td>3.33</td></tr><tr><td>Rosa</td><td>7.67</td></tr></tbody></table></div>"
      ]
     },
     "metadata": {
      "application/vnd.databricks.v1+output": {
       "addedWidgets": {},
       "aggData": [],
       "aggError": "",
       "aggOverflow": false,
       "aggSchema": [],
       "aggSeriesLimitReached": false,
       "aggType": "",
       "arguments": {},
       "columnCustomDisplayInfos": {},
       "data": [
        [
         "Angel",
         6.33
        ],
        [
         "Carlos",
         5.33
        ],
        [
         "Anabel",
         5.67
        ],
        [
         "Jorge",
         6.67
        ],
        [
         "Susana",
         6.67
        ],
        [
         "Andres",
         4.67
        ],
        [
         "Jose Juan",
         3.67
        ],
        [
         "Rocio",
         5.5
        ],
        [
         "Fernando",
         7.0
        ],
        [
         "Oscar",
         5.0
        ],
        [
         "Isabel",
         7.67
        ],
        [
         "Alejandro",
         5.0
        ],
        [
         "Ramon",
         6.5
        ],
        [
         "Pedro",
         3.5
        ],
        [
         "Leonardo",
         3.67
        ],
        [
         "Nicolas",
         4.67
        ],
        [
         "Maria",
         3.67
        ],
        [
         "Triana",
         3.33
        ],
        [
         "Rosa",
         7.67
        ]
       ],
       "datasetInfos": [],
       "dbfsResultPath": null,
       "isJsonSchema": true,
       "metadata": {},
       "overflow": false,
       "plotOptions": {
        "customPlotOptions": {},
        "displayType": "table",
        "pivotAggregation": null,
        "pivotColumns": null,
        "xColumns": null,
        "yColumns": null
       },
       "removedWidgets": [],
       "schema": [
        {
         "metadata": "{}",
         "name": "alumno",
         "type": "\"string\""
        },
        {
         "metadata": "{}",
         "name": "nota_media",
         "type": "\"double\""
        }
       ],
       "type": "table"
      }
     },
     "output_type": "display_data"
    }
   ],
   "source": [
    "from pyspark.sql import SparkSession\n",
    "from pyspark.sql import Row\n",
    "\n",
    "# Crear el SparkSession (usualmente ya existe en Databricks, por lo que puedes reutilizarlo)\n",
    "spark = SparkSession.builder.getOrCreate()\n",
    "\n",
    "# Convertir el RDD con la nota media en un DataFrame\n",
    "dfNotaMedia = notaMediaPorAlumno.map(lambda x: Row(alumno=x[0], nota_media=round(x[1], 2))).toDF()\n",
    "\n",
    "# Mostrar el DataFrame en formato tabla\n",
    "display(dfNotaMedia)\n",
    "\n"
   ]
  },
  {
   "cell_type": "markdown",
   "metadata": {
    "application/vnd.databricks.v1+cell": {
     "cellMetadata": {},
     "inputWidgets": {},
     "nuid": "e7eedab9-5788-4c22-871c-5c104707d077",
     "showTitle": false,
     "tableResultSettingsMap": {},
     "title": ""
    }
   },
   "source": [
    "e. ¿Cuantos estudiantes suspende cada asignatura?  \n"
   ]
  },
  {
   "cell_type": "code",
   "execution_count": 0,
   "metadata": {
    "application/vnd.databricks.v1+cell": {
     "cellMetadata": {
      "byteLimit": 2048000,
      "rowLimit": 10000
     },
     "inputWidgets": {},
     "nuid": "537bead2-eefb-4196-86e2-f1667145d497",
     "showTitle": false,
     "tableResultSettingsMap": {},
     "title": ""
    }
   },
   "outputs": [
    {
     "output_type": "display_data",
     "data": {
      "text/html": [
       "<style scoped>\n",
       "  .table-result-container {\n",
       "    max-height: 300px;\n",
       "    overflow: auto;\n",
       "  }\n",
       "  table, th, td {\n",
       "    border: 1px solid black;\n",
       "    border-collapse: collapse;\n",
       "  }\n",
       "  th, td {\n",
       "    padding: 5px;\n",
       "  }\n",
       "  th {\n",
       "    text-align: left;\n",
       "  }\n",
       "</style><div class='table-result-container'><table class='table-result'><thead style='background-color: white'><tr><th>asignatura</th><th>numero_suspensos</th></tr></thead><tbody><tr><td>Matemáticas</td><td>7</td></tr><tr><td>Inglés</td><td>7</td></tr><tr><td>Física</td><td>8</td></tr></tbody></table></div>"
      ]
     },
     "metadata": {
      "application/vnd.databricks.v1+output": {
       "addedWidgets": {},
       "aggData": [],
       "aggError": "",
       "aggOverflow": false,
       "aggSchema": [],
       "aggSeriesLimitReached": false,
       "aggType": "",
       "arguments": {},
       "columnCustomDisplayInfos": {},
       "data": [
        [
         "Matemáticas",
         7
        ],
        [
         "Inglés",
         7
        ],
        [
         "Física",
         8
        ]
       ],
       "datasetInfos": [],
       "dbfsResultPath": null,
       "isJsonSchema": true,
       "metadata": {},
       "overflow": false,
       "plotOptions": {
        "customPlotOptions": {},
        "displayType": "table",
        "pivotAggregation": null,
        "pivotColumns": null,
        "xColumns": null,
        "yColumns": null
       },
       "removedWidgets": [],
       "schema": [
        {
         "metadata": "{}",
         "name": "asignatura",
         "type": "\"string\""
        },
        {
         "metadata": "{}",
         "name": "numero_suspensos",
         "type": "\"long\""
        }
       ],
       "type": "table"
      }
     },
     "output_type": "display_data"
    }
   ],
   "source": [
    "from pyspark.sql import SparkSession\n",
    "from pyspark.sql import Row\n",
    "\n",
    "# Crear el SparkSession (si no existe ya)\n",
    "spark = SparkSession.builder.getOrCreate()\n",
    "\n",
    "# Contar suspensos en cada asignatura\n",
    "suspensosMates = rddMates.filter(lambda x: x[1] < 5).count()\n",
    "suspensosIngles = rddIngles.filter(lambda x: x[1] < 5).count()\n",
    "suspensosFisica = rddFisica.filter(lambda x: x[1] < 5).count()\n",
    "\n",
    "# Crear un RDD con los resultados para convertir a DataFrame\n",
    "rddSuspensos = sc.parallelize([\n",
    "    (\"Matemáticas\", suspensosMates),\n",
    "    (\"Inglés\", suspensosIngles),\n",
    "    (\"Física\", suspensosFisica)\n",
    "])\n",
    "\n",
    "# Convertir el RDD a un DataFrame\n",
    "dfSuspensos = rddSuspensos.map(lambda x: Row(asignatura=x[0], numero_suspensos=x[1])).toDF()\n",
    "\n",
    "# Mostrar el DataFrame en formato tabla\n",
    "display(dfSuspensos)\n"
   ]
  },
  {
   "cell_type": "markdown",
   "metadata": {
    "application/vnd.databricks.v1+cell": {
     "cellMetadata": {},
     "inputWidgets": {},
     "nuid": "5b20c3da-452d-4d29-a276-4e2ed2bf1114",
     "showTitle": false,
     "tableResultSettingsMap": {},
     "title": ""
    }
   },
   "source": [
    "f. ¿En qué asignatura suspende más gente?  \n"
   ]
  },
  {
   "cell_type": "code",
   "execution_count": 0,
   "metadata": {
    "application/vnd.databricks.v1+cell": {
     "cellMetadata": {
      "byteLimit": 2048000,
      "rowLimit": 10000
     },
     "inputWidgets": {},
     "nuid": "96dd220b-96b8-47e1-82a7-5824a3f76067",
     "showTitle": false,
     "tableResultSettingsMap": {},
     "title": ""
    }
   },
   "outputs": [
    {
     "output_type": "stream",
     "name": "stdout",
     "output_type": "stream",
     "text": [
      "Asignatura con más suspensos: Física\n"
     ]
    }
   ],
   "source": [
    "suspensos = {\n",
    "    \"Matemáticas\": suspensosMates,\n",
    "    \"Inglés\": suspensosIngles,\n",
    "    \"Física\": suspensosFisica\n",
    "}\n",
    "asignaturaMasSuspensos = max(suspensos, key=suspensos.get)\n",
    "print(f\"Asignatura con más suspensos: {asignaturaMasSuspensos}\")\n"
   ]
  },
  {
   "cell_type": "markdown",
   "metadata": {
    "application/vnd.databricks.v1+cell": {
     "cellMetadata": {},
     "inputWidgets": {},
     "nuid": "3b492939-f953-4a37-b1e8-78311456c484",
     "showTitle": false,
     "tableResultSettingsMap": {},
     "title": ""
    }
   },
   "source": [
    "g. Total de notables o sobresalientes por alumno, es decir, cantidad de notas superiores o igual a 7.  \n"
   ]
  },
  {
   "cell_type": "code",
   "execution_count": 0,
   "metadata": {
    "application/vnd.databricks.v1+cell": {
     "cellMetadata": {
      "byteLimit": 2048000,
      "rowLimit": 10000
     },
     "inputWidgets": {},
     "nuid": "46f1bbc0-d7ed-41e7-b2f6-9777866595a9",
     "showTitle": false,
     "tableResultSettingsMap": {},
     "title": ""
    }
   },
   "outputs": [
    {
     "output_type": "display_data",
     "data": {
      "text/html": [
       "<style scoped>\n",
       "  .table-result-container {\n",
       "    max-height: 300px;\n",
       "    overflow: auto;\n",
       "  }\n",
       "  table, th, td {\n",
       "    border: 1px solid black;\n",
       "    border-collapse: collapse;\n",
       "  }\n",
       "  th, td {\n",
       "    padding: 5px;\n",
       "  }\n",
       "  th {\n",
       "    text-align: left;\n",
       "  }\n",
       "</style><div class='table-result-container'><table class='table-result'><thead style='background-color: white'><tr><th>alumno</th><th>num_notables_sobresalientes</th></tr></thead><tbody><tr><td>Carlos</td><td>1</td></tr><tr><td>Angel</td><td>1</td></tr><tr><td>Anabel</td><td>2</td></tr><tr><td>Jorge</td><td>1</td></tr><tr><td>Susana</td><td>2</td></tr><tr><td>Oscar</td><td>1</td></tr><tr><td>Isabel</td><td>3</td></tr><tr><td>Fernando</td><td>2</td></tr><tr><td>Alejandro</td><td>1</td></tr><tr><td>Rocio</td><td>1</td></tr><tr><td>Ramon</td><td>2</td></tr><tr><td>Nicolas</td><td>1</td></tr><tr><td>Rosa</td><td>2</td></tr></tbody></table></div>"
      ]
     },
     "metadata": {
      "application/vnd.databricks.v1+output": {
       "addedWidgets": {},
       "aggData": [],
       "aggError": "",
       "aggOverflow": false,
       "aggSchema": [],
       "aggSeriesLimitReached": false,
       "aggType": "",
       "arguments": {},
       "columnCustomDisplayInfos": {},
       "data": [
        [
         "Carlos",
         1
        ],
        [
         "Angel",
         1
        ],
        [
         "Anabel",
         2
        ],
        [
         "Jorge",
         1
        ],
        [
         "Susana",
         2
        ],
        [
         "Oscar",
         1
        ],
        [
         "Isabel",
         3
        ],
        [
         "Fernando",
         2
        ],
        [
         "Alejandro",
         1
        ],
        [
         "Rocio",
         1
        ],
        [
         "Ramon",
         2
        ],
        [
         "Nicolas",
         1
        ],
        [
         "Rosa",
         2
        ]
       ],
       "datasetInfos": [],
       "dbfsResultPath": null,
       "isJsonSchema": true,
       "metadata": {},
       "overflow": false,
       "plotOptions": {
        "customPlotOptions": {},
        "displayType": "table",
        "pivotAggregation": null,
        "pivotColumns": null,
        "xColumns": null,
        "yColumns": null
       },
       "removedWidgets": [],
       "schema": [
        {
         "metadata": "{}",
         "name": "alumno",
         "type": "\"string\""
        },
        {
         "metadata": "{}",
         "name": "num_notables_sobresalientes",
         "type": "\"long\""
        }
       ],
       "type": "table"
      }
     },
     "output_type": "display_data"
    }
   ],
   "source": [
    "from pyspark.sql import SparkSession\n",
    "from pyspark.sql import Row\n",
    "\n",
    "# Crear el SparkSession (usualmente ya existe en Databricks)\n",
    "spark = SparkSession.builder.getOrCreate()\n",
    "\n",
    "# Convertir el RDD con notables y sobresalientes en un DataFrame\n",
    "dfNotablesSobresalientes = notablesSobresalientes.map(lambda x: Row(alumno=x[0], num_notables_sobresalientes=x[1])).toDF()\n",
    "\n",
    "# Mostrar el DataFrame en formato tabla\n",
    "display(dfNotablesSobresalientes)\n"
   ]
  },
  {
   "cell_type": "markdown",
   "metadata": {
    "application/vnd.databricks.v1+cell": {
     "cellMetadata": {},
     "inputWidgets": {},
     "nuid": "08ae77a7-0427-422a-8047-d50dd9420398",
     "showTitle": false,
     "tableResultSettingsMap": {},
     "title": ""
    }
   },
   "source": [
    "h. ¿Qué alumno no se ha presentado a inglés?  \n"
   ]
  },
  {
   "cell_type": "code",
   "execution_count": 0,
   "metadata": {
    "application/vnd.databricks.v1+cell": {
     "cellMetadata": {
      "byteLimit": 2048000,
      "rowLimit": 10000
     },
     "inputWidgets": {},
     "nuid": "8a33afb7-e2b9-45ab-aa14-b1ecefeb5f03",
     "showTitle": false,
     "tableResultSettingsMap": {},
     "title": ""
    }
   },
   "outputs": [
    {
     "output_type": "display_data",
     "data": {
      "text/html": [
       "<style scoped>\n",
       "  .table-result-container {\n",
       "    max-height: 300px;\n",
       "    overflow: auto;\n",
       "  }\n",
       "  table, th, td {\n",
       "    border: 1px solid black;\n",
       "    border-collapse: collapse;\n",
       "  }\n",
       "  th, td {\n",
       "    padding: 5px;\n",
       "  }\n",
       "  th {\n",
       "    text-align: left;\n",
       "  }\n",
       "</style><div class='table-result-container'><table class='table-result'><thead style='background-color: white'><tr><th>alumno</th></tr></thead><tbody><tr><td>Pedro</td></tr></tbody></table></div>"
      ]
     },
     "metadata": {
      "application/vnd.databricks.v1+output": {
       "addedWidgets": {},
       "aggData": [],
       "aggError": "",
       "aggOverflow": false,
       "aggSchema": [],
       "aggSeriesLimitReached": false,
       "aggType": "",
       "arguments": {},
       "columnCustomDisplayInfos": {},
       "data": [
        [
         "Pedro"
        ]
       ],
       "datasetInfos": [],
       "dbfsResultPath": null,
       "isJsonSchema": true,
       "metadata": {},
       "overflow": false,
       "plotOptions": {
        "customPlotOptions": {},
        "displayType": "table",
        "pivotAggregation": null,
        "pivotColumns": null,
        "xColumns": null,
        "yColumns": null
       },
       "removedWidgets": [],
       "schema": [
        {
         "metadata": "{}",
         "name": "alumno",
         "type": "\"string\""
        }
       ],
       "type": "table"
      }
     },
     "output_type": "display_data"
    }
   ],
   "source": [
    "from pyspark.sql import SparkSession\n",
    "from pyspark.sql import Row\n",
    "\n",
    "# Crear el SparkSession (usualmente ya existe en Databricks)\n",
    "spark = SparkSession.builder.getOrCreate()\n",
    "\n",
    "# Convertir el RDD de los alumnos que no se presentaron a inglés en un DataFrame\n",
    "dfNoPresentadosIngles = noPresentadosIngles.map(lambda x: Row(alumno=x)).toDF()\n",
    "\n",
    "# Mostrar el DataFrame en formato tabla\n",
    "display(dfNoPresentadosIngles)\n",
    "\n"
   ]
  },
  {
   "cell_type": "markdown",
   "metadata": {
    "application/vnd.databricks.v1+cell": {
     "cellMetadata": {},
     "inputWidgets": {},
     "nuid": "48940ca8-7fc2-404d-879c-6b85a42020aa",
     "showTitle": false,
     "tableResultSettingsMap": {},
     "title": ""
    }
   },
   "source": [
    "i. ¿A cuántas asignaturas se ha presentado cada alumno?  \n"
   ]
  },
  {
   "cell_type": "code",
   "execution_count": 0,
   "metadata": {
    "application/vnd.databricks.v1+cell": {
     "cellMetadata": {
      "byteLimit": 2048000,
      "rowLimit": 10000
     },
     "inputWidgets": {},
     "nuid": "406f139a-c4a0-4f56-bc47-9eddff99e765",
     "showTitle": false,
     "tableResultSettingsMap": {},
     "title": ""
    }
   },
   "outputs": [
    {
     "output_type": "display_data",
     "data": {
      "text/html": [
       "<style scoped>\n",
       "  .table-result-container {\n",
       "    max-height: 300px;\n",
       "    overflow: auto;\n",
       "  }\n",
       "  table, th, td {\n",
       "    border: 1px solid black;\n",
       "    border-collapse: collapse;\n",
       "  }\n",
       "  th, td {\n",
       "    padding: 5px;\n",
       "  }\n",
       "  th {\n",
       "    text-align: left;\n",
       "  }\n",
       "</style><div class='table-result-container'><table class='table-result'><thead style='background-color: white'><tr><th>alumno</th><th>numero_asignaturas</th></tr></thead><tbody><tr><td>Angel</td><td>3</td></tr><tr><td>Carlos</td><td>3</td></tr><tr><td>Anabel</td><td>3</td></tr><tr><td>Jorge</td><td>3</td></tr><tr><td>Susana</td><td>3</td></tr><tr><td>Andres</td><td>3</td></tr><tr><td>Jose Juan</td><td>3</td></tr><tr><td>Rocio</td><td>4</td></tr><tr><td>Fernando</td><td>3</td></tr><tr><td>Oscar</td><td>3</td></tr><tr><td>Isabel</td><td>3</td></tr><tr><td>Alejandro</td><td>3</td></tr><tr><td>Ramon</td><td>3</td></tr><tr><td>Pedro</td><td>2</td></tr><tr><td>Leonardo</td><td>3</td></tr><tr><td>Nicolas</td><td>3</td></tr><tr><td>Maria</td><td>3</td></tr><tr><td>Triana</td><td>3</td></tr><tr><td>Rosa</td><td>3</td></tr></tbody></table></div>"
      ]
     },
     "metadata": {
      "application/vnd.databricks.v1+output": {
       "addedWidgets": {},
       "aggData": [],
       "aggError": "",
       "aggOverflow": false,
       "aggSchema": [],
       "aggSeriesLimitReached": false,
       "aggType": "",
       "arguments": {},
       "columnCustomDisplayInfos": {},
       "data": [
        [
         "Angel",
         3
        ],
        [
         "Carlos",
         3
        ],
        [
         "Anabel",
         3
        ],
        [
         "Jorge",
         3
        ],
        [
         "Susana",
         3
        ],
        [
         "Andres",
         3
        ],
        [
         "Jose Juan",
         3
        ],
        [
         "Rocio",
         4
        ],
        [
         "Fernando",
         3
        ],
        [
         "Oscar",
         3
        ],
        [
         "Isabel",
         3
        ],
        [
         "Alejandro",
         3
        ],
        [
         "Ramon",
         3
        ],
        [
         "Pedro",
         2
        ],
        [
         "Leonardo",
         3
        ],
        [
         "Nicolas",
         3
        ],
        [
         "Maria",
         3
        ],
        [
         "Triana",
         3
        ],
        [
         "Rosa",
         3
        ]
       ],
       "datasetInfos": [],
       "dbfsResultPath": null,
       "isJsonSchema": true,
       "metadata": {},
       "overflow": false,
       "plotOptions": {
        "customPlotOptions": {},
        "displayType": "table",
        "pivotAggregation": null,
        "pivotColumns": null,
        "xColumns": null,
        "yColumns": null
       },
       "removedWidgets": [],
       "schema": [
        {
         "metadata": "{}",
         "name": "alumno",
         "type": "\"string\""
        },
        {
         "metadata": "{}",
         "name": "numero_asignaturas",
         "type": "\"long\""
        }
       ],
       "type": "table"
      }
     },
     "output_type": "display_data"
    }
   ],
   "source": [
    "from pyspark.sql import SparkSession\n",
    "from pyspark.sql import Row\n",
    "\n",
    "# Crear el SparkSession (usualmente ya existe en Databricks)\n",
    "spark = SparkSession.builder.getOrCreate()\n",
    "\n",
    "# Convertir el RDD con asignaturas por alumno en un DataFrame\n",
    "dfAsignaturasPorAlumno = asignaturasPorAlumno.map(lambda x: Row(alumno=x[0], numero_asignaturas=x[1])).toDF()\n",
    "\n",
    "# Mostrar el DataFrame en formato tabla\n",
    "display(dfAsignaturasPorAlumno)\n"
   ]
  },
  {
   "cell_type": "markdown",
   "metadata": {
    "application/vnd.databricks.v1+cell": {
     "cellMetadata": {},
     "inputWidgets": {},
     "nuid": "64e7f361-e3c2-4d6d-851f-e982e79292fe",
     "showTitle": false,
     "tableResultSettingsMap": {},
     "title": ""
    }
   },
   "source": [
    "j. Obtén un RDD con cada alumno con sus notas"
   ]
  },
  {
   "cell_type": "code",
   "execution_count": 0,
   "metadata": {
    "application/vnd.databricks.v1+cell": {
     "cellMetadata": {
      "byteLimit": 2048000,
      "rowLimit": 10000
     },
     "inputWidgets": {},
     "nuid": "eb08b464-2273-4b9a-aaa6-3c564187529c",
     "showTitle": false,
     "tableResultSettingsMap": {},
     "title": ""
    }
   },
   "outputs": [
    {
     "output_type": "display_data",
     "data": {
      "text/html": [
       "<style scoped>\n",
       "  .table-result-container {\n",
       "    max-height: 300px;\n",
       "    overflow: auto;\n",
       "  }\n",
       "  table, th, td {\n",
       "    border: 1px solid black;\n",
       "    border-collapse: collapse;\n",
       "  }\n",
       "  th, td {\n",
       "    padding: 5px;\n",
       "  }\n",
       "  th {\n",
       "    text-align: left;\n",
       "  }\n",
       "</style><div class='table-result-container'><table class='table-result'><thead style='background-color: white'><tr><th>alumno</th><th>numero_asignaturas</th></tr></thead><tbody><tr><td>Angel</td><td>3</td></tr><tr><td>Carlos</td><td>3</td></tr><tr><td>Anabel</td><td>3</td></tr><tr><td>Jorge</td><td>3</td></tr><tr><td>Susana</td><td>3</td></tr><tr><td>Andres</td><td>3</td></tr><tr><td>Jose Juan</td><td>3</td></tr><tr><td>Rocio</td><td>4</td></tr><tr><td>Fernando</td><td>3</td></tr><tr><td>Oscar</td><td>3</td></tr><tr><td>Isabel</td><td>3</td></tr><tr><td>Alejandro</td><td>3</td></tr><tr><td>Ramon</td><td>3</td></tr><tr><td>Pedro</td><td>2</td></tr><tr><td>Leonardo</td><td>3</td></tr><tr><td>Nicolas</td><td>3</td></tr><tr><td>Maria</td><td>3</td></tr><tr><td>Triana</td><td>3</td></tr><tr><td>Rosa</td><td>3</td></tr></tbody></table></div>"
      ]
     },
     "metadata": {
      "application/vnd.databricks.v1+output": {
       "addedWidgets": {},
       "aggData": [],
       "aggError": "",
       "aggOverflow": false,
       "aggSchema": [],
       "aggSeriesLimitReached": false,
       "aggType": "",
       "arguments": {},
       "columnCustomDisplayInfos": {},
       "data": [
        [
         "Angel",
         3
        ],
        [
         "Carlos",
         3
        ],
        [
         "Anabel",
         3
        ],
        [
         "Jorge",
         3
        ],
        [
         "Susana",
         3
        ],
        [
         "Andres",
         3
        ],
        [
         "Jose Juan",
         3
        ],
        [
         "Rocio",
         4
        ],
        [
         "Fernando",
         3
        ],
        [
         "Oscar",
         3
        ],
        [
         "Isabel",
         3
        ],
        [
         "Alejandro",
         3
        ],
        [
         "Ramon",
         3
        ],
        [
         "Pedro",
         2
        ],
        [
         "Leonardo",
         3
        ],
        [
         "Nicolas",
         3
        ],
        [
         "Maria",
         3
        ],
        [
         "Triana",
         3
        ],
        [
         "Rosa",
         3
        ]
       ],
       "datasetInfos": [],
       "dbfsResultPath": null,
       "isJsonSchema": true,
       "metadata": {},
       "overflow": false,
       "plotOptions": {
        "customPlotOptions": {},
        "displayType": "table",
        "pivotAggregation": null,
        "pivotColumns": null,
        "xColumns": null,
        "yColumns": null
       },
       "removedWidgets": [],
       "schema": [
        {
         "metadata": "{}",
         "name": "alumno",
         "type": "\"string\""
        },
        {
         "metadata": "{}",
         "name": "numero_asignaturas",
         "type": "\"long\""
        }
       ],
       "type": "table"
      }
     },
     "output_type": "display_data"
    },
    {
     "output_type": "display_data",
     "data": {
      "text/html": [
       "<style scoped>\n",
       "  .table-result-container {\n",
       "    max-height: 300px;\n",
       "    overflow: auto;\n",
       "  }\n",
       "  table, th, td {\n",
       "    border: 1px solid black;\n",
       "    border-collapse: collapse;\n",
       "  }\n",
       "  th, td {\n",
       "    padding: 5px;\n",
       "  }\n",
       "  th {\n",
       "    text-align: left;\n",
       "  }\n",
       "</style><div class='table-result-container'><table class='table-result'><thead style='background-color: white'><tr><th>alumno</th><th>notas</th></tr></thead><tbody><tr><td>Angel</td><td>List(6.0, 4.0, 9.0)</td></tr><tr><td>Carlos</td><td>List(4.0, 8.0, 4.0)</td></tr><tr><td>Anabel</td><td>List(8.0, 7.0, 2.0)</td></tr><tr><td>Jorge</td><td>List(10.0, 5.0, 5.0)</td></tr><tr><td>Susana</td><td>List(9.0, 2.0, 9.0)</td></tr><tr><td>Andres</td><td>List(4.0, 6.0, 4.0)</td></tr><tr><td>Jose Juan</td><td>List(5.0, 3.0, 3.0)</td></tr><tr><td>Rocio</td><td>List(6.0, 4.0, 5.0, 7.0)</td></tr><tr><td>Fernando</td><td>List(5.0, 7.0, 9.0)</td></tr><tr><td>Oscar</td><td>List(7.0, 3.0, 5.0)</td></tr><tr><td>Isabel</td><td>List(8.0, 7.0, 8.0)</td></tr><tr><td>Alejandro</td><td>List(5.0, 7.0, 3.0)</td></tr><tr><td>Ramon</td><td>List(4.5, 8.0, 7.0)</td></tr><tr><td>Pedro</td><td>List(5.0, 2.0)</td></tr><tr><td>Leonardo</td><td>List(1.0, 4.0, 6.0)</td></tr><tr><td>Nicolas</td><td>List(2.0, 5.0, 7.0)</td></tr><tr><td>Maria</td><td>List(2.0, 6.0, 3.0)</td></tr><tr><td>Triana</td><td>List(3.0, 4.0, 3.0)</td></tr><tr><td>Rosa</td><td>List(6.0, 9.0, 8.0)</td></tr></tbody></table></div>"
      ]
     },
     "metadata": {
      "application/vnd.databricks.v1+output": {
       "addedWidgets": {},
       "aggData": [],
       "aggError": "",
       "aggOverflow": false,
       "aggSchema": [],
       "aggSeriesLimitReached": false,
       "aggType": "",
       "arguments": {},
       "columnCustomDisplayInfos": {},
       "data": [
        [
         "Angel",
         [
          6.0,
          4.0,
          9.0
         ]
        ],
        [
         "Carlos",
         [
          4.0,
          8.0,
          4.0
         ]
        ],
        [
         "Anabel",
         [
          8.0,
          7.0,
          2.0
         ]
        ],
        [
         "Jorge",
         [
          10.0,
          5.0,
          5.0
         ]
        ],
        [
         "Susana",
         [
          9.0,
          2.0,
          9.0
         ]
        ],
        [
         "Andres",
         [
          4.0,
          6.0,
          4.0
         ]
        ],
        [
         "Jose Juan",
         [
          5.0,
          3.0,
          3.0
         ]
        ],
        [
         "Rocio",
         [
          6.0,
          4.0,
          5.0,
          7.0
         ]
        ],
        [
         "Fernando",
         [
          5.0,
          7.0,
          9.0
         ]
        ],
        [
         "Oscar",
         [
          7.0,
          3.0,
          5.0
         ]
        ],
        [
         "Isabel",
         [
          8.0,
          7.0,
          8.0
         ]
        ],
        [
         "Alejandro",
         [
          5.0,
          7.0,
          3.0
         ]
        ],
        [
         "Ramon",
         [
          4.5,
          8.0,
          7.0
         ]
        ],
        [
         "Pedro",
         [
          5.0,
          2.0
         ]
        ],
        [
         "Leonardo",
         [
          1.0,
          4.0,
          6.0
         ]
        ],
        [
         "Nicolas",
         [
          2.0,
          5.0,
          7.0
         ]
        ],
        [
         "Maria",
         [
          2.0,
          6.0,
          3.0
         ]
        ],
        [
         "Triana",
         [
          3.0,
          4.0,
          3.0
         ]
        ],
        [
         "Rosa",
         [
          6.0,
          9.0,
          8.0
         ]
        ]
       ],
       "datasetInfos": [],
       "dbfsResultPath": null,
       "isJsonSchema": true,
       "metadata": {},
       "overflow": false,
       "plotOptions": {
        "customPlotOptions": {},
        "displayType": "table",
        "pivotAggregation": null,
        "pivotColumns": null,
        "xColumns": null,
        "yColumns": null
       },
       "removedWidgets": [],
       "schema": [
        {
         "metadata": "{}",
         "name": "alumno",
         "type": "\"string\""
        },
        {
         "metadata": "{}",
         "name": "notas",
         "type": "{\"type\":\"array\",\"elementType\":\"double\",\"containsNull\":true}"
        }
       ],
       "type": "table"
      }
     },
     "output_type": "display_data"
    }
   ],
   "source": [
    "from pyspark.sql import SparkSession\n",
    "from pyspark.sql import Row\n",
    "\n",
    "# Crear el SparkSession (usualmente ya existe en Databricks)\n",
    "spark = SparkSession.builder.getOrCreate()\n",
    "\n",
    "# Convertir el RDD con asignaturas por alumno en un DataFrame\n",
    "dfAsignaturasPorAlumno = asignaturasPorAlumno.map(lambda x: Row(alumno=x[0], numero_asignaturas=x[1])).toDF()\n",
    "\n",
    "# Convertir el RDD con notas por alumno en un DataFrame\n",
    "dfNotasPorAlumno = notasPorAlumno.map(lambda x: Row(alumno=x[0], notas=x[1])).toDF()\n",
    "\n",
    "# Mostrar el DataFrame en formato tabla\n",
    "display(dfAsignaturasPorAlumno)\n",
    "display(dfNotasPorAlumno)\n",
    "\n"
   ]
  }
 ],
 "metadata": {
  "application/vnd.databricks.v1+notebook": {
   "dashboards": [],
   "environmentMetadata": null,
   "language": "python",
   "notebookMetadata": {
    "mostRecentlyExecutedCommandWithImplicitDF": {
     "commandId": -1,
     "dataframes": [
      "_sqldf"
     ]
    },
    "pythonIndentUnit": 2
   },
   "notebookName": "1",
   "widgets": {}
  },
  "kernelspec": {
   "display_name": "Python 3 (ipykernel)",
   "language": "python",
   "name": "python3"
  },
  "language_info": {
   "codemirror_mode": {
    "name": "ipython",
    "version": 3
   },
   "file_extension": ".py",
   "mimetype": "text/x-python",
   "name": "python",
   "nbconvert_exporter": "python",
   "pygments_lexer": "ipython3",
   "version": "3.12.7"
  }
 },
 "nbformat": 4,
 "nbformat_minor": 0
}
