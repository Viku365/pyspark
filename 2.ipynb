{
 "cells": [
  {
   "cell_type": "markdown",
   "metadata": {
    "application/vnd.databricks.v1+cell": {
     "cellMetadata": {},
     "inputWidgets": {},
     "nuid": "558302d0-bc61-4f5b-859c-9d9323d306ae",
     "showTitle": false,
     "tableResultSettingsMap": {},
     "title": ""
    }
   },
   "source": [
    "# Spark DataFrames / SQL"
   ]
  },
  {
   "cell_type": "markdown",
   "metadata": {
    "application/vnd.databricks.v1+cell": {
     "cellMetadata": {},
     "inputWidgets": {},
     "nuid": "9aa91080-954e-4d0c-be9d-67246cf424c1",
     "showTitle": false,
     "tableResultSettingsMap": {},
     "title": ""
    }
   },
   "source": [
    "En el notebook anterior hemos introducido Spark y el uso de RDD para interactuar con los datos. Tal como comentamos, los RDD permiten trabajar a bajo nivel, siendo más cómodo y eficiente hacer uso de DataFrames y el lenguaje SQL."
   ]
  },
  {
   "cell_type": "markdown",
   "metadata": {
    "application/vnd.databricks.v1+cell": {
     "cellMetadata": {},
     "inputWidgets": {},
     "nuid": "962cfc0b-ca71-4c81-97bf-86f537a9d3f2",
     "showTitle": false,
     "tableResultSettingsMap": {},
     "title": ""
    }
   },
   "source": [
    "## DATAFRAMES"
   ]
  },
  {
   "cell_type": "markdown",
   "metadata": {
    "application/vnd.databricks.v1+cell": {
     "cellMetadata": {},
     "inputWidgets": {},
     "nuid": "7c3a146c-29c0-45f0-9de1-c24f4a3d2487",
     "showTitle": false,
     "tableResultSettingsMap": {},
     "title": ""
    }
   },
   "source": [
    "Un DataFrame es una estructura equivalente a una tabla de base de datos relacional, con un motor bien optimizado para el trabajo en un clúster. Los datos se almacenan en filas y columnas y ofrece un conjunto de operaciones para manipular los datos.\n",
    "\n",
    "El trabajo con DataFrames es más sencillo y eficiente que el procesamiento con RDD, por eso su uso es predominante en los nuevos desarrollos con Spark.\n",
    "\n",
    "A continuación veremos cómo podemos obtener y persistir DataFrames desde diferentes fuentes y formatos de datos"
   ]
  },
  {
   "cell_type": "markdown",
   "metadata": {
    "application/vnd.databricks.v1+cell": {
     "cellMetadata": {},
     "inputWidgets": {},
     "nuid": "19b53960-ef15-4cf9-8e1f-c35ad3a7ff34",
     "showTitle": false,
     "tableResultSettingsMap": {},
     "title": ""
    }
   },
   "source": [
    "### Creando Dataframes"
   ]
  },
  {
   "cell_type": "markdown",
   "metadata": {
    "application/vnd.databricks.v1+cell": {
     "cellMetadata": {},
     "inputWidgets": {},
     "nuid": "f8686326-e401-45b1-a544-092f3e1996da",
     "showTitle": false,
     "tableResultSettingsMap": {},
     "title": ""
    }
   },
   "source": [
    "El caso más básico es crear un DataFrame a partir de un RDD mediante `toDF`:"
   ]
  },
  {
   "cell_type": "code",
   "execution_count": 0,
   "metadata": {
    "application/vnd.databricks.v1+cell": {
     "cellMetadata": {
      "byteLimit": 2048000,
      "rowLimit": 10000
     },
     "inputWidgets": {},
     "nuid": "0ce6a256-4d14-4b41-8f27-3c6cc7986a15",
     "showTitle": false,
     "tableResultSettingsMap": {},
     "title": ""
    }
   },
   "outputs": [
    {
     "output_type": "stream",
     "name": "stdout",
     "output_type": "stream",
     "text": [
      "root\n |-- _1: string (nullable = true)\n |-- _2: long (nullable = true)\n\n"
     ]
    }
   ],
   "source": [
    "from pyspark.sql import SparkSession\n",
    "\n",
    "spark = SparkSession.builder.getOrCreate() # SparkSession de forma programativa\n",
    "# Creamos un RDD\n",
    "datos = [(\"Aitor\", 182), (\"Pedro\", 178), (\"Marina\", 161)]\n",
    "rdd = spark.sparkContext.parallelize(datos)\n",
    "# Creamos un DataFrame y mostramos su esquema\n",
    "dfRDD = rdd.toDF()\n",
    "dfRDD.printSchema()\n",
    "# mediante 'printSchema'  obtenemos un resumen del esquema del DataFrame , donde para cada columna se indica el nombre, el tipo y si admite valores nulos."
   ]
  },
  {
   "cell_type": "markdown",
   "metadata": {
    "application/vnd.databricks.v1+cell": {
     "cellMetadata": {},
     "inputWidgets": {},
     "nuid": "8c306924-f0b7-466b-9e7b-83e334d2e87e",
     "showTitle": false,
     "tableResultSettingsMap": {},
     "title": ""
    }
   },
   "source": [
    "Podemos ver como los nombres de las columnas son _1 y _2. Para asignarle un nombre adecuado podemos pasarle una lista con los nombres a la hora de crear el DataFrame:"
   ]
  },
  {
   "cell_type": "code",
   "execution_count": 0,
   "metadata": {
    "application/vnd.databricks.v1+cell": {
     "cellMetadata": {
      "byteLimit": 2048000,
      "rowLimit": 10000
     },
     "inputWidgets": {},
     "nuid": "f7211be9-48a2-45c2-8112-e107b65fe874",
     "showTitle": false,
     "tableResultSettingsMap": {},
     "title": ""
    }
   },
   "outputs": [
    {
     "output_type": "stream",
     "name": "stdout",
     "output_type": "stream",
     "text": [
      "root\n |-- nombre: string (nullable = true)\n |-- altura: long (nullable = true)\n\n"
     ]
    }
   ],
   "source": [
    "columnas = [\"nombre\",\"altura\"]\n",
    "dfRDD = rdd.toDF(columnas)\n",
    "dfRDD.printSchema()"
   ]
  },
  {
   "cell_type": "markdown",
   "metadata": {
    "application/vnd.databricks.v1+cell": {
     "cellMetadata": {},
     "inputWidgets": {},
     "nuid": "c30d5519-1c35-41d9-97e6-1986be362c91",
     "showTitle": false,
     "tableResultSettingsMap": {},
     "title": ""
    }
   },
   "source": [
    "Si queremos mostrar sus datos, haremos uso del método `show`:"
   ]
  },
  {
   "cell_type": "code",
   "execution_count": 0,
   "metadata": {
    "application/vnd.databricks.v1+cell": {
     "cellMetadata": {
      "byteLimit": 2048000,
      "rowLimit": 10000
     },
     "inputWidgets": {},
     "nuid": "e701027c-3686-4d4d-b71a-73b64110947b",
     "showTitle": false,
     "tableResultSettingsMap": {},
     "title": ""
    }
   },
   "outputs": [
    {
     "output_type": "stream",
     "name": "stdout",
     "output_type": "stream",
     "text": [
      "+------+------+\n|nombre|altura|\n+------+------+\n| Aitor|   182|\n| Pedro|   178|\n|Marina|   161|\n+------+------+\n\n"
     ]
    }
   ],
   "source": [
    "dfRDD.show()\n",
    "# Obtenemos una vista de los datos en forma de tabla:"
   ]
  },
  {
   "cell_type": "markdown",
   "metadata": {
    "application/vnd.databricks.v1+cell": {
     "cellMetadata": {},
     "inputWidgets": {},
     "nuid": "ed2a9455-6934-4dd7-baaa-d6326182adcb",
     "showTitle": false,
     "tableResultSettingsMap": {},
     "title": ""
    }
   },
   "source": [
    "También podemos crear un DataFrame directamente desde una `SparkSession` sin crear un RDD previamente mediante el método `createDataFrame`:"
   ]
  },
  {
   "cell_type": "code",
   "execution_count": 0,
   "metadata": {
    "application/vnd.databricks.v1+cell": {
     "cellMetadata": {
      "byteLimit": 2048000,
      "rowLimit": 10000
     },
     "inputWidgets": {},
     "nuid": "f4996b3b-de2e-4450-922f-3a1c0ecd728b",
     "showTitle": false,
     "tableResultSettingsMap": {},
     "title": ""
    }
   },
   "outputs": [
    {
     "output_type": "stream",
     "name": "stdout",
     "output_type": "stream",
     "text": [
      "root\n |-- nombre: string (nullable = true)\n |-- altura: long (nullable = true)\n\n"
     ]
    }
   ],
   "source": [
    "dfDesdeDatos = spark.createDataFrame(datos, columnas)\n",
    "dfDesdeDatos.printSchema()"
   ]
  },
  {
   "cell_type": "markdown",
   "metadata": {
    "application/vnd.databricks.v1+cell": {
     "cellMetadata": {},
     "inputWidgets": {},
     "nuid": "b12ec46a-f73a-45c6-99b0-e736e5bfe843",
     "showTitle": false,
     "tableResultSettingsMap": {},
     "title": ""
    }
   },
   "source": [
    "### Mostrando los datos"
   ]
  },
  {
   "cell_type": "markdown",
   "metadata": {
    "application/vnd.databricks.v1+cell": {
     "cellMetadata": {},
     "inputWidgets": {},
     "nuid": "075f424d-f641-487e-a5ce-812c153bd5e6",
     "showTitle": false,
     "tableResultSettingsMap": {},
     "title": ""
    }
   },
   "source": [
    "Para los siguientes apartados, supongamos que queremos almacenar ciertos datos de clientes, como son su nombre y apellidos, ciudad y sueldo:"
   ]
  },
  {
   "cell_type": "code",
   "execution_count": 0,
   "metadata": {
    "application/vnd.databricks.v1+cell": {
     "cellMetadata": {
      "byteLimit": 2048000,
      "rowLimit": 10000
     },
     "inputWidgets": {},
     "nuid": "54525732-4b87-4d87-954b-658e8434548e",
     "showTitle": false,
     "tableResultSettingsMap": {},
     "title": ""
    }
   },
   "outputs": [],
   "source": [
    "clientes = [\n",
    "    (\"Aitor\", \"Medrano\", \"Elche\", 3000),\n",
    "    (\"Pedro\", \"Casas\", \"Elche\", 4000),\n",
    "    (\"Laura\", \"García\", \"Elche\", 5000), \n",
    "    (\"Miguel\", \"Ruiz\", \"Torrellano\", 6000),\n",
    "    (\"Isabel\", \"Guillén\", \"Alicante\", 7000)\n",
    "]\n",
    "columnas = [\"nombre\",\"apellidos\", \"ciudad\", \"sueldo\"]\n",
    "df = spark.createDataFrame(clientes, columnas)"
   ]
  },
  {
   "cell_type": "markdown",
   "metadata": {
    "application/vnd.databricks.v1+cell": {
     "cellMetadata": {},
     "inputWidgets": {},
     "nuid": "2c004d12-0b0e-46d8-a606-48d651fcdec1",
     "showTitle": false,
     "tableResultSettingsMap": {},
     "title": ""
    }
   },
   "source": [
    "Para mostrar los datos podemos utilizar el método `show`, al cual le podemos indicar o no la cantidad de registros a recuperar, así como si queremos que los datos se trunquen o no, o si los queremos mostrar en vertical:"
   ]
  },
  {
   "cell_type": "code",
   "execution_count": 0,
   "metadata": {
    "application/vnd.databricks.v1+cell": {
     "cellMetadata": {
      "byteLimit": 2048000,
      "rowLimit": 10000
     },
     "inputWidgets": {},
     "nuid": "ff5640b7-2b8c-4831-af4e-b4f937b61e0c",
     "showTitle": false,
     "tableResultSettingsMap": {},
     "title": ""
    }
   },
   "outputs": [
    {
     "output_type": "stream",
     "name": "stdout",
     "output_type": "stream",
     "text": [
      "+------+---------+------+------+\n|nombre|apellidos|ciudad|sueldo|\n+------+---------+------+------+\n| Aitor|  Medrano| Elche|  3000|\n| Pedro|    Casas| Elche|  4000|\n+------+---------+------+------+\nonly showing top 2 rows\n\n"
     ]
    }
   ],
   "source": [
    "df.show(2)"
   ]
  },
  {
   "cell_type": "code",
   "execution_count": 0,
   "metadata": {
    "application/vnd.databricks.v1+cell": {
     "cellMetadata": {
      "byteLimit": 2048000,
      "rowLimit": 10000
     },
     "inputWidgets": {},
     "nuid": "c00dec4c-e1fd-4e59-b618-4e7feefea168",
     "showTitle": false,
     "tableResultSettingsMap": {},
     "title": ""
    }
   },
   "outputs": [
    {
     "output_type": "stream",
     "name": "stdout",
     "output_type": "stream",
     "text": [
      "+------+---------+----------+------+\n|nombre|apellidos|ciudad    |sueldo|\n+------+---------+----------+------+\n|Aitor |Medrano  |Elche     |3000  |\n|Pedro |Casas    |Elche     |4000  |\n|Laura |García   |Elche     |5000  |\n|Miguel|Ruiz     |Torrellano|6000  |\n|Isabel|Guillén  |Alicante  |7000  |\n+------+---------+----------+------+\n\n"
     ]
    }
   ],
   "source": [
    "df.show(truncate=False)"
   ]
  },
  {
   "cell_type": "code",
   "execution_count": 0,
   "metadata": {
    "application/vnd.databricks.v1+cell": {
     "cellMetadata": {
      "byteLimit": 2048000,
      "rowLimit": 10000
     },
     "inputWidgets": {},
     "nuid": "f969ab64-3d50-4518-86e0-e52b23ee5149",
     "showTitle": false,
     "tableResultSettingsMap": {},
     "title": ""
    }
   },
   "outputs": [
    {
     "output_type": "stream",
     "name": "stdout",
     "output_type": "stream",
     "text": [
      "-RECORD 0------------\n nombre    | Aitor   \n apellidos | Medrano \n ciudad    | Elche   \n sueldo    | 3000    \n-RECORD 1------------\n nombre    | Pedro   \n apellidos | Casas   \n ciudad    | Elche   \n sueldo    | 4000    \n-RECORD 2------------\n nombre    | Laura   \n apellidos | García  \n ciudad    | Elche   \n sueldo    | 5000    \nonly showing top 3 rows\n\n"
     ]
    }
   ],
   "source": [
    "df.show(3, vertical=True)"
   ]
  },
  {
   "cell_type": "markdown",
   "metadata": {
    "application/vnd.databricks.v1+cell": {
     "cellMetadata": {},
     "inputWidgets": {},
     "nuid": "87534fb5-6832-43a9-9310-b5282dcf5c8e",
     "showTitle": false,
     "tableResultSettingsMap": {},
     "title": ""
    }
   },
   "source": [
    "Si sólo queremos recuperar unos pocos datos, podemos hacer uso de `head` o `first` los cuales devuelven objetos `Row`:"
   ]
  },
  {
   "cell_type": "code",
   "execution_count": 0,
   "metadata": {
    "application/vnd.databricks.v1+cell": {
     "cellMetadata": {
      "byteLimit": 2048000,
      "rowLimit": 10000
     },
     "inputWidgets": {},
     "nuid": "8603325c-eb65-45fd-be35-188e2e79f48b",
     "showTitle": false,
     "tableResultSettingsMap": {},
     "title": ""
    }
   },
   "outputs": [
    {
     "output_type": "stream",
     "name": "stdout",
     "output_type": "stream",
     "text": [
      "Out[10]: Row(nombre='Aitor', apellidos='Medrano', ciudad='Elche', sueldo=3000)"
     ]
    }
   ],
   "source": [
    "df.first()"
   ]
  },
  {
   "cell_type": "code",
   "execution_count": 0,
   "metadata": {
    "application/vnd.databricks.v1+cell": {
     "cellMetadata": {
      "byteLimit": 2048000,
      "rowLimit": 10000
     },
     "inputWidgets": {},
     "nuid": "00273d62-cdc6-4694-8d06-4b901efdbd2d",
     "showTitle": false,
     "tableResultSettingsMap": {},
     "title": ""
    }
   },
   "outputs": [
    {
     "output_type": "stream",
     "name": "stdout",
     "output_type": "stream",
     "text": [
      "Out[11]: Row(nombre='Aitor', apellidos='Medrano', ciudad='Elche', sueldo=3000)"
     ]
    }
   ],
   "source": [
    "df.head()"
   ]
  },
  {
   "cell_type": "code",
   "execution_count": 0,
   "metadata": {
    "application/vnd.databricks.v1+cell": {
     "cellMetadata": {
      "byteLimit": 2048000,
      "rowLimit": 10000
     },
     "inputWidgets": {},
     "nuid": "10a6b2b3-2422-480a-af12-cebe6358d9e1",
     "showTitle": false,
     "tableResultSettingsMap": {},
     "title": ""
    }
   },
   "outputs": [
    {
     "output_type": "stream",
     "name": "stdout",
     "output_type": "stream",
     "text": [
      "Out[12]: [Row(nombre='Aitor', apellidos='Medrano', ciudad='Elche', sueldo=3000),\n Row(nombre='Pedro', apellidos='Casas', ciudad='Elche', sueldo=4000),\n Row(nombre='Laura', apellidos='García', ciudad='Elche', sueldo=5000)]"
     ]
    }
   ],
   "source": [
    "df.head(3)"
   ]
  },
  {
   "cell_type": "markdown",
   "metadata": {
    "application/vnd.databricks.v1+cell": {
     "cellMetadata": {},
     "inputWidgets": {},
     "nuid": "fa4aaa00-8cfc-4593-94db-6a171e7f86fe",
     "showTitle": false,
     "tableResultSettingsMap": {},
     "title": ""
    }
   },
   "source": [
    "Si queremos obtener un valor en concreto, una vez recuperada una fila, podemos acceder a sus columnas:"
   ]
  },
  {
   "cell_type": "code",
   "execution_count": 0,
   "metadata": {
    "application/vnd.databricks.v1+cell": {
     "cellMetadata": {
      "byteLimit": 2048000,
      "rowLimit": 10000
     },
     "inputWidgets": {},
     "nuid": "738ba3a2-28b0-4700-94eb-a537e554dc48",
     "showTitle": false,
     "tableResultSettingsMap": {},
     "title": ""
    }
   },
   "outputs": [
    {
     "output_type": "stream",
     "name": "stdout",
     "output_type": "stream",
     "text": [
      "Out[13]: 'Aitor'"
     ]
    }
   ],
   "source": [
    "nom1 = df.first()[0]           # 'Aitor'\n",
    "nom1"
   ]
  },
  {
   "cell_type": "code",
   "execution_count": 0,
   "metadata": {
    "application/vnd.databricks.v1+cell": {
     "cellMetadata": {
      "byteLimit": 2048000,
      "rowLimit": 10000
     },
     "inputWidgets": {},
     "nuid": "624e16da-a5d2-41ed-9a6a-7ec6285f359a",
     "showTitle": false,
     "tableResultSettingsMap": {},
     "title": ""
    }
   },
   "outputs": [
    {
     "output_type": "stream",
     "name": "stdout",
     "output_type": "stream",
     "text": [
      "Out[14]: 'Aitor'"
     ]
    }
   ],
   "source": [
    "nom2 = df.first()[\"nombre\"]    # 'Aitor'\n",
    "nom2"
   ]
  },
  {
   "cell_type": "markdown",
   "metadata": {
    "application/vnd.databricks.v1+cell": {
     "cellMetadata": {},
     "inputWidgets": {},
     "nuid": "b012567c-fbc8-46d6-b058-4bd95b7b2695",
     "showTitle": false,
     "tableResultSettingsMap": {},
     "title": ""
    }
   },
   "source": [
    "También podemos obtener un sumario de los datos (igual que con Pandas) mediante `describe`:"
   ]
  },
  {
   "cell_type": "code",
   "execution_count": 0,
   "metadata": {
    "application/vnd.databricks.v1+cell": {
     "cellMetadata": {
      "byteLimit": 2048000,
      "rowLimit": 10000
     },
     "inputWidgets": {},
     "nuid": "a58b8357-d59f-405a-b417-755681dc4f58",
     "showTitle": false,
     "tableResultSettingsMap": {},
     "title": ""
    }
   },
   "outputs": [
    {
     "output_type": "stream",
     "name": "stdout",
     "output_type": "stream",
     "text": [
      "Out[15]: DataFrame[summary: string, nombre: string, apellidos: string, ciudad: string, sueldo: string]"
     ]
    }
   ],
   "source": [
    "df.describe()"
   ]
  },
  {
   "cell_type": "code",
   "execution_count": 0,
   "metadata": {
    "application/vnd.databricks.v1+cell": {
     "cellMetadata": {
      "byteLimit": 2048000,
      "rowLimit": 10000
     },
     "inputWidgets": {},
     "nuid": "491fc6f1-12a7-4a2c-9cc8-4aa5056604e3",
     "showTitle": false,
     "tableResultSettingsMap": {},
     "title": ""
    }
   },
   "outputs": [
    {
     "output_type": "stream",
     "name": "stdout",
     "output_type": "stream",
     "text": [
      "+-------+------+---------+----------+------------------+\n|summary|nombre|apellidos|    ciudad|            sueldo|\n+-------+------+---------+----------+------------------+\n|  count|     5|        5|         5|                 5|\n|   mean|  null|     null|      null|            5000.0|\n| stddev|  null|     null|      null|1581.1388300841897|\n|    min| Aitor|    Casas|  Alicante|              3000|\n|    max| Pedro|     Ruiz|Torrellano|              7000|\n+-------+------+---------+----------+------------------+\n\n"
     ]
    }
   ],
   "source": [
    "df.describe().show()"
   ]
  },
  {
   "cell_type": "markdown",
   "metadata": {
    "application/vnd.databricks.v1+cell": {
     "cellMetadata": {},
     "inputWidgets": {},
     "nuid": "c37fc2c7-698e-4898-b034-c1fa79876cdc",
     "showTitle": false,
     "tableResultSettingsMap": {},
     "title": ""
    }
   },
   "source": [
    "Si únicamente nos interesa saber cuantas filas tiene nuestro DataFrame, podemos hacer uso de `count`:"
   ]
  },
  {
   "cell_type": "code",
   "execution_count": 0,
   "metadata": {
    "application/vnd.databricks.v1+cell": {
     "cellMetadata": {
      "byteLimit": 2048000,
      "rowLimit": 10000
     },
     "inputWidgets": {},
     "nuid": "30775fdd-9365-4651-8eae-9e2906b35289",
     "showTitle": false,
     "tableResultSettingsMap": {},
     "title": ""
    }
   },
   "outputs": [
    {
     "output_type": "stream",
     "name": "stdout",
     "output_type": "stream",
     "text": [
      "Out[17]: 5"
     ]
    }
   ],
   "source": [
    "df.count()  # 5"
   ]
  },
  {
   "cell_type": "markdown",
   "metadata": {
    "application/vnd.databricks.v1+cell": {
     "cellMetadata": {},
     "inputWidgets": {},
     "nuid": "1892714b-65db-4404-8481-57f8ad6d00bc",
     "showTitle": false,
     "tableResultSettingsMap": {},
     "title": ""
    }
   },
   "source": [
    "Por último, como un DataFrame por debajo es un RDD, podemos usar `collect` y `take` conforme necesitemos y recuperar objetos de tipo `Row`:"
   ]
  },
  {
   "cell_type": "code",
   "execution_count": 0,
   "metadata": {
    "application/vnd.databricks.v1+cell": {
     "cellMetadata": {
      "byteLimit": 2048000,
      "rowLimit": 10000
     },
     "inputWidgets": {},
     "nuid": "d21a9436-08ab-406c-b330-ca858e556fc1",
     "showTitle": false,
     "tableResultSettingsMap": {},
     "title": ""
    }
   },
   "outputs": [
    {
     "output_type": "stream",
     "name": "stdout",
     "output_type": "stream",
     "text": [
      "Out[17]: [Row(nombre='Aitor', apellidos='Medrano', ciudad='Elche', sueldo=3000),\n Row(nombre='Pedro', apellidos='Casas', ciudad='Elche', sueldo=4000),\n Row(nombre='Laura', apellidos='García', ciudad='Elche', sueldo=5000),\n Row(nombre='Miguel', apellidos='Ruiz', ciudad='Torrellano', sueldo=6000),\n Row(nombre='Isabel', apellidos='Guillén', ciudad='Alicante', sueldo=7000)]"
     ]
    }
   ],
   "source": [
    "df.collect()"
   ]
  },
  {
   "cell_type": "code",
   "execution_count": 0,
   "metadata": {
    "application/vnd.databricks.v1+cell": {
     "cellMetadata": {
      "byteLimit": 2048000,
      "rowLimit": 10000
     },
     "inputWidgets": {},
     "nuid": "d83bb470-cecc-4ee8-9765-3be82cc8c1de",
     "showTitle": false,
     "tableResultSettingsMap": {},
     "title": ""
    }
   },
   "outputs": [
    {
     "output_type": "stream",
     "name": "stdout",
     "output_type": "stream",
     "text": [
      "Out[18]: [Row(nombre='Aitor', apellidos='Medrano', ciudad='Elche', sueldo=3000),\n Row(nombre='Pedro', apellidos='Casas', ciudad='Elche', sueldo=4000)]"
     ]
    }
   ],
   "source": [
    "df.take(2)"
   ]
  },
  {
   "cell_type": "code",
   "execution_count": 0,
   "metadata": {
    "application/vnd.databricks.v1+cell": {
     "cellMetadata": {
      "byteLimit": 2048000,
      "rowLimit": 10000
     },
     "inputWidgets": {},
     "nuid": "93d0686b-f85f-401a-b2c1-9d2e6125a1b3",
     "showTitle": false,
     "tableResultSettingsMap": {},
     "title": ""
    }
   },
   "outputs": [
    {
     "output_type": "stream",
     "name": "stdout",
     "output_type": "stream",
     "text": [
      "Out[19]: 'Aitor'"
     ]
    }
   ],
   "source": [
    "nom = df.collect()[0][0]        # 'Aitor'\n",
    "nom"
   ]
  },
  {
   "cell_type": "markdown",
   "metadata": {
    "application/vnd.databricks.v1+cell": {
     "cellMetadata": {},
     "inputWidgets": {},
     "nuid": "499054b0-bbff-4050-a2dd-ec951d6400b8",
     "showTitle": false,
     "tableResultSettingsMap": {},
     "title": ""
    }
   },
   "source": [
    "### Cargando diferentes formatos"
   ]
  },
  {
   "cell_type": "markdown",
   "metadata": {
    "application/vnd.databricks.v1+cell": {
     "cellMetadata": {},
     "inputWidgets": {},
     "nuid": "640d409c-6a66-4edd-a5d6-c47b3adcf30f",
     "showTitle": false,
     "tableResultSettingsMap": {},
     "title": ""
    }
   },
   "source": [
    "Lo más usual es cargar los datos desde una archivo externo. Para ello, mediante el API de `DataFrameReader` cargaremos los datos directamente en un Dataframe mediante diferentes métodos dependiendo del formato (admite tanto el nombre de un recurso como una ruta de una carpeta)."
   ]
  },
  {
   "cell_type": "markdown",
   "metadata": {
    "application/vnd.databricks.v1+cell": {
     "cellMetadata": {},
     "inputWidgets": {},
     "nuid": "83686f7c-e83c-4d0d-979a-ba229e0685d6",
     "showTitle": false,
     "tableResultSettingsMap": {},
     "title": ""
    }
   },
   "source": [
    "Para cada formato, existe un método corto que se llama como el formato en sí, y un método general donde mediante format indicamos el formato y que finaliza con el método `load` siempre dentro de `spark.read`:"
   ]
  },
  {
   "cell_type": "markdown",
   "metadata": {
    "application/vnd.databricks.v1+cell": {
     "cellMetadata": {},
     "inputWidgets": {},
     "nuid": "324d4fdf-c914-42f1-a980-ddb68994ab58",
     "showTitle": false,
     "tableResultSettingsMap": {},
     "title": ""
    }
   },
   "source": [
    "**CSV**\n",
    "```<python>\n",
    "dfCSV = spark.read.csv(\"datos.csv\")\n",
    "dfCSV = spark.read.csv(\"datos/*.csv\")   # Una carpeta entera\n",
    "dfCSV = spark.read.option(\"sep\", \";\").csv(\"datos.csv\")\n",
    "dfCSV = spark.read.option(\"header\", \"true\").csv(\"datos.csv\")\n",
    "dfCSV = spark.read.option(\"header\", True).option(\"inferSchema\", True).csv(\"datos.csv\")\n",
    "dfCSV = spark.read.options(sep=\";\", header=True, inferSchema=True).csv(\"pdi_sales.csv\")\n",
    "dfCSV = spark.read.format(\"csv\").load(\"datos.csv\") \n",
    "dfCSV = spark.read.load(path=\"datos.csv\", format=\"csv\", header=\"true\", sep=\";\", inferSchema=\"true\")\n",
    "\n",
    "``` \n",
    "\n"
   ]
  },
  {
   "cell_type": "markdown",
   "metadata": {
    "application/vnd.databricks.v1+cell": {
     "cellMetadata": {},
     "inputWidgets": {},
     "nuid": "fcafa950-129b-49fa-94dc-7dfcdc03cca3",
     "showTitle": false,
     "tableResultSettingsMap": {},
     "title": ""
    }
   },
   "source": [
    "**txt**\n",
    "```<Python>\n",
    "dfTXT = spark.read.text(\"datos.txt\")\n",
    "# cada fichero se lee entero como un registro\n",
    "dfTXT = spark.read.option(\"wholetext\", true).text(\"datos/\")\n",
    "\n",
    "dfTXT = spark.read.format(\"txt\").load(\"datos.txt\")\n",
    "```"
   ]
  },
  {
   "cell_type": "markdown",
   "metadata": {
    "application/vnd.databricks.v1+cell": {
     "cellMetadata": {},
     "inputWidgets": {},
     "nuid": "f54bfd2c-8db3-49b3-9f3d-7d78a40cf85c",
     "showTitle": false,
     "tableResultSettingsMap": {},
     "title": ""
    }
   },
   "source": [
    "**JSON**\n",
    "```<Python>\n",
    "dfJSON = spark.read.json(\"datos.json\")\n",
    "dfJSON = spark.read.format(\"json\").load(\"datos.json\")\n",
    "```"
   ]
  },
  {
   "cell_type": "markdown",
   "metadata": {
    "application/vnd.databricks.v1+cell": {
     "cellMetadata": {},
     "inputWidgets": {},
     "nuid": "8c0cac9d-4001-4bb7-8995-07038910e0c9",
     "showTitle": false,
     "tableResultSettingsMap": {},
     "title": ""
    }
   },
   "source": [
    "**parquet**\n",
    "```<Python>\n",
    "dfParquet = spark.read.parquet(\"datos.parquet\")\n",
    "dfParquet = spark.read.format(\"parquet\").load(\"datos.parquet\")\n",
    "```"
   ]
  },
  {
   "cell_type": "markdown",
   "metadata": {
    "application/vnd.databricks.v1+cell": {
     "cellMetadata": {},
     "inputWidgets": {},
     "nuid": "1c1553d4-f095-4462-9dc7-795e1729b534",
     "showTitle": false,
     "tableResultSettingsMap": {},
     "title": ""
    }
   },
   "source": [
    "Mas información en la [documentación](https://spark.apache.org/docs/latest/sql-data-sources-parquet.html) oficial"
   ]
  },
  {
   "cell_type": "markdown",
   "metadata": {
    "application/vnd.databricks.v1+cell": {
     "cellMetadata": {},
     "inputWidgets": {},
     "nuid": "9156c621-3f5a-4bb5-87a1-425f9cbdd258",
     "showTitle": false,
     "tableResultSettingsMap": {},
     "title": ""
    }
   },
   "source": [
    "**AVRO**\n",
    "La fuente de datos en formato Avro se incluye como un módulo externo, y por lo tanto, para poder leer o escribir datos en dicho formato, previamente hemos de cargar una librería.\n",
    "Para ello, al arrancar PySpark, le pasaremos como parámetro `--packages org.apache.spark:spark-avro_2.12:3.3.1`:  \n",
    "\n",
    "`pyspark --packages org.apache.spark:spark-avro_2.12:3.3.1`  \n",
    "\n",
    "Una vez arrancado, ya podemos leer y escribir datos en formato Avro de forma similar al resto:  \n",
    "\n",
    "```\n",
    "df = spark.read.format(\"avro\").load(\"datos.avro\")\n",
    "df.write.format(\"avro\").save(\"archivo.avro\")\n",
    "```  \n",
    "\n",
    "La librería también nos permite convertir columnas y estructuras de datos con las operaciones `to_avro()` y `from_avro()`. Más información en la [documentación oficial](https://spark.apache.org/docs/latest/sql-data-sources-avro.html)."
   ]
  },
  {
   "cell_type": "markdown",
   "metadata": {
    "application/vnd.databricks.v1+cell": {
     "cellMetadata": {},
     "inputWidgets": {},
     "nuid": "3a14583e-ca32-4a50-9d2d-ae70884a651b",
     "showTitle": false,
     "tableResultSettingsMap": {},
     "title": ""
    }
   },
   "source": [
    "**Actividad:** Con un fichero cualquiera en `.avro` probar el código anterior e imprimir el contenido de dicho fichero"
   ]
  },
  {
   "cell_type": "markdown",
   "metadata": {
    "application/vnd.databricks.v1+cell": {
     "cellMetadata": {},
     "inputWidgets": {},
     "nuid": "3f689e9f-c633-4420-8838-1ce7903d807c",
     "showTitle": false,
     "tableResultSettingsMap": {},
     "title": ""
    }
   },
   "source": [
    "### Persistiendo diferentes formatos  \n",
    "\n",
    "Si lo que queremos es persistir los datos, en vez de `read`, utilizaremos `write` (de manera que obtenemos un `DataFrameWriter`) y si usamos la forma general usaremos el método `save`:"
   ]
  },
  {
   "cell_type": "markdown",
   "metadata": {
    "application/vnd.databricks.v1+cell": {
     "cellMetadata": {},
     "inputWidgets": {},
     "nuid": "0de11e34-e10b-4ace-bca8-bfb974a72ee8",
     "showTitle": false,
     "tableResultSettingsMap": {},
     "title": ""
    }
   },
   "source": [
    "**CSV**\n",
    "```<python>\n",
    "dfCSV.write.csv(\"datos.csv\")\n",
    "dfCSV.write.format(\"csv\").save(\"datos.csv\")\n",
    "dfCSV.write.format(\"csv\").mode(\"overwrite\").save(\"datos.csv\")\n",
    "```"
   ]
  },
  {
   "cell_type": "markdown",
   "metadata": {
    "application/vnd.databricks.v1+cell": {
     "cellMetadata": {},
     "inputWidgets": {},
     "nuid": "75e31e7b-8730-43a5-97f6-1c52f12c6041",
     "showTitle": false,
     "tableResultSettingsMap": {},
     "title": ""
    }
   },
   "source": [
    "**TXT**\n",
    "```<python>\n",
    "dfTXT.write.text(\"datos.txt\")\n",
    "dfTXT.write.option(\"lineSep\",\";\").text(\"datos.txt\")\n",
    "dfTXT.write.format(\"txt\").save(\"datos.txt\")\n",
    "```"
   ]
  },
  {
   "cell_type": "markdown",
   "metadata": {
    "application/vnd.databricks.v1+cell": {
     "cellMetadata": {},
     "inputWidgets": {},
     "nuid": "874294a0-a55c-4c7b-877f-b8e20fd01755",
     "showTitle": false,
     "tableResultSettingsMap": {},
     "title": ""
    }
   },
   "source": [
    "**JSON**\n",
    "```<python>\n",
    "dfJSON.write.json(\"datos.json\")\n",
    "dfJSON.write.format(\"json\").save(\"datos.json\")\n",
    "```"
   ]
  },
  {
   "cell_type": "markdown",
   "metadata": {
    "application/vnd.databricks.v1+cell": {
     "cellMetadata": {},
     "inputWidgets": {},
     "nuid": "6d0b7bdd-23ca-4bdb-b128-25ef8ba258c5",
     "showTitle": false,
     "tableResultSettingsMap": {},
     "title": ""
    }
   },
   "source": [
    "**Parquet**\n",
    "```<python>\n",
    "dfParquet.write.parquet(\"datos.parquet\")\n",
    "dfParquet.write.mode(\"overwrite\").partitionBy(\"fecha\").parquet(\"datos/\")\n",
    "dfParquet.write.format(\"parquet\").save(\"datos.parquet\")\n",
    "```"
   ]
  },
  {
   "cell_type": "markdown",
   "metadata": {
    "application/vnd.databricks.v1+cell": {
     "cellMetadata": {},
     "inputWidgets": {},
     "nuid": "8387d625-4127-436f-9a33-c0677044a18e",
     "showTitle": false,
     "tableResultSettingsMap": {},
     "title": ""
    }
   },
   "source": [
    "Más información en la[ documentación oficial](https://spark.apache.org/docs/latest/sql-data-sources-parquet.html)"
   ]
  },
  {
   "cell_type": "markdown",
   "metadata": {
    "application/vnd.databricks.v1+cell": {
     "cellMetadata": {},
     "inputWidgets": {},
     "nuid": "66b09fe0-437b-4a71-88dc-3fb21362e336",
     "showTitle": false,
     "tableResultSettingsMap": {},
     "title": ""
    }
   },
   "source": [
    "> Por cada partición, Spark generará un archivo de salida. Recuerda que podemos reducir el `número de particiones` mediante `coalesce` o `repartition`."
   ]
  },
  {
   "cell_type": "markdown",
   "metadata": {
    "application/vnd.databricks.v1+cell": {
     "cellMetadata": {},
     "inputWidgets": {},
     "nuid": "4067b7f1-7f23-4feb-9055-efecad226281",
     "showTitle": false,
     "tableResultSettingsMap": {},
     "title": ""
    }
   },
   "source": [
    "Una vez vista la sintaxis, vamos a ver un ejemplo completo de lectura de un archivo CSV (el archivo `pdi_sales.csv`) que está almacenado en HDFS y que tras leerlo, lo guardamos como JSON de nuevo en HDFS:"
   ]
  },
  {
   "cell_type": "markdown",
   "metadata": {
    "application/vnd.databricks.v1+cell": {
     "cellMetadata": {},
     "inputWidgets": {},
     "nuid": "8658d1d8-9380-4d35-9168-822c395f5d26",
     "showTitle": false,
     "tableResultSettingsMap": {},
     "title": ""
    }
   },
   "source": [
    "> **Usar DBFS en vez de HDFS**. El siguiente código esta hecho para HDFS. Modificarlo para que pueda ser ejecutado en DBFS. "
   ]
  },
  {
   "cell_type": "code",
   "execution_count": 0,
   "metadata": {
    "application/vnd.databricks.v1+cell": {
     "cellMetadata": {
      "byteLimit": 2048000,
      "rowLimit": 10000
     },
     "inputWidgets": {},
     "nuid": "29833a6f-7bb2-43f1-8338-c66f0227caa4",
     "showTitle": false,
     "tableResultSettingsMap": {},
     "title": ""
    }
   },
   "outputs": [],
   "source": [
    "from pyspark.sql import SparkSession\n",
    "\n",
    "spark = SparkSession.builder.appName(\"s8a-dataframe-csv\").getOrCreate()\n",
    "\n",
    "# Lectura de CSV con el ; como separador de columnas y con encabezado\n",
    "df = spark.read.option(\"delimiter\",\";\").option(\"header\", \"true\").csv(\"dbfs:/FileStore/Notebook/pdi_sales.csv\")\n",
    "\n",
    "# df.printSchema()\n",
    "\n",
    "df.write.json(\"dbfs:/FileStore/Notebook/pdi_sales_json\")"
   ]
  },
  {
   "cell_type": "markdown",
   "metadata": {
    "application/vnd.databricks.v1+cell": {
     "cellMetadata": {},
     "inputWidgets": {},
     "nuid": "5342660e-16a5-4457-abf7-11d06ae9dd3e",
     "showTitle": false,
     "tableResultSettingsMap": {},
     "title": ""
    }
   },
   "source": [
    "### Comprimiendo los datos"
   ]
  },
  {
   "cell_type": "markdown",
   "metadata": {
    "application/vnd.databricks.v1+cell": {
     "cellMetadata": {},
     "inputWidgets": {},
     "nuid": "e18090b3-3e98-412d-b417-8842e6bf9cb2",
     "showTitle": false,
     "tableResultSettingsMap": {},
     "title": ""
    }
   },
   "source": [
    "Para configurar el algoritmo de compresión, si los datos están en Parquet o Avro, a nivel de la sesión de Spark, podemos realizar su configuración:"
   ]
  },
  {
   "cell_type": "markdown",
   "metadata": {
    "application/vnd.databricks.v1+cell": {
     "cellMetadata": {},
     "inputWidgets": {},
     "nuid": "bc4b13d2-2551-4fa9-9a4d-18c75f9a7224",
     "showTitle": false,
     "tableResultSettingsMap": {},
     "title": ""
    }
   },
   "source": [
    "```<python>\n",
    "spark.setConf(\"spark.sql.parquet.compression.codec\",\"snappy\")\n",
    "spark.setConf(\"spark.sql.parquet.compression.codec\",\"none\")\n",
    "spark.setConf(\"spark.sql.avro.compression.codec\",\"snappy\")\n",
    "```"
   ]
  },
  {
   "cell_type": "markdown",
   "metadata": {
    "application/vnd.databricks.v1+cell": {
     "cellMetadata": {},
     "inputWidgets": {},
     "nuid": "049d8cec-9e9e-4a3b-90b9-ee3e21613be4",
     "showTitle": false,
     "tableResultSettingsMap": {},
     "title": ""
    }
   },
   "source": [
    "Si sólo queremos hacerlo para una operación en particular, para cada lectura/escritura le añadimos `.option(\"compression\", \"algoritmo\")`. Por ejemplo:"
   ]
  },
  {
   "cell_type": "code",
   "execution_count": 0,
   "metadata": {
    "application/vnd.databricks.v1+cell": {
     "cellMetadata": {
      "byteLimit": 2048000,
      "rowLimit": 10000
     },
     "inputWidgets": {},
     "nuid": "b6fc5650-71d1-4bd5-882e-394af5ca309c",
     "showTitle": false,
     "tableResultSettingsMap": {},
     "title": ""
    }
   },
   "outputs": [],
   "source": [
    "dfVentas = spark.read.option(\"compression\", \"snappy\").option(\"delimiter\",\";\").option(\"header\", \"true\").csv(\"dbfs:/FileStore/Notebook/pdi_sales.csv\")\n",
    "#dfClientes = spark.read.option(\"compression\", \"snappy\").parquet(\"clientes.parquet\")\n",
    "#dfVentas.write.option(\"compression\", \"snappy\").format(\"avro\").save(\"ventas.avro\")"
   ]
  },
  {
   "cell_type": "markdown",
   "metadata": {
    "application/vnd.databricks.v1+cell": {
     "cellMetadata": {},
     "inputWidgets": {},
     "nuid": "325e2baa-4e17-4233-aa6f-55654a156553",
     "showTitle": false,
     "tableResultSettingsMap": {},
     "title": ""
    }
   },
   "source": [
    "## DATOS Y ESQUEMAS "
   ]
  },
  {
   "cell_type": "markdown",
   "metadata": {
    "application/vnd.databricks.v1+cell": {
     "cellMetadata": {},
     "inputWidgets": {},
     "nuid": "44b0b8a8-b475-43f9-8c85-ed4078c3bd37",
     "showTitle": false,
     "tableResultSettingsMap": {},
     "title": ""
    }
   },
   "source": [
    "El esquema completo de un DataFrame se modela mediante un `StructType`, el cual contiene una colección de objetos `StructField`. Así pues, cada columna de un DataFrame de Spark se modela mediante un objeto `StructField` indicando su nombre, tipo y gestión de los nulos.\n",
    "\n",
    "Hemos visto que al crear un DataFrame desde un archivo externo, podemos inferir el esquema. Si queremos crear un DataFrame desde un esquema propio utilizaremos los tipos `StructType`, `StructField`, así como `StringType`, `IntegerType` o el tipo necesario para cada columna. Para ello, primero hemos de importarlos (como puedes observar, estas clases pertenecen a las librerías SQL de PySpark):"
   ]
  },
  {
   "cell_type": "code",
   "execution_count": 0,
   "metadata": {
    "application/vnd.databricks.v1+cell": {
     "cellMetadata": {
      "byteLimit": 2048000,
      "rowLimit": 10000
     },
     "inputWidgets": {},
     "nuid": "77132f9e-9a0d-4a6f-9345-1806f1cbe5c6",
     "showTitle": false,
     "tableResultSettingsMap": {},
     "title": ""
    }
   },
   "outputs": [],
   "source": [
    "from pyspark.sql import SparkSession\n",
    "from pyspark.sql.types import StructType, StructField, StringType, IntegerType"
   ]
  },
  {
   "cell_type": "markdown",
   "metadata": {
    "application/vnd.databricks.v1+cell": {
     "cellMetadata": {},
     "inputWidgets": {},
     "nuid": "1664f9c7-796f-48c8-989b-9177840023fe",
     "showTitle": false,
     "tableResultSettingsMap": {},
     "title": ""
    }
   },
   "source": [
    "> **Tipos**.  \n",
    "> Además de cadenas y enteros, flotantes (`FloatType`) o dobles (`DoubleType`), tenemos tipos booleanos (`BooleanType`), de fecha (`DateType` y `TimestampType`), así como tipos complejos como `ArrayType`, `MapType` y `StructType`. Para más información, consultar la [documentación oficial](https://spark.apache.org/docs/latest/sql-ref-datatypes.html)."
   ]
  },
  {
   "cell_type": "markdown",
   "metadata": {
    "application/vnd.databricks.v1+cell": {
     "cellMetadata": {},
     "inputWidgets": {},
     "nuid": "c766cc3a-699b-4144-a75f-55dba2e41d27",
     "showTitle": false,
     "tableResultSettingsMap": {},
     "title": ""
    }
   },
   "source": [
    "Volvamos al ejemplo anterior donde tenemos ciertos datos de clientes, como son su nombre y apellidos, ciudad y sueldo:"
   ]
  },
  {
   "cell_type": "code",
   "execution_count": 0,
   "metadata": {
    "application/vnd.databricks.v1+cell": {
     "cellMetadata": {
      "byteLimit": 2048000,
      "rowLimit": 10000
     },
     "inputWidgets": {},
     "nuid": "8966993c-d637-461a-a043-1a9dcd27cba7",
     "showTitle": false,
     "tableResultSettingsMap": {},
     "title": ""
    }
   },
   "outputs": [],
   "source": [
    "clientes = [\n",
    "    (\"Aitor\", \"Medrano\", \"Elche\", 3000),\n",
    "    (\"Pedro\", \"Casas\", \"Elche\", 4000),\n",
    "    (\"Laura\", \"García\", \"Elche\", 5000), \n",
    "    (\"Miguel\", \"Ruiz\", \"Torrellano\", 6000),\n",
    "    (\"Isabel\", \"Guillén\", \"Alicante\", 7000)\n",
    "]"
   ]
  },
  {
   "cell_type": "markdown",
   "metadata": {
    "application/vnd.databricks.v1+cell": {
     "cellMetadata": {},
     "inputWidgets": {},
     "nuid": "8d490e43-dfdd-4623-a83a-73ce227f7c92",
     "showTitle": false,
     "tableResultSettingsMap": {},
     "title": ""
    }
   },
   "source": [
    "Para esta estructura, definiremos un esquema con los campos, indicando para cada uno de ellos su nombre, tipo y si admite valores nulos:"
   ]
  },
  {
   "cell_type": "code",
   "execution_count": 0,
   "metadata": {
    "application/vnd.databricks.v1+cell": {
     "cellMetadata": {
      "byteLimit": 2048000,
      "rowLimit": 10000
     },
     "inputWidgets": {},
     "nuid": "f8dcc6fe-c1bb-4473-800b-35024264c129",
     "showTitle": false,
     "tableResultSettingsMap": {},
     "title": ""
    }
   },
   "outputs": [],
   "source": [
    "esquema = StructType([\n",
    "    StructField(\"nombre\", StringType(), False),\n",
    "    StructField(\"apellidos\", StringType(), False),\n",
    "    StructField(\"ciudad\", StringType(), True),\n",
    "    StructField(\"sueldo\", IntegerType(), False)\n",
    "])"
   ]
  },
  {
   "cell_type": "markdown",
   "metadata": {
    "application/vnd.databricks.v1+cell": {
     "cellMetadata": {},
     "inputWidgets": {},
     "nuid": "f6e79eb0-f0ee-4617-bcc0-22467317d326",
     "showTitle": false,
     "tableResultSettingsMap": {},
     "title": ""
    }
   },
   "source": [
    "A continuación ya podemos crear un DataFrame con datos propios que cumplen un esquema haciendo uso del método `createDataFrame`:"
   ]
  },
  {
   "cell_type": "code",
   "execution_count": 0,
   "metadata": {
    "application/vnd.databricks.v1+cell": {
     "cellMetadata": {
      "byteLimit": 2048000,
      "rowLimit": 10000
     },
     "inputWidgets": {},
     "nuid": "90f9c8be-b489-422f-812d-0b42ea9a2026",
     "showTitle": false,
     "tableResultSettingsMap": {},
     "title": ""
    }
   },
   "outputs": [
    {
     "output_type": "stream",
     "name": "stdout",
     "output_type": "stream",
     "text": [
      "root\n |-- nombre: string (nullable = false)\n |-- apellidos: string (nullable = false)\n |-- ciudad: string (nullable = true)\n |-- sueldo: integer (nullable = false)\n\n"
     ]
    }
   ],
   "source": [
    "df = spark.createDataFrame(data=clientes, schema=esquema)\n",
    "df.printSchema()"
   ]
  },
  {
   "cell_type": "code",
   "execution_count": 0,
   "metadata": {
    "application/vnd.databricks.v1+cell": {
     "cellMetadata": {
      "byteLimit": 2048000,
      "rowLimit": 10000
     },
     "inputWidgets": {},
     "nuid": "ce239a50-440c-46b2-8927-c7cbea59a6e0",
     "showTitle": false,
     "tableResultSettingsMap": {},
     "title": ""
    }
   },
   "outputs": [
    {
     "output_type": "stream",
     "name": "stdout",
     "output_type": "stream",
     "text": [
      "+------+---------+----------+------+\n|nombre|apellidos|ciudad    |sueldo|\n+------+---------+----------+------+\n|Aitor |Medrano  |Elche     |3000  |\n|Pedro |Casas    |Elche     |4000  |\n|Laura |García   |Elche     |5000  |\n|Miguel|Ruiz     |Torrellano|6000  |\n|Isabel|Guillén  |Alicante  |7000  |\n+------+---------+----------+------+\n\n"
     ]
    }
   ],
   "source": [
    "df.show(truncate=False)"
   ]
  },
  {
   "cell_type": "markdown",
   "metadata": {
    "application/vnd.databricks.v1+cell": {
     "cellMetadata": {},
     "inputWidgets": {},
     "nuid": "80919a4e-bc09-4bcb-8907-5e1996a4f2b0",
     "showTitle": false,
     "tableResultSettingsMap": {},
     "title": ""
    }
   },
   "source": [
    "Si lo que queremos es asignarle un esquema a un DataFrame que vamos a leer desde una fuente de datos externa, hemos de emplear el método `schema`:"
   ]
  },
  {
   "cell_type": "markdown",
   "metadata": {
    "application/vnd.databricks.v1+cell": {
     "cellMetadata": {},
     "inputWidgets": {},
     "nuid": "7d841fc2-7a72-4001-9e1b-2f49700138b0",
     "showTitle": false,
     "tableResultSettingsMap": {},
     "title": ""
    }
   },
   "source": [
    "```<Python>\n",
    "dfClientes = spark.read.option(\"header\", True).schema(esquema).csv(\"clientes.csv\")\n",
    "```"
   ]
  },
  {
   "cell_type": "markdown",
   "metadata": {
    "application/vnd.databricks.v1+cell": {
     "cellMetadata": {},
     "inputWidgets": {},
     "nuid": "af36928e-f58d-4a6e-9f92-2f7dc2bcb93f",
     "showTitle": false,
     "tableResultSettingsMap": {},
     "title": ""
    }
   },
   "source": [
    "> **Rendimiento y esquema**  \n",
    "> La inferencia de los tipos de los datos es un proceso computacionalmente costoso. Por ello, si nuestro conjunto de datos es grande, es muy recomendable crear el esquema de forma programativa y configurarlo en la carga de datos. Se recomienda la lectura del artículo [Using schemas to speed up reading into Spark DataFrames](https://t-redactyl.io/blog/2020/08/using-schemas-to-speed-up-reading-into-spark-dataframes.html)."
   ]
  },
  {
   "cell_type": "markdown",
   "metadata": {
    "application/vnd.databricks.v1+cell": {
     "cellMetadata": {},
     "inputWidgets": {},
     "nuid": "17f7323f-e24e-4986-be8c-bdaaddcca1e9",
     "showTitle": false,
     "tableResultSettingsMap": {},
     "title": ""
    }
   },
   "source": [
    "> **Actividad** En otro notebook hacer el ejemplo que se muestra en el artículo que se sugiere arriba. La dataset se encuentra en [UCI Machine Learning Repository](https://archive.ics.uci.edu/dataset/339/taxi+service+trajectory+prediction+challenge+ecml+pkdd+2015) con el nombre `train.csv.zip`"
   ]
  },
  {
   "cell_type": "code",
   "execution_count": 0,
   "metadata": {
    "application/vnd.databricks.v1+cell": {
     "cellMetadata": {
      "byteLimit": 2048000,
      "rowLimit": 10000
     },
     "inputWidgets": {},
     "nuid": "269bf731-f103-4ddd-a5d8-a6b22e08a073",
     "showTitle": false,
     "tableResultSettingsMap": {},
     "title": ""
    }
   },
   "outputs": [],
   "source": [
    "# Importar librerias necesarias\n",
    "from pyspark.sql import SparkSession\n",
    "from pyspark.sql.types import StructType, StructField, StringType, IntegerType, LongType, BooleanType\n",
    "from time import time\n",
    "\n",
    "# Definir ubicacion del archivo csv\n",
    "data_location = \"dbfs:/FileStore/Notebook2/train.csv\""
   ]
  },
  {
   "cell_type": "code",
   "execution_count": 0,
   "metadata": {
    "application/vnd.databricks.v1+cell": {
     "cellMetadata": {
      "byteLimit": 2048000,
      "rowLimit": 10000
     },
     "inputWidgets": {},
     "nuid": "25da4399-2c97-46b8-bad6-93a10e2c0e01",
     "showTitle": false,
     "tableResultSettingsMap": {},
     "title": ""
    }
   },
   "outputs": [
    {
     "output_type": "stream",
     "name": "stdout",
     "output_type": "stream",
     "text": [
      "Lectura completada en 35.34104084968567 segundos.\n"
     ]
    }
   ],
   "source": [
    "\n",
    "\n",
    "# Lectura de datos sin esquema\n",
    "t1 = time()\n",
    "data_inferred = spark.read.csv(data_location, header=True, inferSchema=True)\n",
    "t2 = time()\n",
    "print('Lectura completada en %s segundos.' % (str(t2 - t1)))\n"
   ]
  },
  {
   "cell_type": "code",
   "execution_count": 0,
   "metadata": {
    "application/vnd.databricks.v1+cell": {
     "cellMetadata": {
      "byteLimit": 2048000,
      "rowLimit": 10000
     },
     "inputWidgets": {},
     "nuid": "30bdcc2b-5373-4b46-893f-4ed6fa32f0ed",
     "showTitle": false,
     "tableResultSettingsMap": {},
     "title": ""
    }
   },
   "outputs": [
    {
     "output_type": "stream",
     "name": "stdout",
     "output_type": "stream",
     "text": [
      "Lectura con esquema completada en 0.39853787422180176 segundos.\n"
     ]
    }
   ],
   "source": [
    "# Definir un esquema explicito\n",
    "schema = StructType([\n",
    "    StructField(\"trip_id\", StringType(), True),\n",
    "    StructField(\"call_type\", StringType(), True),\n",
    "    StructField(\"origin_call\", IntegerType(), True),\n",
    "    StructField(\"origin_stand\", IntegerType(), True),\n",
    "    StructField(\"taxi_id\", LongType(), True),\n",
    "    StructField(\"timestamp\", LongType(), True),\n",
    "    StructField(\"day_type\", StringType(), True),\n",
    "    StructField(\"missing_data\", BooleanType(), True),\n",
    "    StructField(\"polyline\", StringType(), True)\n",
    "])\n",
    "\n",
    "#Lectura de Datos con esquema definido\n",
    "t1 = time()\n",
    "data_schema = spark.read.csv(data_location, header=False, schema=schema)\n",
    "t2 = time()\n",
    "print('Lectura con esquema completada en %s segundos.' % (str(t2 - t1)))"
   ]
  },
  {
   "cell_type": "markdown",
   "metadata": {
    "application/vnd.databricks.v1+cell": {
     "cellMetadata": {},
     "inputWidgets": {},
     "nuid": "3826afce-b1fd-445b-9906-b62bfc2ba86a",
     "showTitle": false,
     "tableResultSettingsMap": {},
     "title": ""
    }
   },
   "source": [
    "Respecto al esquema, tenemos diferentes propiedades como columns, dtypes y schema con las que obtener su información:"
   ]
  },
  {
   "cell_type": "code",
   "execution_count": 0,
   "metadata": {
    "application/vnd.databricks.v1+cell": {
     "cellMetadata": {
      "byteLimit": 2048000,
      "rowLimit": 10000
     },
     "inputWidgets": {},
     "nuid": "b8de567b-ea1f-4079-aa4b-cedc179684d0",
     "showTitle": false,
     "tableResultSettingsMap": {},
     "title": ""
    }
   },
   "outputs": [
    {
     "output_type": "stream",
     "name": "stdout",
     "output_type": "stream",
     "text": [
      "Out[33]: ['nombre', 'apellidos', 'ciudad', 'sueldo']"
     ]
    }
   ],
   "source": [
    "df.columns"
   ]
  },
  {
   "cell_type": "code",
   "execution_count": 0,
   "metadata": {
    "application/vnd.databricks.v1+cell": {
     "cellMetadata": {
      "byteLimit": 2048000,
      "rowLimit": 10000
     },
     "inputWidgets": {},
     "nuid": "acf37a59-3288-431e-b149-6c27da92530a",
     "showTitle": false,
     "tableResultSettingsMap": {},
     "title": ""
    }
   },
   "outputs": [
    {
     "output_type": "stream",
     "name": "stdout",
     "output_type": "stream",
     "text": [
      "Out[34]: [('nombre', 'string'),\n ('apellidos', 'string'),\n ('ciudad', 'string'),\n ('sueldo', 'int')]"
     ]
    }
   ],
   "source": [
    "df.dtypes"
   ]
  },
  {
   "cell_type": "code",
   "execution_count": 0,
   "metadata": {
    "application/vnd.databricks.v1+cell": {
     "cellMetadata": {
      "byteLimit": 2048000,
      "rowLimit": 10000
     },
     "inputWidgets": {},
     "nuid": "26e3d519-f44c-4391-a4dd-0d65d65d26a8",
     "showTitle": false,
     "tableResultSettingsMap": {},
     "title": ""
    }
   },
   "outputs": [
    {
     "output_type": "stream",
     "name": "stdout",
     "output_type": "stream",
     "text": [
      "Out[35]: StructType([StructField('nombre', StringType(), False), StructField('apellidos', StringType(), False), StructField('ciudad', StringType(), True), StructField('sueldo', IntegerType(), False)])"
     ]
    }
   ],
   "source": [
    "df.schema"
   ]
  },
  {
   "cell_type": "markdown",
   "metadata": {
    "application/vnd.databricks.v1+cell": {
     "cellMetadata": {},
     "inputWidgets": {},
     "nuid": "6fcf6d82-e17d-41e4-94cb-cc75628246b6",
     "showTitle": false,
     "tableResultSettingsMap": {},
     "title": ""
    }
   },
   "source": [
    "Si una vez hemos cargado un DataFrame queremos cambiar el tipo de una de sus columnas, podemos hacer uso del método `withColumn`:"
   ]
  },
  {
   "cell_type": "code",
   "execution_count": 0,
   "metadata": {
    "application/vnd.databricks.v1+cell": {
     "cellMetadata": {
      "byteLimit": 2048000,
      "rowLimit": 10000
     },
     "inputWidgets": {},
     "nuid": "e8af9061-3e73-40aa-b072-1ba71a5b2842",
     "showTitle": false,
     "tableResultSettingsMap": {},
     "title": ""
    }
   },
   "outputs": [],
   "source": [
    "# Forma larga\n",
    "from pyspark.sql.types import DoubleType\n",
    "df = df.withColumn(\"sueldo\", df.sueldo.cast(DoubleType()))"
   ]
  },
  {
   "cell_type": "code",
   "execution_count": 0,
   "metadata": {
    "application/vnd.databricks.v1+cell": {
     "cellMetadata": {
      "byteLimit": 2048000,
      "rowLimit": 10000
     },
     "inputWidgets": {},
     "nuid": "99ae3bc2-b1ba-4d82-b168-1047664f89e4",
     "showTitle": false,
     "tableResultSettingsMap": {},
     "title": ""
    }
   },
   "outputs": [],
   "source": [
    "# Forma corta\n",
    "df = df.withColumn(\"sueldo\", df.sueldo.cast(\"double\"))\n"
   ]
  },
  {
   "cell_type": "code",
   "execution_count": 0,
   "metadata": {
    "application/vnd.databricks.v1+cell": {
     "cellMetadata": {
      "byteLimit": 2048000,
      "rowLimit": 10000
     },
     "inputWidgets": {},
     "nuid": "79d0b42d-eaac-4eed-8ce1-eb7e385e40f8",
     "showTitle": false,
     "tableResultSettingsMap": {},
     "title": ""
    }
   },
   "outputs": [
    {
     "output_type": "display_data",
     "data": {
      "text/plain": [
       "\u001B[0;31m---------------------------------------------------------------------------\u001B[0m\n",
       "\u001B[0;31mNameError\u001B[0m                                 Traceback (most recent call last)\n",
       "File \u001B[0;32m<command-1839072699364289>:1\u001B[0m\n",
       "\u001B[0;32m----> 1\u001B[0m df \u001B[38;5;241m=\u001B[39m df\u001B[38;5;241m.\u001B[39mwithColumn(\u001B[38;5;124m\"\u001B[39m\u001B[38;5;124mfnac\u001B[39m\u001B[38;5;124m\"\u001B[39m, \u001B[43mto_date\u001B[49m(df\u001B[38;5;241m.\u001B[39mDate, \u001B[38;5;124m\"\u001B[39m\u001B[38;5;124mM/d/yyy\u001B[39m\u001B[38;5;124m\"\u001B[39m))\n",
       "\n",
       "\u001B[0;31mNameError\u001B[0m: name 'to_date' is not defined"
      ]
     },
     "metadata": {
      "application/vnd.databricks.v1+output": {
       "arguments": {},
       "data": "\u001B[0;31m---------------------------------------------------------------------------\u001B[0m\n\u001B[0;31mNameError\u001B[0m                                 Traceback (most recent call last)\nFile \u001B[0;32m<command-1839072699364289>:1\u001B[0m\n\u001B[0;32m----> 1\u001B[0m df \u001B[38;5;241m=\u001B[39m df\u001B[38;5;241m.\u001B[39mwithColumn(\u001B[38;5;124m\"\u001B[39m\u001B[38;5;124mfnac\u001B[39m\u001B[38;5;124m\"\u001B[39m, \u001B[43mto_date\u001B[49m(df\u001B[38;5;241m.\u001B[39mDate, \u001B[38;5;124m\"\u001B[39m\u001B[38;5;124mM/d/yyy\u001B[39m\u001B[38;5;124m\"\u001B[39m))\n\n\u001B[0;31mNameError\u001B[0m: name 'to_date' is not defined",
       "errorSummary": "<span class='ansi-red-fg'>NameError</span>: name 'to_date' is not defined",
       "errorTraceType": "ansi",
       "metadata": {},
       "type": "ipynbError"
      }
     },
     "output_type": "display_data"
    }
   ],
   "source": [
    "#df = df.withColumn(\"fnac\", to_date(df.Date, \"M/d/yyy\"))"
   ]
  },
  {
   "cell_type": "markdown",
   "metadata": {
    "application/vnd.databricks.v1+cell": {
     "cellMetadata": {},
     "inputWidgets": {},
     "nuid": "6f5e0df6-a7b5-4847-891f-62d1cbfa8a01",
     "showTitle": false,
     "tableResultSettingsMap": {},
     "title": ""
    }
   },
   "source": [
    "> **Errores al leer datos**  \n",
    "> Si tenemos un error al leer un dato que contiene un tipo no esperado, por defecto, Spark lanzará una excepción y se detendrá la lectura.  \n",
    "> Si queremos que asigne los tipos a los campos pero que no los valide, podemos pasarle el parámetro extra verifySchema a False al crear un DataFrame mediante spark.createDataFrame o enforceSchema también a False al cargar desde una fuente externa mediante spark.read, de manera que los datos que no concuerden con el tipo se quedarán nulos, vacíos o con valor 0, dependiendo del tipo de dato que tiene asignada la columna en el esquema.  \n",
    "`dfClientes = spark.read.option(\"header\", True).option(\"enforceSchema\",False).schema(esquema).csv(\"clientes.csv\")`"
   ]
  },
  {
   "cell_type": "markdown",
   "metadata": {
    "application/vnd.databricks.v1+cell": {
     "cellMetadata": {},
     "inputWidgets": {},
     "nuid": "843378ce-0b49-4ca3-bde7-970a381e2f47",
     "showTitle": false,
     "tableResultSettingsMap": {},
     "title": ""
    }
   },
   "source": [
    "## DATAFRAME API"
   ]
  },
  {
   "cell_type": "markdown",
   "metadata": {
    "application/vnd.databricks.v1+cell": {
     "cellMetadata": {},
     "inputWidgets": {},
     "nuid": "423cad22-87e2-4cf2-9493-2b218f29eb9c",
     "showTitle": false,
     "tableResultSettingsMap": {},
     "title": ""
    }
   },
   "source": [
    "Una vez tenemos un DataFrame podemos trabajar con los datos mediante un conjunto de operaciones estructuradas, muy similares al lenguaje relacional. Estas operaciones también se clasifican en transformaciones y acciones, recordando que las transformaciones utilizan una evaluación perezosa.  \n",
    "Es muy importante tener en cuenta que todas las operaciones que vamos a realizar a continuación son immutables, es decir, nunca van a modificar el DataFrame sobre el que realizamos la transformación. Así pues, realizaremos encadenamiento de transformaciones (transformation chaining) o asignaremos el resultado a un nuevo DataFrame."
   ]
  },
  {
   "cell_type": "markdown",
   "metadata": {
    "application/vnd.databricks.v1+cell": {
     "cellMetadata": {},
     "inputWidgets": {},
     "nuid": "17146052-998f-49cc-b948-da3e15cd03b2",
     "showTitle": false,
     "tableResultSettingsMap": {},
     "title": ""
    }
   },
   "source": [
    "> **Preparación**\n",
    "> Para los siguientes apartados, vamos a trabajar sobre el siguiente DataFrame con el fichero de [ventas](https://tajamar365.sharepoint.com/:x:/s/3405-MasterIA2024-2025/EW5mbeDvxFpKkePpayR4A6gBmrh_dpG54CxcqODEnQ7hMw?e=RixWQy) que se ha utilizado en casos anteriores:"
   ]
  },
  {
   "cell_type": "code",
   "execution_count": 0,
   "metadata": {
    "application/vnd.databricks.v1+cell": {
     "cellMetadata": {
      "byteLimit": 2048000,
      "rowLimit": 10000
     },
     "inputWidgets": {},
     "nuid": "2ea0d4cc-07a8-4de4-8bf6-3842a0fd58ff",
     "showTitle": false,
     "tableResultSettingsMap": {},
     "title": ""
    }
   },
   "outputs": [
    {
     "output_type": "stream",
     "name": "stdout",
     "output_type": "stream",
     "text": [
      "root\n |-- ProductID: integer (nullable = true)\n |-- Date: date (nullable = true)\n |-- Zip: string (nullable = true)\n |-- Units: integer (nullable = true)\n |-- Revenue: double (nullable = true)\n |-- Country: string (nullable = true)\n\n"
     ]
    }
   ],
   "source": [
    "from pyspark.sql import SparkSession\n",
    "\n",
    "spark = SparkSession.builder.appName(\"s8a-dataframes-api\").getOrCreate()\n",
    "# Lectura de CSV con el ; como separador de columnas y con encabezado\n",
    "df = spark.read.option(\"sep\",\";\").option(\"header\", \"true\").option(\"inferSchema\", \"true\").csv(\"dbfs:/FileStore/Notebook/pdi_sales_small.csv\")\n",
    "df.printSchema()"
   ]
  },
  {
   "cell_type": "markdown",
   "metadata": {
    "application/vnd.databricks.v1+cell": {
     "cellMetadata": {},
     "inputWidgets": {},
     "nuid": "0acbc999-337e-48a6-afce-88a14c8569d5",
     "showTitle": false,
     "tableResultSettingsMap": {},
     "title": ""
    }
   },
   "source": [
    "### Proyectando"
   ]
  },
  {
   "cell_type": "markdown",
   "metadata": {
    "application/vnd.databricks.v1+cell": {
     "cellMetadata": {},
     "inputWidgets": {},
     "nuid": "70c3d38a-50bd-4f7c-ba43-eb0fb7d81956",
     "showTitle": false,
     "tableResultSettingsMap": {},
     "title": ""
    }
   },
   "source": [
    "La operación [select](https://spark.apache.org/docs/latest/api/python/reference/pyspark.sql/api/pyspark.sql.DataFrame.select.html) permite indicar las columnas a recuperar pasándolas como parámetros:"
   ]
  },
  {
   "cell_type": "code",
   "execution_count": 0,
   "metadata": {
    "application/vnd.databricks.v1+cell": {
     "cellMetadata": {
      "byteLimit": 2048000,
      "rowLimit": 10000
     },
     "inputWidgets": {},
     "nuid": "93fe4047-5286-47f2-a97d-0ad839dc0e37",
     "showTitle": false,
     "tableResultSettingsMap": {},
     "title": ""
    }
   },
   "outputs": [
    {
     "output_type": "stream",
     "name": "stdout",
     "output_type": "stream",
     "text": [
      "+---------+-------+\n|ProductID|Revenue|\n+---------+-------+\n|      725|  115.5|\n|      787|  314.9|\n|      788|  314.9|\n+---------+-------+\nonly showing top 3 rows\n\n"
     ]
    }
   ],
   "source": [
    "# Consulta de columnas\n",
    "df.select(\"ProductID\",\"Revenue\").show(3)"
   ]
  },
  {
   "cell_type": "markdown",
   "metadata": {
    "application/vnd.databricks.v1+cell": {
     "cellMetadata": {},
     "inputWidgets": {},
     "nuid": "d5c05f7d-a428-4ec9-9bc0-c0cfe098345f",
     "showTitle": false,
     "tableResultSettingsMap": {},
     "title": ""
    }
   },
   "source": [
    "También podemos realizar cálculos (referenciando a los campos con `nombreDataframe.nombreColumna`) sobre las columnas y crear un alias (operación asociada a un campo):"
   ]
  },
  {
   "cell_type": "code",
   "execution_count": 0,
   "metadata": {
    "application/vnd.databricks.v1+cell": {
     "cellMetadata": {
      "byteLimit": 2048000,
      "rowLimit": 10000
     },
     "inputWidgets": {},
     "nuid": "e4cec36e-2ea1-4667-8078-a2e2fcf1871b",
     "showTitle": false,
     "tableResultSettingsMap": {},
     "title": ""
    }
   },
   "outputs": [
    {
     "output_type": "stream",
     "name": "stdout",
     "output_type": "stream",
     "text": [
      "+---------+-----------+\n|ProductID|VentasMas10|\n+---------+-----------+\n|      725|      125.5|\n|      787|      324.9|\n|      788|      324.9|\n+---------+-----------+\nonly showing top 3 rows\n\n"
     ]
    }
   ],
   "source": [
    "# Calculo y creación del alias\n",
    "df.select(df.ProductID,(df.Revenue+10).alias(\"VentasMas10\")).show(3)"
   ]
  },
  {
   "cell_type": "markdown",
   "metadata": {
    "application/vnd.databricks.v1+cell": {
     "cellMetadata": {},
     "inputWidgets": {},
     "nuid": "bee2c6bd-89c5-4739-bda1-cb2860454a37",
     "showTitle": false,
     "tableResultSettingsMap": {},
     "title": ""
    }
   },
   "source": [
    "Si tenemos un DataFrame con un gran número de columnas y queremos recuperarlas todas a excepción de unas pocas, es más cómodo utilizar la transformación [drop](https://spark.apache.org/docs/latest/api/python/reference/pyspark.sql/api/pyspark.sql.DataFrame.drop.html), la cual funciona de manera opuesta a `select`, es decir, indicando las columnas que queremos quitar del resultado:"
   ]
  },
  {
   "cell_type": "code",
   "execution_count": 0,
   "metadata": {
    "application/vnd.databricks.v1+cell": {
     "cellMetadata": {
      "byteLimit": 2048000,
      "rowLimit": 10000
     },
     "inputWidgets": {},
     "nuid": "8e84a188-4b9d-4330-8658-603fe067618d",
     "showTitle": false,
     "tableResultSettingsMap": {},
     "title": ""
    }
   },
   "outputs": [
    {
     "output_type": "stream",
     "name": "stdout",
     "output_type": "stream",
     "text": [
      "Out[48]: DataFrame[ProductID: int, Date: date, Zip: string]"
     ]
    }
   ],
   "source": [
    "# Obtenemos el mismo resultado\n",
    "df.select(\"ProductID\", \"Date\", \"Zip\")\n",
    "df.drop(\"Units\", \"Revenue\", \"Country\")"
   ]
  },
  {
   "cell_type": "markdown",
   "metadata": {
    "application/vnd.databricks.v1+cell": {
     "cellMetadata": {},
     "inputWidgets": {},
     "nuid": "d6f68952-9e19-4013-93e1-1b4e70775c17",
     "showTitle": false,
     "tableResultSettingsMap": {},
     "title": ""
    }
   },
   "source": [
    "### Trabajando con columnas"
   ]
  },
  {
   "cell_type": "markdown",
   "metadata": {
    "application/vnd.databricks.v1+cell": {
     "cellMetadata": {},
     "inputWidgets": {},
     "nuid": "44695f96-d13c-4d3c-987e-584c562a16a5",
     "showTitle": false,
     "tableResultSettingsMap": {},
     "title": ""
    }
   },
   "source": [
    "Para acceder a las columnas, debemos crear objetos [Column](https://spark.apache.org/docs/latest/api/python/reference/pyspark.sql/column.html). Para ello, podemos seleccionarlos a partir de un DataFrame como una propiedad o mediante la función `col`:"
   ]
  },
  {
   "cell_type": "code",
   "execution_count": 0,
   "metadata": {
    "application/vnd.databricks.v1+cell": {
     "cellMetadata": {
      "byteLimit": 2048000,
      "rowLimit": 10000
     },
     "inputWidgets": {},
     "nuid": "3f05865b-8fad-48aa-b69f-7e2882c09348",
     "showTitle": false,
     "tableResultSettingsMap": {},
     "title": ""
    }
   },
   "outputs": [],
   "source": [
    "# nomCliente = df.nombre\n",
    "# nomCliente = df[\"ProductID\"]\n",
    "# nomCliente = col(\"ProductID\")"
   ]
  },
  {
   "cell_type": "markdown",
   "metadata": {
    "application/vnd.databricks.v1+cell": {
     "cellMetadata": {},
     "inputWidgets": {},
     "nuid": "37074e1b-2be3-4993-a846-c182ca121962",
     "showTitle": false,
     "tableResultSettingsMap": {},
     "title": ""
    }
   },
   "source": [
    "Así pues, podemos recuperar ciertas columnas de un DataFrame con cualquier de las siguientes expresiones:"
   ]
  },
  {
   "cell_type": "code",
   "execution_count": 0,
   "metadata": {
    "application/vnd.databricks.v1+cell": {
     "cellMetadata": {
      "byteLimit": 2048000,
      "rowLimit": 10000
     },
     "inputWidgets": {},
     "nuid": "5c04cb8f-edd7-49a0-99ed-fdfa0f1d5050",
     "showTitle": false,
     "tableResultSettingsMap": {},
     "title": ""
    }
   },
   "outputs": [
    {
     "output_type": "stream",
     "name": "stdout",
     "output_type": "stream",
     "text": [
      "+---------+-------+\n|ProductID|Revenue|\n+---------+-------+\n|      725|  115.5|\n|      787|  314.9|\n|      788|  314.9|\n|      940|  687.7|\n|      396|  857.1|\n|      734|  330.7|\n|      769|  257.2|\n|      499|  846.3|\n|     2254|   57.7|\n|       31|  761.2|\n|      475|  970.2|\n|      510|  837.1|\n|      499|  883.0|\n|      289|  866.0|\n|      702|  286.1|\n|      910|  414.7|\n|      901|  818.9|\n|      550|  404.0|\n|      559|  585.6|\n|      767|  105.0|\n+---------+-------+\nonly showing top 20 rows\n\n+---------+-------+\n|ProductID|Revenue|\n+---------+-------+\n|      725|  115.5|\n|      787|  314.9|\n|      788|  314.9|\n|      940|  687.7|\n|      396|  857.1|\n|      734|  330.7|\n|      769|  257.2|\n|      499|  846.3|\n|     2254|   57.7|\n|       31|  761.2|\n|      475|  970.2|\n|      510|  837.1|\n|      499|  883.0|\n|      289|  866.0|\n|      702|  286.1|\n|      910|  414.7|\n|      901|  818.9|\n|      550|  404.0|\n|      559|  585.6|\n|      767|  105.0|\n+---------+-------+\nonly showing top 20 rows\n\n+---------+-------+\n|ProductID|Revenue|\n+---------+-------+\n|      725|  115.5|\n|      787|  314.9|\n|      788|  314.9|\n|      940|  687.7|\n|      396|  857.1|\n|      734|  330.7|\n|      769|  257.2|\n|      499|  846.3|\n|     2254|   57.7|\n|       31|  761.2|\n|      475|  970.2|\n|      510|  837.1|\n|      499|  883.0|\n|      289|  866.0|\n|      702|  286.1|\n|      910|  414.7|\n|      901|  818.9|\n|      550|  404.0|\n|      559|  585.6|\n|      767|  105.0|\n+---------+-------+\nonly showing top 20 rows\n\n+---------+-------+\n|ProductID|Revenue|\n+---------+-------+\n|      725|  115.5|\n|      787|  314.9|\n|      788|  314.9|\n|      940|  687.7|\n|      396|  857.1|\n|      734|  330.7|\n|      769|  257.2|\n|      499|  846.3|\n|     2254|   57.7|\n|       31|  761.2|\n|      475|  970.2|\n|      510|  837.1|\n|      499|  883.0|\n|      289|  866.0|\n|      702|  286.1|\n|      910|  414.7|\n|      901|  818.9|\n|      550|  404.0|\n|      559|  585.6|\n|      767|  105.0|\n+---------+-------+\nonly showing top 20 rows\n\n"
     ]
    }
   ],
   "source": [
    "from pyspark.sql.functions import col\n",
    "\n",
    "df.select(\"ProductID\", \"Revenue\").show()\n",
    "df.select(df.ProductID, df.Revenue).show()\n",
    "df.select(df[\"ProductID\"], df[\"Revenue\"]).show()\n",
    "df.select(col(\"ProductID\"), col(\"Revenue\")).show()"
   ]
  },
  {
   "cell_type": "markdown",
   "metadata": {
    "application/vnd.databricks.v1+cell": {
     "cellMetadata": {},
     "inputWidgets": {},
     "nuid": "2d0e5c81-5adb-4e37-8ee7-00b4298893d2",
     "showTitle": false,
     "tableResultSettingsMap": {},
     "title": ""
    }
   },
   "source": [
    "### col vs expr"
   ]
  },
  {
   "cell_type": "markdown",
   "metadata": {
    "application/vnd.databricks.v1+cell": {
     "cellMetadata": {},
     "inputWidgets": {},
     "nuid": "90423995-f1bf-454e-9fa5-ef6217d21b21",
     "showTitle": false,
     "tableResultSettingsMap": {},
     "title": ""
    }
   },
   "source": [
    "En ocasiones se confunde el uso de la función [col ](https://spark.apache.org/docs/latest/api/python/reference/pyspark.sql/api/pyspark.sql.functions.col.html)con [expr](https://spark.apache.org/docs/latest/api/python/reference/pyspark.sql/api/pyspark.sql.functions.expr.html). Aunque podemos referenciar a una columna haciendo uso de `expr`, su uso provoca que se parseé la cadena recibida para interpretarla."
   ]
  },
  {
   "cell_type": "markdown",
   "metadata": {
    "application/vnd.databricks.v1+cell": {
     "cellMetadata": {},
     "inputWidgets": {},
     "nuid": "52b6479d-bfd4-40bb-81f6-58b6eed63ae3",
     "showTitle": false,
     "tableResultSettingsMap": {},
     "title": ""
    }
   },
   "source": [
    "Para el siguiente ejemplo, supongamos que tenemos un DataFrame con datos de clientes. Utilizaremos también la función [concat_ws](https://spark.apache.org/docs/latest/api/python/reference/pyspark.sql/api/pyspark.sql.functions.concat_ws.html) para concatenar textos utilizado un separador."
   ]
  },
  {
   "cell_type": "code",
   "execution_count": 0,
   "metadata": {
    "application/vnd.databricks.v1+cell": {
     "cellMetadata": {
      "byteLimit": 2048000,
      "rowLimit": 10000
     },
     "inputWidgets": {},
     "nuid": "0a9338f2-f68b-4388-befa-48b721a4ee85",
     "showTitle": false,
     "tableResultSettingsMap": {},
     "title": ""
    }
   },
   "outputs": [
    {
     "output_type": "stream",
     "name": "stdout",
     "output_type": "stream",
     "text": [
      "root\n |-- ProductID: integer (nullable = true)\n |-- Date: date (nullable = true)\n |-- Zip: string (nullable = true)\n |-- Units: integer (nullable = true)\n |-- Revenue: double (nullable = true)\n |-- Country: string (nullable = true)\n\n"
     ]
    }
   ],
   "source": [
    "df.printSchema()\n"
   ]
  },
  {
   "cell_type": "code",
   "execution_count": 0,
   "metadata": {
    "application/vnd.databricks.v1+cell": {
     "cellMetadata": {
      "byteLimit": 2048000,
      "rowLimit": 10000
     },
     "inputWidgets": {},
     "nuid": "cc2b5824-823b-48d7-9e18-c4a78c10fa79",
     "showTitle": false,
     "tableResultSettingsMap": {},
     "title": ""
    }
   },
   "outputs": [
    {
     "output_type": "stream",
     "name": "stdout",
     "output_type": "stream",
     "text": [
      "+--------------------+-------+------------------+\n|          CountryZip|Revenue|   AdjustedRevenue|\n+--------------------+-------+------------------+\n|Germany 41540    ...|  115.5|127.05000000000001|\n|Germany 41540    ...|  314.9|            346.39|\n|Germany 41540    ...|  314.9|            346.39|\n|Germany 22587    ...|  687.7| 756.4700000000001|\n|Germany 22587    ...|  857.1| 942.8100000000001|\n|Germany 22587    ...|  330.7|363.77000000000004|\n|Germany 22587    ...|  257.2|            282.92|\n|Germany 12555    ...|  846.3| 930.9300000000001|\n|Germany 40217    ...|   57.7|63.470000000000006|\n|Germany 40217    ...|  761.2| 837.3200000000002|\n|Germany 13583    ...|  970.2|           1067.22|\n|Germany 22337    ...|  837.1| 920.8100000000001|\n|Germany 22337    ...|  883.0| 971.3000000000001|\n|Germany 13587    ...|  866.0|             952.6|\n|Germany 13587    ...|  286.1|314.71000000000004|\n|Germany 13587    ...|  414.7|            456.17|\n|Germany 13587    ...|  818.9| 900.7900000000001|\n|Germany 22177    ...|  404.0|444.40000000000003|\n|Germany 22177    ...|  585.6| 644.1600000000001|\n|Germany 22177    ...|  105.0|115.50000000000001|\n+--------------------+-------+------------------+\nonly showing top 20 rows\n\n"
     ]
    }
   ],
   "source": [
    "from pyspark.sql.functions import col, concat_ws, expr\n",
    "\n",
    "# Seleccionar columnas existentes y realizar operaciones\n",
    "df.select(\n",
    "    concat_ws(\" \", col(\"Country\"), col(\"Zip\")).alias(\"CountryZip\"),  # Concatenar Country y Zip\n",
    "    col(\"Revenue\"),                                                 # Mantener la columna Revenue\n",
    "    expr(\"Revenue * 1.1\").alias(\"AdjustedRevenue\")                  # Calcular nueva columna Revenue ajustada\n",
    ").show()\n"
   ]
  },
  {
   "cell_type": "markdown",
   "metadata": {
    "application/vnd.databricks.v1+cell": {
     "cellMetadata": {},
     "inputWidgets": {},
     "nuid": "1cf4d860-a20f-4f53-aa95-30f09fa92d52",
     "showTitle": false,
     "tableResultSettingsMap": {},
     "title": ""
    }
   },
   "source": [
    "### Añadiendo columnas"
   ]
  },
  {
   "cell_type": "markdown",
   "metadata": {
    "application/vnd.databricks.v1+cell": {
     "cellMetadata": {},
     "inputWidgets": {},
     "nuid": "bde0d0a5-8e98-45cf-af50-401f41ce3db6",
     "showTitle": false,
     "tableResultSettingsMap": {},
     "title": ""
    }
   },
   "source": [
    "Una vez tenemos un DataFrame, podemos añadir columnas mediante el método [withColumn](https://spark.apache.org/docs/latest/api/python/reference/pyspark.sql/api/pyspark.sql.DataFrame.withColumn.html):"
   ]
  },
  {
   "cell_type": "code",
   "execution_count": 0,
   "metadata": {
    "application/vnd.databricks.v1+cell": {
     "cellMetadata": {
      "byteLimit": 2048000,
      "rowLimit": 10000
     },
     "inputWidgets": {},
     "nuid": "3303d0e3-1aac-4e69-a506-f123cdac9ab7",
     "showTitle": false,
     "tableResultSettingsMap": {},
     "title": ""
    }
   },
   "outputs": [
    {
     "output_type": "stream",
     "name": "stdout",
     "output_type": "stream",
     "text": [
      "+---------+----------+---------------+-----+-------+-------+------+\n|ProductID|      Date|            Zip|Units|Revenue|Country| total|\n+---------+----------+---------------+-----+-------+-------+------+\n|      725|1999-01-15|41540          |    1|  115.5|Germany| 115.5|\n|      787|2002-06-06|41540          |    1|  314.9|Germany| 314.9|\n|      788|2002-06-06|41540          |    1|  314.9|Germany| 314.9|\n|      940|1999-01-15|22587          |    1|  687.7|Germany| 687.7|\n|      396|1999-01-15|22587          |    1|  857.1|Germany| 857.1|\n|      734|2003-04-10|22587          |    1|  330.7|Germany| 330.7|\n|      769|1999-02-15|22587          |    1|  257.2|Germany| 257.2|\n|      499|1999-01-15|12555          |    1|  846.3|Germany| 846.3|\n|     2254|1999-01-15|40217          |    1|   57.7|Germany|  57.7|\n|       31|2002-05-31|40217          |    1|  761.2|Germany| 761.2|\n|      475|1999-02-15|13583          |    1|  970.2|Germany| 970.2|\n|      510|1999-01-15|22337          |    1|  837.1|Germany| 837.1|\n|      499|2002-06-05|22337          |    1|  883.0|Germany| 883.0|\n|      289|1999-02-15|13587          |    1|  866.0|Germany| 866.0|\n|      702|1999-02-15|13587          |    1|  286.1|Germany| 286.1|\n|      910|1999-03-15|13587          |    1|  414.7|Germany| 414.7|\n|      901|1999-02-15|13587          |    2|  818.9|Germany|1637.8|\n|      550|1999-01-15|22177          |    1|  404.0|Germany| 404.0|\n|      559|1999-01-15|22177          |    1|  585.6|Germany| 585.6|\n|      767|2002-06-07|22177          |    1|  105.0|Germany| 105.0|\n+---------+----------+---------------+-----+-------+-------+------+\nonly showing top 20 rows\n\n"
     ]
    }
   ],
   "source": [
    "dfNuevo = df.withColumn(\"total\", df.Units * df.Revenue)\n",
    "dfNuevo.show()"
   ]
  },
  {
   "cell_type": "markdown",
   "metadata": {
    "application/vnd.databricks.v1+cell": {
     "cellMetadata": {},
     "inputWidgets": {},
     "nuid": "aa4b62b9-0c01-4531-82bd-238452934973",
     "showTitle": false,
     "tableResultSettingsMap": {},
     "title": ""
    }
   },
   "source": [
    "> **withColumn**\n",
    "> Anteriormente hemos utilizado el método [withColumn](https://spark.apache.org/docs/latest/api/python/reference/pyspark.sql/api/pyspark.sql.DataFrame.withColumn.html) para cambiarle el tipo a un campo ya existente. Así pues, si referenciamos a una columna que ya existe, en vez de crearla, la sustituirá."
   ]
  },
  {
   "cell_type": "markdown",
   "metadata": {
    "application/vnd.databricks.v1+cell": {
     "cellMetadata": {},
     "inputWidgets": {},
     "nuid": "4673713b-6019-4a25-b9c8-bcca0f68c3bf",
     "showTitle": false,
     "tableResultSettingsMap": {},
     "title": ""
    }
   },
   "source": [
    "Otra forma de añadir una columna con una expresión es mediante la transformación [selectExpr](https://spark.apache.org/docs/latest/api/python/reference/pyspark.sql/api/pyspark.sql.DataFrame.selectExpr.html). Por ejemplo, podemos conseguir el mismo resultado que en el ejemplo anterior de la siguiente manera:"
   ]
  },
  {
   "cell_type": "code",
   "execution_count": 0,
   "metadata": {
    "application/vnd.databricks.v1+cell": {
     "cellMetadata": {
      "byteLimit": 2048000,
      "rowLimit": 10000
     },
     "inputWidgets": {},
     "nuid": "03105723-10a8-4409-94a7-455d969f8e72",
     "showTitle": false,
     "tableResultSettingsMap": {},
     "title": ""
    }
   },
   "outputs": [
    {
     "output_type": "stream",
     "name": "stdout",
     "output_type": "stream",
     "text": [
      "+---------+----------+---------------+-----+-------+-------+------+\n|ProductID|      Date|            Zip|Units|Revenue|Country| total|\n+---------+----------+---------------+-----+-------+-------+------+\n|      725|1999-01-15|41540          |    1|  115.5|Germany| 115.5|\n|      787|2002-06-06|41540          |    1|  314.9|Germany| 314.9|\n|      788|2002-06-06|41540          |    1|  314.9|Germany| 314.9|\n|      940|1999-01-15|22587          |    1|  687.7|Germany| 687.7|\n|      396|1999-01-15|22587          |    1|  857.1|Germany| 857.1|\n|      734|2003-04-10|22587          |    1|  330.7|Germany| 330.7|\n|      769|1999-02-15|22587          |    1|  257.2|Germany| 257.2|\n|      499|1999-01-15|12555          |    1|  846.3|Germany| 846.3|\n|     2254|1999-01-15|40217          |    1|   57.7|Germany|  57.7|\n|       31|2002-05-31|40217          |    1|  761.2|Germany| 761.2|\n|      475|1999-02-15|13583          |    1|  970.2|Germany| 970.2|\n|      510|1999-01-15|22337          |    1|  837.1|Germany| 837.1|\n|      499|2002-06-05|22337          |    1|  883.0|Germany| 883.0|\n|      289|1999-02-15|13587          |    1|  866.0|Germany| 866.0|\n|      702|1999-02-15|13587          |    1|  286.1|Germany| 286.1|\n|      910|1999-03-15|13587          |    1|  414.7|Germany| 414.7|\n|      901|1999-02-15|13587          |    2|  818.9|Germany|1637.8|\n|      550|1999-01-15|22177          |    1|  404.0|Germany| 404.0|\n|      559|1999-01-15|22177          |    1|  585.6|Germany| 585.6|\n|      767|2002-06-07|22177          |    1|  105.0|Germany| 105.0|\n+---------+----------+---------------+-----+-------+-------+------+\nonly showing top 20 rows\n\n"
     ]
    }
   ],
   "source": [
    "df.selectExpr(\"*\", \"Units * Revenue as total\").show()"
   ]
  },
  {
   "cell_type": "markdown",
   "metadata": {
    "application/vnd.databricks.v1+cell": {
     "cellMetadata": {},
     "inputWidgets": {},
     "nuid": "ddc45bfe-d66e-4660-8366-410d77698fec",
     "showTitle": false,
     "tableResultSettingsMap": {},
     "title": ""
    }
   },
   "source": [
    "Aunque más adelante veremos como realizar transformaciones con agregaciones, mediante `selectExpr` también podemos realizar analítica de datos aprovechando la potencia de SQL:"
   ]
  },
  {
   "cell_type": "code",
   "execution_count": 0,
   "metadata": {
    "application/vnd.databricks.v1+cell": {
     "cellMetadata": {
      "byteLimit": 2048000,
      "rowLimit": 10000
     },
     "inputWidgets": {},
     "nuid": "db99b9db-c4a6-45a9-a0de-62f84afe701d",
     "showTitle": false,
     "tableResultSettingsMap": {},
     "title": ""
    }
   },
   "outputs": [
    {
     "output_type": "stream",
     "name": "stdout",
     "output_type": "stream",
     "text": [
      "+---------+------+\n|productos|paises|\n+---------+------+\n|      799|     5|\n+---------+------+\n\n"
     ]
    }
   ],
   "source": [
    "df.selectExpr(\"count(distinct(ProductID)) as productos\",\"count(distinct(Country)) as paises\").show()"
   ]
  },
  {
   "cell_type": "markdown",
   "metadata": {
    "application/vnd.databricks.v1+cell": {
     "cellMetadata": {},
     "inputWidgets": {},
     "nuid": "48ac8441-9307-47a8-9596-ec39d17db622",
     "showTitle": false,
     "tableResultSettingsMap": {},
     "title": ""
    }
   },
   "source": [
    "**Cambiando el nombre**  \n",
    "Si por algún extraño motivo necesitamos cambiarle el nombre a una columna (por ejemplo, vamos a unir dos DataFrames que tienen columnas con el mismo nombre pero en posiciones diferentes, o que al inferir el esquema tenga un nombre críptico o demasiado largo y queremos que sea más legible) podemos utilizar la transformación [withColumnRenamed](https://spark.apache.org/docs/latest/api/python/reference/pyspark.sql/api/pyspark.sql.DataFrame.withColumnRenamed.html):"
   ]
  },
  {
   "cell_type": "code",
   "execution_count": 0,
   "metadata": {
    "application/vnd.databricks.v1+cell": {
     "cellMetadata": {
      "byteLimit": 2048000,
      "rowLimit": 10000
     },
     "inputWidgets": {},
     "nuid": "e259493a-b62c-43c1-bfed-9f79fe44b4c4",
     "showTitle": false,
     "tableResultSettingsMap": {},
     "title": ""
    }
   },
   "outputs": [
    {
     "output_type": "stream",
     "name": "stdout",
     "output_type": "stream",
     "text": [
      "+---------+----------+---------------+-----+-------+-------+\n|ProductID|      Date|     PostalCode|Units|Revenue|Country|\n+---------+----------+---------------+-----+-------+-------+\n|      725|1999-01-15|41540          |    1|  115.5|Germany|\n|      787|2002-06-06|41540          |    1|  314.9|Germany|\n|      788|2002-06-06|41540          |    1|  314.9|Germany|\n|      940|1999-01-15|22587          |    1|  687.7|Germany|\n|      396|1999-01-15|22587          |    1|  857.1|Germany|\n+---------+----------+---------------+-----+-------+-------+\nonly showing top 5 rows\n\n"
     ]
    }
   ],
   "source": [
    "df.withColumnRenamed(\"Zip\", \"PostalCode\").show(5)"
   ]
  },
  {
   "cell_type": "markdown",
   "metadata": {
    "application/vnd.databricks.v1+cell": {
     "cellMetadata": {},
     "inputWidgets": {},
     "nuid": "c3039df1-5dc1-4b89-ac05-fa816b9ef3fa",
     "showTitle": false,
     "tableResultSettingsMap": {},
     "title": ""
    }
   },
   "source": [
    "### Filtrando"
   ]
  },
  {
   "cell_type": "markdown",
   "metadata": {
    "application/vnd.databricks.v1+cell": {
     "cellMetadata": {},
     "inputWidgets": {},
     "nuid": "4b2fd5a9-900d-4b09-adf8-6fd2cba611fb",
     "showTitle": false,
     "tableResultSettingsMap": {},
     "title": ""
    }
   },
   "source": [
    "Si queremos eliminar filas, usaremos el método [filter](https://spark.apache.org/docs/latest/api/python/reference/pyspark.sql/api/pyspark.sql.DataFrame.filter.html):"
   ]
  },
  {
   "cell_type": "code",
   "execution_count": 0,
   "metadata": {
    "application/vnd.databricks.v1+cell": {
     "cellMetadata": {
      "byteLimit": 2048000,
      "rowLimit": 10000
     },
     "inputWidgets": {},
     "nuid": "21d1835b-06db-4d3f-ba0b-e5b9edbb4644",
     "showTitle": false,
     "tableResultSettingsMap": {},
     "title": ""
    }
   },
   "outputs": [
    {
     "output_type": "stream",
     "name": "stdout",
     "output_type": "stream",
     "text": [
      "+---------+----------+---------------+-----+-------+-------+\n|ProductID|      Date|            Zip|Units|Revenue|Country|\n+---------+----------+---------------+-----+-------+-------+\n|      725|1999-01-15|41540          |    1|  115.5|Germany|\n|      787|2002-06-06|41540          |    1|  314.9|Germany|\n|      788|2002-06-06|41540          |    1|  314.9|Germany|\n|      940|1999-01-15|22587          |    1|  687.7|Germany|\n|      396|1999-01-15|22587          |    1|  857.1|Germany|\n|      734|2003-04-10|22587          |    1|  330.7|Germany|\n|      769|1999-02-15|22587          |    1|  257.2|Germany|\n|      499|1999-01-15|12555          |    1|  846.3|Germany|\n|     2254|1999-01-15|40217          |    1|   57.7|Germany|\n|       31|2002-05-31|40217          |    1|  761.2|Germany|\n|      475|1999-02-15|13583          |    1|  970.2|Germany|\n|      510|1999-01-15|22337          |    1|  837.1|Germany|\n|      499|2002-06-05|22337          |    1|  883.0|Germany|\n|      289|1999-02-15|13587          |    1|  866.0|Germany|\n|      702|1999-02-15|13587          |    1|  286.1|Germany|\n|      910|1999-03-15|13587          |    1|  414.7|Germany|\n|      901|1999-02-15|13587          |    2|  818.9|Germany|\n|      550|1999-01-15|22177          |    1|  404.0|Germany|\n|      559|1999-01-15|22177          |    1|  585.6|Germany|\n|      767|2002-06-07|22177          |    1|  105.0|Germany|\n+---------+----------+---------------+-----+-------+-------+\nonly showing top 20 rows\n\n"
     ]
    }
   ],
   "source": [
    "df.filter(df.Country==\"Germany\").show()"
   ]
  },
  {
   "cell_type": "markdown",
   "metadata": {
    "application/vnd.databricks.v1+cell": {
     "cellMetadata": {},
     "inputWidgets": {},
     "nuid": "f2edc8dd-1407-413d-a4be-19d43dd3bf62",
     "showTitle": false,
     "tableResultSettingsMap": {},
     "title": ""
    }
   },
   "source": [
    "Por similitud con SQL, podemos utilizar también `where` como un alias de `filter`:"
   ]
  },
  {
   "cell_type": "code",
   "execution_count": 0,
   "metadata": {
    "application/vnd.databricks.v1+cell": {
     "cellMetadata": {
      "byteLimit": 2048000,
      "rowLimit": 10000
     },
     "inputWidgets": {},
     "nuid": "c2db3be3-026b-450b-a7c4-9c5a93e7c25d",
     "showTitle": false,
     "tableResultSettingsMap": {},
     "title": ""
    }
   },
   "outputs": [
    {
     "output_type": "stream",
     "name": "stdout",
     "output_type": "stream",
     "text": [
      "+---------+----------+---------------+-----+-------+-------+\n|ProductID|      Date|            Zip|Units|Revenue|Country|\n+---------+----------+---------------+-----+-------+-------+\n|      495|1999-03-15|75213 CEDEX 16 |   77|43194.1|France |\n|     2091|1999-05-15|9739           |   24| 3652.7|Mexico |\n|     2091|1999-06-15|40213          |   41| 6240.1|Germany|\n|     2091|1999-10-15|40213          |   41| 6347.7|Germany|\n|     2091|1999-12-15|40213          |   23| 3560.9|Germany|\n+---------+----------+---------------+-----+-------+-------+\n\n"
     ]
    }
   ],
   "source": [
    "df.where(df.Units>20).show()"
   ]
  },
  {
   "cell_type": "markdown",
   "metadata": {
    "application/vnd.databricks.v1+cell": {
     "cellMetadata": {},
     "inputWidgets": {},
     "nuid": "cce165dd-c38a-400e-8600-f329466d5399",
     "showTitle": false,
     "tableResultSettingsMap": {},
     "title": ""
    }
   },
   "source": [
    "Podemos utilizar los operadores lógicos (`&` para conjunción y `|` para la disyunción) para crear condiciones compuestas (recordad rodear cada condición entre paréntesis):"
   ]
  },
  {
   "cell_type": "code",
   "execution_count": 0,
   "metadata": {
    "application/vnd.databricks.v1+cell": {
     "cellMetadata": {
      "byteLimit": 2048000,
      "rowLimit": 10000
     },
     "inputWidgets": {},
     "nuid": "82cec3d4-190a-4c83-bf34-921c13691470",
     "showTitle": false,
     "tableResultSettingsMap": {},
     "title": ""
    }
   },
   "outputs": [
    {
     "output_type": "stream",
     "name": "stdout",
     "output_type": "stream",
     "text": [
      "+---------+----------+---------------+-----+-------+-------+\n|ProductID|      Date|            Zip|Units|Revenue|Country|\n+---------+----------+---------------+-----+-------+-------+\n|     2091|1999-06-15|40213          |   41| 6240.1|Germany|\n|     2091|1999-10-15|40213          |   41| 6347.7|Germany|\n|     2091|1999-12-15|40213          |   23| 3560.9|Germany|\n+---------+----------+---------------+-----+-------+-------+\n\n"
     ]
    }
   ],
   "source": [
    "df.filter((df.Country==\"Germany\") & (df.Units>20)).show()"
   ]
  },
  {
   "cell_type": "code",
   "execution_count": 0,
   "metadata": {
    "application/vnd.databricks.v1+cell": {
     "cellMetadata": {
      "byteLimit": 2048000,
      "rowLimit": 10000
     },
     "inputWidgets": {},
     "nuid": "a68d37b5-58a5-47fb-81f4-dfd3fdb95d29",
     "showTitle": false,
     "tableResultSettingsMap": {},
     "title": ""
    }
   },
   "outputs": [
    {
     "output_type": "stream",
     "name": "stdout",
     "output_type": "stream",
     "text": [
      "+---------+----------+---------------+-----+-------+-------+\n|ProductID|      Date|            Zip|Units|Revenue|Country|\n+---------+----------+---------------+-----+-------+-------+\n|     2314|1999-05-15|46045          |    1|   13.9|Germany|\n|     1322|2000-01-06|75593 CEDEX 12 |    1|  254.5|France |\n+---------+----------+---------------+-----+-------+-------+\n\n"
     ]
    }
   ],
   "source": [
    "df.filter((df.ProductID==2314) | (df.ProductID==1322)).show()"
   ]
  },
  {
   "cell_type": "markdown",
   "metadata": {
    "application/vnd.databricks.v1+cell": {
     "cellMetadata": {},
     "inputWidgets": {},
     "nuid": "5f1a4efb-84e0-498c-b999-b2c19743b1ee",
     "showTitle": false,
     "tableResultSettingsMap": {},
     "title": ""
    }
   },
   "source": [
    "Un caso particular de filtrado es la eliminación de los registros repetidos, lo cual lo podemos hacer de dos maneras:  \n",
    "\n",
    "- Haciendo uso del método [distinct](https://spark.apache.org/docs/latest/api/python/reference/pyspark.sql/api/pyspark.sql.DataFrame.distinct.html) tras haber realizado alguna transformación.  \n",
    "- Utilizando [dropDuplicates](https://spark.apache.org/docs/latest/api/python/reference/pyspark.sql/api/pyspark.sql.DataFrame.dropDuplicates.html) sobre un DataFrame:"
   ]
  },
  {
   "cell_type": "code",
   "execution_count": 0,
   "metadata": {
    "application/vnd.databricks.v1+cell": {
     "cellMetadata": {
      "byteLimit": 2048000,
      "rowLimit": 10000
     },
     "inputWidgets": {},
     "nuid": "1d6e426f-6056-460a-aba0-935ed5b722a6",
     "showTitle": false,
     "tableResultSettingsMap": {},
     "title": ""
    }
   },
   "outputs": [
    {
     "output_type": "stream",
     "name": "stdout",
     "output_type": "stream",
     "text": [
      "+-------+\n|Country|\n+-------+\n|Germany|\n|France |\n|Canada |\n|Mexico |\n| France|\n+-------+\n\n"
     ]
    }
   ],
   "source": [
    "df.select(\"Country\").distinct().show()"
   ]
  },
  {
   "cell_type": "code",
   "execution_count": 0,
   "metadata": {
    "application/vnd.databricks.v1+cell": {
     "cellMetadata": {
      "byteLimit": 2048000,
      "rowLimit": 10000
     },
     "inputWidgets": {},
     "nuid": "f6a7e14f-3ac7-4feb-898b-d34f0d9554de",
     "showTitle": false,
     "tableResultSettingsMap": {},
     "title": ""
    }
   },
   "outputs": [
    {
     "output_type": "stream",
     "name": "stdout",
     "output_type": "stream",
     "text": [
      "+-------+\n|Country|\n+-------+\n|Germany|\n|France |\n|Canada |\n|Mexico |\n| France|\n+-------+\n\n"
     ]
    }
   ],
   "source": [
    "df.dropDuplicates([\"Country\"]).select(\"Country\").show()"
   ]
  },
  {
   "cell_type": "markdown",
   "metadata": {
    "application/vnd.databricks.v1+cell": {
     "cellMetadata": {},
     "inputWidgets": {},
     "nuid": "d2fa70bb-c568-4001-8597-4e84eddacf6c",
     "showTitle": false,
     "tableResultSettingsMap": {},
     "title": ""
    }
   },
   "source": [
    "### **Ordenando**  \n",
    "\n",
    "Una vez recuperados los datos deseados, podemos ordenarlos mediante [sort](https://spark.apache.org/docs/latest/api/python/reference/pyspark.sql/api/pyspark.sql.DataFrame.sort.html) u [orderBy](https://spark.apache.org/docs/latest/api/python/reference/pyspark.sql/api/pyspark.sql.DataFrame.orderBy.html) (son operaciones totalmente equivalentes):"
   ]
  },
  {
   "cell_type": "code",
   "execution_count": 0,
   "metadata": {
    "application/vnd.databricks.v1+cell": {
     "cellMetadata": {
      "byteLimit": 2048000,
      "rowLimit": 10000
     },
     "inputWidgets": {},
     "nuid": "f56a6201-387c-4692-928c-656f8a1c95c5",
     "showTitle": false,
     "tableResultSettingsMap": {},
     "title": ""
    }
   },
   "outputs": [
    {
     "output_type": "stream",
     "name": "stdout",
     "output_type": "stream",
     "text": [
      "+---------+-------+\n|ProductID|Revenue|\n+---------+-------+\n|     2314|   13.9|\n|     1974|   52.4|\n|     1974|   52.4|\n|     1974|   52.4|\n|     1974|   52.4|\n+---------+-------+\nonly showing top 5 rows\n\n"
     ]
    }
   ],
   "source": [
    "df.select(\"ProductID\",\"Revenue\").sort(\"Revenue\").show(5)"
   ]
  },
  {
   "cell_type": "code",
   "execution_count": 0,
   "metadata": {
    "application/vnd.databricks.v1+cell": {
     "cellMetadata": {
      "byteLimit": 2048000,
      "rowLimit": 10000
     },
     "inputWidgets": {},
     "nuid": "1baa9d06-1277-4799-8bad-9c69040cae64",
     "showTitle": false,
     "tableResultSettingsMap": {},
     "title": ""
    }
   },
   "outputs": [
    {
     "output_type": "stream",
     "name": "stdout",
     "output_type": "stream",
     "text": [
      "+---------+----------+---------------+-----+-------+-------+\n|ProductID|      Date|            Zip|Units|Revenue|Country|\n+---------+----------+---------------+-----+-------+-------+\n|     2314|1999-05-15|46045          |    1|   13.9|Germany|\n|     1974|1999-03-15|R3B            |    1|   52.4|Canada |\n|     1974|1999-04-15|R3H            |    1|   52.4|Canada |\n|     1974|1999-03-15|R3H            |    1|   52.4|Canada |\n|     1974|1999-01-15|R3S            |    1|   52.4|Canada |\n+---------+----------+---------------+-----+-------+-------+\nonly showing top 5 rows\n\n"
     ]
    }
   ],
   "source": [
    "df.sort(\"Revenue\").show(5)"
   ]
  },
  {
   "cell_type": "code",
   "execution_count": 0,
   "metadata": {
    "application/vnd.databricks.v1+cell": {
     "cellMetadata": {
      "byteLimit": 2048000,
      "rowLimit": 10000
     },
     "inputWidgets": {},
     "nuid": "bd6019c6-bc70-432e-9bdf-acb33b02fa5d",
     "showTitle": false,
     "tableResultSettingsMap": {},
     "title": ""
    }
   },
   "outputs": [
    {
     "output_type": "stream",
     "name": "stdout",
     "output_type": "stream",
     "text": [
      "+---------+----------+---------------+-----+-------+-------+\n|ProductID|      Date|            Zip|Units|Revenue|Country|\n+---------+----------+---------------+-----+-------+-------+\n|     2314|1999-05-15|46045          |    1|   13.9|Germany|\n|     1974|1999-03-15|R3B            |    1|   52.4|Canada |\n|     1974|1999-04-15|R3H            |    1|   52.4|Canada |\n|     1974|1999-03-15|R3H            |    1|   52.4|Canada |\n|     1974|1999-01-15|R3S            |    1|   52.4|Canada |\n+---------+----------+---------------+-----+-------+-------+\nonly showing top 5 rows\n\n"
     ]
    }
   ],
   "source": [
    "df.sort(\"Revenue\", ascending=True).show(5)"
   ]
  },
  {
   "cell_type": "code",
   "execution_count": 0,
   "metadata": {
    "application/vnd.databricks.v1+cell": {
     "cellMetadata": {
      "byteLimit": 2048000,
      "rowLimit": 10000
     },
     "inputWidgets": {},
     "nuid": "2c563cd1-b4eb-446f-9f08-59ca9d96486d",
     "showTitle": false,
     "tableResultSettingsMap": {},
     "title": ""
    }
   },
   "outputs": [
    {
     "output_type": "stream",
     "name": "stdout",
     "output_type": "stream",
     "text": [
      "+---------+----------+---------------+-----+-------+-------+\n|ProductID|      Date|            Zip|Units|Revenue|Country|\n+---------+----------+---------------+-----+-------+-------+\n|     2314|1999-05-15|46045          |    1|   13.9|Germany|\n|     1974|1999-03-15|R3B            |    1|   52.4|Canada |\n|     1974|1999-04-15|R3H            |    1|   52.4|Canada |\n|     1974|1999-03-15|R3H            |    1|   52.4|Canada |\n|     1974|1999-01-15|R3S            |    1|   52.4|Canada |\n+---------+----------+---------------+-----+-------+-------+\nonly showing top 5 rows\n\n"
     ]
    }
   ],
   "source": [
    "df.sort(df.Revenue.asc()).show(5)"
   ]
  },
  {
   "cell_type": "code",
   "execution_count": 0,
   "metadata": {
    "application/vnd.databricks.v1+cell": {
     "cellMetadata": {
      "byteLimit": 2048000,
      "rowLimit": 10000
     },
     "inputWidgets": {},
     "nuid": "6d93ddbd-10b7-4720-a1a3-401e4f56faff",
     "showTitle": false,
     "tableResultSettingsMap": {},
     "title": ""
    }
   },
   "outputs": [
    {
     "output_type": "stream",
     "name": "stdout",
     "output_type": "stream",
     "text": [
      "+---------+----------+---------------+-----+-------+-------+\n|ProductID|      Date|            Zip|Units|Revenue|Country|\n+---------+----------+---------------+-----+-------+-------+\n|      495|1999-03-15|75213 CEDEX 16 |   77|43194.1|France |\n|      495|2000-03-01|75391 CEDEX 08 |   18|10395.0|France |\n|      464|2003-06-11|75213 CEDEX 16 |   16|10075.8|France |\n|      464|2000-08-01|22397          |   17| 9817.5|Germany|\n|      495|2000-03-01|06175 CEDEX 2  |   16| 9240.0|France |\n+---------+----------+---------------+-----+-------+-------+\nonly showing top 5 rows\n\n"
     ]
    }
   ],
   "source": [
    "# Ordenación descendente\n",
    "df.sort(df.Revenue.desc()).show(5)"
   ]
  },
  {
   "cell_type": "code",
   "execution_count": 0,
   "metadata": {
    "application/vnd.databricks.v1+cell": {
     "cellMetadata": {
      "byteLimit": 2048000,
      "rowLimit": 10000
     },
     "inputWidgets": {},
     "nuid": "7c42d26b-88ed-44e5-aa6a-9823a8a76e06",
     "showTitle": false,
     "tableResultSettingsMap": {},
     "title": ""
    }
   },
   "outputs": [
    {
     "output_type": "stream",
     "name": "stdout",
     "output_type": "stream",
     "text": [
      "+---------+----------+---------------+-----+-------+-------+\n|ProductID|      Date|            Zip|Units|Revenue|Country|\n+---------+----------+---------------+-----+-------+-------+\n|      495|1999-03-15|75213 CEDEX 16 |   77|43194.1|France |\n|      495|2000-03-01|75391 CEDEX 08 |   18|10395.0|France |\n|      464|2003-06-11|75213 CEDEX 16 |   16|10075.8|France |\n|      464|2000-08-01|22397          |   17| 9817.5|Germany|\n|      495|2000-03-01|06175 CEDEX 2  |   16| 9240.0|France |\n+---------+----------+---------------+-----+-------+-------+\nonly showing top 5 rows\n\n"
     ]
    }
   ],
   "source": [
    "df.sort(\"Revenue\", ascending=False).show(5)"
   ]
  },
  {
   "cell_type": "code",
   "execution_count": 0,
   "metadata": {
    "application/vnd.databricks.v1+cell": {
     "cellMetadata": {
      "byteLimit": 2048000,
      "rowLimit": 10000
     },
     "inputWidgets": {},
     "nuid": "ef525ebc-1d93-421a-b473-4fd17f512332",
     "showTitle": false,
     "tableResultSettingsMap": {},
     "title": ""
    }
   },
   "outputs": [
    {
     "output_type": "stream",
     "name": "stdout",
     "output_type": "stream",
     "text": [
      "+---------+----------+---------------+-----+-------+-------+\n|ProductID|      Date|            Zip|Units|Revenue|Country|\n+---------+----------+---------------+-----+-------+-------+\n|      495|1999-03-15|75213 CEDEX 16 |   77|43194.1|France |\n|      495|2000-03-01|75391 CEDEX 08 |   18|10395.0|France |\n|      464|2003-06-11|75213 CEDEX 16 |   16|10075.8|France |\n|      464|2000-08-01|22397          |   17| 9817.5|Germany|\n|      495|2000-03-01|06175 CEDEX 2  |   16| 9240.0|France |\n+---------+----------+---------------+-----+-------+-------+\nonly showing top 5 rows\n\n"
     ]
    }
   ],
   "source": [
    "from pyspark.sql.functions import desc\n",
    "df.sort(desc(\"Revenue\")).show(5)"
   ]
  },
  {
   "cell_type": "code",
   "execution_count": 0,
   "metadata": {
    "application/vnd.databricks.v1+cell": {
     "cellMetadata": {
      "byteLimit": 2048000,
      "rowLimit": 10000
     },
     "inputWidgets": {},
     "nuid": "1ad58080-06d7-484c-bcfb-a7a59c711a28",
     "showTitle": false,
     "tableResultSettingsMap": {},
     "title": ""
    }
   },
   "outputs": [
    {
     "output_type": "stream",
     "name": "stdout",
     "output_type": "stream",
     "text": [
      "+---------+----------+---------------+-----+-------+-------+\n|ProductID|      Date|            Zip|Units|Revenue|Country|\n+---------+----------+---------------+-----+-------+-------+\n|      495|1999-03-15|75213 CEDEX 16 |   77|43194.1|France |\n|      495|2000-03-01|75391 CEDEX 08 |   18|10395.0|France |\n|      464|2003-06-11|75213 CEDEX 16 |   16|10075.8|France |\n|      464|2000-08-01|22397          |   17| 9817.5|Germany|\n|      495|2000-03-01|06175 CEDEX 2  |   16| 9240.0|France |\n+---------+----------+---------------+-----+-------+-------+\nonly showing top 5 rows\n\n"
     ]
    }
   ],
   "source": [
    "# Ordenación diferente en cada columna\n",
    "df.sort(df.Revenue.desc(), df.Units.asc()).show(5)"
   ]
  },
  {
   "cell_type": "code",
   "execution_count": 0,
   "metadata": {
    "application/vnd.databricks.v1+cell": {
     "cellMetadata": {
      "byteLimit": 2048000,
      "rowLimit": 10000
     },
     "inputWidgets": {},
     "nuid": "85b80fe8-8940-42ad-a5d2-c4ef2eaf0484",
     "showTitle": false,
     "tableResultSettingsMap": {},
     "title": ""
    }
   },
   "outputs": [
    {
     "output_type": "stream",
     "name": "stdout",
     "output_type": "stream",
     "text": [
      "+---------+----------+---------------+-----+-------+-------+\n|ProductID|      Date|            Zip|Units|Revenue|Country|\n+---------+----------+---------------+-----+-------+-------+\n|      495|1999-03-15|75213 CEDEX 16 |   77|43194.1|France |\n|      495|2000-03-01|75391 CEDEX 08 |   18|10395.0|France |\n|      464|2003-06-11|75213 CEDEX 16 |   16|10075.8|France |\n|      464|2000-08-01|22397          |   17| 9817.5|Germany|\n|      495|2000-03-01|06175 CEDEX 2  |   16| 9240.0|France |\n+---------+----------+---------------+-----+-------+-------+\nonly showing top 5 rows\n\n"
     ]
    }
   ],
   "source": [
    "df.sort([\"Revenue\",\"Units\"], ascending=[0,1]).show(5)"
   ]
  },
  {
   "cell_type": "markdown",
   "metadata": {
    "application/vnd.databricks.v1+cell": {
     "cellMetadata": {},
     "inputWidgets": {},
     "nuid": "d9c4557f-08c0-4fec-a2cc-fe61afab2a4f",
     "showTitle": false,
     "tableResultSettingsMap": {},
     "title": ""
    }
   },
   "source": [
    "Normalmente, tras realizar una ordenación, es habitual quedarse con un subconjunto de los datos. Para ello, podemos utilizar la transformación [limit](https://spark.apache.org/docs/latest/api/python/reference/pyspark.sql/api/pyspark.sql.DataFrame.limit.html).  \n",
    "Por ejemplo, la siguiente transformación es similar al ejemplo anterior, sólo que ahora al driver únicamente le llegan 5 registros, en vez de traerlos todos y sólo mostrar 5:"
   ]
  },
  {
   "cell_type": "code",
   "execution_count": 0,
   "metadata": {
    "application/vnd.databricks.v1+cell": {
     "cellMetadata": {
      "byteLimit": 2048000,
      "rowLimit": 10000
     },
     "inputWidgets": {},
     "nuid": "d11697f7-5a95-4263-bbd5-be87188ef17c",
     "showTitle": false,
     "tableResultSettingsMap": {},
     "title": ""
    }
   },
   "outputs": [
    {
     "output_type": "stream",
     "name": "stdout",
     "output_type": "stream",
     "text": [
      "+---------+----------+---------------+-----+-------+-------+\n|ProductID|      Date|            Zip|Units|Revenue|Country|\n+---------+----------+---------------+-----+-------+-------+\n|      495|1999-03-15|75213 CEDEX 16 |   77|43194.1|France |\n|      495|2000-03-01|75391 CEDEX 08 |   18|10395.0|France |\n|      464|2003-06-11|75213 CEDEX 16 |   16|10075.8|France |\n|      464|2000-08-01|22397          |   17| 9817.5|Germany|\n|      495|2000-03-01|06175 CEDEX 2  |   16| 9240.0|France |\n+---------+----------+---------------+-----+-------+-------+\n\n"
     ]
    }
   ],
   "source": [
    "df.sort(df.Revenue.desc(), df.Units.asc()).limit(5).show()"
   ]
  },
  {
   "cell_type": "markdown",
   "metadata": {
    "application/vnd.databricks.v1+cell": {
     "cellMetadata": {},
     "inputWidgets": {},
     "nuid": "155cfbd0-df65-4aaa-a542-fe99af9c93ad",
     "showTitle": false,
     "tableResultSettingsMap": {},
     "title": ""
    }
   },
   "source": [
    "### **Añadiendo filas**  \n",
    "\n",
    "a única manera de añadir filas a un DataFrame es creando uno nuevo que sea el resultado de unir dos DataFrames que compartan el mismo esquema (mismo nombres de columnas y en el mismo orden). Para ello, utilizaremos la transformación [union](https://spark.apache.org/docs/latest/api/python/reference/pyspark.sql/api/pyspark.sql.DataFrame.union.html) que realiza la unión por el orden de las columnas:"
   ]
  },
  {
   "cell_type": "code",
   "execution_count": 0,
   "metadata": {
    "application/vnd.databricks.v1+cell": {
     "cellMetadata": {
      "byteLimit": 2048000,
      "rowLimit": 10000
     },
     "inputWidgets": {},
     "nuid": "a730fee4-1be9-4ef7-b660-a72e74334cff",
     "showTitle": false,
     "tableResultSettingsMap": {},
     "title": ""
    }
   },
   "outputs": [],
   "source": [
    "nuevasVentas = [\n",
    "    (6666, \"2022-03-24\", \"03206\", 33, 3333.33, \"Spain\"),\n",
    "    (6666, \"2022-03-25\", \"03206\", 22, 2222.22, \"Spain\"),\n",
    "]\n",
    "\n",
    "# Creamos un nuevo DataFrame con las nuevas ventas\n",
    "nvDF = spark.createDataFrame(nuevasVentas)\n"
   ]
  },
  {
   "cell_type": "code",
   "execution_count": 0,
   "metadata": {
    "application/vnd.databricks.v1+cell": {
     "cellMetadata": {
      "byteLimit": 2048000,
      "rowLimit": 10000
     },
     "inputWidgets": {},
     "nuid": "c91f9649-aa9b-426a-a9d1-e63941a72ad2",
     "showTitle": false,
     "tableResultSettingsMap": {},
     "title": ""
    }
   },
   "outputs": [],
   "source": [
    "# Unimos los dos DataFrames\n",
    "dfUpdated = df.union(nvDF)"
   ]
  },
  {
   "cell_type": "markdown",
   "metadata": {
    "application/vnd.databricks.v1+cell": {
     "cellMetadata": {},
     "inputWidgets": {},
     "nuid": "74582393-b660-4203-bf0a-728d8f25d5a2",
     "showTitle": false,
     "tableResultSettingsMap": {},
     "title": ""
    }
   },
   "source": [
    "> **Trabajando con conjuntos**  \n",
    "> Considerando dos DataFrames como dos conjuntos, podemos emplear las operaciones [union](https://spark.apache.org/docs/latest/api/python/reference/pyspark.sql/api/pyspark.sql.DataFrame.union.html), [intersect](https://spark.apache.org/docs/latest/api/python/reference/pyspark.sql/api/pyspark.sql.DataFrame.intersect.html), [intersectAll](https://spark.apache.org/docs/latest/api/python/reference/pyspark.sql/api/pyspark.sql.DataFrame.intersectAll.html) (mantiene los duplicados), [exceptAll](https://spark.apache.org/docs/latest/api/python/reference/pyspark.sql/api/pyspark.sql.DataFrame.exceptAll.html) (mantiene los duplicados) y [subtract](https://spark.apache.org/docs/latest/api/python/reference/pyspark.sql/api/pyspark.sql.DataFrame.subtract.html) ."
   ]
  },
  {
   "cell_type": "markdown",
   "metadata": {
    "application/vnd.databricks.v1+cell": {
     "cellMetadata": {},
     "inputWidgets": {},
     "nuid": "5f8a6fd8-641f-4c94-b7cf-11d91a9ba59e",
     "showTitle": false,
     "tableResultSettingsMap": {},
     "title": ""
    }
   },
   "source": [
    "### Cogiendo muestras  \n",
    "Si necesitamos recoger un subconjunto de los datos, ya sea para preparar los datos para algún modelo de machine learning como para una muestra aleatoria de los mismos, podemos utilizar las siguientes transformaciones:  \n",
    "- [sample](https://spark.apache.org/docs/latest/api/python/reference/pyspark.sql/api/pyspark.sql.DataFrame.sample.html) permite obtener una muestra a partir de un porcentaje (no tiene porqué obtener una cantidad exacta). También admite un semilla e indicar si queremos que pueda repetir los datos."
   ]
  },
  {
   "cell_type": "code",
   "execution_count": 0,
   "metadata": {
    "application/vnd.databricks.v1+cell": {
     "cellMetadata": {
      "byteLimit": 2048000,
      "rowLimit": 10000
     },
     "inputWidgets": {},
     "nuid": "a6d1e559-fcf6-435f-a8b4-724c63ea5540",
     "showTitle": false,
     "tableResultSettingsMap": {},
     "title": ""
    }
   },
   "outputs": [
    {
     "output_type": "stream",
     "name": "stdout",
     "output_type": "stream",
     "text": [
      "Out[74]: 120239"
     ]
    }
   ],
   "source": [
    "df.count()                  # 120239"
   ]
  },
  {
   "cell_type": "code",
   "execution_count": 0,
   "metadata": {
    "application/vnd.databricks.v1+cell": {
     "cellMetadata": {
      "byteLimit": 2048000,
      "rowLimit": 10000
     },
     "inputWidgets": {},
     "nuid": "1a6ed476-3dc1-425b-b749-9b381b2334a5",
     "showTitle": false,
     "tableResultSettingsMap": {},
     "title": ""
    }
   },
   "outputs": [],
   "source": [
    "muestra = df.sample(0.10)"
   ]
  },
  {
   "cell_type": "code",
   "execution_count": 0,
   "metadata": {
    "application/vnd.databricks.v1+cell": {
     "cellMetadata": {
      "byteLimit": 2048000,
      "rowLimit": 10000
     },
     "inputWidgets": {},
     "nuid": "3b6fd6e1-bd7f-48ea-91aa-d0de0b97ffdc",
     "showTitle": false,
     "tableResultSettingsMap": {},
     "title": ""
    }
   },
   "outputs": [
    {
     "output_type": "stream",
     "name": "stdout",
     "output_type": "stream",
     "text": [
      "Out[76]: 12162"
     ]
    }
   ],
   "source": [
    "muestra.count()             # 11876"
   ]
  },
  {
   "cell_type": "code",
   "execution_count": 0,
   "metadata": {
    "application/vnd.databricks.v1+cell": {
     "cellMetadata": {
      "byteLimit": 2048000,
      "rowLimit": 10000
     },
     "inputWidgets": {},
     "nuid": "0638d717-1d08-4c80-8b61-699dce5c22d7",
     "showTitle": false,
     "tableResultSettingsMap": {},
     "title": ""
    }
   },
   "outputs": [],
   "source": [
    "muestraConRepetidos = df.sample(True, 0.10)"
   ]
  },
  {
   "cell_type": "code",
   "execution_count": 0,
   "metadata": {
    "application/vnd.databricks.v1+cell": {
     "cellMetadata": {
      "byteLimit": 2048000,
      "rowLimit": 10000
     },
     "inputWidgets": {},
     "nuid": "88f979a8-bbc3-49ae-8138-f2a3ab955e98",
     "showTitle": false,
     "tableResultSettingsMap": {},
     "title": ""
    }
   },
   "outputs": [
    {
     "output_type": "stream",
     "name": "stdout",
     "output_type": "stream",
     "text": [
      "Out[78]: 12189"
     ]
    }
   ],
   "source": [
    "muestraConRepetidos.count() # 11923"
   ]
  },
  {
   "cell_type": "markdown",
   "metadata": {
    "application/vnd.databricks.v1+cell": {
     "cellMetadata": {
      "byteLimit": 2048000,
      "rowLimit": 10000
     },
     "inputWidgets": {},
     "nuid": "0bfae5ca-438c-43f0-8612-b06a91ca3ec3",
     "showTitle": false,
     "tableResultSettingsMap": {},
     "title": ""
    }
   },
   "source": [
    "- [randomSplit](https://spark.apache.org/docs/latest/api/python/reference/pyspark.sql/api/pyspark.sql.DataFrame.randomSplit.html) recupera diferentes DataFrames cuyos tamaños en porcentaje se indican como parámetros (si no suman uno, los parámetros se normalizan):"
   ]
  },
  {
   "cell_type": "code",
   "execution_count": 0,
   "metadata": {
    "application/vnd.databricks.v1+cell": {
     "cellMetadata": {
      "byteLimit": 2048000,
      "rowLimit": 10000
     },
     "inputWidgets": {},
     "nuid": "300ad329-acdc-4716-86cc-076bf947c210",
     "showTitle": false,
     "tableResultSettingsMap": {},
     "title": ""
    }
   },
   "outputs": [],
   "source": [
    "dfs = df.randomSplit([0.8, 0.2])\n",
    "dfEntrenamiento = dfs[0]"
   ]
  },
  {
   "cell_type": "code",
   "execution_count": 0,
   "metadata": {
    "application/vnd.databricks.v1+cell": {
     "cellMetadata": {
      "byteLimit": 2048000,
      "rowLimit": 10000
     },
     "inputWidgets": {},
     "nuid": "d6b7ea23-b413-44dd-8454-5e7fe35beb6c",
     "showTitle": false,
     "tableResultSettingsMap": {},
     "title": ""
    }
   },
   "outputs": [],
   "source": [
    "dfPrueba = dfs[1]"
   ]
  },
  {
   "cell_type": "code",
   "execution_count": 0,
   "metadata": {
    "application/vnd.databricks.v1+cell": {
     "cellMetadata": {
      "byteLimit": 2048000,
      "rowLimit": 10000
     },
     "inputWidgets": {},
     "nuid": "eddd85a2-0259-436d-b039-e8ebccb07753",
     "showTitle": false,
     "tableResultSettingsMap": {},
     "title": ""
    }
   },
   "outputs": [
    {
     "output_type": "stream",
     "name": "stdout",
     "output_type": "stream",
     "text": [
      "Out[81]: 96220"
     ]
    }
   ],
   "source": [
    "dfEntrenamiento.count()     # 96194"
   ]
  },
  {
   "cell_type": "code",
   "execution_count": 0,
   "metadata": {
    "application/vnd.databricks.v1+cell": {
     "cellMetadata": {
      "byteLimit": 2048000,
      "rowLimit": 10000
     },
     "inputWidgets": {},
     "nuid": "cca6bfcb-f2d1-414a-b9e3-560d2d02554d",
     "showTitle": false,
     "tableResultSettingsMap": {},
     "title": ""
    }
   },
   "outputs": [
    {
     "output_type": "stream",
     "name": "stdout",
     "output_type": "stream",
     "text": [
      "Out[82]: 24019"
     ]
    }
   ],
   "source": [
    "dfPrueba.count()            # 24045"
   ]
  },
  {
   "cell_type": "markdown",
   "metadata": {
    "application/vnd.databricks.v1+cell": {
     "cellMetadata": {
      "byteLimit": 2048000,
      "rowLimit": 10000
     },
     "inputWidgets": {},
     "nuid": "a3d017a7-162e-4819-9893-b56896327aab",
     "showTitle": false,
     "tableResultSettingsMap": {},
     "title": ""
    }
   },
   "source": [
    "## Trabajando con datos sucios"
   ]
  },
  {
   "cell_type": "markdown",
   "metadata": {
    "application/vnd.databricks.v1+cell": {
     "cellMetadata": {
      "byteLimit": 2048000,
      "rowLimit": 10000
     },
     "inputWidgets": {},
     "nuid": "00db6554-74b1-409f-9276-c17915c5a09d",
     "showTitle": false,
     "tableResultSettingsMap": {},
     "title": ""
    }
   },
   "source": [
    "Hay tres formas de gestionar la suciedad de los datos o la omisión completa de los mismos:  \n",
    "1. Eliminar las filas que tienen valores vacíos en una o más columnas.  \n",
    "2. Rellenar los valores nulos con valores que definimos nosotros.  \n",
    "3. Sustituir los datos erróneos por algún valor que sepamos cómo gestionarlo.\n",
    "\n",
    "Vamos a ver cada uno de estos casos a partir del siguiente dataset:\n",
    "  "
   ]
  },
  {
   "cell_type": "code",
   "execution_count": 0,
   "metadata": {
    "application/vnd.databricks.v1+cell": {
     "cellMetadata": {
      "byteLimit": 2048000,
      "rowLimit": 10000
     },
     "inputWidgets": {},
     "nuid": "72054ab0-d1bf-432b-a918-96684a6368cb",
     "showTitle": false,
     "tableResultSettingsMap": {},
     "title": ""
    }
   },
   "outputs": [
    {
     "output_type": "stream",
     "name": "stdout",
     "output_type": "stream",
     "text": [
      "+---------+----------+-----+-----+-------+-------+\n|ProductID|      Date|  Zip|Units|Revenue|Country|\n+---------+----------+-----+-----+-------+-------+\n|     6666|2022-03-22|03206|   33|3333.33|  Spain|\n|     6666|2022-03-22| null|   33|3333.33|  Spain|\n|     6666|2022-03-23|03206| null|2222.22|  Spain|\n|     6666|2022-03-24|03206| null|   null| Espain|\n|     null|      null| null| null|   null|   null|\n+---------+----------+-----+-----+-------+-------+\n\n"
     ]
    }
   ],
   "source": [
    "malasVentas = [\n",
    "    (6666, \"2022-03-22\", \"03206\", 33, 3333.33, \"Spain\"),\n",
    "    (6666, \"2022-03-22\", None, 33, 3333.33, \"Spain\"),\n",
    "    (6666, \"2022-03-23\", \"03206\", None, 2222.22, \"Spain\"),\n",
    "    (6666, \"2022-03-24\", \"03206\", None, None, \"Espain\"),\n",
    "    (None, None, None, None, None, None)\n",
    "]\n",
    "malDF = spark.createDataFrame(malasVentas, [\"ProductID\", \"Date\", \"Zip\", \"Units\", \"Revenue\" , \"Country\"])\n",
    "malDF.show()"
   ]
  },
  {
   "cell_type": "markdown",
   "metadata": {
    "application/vnd.databricks.v1+cell": {
     "cellMetadata": {
      "byteLimit": 2048000,
      "rowLimit": 10000
     },
     "inputWidgets": {},
     "nuid": "7422c813-481b-4b98-bc4d-8c9219fbd37d",
     "showTitle": false,
     "tableResultSettingsMap": {},
     "title": ""
    }
   },
   "source": [
    "Si queremos saber si una columna contiene nulos, podemos hacer un filtrado utilizando el método [isNull](https://spark.apache.org/docs/latest/api/python/reference/pyspark.sql/api/pyspark.sql.Column.isNull.html) sobre los campos deseados (también podemos utilizar [isNotNull](https://spark.apache.org/docs/latest/api/python/reference/pyspark.sql/api/pyspark.sql.Column.isNotNull.html) si queremos el caso contrario):"
   ]
  },
  {
   "cell_type": "code",
   "execution_count": 0,
   "metadata": {
    "application/vnd.databricks.v1+cell": {
     "cellMetadata": {
      "byteLimit": 2048000,
      "rowLimit": 10000
     },
     "inputWidgets": {},
     "nuid": "269cff46-d667-42b5-9d9f-789e3e228bc9",
     "showTitle": false,
     "tableResultSettingsMap": {},
     "title": ""
    }
   },
   "outputs": [
    {
     "output_type": "stream",
     "name": "stdout",
     "output_type": "stream",
     "text": [
      "+---------+----------+----+-----+-------+-------+\n|ProductID|      Date| Zip|Units|Revenue|Country|\n+---------+----------+----+-----+-------+-------+\n|     6666|2022-03-22|null|   33|3333.33|  Spain|\n|     null|      null|null| null|   null|   null|\n+---------+----------+----+-----+-------+-------+\n\n"
     ]
    }
   ],
   "source": [
    "malDF.filter(malDF.Zip.isNull()).show()"
   ]
  },
  {
   "cell_type": "markdown",
   "metadata": {
    "application/vnd.databricks.v1+cell": {
     "cellMetadata": {
      "byteLimit": 2048000,
      "rowLimit": 10000
     },
     "inputWidgets": {},
     "nuid": "83591dbb-fb45-4122-8983-a5cb80d67dd4",
     "showTitle": false,
     "tableResultSettingsMap": {},
     "title": ""
    }
   },
   "source": [
    "Para trabajar con las filas que contengan algún dato nulo, podemos acceder a la propiedad `na`, la cual devuelve un [DataFrameNaFunctions](https://spark.apache.org/docs/latest/api/python/reference/pyspark.sql/api/pyspark.sql.DataFrameNaFunctions.html) sobre la que podemos indicarle:  \n",
    "- que la elimine mediante el método [drop](https://spark.apache.org/docs/latest/api/python/reference/pyspark.sql/api/pyspark.sql.DataFrameNaFunctions.drop.html) / [dropna](https://spark.apache.org/docs/latest/api/python/reference/pyspark.sql/api/pyspark.sql.DataFrame.dropna.html). Puede recibir `\"any\"` (borrará las filas que contengan algún nulo) o `\"all\"` (borrará las filas que todas sus columnas contengan nulos) y una lista con las columnas a considerar:"
   ]
  },
  {
   "cell_type": "code",
   "execution_count": 0,
   "metadata": {
    "application/vnd.databricks.v1+cell": {
     "cellMetadata": {
      "byteLimit": 2048000,
      "rowLimit": 10000
     },
     "inputWidgets": {},
     "nuid": "39b1ba77-b647-45db-ac2c-01c6cd7bfec4",
     "showTitle": false,
     "tableResultSettingsMap": {},
     "title": ""
    }
   },
   "outputs": [
    {
     "output_type": "stream",
     "name": "stdout",
     "output_type": "stream",
     "text": [
      "+---------+----------+-----+-----+-------+-------+\n|ProductID|      Date|  Zip|Units|Revenue|Country|\n+---------+----------+-----+-----+-------+-------+\n|     6666|2022-03-22|03206|   33|3333.33|  Spain|\n+---------+----------+-----+-----+-------+-------+\n\n"
     ]
    }
   ],
   "source": [
    "# Elimina todos los nulos\n",
    "malDF.na.drop().show()"
   ]
  },
  {
   "cell_type": "code",
   "execution_count": 0,
   "metadata": {
    "application/vnd.databricks.v1+cell": {
     "cellMetadata": {
      "byteLimit": 2048000,
      "rowLimit": 10000
     },
     "inputWidgets": {},
     "nuid": "8f1424f5-82a2-4148-9995-754a80d72a60",
     "showTitle": false,
     "tableResultSettingsMap": {},
     "title": ""
    }
   },
   "outputs": [
    {
     "output_type": "stream",
     "name": "stdout",
     "output_type": "stream",
     "text": [
      "+---------+----------+-----+-----+-------+-------+\n|ProductID|      Date|  Zip|Units|Revenue|Country|\n+---------+----------+-----+-----+-------+-------+\n|     6666|2022-03-22|03206|   33|3333.33|  Spain|\n|     6666|2022-03-22| null|   33|3333.33|  Spain|\n|     6666|2022-03-23|03206| null|2222.22|  Spain|\n|     6666|2022-03-24|03206| null|   null| Espain|\n+---------+----------+-----+-----+-------+-------+\n\n"
     ]
    }
   ],
   "source": [
    "# Elimina las filas que todas sus columnas son nulas\n",
    "malDF.na.drop(\"all\").show()"
   ]
  },
  {
   "cell_type": "code",
   "execution_count": 0,
   "metadata": {
    "application/vnd.databricks.v1+cell": {
     "cellMetadata": {
      "byteLimit": 2048000,
      "rowLimit": 10000
     },
     "inputWidgets": {},
     "nuid": "48b36fad-685a-4d94-b1f8-89626ba03cfe",
     "showTitle": false,
     "tableResultSettingsMap": {},
     "title": ""
    }
   },
   "outputs": [
    {
     "output_type": "stream",
     "name": "stdout",
     "output_type": "stream",
     "text": [
      "+---------+----------+-----+-----+-------+-------+\n|ProductID|      Date|  Zip|Units|Revenue|Country|\n+---------+----------+-----+-----+-------+-------+\n|     6666|2022-03-22|03206|   33|3333.33|  Spain|\n|     6666|2022-03-23|03206| null|2222.22|  Spain|\n|     6666|2022-03-24|03206| null|   null| Espain|\n+---------+----------+-----+-----+-------+-------+\n\n"
     ]
    }
   ],
   "source": [
    "# Elimina las filas que tienen el Zip nulo\n",
    "malDF.na.drop(subset=[\"Zip\"]).show()"
   ]
  },
  {
   "cell_type": "markdown",
   "metadata": {
    "application/vnd.databricks.v1+cell": {
     "cellMetadata": {
      "byteLimit": 2048000,
      "rowLimit": 10000
     },
     "inputWidgets": {},
     "nuid": "3e59cd3e-e05a-4775-aca2-6f958f0c89cf",
     "showTitle": false,
     "tableResultSettingsMap": {},
     "title": ""
    }
   },
   "source": [
    "También podemos indicar la cantidad de valores no nulos que ha de contener cada fila para eliminarla mediante el parámetro `thresh`:"
   ]
  },
  {
   "cell_type": "code",
   "execution_count": 0,
   "metadata": {
    "application/vnd.databricks.v1+cell": {
     "cellMetadata": {
      "byteLimit": 2048000,
      "rowLimit": 10000
     },
     "inputWidgets": {},
     "nuid": "b1dafdca-4fd9-47f4-8c2e-682063b51303",
     "showTitle": false,
     "tableResultSettingsMap": {},
     "title": ""
    }
   },
   "outputs": [
    {
     "output_type": "stream",
     "name": "stdout",
     "output_type": "stream",
     "text": [
      "+---------+----------+-----+-----+-------+-------+\n|ProductID|      Date|  Zip|Units|Revenue|Country|\n+---------+----------+-----+-----+-------+-------+\n|     6666|2022-03-22|03206|   33|3333.33|  Spain|\n|     6666|2022-03-22| null|   33|3333.33|  Spain|\n|     6666|2022-03-23|03206| null|2222.22|  Spain|\n|     6666|2022-03-24|03206| null|   null| Espain|\n+---------+----------+-----+-----+-------+-------+\n\n"
     ]
    }
   ],
   "source": [
    "# Elimina las filas que tengan menos de 3 valores rellenados\n",
    "malDF = malDF.dropna(thresh = 3)\n",
    "malDF.show()"
   ]
  },
  {
   "cell_type": "markdown",
   "metadata": {
    "application/vnd.databricks.v1+cell": {
     "cellMetadata": {
      "byteLimit": 2048000,
      "rowLimit": 10000
     },
     "inputWidgets": {},
     "nuid": "5a0495a5-7ba2-4d26-b323-d8d0acba555d",
     "showTitle": false,
     "tableResultSettingsMap": {},
     "title": ""
    }
   },
   "source": [
    "- que la rellene mediante el método [fill](https://spark.apache.org/docs/latest/api/python/reference/pyspark.sql/api/pyspark.sql.DataFrameNaFunctions.fill.html) / [fillna](https://spark.apache.org/docs/latest/api/python/reference/pyspark.sql/api/pyspark.sql.DataFrame.fillna.html), indicando el valor y si queremos, sobre qué columnas aplicar la modificación:"
   ]
  },
  {
   "cell_type": "code",
   "execution_count": 0,
   "metadata": {
    "application/vnd.databricks.v1+cell": {
     "cellMetadata": {
      "byteLimit": 2048000,
      "rowLimit": 10000
     },
     "inputWidgets": {},
     "nuid": "4c2980cd-46e2-46dc-9bea-f607da44ea49",
     "showTitle": false,
     "tableResultSettingsMap": {},
     "title": ""
    }
   },
   "outputs": [
    {
     "output_type": "stream",
     "name": "stdout",
     "output_type": "stream",
     "text": [
      "+---------+----------+-----+-----+-------+-------+\n|ProductID|      Date|  Zip|Units|Revenue|Country|\n+---------+----------+-----+-----+-------+-------+\n|     6666|2022-03-22|03206|   33|3333.33|  Spain|\n|     6666|2022-03-22|99999|   33|3333.33|  Spain|\n|     6666|2022-03-23|03206| null|2222.22|  Spain|\n|     6666|2022-03-24|03206| null|   null| Espain|\n+---------+----------+-----+-----+-------+-------+\n\n"
     ]
    }
   ],
   "source": [
    "# Rellenamos los zips vacíos por 99999\n",
    "malDF.na.fill(\"99999\", subset=[\"Zip\"]).show()"
   ]
  },
  {
   "cell_type": "markdown",
   "metadata": {
    "application/vnd.databricks.v1+cell": {
     "cellMetadata": {
      "byteLimit": 2048000,
      "rowLimit": 10000
     },
     "inputWidgets": {},
     "nuid": "b0c00ad8-9f38-4cb3-97c1-d06644f6ca50",
     "showTitle": false,
     "tableResultSettingsMap": {},
     "title": ""
    }
   },
   "source": [
    "- que la sustituya mediante el método [replace](https://spark.apache.org/docs/latest/api/python/reference/pyspark.sql/api/pyspark.sql.DataFrameNaFunctions.replace.html)"
   ]
  },
  {
   "cell_type": "code",
   "execution_count": 0,
   "metadata": {
    "application/vnd.databricks.v1+cell": {
     "cellMetadata": {
      "byteLimit": 2048000,
      "rowLimit": 10000
     },
     "inputWidgets": {},
     "nuid": "d020d777-76f7-4bd8-84d1-b2cb4c418544",
     "showTitle": false,
     "tableResultSettingsMap": {},
     "title": ""
    }
   },
   "outputs": [
    {
     "output_type": "stream",
     "name": "stdout",
     "output_type": "stream",
     "text": [
      "+---------+----------+-----+-----+-------+-------+\n|ProductID|      Date|  Zip|Units|Revenue|Country|\n+---------+----------+-----+-----+-------+-------+\n|     6666|2022-03-22|03206|   33|3333.33|  Spain|\n|     6666|2022-03-22| null|   33|3333.33|  Spain|\n|     6666|2022-03-23|03206| null|2222.22|  Spain|\n|     6666|2022-03-24|03206| null|   null|  Spain|\n+---------+----------+-----+-----+-------+-------+\n\n"
     ]
    }
   ],
   "source": [
    "# Cambiamos Espain por Spain\n",
    "malDF.na.replace(\"Espain\", \"Spain\").show()"
   ]
  },
  {
   "cell_type": "markdown",
   "metadata": {
    "application/vnd.databricks.v1+cell": {
     "cellMetadata": {
      "byteLimit": 2048000,
      "rowLimit": 10000
     },
     "inputWidgets": {},
     "nuid": "119d5775-5358-4bf3-b056-a9f30f10b646",
     "showTitle": false,
     "tableResultSettingsMap": {},
     "title": ""
    }
   },
   "source": [
    "> **na.replace vs replace**  \n",
    "\n",
    "La función `replace` se puede emplear dentro de la propiedad `na` o a partir del propio Dataframe."
   ]
  },
  {
   "cell_type": "markdown",
   "metadata": {
    "application/vnd.databricks.v1+cell": {
     "cellMetadata": {
      "byteLimit": 2048000,
      "rowLimit": 10000
     },
     "inputWidgets": {},
     "nuid": "4caed276-4537-437f-953f-790a91955fa9",
     "showTitle": false,
     "tableResultSettingsMap": {},
     "title": ""
    }
   },
   "source": [
    "Otro caso muy común es realizar una operación sobre una columna para transformar su valor, por ejemplo, pasar todo el texto a minúsculas o dividir una columna entre 100 para cambiar la escala.  \n",
    "En nuestro caso, vamos a modificar las columnas Zip y Country para realizar un `trim` y borrar los espacios en blanco:"
   ]
  },
  {
   "cell_type": "code",
   "execution_count": 0,
   "metadata": {
    "application/vnd.databricks.v1+cell": {
     "cellMetadata": {
      "byteLimit": 2048000,
      "rowLimit": 10000
     },
     "inputWidgets": {},
     "nuid": "795a873f-e45c-41dd-b069-6136c968c78d",
     "showTitle": false,
     "tableResultSettingsMap": {},
     "title": ""
    }
   },
   "outputs": [
    {
     "output_type": "stream",
     "name": "stdout",
     "output_type": "stream",
     "text": [
      "+---------+----------+-----+-----+-------+-------+\n|ProductID|      Date|  Zip|Units|Revenue|Country|\n+---------+----------+-----+-----+-------+-------+\n|      725|1999-01-15|41540|    1|  115.5|Germany|\n|      787|2002-06-06|41540|    1|  314.9|Germany|\n|      788|2002-06-06|41540|    1|  314.9|Germany|\n|      940|1999-01-15|22587|    1|  687.7|Germany|\n|      396|1999-01-15|22587|    1|  857.1|Germany|\n|      734|2003-04-10|22587|    1|  330.7|Germany|\n|      769|1999-02-15|22587|    1|  257.2|Germany|\n|      499|1999-01-15|12555|    1|  846.3|Germany|\n|     2254|1999-01-15|40217|    1|   57.7|Germany|\n|       31|2002-05-31|40217|    1|  761.2|Germany|\n|      475|1999-02-15|13583|    1|  970.2|Germany|\n|      510|1999-01-15|22337|    1|  837.1|Germany|\n|      499|2002-06-05|22337|    1|  883.0|Germany|\n|      289|1999-02-15|13587|    1|  866.0|Germany|\n|      702|1999-02-15|13587|    1|  286.1|Germany|\n|      910|1999-03-15|13587|    1|  414.7|Germany|\n|      901|1999-02-15|13587|    2|  818.9|Germany|\n|      550|1999-01-15|22177|    1|  404.0|Germany|\n|      559|1999-01-15|22177|    1|  585.6|Germany|\n|      767|2002-06-07|22177|    1|  105.0|Germany|\n+---------+----------+-----+-----+-------+-------+\nonly showing top 20 rows\n\n"
     ]
    }
   ],
   "source": [
    "from pyspark.sql.functions import col, trim\n",
    "df = df.withColumn(\"Country\", trim(col(\"Country\"))).withColumn(\"Zip\", trim(col(\"Zip\")))\n",
    "df.show()"
   ]
  },
  {
   "cell_type": "markdown",
   "metadata": {
    "application/vnd.databricks.v1+cell": {
     "cellMetadata": {
      "byteLimit": 2048000,
      "rowLimit": 10000
     },
     "inputWidgets": {},
     "nuid": "cbaf8942-a7d9-4746-82bf-c4a00e39d1f5",
     "showTitle": false,
     "tableResultSettingsMap": {},
     "title": ""
    }
   },
   "source": [
    "## Usando SQL"
   ]
  },
  {
   "cell_type": "markdown",
   "metadata": {
    "application/vnd.databricks.v1+cell": {
     "cellMetadata": {
      "byteLimit": 2048000,
      "rowLimit": 10000
     },
     "inputWidgets": {},
     "nuid": "cbdd2fdc-4625-4cc3-bd56-e9716ae609d3",
     "showTitle": false,
     "tableResultSettingsMap": {},
     "title": ""
    }
   },
   "source": [
    "En la era del big data SQL es la lengua franca, permitiendo a perfiles con pocos conocimientos de programación trabajar de forma eficiente con los datos (siempre poniendo el foco en la analítica de datos, no en el procesamiento transaccional). Spark soporta el ANSI SQL 2003, ampliamente establecido en el mundo de las bases de datos. Para correr SQL en Spark podemos hacerlo a través de:  \n",
    "- El cliente SQL, es cual se ofrece como un comando en `./bin/spark-sql`  \n",
    "- Mediante un servidor ODBC/JDBC  \n",
    "- De forma programativa mediante aplicaciones Spark.  \n",
    "\n",
    "Las dos primeras opciones se integran con Apache Hive para utilizar su metastore. Ahora nos vamos a centrar en la última."
   ]
  },
  {
   "cell_type": "markdown",
   "metadata": {
    "application/vnd.databricks.v1+cell": {
     "cellMetadata": {
      "byteLimit": 2048000,
      "rowLimit": 10000
     },
     "inputWidgets": {},
     "nuid": "3bbae8a9-5a6e-456b-9852-ded70acf5284",
     "showTitle": false,
     "tableResultSettingsMap": {},
     "title": ""
    }
   },
   "source": [
    "### Vistas temporales  \n",
    "Ya hemos visto que los DataFrames tienen una estructura similar a una tabla de una base de datos relacional. Para poder realizar consultas, necesitaremos crear vistas temporales mediante el método [createTempView](https://spark.apache.org/docs/latest/api/python/reference/pyspark.sql/api/pyspark.sql.DataFrame.createTempView.html) o [createOrReplaceTempView](https://spark.apache.org/docs/latest/api/python/reference/pyspark.sql/api/pyspark.sql.DataFrame.createOrReplaceTempView.html) para posteriormente realizar una consulta sobre la vista creada a través de [spark.sql](https://spark.apache.org/docs/latest/api/python/reference/pyspark.sql/api/pyspark.sql.SparkSession.sql.html):"
   ]
  },
  {
   "cell_type": "code",
   "execution_count": 0,
   "metadata": {
    "application/vnd.databricks.v1+cell": {
     "cellMetadata": {
      "byteLimit": 2048000,
      "rowLimit": 10000
     },
     "inputWidgets": {},
     "nuid": "41e403c6-9700-4a11-a294-51cbdc28131a",
     "showTitle": false,
     "tableResultSettingsMap": {},
     "title": ""
    }
   },
   "outputs": [],
   "source": [
    "# 1. definimos la vista\n",
    "df.createOrReplaceTempView(\"ventas\")"
   ]
  },
  {
   "cell_type": "code",
   "execution_count": 0,
   "metadata": {
    "application/vnd.databricks.v1+cell": {
     "cellMetadata": {
      "byteLimit": 2048000,
      "rowLimit": 10000
     },
     "inputWidgets": {},
     "nuid": "1f4e82e5-b645-48ff-8313-537bf8bf77d9",
     "showTitle": false,
     "tableResultSettingsMap": {},
     "title": ""
    }
   },
   "outputs": [
    {
     "output_type": "stream",
     "name": "stdout",
     "output_type": "stream",
     "text": [
      "+---------+----------+---+-----+-------+-------+\n|ProductID|      Date|Zip|Units|Revenue|Country|\n+---------+----------+---+-----+-------+-------+\n|      725|1999-01-15|H1B|    1|  115.4| Canada|\n|     2235|1999-01-15|H1B|    2|  131.1| Canada|\n|      713|1999-01-15|H1B|    1|  160.1| Canada|\n+---------+----------+---+-----+-------+-------+\nonly showing top 3 rows\n\n"
     ]
    }
   ],
   "source": [
    "# 2. realizamos la consulta\n",
    "ventasCanada = spark.sql(\"select * from ventas where trim(Country)='Canada'\")\n",
    "ventasCanada.show(3)"
   ]
  },
  {
   "cell_type": "markdown",
   "metadata": {
    "application/vnd.databricks.v1+cell": {
     "cellMetadata": {
      "byteLimit": 2048000,
      "rowLimit": 10000
     },
     "inputWidgets": {},
     "nuid": "0e13dde7-d530-49c0-89cb-28e73facd9d0",
     "showTitle": false,
     "tableResultSettingsMap": {},
     "title": ""
    }
   },
   "source": [
    "### Vistas globales  \n",
    "Las vistas temporales tienen un alcance de SparkSession, de manera que desaparecen una vez finalice la sesión que ha creado la vista. Si necesitamos tener una vista que se comparta entre todas las sesiones y que permanezca viva hasta que la aplicación Spark finalice, podemos crear una vista temporal global mediante [createOrReplaceGlobalTempView](https://spark.apache.org/docs/latest/api/python/reference/pyspark.sql/api/pyspark.sql.DataFrame.createOrReplaceGlobalTempView.html)"
   ]
  },
  {
   "cell_type": "markdown",
   "metadata": {
    "application/vnd.databricks.v1+cell": {
     "cellMetadata": {
      "byteLimit": 2048000,
      "rowLimit": 10000
     },
     "inputWidgets": {},
     "nuid": "a20a5d4f-c1b4-4198-b013-62c98f70ad65",
     "showTitle": false,
     "tableResultSettingsMap": {},
     "title": ""
    }
   },
   "source": [
    "Estas vistas se almacenan en la base de datos `global_temp` y en las consultas es necesario poner el prefijo `global_temp` para acceder a sus vistas."
   ]
  },
  {
   "cell_type": "code",
   "execution_count": 0,
   "metadata": {
    "application/vnd.databricks.v1+cell": {
     "cellMetadata": {
      "byteLimit": 2048000,
      "rowLimit": 10000
     },
     "inputWidgets": {},
     "nuid": "64a60bb8-22bc-458f-97b7-dd31fae465dc",
     "showTitle": false,
     "tableResultSettingsMap": {},
     "title": ""
    }
   },
   "outputs": [],
   "source": [
    "# 1. definimos la vista global\n",
    "df.createOrReplaceGlobalTempView(\"ventasg\")"
   ]
  },
  {
   "cell_type": "code",
   "execution_count": 0,
   "metadata": {
    "application/vnd.databricks.v1+cell": {
     "cellMetadata": {
      "byteLimit": 2048000,
      "rowLimit": 10000
     },
     "inputWidgets": {},
     "nuid": "bd6f82aa-2d6e-46be-b444-c2f6cbd34c94",
     "showTitle": false,
     "tableResultSettingsMap": {},
     "title": ""
    }
   },
   "outputs": [
    {
     "output_type": "stream",
     "name": "stdout",
     "output_type": "stream",
     "text": [
      "+---------+----------+---+-----+-------+-------+\n|ProductID|      Date|Zip|Units|Revenue|Country|\n+---------+----------+---+-----+-------+-------+\n|      725|1999-01-15|H1B|    1|  115.4| Canada|\n|     2235|1999-01-15|H1B|    2|  131.1| Canada|\n|      713|1999-01-15|H1B|    1|  160.1| Canada|\n+---------+----------+---+-----+-------+-------+\nonly showing top 3 rows\n\n"
     ]
    }
   ],
   "source": [
    "# 2. realizamos la consulta\n",
    "ventasCanadaG = spark.sql(\"select * from global_temp.ventasg where trim(Country)='Canada'\")\n",
    "ventasCanadaG.show(3)"
   ]
  },
  {
   "cell_type": "code",
   "execution_count": 0,
   "metadata": {
    "application/vnd.databricks.v1+cell": {
     "cellMetadata": {
      "byteLimit": 2048000,
      "rowLimit": 10000
     },
     "inputWidgets": {},
     "nuid": "24fac05d-87a3-40af-b0da-9394dd2ead1c",
     "showTitle": false,
     "tableResultSettingsMap": {},
     "title": ""
    }
   },
   "outputs": [
    {
     "output_type": "stream",
     "name": "stdout",
     "output_type": "stream",
     "text": [
      "+--------+\n|count(1)|\n+--------+\n|   30060|\n+--------+\n\n"
     ]
    }
   ],
   "source": [
    "# Creamos otra sesión y vemos como funciona\n",
    "spark.newSession().sql(\"select count(*) from global_temp.ventasg where trim(Country)='Canada'\").show()"
   ]
  },
  {
   "cell_type": "markdown",
   "metadata": {
    "application/vnd.databricks.v1+cell": {
     "cellMetadata": {
      "byteLimit": 2048000,
      "rowLimit": 10000
     },
     "inputWidgets": {},
     "nuid": "802cbfa1-a78a-4df9-b981-e88883b4f1a6",
     "showTitle": false,
     "tableResultSettingsMap": {},
     "title": ""
    }
   },
   "source": [
    "### Eliminando vistas  \n",
    "Para borrar una vista que hayamos creado, necesitamos acceder al Spark Catalog que veremos en una [sesión posterior(catalog#spark-sql-catalog), y utilizar el método [dropTempView](https://spark.apache.org/docs/latest/api/python/reference/pyspark.sql/api/pyspark.sql.Catalog.dropTempView.html) o [dropGlobalTempView](https://spark.apache.org/docs/latest/api/python/reference/pyspark.sql/api/pyspark.sql.Catalog.dropGlobalTempView.html) dependiendo del tipo de vista:"
   ]
  },
  {
   "cell_type": "code",
   "execution_count": 0,
   "metadata": {
    "application/vnd.databricks.v1+cell": {
     "cellMetadata": {
      "byteLimit": 2048000,
      "rowLimit": 10000
     },
     "inputWidgets": {},
     "nuid": "0579c53e-07b5-419c-aca4-2f3be4c27fd8",
     "showTitle": false,
     "tableResultSettingsMap": {},
     "title": ""
    }
   },
   "outputs": [
    {
     "output_type": "stream",
     "name": "stdout",
     "output_type": "stream",
     "text": [
      "Out[97]: True"
     ]
    }
   ],
   "source": [
    "spark.catalog.dropTempView(\"ventas\")\n",
    "spark.catalog.dropGlobalTempView(\"ventasg\")"
   ]
  },
  {
   "cell_type": "markdown",
   "metadata": {
    "application/vnd.databricks.v1+cell": {
     "cellMetadata": {
      "byteLimit": 2048000,
      "rowLimit": 10000
     },
     "inputWidgets": {},
     "nuid": "92d2110a-a93a-4bdc-b901-bea96b52f946",
     "showTitle": false,
     "tableResultSettingsMap": {},
     "title": ""
    }
   },
   "source": [
    "## Trabajando con Databricks y SQL  \n",
    "Vamos a cargar en `DataBase Tables` el csv `pdi_sales_small.csv`. Para ellos vamos a crear primero la tabla. Click en Catalog"
   ]
  },
  {
   "cell_type": "markdown",
   "metadata": {
    "application/vnd.databricks.v1+cell": {
     "cellMetadata": {
      "byteLimit": 2048000,
      "rowLimit": 10000
     },
     "inputWidgets": {},
     "nuid": "5a3d0bdc-1da0-4e37-9d4b-ddb6021d5d37",
     "showTitle": false,
     "tableResultSettingsMap": {},
     "title": ""
    }
   },
   "source": [
    "![](https://community.cloud.databricks.com/files/Notebook2/1.png)"
   ]
  },
  {
   "cell_type": "markdown",
   "metadata": {
    "application/vnd.databricks.v1+cell": {
     "cellMetadata": {
      "byteLimit": 2048000,
      "rowLimit": 10000
     },
     "inputWidgets": {},
     "nuid": "29817da9-31ab-473c-b6e2-5d7171a39896",
     "showTitle": false,
     "tableResultSettingsMap": {},
     "title": ""
    }
   },
   "source": [
    "![](https://community.cloud.databricks.com/files/Notebook2/2.png)"
   ]
  },
  {
   "cell_type": "markdown",
   "metadata": {
    "application/vnd.databricks.v1+cell": {
     "cellMetadata": {
      "byteLimit": 2048000,
      "rowLimit": 10000
     },
     "inputWidgets": {},
     "nuid": "374abbed-2b07-4885-9184-5c4c996599ff",
     "showTitle": false,
     "tableResultSettingsMap": {},
     "title": ""
    }
   },
   "source": [
    "![](https://community.cloud.databricks.com/files/Notebook2/3.png)"
   ]
  },
  {
   "cell_type": "markdown",
   "metadata": {
    "application/vnd.databricks.v1+cell": {
     "cellMetadata": {
      "byteLimit": 2048000,
      "rowLimit": 10000
     },
     "inputWidgets": {},
     "nuid": "e793b8f4-b9ce-4b03-997f-6c01ee469dae",
     "showTitle": false,
     "tableResultSettingsMap": {},
     "title": ""
    }
   },
   "source": [
    "![](https://community.cloud.databricks.com/files/Notebook_2/4.png)"
   ]
  },
  {
   "cell_type": "markdown",
   "metadata": {
    "application/vnd.databricks.v1+cell": {
     "cellMetadata": {
      "byteLimit": 2048000,
      "rowLimit": 10000
     },
     "inputWidgets": {},
     "nuid": "fda68dc3-3ee2-4eb3-9559-622ef28b54a6",
     "showTitle": false,
     "tableResultSettingsMap": {},
     "title": ""
    }
   },
   "source": [
    "![](https://community.cloud.databricks.com/files/Notebook_2/5.png)"
   ]
  },
  {
   "cell_type": "markdown",
   "metadata": {
    "application/vnd.databricks.v1+cell": {
     "cellMetadata": {
      "byteLimit": 2048000,
      "rowLimit": 10000
     },
     "inputWidgets": {},
     "nuid": "399eff95-65df-427f-aef5-a8746ba92218",
     "showTitle": false,
     "tableResultSettingsMap": {},
     "title": ""
    }
   },
   "source": [
    "Para que funcione correctamente con nuestro datos, vamos a modificar el código:"
   ]
  },
  {
   "cell_type": "markdown",
   "metadata": {
    "application/vnd.databricks.v1+cell": {
     "cellMetadata": {
      "byteLimit": 2048000,
      "rowLimit": 10000
     },
     "inputWidgets": {},
     "nuid": "767d5dba-c71c-4e8e-ad33-ad6b9c8a76ef",
     "showTitle": false,
     "tableResultSettingsMap": {},
     "title": ""
    }
   },
   "source": [
    "```<Python>\n",
    "infer_schema = \"true\"\n",
    "first_row_is_header = \"true\"\n",
    "delimiter = \";\"\n",
    "```"
   ]
  },
  {
   "cell_type": "markdown",
   "metadata": {
    "application/vnd.databricks.v1+cell": {
     "cellMetadata": {
      "byteLimit": 2048000,
      "rowLimit": 10000
     },
     "inputWidgets": {},
     "nuid": "f5b341e3-b00a-4ec4-b4ba-ed3e7f9e7ba1",
     "showTitle": false,
     "tableResultSettingsMap": {},
     "title": ""
    }
   },
   "source": [
    "Y tras cargar el dataset, antes de crear la vista, vamos a limpiar los países:"
   ]
  },
  {
   "cell_type": "markdown",
   "metadata": {
    "application/vnd.databricks.v1+cell": {
     "cellMetadata": {
      "byteLimit": 2048000,
      "rowLimit": 10000
     },
     "inputWidgets": {},
     "nuid": "9256ed10-0925-402b-a4e9-650ce6ca7f29",
     "showTitle": false,
     "tableResultSettingsMap": {},
     "title": ""
    }
   },
   "source": [
    "```<python>\n",
    "from pyspark.sql.functions import trim\n",
    "df = df.withColumn(\"Country\", trim(df.Country))\n",
    "```"
   ]
  },
  {
   "cell_type": "markdown",
   "metadata": {
    "application/vnd.databricks.v1+cell": {
     "cellMetadata": {
      "byteLimit": 2048000,
      "rowLimit": 10000
     },
     "inputWidgets": {},
     "nuid": "05a292fc-8998-40eb-8eb3-7b929946e090",
     "showTitle": false,
     "tableResultSettingsMap": {},
     "title": ""
    }
   },
   "source": [
    "### Datos visuales"
   ]
  },
  {
   "cell_type": "markdown",
   "metadata": {
    "application/vnd.databricks.v1+cell": {
     "cellMetadata": {
      "byteLimit": 2048000,
      "rowLimit": 10000
     },
     "inputWidgets": {},
     "nuid": "37cbd205-4b6b-4570-9e36-de1041df612e",
     "showTitle": false,
     "tableResultSettingsMap": {},
     "title": ""
    }
   },
   "source": [
    "Si volvemos a ejecutar el cuaderno, ahora sí que cargará correctamente los datos. Si nos vamos a la celda que realiza una consulta sobre todos los datos, podemos ver en la parte superior derecha como el lenguaje empleado en la celda es SQL, por ello la primera línea comienza con %sql, y a continuación ya podemos introducir directamente código SQL, teniendo la opción de visualizar los datos tanto en modo texto como mediante gráficos:"
   ]
  },
  {
   "cell_type": "markdown",
   "metadata": {
    "application/vnd.databricks.v1+cell": {
     "cellMetadata": {
      "byteLimit": 2048000,
      "rowLimit": 10000
     },
     "inputWidgets": {},
     "nuid": "fc4f9d68-ee54-48bd-912a-60acd729beb0",
     "showTitle": false,
     "tableResultSettingsMap": {},
     "title": ""
    }
   },
   "source": [
    "![](https://community.cloud.databricks.com/files/Notebook_2/6.png)"
   ]
  },
  {
   "cell_type": "markdown",
   "metadata": {
    "application/vnd.databricks.v1+cell": {
     "cellMetadata": {
      "byteLimit": 2048000,
      "rowLimit": 10000
     },
     "inputWidgets": {},
     "nuid": "476cd5b4-3342-45ac-8ae7-201f6527c260",
     "showTitle": false,
     "tableResultSettingsMap": {},
     "title": ""
    }
   },
   "source": [
    "![](https://community.cloud.databricks.com/files/Notebook_2/7.png)"
   ]
  },
  {
   "cell_type": "markdown",
   "metadata": {
    "application/vnd.databricks.v1+cell": {
     "cellMetadata": {
      "byteLimit": 2048000,
      "rowLimit": 10000
     },
     "inputWidgets": {},
     "nuid": "6b0507fc-8fd6-44fb-af0d-c91afca5095f",
     "showTitle": false,
     "tableResultSettingsMap": {},
     "title": ""
    }
   },
   "source": [
    "![](https://community.cloud.databricks.com/files/Notebook_2/8.png)"
   ]
  },
  {
   "cell_type": "markdown",
   "metadata": {
    "application/vnd.databricks.v1+cell": {
     "cellMetadata": {
      "byteLimit": 2048000,
      "rowLimit": 10000
     },
     "inputWidgets": {},
     "nuid": "e4762237-fe38-4041-ab1c-731d554dd1a0",
     "showTitle": false,
     "tableResultSettingsMap": {},
     "title": ""
    }
   },
   "source": [
    "![](https://community.cloud.databricks.com/files/Notebook_2/9.png)"
   ]
  },
  {
   "cell_type": "markdown",
   "metadata": {
    "application/vnd.databricks.v1+cell": {
     "cellMetadata": {
      "byteLimit": 2048000,
      "rowLimit": 10000
     },
     "inputWidgets": {},
     "nuid": "cc5d219c-b9d5-4a26-a24a-987471e138b6",
     "showTitle": false,
     "tableResultSettingsMap": {},
     "title": ""
    }
   },
   "source": [
    "![](https://community.cloud.databricks.com/files/Notebook_2/10.png)"
   ]
  },
  {
   "cell_type": "markdown",
   "metadata": {
    "application/vnd.databricks.v1+cell": {
     "cellMetadata": {
      "byteLimit": 2048000,
      "rowLimit": 10000
     },
     "inputWidgets": {},
     "nuid": "f343498f-0d2b-4705-8553-c80a2088682b",
     "showTitle": false,
     "tableResultSettingsMap": {},
     "title": ""
    }
   },
   "source": [
    "![](https://community.cloud.databricks.com/files/Notebook_2/11.png)"
   ]
  },
  {
   "cell_type": "markdown",
   "metadata": {
    "application/vnd.databricks.v1+cell": {
     "cellMetadata": {
      "byteLimit": 2048000,
      "rowLimit": 10000
     },
     "inputWidgets": {},
     "nuid": "decdc149-84a8-4f68-b2d7-4bbdb04df1fc",
     "showTitle": false,
     "tableResultSettingsMap": {},
     "title": ""
    }
   },
   "source": [
    "### Cuadro de mandos"
   ]
  },
  {
   "cell_type": "markdown",
   "metadata": {
    "application/vnd.databricks.v1+cell": {
     "cellMetadata": {
      "byteLimit": 2048000,
      "rowLimit": 10000
     },
     "inputWidgets": {},
     "nuid": "c9032167-9295-4646-b39d-eda162757a91",
     "showTitle": false,
     "tableResultSettingsMap": {},
     "title": ""
    }
   },
   "source": [
    "Además, con las tablas y/o gráficos que generamos dentro de Databricks, podemos generar un sencillo cuadro de mandos.\n",
    "\n",
    "Vamos a crear un par de consultas, una para obtener las ventas medias por país:"
   ]
  },
  {
   "cell_type": "markdown",
   "metadata": {
    "application/vnd.databricks.v1+cell": {
     "cellMetadata": {
      "byteLimit": 2048000,
      "rowLimit": 10000
     },
     "inputWidgets": {},
     "nuid": "32e487e7-c185-45a4-855d-07a69a23b059",
     "showTitle": false,
     "tableResultSettingsMap": {},
     "title": ""
    }
   },
   "source": [
    "```<sql>\n",
    "%sql\n",
    "select Country, avg(Revenue) as ventas\n",
    "from pdi_sales_small_csv\n",
    "group by Country\n",
    "order by ventas desc\n",
    "```"
   ]
  },
  {
   "cell_type": "markdown",
   "metadata": {
    "application/vnd.databricks.v1+cell": {
     "cellMetadata": {
      "byteLimit": 2048000,
      "rowLimit": 10000
     },
     "inputWidgets": {},
     "nuid": "f433c104-d839-42a4-8be8-3cb24008785b",
     "showTitle": false,
     "tableResultSettingsMap": {},
     "title": ""
    }
   },
   "source": [
    "Y otra para las unidas pedidas por cada país:"
   ]
  },
  {
   "cell_type": "markdown",
   "metadata": {
    "application/vnd.databricks.v1+cell": {
     "cellMetadata": {
      "byteLimit": 2048000,
      "rowLimit": 10000
     },
     "inputWidgets": {},
     "nuid": "8b7ffa65-2c80-4468-8f65-5942ea07cdfe",
     "showTitle": false,
     "tableResultSettingsMap": {},
     "title": ""
    }
   },
   "source": [
    "```<sql>\n",
    "%sql\n",
    "select Country, sum(Units) as pedidos\n",
    "from pdi_sales_small_csv\n",
    "group by Country\n",
    "order by pedidos desc\n",
    "```"
   ]
  },
  {
   "cell_type": "markdown",
   "metadata": {
    "application/vnd.databricks.v1+cell": {
     "cellMetadata": {
      "byteLimit": 2048000,
      "rowLimit": 10000
     },
     "inputWidgets": {},
     "nuid": "b76b467b-6557-4ae5-9135-02894f2243c8",
     "showTitle": false,
     "tableResultSettingsMap": {},
     "title": ""
    }
   },
   "source": [
    "Si pulsamos sobre el icono del `+` , podemos añadir el resultado de la celda a un dashboard:"
   ]
  },
  {
   "cell_type": "markdown",
   "metadata": {
    "application/vnd.databricks.v1+cell": {
     "cellMetadata": {
      "byteLimit": 2048000,
      "rowLimit": 10000
     },
     "inputWidgets": {},
     "nuid": "9dd6fa52-faf8-4e46-b5db-70c83b0579e2",
     "showTitle": false,
     "tableResultSettingsMap": {},
     "title": ""
    }
   },
   "source": [
    "![](https://community.cloud.databricks.com/files/Notebook_2/12.png)"
   ]
  },
  {
   "cell_type": "markdown",
   "metadata": {
    "application/vnd.databricks.v1+cell": {
     "cellMetadata": {
      "byteLimit": 2048000,
      "rowLimit": 10000
     },
     "inputWidgets": {},
     "nuid": "ab749bdf-d00e-426f-9b62-af2a09c3d4f5",
     "showTitle": false,
     "tableResultSettingsMap": {},
     "title": ""
    }
   },
   "source": [
    "![](https://community.cloud.databricks.com/files/Notebook_2/13.png)"
   ]
  },
  {
   "cell_type": "markdown",
   "metadata": {
    "application/vnd.databricks.v1+cell": {
     "cellMetadata": {
      "byteLimit": 2048000,
      "rowLimit": 10000
     },
     "inputWidgets": {},
     "nuid": "d359dab8-d3fd-4fa3-a371-10500f5eaf5d",
     "showTitle": false,
     "tableResultSettingsMap": {},
     "title": ""
    }
   },
   "source": [
    "![](https://community.cloud.databricks.com/files/Notebook_2/14.png)"
   ]
  },
  {
   "cell_type": "markdown",
   "metadata": {
    "application/vnd.databricks.v1+cell": {
     "cellMetadata": {
      "byteLimit": 2048000,
      "rowLimit": 10000
     },
     "inputWidgets": {},
     "nuid": "0b933269-b8ce-45ba-ba66-c1ab077eb72b",
     "showTitle": false,
     "tableResultSettingsMap": {},
     "title": ""
    }
   },
   "source": [
    "![](https://community.cloud.databricks.com/files/Notebook_2/15.png)"
   ]
  },
  {
   "cell_type": "markdown",
   "metadata": {
    "application/vnd.databricks.v1+cell": {
     "cellMetadata": {
      "byteLimit": 2048000,
      "rowLimit": 10000
     },
     "inputWidgets": {},
     "nuid": "201e4e83-10a5-4dec-b31c-6a0a09320cdb",
     "showTitle": false,
     "tableResultSettingsMap": {},
     "title": ""
    }
   },
   "source": [
    "![](https://community.cloud.databricks.com/files/Notebook_2/16.png)"
   ]
  },
  {
   "cell_type": "markdown",
   "metadata": {
    "application/vnd.databricks.v1+cell": {
     "cellMetadata": {
      "byteLimit": 2048000,
      "rowLimit": 10000
     },
     "inputWidgets": {},
     "nuid": "139dc3ef-2923-4086-bfcf-37312bfa440a",
     "showTitle": false,
     "tableResultSettingsMap": {},
     "title": ""
    }
   },
   "source": [
    "![](https://community.cloud.databricks.com/files/Notebook_2/17.png)"
   ]
  },
  {
   "cell_type": "markdown",
   "metadata": {
    "application/vnd.databricks.v1+cell": {
     "cellMetadata": {
      "byteLimit": 2048000,
      "rowLimit": 10000
     },
     "inputWidgets": {},
     "nuid": "cf1704df-581e-4d39-bc9e-b851dfcfaade",
     "showTitle": false,
     "tableResultSettingsMap": {},
     "title": ""
    }
   },
   "source": [
    "![](https://community.cloud.databricks.com/files/Notebook_2/18.png)"
   ]
  },
  {
   "cell_type": "markdown",
   "metadata": {
    "application/vnd.databricks.v1+cell": {
     "cellMetadata": {
      "byteLimit": 2048000,
      "rowLimit": 10000
     },
     "inputWidgets": {},
     "nuid": "5f441c20-c7c8-41d6-9247-ebfe08e3afbc",
     "showTitle": false,
     "tableResultSettingsMap": {},
     "title": ""
    }
   },
   "source": [
    "![](https://community.cloud.databricks.com/files/Notebook_2/19.png)"
   ]
  },
  {
   "cell_type": "markdown",
   "metadata": {
    "application/vnd.databricks.v1+cell": {
     "cellMetadata": {
      "byteLimit": 2048000,
      "rowLimit": 10000
     },
     "inputWidgets": {},
     "nuid": "e72fb060-714b-4098-a87f-126a4a2429a0",
     "showTitle": false,
     "tableResultSettingsMap": {},
     "title": ""
    }
   },
   "source": [
    "![](https://community.cloud.databricks.com/files/Notebook_2/20.png)"
   ]
  },
  {
   "cell_type": "markdown",
   "metadata": {
    "application/vnd.databricks.v1+cell": {
     "cellMetadata": {
      "byteLimit": 2048000,
      "rowLimit": 10000
     },
     "inputWidgets": {},
     "nuid": "845974b9-d49f-4ed1-a56a-e0bcad0d6838",
     "showTitle": false,
     "tableResultSettingsMap": {},
     "title": ""
    }
   },
   "source": [
    "![](https://community.cloud.databricks.com/files/Notebook_2/21.png)"
   ]
  },
  {
   "cell_type": "markdown",
   "metadata": {
    "application/vnd.databricks.v1+cell": {
     "cellMetadata": {
      "byteLimit": 2048000,
      "rowLimit": 10000
     },
     "inputWidgets": {},
     "nuid": "e0c05a23-40da-4c21-a599-33a536b9fbda",
     "showTitle": false,
     "tableResultSettingsMap": {},
     "title": ""
    }
   },
   "source": [
    "## Actividades"
   ]
  },
  {
   "cell_type": "markdown",
   "metadata": {
    "application/vnd.databricks.v1+cell": {
     "cellMetadata": {
      "byteLimit": 2048000,
      "rowLimit": 10000
     },
     "inputWidgets": {},
     "nuid": "7c6867ff-b3d4-4b5a-8fcd-80f2919a4ff8",
     "showTitle": false,
     "tableResultSettingsMap": {},
     "title": ""
    }
   },
   "source": [
    "En las siguientes actividades vamos a familiarizarnos con el uso del API de DataFrames de Spark.  \n",
    "1. A partir del archivo [nombres.json](https://tajamar365.sharepoint.com/:u:/s/3405-MasterIA2024-2025/ESw3v7IfZAFNqa7Kb05kuu0Bz7hbNQOvX2ZsbtGskFjuJA?e=UUJrbF), crea un DataFrame y realiza las siguientes operaciones:  \n"
   ]
  },
  {
   "cell_type": "code",
   "execution_count": 0,
   "metadata": {
    "application/vnd.databricks.v1+cell": {
     "cellMetadata": {
      "byteLimit": 2048000,
      "rowLimit": 10000
     },
     "inputWidgets": {},
     "nuid": "7b8fb21d-cba6-461c-8bcc-0e41b5ccac70",
     "showTitle": false,
     "tableResultSettingsMap": {},
     "title": ""
    }
   },
   "outputs": [],
   "source": [
    "from pyspark.sql import SparkSession\n",
    "from pyspark.sql.functions import col, lit, current_date, year, monotonically_increasing_id\n",
    "\n",
    "# Crear una sesión de Spark\n",
    "spark = SparkSession.builder.getOrCreate()\n",
    "\n",
    "# Cargar el archivo JSON en un DataFrame\n",
    "df = spark.read.json(\"dbfs:/FileStore/Notebook2/nombres.json\")\n"
   ]
  },
  {
   "cell_type": "markdown",
   "metadata": {
    "application/vnd.databricks.v1+cell": {
     "cellMetadata": {},
     "inputWidgets": {},
     "nuid": "47d7d2ae-bb9f-4c54-87d9-1655b8ae85bd",
     "showTitle": false,
     "tableResultSettingsMap": {},
     "title": ""
    }
   },
   "source": [
    "a. Crea una nueva columna (columna `Mayor30`) que indique si la persona es mayor de 30 años.  \n"
   ]
  },
  {
   "cell_type": "code",
   "execution_count": 0,
   "metadata": {
    "application/vnd.databricks.v1+cell": {
     "cellMetadata": {
      "byteLimit": 2048000,
      "rowLimit": 10000
     },
     "inputWidgets": {},
     "nuid": "908d11f2-72c2-4deb-83d0-a17d01451edf",
     "showTitle": false,
     "tableResultSettingsMap": {},
     "title": ""
    }
   },
   "outputs": [],
   "source": [
    "df = df.withColumn(\"Mayor30\", col(\"Edad\") > 30)\n"
   ]
  },
  {
   "cell_type": "markdown",
   "metadata": {
    "application/vnd.databricks.v1+cell": {
     "cellMetadata": {},
     "inputWidgets": {},
     "nuid": "5a7401b9-ad15-4789-8695-befab44b6d17",
     "showTitle": false,
     "tableResultSettingsMap": {},
     "title": ""
    }
   },
   "source": [
    "b. Crea una nueva columna (columna `FaltanJubilacion`) que calcule cuantos años le faltan para jubilarse (supongamos que se jubila a los 67 años).  \n"
   ]
  },
  {
   "cell_type": "code",
   "execution_count": 0,
   "metadata": {
    "application/vnd.databricks.v1+cell": {
     "cellMetadata": {
      "byteLimit": 2048000,
      "rowLimit": 10000
     },
     "inputWidgets": {},
     "nuid": "89b2959a-410a-48cd-997a-7a121c76f80e",
     "showTitle": false,
     "tableResultSettingsMap": {},
     "title": ""
    }
   },
   "outputs": [],
   "source": [
    "df = df.withColumn(\"FaltanJubilacion\", lit(67) - col(\"Edad\"))\n"
   ]
  },
  {
   "cell_type": "markdown",
   "metadata": {
    "application/vnd.databricks.v1+cell": {
     "cellMetadata": {},
     "inputWidgets": {},
     "nuid": "9958dd07-469b-447e-8f57-c5bf62fd47dd",
     "showTitle": false,
     "tableResultSettingsMap": {},
     "title": ""
    }
   },
   "source": [
    "c. Crea una nueva columna (columna `Apellidos`) que contenga XYZ (puedes utilizar la función [lit](https://spark.apache.org/docs/latest/api/python/reference/pyspark.sql/api/pyspark.sql.functions.lit.html))  \n"
   ]
  },
  {
   "cell_type": "code",
   "execution_count": 0,
   "metadata": {
    "application/vnd.databricks.v1+cell": {
     "cellMetadata": {
      "byteLimit": 2048000,
      "rowLimit": 10000
     },
     "inputWidgets": {},
     "nuid": "11006fae-c94b-4d6e-845a-bb48187a311d",
     "showTitle": false,
     "tableResultSettingsMap": {},
     "title": ""
    }
   },
   "outputs": [],
   "source": [
    "df = df.withColumn(\"Apellidos\", lit(\"XYZ\"))\n"
   ]
  },
  {
   "cell_type": "markdown",
   "metadata": {
    "application/vnd.databricks.v1+cell": {
     "cellMetadata": {},
     "inputWidgets": {},
     "nuid": "cee6981a-89cb-4033-a953-48f8bf88c7dc",
     "showTitle": false,
     "tableResultSettingsMap": {},
     "title": ""
    }
   },
   "source": [
    "d. Elimina las columna `Mayor30` y `Apellidos`.  \n"
   ]
  },
  {
   "cell_type": "code",
   "execution_count": 0,
   "metadata": {
    "application/vnd.databricks.v1+cell": {
     "cellMetadata": {
      "byteLimit": 2048000,
      "rowLimit": 10000
     },
     "inputWidgets": {},
     "nuid": "a88b09a7-9492-469e-96e8-92ffb7c94e3c",
     "showTitle": false,
     "tableResultSettingsMap": {},
     "title": ""
    }
   },
   "outputs": [],
   "source": [
    "df = df.drop(\"Mayor30\", \"Apellidos\")\n"
   ]
  },
  {
   "cell_type": "markdown",
   "metadata": {
    "application/vnd.databricks.v1+cell": {
     "cellMetadata": {},
     "inputWidgets": {},
     "nuid": "8d7e5b67-35cb-4efa-8200-63987bf3f9e6",
     "showTitle": false,
     "tableResultSettingsMap": {},
     "title": ""
    }
   },
   "source": [
    "e. Crea una nueva columna (columna `AnyoNac`) con el año de nacimiento de cada persona (puedes utilizar la función [current_date](https://spark.apache.org/docs/latest/api/python/reference/pyspark.sql/api/pyspark.sql.functions.current_date.html)).  \n"
   ]
  },
  {
   "cell_type": "code",
   "execution_count": 0,
   "metadata": {
    "application/vnd.databricks.v1+cell": {
     "cellMetadata": {
      "byteLimit": 2048000,
      "rowLimit": 10000
     },
     "inputWidgets": {},
     "nuid": "5881274b-7eb9-46ef-97bf-bb9c2434ab66",
     "showTitle": false,
     "tableResultSettingsMap": {},
     "title": ""
    }
   },
   "outputs": [],
   "source": [
    "df = df.withColumn(\"AnyoNac\", year(current_date()) - col(\"Edad\"))\n"
   ]
  },
  {
   "cell_type": "markdown",
   "metadata": {
    "application/vnd.databricks.v1+cell": {
     "cellMetadata": {},
     "inputWidgets": {},
     "nuid": "3ec82279-2813-49bf-8062-1c002850d0b1",
     "showTitle": false,
     "tableResultSettingsMap": {},
     "title": ""
    }
   },
   "source": [
    "f. Añade un id incremental para cada fila (campo `Id`) y haz que al hacer un `show` se vea en primer lugar (puedes utilizar la función [monotonically_increasing_id](https://spark.apache.org/docs/latest/api/python/reference/pyspark.sql/api/pyspark.sql.functions.monotonically_increasing_id.html)) seguidos del `Nombre`, `Edad`, `AnyoNac`, `FaltaJubilacion` y `Ciudad`"
   ]
  },
  {
   "cell_type": "code",
   "execution_count": 0,
   "metadata": {
    "application/vnd.databricks.v1+cell": {
     "cellMetadata": {
      "byteLimit": 2048000,
      "rowLimit": 10000
     },
     "inputWidgets": {},
     "nuid": "1c24272f-72da-4387-a7f6-91ec3df93662",
     "showTitle": false,
     "tableResultSettingsMap": {},
     "title": ""
    }
   },
   "outputs": [],
   "source": [
    "df = df.withColumn(\"Id\", monotonically_increasing_id())\n",
    "\n",
    "# Reordenar las columnas para que 'Id' esté en primer lugar\n",
    "columnas_ordenadas = [\"Id\", \"Nombre\", \"Edad\", \"AnyoNac\", \"FaltanJubilacion\", \"Ciudad\"]\n",
    "df = df.select(columnas_ordenadas)\n"
   ]
  },
  {
   "cell_type": "markdown",
   "metadata": {
    "application/vnd.databricks.v1+cell": {
     "cellMetadata": {
      "byteLimit": 2048000,
      "rowLimit": 10000
     },
     "inputWidgets": {},
     "nuid": "6f3bc4d3-0bd4-4558-a69c-9c93233a1179",
     "showTitle": false,
     "tableResultSettingsMap": {},
     "title": ""
    }
   },
   "source": [
    "Al realizar los seis pasos, el resultado del DataFrame será similar a :"
   ]
  },
  {
   "cell_type": "code",
   "execution_count": 0,
   "metadata": {
    "application/vnd.databricks.v1+cell": {
     "cellMetadata": {
      "byteLimit": 2048000,
      "rowLimit": 10000
     },
     "inputWidgets": {},
     "nuid": "9d8468f0-dd10-496a-850c-47cb065c9265",
     "showTitle": false,
     "tableResultSettingsMap": {},
     "title": ""
    }
   },
   "outputs": [
    {
     "output_type": "stream",
     "name": "stdout",
     "output_type": "stream",
     "text": [
      "+---+------+----+-------+----------------+--------+\n| Id|Nombre|Edad|AnyoNac|FaltanJubilacion|  Ciudad|\n+---+------+----+-------+----------------+--------+\n|  0| Aitor|  45|   1979|              22|   Elche|\n|  1|Marina|  14|   2010|              53|Alicante|\n|  2| Laura|  19|   2005|              48|   Elche|\n|  3| Sonia|  45|   1979|              22|    Aspe|\n|  4| Pedro|null|   null|            null|   Elche|\n+---+------+----+-------+----------------+--------+\n\n"
     ]
    }
   ],
   "source": [
    "df.show()\n"
   ]
  },
  {
   "cell_type": "markdown",
   "metadata": {
    "application/vnd.databricks.v1+cell": {
     "cellMetadata": {
      "byteLimit": 2048000,
      "rowLimit": 10000
     },
     "inputWidgets": {},
     "nuid": "ae401c66-18f7-4422-a062-40c76eb53480",
     "showTitle": false,
     "tableResultSettingsMap": {},
     "title": ""
    }
   },
   "source": [
    "![](https://community.cloud.databricks.com/files/Notebook_2/77.png)"
   ]
  },
  {
   "cell_type": "markdown",
   "metadata": {
    "application/vnd.databricks.v1+cell": {
     "cellMetadata": {
      "byteLimit": 2048000,
      "rowLimit": 10000
     },
     "inputWidgets": {},
     "nuid": "aa779538-e096-4c51-a782-c6f5e3e8a448",
     "showTitle": false,
     "tableResultSettingsMap": {},
     "title": ""
    }
   },
   "source": [
    "2. A partir del archivo [VentasNulos.csv](https://tajamar365.sharepoint.com/:x:/s/3405-MasterIA2024-2025/EUP8X8fQMpNJv5DNBzu9cXUBNy5gSjYkjiFb5yyAfyvtfw?e=eruozp):  \n",
    "\n"
   ]
  },
  {
   "cell_type": "code",
   "execution_count": 0,
   "metadata": {
    "application/vnd.databricks.v1+cell": {
     "cellMetadata": {
      "byteLimit": 2048000,
      "rowLimit": 10000
     },
     "inputWidgets": {},
     "nuid": "700441f2-c0b7-4fe2-b8c6-453a7d36758f",
     "showTitle": false,
     "tableResultSettingsMap": {},
     "title": ""
    }
   },
   "outputs": [],
   "source": [
    "from pyspark.sql import SparkSession\n",
    "from pyspark.sql.functions import col, avg, min, lit\n",
    "\n",
    "# Crear una sesión de Spark\n",
    "spark = SparkSession.builder.getOrCreate()\n",
    "\n",
    "# Cargar el archivo CSV en un DataFrame\n",
    "df = spark.read.option(\"header\", True).option(\"inferSchema\", True).csv(\"dbfs:/FileStore/Notebook2/VentasNulos.csv\")\n"
   ]
  },
  {
   "cell_type": "markdown",
   "metadata": {
    "application/vnd.databricks.v1+cell": {
     "cellMetadata": {},
     "inputWidgets": {},
     "nuid": "69cdbdcc-cd95-4061-9884-d4e2ac99f4c4",
     "showTitle": false,
     "tableResultSettingsMap": {},
     "title": ""
    }
   },
   "source": [
    "a. Elimina las filas que tengan al menos 4 nulos.  \n"
   ]
  },
  {
   "cell_type": "code",
   "execution_count": 0,
   "metadata": {
    "application/vnd.databricks.v1+cell": {
     "cellMetadata": {
      "byteLimit": 2048000,
      "rowLimit": 10000
     },
     "inputWidgets": {},
     "nuid": "b789fcd2-05b0-4830-bc61-11529fa1ef7b",
     "showTitle": false,
     "tableResultSettingsMap": {},
     "title": ""
    }
   },
   "outputs": [],
   "source": [
    "df = df.dropna(thresh=4)\n"
   ]
  },
  {
   "cell_type": "markdown",
   "metadata": {
    "application/vnd.databricks.v1+cell": {
     "cellMetadata": {},
     "inputWidgets": {},
     "nuid": "2dada908-cf08-4af3-88dc-13399228708b",
     "showTitle": false,
     "tableResultSettingsMap": {},
     "title": ""
    }
   },
   "source": [
    "b. Con las filas restantes, sustituye:  \n",
    "  i. Los nombres nulos por Empleado  \n",
    "  "
   ]
  },
  {
   "cell_type": "code",
   "execution_count": 0,
   "metadata": {
    "application/vnd.databricks.v1+cell": {
     "cellMetadata": {
      "byteLimit": 2048000,
      "rowLimit": 10000
     },
     "inputWidgets": {},
     "nuid": "94669157-036e-4a67-8da4-626685286499",
     "showTitle": false,
     "tableResultSettingsMap": {},
     "title": ""
    }
   },
   "outputs": [],
   "source": [
    "df = df.fillna({\"Nombre\": \"Empleado\"})\n"
   ]
  },
  {
   "cell_type": "markdown",
   "metadata": {
    "application/vnd.databricks.v1+cell": {
     "cellMetadata": {},
     "inputWidgets": {},
     "nuid": "7986e5ad-10e8-42df-b6c3-9c985573dad6",
     "showTitle": false,
     "tableResultSettingsMap": {},
     "title": ""
    }
   },
   "source": [
    "ii. Las ventas nulas por la media de las ventas de los compañeros (redondeado a entero).\n",
    "      > **Agrupando:** Para obtener la media, aunque lo veremos en la próxima sesión, debes agrupar y luego obtener la media de la columna:  \n",
    "      > `valor = df.groupBy().avg('Ventas')`   \n",
    "\n",
    "    "
   ]
  },
  {
   "cell_type": "code",
   "execution_count": 0,
   "metadata": {
    "application/vnd.databricks.v1+cell": {
     "cellMetadata": {
      "byteLimit": 2048000,
      "rowLimit": 10000
     },
     "inputWidgets": {},
     "nuid": "129da6ac-da2e-4787-b74a-9f30f0666012",
     "showTitle": false,
     "tableResultSettingsMap": {},
     "title": ""
    }
   },
   "outputs": [],
   "source": [
    "# Calcular la media de las ventas\n",
    "valor_ventas_media = df.groupBy().avg('Ventas').collect()[0][0]\n",
    "valor_ventas_media_redondeado = int(round(valor_ventas_media))\n",
    "\n",
    "# Rellenar los valores nulos en la columna 'Ventas' con la media redondeada\n",
    "df = df.fillna({\"Ventas\": valor_ventas_media_redondeado})\n"
   ]
  },
  {
   "cell_type": "markdown",
   "metadata": {
    "application/vnd.databricks.v1+cell": {
     "cellMetadata": {},
     "inputWidgets": {},
     "nuid": "b91b8030-2cd0-4e2a-89f7-1f9536ac7ebd",
     "showTitle": false,
     "tableResultSettingsMap": {},
     "title": ""
    }
   },
   "source": [
    "iii. Los euros nulos por el valor del compañero que menos € ha ganado. (tras agrupar, puedes usar la función `min`)  \n",
    "      "
   ]
  },
  {
   "cell_type": "code",
   "execution_count": 0,
   "metadata": {
    "application/vnd.databricks.v1+cell": {
     "cellMetadata": {
      "byteLimit": 2048000,
      "rowLimit": 10000
     },
     "inputWidgets": {},
     "nuid": "07933576-7a99-4ab8-a9e9-b5d6ef535d37",
     "showTitle": false,
     "tableResultSettingsMap": {},
     "title": ""
    }
   },
   "outputs": [],
   "source": [
    "# Calcular el valor mínimo de la columna 'Euros'\n",
    "valor_euros_minimo = df.groupBy().min('Euros').collect()[0][0]\n",
    "\n",
    "# Rellenar los valores nulos en la columna 'Euros' con el valor mínimo\n",
    "df = df.fillna({\"Euros\": valor_euros_minimo})\n"
   ]
  },
  {
   "cell_type": "markdown",
   "metadata": {
    "application/vnd.databricks.v1+cell": {
     "cellMetadata": {},
     "inputWidgets": {},
     "nuid": "d133cb40-6d9e-4728-9f38-17c2da324fbc",
     "showTitle": false,
     "tableResultSettingsMap": {},
     "title": ""
    }
   },
   "source": [
    "iv. La ciudad nula por `C.V`. y el identificador nulo por `XYZ`.  \n",
    "\n",
    "Para los pasos ii) y iii)  puedes crear un DataFrame que obtenga el valor a asignar y luego pasarlo como parámetro al método para rellenar los nulos."
   ]
  },
  {
   "cell_type": "code",
   "execution_count": 0,
   "metadata": {
    "application/vnd.databricks.v1+cell": {
     "cellMetadata": {
      "byteLimit": 2048000,
      "rowLimit": 10000
     },
     "inputWidgets": {},
     "nuid": "a6df5b21-a118-420a-9431-c22ba07d15af",
     "showTitle": false,
     "tableResultSettingsMap": {},
     "title": ""
    }
   },
   "outputs": [],
   "source": [
    "df = df.fillna({\"Ciudad\": \"C.V.\", \"Identificador\": \"XYZ\"})\n"
   ]
  },
  {
   "cell_type": "markdown",
   "metadata": {
    "application/vnd.databricks.v1+cell": {
     "cellMetadata": {},
     "inputWidgets": {},
     "nuid": "e8eaf6ea-f382-497d-914b-289b7f79a815",
     "showTitle": false,
     "tableResultSettingsMap": {},
     "title": ""
    }
   },
   "source": [
    "Mostrar resultados"
   ]
  },
  {
   "cell_type": "code",
   "execution_count": 0,
   "metadata": {
    "application/vnd.databricks.v1+cell": {
     "cellMetadata": {
      "byteLimit": 2048000,
      "rowLimit": 10000
     },
     "inputWidgets": {},
     "nuid": "789f2f03-f725-4c29-ad0f-69eb9e672759",
     "showTitle": false,
     "tableResultSettingsMap": {},
     "title": ""
    }
   },
   "outputs": [
    {
     "output_type": "stream",
     "name": "stdout",
     "output_type": "stream",
     "text": [
      "+--------+------+-----+-----------+-------------+\n|  Nombre|Ventas|Euros|     Ciudad|Identificador|\n+--------+------+-----+-----------+-------------+\n|    Pepe|     4|  200|      Elche|          X21|\n|   Pedro|     1|   30|   Valencia|          R23|\n|  Marina|     3|  350|       Aspe|          V55|\n|Empleado|    10|  500|Crevillente|          AMV|\n|     Ana|    10| 2300|   Alicante|          B89|\n+--------+------+-----+-----------+-------------+\n\n"
     ]
    }
   ],
   "source": [
    "df.show()\n"
   ]
  },
  {
   "cell_type": "markdown",
   "metadata": {
    "application/vnd.databricks.v1+cell": {
     "cellMetadata": {
      "byteLimit": 2048000,
      "rowLimit": 10000
     },
     "inputWidgets": {},
     "nuid": "46534a3f-1ef6-4a88-a649-e184db9333cd",
     "showTitle": false,
     "tableResultSettingsMap": {},
     "title": ""
    }
   },
   "source": [
    "3.  A partir del archivo [movies.tsv](https://tajamar365.sharepoint.com/:u:/s/3405-MasterIA2024-2025/Ef-LbTw0tw1JgYAXrl-zdQQBw73LyG0oknmFzxbs01CL8w?e=AC8asA), crea una esquema de forma declarativa con los campos:\n",
    "  \n",
    "a. interprete de tipo string\n",
    "\n",
    "b. pelicula de tipo string\n",
    "\n",
    "c. anyo de tipo int\n",
    "\n"
   ]
  },
  {
   "cell_type": "code",
   "execution_count": 0,
   "metadata": {
    "application/vnd.databricks.v1+cell": {
     "cellMetadata": {
      "byteLimit": 2048000,
      "rowLimit": 10000
     },
     "inputWidgets": {},
     "nuid": "73fb1e1f-a78b-47fe-9e50-2070d70ece1a",
     "showTitle": false,
     "tableResultSettingsMap": {},
     "title": ""
    }
   },
   "outputs": [],
   "source": [
    "from pyspark.sql import SparkSession\n",
    "from pyspark.sql.types import StructType, StructField, StringType, IntegerType\n",
    "\n",
    "# Crear una sesión de Spark\n",
    "spark = SparkSession.builder.getOrCreate()\n",
    "\n",
    "# Definir el esquema para el archivo movies.tsv\n",
    "esquema = StructType([\n",
    "    StructField(\"interprete\", StringType(), True),\n",
    "    StructField(\"pelicula\", StringType(), True),\n",
    "    StructField(\"anyo\", IntegerType(), True)\n",
    "])\n",
    "\n",
    "# Cargar los datos en un DataFrame\n",
    "df = spark.read.option(\"header\", False).option(\"sep\", \"\\t\").schema(esquema).csv(\"dbfs:/FileStore/Notebook2/movies.tsv\")\n"
   ]
  },
  {
   "cell_type": "markdown",
   "metadata": {
    "application/vnd.databricks.v1+cell": {
     "cellMetadata": {},
     "inputWidgets": {},
     "nuid": "76b78466-c8ed-4632-8e8c-e34bbf52d837",
     "showTitle": false,
     "tableResultSettingsMap": {},
     "title": ""
    }
   },
   "source": [
    "Cada fila del fichero implica que el actor/actriz ha trabajado en dicha película en el año indicado.  \n",
    "a. Una vez creado el esquema, carga los datos en un DataFrame.  \n"
   ]
  },
  {
   "cell_type": "code",
   "execution_count": 0,
   "metadata": {
    "application/vnd.databricks.v1+cell": {
     "cellMetadata": {
      "byteLimit": 2048000,
      "rowLimit": 10000
     },
     "inputWidgets": {},
     "nuid": "6b5a84f7-afec-4218-b256-7cdb821f0d0e",
     "showTitle": false,
     "tableResultSettingsMap": {},
     "title": ""
    }
   },
   "outputs": [],
   "source": [
    "# Cargar el archivo TSV en un DataFrame utilizando el esquema definido\n",
    "df = spark.read.option(\"header\", False).option(\"sep\", \"\\t\").schema(esquema).csv(\"dbfs:/FileStore/Notebook2/movies.tsv\")\n"
   ]
  },
  {
   "cell_type": "markdown",
   "metadata": {
    "application/vnd.databricks.v1+cell": {
     "cellMetadata": {},
     "inputWidgets": {},
     "nuid": "703b2356-8b9f-4866-81fa-5751440bf3e2",
     "showTitle": false,
     "tableResultSettingsMap": {},
     "title": ""
    }
   },
   "source": [
    "A continuación, mediante el DataFrame API:  \n",
    "b. Muestra las películas en las que ha trabajado Murphy, Eddie (I).  \n"
   ]
  },
  {
   "cell_type": "code",
   "execution_count": 0,
   "metadata": {
    "application/vnd.databricks.v1+cell": {
     "cellMetadata": {
      "byteLimit": 2048000,
      "rowLimit": 10000
     },
     "inputWidgets": {},
     "nuid": "6309512f-8e59-49d6-a567-610458f6a90f",
     "showTitle": false,
     "tableResultSettingsMap": {},
     "title": ""
    }
   },
   "outputs": [
    {
     "output_type": "stream",
     "name": "stdout",
     "output_type": "stream",
     "text": [
      "+--------------------+\n|            pelicula|\n+--------------------+\n|            Showtime|\n|              Norbit|\n|Hot Tub Time Machine|\n|Nutty Professor I...|\n|Beverly Hills Cop II|\n|      Trading Places|\n|      Daddy Day Care|\n|      Dr. Dolittle 2|\n| Shrek Forever After|\n|   Beverly Hills Cop|\n|               Shrek|\n| The Haunted Mansion|\n|   Coming to America|\n|             Shrek 2|\n|     Doctor Dolittle|\n| The Nutty Professor|\n|               Mulan|\n|         Tower Heist|\n|          Dreamgirls|\n|           Bowfinger|\n+--------------------+\nonly showing top 20 rows\n\n"
     ]
    }
   ],
   "source": [
    "# Filtrar las películas en las que ha trabajado Murphy, Eddie (I)\n",
    "peliculas_murphy = df.filter(df.interprete == \"Murphy, Eddie (I)\").select(\"pelicula\")\n",
    "\n",
    "# Mostrar el resultado\n",
    "peliculas_murphy.show()\n"
   ]
  },
  {
   "cell_type": "markdown",
   "metadata": {
    "application/vnd.databricks.v1+cell": {
     "cellMetadata": {},
     "inputWidgets": {},
     "nuid": "926627cb-1111-4115-b0c8-84b08263a642",
     "showTitle": false,
     "tableResultSettingsMap": {},
     "title": ""
    }
   },
   "source": [
    "c. Muestra los intérpretes que aparecen tanto en Superman como en Superman II."
   ]
  },
  {
   "cell_type": "code",
   "execution_count": 0,
   "metadata": {
    "application/vnd.databricks.v1+cell": {
     "cellMetadata": {
      "byteLimit": 2048000,
      "rowLimit": 10000
     },
     "inputWidgets": {},
     "nuid": "a3dc56f9-8bd8-413f-9556-4d7f3eb4aaa2",
     "showTitle": false,
     "tableResultSettingsMap": {},
     "title": ""
    }
   },
   "outputs": [
    {
     "output_type": "stream",
     "name": "stdout",
     "output_type": "stream",
     "text": [
      "+------------------+\n|        interprete|\n+------------------+\n|  O'Halloran, Jack|\n|   Tucker, Burnell|\n|  Hollis, John (I)|\n|       Beatty, Ned|\n|    Stamp, Terence|\n|Ratzenberger, John|\n|     Hackman, Gene|\n|    Fielder, Harry|\n|  Perrine, Valerie|\n| McClure, Marc (I)|\n|   Donner, Richard|\n+------------------+\n\n"
     ]
    }
   ],
   "source": [
    "# Filtrar los intérpretes que han trabajado en Superman\n",
    "interpretes_superman = df.filter(df.pelicula == \"Superman\").select(\"interprete\")\n",
    "\n",
    "# Filtrar los intérpretes que han trabajado en Superman II\n",
    "interpretes_superman_ii = df.filter(df.pelicula == \"Superman II\").select(\"interprete\")\n",
    "\n",
    "# Encontrar los intérpretes que aparecen en ambas películas utilizando intersect\n",
    "interpretes_comunes = interpretes_superman.intersect(interpretes_superman_ii)\n",
    "\n",
    "# Mostrar el resultado\n",
    "interpretes_comunes.show()\n"
   ]
  },
  {
   "cell_type": "markdown",
   "metadata": {
    "application/vnd.databricks.v1+cell": {
     "cellMetadata": {},
     "inputWidgets": {},
     "nuid": "d1f5a394-3e50-44fc-b7bd-e49d77bf1a6d",
     "showTitle": false,
     "tableResultSettingsMap": {},
     "title": ""
    }
   },
   "source": []
  }
 ],
 "metadata": {
  "application/vnd.databricks.v1+notebook": {
   "dashboards": [],
   "environmentMetadata": null,
   "language": "python",
   "notebookMetadata": {
    "pythonIndentUnit": 2
   },
   "notebookName": "2",
   "widgets": {}
  }
 },
 "nbformat": 4,
 "nbformat_minor": 0
}
